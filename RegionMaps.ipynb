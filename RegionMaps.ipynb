{
 "cells": [
  {
   "cell_type": "markdown",
   "metadata": {
    "colab_type": "text",
    "id": "9iqQomRkRGm2"
   },
   "source": [
    "| ![EEW logo](https://github.com/edgi-govdata-archiving/EEW-Image-Assets/blob/master/Jupyter%20instructions/eew.jpg?raw=true) | ![EDGI logo](https://github.com/edgi-govdata-archiving/EEW-Image-Assets/blob/master/Jupyter%20instructions/edgi.png?raw=true) |\n",
    "|---|---|\n",
    "\n",
    "#### This notebook is licensed under GPL 3.0. Please visit our Github repo for more information: https://github.com/edgi-govdata-archiving/ECHO-COVID19\n",
    "#### The notebook was collaboratively authored by EDGI following our authorship protocol: https://docs.google.com/document/d/1CtDN5ZZ4Zv70fHiBTmWkDJ9mswEipX6eCYrwicP66Xw/\n",
    "#### For more information about this project, visit https://www.environmentalenforcementwatch.org/"
   ]
  },
  {
   "cell_type": "markdown",
   "metadata": {
    "colab_type": "text",
    "id": "Y2ld3IVjRGm3"
   },
   "source": [
    "# Produce HTML map files for Congressional Districts or States\n",
    "\n",
    "This notebook is a subset of the cells in the full AllPrograms notebook.  This notebook will take the congressional districts and/or states specified in cell #3 and produce an HTML map in the Outputs directory.  For congressional districts the map will show markers of all facilities.  The number of facilities in a state is generally so large that an HTML containing all of them will not run in a browser, so markers are not produced on the maps for states."
   ]
  },
  {
   "cell_type": "markdown",
   "metadata": {
    "colab_type": "text",
    "id": "g_Q7wCmjRGm5"
   },
   "source": [
    "## How to Run\n",
    "* A \"cell\" in a Jupyter notebook is a block of code performing a set of actions making available or using specific data.  The notebook works by running one cell after another, as the notebook user selects offered options.\n",
    "* If you click on a gray **code** cell, a little “play button” arrow appears on the left. If you click the play button, it will run the code in that cell (“**running** a cell”). The button will animate. When the animation stops, the cell has finished running.\n",
    "![Where to click to run the cell](https://github.com/edgi-govdata-archiving/EEW-Image-Assets/blob/master/Jupyter%20instructions/pressplay.JPG?raw=true)\n",
    "* You may get a warning that the notebook was not authored by Google. We know, we authored them! It’s okay. Click “Run Anyway” to continue. \n",
    "![Error Message](https://github.com/edgi-govdata-archiving/EEW-Image-Assets/blob/master/Jupyter%20instructions/warning-message.JPG?raw=true)\n",
    "* **It is important to run cells in order because they depend on each other.**\n",
    "* Run all of the cells in a Notebook to make a complete report. Please feel free to look at and **learn about each result as you create it**!"
   ]
  },
  {
   "cell_type": "markdown",
   "metadata": {
    "colab_type": "text",
    "id": "H0o5UIQFRGm7"
   },
   "source": [
    "---"
   ]
  },
  {
   "cell_type": "markdown",
   "metadata": {
    "colab_type": "text",
    "id": "gGXDiht8RGm8"
   },
   "source": [
    "# **Let's begin!**"
   ]
  },
  {
   "cell_type": "markdown",
   "metadata": {
    "colab_type": "text",
    "id": "SBuGoozCRGm9"
   },
   "source": [
    "Hover over the \"[ ]\" on the top left corner of the cell below and you should see a \"play\" button appear. Click on it to run the cell then move to the next one.\n",
    "\n",
    "These first two cells give us access to some external Python code we will need."
   ]
  },
  {
   "cell_type": "markdown",
   "metadata": {
    "colab_type": "text",
    "id": "oP0y1jSyRGnA"
   },
   "source": [
    "### 1.  Bring in some code that is stored in a Github project.\n",
    "These two github repositories hold Python code that the notebook uses.\n",
    "* ECHO_modules holds code that can be used in this and other notebooks--the DataSet class, the make_data_sets() function, etc.\n",
    "* The ECHO-Cross-Program repository is the one this notebook is contained in.  We clone it to be able to use the utilities.py file contained in it."
   ]
  },
  {
   "cell_type": "code",
   "execution_count": null,
   "metadata": {
    "colab": {},
    "colab_type": "code",
    "id": "Nw8lXKinRGnB",
    "tags": []
   },
   "outputs": [],
   "source": [
    "!git clone https://github.com/edgi-govdata-archiving/ECHO_modules.git\n",
    "!git clone https://github.com/edgi-govdata-archiving/ECHO-Cross-Program.git\n",
    "!pip install geopandas\n",
    "print(\"Done!\")"
   ]
  },
  {
   "cell_type": "markdown",
   "metadata": {
    "colab_type": "text",
    "id": "daR24kpcRGnJ"
   },
   "source": [
    "### 2.  Run a few Python modules.\n",
    "These will help us process and visualize the different program data sets later.\n",
    "* The DataSet class knows how to read the database for an ECHO data set--e.g. CWA Violations.\n",
    "* The utilities.py has Python code that helps with showing charts and maps, making filenames, etc.\n",
    "* The make_data_set.py has code that creates a DataSet object for each of the ECHO data sets, using the appropriate database tables.  "
   ]
  },
  {
   "cell_type": "code",
   "execution_count": null,
   "metadata": {
    "colab": {},
    "colab_type": "code",
    "id": "m0PffnzyRGnJ",
    "tags": []
   },
   "outputs": [],
   "source": [
    "%run ECHO_modules/DataSet.py\n",
    "%run ECHO-Cross-Program/utilities.py\n",
    "%run ECHO_modules/make_data_sets.py\n",
    "print(\"Done!\")"
   ]
  },
  {
   "cell_type": "markdown",
   "metadata": {
    "colab_type": "text",
    "id": "PFfUck2iRGnP"
   },
   "source": [
    "### 3.  This cell contains the parameters of the notebook run.  You can change the (state, CD) pairs to run the notebook for multiple congressional districts in multiple states.  After setting the (state, CD) pairs you want, you can instruct the notebook to Run All and it will step through all of the remaining cells.  You can then come back and examine the results."
   ]
  },
  {
   "cell_type": "code",
   "execution_count": null,
   "metadata": {
    "colab": {},
    "colab_type": "code",
    "id": "inOzKoR3RGnQ"
   },
   "outputs": [],
   "source": [
    "region_type = 'Congressional District'\n",
    "should_make_charts = False\n",
    "read_cds_from_csv = True\n",
    "cds_filename = 'cds_todo/test_todo_3.csv'\n",
    "state_cds = []\n",
    "if ( read_cds_from_csv ):\n",
    "    from csv import reader\n",
    "    with open( cds_filename, 'r' ) as read_obj:\n",
    "        csv_reader = reader( read_obj )\n",
    "        raw_state_cds = list( map( tuple, csv_reader ))\n",
    "    state_cds = []\n",
    "    for state, cd in raw_state_cds:\n",
    "        if ( cd == '0' ):\n",
    "            cd = None\n",
    "        else:\n",
    "            cd = int( cd )\n",
    "        state_cds.append((state,cd))\n",
    "# Specify the state/CD pairs to run. They will be added to any that\n",
    "# were already read from the file.\n",
    "# Examples:\n",
    "# state_cds.extend([('AL',4)])\n",
    "\n",
    "# data_set_list = ['RCRA Violations', 'RCRA Penalties',\n",
    "#                  'CAA Violations', 'CAA Penalties',\n",
    "#                  'CWA Violations', 'CWA Penalties', ] \n",
    "                 #CAA Enforcements, CWA Enforcements, RCRA Enforcements\n",
    "data_set_list = ['RCRA Violations', 'RCRA Inspections', 'RCRA Penalties',\n",
    "                 'CAA Violations', 'CAA Inspections', 'CAA Penalties', 'Greenhouse Gas Emissions', \n",
    "                 'CWA Violations', 'CWA Inspections', 'CWA Penalties', ] \n"
   ]
  },
  {
   "cell_type": "markdown",
   "metadata": {
    "colab_type": "text",
    "id": "9hDVHaLTRGnw"
   },
   "source": [
    "### 4. Get the State data for comparisons\n",
    "Ask the database for ECHO_EXPORTER records for facilities in the state.\n",
    "* state_echo_data is a dictionary with the state name as key and the data as value, for all records.\n",
    "* state_echo_active is a dictionary for all records in state_echo_data identified as active."
   ]
  },
  {
   "cell_type": "code",
   "execution_count": null,
   "metadata": {
    "colab": {},
    "colab_type": "code",
    "id": "gdjq3_8kRGnx",
    "tags": []
   },
   "outputs": [],
   "source": [
    "states = list(set([s_cd[0] for s_cd in state_cds]))  #Use conversion to set to make unique\n",
    "state_echo_data = {}\n",
    "state_echo_active = {}\n",
    "for state in states:\n",
    "    state_echo_data[state] = read_file( 'ECHO_EXPORTER', 'State', state, None )\n",
    "    if ( state_echo_data[state] is None ):\n",
    "        sql = 'select * from \"ECHO_EXPORTER\" where \"FAC_STATE\" = \\'{}\\''.format( state )\n",
    "        state_echo_data[state] = get_data( sql, 'REGISTRY_ID' )\n",
    "    state_echo_active[state] = state_echo_data[state].loc[state_echo_data[state]['FAC_ACTIVE_FLAG']=='Y']\n",
    "    print( 'There are {} active facilities in {}.'.format( \n",
    "        str(state_echo_active[state].shape[0]), state))"
   ]
  },
  {
   "cell_type": "markdown",
   "metadata": {
    "colab_type": "text",
    "id": "Mwbyr4MMRGn2"
   },
   "source": [
    "### 5. Number of currently active facilities regulated in CAA, CWA, RCRRA, GHGRP\n",
    "\n",
    "* cd_echo_data is a dictionary with key (state, cd), where the state_echo_data is filtered for records of the current CD.\n",
    "* cd_echo_active is a dictionary for active facilities in the CD.\n",
    "* The number of records from these dictionaries is written into a file named like 'active-facilities_All_pg3', in a directory identified by the state and CD, e.g. \"LA2\"."
   ]
  },
  {
   "cell_type": "code",
   "execution_count": null,
   "metadata": {
    "colab": {},
    "colab_type": "code",
    "id": "w7ODiXctRGn3",
    "scrolled": true,
    "tags": []
   },
   "outputs": [],
   "source": [
    "\n",
    "cd_echo_data = {}\n",
    "cd_echo_active = {}\n",
    "for state, cd in state_cds:\n",
    "    if ( cd is None ):\n",
    "        this_echo_data = state_echo_data[state]\n",
    "    else:\n",
    "        this_echo_data = state_echo_data[state].loc[state_echo_data[state]['FAC_DERIVED_CD113'] == cd]\n",
    "        cd_echo_data[(state,cd)] = this_echo_data\n",
    "    this_echo_active = this_echo_data.loc[this_echo_data['FAC_ACTIVE_FLAG']=='Y']\n",
    "    if ( cd is not None ):\n",
    "        cd_echo_active[(state,cd)] = this_echo_active\n"
   ]
  },
  {
   "cell_type": "markdown",
   "metadata": {
    "colab_type": "text",
    "id": "u3HCcCBIRGn_"
   },
   "source": [
    "### 6. Map all currently active facilities in each district"
   ]
  },
  {
   "cell_type": "code",
   "execution_count": null,
   "metadata": {
    "colab": {},
    "colab_type": "code",
    "id": "CBzcH7JbRGoA",
    "tags": []
   },
   "outputs": [],
   "source": [
    "import geopandas\n",
    "from selenium import webdriver\n",
    "import time\n",
    "\n",
    "driver = webdriver.Chrome()\n",
    "driver.set_window_size( 550, 510 )\n",
    "\n",
    "for state, cd in state_cds:\n",
    "    print( 'Map for {} CD {}'.format( state, cd ))\n",
    "    if ( cd is None ):\n",
    "        this_data = state_echo_active[state]\n",
    "        # There are too many facilities in most states to successfully plot on a map.\n",
    "        f_map = folium.Map( location=[this_data.mean()['FAC_LAT'], this_data.mean()['FAC_LONG']])\n",
    "        url = \"https://github.com/edgi-govdata-archiving/ECHO-Geo/raw/main/states.geojson\"\n",
    "        state_boundary = geopandas.read_file( url )\n",
    "        state_data = state_boundary[ state_boundary['STUSPS'] == state ]\n",
    "        w = folium.GeoJson( state_data, name=\"State\" ).add_to( f_map )\n",
    "        # filename = make_filename( 'map', 'State', \n",
    "        #                    None, state, 'html' )\n",
    "        filename = '{}_map'.format( state )\n",
    "    else:\n",
    "        url = \"https://raw.githubusercontent.com/unitedstates/districts/gh-pages/cds/2012/{}-{}/shape.geojson\".format( state, str(cd))       \n",
    "        cd_boundary = geopandas.read_file(url)\n",
    "        bounds = cd_boundary.bounds\n",
    "        this_data = cd_echo_active[(state, cd)]\n",
    "        # Only map CAA, CWA, RCRA, or GHG facilities active in this district:\n",
    "        map_df = this_data.loc[(this_data['AIR_FLAG']==\"Y\") | (this_data['NPDES_FLAG']==\"Y\") | \\\n",
    "            (this_data['RCRA_FLAG']==\"Y\")| (this_data['GHG_FLAG']==\"Y\")]\n",
    "        f_map = mapper(df=map_df, bounds=bounds, no_text=True)\n",
    "        w = folium.GeoJson( cd_boundary, name = \"Congressional Districts\", \n",
    "                          ).add_to( f_map ) \n",
    "        # breakpoint()\n",
    "        # display( m[(state,cd)] )\n",
    "        # filename = make_filename( 'map', 'Congressional District', \n",
    "        #                     state, cd, 'html' )\n",
    "        filename = '{}{}_map'.format( state, str(cd) )\n",
    "    f_map.save( '/var/www/html/EDGI/{}.html'.format( filename ))\n",
    "\n",
    "    driver.get( 'http://localhost/EDGI/{}.html'.format( filename ))\n",
    "    time.sleep( 6 )\n",
    "    driver.save_screenshot( 'Output/CD_maps/{}.png'.format( filename ))\n"
   ]
  },
  {
   "cell_type": "code",
   "execution_count": null,
   "metadata": {},
   "outputs": [],
   "source": []
  }
 ],
 "metadata": {
  "colab": {
   "name": "AllPrograms.ipynb",
   "provenance": []
  },
  "kernelspec": {
   "display_name": "Python 3",
   "language": "python",
   "name": "python3"
  },
  "language_info": {
   "codemirror_mode": {
    "name": "ipython",
    "version": 3
   },
   "file_extension": ".py",
   "mimetype": "text/x-python",
   "name": "python",
   "nbconvert_exporter": "python",
   "pygments_lexer": "ipython3",
   "version": "3.7.6"
  }
 },
 "nbformat": 4,
 "nbformat_minor": 1
}
