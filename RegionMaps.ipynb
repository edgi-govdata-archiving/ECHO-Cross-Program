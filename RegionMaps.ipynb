{
 "cells": [
  {
   "cell_type": "markdown",
   "metadata": {
    "colab_type": "text",
    "id": "9iqQomRkRGm2"
   },
   "source": [
    "| ![EEW logo](https://github.com/edgi-govdata-archiving/EEW-Image-Assets/blob/master/Jupyter%20instructions/eew.jpg?raw=true) | ![EDGI logo](https://github.com/edgi-govdata-archiving/EEW-Image-Assets/blob/master/Jupyter%20instructions/edgi.png?raw=true) |\n",
    "|---|---|\n",
    "\n",
    "#### This notebook is licensed under GPL 3.0. Please visit our Github repo for more information: https://github.com/edgi-govdata-archiving/ECHO-COVID19\n",
    "#### The notebook was collaboratively authored by EDGI following our authorship protocol: https://docs.google.com/document/d/1CtDN5ZZ4Zv70fHiBTmWkDJ9mswEipX6eCYrwicP66Xw/\n",
    "#### For more information about this project, visit https://www.environmentalenforcementwatch.org/"
   ]
  },
  {
   "cell_type": "markdown",
   "metadata": {
    "colab_type": "text",
    "id": "Y2ld3IVjRGm3"
   },
   "source": [
    "# Examining Data from Multiple EPA Programs\n",
    "\n",
    "This notebook examines data from the EPA's Enforcement and Compliance History Online (ECHO) database (https://echo.epa.gov/). It includes information from EPA's programs covering air quality (the Clean Air Act, or CAA), water quality (the Clean Water Act, or CWA), and hazardous and other waste processing (the Resource Recovery and Conservation Act, or RCRA). \n",
    "\n",
    "ECHO data is available for facility violations as well as inspections and enforcement actions by EPA, state and other agencies. The data made accessible here runs from the present day (the database is refreshed weekly) back to 2001, which is when the EPA believes the data to be most reliable. The notebook can be run to produce data for multiple Congressional Districts and states of your choosing. "
   ]
  },
  {
   "cell_type": "markdown",
   "metadata": {
    "colab_type": "text",
    "id": "g_Q7wCmjRGm5"
   },
   "source": [
    "## How to Run\n",
    "* A \"cell\" in a Jupyter notebook is a block of code performing a set of actions making available or using specific data.  The notebook works by running one cell after another, as the notebook user selects offered options.\n",
    "* If you click on a gray **code** cell, a little “play button” arrow appears on the left. If you click the play button, it will run the code in that cell (“**running** a cell”). The button will animate. When the animation stops, the cell has finished running.\n",
    "![Where to click to run the cell](https://github.com/edgi-govdata-archiving/EEW-Image-Assets/blob/master/Jupyter%20instructions/pressplay.JPG?raw=true)\n",
    "* You may get a warning that the notebook was not authored by Google. We know, we authored them! It’s okay. Click “Run Anyway” to continue. \n",
    "![Error Message](https://github.com/edgi-govdata-archiving/EEW-Image-Assets/blob/master/Jupyter%20instructions/warning-message.JPG?raw=true)\n",
    "* **It is important to run cells in order because they depend on each other.**\n",
    "* Run all of the cells in a Notebook to make a complete report. Please feel free to look at and **learn about each result as you create it**!"
   ]
  },
  {
   "cell_type": "markdown",
   "metadata": {
    "colab_type": "text",
    "id": "H0o5UIQFRGm7"
   },
   "source": [
    "---"
   ]
  },
  {
   "cell_type": "markdown",
   "metadata": {
    "colab_type": "text",
    "id": "gGXDiht8RGm8"
   },
   "source": [
    "# **Let's begin!**"
   ]
  },
  {
   "cell_type": "markdown",
   "metadata": {
    "colab_type": "text",
    "id": "SBuGoozCRGm9"
   },
   "source": [
    "Hover over the \"[ ]\" on the top left corner of the cell below and you should see a \"play\" button appear. Click on it to run the cell then move to the next one.\n",
    "\n",
    "These first two cells give us access to some external Python code we will need."
   ]
  },
  {
   "cell_type": "markdown",
   "metadata": {
    "colab_type": "text",
    "id": "oP0y1jSyRGnA"
   },
   "source": [
    "### 1.  Bring in some code that is stored in a Github project.\n",
    "These two github repositories hold Python code that the notebook uses.\n",
    "* ECHO_modules holds code that can be used in this and other notebooks--the DataSet class, the make_data_sets() function, etc.\n",
    "* The ECHO-Cross-Program repository is the one this notebook is contained in.  We clone it to be able to use the utilities.py file contained in it."
   ]
  },
  {
   "cell_type": "code",
   "execution_count": null,
   "metadata": {
    "colab": {},
    "colab_type": "code",
    "id": "Nw8lXKinRGnB",
    "tags": []
   },
   "outputs": [],
   "source": [
    "!git clone https://github.com/edgi-govdata-archiving/ECHO_modules.git\n",
    "!git clone https://github.com/edgi-govdata-archiving/ECHO-Cross-Program.git\n",
    "#Some!pip install geopandas\n",
    "print(\"Done!\")"
   ]
  },
  {
   "cell_type": "markdown",
   "metadata": {
    "colab_type": "text",
    "id": "daR24kpcRGnJ"
   },
   "source": [
    "### 2.  Run a few Python modules.\n",
    "These will help us process and visualize the different program data sets later.\n",
    "* The DataSet class knows how to read the database for an ECHO data set--e.g. CWA Violations.\n",
    "* The utilities.py has Python code that helps with showing charts and maps, making filenames, etc.\n",
    "* The make_data_set.py has code that creates a DataSet object for each of the ECHO data sets, using the appropriate database tables.  "
   ]
  },
  {
   "cell_type": "code",
   "execution_count": null,
   "metadata": {
    "colab": {},
    "colab_type": "code",
    "id": "m0PffnzyRGnJ",
    "tags": []
   },
   "outputs": [],
   "source": [
    "%run ECHO_modules/DataSet.py\n",
    "%run ECHO-Cross-Program/utilities.py\n",
    "%run ECHO_modules/make_data_sets.py\n",
    "print(\"Done!\")"
   ]
  },
  {
   "cell_type": "markdown",
   "metadata": {
    "colab_type": "text",
    "id": "PFfUck2iRGnP"
   },
   "source": [
    "### 3.  This cell contains the parameters of the notebook run.  You can change the (state, CD) pairs to run the notebook for multiple congressional districts in multiple states.  After setting the (state, CD) pairs you want, you can instruct the notebook to Run All and it will step through all of the remaining cells.  You can then come back and examine the results."
   ]
  },
  {
   "cell_type": "code",
   "execution_count": null,
   "metadata": {
    "colab": {},
    "colab_type": "code",
    "id": "inOzKoR3RGnQ"
   },
   "outputs": [],
   "source": [
    "region_type = 'Congressional District'\n",
    "should_make_charts = True\n",
    "state_cds = [('WV',1),('TX',17)]\n",
    "#state_cds = [('WV',1),('WV',None),('WY',None),('TX',17),('TX',33),('TX',26)\n",
    "#    ('TX',22),('TX',21),('TX',31),('TX',24),('TX',10),('TX',23),('TX',None),\n",
    "#    ('VA',4),('VA',9),('VT',None),('WA',5),('WA',3),('OR',2),('OR',5),('OR',None),\n",
    "#    ('PA',18),('PA',1),('PA',10),('RI',None),('SC',3),('SC',None),('SD',None),    \n",
    "#    ('NY',16),('NY',20),('NY',9),('NY',27),('NY',24),('NY',1),('NY',2),('OH',6),\n",
    "#    ('OH',5),('OH',1),('OH',12),('OK',2),('OK',None),('MS',None),('MT',None),\n",
    "#    ('NC',1),('NC',8),('NC',2),('NC',None), ('ND',None), ('NE',2),('NH',2),\n",
    "#    ('NH',None),('NJ',6),('NJ',None),('NM',3),('NM',None),('MI',12),('MI',6),\n",
    "#    ('MI',None),('MN',1),('MN',None),('MO',7),('MO',2),('LA',1),('LA',2),\n",
    "#    ('MA',4),('MA',None),('MD',3),('MD',None),('ME',None),('IN',8),('IN',5),\n",
    "#    ('IN',None),('KS',2),('KS',None),('KY',2),('KY',None),('AK',None),\n",
    "#    ('AL',None),('AR',None),('AZ',1),('AZ',None),('IL',16),('IL',1),('IL',9),\n",
    "#    ('IL',15),('IL',2),('IL',None),('IL',13),('GA',1),('GA',7),('GA',None),\n",
    "#    ('IA',2),('IA',None),('IA',4),('CO',1),('CO',None),('DE',None),('FL',9),\n",
    "#    ('FL',12),('FL',14),('FL',15),('CA', 6),('CA',9),('CA',44),('CA',36),\n",
    "#    ('CA',52), ('CA',29), ('CA',22), ('CA',50)]\n",
    "# Change this^! For example, instead of running New Jersey's 6th Congressional ('NJ', 6) you could do Wisconsin's 2nd ('WI', 2)\n",
    "# See here: https://www.govtrack.us/congress/members/map\n",
    "data_set_list = ['RCRA Violations', 'RCRA Inspections', 'RCRA Penalties', 'CAA Enforcements',\n",
    "                 'CAA Violations', 'CAA Inspections', 'CAA Penalties', 'Greenhouse Gas Emissions', \n",
    "                 'CWA Violations', 'CWA Inspections', 'CWA Penalties', ] \n",
    "                 #CAA Enforcements, CWA Enforcements, RCRA Enforcements\n"
   ]
  },
  {
   "cell_type": "markdown",
   "metadata": {
    "colab_type": "text",
    "id": "9hDVHaLTRGnw"
   },
   "source": [
    "### 6. Get the State data for comparisons\n",
    "Ask the database for ECHO_EXPORTER records for facilities in the state.\n",
    "* state_echo_data is a dictionary with the state name as key and the data as value, for all records.\n",
    "* state_echo_active is a dictionary for all records in state_echo_data identified as active."
   ]
  },
  {
   "cell_type": "code",
   "execution_count": null,
   "metadata": {
    "colab": {},
    "colab_type": "code",
    "id": "gdjq3_8kRGnx",
    "tags": []
   },
   "outputs": [],
   "source": [
    "states = list(set([s_cd[0] for s_cd in state_cds]))  #Use conversion to set to make unique\n",
    "state_echo_data = {}\n",
    "state_echo_active = {}\n",
    "for state in states:\n",
    "    state_echo_data[state] = read_file( 'ECHO_EXPORTER', 'State', state, None )\n",
    "    if ( state_echo_data[state] is None ):\n",
    "        sql = 'select * from \"ECHO_EXPORTER\" where \"FAC_STATE\" = \\'{}\\''.format( state )\n",
    "        state_echo_data[state] = get_data( sql, 'REGISTRY_ID' )\n",
    "        write_dataset( state_echo_data[state], 'ECHO_EXPORTER', 'State', state, None )\n",
    "    state_echo_active[state] = state_echo_data[state].loc[state_echo_data[state]['FAC_ACTIVE_FLAG']=='Y']\n",
    "    print( 'There are {} active facilities in {}.'.format( \n",
    "        str(state_echo_active[state].shape[0]), state))"
   ]
  },
  {
   "cell_type": "markdown",
   "metadata": {
    "colab_type": "text",
    "id": "Mwbyr4MMRGn2"
   },
   "source": [
    "### 7. Number of currently active facilities regulated in CAA, CWA, RCRRA, GHGRP\n",
    "* The program_count() function looks at the ECHO_EXPORTER data that is passed in and counts the number of facilities have the 'flag' parameter set to 'Y' (AIR_FLAG, NPDES_FLAG, RCRA_FLAG, GHG_FLAG)\n",
    "* cd_echo_data is a dictionary with key (state, cd), where the state_echo_data is filtered for records of the current CD.\n",
    "* cd_echo_active is a dictionary for active facilities in the CD.\n",
    "* The number of records from these dictionaries is written into a file named like 'active-facilities_All_pg3', in a directory identified by the state and CD, e.g. \"LA2\"."
   ]
  },
  {
   "cell_type": "code",
   "execution_count": null,
   "metadata": {
    "colab": {},
    "colab_type": "code",
    "id": "w7ODiXctRGn3",
    "scrolled": true,
    "tags": []
   },
   "outputs": [],
   "source": [
    "def program_count( echo_data, program, flag, state, cd ):\n",
    "    count = echo_data.loc[echo_data[flag]=='Y'].shape[0]\n",
    "    print( 'There are {} active facilities in {} CD {} tracked under {}.'.format( \n",
    "        str( count ), state, cd, program))\n",
    "    return count\n",
    "    \n",
    "cd_echo_data = {}\n",
    "cd_echo_active = {}\n",
    "for state, cd in state_cds:\n",
    "    rowdata = []    \n",
    "    if ( cd is None ):\n",
    "        this_echo_data = state_echo_data[state]\n",
    "        filename = make_filename( 'active-facilities_All_pg3', 'State', \n",
    "                             None, state )\n",
    "    else:\n",
    "        this_echo_data = state_echo_data[state].loc[state_echo_data[state]['FAC_DERIVED_CD113'] == cd]\n",
    "        cd_echo_data[(state,cd)] = this_echo_data\n",
    "        filename = make_filename( 'active-facilities_All_pg3', 'Congressional District', \n",
    "                             state, cd )\n",
    "    this_echo_active = this_echo_data.loc[this_echo_data['FAC_ACTIVE_FLAG']=='Y']\n",
    "    if ( cd is not None ):\n",
    "        cd_echo_active[(state,cd)] = this_echo_active\n",
    "    rowdata.append( ['CAA', program_count( this_echo_active, 'CAA', 'AIR_FLAG', state, cd)] )\n",
    "    rowdata.append( ['CWA', program_count( this_echo_active, 'CWA', 'NPDES_FLAG', state, cd)] )\n",
    "    rowdata.append( ['RCRA', program_count( this_echo_active, 'RCRA', 'RCRA_FLAG', state, cd)] )\n",
    "    rowdata.append( ['GHG', program_count( this_echo_active, 'GHG', 'GHG_FLAG', state, cd)] )\n",
    "    with open( filename, 'w', newline='' ) as csvfile:\n",
    "        header = ['Program', 'Count']\n",
    "        writer = csv.writer( csvfile )\n",
    "        writer.writerow( header )\n",
    "        writer.writerows( rowdata ) \n",
    "        print( \"Wrote {}\".format( filename ))     "
   ]
  },
  {
   "cell_type": "markdown",
   "metadata": {
    "colab_type": "text",
    "id": "u3HCcCBIRGn_"
   },
   "source": [
    "### 8. Map all currently active facilities in each district"
   ]
  },
  {
   "cell_type": "code",
   "execution_count": null,
   "metadata": {
    "colab": {},
    "colab_type": "code",
    "id": "CBzcH7JbRGoA",
    "tags": []
   },
   "outputs": [],
   "source": [
    "if ( should_make_charts ):\n",
    "    import geopandas\n",
    "\n",
    "    for state, cd in state_cds:\n",
    "        print( 'Map for {} CD {}'.format( state, cd ))\n",
    "        if ( cd is None ):\n",
    "            this_data = state_echo_active[state]\n",
    "        else:\n",
    "            this_data = cd_echo_active[(state, cd)]\n",
    "        # Only map CAA, CWA, RCRA, or GHG facilities active in this district:\n",
    "        map_data = this_data.loc[(this_data['AIR_FLAG']==\"Y\") | (this_data['NPDES_FLAG']==\"Y\") |\n",
    "                (this_data['RCRA_FLAG']==\"Y\")| (this_data['GHG_FLAG']==\"Y\")]\n",
    "        m = mapper(df=map_data,is_echo=False)\n",
    "        if ( cd is not None ):\n",
    "            url = \"https://raw.githubusercontent.com/unitedstates/districts/gh-pages/cds/2016/{}-{}/shape.geojson\".format( state, str(cd))\n",
    "            map_data = geopandas.read_file(url)\n",
    "            w = folium.GeoJson(\n",
    "                map_data,\n",
    "                name = \"EPA Regions\",\n",
    "            ).add_to(m) #m is the map object created to hold the facility points. we want to add this shape object to that map object\n",
    "            folium.GeoJsonTooltip(fields=[\"District\"]).add_to(w)\n",
    "\n",
    "        display( m )"
   ]
  }
 ],
 "metadata": {
  "colab": {
   "name": "AllPrograms.ipynb",
   "provenance": []
  },
  "kernelspec": {
   "display_name": "Python 3",
   "language": "python",
   "name": "python3"
  },
  "language_info": {
   "codemirror_mode": {
    "name": "ipython",
    "version": 3
   },
   "file_extension": ".py",
   "mimetype": "text/x-python",
   "name": "python",
   "nbconvert_exporter": "python",
   "pygments_lexer": "ipython3",
   "version": "3.7.6"
  }
 },
 "nbformat": 4,
 "nbformat_minor": 1
}
