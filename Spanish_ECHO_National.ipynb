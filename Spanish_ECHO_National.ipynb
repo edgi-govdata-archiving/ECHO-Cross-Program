{
 "cells": [
  {
   "cell_type": "markdown",
   "metadata": {
    "id": "sS8mFCHP7IpV"
   },
   "source": [
    "| ![EEW logo](https://github.com/edgi-govdata-archiving/EEW-Image-Assets/blob/master/Jupyter%20instructions/eew.jpg?raw=true) | ![EDGI logo](https://github.com/edgi-govdata-archiving/EEW-Image-Assets/blob/master/Jupyter%20instructions/edgi.png?raw=true) |\n",
    "|---|---|\n",
    "\n",
    "#### Este Jupyter Notebook es  licenciado bajo GPL 3.0. Visite nuestro repositorio de GitHub para obtener más información: https://github.com/edgi-govdata-archiving/\n",
    "\n",
    "#### Este Jupyter Notebook fue creado en colaboración por EDGI siguiendo nuestro protocolo de autoría: https://docs.google.com/document/d/1CtDN5ZZ4Zv70fHiBTmWkDJ9mswEipX6eCYrwicP66Xw/\n",
    "\n",
    "#### Para obtener más información sobre este proyecto, visite: https://www.environmentalenforcementwatch.org/ \n"
   ]
  },
  {
   "cell_type": "markdown",
   "metadata": {
    "id": "GFTW3ozo6lev"
   },
   "source": [
    "# [Glosario](https://docs.google.com/document/d/1oUAOdci38_VeDbABznZvL9BlJPLuXmEmc-OhggEB4Jc/edit?usp=sharing)"
   ]
  },
  {
   "cell_type": "markdown",
   "metadata": {
    "id": "TC6jW4BA7Ih0"
   },
   "source": [
    "## Como Ejecutar el Jupyter Notebook\n",
    "* Una \"celda\" en un Jupyter Notebook es un bloque de código que realiza un conjunto de acciones que ponen a disposición datos específicos.  El Jupyter Notebook funciona ejecutando una celda tras otra, mientras usted selecciona las opciones disponibles.\n",
    "* Si hace clic en una celda de **código gris**, aparece una pequeña flecha de \"botón de reproducción/ play button\" a la izquierda. Si hace clic en el botón de reproducción, se ejecutará el código en esa celda (\"ejecutar una celda/ **running** a cell\"). El botón se animará y parecerá cargarse, cuando la animación se detenga, esto significa que la celda ha terminado de ejecutarse.'\n",
    "![Where to click to run the cell](https://github.com/edgi-govdata-archiving/EEW-Image-Assets/blob/master/Jupyter%20instructions/pressplay.JPG?raw=true)\n",
    "* Es posible que reciba una advertencia de que este Jupyter Notebook no ha sido creado por Google. ¡Lo sabemos, nosotros lo creamos! Está bien. Haga clic en \"Ejecutar de todos modos/ run anyways\" para continuar.\n",
    "![Error Message](https://github.com/edgi-govdata-archiving/EEW-Image-Assets/blob/master/Jupyter%20instructions/warning-message.JPG?raw=true)\n",
    "* Ejecute todas las celdas del Jupyter Notebook para hacer un informe completo. ¡No dude en **analizar y aprender sobre cada resultado**!\n"
   ]
  },
  {
   "cell_type": "markdown",
   "metadata": {
    "id": "-0zzhdVT7IWN"
   },
   "source": [
    "# Estadísticas nacionales sobre las tendencias de cumplimiento de leyes ambientales\n"
   ]
  },
  {
   "cell_type": "markdown",
   "metadata": {
    "id": "BebYOqdd7H3l"
   },
   "source": [
    "## Configuración\n",
    "Aquí cargaremos un código de ayuda para comenzar.\n"
   ]
  },
  {
   "cell_type": "code",
   "execution_count": null,
   "metadata": {
    "id": "qI1Ffs9A6hFw"
   },
   "outputs": [],
   "source": [
    "# Import code libraries\n",
    "!git clone https://github.com/edgi-govdata-archiving/ECHO_modules.git &>/dev/null;\n",
    "%run ECHO_modules/DataSet.py\n",
    "\n",
    "import urllib.parse\n",
    "import pandas as pd\n",
    "import numpy as np\n",
    "import matplotlib.pyplot as plt\n",
    "%matplotlib inline\n",
    "import requests\n",
    "import csv\n",
    "import datetime\n",
    "import folium\n",
    "from folium.plugins import FastMarkerCluster\n",
    "import ipywidgets as widgets\n",
    "from IPython.core.display import display, HTML\n",
    "from pandas.errors import EmptyDataError\n",
    "def formatter(value):\n",
    "  return \"{:0.2f}\".format(value)"
   ]
  },
  {
   "cell_type": "markdown",
   "metadata": {
    "id": "91nsh49I_fYI"
   },
   "source": [
    "Aquí configuramos un código para ayudarnos a almacenar y eventualmente exportar las métricas.\n"
   ]
  },
  {
   "cell_type": "code",
   "execution_count": null,
   "metadata": {
    "id": "P3rjGhkR_gXG"
   },
   "outputs": [],
   "source": [
    "inspections = dict()\n",
    "violations = dict()\n",
    "enforcements = dict()\n",
    "penalties = dict()\n",
    "emissions = dict()"
   ]
  },
  {
   "cell_type": "markdown",
   "metadata": {
    "id": "6sckkfLf_hC_"
   },
   "source": [
    "## Empiece a obtener datos\n",
    "Primero, obtenga datos de resumen del cuadro ECHO_EXPORTER.\n"
   ]
  },
  {
   "cell_type": "code",
   "execution_count": null,
   "metadata": {
    "colab": {
     "base_uri": "https://localhost:8080/",
     "height": 370
    },
    "id": "avPLGLE6_hpQ",
    "outputId": "58244db9-afb6-4895-a3f3-6b4bff1134aa"
   },
   "outputs": [],
   "source": [
    "# Get everything we will need from ECHO_EXPORTER in a single DB query.\n",
    "# We can then use the full dataframe to specialize views of it.\n",
    "full_echo_data = None\n",
    "column_mapping = {\n",
    "    '\"REGISTRY_ID\"': str,\n",
    "    '\"FAC_NAME\"': str,\n",
    "    '\"FAC_LAT\"': float,\n",
    "    '\"FAC_LONG\"': float,\n",
    "    '\"AIR_IDS\"': str,\n",
    "    '\"NPDES_IDS\"': str,\n",
    "    '\"RCRA_IDS\"': str,\n",
    "    '\"DFR_URL\"': str,\n",
    "    '\"AIR_FLAG\"': str,\n",
    "    '\"NPDES_FLAG\"': str,\n",
    "    '\"GHG_FLAG\"': str,\n",
    "    '\"RCRA_FLAG\"': str,\n",
    "    '\"FAC_ACTIVE_FLAG\"': str\n",
    "}\n",
    "column_names = list( column_mapping.keys() )\n",
    "columns_string = ','.join( column_names )\n",
    "sql = 'select ' + columns_string + ' from \"ECHO_EXPORTER\" where \"AIR_FLAG\" = \\'Y\\' or \"NPDES_FLAG\" = \\'Y\\' or \"GHG_FLAG\" = \\'Y\\' or \"RCRA_FLAG\" = \\'Y\\''\n",
    "try:\n",
    "    # Don't index.\n",
    "    full_echo_data = get_data( sql )\n",
    "except EmptyDataError:\n",
    "    print(\"\\nThere are no EPA facilities for this query.\\n\")\n",
    "full_echo_data"
   ]
  },
  {
   "cell_type": "markdown",
   "metadata": {
    "id": "zX2NvZUr_iui"
   },
   "source": [
    "## Número de instalaciones actualmente reguladas por programa\n"
   ]
  },
  {
   "cell_type": "code",
   "execution_count": null,
   "metadata": {
    "id": "uviqoAiF_jSZ"
   },
   "outputs": [],
   "source": [
    "air_fac = full_echo_data.loc[(full_echo_data[\"AIR_FLAG\"]==\"Y\") & (full_echo_data[\"FAC_ACTIVE_FLAG\"]==\"Y\")].shape[0]\n",
    "water_fac = full_echo_data.loc[(full_echo_data[\"NPDES_FLAG\"]==\"Y\") & (full_echo_data[\"FAC_ACTIVE_FLAG\"]==\"Y\")].shape[0]\n",
    "waste_fac = full_echo_data.loc[(full_echo_data[\"RCRA_FLAG\"]==\"Y\") & (full_echo_data[\"FAC_ACTIVE_FLAG\"]==\"Y\")].shape[0]\n",
    "ghg_fac = full_echo_data.loc[(full_echo_data[\"GHG_FLAG\"]==\"Y\") & (full_echo_data[\"FAC_ACTIVE_FLAG\"]==\"Y\")].shape[0]\n",
    "\n",
    "display(HTML(\"<h3>There are \"+ str(air_fac) + \" facilities currently regulated under the Clean Air Act.</h3>\"))\n",
    "display(HTML(\"<h3>There are \"+ str(water_fac) + \" facilities currently regulated under the Clean Water Act.</h3>\"))\n",
    "display(HTML(\"<h3>There are \"+ str(waste_fac) + \" facilities currently regulated under RCRA (hazardous waste).</h3>\"))\n",
    "display(HTML(\"<h3>There are \"+ str(ghg_fac) + \" facilities currently reporting greenhouse gas emissions.</h3>\"))"
   ]
  },
  {
   "cell_type": "markdown",
   "metadata": {
    "id": "jC9CxHjQ_kQr"
   },
   "source": [
    "## Inspecciones de la Ley de Aire Limpio en 2019\n"
   ]
  },
  {
   "cell_type": "code",
   "execution_count": null,
   "metadata": {
    "id": "4TmBrevO_lZh"
   },
   "outputs": [],
   "source": [
    "# Use SQL to search for and select the data about air stack tests\n",
    "air_inspections = None\n",
    "try:\n",
    "    sql = 'select * from \\\"ICIS-AIR_FCES_PCES\\\" where \\\"ACTUAL_END_DATE\\\" like \\'__-__-2019\\''\n",
    "\n",
    "    # Download the data from that URL\n",
    "    air_inspections = get_data( sql, 'pgm_sys_id' )\n",
    "except EmptyDataError:\n",
    "    print( \"No data found\")\n",
    "\n",
    "air_inspections"
   ]
  },
  {
   "cell_type": "code",
   "execution_count": null,
   "metadata": {
    "id": "WIBdOKhJFK-t"
   },
   "outputs": [],
   "source": [
    "# Number of inspections in 2019 per 1000 regulated facilities\n",
    "air_inspections_metric = formatter((air_inspections.shape[0] / air_fac) * 1000) # Divide by regulated facilities and multiply by desired rate (per 1000)\n",
    "inspections[\"CAA\"] = air_inspections_metric\n",
    "display(HTML(\"<h3>\"+ air_inspections_metric +\" inspections per 1000 facilities</h3>\"))"
   ]
  },
  {
   "cell_type": "markdown",
   "metadata": {
    "id": "3HRfFZqt_mfX"
   },
   "source": [
    "## Violaciones de la Ley de Aire Limpio en 2019\n",
    "\n"
   ]
  },
  {
   "cell_type": "code",
   "execution_count": null,
   "metadata": {
    "id": "au4FlnVP_sJ1"
   },
   "outputs": [],
   "source": [
    "air_violations = None\n",
    "try:\n",
    "    sql = 'select * from \"ICIS-AIR_VIOLATION_HISTORY\" where \"EARLIEST_FRV_DETERM_DATE\" like \\'__-__-2019\\' or \"HPV_DAYZERO_DATE\" like \\'__-__-2019\\''\n",
    "\n",
    "    air_violations = get_data( sql, \"pgm_sys_id\" )\n",
    "\n",
    "    # Remove \"FACIL\" violations, which are paperwork violations according to: https://19january2017snapshot.epa.gov/sites/production/files/2013-10/documents/frvmemo.pdf\n",
    "    # air_violations = air_violations.loc[(air_violations[\"POLLUTANT_DESCS\"]!=\"FACIL\")]\n",
    "except EmptyDataError:\n",
    "    print( \"No data found\")\n",
    "air_violations"
   ]
  },
  {
   "cell_type": "code",
   "execution_count": null,
   "metadata": {
    "id": "hImQPKAgFRFw"
   },
   "outputs": [],
   "source": [
    "# Number of high priority and federally reportable violations per 1000 regulated facilities\n",
    "air_violations_metric = formatter((air_violations.shape[0] / air_fac) * 1000) # Divide by regulated facilities and multiply by desired rate (per 1000)\n",
    "violations[\"CAA\"] = air_violations_metric\n",
    "display(HTML(\"<h3>\"+air_violations_metric+\" violations per 1000 facilities </h3>\"))"
   ]
  },
  {
   "cell_type": "markdown",
   "metadata": {
    "id": "fPQPe96o_sqH"
   },
   "source": [
    "## Acciones (formales) de aplicación de leyes ambientales y penalizaciones bajo la Ley de Aire Limpio en 2019\n",
    "\n"
   ]
  },
  {
   "cell_type": "code",
   "execution_count": null,
   "metadata": {
    "id": "xdY-ZB1B_tD3"
   },
   "outputs": [],
   "source": [
    "air_enforcements = None\n",
    "try:\n",
    "    sql = 'select * from \"ICIS-AIR_FORMAL_ACTIONS\" where \"SETTLEMENT_ENTERED_DATE\" like \\'__/__/2019\\''\n",
    "\n",
    "    air_enforcements = get_data( sql, \"pgm_sys_id\" )\n",
    "except EmptyDataError:\n",
    "    print( \"No data found\")\n",
    "air_enforcements"
   ]
  },
  {
   "cell_type": "code",
   "execution_count": null,
   "metadata": {
    "id": "4-WWWRXSFah0"
   },
   "outputs": [],
   "source": [
    "# Number of formal actions in 2019 per violation\n",
    "air_enforcements_metric = formatter(air_enforcements.shape[0]/air_violations.shape[0]) # Formal actions divided by number of violations\n",
    "enforcements[\"CAA\"] = air_enforcements_metric\n",
    "display(HTML(\"<h3>\"+air_enforcements_metric +\" formal enforcement actions per violation</h3>\"))"
   ]
  },
  {
   "cell_type": "code",
   "execution_count": null,
   "metadata": {
    "id": "agqovghBFbUV"
   },
   "outputs": [],
   "source": [
    "# Penalties each year per violating facility\n",
    "air_penalties = air_enforcements.loc[air_enforcements[\"PENALTY_AMOUNT\"]>0]\n",
    "air_penalties_metric = formatter(sum(air_penalties[\"PENALTY_AMOUNT\"]) / len(air_violations[\"PGM_SYS_ID\"].unique())) #Divide the sum of penalties by number of violating facilities\n",
    "air_penalties_max = formatter(max(air_penalties[\"PENALTY_AMOUNT\"])) \n",
    "air_penalties_min = formatter(min(air_penalties[\"PENALTY_AMOUNT\"])) \n",
    "penalties[\"CAA\"] = air_penalties_metric\n",
    "display(HTML(\"<h3>$\"+air_penalties_metric +\" per facility in violation</h3>\"))\n",
    "display(HTML(\"<h3>Max: $\"+air_penalties_max +\"</h3>\"))\n",
    "display(HTML(\"<h3>Min: $\"+air_penalties_min +\"</h3>\"))"
   ]
  },
  {
   "cell_type": "markdown",
   "metadata": {
    "id": "HKBoNWgoFv-H"
   },
   "source": [
    "---"
   ]
  },
  {
   "cell_type": "markdown",
   "metadata": {
    "id": "FDIQp0-l_tm6"
   },
   "source": [
    "## Inspecciones de la Ley de Agua Limpia en 2019\n"
   ]
  },
  {
   "cell_type": "code",
   "execution_count": null,
   "metadata": {
    "id": "MRPrGLiSClLl"
   },
   "outputs": [],
   "source": [
    "# Find facilities with pollutant exceedences\n",
    "water_inspections = None\n",
    "try:\n",
    "    sql = 'select \"NPDES_ID\", \"REGISTRY_ID\", \"ACTUAL_END_DATE\", \"STATE_EPA_FLAG\"' + \\\n",
    "        ' from \"NPDES_INSPECTIONS\" where \"ACTUAL_END_DATE\" like \\'__/__/2019\\''\n",
    "\n",
    "    water_inspections = get_data( sql, \"NPDES_ID\" ) \n",
    "except EmptyDataError:\n",
    "    print( \"No data found\")\n",
    "water_inspections"
   ]
  },
  {
   "cell_type": "code",
   "execution_count": null,
   "metadata": {
    "id": "apTZK66wF2-0"
   },
   "outputs": [],
   "source": [
    "# Number of inspections in 2019 per 1000 regulated facilities\n",
    "water_inspections_metric = formatter((water_inspections.shape[0] / water_fac) * 1000) #Divide by regulated facilities and multiply by desired rate (per 1000)\n",
    "inspections[\"CWA\"] = water_inspections_metric\n",
    "display(HTML(\"<h3>\"+water_inspections_metric +\" inspections per 1000 facilities</h3>\"))"
   ]
  },
  {
   "cell_type": "markdown",
   "metadata": {
    "id": "p014Rvz3Cj_i"
   },
   "source": [
    "## Violaciones de la Ley de Agua Limpia en 2019\n"
   ]
  },
  {
   "cell_type": "code",
   "execution_count": null,
   "metadata": {
    "id": "5ioJCmZJCmXt"
   },
   "outputs": [],
   "source": [
    "# Find facilities with water permit violations\n",
    "water_violations = None\n",
    "try:\n",
    "    sql = 'select * from \"NPDES_QNCR_HISTORY\" where \"YEARQTR\" = 20191 or \"YEARQTR\" = 20192 or \"YEARQTR\" = 20193 or \"YEARQTR\" = 20194'\n",
    "    water_violations = get_data( sql, \"NPDES_ID\" ) \n",
    "except EmptyDataError:\n",
    "    print( \"No data found\")\n",
    "water_violations"
   ]
  },
  {
   "cell_type": "code",
   "execution_count": null,
   "metadata": {
    "id": "B-b0KV21F-DA"
   },
   "outputs": [],
   "source": [
    "# Number of violations each year per 1000 regulated facilities\n",
    "# Sum violations \n",
    "water_violations[\"Sum\"] = water_violations[\"NUME90Q\"]\t+ water_violations[\"NUMCVDT\"] + water_violations[\"NUMSVCD\"]\t+ water_violations[\"NUMPSCH\"]\n",
    "water_violations_metric = formatter((np.sum(water_violations[\"Sum\"]) / water_fac) * 1000) #Divide by regulated facilities and multiply by desired rate (per 1000)\n",
    "violations[\"CWA\"] = water_violations_metric\n",
    "display(HTML(\"<h3>\"+water_violations_metric+\" violations per 1000 facilities</h3>\"))"
   ]
  },
  {
   "cell_type": "markdown",
   "metadata": {
    "id": "y9FMpRQCCmvb"
   },
   "source": [
    "## Acciones de aplicación de leyes ambientales y penalizaciones bajo la Ley de agua limpia en 2019\n",
    "\n"
   ]
  },
  {
   "cell_type": "code",
   "execution_count": null,
   "metadata": {
    "id": "ubRzdx4HCn4B"
   },
   "outputs": [],
   "source": [
    "# Find facilities with pollutant exceedences\n",
    "water_enforcements = None\n",
    "try:\n",
    "    sql = 'select \"NPDES_ID\", \"AGENCY\", \"ENF_TYPE_DESC\", \"SETTLEMENT_ENTERED_DATE\", \"FED_PENALTY_ASSESSED_AMT\", \"STATE_LOCAL_PENALTY_AMT\"' + \\\n",
    "        ' from \"NPDES_FORMAL_ENFORCEMENT_ACTIONS\" where \"SETTLEMENT_ENTERED_DATE\" like \\'__/__/2019\\''\n",
    "\n",
    "    water_enforcements = get_data( sql, \"NPDES_ID\" ) \n",
    "except EmptyDataError:\n",
    "    print( \"No data found\")\n",
    "water_enforcements"
   ]
  },
  {
   "cell_type": "code",
   "execution_count": null,
   "metadata": {
    "id": "A_7ZGgs7GNEQ"
   },
   "outputs": [],
   "source": [
    "# Number of formal actions in 2019 per violation\n",
    "water_enforcements_metric = formatter(water_enforcements.shape[0]/water_violations.shape[0]) # Formal actions divided by number of violations\n",
    "enforcements[\"CWA\"] = water_enforcements_metric\n",
    "display(HTML(\"<h3>\"+water_enforcements_metric +\" formal enforcement actions per violation</h3>\"))"
   ]
  },
  {
   "cell_type": "code",
   "execution_count": null,
   "metadata": {
    "id": "T-taqSvLGNbg"
   },
   "outputs": [],
   "source": [
    "# Penalties each year per violating facility\n",
    "# Find violating facilities (not all in NPDES QNCR are violating...)\n",
    "water_violators = water_violations.loc[water_violations[\"Sum\"]>0]\n",
    "water_violators = len(water_violators.index.unique())\n",
    "water_enforcements[\"StateLocalFedFines\"] = water_enforcements[\"FED_PENALTY_ASSESSED_AMT\"].fillna(0) + water_enforcements[\"STATE_LOCAL_PENALTY_AMT\"].fillna(0)\n",
    "water_penalties = water_enforcements.loc[water_enforcements[\"StateLocalFedFines\"]>0]\n",
    "water_penalties_metric = formatter(sum(water_penalties[\"StateLocalFedFines\"]) / water_violators) #Divide the sum of penalties by number of penalized facilities\n",
    "water_penalties_max = formatter(max(water_penalties[\"StateLocalFedFines\"])) \n",
    "water_penalties_min = formatter(min(water_penalties[\"StateLocalFedFines\"]))\n",
    "penalties[\"CWA\"] = water_penalties_metric\n",
    "display(HTML(\"<h3>$\"+water_penalties_metric +\" per facility in violation</h3>\"))\n",
    "display(HTML(\"<h3>Max: $\"+water_penalties_max +\"</h3>\"))\n",
    "display(HTML(\"<h3>Min: $\"+water_penalties_min +\"</h3>\"))"
   ]
  },
  {
   "cell_type": "markdown",
   "metadata": {
    "id": "Sw5HDHZlCyFI"
   },
   "source": [
    "## Inspecciones de RCRA en 2019\n"
   ]
  },
  {
   "cell_type": "code",
   "execution_count": null,
   "metadata": {
    "id": "-2WzZspaCyiy"
   },
   "outputs": [],
   "source": [
    "# Find facilities with pollutant exceedences\n",
    "waste_inspections = None\n",
    "try:\n",
    "    sql = 'select * from \"RCRA_EVALUATIONS\" where \"EVALUATION_START_DATE\" like \\'__/__/2019\\''\n",
    "\n",
    "    waste_inspections = get_data( sql, \"ID_NUMBER\" ) \n",
    "except EmptyDataError:\n",
    "    print( \"No data found\")\n",
    "waste_inspections"
   ]
  },
  {
   "cell_type": "code",
   "execution_count": null,
   "metadata": {
    "id": "-H85-TczGeTG"
   },
   "outputs": [],
   "source": [
    "# Number of inspections in 2019 per 1000 regulated facilities\n",
    "waste_inspections_metric = formatter((waste_inspections.shape[0] / waste_fac) * 1000) #Divide by regulated facilities and multiply by desired rate (per 1000)\n",
    "inspections[\"RCRA\"] = waste_inspections_metric\n",
    "display(HTML(\"<h3>\"+waste_inspections_metric+\" inspections per 1000 facilities</h3>\"))"
   ]
  },
  {
   "cell_type": "markdown",
   "metadata": {
    "id": "8T7R8qvSCy7l"
   },
   "source": [
    "## Violaciones de RCRA en 2019\n"
   ]
  },
  {
   "cell_type": "code",
   "execution_count": null,
   "metadata": {
    "id": "gXXhdQvgCzq1"
   },
   "outputs": [],
   "source": [
    "# Find facilities with pollutant exceedences\n",
    "waste_violations = None\n",
    "try:\n",
    "    sql = 'select * from \"RCRA_VIOLATIONS\" where \"DATE_VIOLATION_DETERMINED\" like \\'__/__/2019\\''\n",
    "\n",
    "    waste_violations = get_data( sql, \"ID_NUMBER\" ) \n",
    "except EmptyDataError:\n",
    "    print( \"No data found\")\n",
    "waste_violations"
   ]
  },
  {
   "cell_type": "code",
   "execution_count": null,
   "metadata": {
    "id": "IwTP03CsGlww"
   },
   "outputs": [],
   "source": [
    "# Number of violations in 2019 per 1000 regulated facilities\n",
    "waste_violations_metric = formatter((waste_violations.shape[0] / waste_fac) * 1000) #Divide by regulated facilities and multiply by desired rate (per 1000)\n",
    "violations[\"RCRA\"] = waste_violations_metric\n",
    "display(HTML(\"<h3>\"+waste_violations_metric+\" violations per 1000 facilities</h3>\"))"
   ]
  },
  {
   "cell_type": "markdown",
   "metadata": {
    "id": "ezaSvQI1DblR"
   },
   "source": [
    "## Acciones de aplicación de leyes ambientales y penalizaciones bajo RCRA en 2019\n"
   ]
  },
  {
   "cell_type": "code",
   "execution_count": null,
   "metadata": {
    "id": "cbvz5AUcDcD1"
   },
   "outputs": [],
   "source": [
    "# Find facilities with enforcement actions\n",
    "waste_enforcements = None\n",
    "try:\n",
    "    sql = 'select * from \"RCRA_ENFORCEMENTS\" where \"ENFORCEMENT_ACTION_DATE\" like \\'__/__/2019\\''\n",
    "\n",
    "    waste_enforcements = get_data( sql, \"ID_NUMBER\" ) \n",
    "except EmptyDataError:\n",
    "    print( \"No data found\")\n",
    "waste_enforcements"
   ]
  },
  {
   "cell_type": "code",
   "execution_count": null,
   "metadata": {
    "id": "Uckv5M6ZDn1Q"
   },
   "outputs": [],
   "source": [
    "# Number of enforcement actions each year per violation\n",
    "waste_enforcements_metric = formatter(waste_enforcements.shape[0] / waste_violations.shape[0])\n",
    "enforcements[\"RCRA\"] = waste_enforcements_metric\n",
    "display(HTML(\"<h3>\"+waste_enforcements_metric+\" enforcement actions per violation</h3>\"))"
   ]
  },
  {
   "cell_type": "code",
   "execution_count": null,
   "metadata": {
    "id": "rWf0mKKYH3Gf"
   },
   "outputs": [],
   "source": [
    "# Penalties each year per violating facility\n",
    "waste_penalties = waste_enforcements.loc[waste_enforcements[\"FMP_AMOUNT\"]>0]\n",
    "waste_penalties_metric = formatter(sum(waste_penalties[\"FMP_AMOUNT\"]) / len(waste_violations.index.unique())) #Divide by penalized facilities\n",
    "waste_penalties_max = formatter(max(waste_penalties[\"FMP_AMOUNT\"]))\n",
    "waste_penalties_min = formatter(min(waste_penalties[\"FMP_AMOUNT\"]))\n",
    "penalties[\"RCRA\"] = waste_penalties_metric\n",
    "display(HTML(\"<h3>$\"+waste_penalties_metric +\" per facility in violation</h3>\"))\n",
    "display(HTML(\"<h3>Max: $\"+waste_penalties_max +\"</h3>\"))\n",
    "display(HTML(\"<h3>Min: $\"+waste_penalties_min +\"</h3>\"))"
   ]
  },
  {
   "cell_type": "markdown",
   "metadata": {
    "id": "efZQIiXNHXhf"
   },
   "source": [
    "## Emisiones de gases de efecto invernadero en 2018 (los últimos datos disponibles)\n"
   ]
  },
  {
   "cell_type": "code",
   "execution_count": null,
   "metadata": {
    "id": "hF2FHGP7HnSk"
   },
   "outputs": [],
   "source": [
    "# Find GHG emissions\n",
    "ghg_emissions = None\n",
    "try:\n",
    "    sql = 'select * from \"POLL_RPT_COMBINED_EMISSIONS\" where \"REPORTING_YEAR\" = \\'2018\\' and \"PGM_SYS_ACRNM\" = \\'E-GGRT\\''\n",
    "\n",
    "    ghg_emissions = get_data( sql) \n",
    "except EmptyDataError:\n",
    "    print( \"No data found\")\n",
    "ghg_emissions"
   ]
  },
  {
   "cell_type": "code",
   "execution_count": null,
   "metadata": {
    "id": "KylbOHlnIF7-"
   },
   "outputs": [],
   "source": [
    "# Emissions in 2018 per facility\n",
    "ghg_emissions_metric = formatter(np.nansum(ghg_emissions[\"ANNUAL_EMISSION\"]) / len(ghg_emissions[\"REGISTRY_ID\"].unique())) #Divide by reporting facility\n",
    "ghg_emissions_fac = ghg_emissions.groupby(\"PGM_SYS_ID\")[[\"ANNUAL_EMISSION\"]].sum() # Group by facility\n",
    "ghg_emissions_max = formatter(np.nanmax(ghg_emissions_fac[\"ANNUAL_EMISSION\"]))\n",
    "ghg_emissions_min = formatter(np.nanmin(ghg_emissions_fac.loc[ghg_emissions_fac[\"ANNUAL_EMISSION\"]>0][\"ANNUAL_EMISSION\"]))\n",
    "emissions[\"GHG\"] = ghg_emissions_metric\n",
    "display(HTML(\"<h3>\"+ghg_emissions_metric+\" MTCO2e (metric tons of carbon dioxide equivalent) emissions per reporting facility</h3>\"))\n",
    "display(HTML(\"<h3>Max: \"+ghg_emissions_max+\" MTCO2e (metric tons of carbon dioxide equivalent) emissions</h3>\"))\n",
    "display(HTML(\"<h3>Min: \"+ghg_emissions_min+\" MTCO2e (metric tons of carbon dioxide equivalent) emissions</h3>\"))\n",
    "ghg_emissions_fac"
   ]
  },
  {
   "cell_type": "markdown",
   "metadata": {
    "id": "owXPmjFBHn0-"
   },
   "source": [
    "# Exportación de datos"
   ]
  },
  {
   "cell_type": "code",
   "execution_count": null,
   "metadata": {
    "id": "FeF-RnFRIMvM"
   },
   "outputs": [],
   "source": [
    "data = [inspections,\n",
    "violations,\n",
    "enforcements,\n",
    "penalties,\n",
    "emissions]\n",
    "\n",
    "units = [\"#inspections per 1000\",\n",
    "\"#violations per 1000\",\n",
    "\"#actions per facility in violation\",\n",
    "\"$ per facility in violation\",\n",
    "\"amount of emissions (metric tons)\"]\n",
    "\n",
    "short_units = [\"inspectionsper1000\",\n",
    "\"violationsper1000\",\n",
    "\"enforcementsperviolatingfacility\",\n",
    "\"penaltiesperviolatingfacility\",\n",
    "\"emissions2018\"]\n",
    "\n",
    "for index, program in enumerate(data):\n",
    "    # create dataframe\n",
    "    df = pd.DataFrame(program, index=[0]).T\n",
    "    df = df.rename(columns={0: units[index]})\n",
    "    filename= short_units[index]+\"_All_USA_pg4_090120.csv\" #active-facilities_All_MA-CD4_3b_080620.csv\n",
    "    df.to_csv(filename)\n",
    "    print(df)"
   ]
  },
  {
   "cell_type": "code",
   "execution_count": null,
   "metadata": {
    "id": "gyBENbiCIO8B"
   },
   "outputs": [],
   "source": []
  }
 ],
 "metadata": {
  "colab": {
   "name": "Spanish-ECHO-National-092420.ipynb",
   "provenance": []
  },
  "kernelspec": {
   "display_name": "Python 3",
   "language": "python",
   "name": "python3"
  },
  "language_info": {
   "codemirror_mode": {
    "name": "ipython",
    "version": 3
   },
   "file_extension": ".py",
   "mimetype": "text/x-python",
   "name": "python",
   "nbconvert_exporter": "python",
   "pygments_lexer": "ipython3",
   "version": "3.7.2"
  }
 },
 "nbformat": 4,
 "nbformat_minor": 1
}
