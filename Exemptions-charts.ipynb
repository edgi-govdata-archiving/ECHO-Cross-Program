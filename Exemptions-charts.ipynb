{
 "cells": [
  {
   "cell_type": "markdown",
   "metadata": {},
   "source": [
    "# Compare the facilities being offered exemptions from reporting with all USA facilities\n",
    "Do these facilities really deserve to be trusted to do the right thing?\n",
    "\n",
    "Compare violations per facility, and also look at inspections per facility to see how often the EPA has deemed it necessary to look into these facilities."
   ]
  },
  {
   "cell_type": "code",
   "execution_count": null,
   "metadata": {},
   "outputs": [],
   "source": [
    "import pandas as pd"
   ]
  },
  {
   "cell_type": "markdown",
   "metadata": {},
   "source": [
    "### Run the cell for either Violations per facility or Inspections per facility\n",
    "Then execute the rest of the cells to end with the chart."
   ]
  },
  {
   "cell_type": "markdown",
   "metadata": {},
   "source": [
    "## Violations per facility - CAA"
   ]
  },
  {
   "cell_type": "code",
   "execution_count": null,
   "metadata": {},
   "outputs": [],
   "source": [
    "usa_filename = '/home/steve/workspace/EDGI/ECHO-Cross-Program/CSVs/caa_viol_years.csv'\n",
    "exemptions_filename = '/home/steve/workspace/EDGI/ECHO-Cross-Program/CSVs/CAA-Violations-Exemptions-FullList.csv'\n",
    "date_column = 'EARLIEST_FRV_DETERM_DATE'\n",
    "data_column = 'Viol/fac'\n",
    "graph_title = 'Violations per facility--All USA CAA facilities versus Exemption facilities'\n",
    "y_axis = 'Violations/facility'"
   ]
  },
  {
   "cell_type": "markdown",
   "metadata": {},
   "source": [
    "## Inspections per facility - CAA"
   ]
  },
  {
   "cell_type": "code",
   "execution_count": null,
   "metadata": {},
   "outputs": [],
   "source": [
    "usa_filename = '/home/steve/workspace/EDGI/ECHO-Cross-Program/CSVs/caa_insp_years.csv'\n",
    "exemptions_filename = '/home/steve/workspace/EDGI/ECHO-Cross-Program/CSVs/CAA-Inspections-Exemptions-FullList.csv'\n",
    "date_column = 'ACTUAL_END_DATE'\n",
    "data_column = 'Insp/fac'\n",
    "graph_title = 'Inspections per facility--All USA CAA facilities versus Exemption facilities'\n",
    "y_axis = 'Inspections/facility'"
   ]
  },
  {
   "cell_type": "markdown",
   "metadata": {},
   "source": [
    "## Enforcements per facility - CAA"
   ]
  },
  {
   "cell_type": "code",
   "execution_count": null,
   "metadata": {},
   "outputs": [],
   "source": [
    "usa_filename = '/home/steve/workspace/EDGI/ECHO-Cross-Program/CSVs/caa_enf_count_years.csv'\n",
    "exemptions_filename = '/home/steve/workspace/EDGI/ECHO-Cross-Program/CSVs/CAA-Penalties-Exemptions-FullList.csv'\n",
    "date_column = 'SETTLEMENT_ENTERED_DATE'\n",
    "data_column = 'Enf/fac'\n",
    "graph_title = 'Enforcements per facility--All USA CAA facilities versus Exemption facilities'\n",
    "y_axis = 'Enforcements/facility'"
   ]
  },
  {
   "cell_type": "code",
   "execution_count": null,
   "metadata": {},
   "outputs": [],
   "source": [
    "usa = pd.read_csv(usa_filename)\n",
    "usa.set_index('Year', inplace=True)\n",
    "usa['Who'] = 'USA'\n",
    "usa.rename(columns={'USA' : data_column}, inplace=True)\n",
    "usa"
   ]
  },
  {
   "cell_type": "code",
   "execution_count": null,
   "metadata": {},
   "outputs": [],
   "source": [
    "num_facs = 386\n",
    "exemptions = pd.read_csv(exemptions_filename)\n",
    "exemptions = exemptions[['REGISTRY_ID', date_column]]\n",
    "exemptions['Date'] = pd.to_datetime(exemptions[date_column])\n",
    "exemptions['Year'] = pd.DatetimeIndex(exemptions['Date']).year\n",
    "exemptions"
   ]
  },
  {
   "cell_type": "code",
   "execution_count": null,
   "metadata": {},
   "outputs": [],
   "source": [
    "df = exemptions.groupby(['Year', 'REGISTRY_ID']).count()\n",
    "df = df.reset_index()\n",
    "df1 = df.groupby(['Year']).count()\n",
    "df2 = df.groupby(['Year']).sum()\n",
    "df3 = df2.join(df1, lsuffix='_l', rsuffix='_r')\n",
    "df3 = df3[['Date_l']]\n",
    "df3[data_column] = df3['Date_l']/num_facs\n",
    "df3['Who'] = 'Exemptions'\n",
    "df3.drop(['Date_l'], axis=1, inplace=True)\n",
    "df3"
   ]
  },
  {
   "cell_type": "code",
   "execution_count": null,
   "metadata": {},
   "outputs": [],
   "source": [
    "df4 = pd.concat([df3, usa], axis=0)\n",
    "df4"
   ]
  },
  {
   "cell_type": "code",
   "execution_count": null,
   "metadata": {},
   "outputs": [],
   "source": [
    "import matplotlib.pyplot as plt\n",
    "import seaborn as sns\n",
    "\n",
    "#set seaborn plotting aesthetics\n",
    "sns.set(style='white')\n",
    "\n",
    "#create grouped bar chart\n",
    "\n",
    "fig, ax = plt.subplots(figsize=(10,10))\n",
    "try:\n",
    "    g = sns.barplot(x='Year', y=data_column, hue='Who', data=df4)\n",
    "    g.set_title(graph_title)\n",
    "    ax.set_ylabel(y_axis)\n",
    "except TypeError as te:\n",
    "    print(\"TypeError: {}\".format(str(te)))\n"
   ]
  }
 ],
 "metadata": {
  "kernelspec": {
   "display_name": "venv",
   "language": "python",
   "name": "python3"
  },
  "language_info": {
   "codemirror_mode": {
    "name": "ipython",
    "version": 3
   },
   "file_extension": ".py",
   "mimetype": "text/x-python",
   "name": "python",
   "nbconvert_exporter": "python",
   "pygments_lexer": "ipython3",
   "version": "3.12.7"
  }
 },
 "nbformat": 4,
 "nbformat_minor": 2
}
