{
 "cells": [
  {
   "cell_type": "markdown",
   "metadata": {
    "id": "HKVeAQJ3kcjs"
   },
   "source": [
    "| ![EEW logo](https://github.com/edgi-govdata-archiving/EEW-Image-Assets/blob/master/Jupyter%20instructions/eew.jpg?raw=true) | ![EDGI logo](https://github.com/edgi-govdata-archiving/EEW-Image-Assets/blob/master/Jupyter%20instructions/edgi.png?raw=true) |\n",
    "|---|---|\n",
    "\n",
    "Este Jupyter Notebook es licenciado bajo GPL 3.0. Visite nuestro repositorio de Github para obtener más información: https://github.com/edgi-govdata-archiving/\n",
    "\n",
    "Este Jupyter Notebook fue creado en colaboración por EDGI siguiendo nuestro protocolo de autoría: https://docs.google.com/document/d/1CtDN5ZZ4Zv70fHiBTmWkDJ9mswEipX6eCYrwicP66Xw/\n",
    "\n",
    "Para obtener más información sobre este proyecto, visite: https://www.environmentalenforcementwatch.org/\n",
    "\n",
    "\n",
    "\n"
   ]
  },
  {
   "cell_type": "markdown",
   "metadata": {
    "id": "kKe173otmPyW"
   },
   "source": [
    "Nota: Este Jupyter Notebook extrae datos que provienen de una copia de ECHO, una base de datos de la EPA. Esta copia se nos ha hecho disponible gracias a la Universidad de Stony Brook. Los conjuntos de datos se actualizan semanalmente, lo que significa que es posible que algunos de los resultados que vea cuando ejecute este Jupyter Notebook no coincidan exactamente con los de las Boletas de calificaciones a nivel Congressional de EEW. Por ejemplo, para cada programa (CAA, CWA, RCRA), las boletas de calificaciones muestran diez establecimientos que han estado en estado de incumplimiento al menos tres de los últimos 12 trimestres (13 trimestres para la CWA). Por lo tanto, estos resultados cambiarán a medida que pase el año. Además, las boletas de calificaciones estiman la cantidad de instalaciones que estuvieron activas en 2019, ya que la EPA no proporciona tales figuras. Nuestra estimación se basa en la cantidad de instalaciones que la EPA registra como activas en el momento actual. En otras palabras, en este informe usamos “active” (activo) en este momento (en el otoño de 2020) como un proxy para “active” (activo) en 2019. Este número informa varias métricas en las boletas de calificaciones, incluidas las violaciones e inspecciones por 1000 instalaciones - y estas inspecciones y violaciones cambiarán a medida que cambie la cantidad de instalaciones informadas como \"active\" por la EPA. Consulte el repositorio CD-Report para observar los recuentos de instalaciones y las tasas de incumplimiento, ya que los registramos a mediados de septiembre de 2020 para producir las boletas de calificaciones.\n"
   ]
  },
  {
   "cell_type": "markdown",
   "metadata": {
    "id": "M4F8QOffk75U"
   },
   "source": [
    "# Examinando datos de varios programas de la EPA\n",
    "Este Jupyter Notebook examina los datos de la base de datos Historial de Cumplimiento y Aplicación en Línea, o ECHO (https://echo.epa.gov/) de la EPA (Agencia de Protección Ambiental de los Estados Unidos). Incluye información acerca de los programas de la EPA incluyendo la calidad del aire (la Ley de Aire Limpio, o CAA), la calidad del agua (la Ley de Agua Limpia o CWA) y el procesamiento de desechos peligrosos (la Ley de Conservación y Recuperación de Recursos).\n",
    "\n",
    "La base de datos ECHO incluye información sobre las violaciones de las instalaciones, inspecciones y acciones de aplicación de la EPA, del estado y otras agencias. Este Jupyter Notebook contiene información desde el 2001 hasta el día de hoy (la base de datos se actualiza semanalmente) ya que la EPA considera que los datos  después del 2001 son más confiables. El Jupyter Notebook se puede ejecutar para producir datos para múltiples Distritos Congresuales y estados de su elección.\n"
   ]
  },
  {
   "cell_type": "markdown",
   "metadata": {
    "id": "CH-c3rn9lCLz"
   },
   "source": [
    "## Como Ejecutar el Jupyter Notebook\n",
    "*   Una \"celda\" en un Jupyter Notebook es un bloque de código que realiza varias acciones para poner datos específicos a su disposición.  El Jupyter Notebook funciona ejecutando una celda tras otra, mientras usted selecciona las opciones disponibles.\n",
    "*   Si hace clic en una celda de **código** gris, aparece una pequeña flecha de \"botón de reproducción / play button\" a la izquierda. Si hace clic en el botón de reproducción, se ejecutará el código en esa celda (\"**ejecutando** esta celda / running cell\").\n",
    "![Where to click to run the cell](https://github.com/edgi-govdata-archiving/EEW-Image-Assets/blob/master/Jupyter%20instructions/pressplay.JPG?raw=true)\n",
    "*   El botón se animará y parecerá cargarse, cuando la animación se detenga, esto significa que la celda ha terminado de ejecutarse.\n",
    "*   Es posible que reciba una advertencia de que este Jupyter Notebook no ha sido creado por Google. ¡Lo sabemos, nosotros lo creamos! Está bien. Haga clic en \"Ejecutar de todos modos / Run Anyways\" para continuar.\n",
    "![Error Message](https://github.com/edgi-govdata-archiving/EEW-Image-Assets/blob/master/Jupyter%20instructions/warning-message.JPG?raw=true)\n",
    "*   **Es importante ejecutar las células en orden porque dependen unas de otras.**\n",
    "*   Ejecute todas las celdas del Jupyter Notebook para hacer un informe completo. **¡No dude en analizar y aprender sobre cada resultado!**\n",
    "\n"
   ]
  },
  {
   "cell_type": "markdown",
   "metadata": {
    "id": "8sjw_GyyW4IJ"
   },
   "source": [
    "\n",
    "---"
   ]
  },
  {
   "cell_type": "markdown",
   "metadata": {
    "id": "O_DWsGJskYwJ"
   },
   "source": [
    "# **¡Empecemos!**"
   ]
  },
  {
   "cell_type": "markdown",
   "metadata": {
    "id": "uiahzpFRpvC0"
   },
   "source": [
    "Pase el cursor sobre \"[ ]\" en la esquina superior izquierda de la celda abajo y debería ver aparecer un botón de \"reproducir / play\". Haga clic en este botón para ejecutar esta celda. Pase a la siguiente celda.\n",
    "\n",
    "Estas primeras dos celdas nos dan acceso al código externo de Python que necesitaremos después.   \n"
   ]
  },
  {
   "cell_type": "markdown",
   "metadata": {
    "id": "-42zNj_Hp2ce"
   },
   "source": [
    "### 1. Esta celda traerá código almacenado en un proyecto de Github.\n",
    "Estos dos repositorios de github contienen el código Python que usa el Jupyter Notebook.\n",
    "* ECHO_modules contiene código que se puede usar en este y otros Jupyter Notebooks (la clase DataSet, la función make_data_sets (), etc.)\n",
    "* Este Jupyter Notebook se contiene en el repositorio ECHO-Cross-Program. Clonamos este repositorio para poder utilizar el archivo utilities.py.\n"
   ]
  },
  {
   "cell_type": "code",
   "execution_count": null,
   "metadata": {
    "colab": {
     "base_uri": "https://localhost:8080/"
    },
    "id": "ypc4rDoWsNl2",
    "outputId": "89cc50d6-82aa-4de8-cf3c-0055b445bb87"
   },
   "outputs": [],
   "source": [
    "!git clone https://github.com/edgi-govdata-archiving/ECHO_modules.git\n",
    "!git clone https://github.com/edgi-govdata-archiving/ECHO-Cross-Program.git\n",
    "!pip install geopandas\n",
    "print(\"Done!\")"
   ]
  },
  {
   "cell_type": "markdown",
   "metadata": {
    "id": "IVr2Xx2msUSw"
   },
   "source": [
    "### 2. Esta celda ejecutará algunos módulos de Python.\n",
    "Estos módulos nos ayudarán a procesar y visualizar los conjuntos de datos de cada programa (CAA, CWA, RCRA) más adelante.\n",
    "* La clase DataSet sabe cómo leer la base de datos de un conjunto de datos ECHO, por ejemplo: violaciónes de CWA.\n",
    "* Utilities.py tiene el código Python que ayuda a mostrar gráficos y mapas, también ayuda a crear nombres de archivos, etc.\n",
    "* Make_data_set.py tiene código que crea un objeto DataSet para cada uno de los conjuntos de datos de ECHO, utilizando los cuadros de base de datos apropiados.\n"
   ]
  },
  {
   "cell_type": "code",
   "execution_count": null,
   "metadata": {
    "colab": {
     "base_uri": "https://localhost:8080/"
    },
    "id": "bIh2aSJesPSZ",
    "outputId": "1243e612-4a30-4997-e645-be62ddcf2ad0"
   },
   "outputs": [],
   "source": [
    "%run ECHO_modules/DataSet.py\n",
    "%run ECHO-Cross-Program/utilities.py\n",
    "%run ECHO_modules/make_data_sets.py\n",
    "print(\"Done!\")"
   ]
  },
  {
   "cell_type": "markdown",
   "metadata": {
    "id": "3pJwoneQsOn4"
   },
   "source": [
    "### 3. Esta celda contiene los parámetros de la ejecución del Jupyter Notebook. Puede cambiar los pares (estado, Distrito Congresual) y ejecutar el Jupyter Notebook para varios Distritos Congresuales en varios estados. Después de configurar los pares (estado, Distrito Congresual) que desea, puede indicarle al Jupyter Notebook que ejecute todo para ejecutar el resto de las celdas. Luego puede regresar y examinar los resultados.\n",
    "Puede poner los pares de estado / CD en un archivo o ingresarlos en esta celda. Para usar un archivo, separe el estado del CD con una coma, de manera que quede un par en cada línea. El nombre  predeterminado del archivo es cds_todo.csv, pero puede cambiarlo si usted quiere. Establezca read_cds_from_csv en True. Puede aumentar los pares de estado / CD que están en el archivo colocándolos en la función state_cds.extend () como se demuestra. Si no está utilizando un archivo, agregue su lista de pares de estado / CD como se muestra en el ejemplo state_cds.extend ().\n"
   ]
  },
  {
   "cell_type": "code",
   "execution_count": null,
   "metadata": {
    "colab": {
     "base_uri": "https://localhost:8080/",
     "height": 229
    },
    "id": "52VDG9bnsZj0",
    "outputId": "0c6ab4b2-79be-4963-eabb-d6aab034a4b2"
   },
   "outputs": [],
   "source": [
    "region_type = 'Congressional District'\n",
    "should_make_charts = True\n",
    "read_cds_from_csv = False\n",
    "cds_filename = 'cds_todo/cds_todo_10.csv'\n",
    "state_cds = []\n",
    "if ( read_cds_from_csv ):\n",
    "    from csv import reader\n",
    "    with open( cds_filename, 'r' ) as read_obj:\n",
    "        csv_reader = reader( read_obj )\n",
    "        raw_state_cds = list( map( tuple, csv_reader ))\n",
    "    state_cds = []\n",
    "    for state, cd in raw_state_cds:\n",
    "        if ( cd == '0' ):\n",
    "            cd = None\n",
    "        else:\n",
    "            cd = int( cd )\n",
    "        state_cds.append((state,cd))\n",
    "# Specify the state/CD pairs to run. They will be added to any that\n",
    "# were already read from the file.\n",
    "# Examples:\n",
    "state_cds.extend([('WA',2),('WY',None)])\n",
    "\n",
    "# data_set_list = ['RCRA Violations', 'RCRA Penalties',\n",
    "#                  'CAA Violations', 'CAA Penalties',\n",
    "#                  'CWA Violations', 'CWA Penalties', ] \n",
    "                 #CAA Enforcements, CWA Enforcements, RCRA Enforcements\n",
    "data_set_list = ['RCRA Violations', 'RCRA Inspections', 'RCRA Penalties',\n",
    "                 'CAA Violations', 'CAA Inspections', 'CAA Penalties', 'Greenhouse Gas Emissions', \n",
    "                 'CWA Violations', 'CWA Inspections', 'CWA Penalties', ] \n"
   ]
  },
  {
   "cell_type": "markdown",
   "metadata": {
    "id": "47StlZmQsP3a"
   },
   "source": [
    "### 4. Esta celda obtiene los datos de la base de datos\n",
    "Es posible que esto tarde un poco en ejecutarse si está analisando varios Distritos Congresuales\n",
    "* El data_set_list de la celda # 3 se le da a la función make_data_sets () que crea un objeto DataSet para cada elemento de la lista.\n",
    "* Revise cada uno de los pares (estado, cd) en la lista state_cd especificados en la celda # 3 para que la base de datos devuelva y almacéne los objetos\n",
    "* DataSet de ese estado y CD específicos.\n",
    "También revise cada estado único en la lista y almacene los datos de todo el estado."
   ]
  },
  {
   "cell_type": "code",
   "execution_count": null,
   "metadata": {
    "id": "tVTrE4_Osicg"
   },
   "outputs": [],
   "source": [
    "data_sets=make_data_sets( data_set_list )\n",
    "print( \"Congressional District data sets:\")\n",
    "for state, cd in state_cds:\n",
    "    if ( cd is None ):\n",
    "        continue\n",
    "    for ds_key, data_set in data_sets.items():\n",
    "        print( state + '-' + str(cd) + ' - ' + ds_key )\n",
    "        data_set.store_results( region_type=region_type, region_value=cd, state=state )\n",
    "\n",
    "print( \"State data sets:\")\n",
    "states = list(set([s_cd[0] for s_cd in state_cds]))  #Use conversion to set to make unique\n",
    "for state in states:\n",
    "    for ds_key, data_set in data_sets.items():\n",
    "        print( state + ' - ' + ds_key )\n",
    "        data_set.store_results( region_type='State', region_value=None, state=state )"
   ]
  },
  {
   "cell_type": "markdown",
   "metadata": {
    "id": "oGq9VIfXsl37"
   },
   "source": [
    "### 5. Esta celda generará un gráfico para cada conjunto de datos y cada par (estado, CD).\n",
    "La celda llama a cada uno de los métodos show_charts () de los objetos DataSet para hacer un gráfico de estos datos.\n"
   ]
  },
  {
   "cell_type": "code",
   "execution_count": null,
   "metadata": {
    "id": "ZEKsC3Wxsj9W"
   },
   "outputs": [],
   "source": [
    "if ( should_make_charts ):\n",
    "    for ds_key, data_set in data_sets.items():\n",
    "        print( ds_key )\n",
    "        if ( ds_key != 'RCRA Penalties' ):\n",
    "            data_set.show_charts()"
   ]
  },
  {
   "cell_type": "markdown",
   "metadata": {
    "id": "WkEmGluvsjIA"
   },
   "source": [
    "### 6. Obtenga los datos estatales para realizar comparaciones\n",
    "Solicite los registros de las instalaciones del estado en la base de datos ECHO_EXPORTER\n",
    "* state_echo_data es un diccionario con el nombre del estado como clave y los datos como valor, para todos los registros.\n",
    "* state_echo_active es un diccionario para todos los registros en state_echo_data identificados como activos.\n",
    "\n"
   ]
  },
  {
   "cell_type": "code",
   "execution_count": null,
   "metadata": {
    "id": "PK5_GPO6spTB"
   },
   "outputs": [],
   "source": [
    "states = list(set([s_cd[0] for s_cd in state_cds]))  #Use conversion to set to make unique\n",
    "state_echo_data = {}\n",
    "state_echo_active = {}\n",
    "for state in states:\n",
    "    state_echo_data[state] = read_file( 'ECHO_EXPORTER', 'State', state, None )\n",
    "    if ( state_echo_data[state] is None ):\n",
    "        sql = 'select * from \"ECHO_EXPORTER\" where \"FAC_STATE\" = \\'{}\\''.format( state )\n",
    "        state_echo_data[state] = get_data( sql, 'REGISTRY_ID' )\n",
    "        write_dataset( state_echo_data[state], 'ECHO_EXPORTER', 'State', state, None )\n",
    "    state_echo_active[state] = state_echo_data[state].loc[state_echo_data[state]['FAC_ACTIVE_FLAG']=='Y']\n",
    "    print( 'There are {} active facilities in {}.'.format( \n",
    "        str(state_echo_active[state].shape[0]), state))"
   ]
  },
  {
   "cell_type": "markdown",
   "metadata": {
    "id": "h1dguraXsq0y"
   },
   "source": [
    "### 7. Demuestra el número de instalaciones activas reguladas en la CAA, CWA, RCRRA, GHGRP\n",
    "* La función program_count () mira los datos de ECHO_EXPORTER y cuenta el número de instalaciones que tienen el parámetro 'flag' establecido en 'Y' (AIR_FLAG, NPDES_FLAG, RCRA_FLAG, GHG_FLAG)\n",
    "* cd_echo_data es un diccionario con clave (estado, cd), donde state_echo_data se filtra para los registros del CD actual.\n",
    "* cd_echo_active es un diccionario de instalaciones activas en el CD.\n",
    "* El número de registros de estos diccionarios se escribe en un archivo llamado 'active-Facilities_All_pg3', en un directorio identificado por el estado y el CD, p. \"LA2\".\n"
   ]
  },
  {
   "cell_type": "code",
   "execution_count": null,
   "metadata": {
    "id": "Fyb4SWGLsumV"
   },
   "outputs": [],
   "source": [
    "def program_count( echo_data, program, flag, state, cd ):\n",
    "    count = echo_data.loc[echo_data[flag]=='Y'].shape[0]\n",
    "    print( 'There are {} active facilities in {} CD {} tracked under {}.'.format( \n",
    "        str( count ), state, cd, program))\n",
    "    return count\n",
    "    \n",
    "cd_echo_data = {}\n",
    "cd_echo_active = {}\n",
    "for state, cd in state_cds:\n",
    "    rowdata = []    \n",
    "    if ( cd is None ):\n",
    "        this_echo_data = state_echo_data[state]\n",
    "        filename = make_filename( 'active-facilities_All_pg3', 'State', \n",
    "                             None, state )\n",
    "    else:\n",
    "        this_echo_data = state_echo_data[state].loc[state_echo_data[state]['FAC_DERIVED_CD113'] == cd]\n",
    "        cd_echo_data[(state,cd)] = this_echo_data\n",
    "        filename = make_filename( 'active-facilities_All_pg3', 'Congressional District', \n",
    "                             state, cd )\n",
    "    this_echo_active = this_echo_data.loc[this_echo_data['FAC_ACTIVE_FLAG']=='Y']\n",
    "    if ( cd is not None ):\n",
    "        cd_echo_active[(state,cd)] = this_echo_active\n",
    "    rowdata.append( ['CAA', program_count( this_echo_active, 'CAA', 'AIR_FLAG', state, cd)] )\n",
    "    rowdata.append( ['CWA', program_count( this_echo_active, 'CWA', 'NPDES_FLAG', state, cd)] )\n",
    "    rowdata.append( ['RCRA', program_count( this_echo_active, 'RCRA', 'RCRA_FLAG', state, cd)] )\n",
    "    rowdata.append( ['GHG', program_count( this_echo_active, 'GHG', 'GHG_FLAG', state, cd)] )\n",
    "    with open( filename, 'w', newline='' ) as csvfile:\n",
    "        header = ['Program', 'Count']\n",
    "        writer = csv.writer( csvfile )\n",
    "        writer.writerow( header )\n",
    "        writer.writerows( rowdata ) \n",
    "        print( \"Wrote {}\".format( filename ))     "
   ]
  },
  {
   "cell_type": "markdown",
   "metadata": {
    "id": "Le_m5kvgsx4C"
   },
   "source": [
    "### 8. Mapa de todas las instalaciones actualmente activas en cada distrito.\n"
   ]
  },
  {
   "cell_type": "code",
   "execution_count": null,
   "metadata": {
    "id": "Fg812U_NwD5m"
   },
   "outputs": [],
   "source": [
    "if ( should_make_charts ):\n",
    "    import geopandas\n",
    "\n",
    "    for state, cd in state_cds:\n",
    "        print( 'Map for {} CD {}'.format( state, cd ))\n",
    "        if ( cd is None ):\n",
    "            this_data = state_echo_active[state]\n",
    "        else:\n",
    "            this_data = cd_echo_active[(state, cd)]\n",
    "        # Only map CAA, CWA, RCRA, or GHG facilities active in this district:\n",
    "        map_data = this_data.loc[(this_data['AIR_FLAG']==\"Y\") | (this_data['NPDES_FLAG']==\"Y\") |\n",
    "                (this_data['RCRA_FLAG']==\"Y\")| (this_data['GHG_FLAG']==\"Y\")]\n",
    "        m = mapper(map_data)\n",
    "        if ( cd is not None ):\n",
    "            url = \"https://raw.githubusercontent.com/unitedstates/districts/gh-pages/cds/2016/{}-{}/shape.geojson\".format( state, str(cd))\n",
    "            map_data = geopandas.read_file(url)\n",
    "            w = folium.GeoJson(\n",
    "                map_data,\n",
    "                name = \"EPA Regions\",\n",
    "            ).add_to(m) #m is the map object created to hold the facility points. we want to add this shape object to that map object\n",
    "            folium.GeoJsonTooltip(fields=[\"District\"]).add_to(w)\n",
    "\n",
    "        display( m )"
   ]
  },
  {
   "cell_type": "markdown",
   "metadata": {
    "id": "-reoKTBOwGMU"
   },
   "source": [
    "### 9. Número de violaciones recurrentes: instalaciones con más de 3 trimestres de los últimos 12 en incumplimiento de leyes ambientales, por cada programa\n",
    "Para cada estado único y luego para cada CD, observamos los registros activos y contamos las instalaciones que tienen violaciónes 'S' o 'V' en 3 o más trimestres. Las áreas analizadass son:\n",
    "* CAA - CAA_3YR_COMPL_QTRS_HISTORY\n",
    "* CWA - CWA_13QTRS_COMPL_HISTORY (en realidad 13 trimestres en lugar de 3 años).\n",
    "* RCRA - RCRA_3YR_COMPL_QTRS_HISTORY\n",
    "* La función get_rowdata () toma el trama de datos y busca registros con violaciónes 'S' o 'V' en más de 3 trimestres. La funcion get_rowdata() divide las violaciones por el número de instalaciones, devolviendo el recuento bruto de las instalaciones en violación de más de 3 meses y el porcentaje de instalaciones.\n"
   ]
  },
  {
   "cell_type": "code",
   "execution_count": null,
   "metadata": {
    "id": "xIEm89dKwG9F"
   },
   "outputs": [],
   "source": [
    "states = list(set([s_cd[0] for s_cd in state_cds]))  #Use conversion to set to make unique\n",
    "\n",
    "def get_rowdata( df, field, flag ):\n",
    "    num_fac = df.loc[df[flag]=='Y'].shape[0]\n",
    "    if ( num_fac == 0 ):\n",
    "        return (0,0)\n",
    "    count_viol = df.loc[((df[field].str.count(\"S\") + \n",
    "                df[field].str.count(\"V\")) >= 3)].shape[0]\n",
    "    fraction_viol = count_viol/num_fac\n",
    "    print( \"    {} facilities with at least 3 quarters in non-compliance over the past 3 years\".format( count_viol ))\n",
    "    print( \"    {:.2%} of active facilities with at least 3 quarters in non-compliance over the past 3 years\".format( \n",
    "           fraction_viol ))\n",
    "    return (count_viol, fraction_viol * 100.)\n",
    "\n",
    "rowdata_state = {}\n",
    "for state in states:\n",
    "    print( \"State: {}\".format( state ))\n",
    "    print( \"  CAA\")\n",
    "    rowdata_state[state] = []\n",
    "    rd = get_rowdata( state_echo_active[state], 'CAA_3YR_COMPL_QTRS_HISTORY', 'AIR_FLAG')\n",
    "    rowdata_state[state].append([ 'CAA', state, '', rd[0], rd[1]])\n",
    "    print( \"  CWA\")\n",
    "    rd = get_rowdata( state_echo_active[state], 'CWA_13QTRS_COMPL_HISTORY', 'NPDES_FLAG')\n",
    "    rowdata_state[state].append([ 'CWA', state, '', rd[0], rd[1]])\n",
    "    print( \"  RCRA\")\n",
    "    rd = get_rowdata( state_echo_active[state], 'RCRA_3YR_COMPL_QTRS_HISTORY', 'RCRA_FLAG')\n",
    "    rowdata_state[state].append([ 'RCRA', state, '', rd[0], rd[1]])\n",
    "\n",
    "for state, cd in state_cds:\n",
    "    if ( cd is None ):\n",
    "        filename = make_filename( 'recurring-violations_All_pg3', 'State',\n",
    "                             None, state )\n",
    "        with open( filename, 'w', newline='' ) as csvfile:\n",
    "            header = ['Program', 'State', '', 'Facilities', 'Percent']\n",
    "            writer = csv.writer( csvfile )\n",
    "            writer.writerow( header )\n",
    "            writer.writerows( rowdata_state[state] ) \n",
    "            print( \"Wrote {}\".format( filename ))\n",
    "    else:\n",
    "        filename = make_filename( 'recurring-violations_All_pg3', 'Congressional District',\n",
    "                             state, cd )\n",
    "        rowdata_cd = []\n",
    "        print( \"{} - CD {}\".format( state, cd ))\n",
    "        print( \"  CAA\")\n",
    "        rd = get_rowdata( cd_echo_active[(state,cd)], 'CAA_3YR_COMPL_QTRS_HISTORY', 'AIR_FLAG')\n",
    "        rowdata_cd.append([ 'CAA', state, cd, rd[0], rd[1]])\n",
    "        print( \"  CWA\")\n",
    "        rd = get_rowdata( cd_echo_active[(state,cd)], 'CWA_13QTRS_COMPL_HISTORY', 'NPDES_FLAG')\n",
    "        rowdata_cd.append([ 'CWA', state, cd, rd[0], rd[1]])\n",
    "        print( \"  RCRA\")\n",
    "        rd = get_rowdata( cd_echo_active[(state,cd)], 'RCRA_3YR_COMPL_QTRS_HISTORY', 'RCRA_FLAG')\n",
    "        rowdata_cd.append([ 'RCRA', state, cd, rd[0], rd[1]])\n",
    "        with open( filename, 'w', newline='' ) as csvfile:\n",
    "            header = ['Program', 'State', 'CD', 'Facilities', 'Percent']\n",
    "            writer = csv.writer( csvfile )\n",
    "            writer.writerow( header )\n",
    "            writer.writerows( rowdata_state[state] ) \n",
    "            writer.writerows( rowdata_cd )\n",
    "            print( \"Wrote {}\".format( filename ))"
   ]
  },
  {
   "cell_type": "markdown",
   "metadata": {
    "id": "DUGvQBDhwHtT"
   },
   "source": [
    "### 10 El % de cambio en las violaciones de efluentes (CWA)\n",
    "Para cada CD y luego cada estado único,\n",
    "* el trimestre se identifica con 5 dígitos, los primeros 4 son el año y el quinto es el trimestre, como en 20013 para el tercer trimestre de 2001\n",
    "* el trimestre está cortado, por lo que ahora habrá 4 registros para la instalación para 2001\n",
    "* los valores para los 4 tipos de violaciones - NUME90Q, NUMCVDT, NUMSVCD, NUMPSCH - se suman, en todas las instalaciones, para obtener un solo valor para el año. Los resultados de todos los años están almacenados en el diccionario effluent_violations_all, y el valor para 2019 está almacenado en su propio diccionario effluent_violations_2019. La clave de los diccionarios es (estado, cd). Estos se utilizarán después en una de las siguientes celdas.\n"
   ]
  },
  {
   "cell_type": "code",
   "execution_count": null,
   "metadata": {
    "id": "Nb3MfChFwMJd"
   },
   "outputs": [],
   "source": [
    "effluent_violations_2019 = {}  #For use later\n",
    "effluent_violations_all = {}  #For use later\n",
    "states = list(set([s_cd[0] for s_cd in state_cds]))  #Use conversion to set to make unique\n",
    "\n",
    "def get_cwa_df( df ):\n",
    "    year = df[\"YEARQTR\"].astype(\"str\").str[0:4:1]\n",
    "    df[\"YEARQTR\"] = year\n",
    "    df.rename( columns={'YEARQTR':'YEAR'}, inplace=True )\n",
    "    # Remove fields not relevant to this graph.\n",
    "    df = df.drop(columns=['FAC_LAT', 'FAC_LONG', 'FAC_ZIP', \n",
    "        'FAC_EPA_REGION', 'FAC_DERIVED_WBD', 'FAC_DERIVED_CD113',\n",
    "        'FAC_PERCENT_MINORITY', 'FAC_POP_DEN'])\n",
    "    d = df.groupby(pd.to_datetime(df['YEAR'], format=\"%Y\").dt.to_period(\"Y\")).sum()\n",
    "    d.index = d.index.strftime('%Y')\n",
    "    d = d[ d.index > '2000' ]\n",
    "    d['Total'] = d.sum(axis=1)\n",
    "    return( d )\n",
    "\n",
    "for state, cd in state_cds:\n",
    "    if ( cd is None ):\n",
    "        continue\n",
    "    print( \"CWA Violations - {} District: {}\".format( state, cd ))\n",
    "    df = data_sets[\"CWA Violations\"].results[('Congressional District', cd, state)].dataframe.copy()\n",
    "    effluent_violations_all[ (state, cd) ] = get_cwa_df( df )\n",
    "    display(effluent_violations_all[ (state, cd) ])\n",
    "    filename = make_filename( 'violations_CWA_pg3', 'Congressional District', \n",
    "                             state, cd )\n",
    "    with open( filename, 'w', newline='' ) as csvfile:\n",
    "        header = ['Year', 'Violations']\n",
    "        writer = csv.writer( csvfile )\n",
    "        writer.writerow( header )\n",
    "        for row in effluent_violations_all[ (state, cd) ].itertuples():\n",
    "            if ( row[0] == '2019' ):\n",
    "                effluent_violations_2019[(state,cd)] = row[5]\n",
    "            writer.writerow( [ row[0], row[5]] )\n",
    "        print( \"Wrote {}\".format( filename ))\n",
    "\n",
    "for state in states:\n",
    "    filename = make_filename( 'violations_CWA_pg3', 'State', None, state )\n",
    "    df = data_sets[\"CWA Violations\"].results[('State', None, state)].dataframe.copy()\n",
    "    cwa_all_df = get_cwa_df( df )\n",
    "    effluent_violations_all[ (state, None) ] = cwa_all_df\n",
    "    effluent_violations_2019[ (state, None) ] = cwa_all_df[cwa_all_df.index == '2019']['NUME90Q'][0]\n",
    "    with open( filename, 'w', newline='' ) as csvfile:\n",
    "        header = ['Year', 'Violations']\n",
    "        writer = csv.writer( csvfile )\n",
    "        writer.writerow( header )\n",
    "        for row in cwa_all_df.itertuples():\n",
    "            if ( row[0] == '2019' ):\n",
    "                effluent_violations_2019[(state,None)] = row[5]\n",
    "            writer.writerow( [ row[0], row[5]] )\n",
    "        print( \"Wrote {}\".format( filename ))\n"
   ]
  },
  {
   "cell_type": "markdown",
   "metadata": {
    "id": "aMerNkBAwMuM"
   },
   "source": [
    "### 11.El % de cambio en las inspecciones\n",
    "Para cada CD, el área de fecha para ese tipo de programa se utiliza para contar todas las inspecciones del año. (La área de fecha para cada conjunto de datos se identifica en make_data_sets () cuando se crea el objeto DataSet. Se muestra aquí como ds.date_field).\n"
   ]
  },
  {
   "cell_type": "code",
   "execution_count": null,
   "metadata": {
    "id": "q9V0m1XebdSB"
   },
   "outputs": [],
   "source": [
    "def get_inspections( ds, ds_type ):\n",
    "    df0 = ds.results[ ds_type ].dataframe\n",
    "    if ( df0 is None ):\n",
    "        return None\n",
    "    else:\n",
    "        df_pgm = df0.copy()\n",
    "    if ( len( df_pgm ) > 0 ):\n",
    "        df_pgm.rename( columns={ ds.date_field: 'Date',\n",
    "                            ds.agg_col: 'Count'}, inplace=True )\n",
    "        df_pgm = df_pgm.groupby(pd.to_datetime(df_pgm['Date'], \n",
    "                            format=ds.date_format, errors='coerce'))[['Count']].agg('count')\n",
    "        df_pgm = df_pgm.resample('Y').sum()\n",
    "        df_pgm.index = df_pgm.index.strftime('%Y')\n",
    "        df_pgm = df_pgm[ df_pgm.index > '2000' ]\n",
    "        display( df_pgm )\n",
    "    else:\n",
    "        print( \"No records\")\n",
    "    return df_pgm\n",
    "    \n",
    "for state, cd in state_cds:\n",
    "    if ( cd is None ):\n",
    "        ds_type = ('State', None, state)\n",
    "    else:\n",
    "        ds_type = ('Congressional District', cd, state)\n",
    "    print( \"CAA Inspections - {} District: {}\".format( state, cd ))\n",
    "    df_caa = get_inspections( data_sets[\"CAA Inspections\"], ds_type )\n",
    "    \n",
    "    print( \"CWA Inspections - {} District: {}\".format( state, cd ))\n",
    "    df_cwa = get_inspections( data_sets[\"CWA Inspections\"], ds_type )\n",
    "   \n",
    "    print( \"RCRA Inspections - {} District: {}\".format( state, cd ))\n",
    "    df_rcra = get_inspections( data_sets[\"RCRA Inspections\"], ds_type )\n",
    "    \n",
    "    df_totals = pd.concat( [df_caa, df_cwa, df_rcra] )\n",
    "    df_totals = df_totals.groupby( df_totals.index ).agg('sum')\n",
    "    print( \"Total inspections for {} district {}\".format( state,cd ))\n",
    "    display( df_totals )\n",
    "    \n",
    "    for file in [{\"inspections_All_pg3\":df_totals}, {\"inspections_CAA_pg3\":df_caa}, \n",
    "                 {\"inspections_CWA_pg3\":df_cwa}, {\"inspections_RCRA_pg3\":df_rcra}]:\n",
    "        if ( cd is None ):\n",
    "            file_type = ds_type\n",
    "        else:\n",
    "            file_type = ('Congressional District', state, cd)\n",
    "        filename = make_filename( list(file.keys())[0], *file_type )\n",
    "        df = file.values()\n",
    "        if ( list(df)[0] is not None ):\n",
    "            list(df)[0].to_csv( filename )\n",
    "            print( \"Wrote {}\".format( filename ))"
   ]
  },
  {
   "cell_type": "markdown",
   "metadata": {
    "id": "oXp26bz5bd0_"
   },
   "source": [
    "### 12.El % de cambio en aplicación de leyes ambientales: penalizaciones y número de acciones de aplicación\n",
    "* Para cada CD, el número de acciones de aplicación y la cantidad de penalización ($) se recuperan de la área agg_col (especificado en make_data_sets () para cada DataSet). \n",
    "\n",
    "* El número de penalizacion y la cantidad de penalización ($) se acumulan para cada año.\n"
   ]
  },
  {
   "cell_type": "code",
   "execution_count": null,
   "metadata": {
    "id": "zASIDdlbbe1C"
   },
   "outputs": [],
   "source": [
    "def get_enforcements( ds, ds_type ):\n",
    "    df0 = ds.results[ ds_type ].dataframe\n",
    "    if ( df0 is None ):\n",
    "        return None\n",
    "    else:\n",
    "        df_pgm = df0.copy()\n",
    "    if ( len( df_pgm ) > 0 ):\n",
    "        df_pgm.rename( columns={ ds.date_field: 'Date',\n",
    "                            ds.agg_col: 'Amount'}, inplace=True )\n",
    "        if ds.name == \"CWA Penalties\":\n",
    "            df_pgm['Amount'] = df_pgm['Amount'].fillna(0) + \\\n",
    "                    df_pgm['STATE_LOCAL_PENALTY_AMT'].fillna(0)                            \n",
    "        df_pgm[\"Count\"] = 1\n",
    "        df_pgm = df_pgm.groupby(pd.to_datetime(df_pgm['Date'], \n",
    "                format=\"%m/%d/%Y\", errors='coerce')).agg({'Amount':'sum','Count':'count'})\n",
    "\n",
    "        df_pgm = df_pgm.resample('Y').sum()\n",
    "        df_pgm.index = df_pgm.index.strftime('%Y')\n",
    "        df_pgm = df_pgm[ df_pgm.index >= \"2001\" ]\n",
    "        display(df_pgm )\n",
    "    else:\n",
    "        print( \"No records\")\n",
    "    return df_pgm\n",
    "    \n",
    "for state, cd in state_cds:\n",
    "    if ( cd is None ):\n",
    "        ds_type = ('State', None, state)\n",
    "        file_type = ds_type\n",
    "    else:\n",
    "        ds_type = ('Congressional District', cd, state)\n",
    "        file_type = ('Congressional District', state, cd)\n",
    "    print( \"CAA Penalties - {} District: {}\".format( state, cd ))\n",
    "    df_caa = get_enforcements( data_sets[\"CAA Penalties\"], ds_type )\n",
    "    if ( df_caa is not None ):\n",
    "        filename = make_filename( 'enforcements_CAA_pg5', *file_type )\n",
    "        df_caa.to_csv( filename )\n",
    "        print( \"Wrote {}\".format( filename ))\n",
    "    \n",
    "    print( \"CWA Penalties - {} District: {}\".format( state, cd ))\n",
    "    df_cwa = get_enforcements( data_sets[\"CWA Penalties\"], ds_type )\n",
    "    if ( df_cwa is not None ):\n",
    "        filename = make_filename( 'enforcements_CWA_pg6', *file_type )\n",
    "        df_cwa.to_csv( filename )\n",
    "        print( \"Wrote {}\".format( filename ))\n",
    "    \n",
    "    print( \"RCRA Penalties - {} District: {}\".format( state, cd ))\n",
    "    df_rcra = get_enforcements( data_sets[\"RCRA Penalties\"], ds_type )\n",
    "    if ( df_rcra is not None ):\n",
    "        filename = make_filename( 'enforcements_RCRA_pg7', *file_type )\n",
    "        df_rcra.to_csv( filename )\n",
    "        print( \"Wrote {}\".format( filename ))\n",
    "    \n",
    "    df_totals = pd.concat( [df_caa, df_cwa, df_rcra] )\n",
    "    df_totals = df_totals.groupby( df_totals.index ).agg('sum')\n",
    "    print( \"Total enforcements for {} district {}\".format( state,cd ))\n",
    "    display( df_totals )\n",
    "    filename = make_filename( 'enforcements_All_pg3', *file_type )\n",
    "    df_totals.to_csv( filename )\n",
    "    print( \"Wrote {}\".format( filename ))"
   ]
  },
  {
   "cell_type": "markdown",
   "metadata": {
    "id": "05ampvyEbfsx"
   },
   "source": [
    "### 13.a. 2019 - inspecciones por cada 1000 instalaciones reguladas - por distrito\n",
    "* Para cada CD, los datos de las inspecciones se agrupan en años de nuevo.\n",
    "* La función get_num_events () cuenta todos los eventos que obtiene de get_events () para el año solicitado, que en este caso es 2019. \n",
    "* Este número se divide por el número de instalaciones en el distrito, de la función program_count () de la celda # 7. \n",
    "* El resultado se multiplica por 1000, lo que equivale a dividir el denominador (número de instalaciones) por 1000.\n"
   ]
  },
  {
   "cell_type": "code",
   "execution_count": null,
   "metadata": {
    "id": "HIBrb67WbhdK"
   },
   "outputs": [],
   "source": [
    "def get_events( ds, ds_type ):\n",
    "    df0 = ds.results[ ds_type ].dataframe\n",
    "    if ( df0 is None ):\n",
    "        return None\n",
    "    else:\n",
    "        df_pgm = df0.copy()\n",
    "    df_pgm.rename( columns={ ds.date_field: 'Date',\n",
    "                        ds.agg_col: 'Count'}, inplace=True )\n",
    "    \n",
    "    try:\n",
    "        df_pgm = df_pgm.groupby(pd.to_datetime(df_pgm['Date'], \n",
    "                        format=ds.date_format, errors='coerce'))[['Count']].agg('count')\n",
    "    except ValueError:\n",
    "        print( \"Error with date {}\".format(df_pgm['Date']))\n",
    "    df_pgm = df_pgm.resample('Y').sum()\n",
    "    df_pgm.index = df_pgm.index.strftime('%Y')\n",
    "    df_pgm = df_pgm[ df_pgm.index >= '2001']\n",
    "    return( df_pgm )\n",
    "\n",
    "def get_num_events( ds, ds_type, state, cd, year='2019' ):\n",
    "    df_pgm = get_events( ds, ds_type )\n",
    "    if ( df_pgm is None ):\n",
    "        return 0\n",
    "    if ( len( df_pgm ) > 0 ):\n",
    "        num_events = df_pgm[ df_pgm.index == year ]\n",
    "        if ( num_events.empty ):\n",
    "            return 0\n",
    "        else:\n",
    "            return num_events['Count'][0]\n",
    "    \n",
    "for state, cd in state_cds:\n",
    "    if ( cd is None ):\n",
    "        continue\n",
    "    ds_type = ('Congressional District', cd, state)\n",
    "    cd_echo_data[(state,cd)] = state_echo_data[state].loc[state_echo_data[state]['FAC_DERIVED_CD113'] == cd]\n",
    "    cd_echo_active[(state,cd)] = cd_echo_data[(state,cd)].loc[cd_echo_data[(state,cd)]['FAC_ACTIVE_FLAG']=='Y']\n",
    "    filename = make_filename( 'inspectionsper1000_All_pg4', 'Congressional District', \n",
    "                             state, cd )\n",
    "    with open( filename, 'w', newline='' ) as csvfile:\n",
    "        header = ['Program', 'Num / 1000']\n",
    "        writer = csv.writer( csvfile )\n",
    "        writer.writerow( header )\n",
    "        try:\n",
    "            num = 1000. * get_num_events( data_sets[\"CAA Inspections\"], ds_type, state, cd ) / \\\n",
    "                program_count( cd_echo_active[(state,cd)], 'CAA', 'AIR_FLAG', state, cd)\n",
    "            print(\"CAA inspections per 1000 regulated facilities: \", num)\n",
    "            writer.writerow( ['CAA', num] )\n",
    "        except pd.errors.OutOfBoundsDatetime:\n",
    "            print( \"Bad date in state CWA data\")\n",
    "        try:\n",
    "            num = 1000. * get_num_events( data_sets[\"CWA Inspections\"], ds_type, state, cd ) / \\\n",
    "                program_count( cd_echo_active[(state,cd)], 'CWA', 'NPDES_FLAG', state, cd)\n",
    "            print(\"CWA inspections per 1000 regulated facilities: \", num)\n",
    "            writer.writerow( ['CWA', num] )\n",
    "        except pd.errors.OutOfBoundsDatetime:\n",
    "            print( \"Bad date in state CWA data\")\n",
    "        try:\n",
    "            num = 1000. * get_num_events( data_sets[\"RCRA Inspections\"], ds_type, state, cd ) / \\\n",
    "                program_count( cd_echo_active[(state,cd)], 'RCRA', 'RCRA_FLAG', state, cd)\n",
    "            print(\"RCRA inspections per 1000 regulated facilities: \", num)\n",
    "            writer.writerow( ['RCRA', num] )\n",
    "        except pd.errors.OutOfBoundsDatetime:\n",
    "            print( \"Bad date in state CWA data\")\n",
    "        print( \"Wrote {}\".format( filename ))"
   ]
  },
  {
   "cell_type": "markdown",
   "metadata": {
    "id": "saPgGjKsbipz"
   },
   "source": [
    "### 13.b. inspecciones desde 2001 - por distrito\n",
    "Esta celda no reportará resultados, solo guardará datos en algunos archivos CSV. Primero para cada CD, luego para cada estado único, la función get_events () de la celda # 13a devolverá un recuento de todas las inspecciones por año.\n"
   ]
  },
  {
   "cell_type": "code",
   "execution_count": null,
   "metadata": {
    "id": "vxIqQZf-bkeE"
   },
   "outputs": [],
   "source": [
    "states = list(set([s_cd[0] for s_cd in state_cds]))  #Use conversion to set to make unique\n",
    "\n",
    "def write_events( ds, ds_type, filename ):\n",
    "    df_pgm = get_events( ds, ds_type )\n",
    "    if ( df_pgm is not None ):\n",
    "        df_pgm.to_csv( filename )\n",
    "        print( \"Wrote {}\".format( filename ))\n",
    "    \n",
    "for state, cd in state_cds:\n",
    "    if ( cd is None ):\n",
    "        continue\n",
    "    ds_type = ('Congressional District', cd, state)\n",
    "    filename = make_filename( 'inspections_CAA_pg5', 'Congressional District',\n",
    "                             state, cd )\n",
    "    ds = data_sets[\"CAA Inspections\"]\n",
    "    df_pgm = get_events( ds, ds_type )\n",
    "    df_pgm.to_csv( filename )\n",
    "    print( \"Wrote {}\".format( filename ))\n",
    "    filename = make_filename( 'inspections_CWA_pg6', 'Congressional District',\n",
    "                             state, cd )\n",
    "    ds = data_sets[\"CWA Inspections\"]\n",
    "    df_pgm = get_events( ds, ds_type )\n",
    "    df_pgm.to_csv( filename )\n",
    "    print( \"Wrote {}\".format( filename ))\n",
    "    filename = make_filename( 'inspections_RCRA_pg7', 'Congressional District',\n",
    "                             state, cd )\n",
    "    ds = data_sets[\"RCRA Inspections\"]\n",
    "    df_pgm = get_events( ds, ds_type )\n",
    "    df_pgm.to_csv( filename )\n",
    "    print( \"Wrote {}\".format( filename ))\n",
    "\n",
    "for state in states:\n",
    "    ds_type = ('State', None, state)\n",
    "    filename = make_filename( 'inspections_CAA_pg5', *ds_type )\n",
    "    ds = data_sets[\"CAA Inspections\"]\n",
    "    write_events( ds, ds_type, filename )\n",
    "    filename = make_filename( 'inspections_CWA_pg6', *ds_type )\n",
    "    ds = data_sets[\"CWA Inspections\"]\n",
    "    write_events( ds, ds_type, filename )\n",
    "    filename = make_filename( 'inspections_RCRA_pg7', *ds_type )\n",
    "    ds = data_sets[\"RCRA Inspections\"]\n",
    "    write_events( ds, ds_type, filename )\n"
   ]
  },
  {
   "cell_type": "markdown",
   "metadata": {
    "id": "_T9VoNiobmJ3"
   },
   "source": [
    "### 14. 2019 - inspecciones por cada 1000 instalaciones reguladas - por estado\n",
    "Esta celda repite los cálculos realizados en la celda # 13a para el estado completo. Las funciones de la celda # 13a son utilizadas de nuevo.\n"
   ]
  },
  {
   "cell_type": "code",
   "execution_count": null,
   "metadata": {
    "id": "Fnb9_Hevbmi8"
   },
   "outputs": [],
   "source": [
    "states = list(set([s_cd[0] for s_cd in state_cds]))  #Use conversion to set to make unique\n",
    "\n",
    "for state in states:\n",
    "    ds_type = ('State', None, state)\n",
    "    filename = make_filename( 'inspectionsper1000_All_pg4', *ds_type )\n",
    "    with open( filename, 'w', newline='' ) as csvfile:\n",
    "        header = ['Program', 'Num / 1000']\n",
    "        writer = csv.writer( csvfile )\n",
    "        writer.writerow( header )\n",
    "        try: \n",
    "            pgm_count = program_count( state_echo_active[state], 'CAA', 'AIR_FLAG', state, None)\n",
    "            if ( pgm_count == 0 ):\n",
    "                num = 0\n",
    "            else:\n",
    "                num = 1000. * get_num_events( data_sets[\"CAA Inspections\"], ds_type, state, None ) / \\\n",
    "                    pgm_count\n",
    "            print(\"CAA inspections per 1000 regulated facilities: \", num)\n",
    "            writer.writerow( ['CAA', num] )\n",
    "        except pd.errors.OutOfBoundsDatetime:\n",
    "            print( \"Bad date in state CWA data\")\n",
    "        try:\n",
    "            pgm_count = program_count( state_echo_active[state], 'CWA', 'NPDES_FLAG', state, None)\n",
    "            if ( pgm_count == 0 ):\n",
    "                num = 0\n",
    "            else:\n",
    "                num = 1000. * get_num_events( data_sets[\"CWA Inspections\"], ds_type, state, None ) / \\\n",
    "                    pgm_count\n",
    "            print(\"CWA inspections per 1000 regulated facilities: \", num)\n",
    "            writer.writerow( ['CWA', num] )\n",
    "        except pd.errors.OutOfBoundsDatetime:\n",
    "            print( \"Bad date in state CWA data\")\n",
    "        try:\n",
    "            pgm_count = program_count( state_echo_active[state], 'RCRA', 'RCRA_FLAG', state, None)\n",
    "            if ( pgm_count == 0 ):\n",
    "                num = 0\n",
    "            else:\n",
    "                num = 1000. * get_num_events( data_sets[\"RCRA Inspections\"], ds_type, state, None ) / \\\n",
    "                    pgm_count\n",
    "            print(\"RCRA inspections per 1000 regulated facilities: \", num)\n",
    "            writer.writerow( ['RCRA', num] )\n",
    "        except pd.errors.OutOfBoundsDatetime:\n",
    "            print( \"Bad date in state CWA data\")\n",
    "        print( \"Wrote {}\".format( filename ))"
   ]
  },
  {
   "cell_type": "markdown",
   "metadata": {
    "id": "_OborfYkbolS"
   },
   "source": [
    "### 15.a. 2019 - violaciónes por cada 1000 instalaciones reguladas - por distrito\n",
    "Esta vez para cada CD, la función get_num_events () de la celda # 13a y la función program_count () de la celda # 7 se utilizan de nuevo, pero con conjuntos de datos de las violaciones. El cálculo es el mismo que en la celda # 13a.\n"
   ]
  },
  {
   "cell_type": "code",
   "execution_count": null,
   "metadata": {
    "id": "zJBF5wIdbtqF"
   },
   "outputs": [],
   "source": [
    "for state, cd in state_cds:\n",
    "    if ( cd is None ):\n",
    "        continue\n",
    "    ds_type = ('Congressional District', cd, state)\n",
    "    filename = make_filename( 'violationsper1000_All_pg4', 'Congressional District', \n",
    "                         state, cd )\n",
    "    with open( filename, 'w', newline='' ) as csvfile:\n",
    "        header = ['Program', 'Num / 1000']\n",
    "        writer = csv.writer( csvfile )\n",
    "        writer.writerow( header )\n",
    "        try:\n",
    "            num = 1000. * get_num_events( data_sets[\"CAA Violations\"], ds_type, state, cd ) / \\\n",
    "                program_count( cd_echo_active[(state,cd)], 'CAA', 'AIR_FLAG', state, cd)\n",
    "            print(\"CAA violations per 1000 regulated facilities: \", num)\n",
    "            writer.writerow( ['CAA', num] )\n",
    "        except pd.errors.OutOfBoundsDatetime:\n",
    "            print( \"Bad date in state CAA data\")\n",
    "        try:\n",
    "            # Have to handle CWA Violations differently - use saved dictionary from cell 10\n",
    "            num = effluent_violations_2019[(state,cd)]\n",
    "            num = 1000. * num / \\\n",
    "                program_count( cd_echo_active[(state,cd)], 'CWA', 'NPDES_FLAG', state, cd)\n",
    "            print(\"CWA violations per 1000 regulated facilities: \", num)\n",
    "            writer.writerow( ['CWA', num] )\n",
    "        except pd.errors.OutOfBoundsDatetime:\n",
    "            print( \"Bad date in state CWA data\")\n",
    "        try:\n",
    "            num = 1000. * get_num_events( data_sets[\"RCRA Violations\"], ds_type, state, cd ) / \\\n",
    "                program_count( cd_echo_active[(state,cd)], 'RCRA', 'RCRA_FLAG', state, cd)\n",
    "            print(\"RCRA violations per 1000 regulated facilities: \", num)\n",
    "            writer.writerow( ['RCRA', num] )\n",
    "        except pd.errors.OutOfBoundsDatetime:\n",
    "            print( \"Bad date in state CWA data\")\n",
    "        print( \"Wrote {}\".format( filename ))"
   ]
  },
  {
   "cell_type": "markdown",
   "metadata": {
    "id": "31y-5jf7btHK"
   },
   "source": [
    "### 15.b. Violaciónes desde 2001\n",
    "EL cálculo realizado en la celda # 13b se repite para las violaciónes.\n"
   ]
  },
  {
   "cell_type": "code",
   "execution_count": null,
   "metadata": {
    "id": "_xLN5OO9b_BL"
   },
   "outputs": [],
   "source": [
    "for state, cd in state_cds:\n",
    "    if ( cd is None ):\n",
    "        ds_type = ('State', None, state)\n",
    "        file_type = ds_type\n",
    "    else:\n",
    "        ds_type = ('Congressional District', cd, state)\n",
    "        file_type = ('Congressional District', state, cd)\n",
    "    cd_echo_data[cd] = state_echo_data[state].loc[state_echo_data[state]['FAC_DERIVED_CD113'] == cd]\n",
    "    filename = make_filename( 'violations_CAA_pg5', *file_type )\n",
    "    ds = data_sets[\"CAA Violations\"]\n",
    "    write_events( ds, ds_type, filename )\n",
    "    filename = make_filename( 'violations_CWA_pg6', *file_type )\n",
    "    # Have to handle CWA Violations differently - use saved dictionary from cell 10\n",
    "    effluent_violations_all[ (state, cd) ]['Total'].to_csv( filename )\n",
    "    print( \"Wrote {}\".format( filename ))\n",
    "    filename = make_filename( 'violations_RCRA_pg7', *file_type )\n",
    "    ds = data_sets[\"RCRA Violations\"]\n",
    "    write_events( ds, ds_type, filename )"
   ]
  },
  {
   "cell_type": "markdown",
   "metadata": {
    "id": "TyLr3UtcbxOJ"
   },
   "source": [
    "### 16. 2019 - violaciónes por cada 1000 instalaciones reguladas - por estado\n",
    "Los cálculos de la celda # 14 se repiten para las violaciones.\n"
   ]
  },
  {
   "cell_type": "code",
   "execution_count": null,
   "metadata": {
    "id": "w05cPxEVbyxd"
   },
   "outputs": [],
   "source": [
    "states = list(set([s_cd[0] for s_cd in state_cds]))  #Use conversion to set to make unique\n",
    "\n",
    "for state in states:\n",
    "    ds_type = ('State', None, state)\n",
    "    filename = make_filename( 'violationsper1000_All_pg4', 'State', None, state )\n",
    "    with open( filename, 'w', newline='' ) as csvfile:\n",
    "        header = ['Program', 'Num / 1000']\n",
    "        writer = csv.writer( csvfile )\n",
    "        writer.writerow( header )\n",
    "        try:\n",
    "            pgm_count = program_count( state_echo_active[state], 'CAA', 'AIR_FLAG', state, None)\n",
    "            if ( pgm_count == 0 ):\n",
    "                num = 0\n",
    "            else:\n",
    "                num = 1000. * get_num_events( data_sets[\"CAA Violations\"], ds_type, state, None ) / \\\n",
    "                    pgm_count\n",
    "            print(\"CAA violations per 1000 regulated facilities: \", num)\n",
    "            writer.writerow( ['CAA', num] )\n",
    "        except pd.errors.OutOfBoundsDatetime:\n",
    "            print( \"Bad date in state CAA data\")\n",
    "        try:\n",
    "            pgm_count = program_count( state_echo_active[state], 'CWA', 'NPDES_FLAG', state, None)\n",
    "            if ( pgm_count == 0 ):\n",
    "                num = 0\n",
    "            else:\n",
    "                num = 1000. * effluent_violations_2019[ (state, None) ] / \\\n",
    "                    pgm_count\n",
    "            print(\"CWA violations per 1000 regulated facilities: \", num)\n",
    "            writer.writerow( ['CWA', num] )\n",
    "        except pd.errors.OutOfBoundsDatetime:\n",
    "            print( \"Bad date in state CWA data\")\n",
    "        try:\n",
    "            pgm_count = program_count( state_echo_active[state], 'RCRA', 'RCRA_FLAG', state, None)\n",
    "            if ( pgm_count == 0 ):\n",
    "                num = 0\n",
    "            else:\n",
    "                num = 1000. * get_num_events( data_sets[\"RCRA Violations\"], ds_type, state, None ) / \\\n",
    "                    pgm_count\n",
    "            print(\"RCRA violations per 1000 regulated facilities: \", num)\n",
    "            writer.writerow( ['RCRA', num] )\n",
    "        except pd.errors.OutOfBoundsDatetime:\n",
    "            print( \"Bad date in state RCRA data\")\n",
    "        print( \"Wrote {}\".format( filename ))"
   ]
  },
  {
   "cell_type": "markdown",
   "metadata": {
    "id": "kcB47Oaib_6-"
   },
   "source": [
    "### 17. 2019 - recuentos de acciones de aplicacion de leyes ambientales y las cantides de penalización por instalación con violaciones - por distrito\n",
    "* La función get_num_facilities () combina las violaciones en años, luego cuenta el número de instalaciones con violaciones para cada año.\n",
    "* La función get_enf_per_fac () combina las acciones de aplicación en años, luego cuenta estas acciones de aplicación y suma la cantidades de penalización ($), antes de dividir por los resultados de get_num_facilities ().\n",
    "* Estas funciones son utilizadas para cada CD y para CAA, CWA y RCRA.\n"
   ]
  },
  {
   "cell_type": "code",
   "execution_count": null,
   "metadata": {
    "id": "gfq5kvV1cCM6"
   },
   "outputs": [],
   "source": [
    "def get_num_facilities( program, ds_type, year=2019 ):\n",
    "    ds = data_sets[program]\n",
    "    df0 = ds.results[ ds_type ].dataframe\n",
    "    if ( df0 is None ):\n",
    "        return 0\n",
    "    else:\n",
    "        df_pgm = df0.copy()\n",
    "    if ( len( df_pgm ) > 0 ):\n",
    "        df_pgm.rename( columns={ ds.date_field: 'Date',\n",
    "                            ds.agg_col: 'Count'}, inplace=True )\n",
    "        if ( program == 'CWA Violations' ):\n",
    "            yr = df_pgm['Date'].astype( 'str' ).str[0:4:1]\n",
    "            df_pgm['Date'] = pd.to_datetime( yr, format=\"%Y\" )\n",
    "        else:\n",
    "            df_pgm['Date'] = pd.to_datetime( df_pgm['Date'], format=ds.date_format, errors='coerce' )\n",
    "        df_pgm_year = df_pgm[ df_pgm['Date'].dt.year == year].copy()\n",
    "        df_pgm_year['Date'] = pd.DatetimeIndex( df_pgm_year['Date']).year\n",
    "        num_fac = len(df_pgm_year.index.unique())            \n",
    "        return num_fac\n",
    "\n",
    "def get_enf_per_fac( ds_enf, ds_type, num_fac, year='2019' ):\n",
    "    df_pgm = get_enforcements( ds_enf, ds_type )\n",
    "    if ( df_pgm is None or df_pgm.empty ):\n",
    "        df_pgm = pd.DataFrame( [[None,None]], columns=['Num_enf_per_fac','Amt_enf_per_fac'])\n",
    "        print(\"There were no enforcement actions taken in 2019\")\n",
    "    else:\n",
    "        df_pgm = df_pgm[ df_pgm.index == \"2019\" ]\n",
    "        if ( df_pgm.empty ):\n",
    "            df_pgm['Num_enf_per_fac'] = None\n",
    "            df_pgm['Amt_enf_per_fac'] = None\n",
    "        else:\n",
    "            df_pgm['Num_enf_per_fac'] = df_pgm.apply( \n",
    "              lambda row: None if ( num_fac == 0 ) else row.Count / num_fac, axis=1 )\n",
    "            df_pgm['Amt_enf_per_fac'] = df_pgm.apply( \n",
    "              lambda row: None if ( num_fac == 0 ) else row.Amount / num_fac, axis=1 )\n",
    "    return df_pgm\n",
    "    \n",
    "for state, cd in state_cds:\n",
    "    if ( cd is None ):\n",
    "        continue\n",
    "    ds_type = ('Congressional District', cd, state)\n",
    "    \n",
    "    num_fac = get_num_facilities( \"CAA Violations\", ds_type )\n",
    "    print( \"CAA Penalties - {} District: {} - {} facilities with violations in 2019\".format( state, cd, num_fac ))\n",
    "    df_caa = get_enf_per_fac( data_sets[\"CAA Penalties\"], ds_type, num_fac )\n",
    "    \n",
    "    num_fac = get_num_facilities( \"CWA Violations\", ds_type )\n",
    "    print( \"CWA Penalties - {} District: {} - {} facilities with violations in 2019\".format( state, cd, num_fac ))\n",
    "    df_cwa = get_enf_per_fac( data_sets[\"CWA Penalties\"], ds_type, num_fac )\n",
    "    \n",
    "    num_fac = get_num_facilities( \"RCRA Violations\", ds_type )\n",
    "    print( \"RCRA Penalties - {} District: {} - {} facilities with violations in 2019\".format( state, cd, num_fac ))\n",
    "    df_rcra = get_enf_per_fac( data_sets[\"RCRA Penalties\"], ds_type, num_fac )\n",
    "    \n",
    "    df_totals = pd.concat( [df_caa, df_cwa, df_rcra] )\n",
    "    df_totals = df_totals.groupby( df_totals.index ).agg('sum')\n",
    "    print( \"Total enforcements for {} district {} in 2019\".format( state,cd ))\n",
    "    print( df_totals )\n",
    "    \n",
    "    filename = make_filename( 'enforcementsperviolatingfacility_All_pg4', 'Congressional District', \n",
    "                             state, cd )\n",
    "    df_totals.to_csv( filename )\n",
    "    print( \"Wrote {}\".format( filename ))"
   ]
  },
  {
   "cell_type": "markdown",
   "metadata": {
    "id": "8WjgRFzRcC9c"
   },
   "source": [
    "### 18. 2019 - recuentos de acciones de aplicación y de cantidades de penalización ($) por instalación con violaciones - por estado\n",
    "Esta celda repite los cálculos de la celda # 17 para cada estado.\n"
   ]
  },
  {
   "cell_type": "code",
   "execution_count": null,
   "metadata": {
    "id": "3U5KFrMpcDfU"
   },
   "outputs": [],
   "source": [
    "states = list(set([s_cd[0] for s_cd in state_cds]))  #Use conversion to set to make unique\n",
    "\n",
    "for state in states:\n",
    "    ds_type = ('State', None, state)\n",
    "\n",
    "    num_fac = get_num_facilities( \"CAA Violations\", ds_type )\n",
    "    print( \"CAA Penalties - {} - {} facilities with violations\".format( state,  num_fac ))\n",
    "    df_caa = get_enf_per_fac( data_sets[\"CAA Penalties\"], ds_type, num_fac )\n",
    "    \n",
    "    num_fac = get_num_facilities( \"CWA Violations\", ds_type )\n",
    "    print( \"CWA Penalties - {} - {} facilities with violations\".format( state, num_fac ))\n",
    "    df_cwa = get_enf_per_fac( data_sets[\"CWA Penalties\"], ds_type, num_fac )\n",
    "    \n",
    "    num_fac = get_num_facilities( \"RCRA Violations\", ds_type )\n",
    "    print( \"RCRA Penalties - {} - {} facilities with violations\".format( state, num_fac ))\n",
    "    df_rcra = get_enf_per_fac( data_sets[\"RCRA Penalties\"], ds_type, num_fac )\n",
    "    \n",
    "    df_totals = pd.concat( [df_caa, df_cwa, df_rcra] )\n",
    "    df_totals = df_totals.groupby( df_totals.index ).agg('sum')\n",
    "    print( \"Total enforcements for {} \".format( state ))\n",
    "    print( df_totals )\n",
    "    \n",
    "    filename = make_filename( 'enforcementsperviolatingfacility_All_pg4', 'State', \n",
    "                             None, state )\n",
    "    df_totals.to_csv( filename )\n",
    "    print( \"Wrote {}\".format( filename ))"
   ]
  },
  {
   "cell_type": "markdown",
   "metadata": {
    "id": "cVxFWD0icEGg"
   },
   "source": [
    "### 19. Las emisiones de GHG/GEI (gases de efecto invernadero) en estos distritos y estados (2010-2018)\n",
    "Para cada estado y luego para cada CD, se utiliza la función get_ghg_emissions (). Esta función combina los registros de emisiones en años y suma las cantidades de penalización ($).\n"
   ]
  },
  {
   "cell_type": "code",
   "execution_count": null,
   "metadata": {
    "id": "9lWL74RFcEk4"
   },
   "outputs": [],
   "source": [
    "Threadstates = list(set([s_cd[0] for s_cd in state_cds]))  #Use conversion to set to make unique\n",
    "state_emissions = {}\n",
    "\n",
    "def get_ghg_emissions( ds, ds_type ):\n",
    "    df_result = ds.results[ ds_type ].dataframe\n",
    "    if ( df_result is None ):\n",
    "        print( \"No records\" )\n",
    "        return None\n",
    "    else:\n",
    "        df_pgm = df_result.copy()\n",
    "    if ( df_pgm is not None and len( df_pgm ) > 0 ):\n",
    "        df_pgm.rename( columns={ ds.date_field: 'Date',\n",
    "                            ds.agg_col: 'Sum'}, inplace=True )\n",
    "        df_pgm = df_pgm.groupby(pd.to_datetime(df_pgm['Date'], \n",
    "                                format=ds.date_format, errors='coerce'))[['Sum']].agg('sum')\n",
    "        df_pgm = df_pgm.resample('Y').sum()\n",
    "        df_pgm.index = df_pgm.index.strftime('%Y')\n",
    "        #df_pgm = df_pgm[ df_pgm.index == '2018' ]\n",
    "    else:\n",
    "        print( \"No records\")\n",
    "    return df_pgm\n",
    "\n",
    "for state in states:\n",
    "    ds_type = ('State', None, state)\n",
    "    print( \"Greenhouse Gas Emissions - State: {}\".format( state ))\n",
    "    df_ghg = get_ghg_emissions( data_sets[\"Greenhouse Gas Emissions\"], ds_type )\n",
    "    if ( df_ghg is not None ):\n",
    "        state_emissions[state] = df_ghg \n",
    "        display(state_emissions[state])\n",
    "        filename = make_filename( 'emissions2018_GHGRP_pg4', 'State', None, state )\n",
    "        df_ghg.to_csv( filename )\n",
    "        print( \"Wrote GHG emissions data to: \", filename)\n",
    "\n",
    "for state, cd in state_cds:\n",
    "    if ( cd is None ):\n",
    "        continue\n",
    "    ds_type = ('Congressional District', cd, state)\n",
    "    print( \"Greenhouse Gas Emissions - {} District: {}\".format( state, cd ))\n",
    "    df_ghg = get_ghg_emissions( data_sets[\"Greenhouse Gas Emissions\"], ds_type )\n",
    "    if (df_ghg is not None):\n",
    "        display(df_ghg)\n",
    "\n",
    "        filename = make_filename( 'emissions2018_GHGRP_pg4', 'Congressional District', state, cd )\n",
    "        join = df_ghg.join(state_emissions[state], lsuffix=\"_District\", rsuffix=\"_State\")\n",
    "    else:\n",
    "        join = state_emissions[state]\n",
    "    join.to_csv(filename)\n",
    "    print( \"Wrote GHG emissions data to: \", filename)"
   ]
  },
  {
   "cell_type": "markdown",
   "metadata": {
    "id": "wBK_WcFBcFH-"
   },
   "source": [
    "### 20. Las diez instalaciones principales con problemas de cumplimiento de leyes ambientales en los últimos 3 años\n",
    "* La función get_top_violators () cuenta los trimestres de incumplimiento (violaciónes 'S' y 'V') para las instalaciones y luego clasifica las instalaciones (más trimestres en incumplimientos a menos)\n",
    "* La función chart_top_violators () dibuja el gráfico. \n",
    "* Las funciones son llamadas para cada CD.\n"
   ]
  },
  {
   "cell_type": "code",
   "execution_count": null,
   "metadata": {
    "id": "4G0Zof7rhniW"
   },
   "outputs": [],
   "source": [
    "import seaborn as sns\n",
    "\n",
    "states = list(set([s_cd[0] for s_cd in state_cds]))  #Use conversion to set to make unique\n",
    "\n",
    "df_violators = {}\n",
    "\n",
    "\n",
    "for state, cd in state_cds:\n",
    "    if ( cd is None ):\n",
    "        df_active = state_echo_active[state]\n",
    "        df_type = ('State', None, state)\n",
    "    else:\n",
    "        df_active = cd_echo_active[(state,cd)]\n",
    "        df_type = ('Congressional District', state, cd)\n",
    "    df_violators[(state,cd,'CAA')] = get_top_violators( df_active, 'AIR_FLAG', state, cd, \n",
    "            'CAA_3YR_COMPL_QTRS_HISTORY', 'CAA_FORMAL_ACTION_COUNT', 20 )\n",
    "    if ( df_violators[(state,cd,'CAA')] is not None ):\n",
    "        filename = make_filename( 'noncomp_CAA_pg6', *df_type )\n",
    "        df_violators[(state,cd,'CAA')].to_csv( filename )\n",
    "        print( \"Wrote {}\".format( filename ))\n",
    "        if ( should_make_charts ):\n",
    "            display( chart_top_violators( df_violators[(state,cd,'CAA')], state, cd, 'CAA' ))\n",
    "    \n",
    "    df_violators[(state,cd,'CWA')] = get_top_violators( df_active, 'NPDES_FLAG', state, cd, \n",
    "            'CWA_13QTRS_COMPL_HISTORY', 'CWA_FORMAL_ACTION_COUNT', 20 )\n",
    "    if ( df_violators[(state,cd,'CWA')] is not None ):\n",
    "        filename = make_filename( 'noncomp_CWA_pg6', *df_type )\n",
    "        df_violators[(state,cd,'CWA')].to_csv( filename )\n",
    "        print( \"Wrote {}\".format( filename ))\n",
    "        if ( should_make_charts ):\n",
    "            display( chart_top_violators( df_violators[(state,cd,'CWA')], state, cd, 'CWA' ))\n",
    "    \n",
    "    df_violators[(state,cd,'RCRA')] = get_top_violators( df_active, 'RCRA_FLAG', state, cd, \n",
    "            'RCRA_3YR_COMPL_QTRS_HISTORY', 'RCRA_FORMAL_ACTION_COUNT', 20 )\n",
    "    if ( df_violators[(state,cd,'RCRA')] is not None ):\n",
    "        filename = make_filename( 'noncomp_RCRA_pg7', *df_type )\n",
    "        df_violators[(state,cd,'RCRA')].to_csv( filename )\n",
    "        print( \"Wrote {}\".format( filename ))\n",
    "        if ( should_make_charts ):\n",
    "            display( chart_top_violators( df_violators[(state,cd,'RCRA')], state, cd, 'RCRA' ))\n",
    " "
   ]
  },
  {
   "cell_type": "markdown",
   "metadata": {
    "id": "4HXXaAYLd_o1"
   },
   "source": [
    "### 21. Hace un mapa de las 10 instalaciones principales con problemas de cumplimiento de leyes ambientales durante los últimos 3 años\n",
    "Se dibuja un mapa que muestra las instalaciones identificadas en la celda # 20.\n"
   ]
  },
  {
   "cell_type": "code",
   "execution_count": null,
   "metadata": {
    "id": "-8rmBRb7eBZD"
   },
   "outputs": [],
   "source": [
    "def violators_map( viol_dict, key ):\n",
    "    print( 'Map for {}, {} CD {}'.format( key[0], str(key[1]), key[2] ))\n",
    "    map_data = viol_dict[key]\n",
    "    if ( map_data is None ):\n",
    "        print( '    No facilities to map')\n",
    "        return\n",
    "    m = mapper(map_data)\n",
    "    if ( cd is not None ):\n",
    "        url = \"https://raw.githubusercontent.com/unitedstates/districts/gh-pages/cds/2016/{}-{}/shape.geojson\".format( state, str(cd))\n",
    "        map_data = geopandas.read_file(url)\n",
    "        w = folium.GeoJson(\n",
    "            map_data,\n",
    "            name = \"EPA Regions\",\n",
    "        ).add_to(m) #m is the map object created to hold the facility points. we want to add this shape object to that map object\n",
    "        folium.GeoJsonTooltip(fields=[\"District\"]).add_to(w)\n",
    "    display( m )    \n",
    "\n",
    "if ( should_make_charts ):\n",
    "    import geopandas\n",
    "\n",
    "    for state, cd in state_cds:\n",
    "        violators_map( df_violators, (state,cd,'CAA') )\n",
    "        violators_map( df_violators, (state,cd,'CWA') )\n",
    "        violators_map( df_violators, (state,cd,'RCRA') )\n"
   ]
  },
  {
   "cell_type": "code",
   "execution_count": null,
   "metadata": {
    "id": "VLzOy_6ZhvwE"
   },
   "outputs": [],
   "source": []
  }
 ],
 "metadata": {
  "colab": {
   "name": "Spanish-AllPrograms.ipynb",
   "provenance": []
  },
  "kernelspec": {
   "display_name": "Python 3",
   "language": "python",
   "name": "python3"
  },
  "language_info": {
   "codemirror_mode": {
    "name": "ipython",
    "version": 3
   },
   "file_extension": ".py",
   "mimetype": "text/x-python",
   "name": "python",
   "nbconvert_exporter": "python",
   "pygments_lexer": "ipython3",
   "version": "3.7.6"
  }
 },
 "nbformat": 4,
 "nbformat_minor": 1
}
