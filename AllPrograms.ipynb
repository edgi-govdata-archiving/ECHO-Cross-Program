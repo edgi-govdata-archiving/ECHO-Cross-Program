{
 "cells": [
  {
   "cell_type": "markdown",
   "metadata": {
    "colab_type": "text",
    "id": "9iqQomRkRGm2"
   },
   "source": [
    "| ![EEW logo](https://github.com/edgi-govdata-archiving/EEW-Image-Assets/blob/master/Jupyter%20instructions/eew.jpg?raw=true) | ![EDGI logo](https://github.com/edgi-govdata-archiving/EEW-Image-Assets/blob/master/Jupyter%20instructions/edgi.png?raw=true) |\n",
    "|---|---|\n",
    "\n",
    "#### This notebook is licensed under GPL 3.0. Please visit our Github repo for more information: https://github.com/edgi-govdata-archiving/ECHO-COVID19\n",
    "#### The notebook was collaboratively authored by EDGI following our authorship protocol: https://docs.google.com/document/d/1CtDN5ZZ4Zv70fHiBTmWkDJ9mswEipX6eCYrwicP66Xw/\n",
    "#### For more information about this project, visit https://www.environmentalenforcementwatch.org/"
   ]
  },
  {
   "cell_type": "markdown",
   "metadata": {
    "colab_type": "text",
    "id": "Y2ld3IVjRGm3"
   },
   "source": [
    "# Examining Data from Multiple EPA Programs\n",
    "\n",
    "This notebook examines data from the EPA's Enforcement and Compliance History Online (ECHO) database (https://echo.epa.gov/). It includes information from EPA's programs covering air quality (the Clean Air Act, or CAA), water quality (the Clean Water Act, or CWA), and hazardous and other waste processing (the Resource Recovery and Conservation Act, or RCRA). \n",
    "\n",
    "ECHO data is available for facility violations as well as inspections and enforcement actions by EPA, state and other agencies. The data made accessible here runs from the present day (the database is refreshed weekly) back to 2001, which is when the EPA believes the data to be most reliable. The notebook can be run to produce data for multiple Congressional Districts and states of your choosing. "
   ]
  },
  {
   "cell_type": "markdown",
   "metadata": {
    "colab_type": "text",
    "id": "g_Q7wCmjRGm5"
   },
   "source": [
    "## How to Run\n",
    "* A \"cell\" in a Jupyter notebook is a block of code performing a set of actions making available or using specific data.  The notebook works by running one cell after another, as the notebook user selects offered options.\n",
    "* If you click on a gray **code** cell, a little “play button” arrow appears on the left. If you click the play button, it will run the code in that cell (“**running** a cell”). The button will animate. When the animation stops, the cell has finished running.\n",
    "![Where to click to run the cell](https://github.com/edgi-govdata-archiving/EEW-Image-Assets/blob/master/Jupyter%20instructions/pressplay.JPG?raw=true)\n",
    "* You may get a warning that the notebook was not authored by Google. We know, we authored them! It’s okay. Click “Run Anyway” to continue. \n",
    "![Error Message](https://github.com/edgi-govdata-archiving/EEW-Image-Assets/blob/master/Jupyter%20instructions/warning-message.JPG?raw=true)\n",
    "* **It is important to run cells in order because they depend on each other.**\n",
    "* Run all of the cells in a Notebook to make a complete report. Please feel free to look at and **learn about each result as you create it**!"
   ]
  },
  {
   "cell_type": "markdown",
   "metadata": {
    "colab_type": "text",
    "id": "H0o5UIQFRGm7"
   },
   "source": [
    "---"
   ]
  },
  {
   "cell_type": "markdown",
   "metadata": {
    "colab_type": "text",
    "id": "gGXDiht8RGm8"
   },
   "source": [
    "# **Let's begin!**"
   ]
  },
  {
   "cell_type": "markdown",
   "metadata": {
    "colab_type": "text",
    "id": "SBuGoozCRGm9"
   },
   "source": [
    "Hover over the \"[ ]\" on the top left corner of the cell below and you should see a \"play\" button appear. Click on it to run the cell then move to the next one.\n",
    "\n",
    "These first two cells give us access to some external Python code we will need."
   ]
  },
  {
   "cell_type": "markdown",
   "metadata": {
    "colab_type": "text",
    "id": "oP0y1jSyRGnA"
   },
   "source": [
    "### 1.  Bring in some code that is stored in a Github project.\n",
    "These two github repositories hold Python code that the notebook uses.\n",
    "* ECHO_modules holds code that can be used in this and other notebooks--the DataSet class, the make_data_sets() function, etc.\n",
    "* The ECHO-Cross-Program repository is the one this notebook is contained in.  We clone it to be able to use the utilities.py file contained in it."
   ]
  },
  {
   "cell_type": "code",
   "execution_count": null,
   "metadata": {
    "colab": {},
    "colab_type": "code",
    "id": "Nw8lXKinRGnB",
    "tags": []
   },
   "outputs": [],
   "source": [
    "!git clone https://github.com/edgi-govdata-archiving/ECHO_modules.git\n",
    "!git clone https://github.com/edgi-govdata-archiving/ECHO-Cross-Program.git -b enhancements-09-11\n",
    "!pip install geopandas\n",
    "print(\"Done!\")"
   ]
  },
  {
   "cell_type": "markdown",
   "metadata": {
    "colab_type": "text",
    "id": "daR24kpcRGnJ"
   },
   "source": [
    "### 2.  Run a few Python modules.\n",
    "These will help us process and visualize the different program data sets later.\n",
    "* The DataSet class knows how to read the database for an ECHO data set--e.g. CWA Violations.\n",
    "* The utilities.py has Python code that helps with showing charts and maps, making filenames, etc.\n",
    "* The make_data_set.py has code that creates a DataSet object for each of the ECHO data sets, using the appropriate database tables.  "
   ]
  },
  {
   "cell_type": "code",
   "execution_count": null,
   "metadata": {
    "colab": {},
    "colab_type": "code",
    "id": "m0PffnzyRGnJ",
    "tags": []
   },
   "outputs": [],
   "source": [
    "%run ECHO_modules/DataSet.py\n",
    "%run ECHO-Cross-Program/utilities.py\n",
    "%run ECHO_modules/make_data_sets.py\n",
    "print(\"Done!\")"
   ]
  },
  {
   "cell_type": "markdown",
   "metadata": {
    "colab_type": "text",
    "id": "PFfUck2iRGnP"
   },
   "source": [
    "### 3.  This cell contains the parameters of the notebook run.  You can change the (state, CD) pairs to run the notebook for multiple congressional districts in multiple states.  After setting the (state, CD) pairs you want, you can instruct the notebook to Run All and it will step through all of the remaining cells.  You can then come back and examine the results."
   ]
  },
  {
   "cell_type": "code",
   "execution_count": null,
   "metadata": {
    "colab": {},
    "colab_type": "code",
    "id": "inOzKoR3RGnQ"
   },
   "outputs": [],
   "source": [
    "region_type = 'Congressional District'\n",
    "should_make_charts = True\n",
    "state_cds = [('WA',2)]\n",
    "# state_cds = [('AZ',1), ('CA',18), ('CA',29), ('CA',36), ('CA',44), ('CA',52),\n",
    "#     ('CA',6), ('CA',9), ('CO',1), ('FL',12), ('FL',14),\n",
    "#     ('FL',9), ('GA',1), ('IA',2), ('IL',1), ('IL',15), ('IL',16),\n",
    "#     ('IL',2), ('IL',9), ('IN',5), ('IN',8), ('KY',2), ('LA',1),\n",
    "#     ('MA',4), ('MD',3), ('MI',12), ('MI',6), ('MI',7), ('MO',7),\n",
    "#     ('NC',1), ('NC',8), ('NH',2), ('NJ',6), ('NM',3), ('NY',16),\n",
    "#     ('NY',20), ('NY',9), ('OH',5), ('OH',6), ('OK',2), ('OR',2),\n",
    "#     ('OR',5), ('PA',18), ('PA',1), ('SC',3), ('TX',17), ('TX',22),\n",
    "#     ('TX',26), ('TX',33), ('VA',4), ('VA',9), ('WA',5), ('WV',1),\n",
    "#     ('AK',None), ('AL',None), ('AR',None), ('DE',None), ('IA',None),\n",
    "#     ('IL',None), ('IN',None), ('MA',None), ('MD',None), ('MD',None),\n",
    "#     ('MS',None), ('ND',None), ('NJ',None), ('NY',None), ('OK',None),\n",
    "#     ('OR',None), ('RI',None), ('SD',None), ('VT',None), ('WV',None),\n",
    "#     ('WY',None)]\n",
    "\n",
    "# state_cds = [ ('WY', 1), ('DE', None), ('NJ', 6), ('OR', 2), ('NY', 9)]\n",
    "# Change this^! For example, instead of running New Jersey's 6th Congressional ('NJ', 6) you could do Wisconsin's 2nd ('WI', 2)\n",
    "# See here: https://www.govtrack.us/congress/members/map\n",
    "# data_set_list = ['RCRA Violations', 'RCRA Penalties',\n",
    "#                  'CAA Violations', 'CAA Penalties',\n",
    "#                  'CWA Violations', 'CWA Penalties', ] \n",
    "                 #CAA Enforcements, CWA Enforcements, RCRA Enforcements\n",
    "data_set_list = ['RCRA Violations', 'RCRA Inspections', 'RCRA Penalties',\n",
    "                 'CAA Violations', 'CAA Inspections', 'CAA Penalties', 'Greenhouse Gas Emissions', \n",
    "                 'CWA Violations', 'CWA Inspections', 'CWA Penalties', ] \n"
   ]
  },
  {
   "cell_type": "markdown",
   "metadata": {
    "colab_type": "text",
    "id": "DaZiTQMoRGna"
   },
   "source": [
    "### 4. This cell makes the data sets and stores the results for each of them from the database.  \n",
    "This may take some time to run if you are looking at multiple congressional districts.\n",
    "* The data_set_list from cell #3 is given to the make_data_sets() function which creates a DataSet object for each item in the list.\n",
    "* Go through each of the (state, cd) pairs in the state_cd list specified in cell #3 and have the DataSet object store results returned by the database for that specific state and CD.\n",
    "* Also go through each unique state in the list and store data for the entire state."
   ]
  },
  {
   "cell_type": "code",
   "execution_count": null,
   "metadata": {
    "colab": {},
    "colab_type": "code",
    "id": "AWNINuWpRGnb",
    "scrolled": false,
    "tags": []
   },
   "outputs": [],
   "source": [
    "data_sets=make_data_sets( data_set_list )\n",
    "print( \"Congressional District data sets:\")\n",
    "for state, cd in state_cds:\n",
    "    if ( cd is None ):\n",
    "        continue\n",
    "    for ds_key, data_set in data_sets.items():\n",
    "        print( state + '-' + str(cd) + ' - ' + ds_key )\n",
    "        data_set.store_results( region_type=region_type, region_value=cd, state=state )\n",
    "\n",
    "print( \"State data sets:\")\n",
    "states = list(set([s_cd[0] for s_cd in state_cds]))  #Use conversion to set to make unique\n",
    "for state in states:\n",
    "    for ds_key, data_set in data_sets.items():\n",
    "        print( state + ' - ' + ds_key )\n",
    "        data_set.store_results( region_type='State', region_value=None, state=state )"
   ]
  },
  {
   "cell_type": "markdown",
   "metadata": {
    "colab_type": "text",
    "id": "BLKoA4oZRGnp"
   },
   "source": [
    "### 5. This cell will generate a chart for each data set and each (state, Congressional District) pair.\n",
    "Call each of the DataSet objects' show_charts() methods to render a chart of the data."
   ]
  },
  {
   "cell_type": "code",
   "execution_count": null,
   "metadata": {
    "colab": {},
    "colab_type": "code",
    "id": "4Tg6HARARGnq",
    "tags": []
   },
   "outputs": [],
   "source": [
    "if ( should_make_charts ):\n",
    "    for ds_key, data_set in data_sets.items():\n",
    "        print( ds_key )\n",
    "        if ( ds_key != 'RCRA Penalties' ):\n",
    "            data_set.show_charts()"
   ]
  },
  {
   "cell_type": "markdown",
   "metadata": {
    "colab_type": "text",
    "id": "9hDVHaLTRGnw"
   },
   "source": [
    "### 6. Get the State data for comparisons\n",
    "Ask the database for ECHO_EXPORTER records for facilities in the state.\n",
    "* state_echo_data is a dictionary with the state name as key and the data as value, for all records.\n",
    "* state_echo_active is a dictionary for all records in state_echo_data identified as active."
   ]
  },
  {
   "cell_type": "code",
   "execution_count": null,
   "metadata": {
    "colab": {},
    "colab_type": "code",
    "id": "gdjq3_8kRGnx",
    "tags": []
   },
   "outputs": [],
   "source": [
    "states = list(set([s_cd[0] for s_cd in state_cds]))  #Use conversion to set to make unique\n",
    "state_echo_data = {}\n",
    "state_echo_active = {}\n",
    "for state in states:\n",
    "    state_echo_data[state] = read_file( 'ECHO_EXPORTER', 'State', state, None )\n",
    "    if ( state_echo_data[state] is None ):\n",
    "        sql = 'select * from \"ECHO_EXPORTER\" where \"FAC_STATE\" = \\'{}\\''.format( state )\n",
    "        state_echo_data[state] = get_data( sql, 'REGISTRY_ID' )\n",
    "        write_dataset( state_echo_data[state], 'ECHO_EXPORTER', 'State', state, None )\n",
    "    state_echo_active[state] = state_echo_data[state].loc[state_echo_data[state]['FAC_ACTIVE_FLAG']=='Y']\n",
    "    print( 'There are {} active facilities in {}.'.format( \n",
    "        str(state_echo_active[state].shape[0]), state))"
   ]
  },
  {
   "cell_type": "markdown",
   "metadata": {
    "colab_type": "text",
    "id": "Mwbyr4MMRGn2"
   },
   "source": [
    "### 7. Number of currently active facilities regulated in CAA, CWA, RCRRA, GHGRP\n",
    "* The program_count() function looks at the ECHO_EXPORTER data that is passed in and counts the number of facilities have the 'flag' parameter set to 'Y' (AIR_FLAG, NPDES_FLAG, RCRA_FLAG, GHG_FLAG)\n",
    "* cd_echo_data is a dictionary with key (state, cd), where the state_echo_data is filtered for records of the current CD.\n",
    "* cd_echo_active is a dictionary for active facilities in the CD.\n",
    "* The number of records from these dictionaries is written into a file named like 'active-facilities_All_pg3', in a directory identified by the state and CD, e.g. \"LA2\"."
   ]
  },
  {
   "cell_type": "code",
   "execution_count": null,
   "metadata": {
    "colab": {},
    "colab_type": "code",
    "id": "w7ODiXctRGn3",
    "tags": []
   },
   "outputs": [],
   "source": [
    "def program_count( echo_data, program, flag, state, cd ):\n",
    "    count = echo_data.loc[echo_data[flag]=='Y'].shape[0]\n",
    "    print( 'There are {} active facilities in {} CD {} tracked under {}.'.format( \n",
    "        str( count ), state, cd, program))\n",
    "    return count\n",
    "    \n",
    "cd_echo_data = {}\n",
    "cd_echo_active = {}\n",
    "for state, cd in state_cds:\n",
    "    rowdata = []    \n",
    "    if ( cd is None ):\n",
    "        this_echo_data = state_echo_data[state]\n",
    "        filename = make_filename( 'active-facilities_All_pg3', 'State', \n",
    "                             None, state )\n",
    "    else:\n",
    "        this_echo_data = state_echo_data[state].loc[state_echo_data[state]['FAC_DERIVED_CD113'] == cd]\n",
    "        cd_echo_data[(state,cd)] = this_echo_data\n",
    "        filename = make_filename( 'active-facilities_All_pg3', 'Congressional District', \n",
    "                             state, cd )\n",
    "    this_echo_active = this_echo_data.loc[this_echo_data['FAC_ACTIVE_FLAG']=='Y']\n",
    "    if ( cd is not None ):\n",
    "        cd_echo_active[(state,cd)] = this_echo_active\n",
    "    rowdata.append( ['CAA', program_count( this_echo_active, 'CAA', 'AIR_FLAG', state, cd)] )\n",
    "    rowdata.append( ['CWA', program_count( this_echo_active, 'CWA', 'NPDES_FLAG', state, cd)] )\n",
    "    rowdata.append( ['RCRA', program_count( this_echo_active, 'RCRA', 'RCRA_FLAG', state, cd)] )\n",
    "    rowdata.append( ['GHG', program_count( this_echo_active, 'GHG', 'GHG_FLAG', state, cd)] )\n",
    "    with open( filename, 'w', newline='' ) as csvfile:\n",
    "        header = ['Program', 'Count']\n",
    "        writer = csv.writer( csvfile )\n",
    "        writer.writerow( header )\n",
    "        writer.writerows( rowdata ) \n",
    "        print( \"Wrote {}\".format( filename ))     "
   ]
  },
  {
   "cell_type": "markdown",
   "metadata": {
    "colab_type": "text",
    "id": "u3HCcCBIRGn_"
   },
   "source": [
    "### 8. Map all currently active facilities in each district"
   ]
  },
  {
   "cell_type": "code",
   "execution_count": null,
   "metadata": {
    "colab": {},
    "colab_type": "code",
    "id": "CBzcH7JbRGoA",
    "tags": []
   },
   "outputs": [],
   "source": [
    "if ( should_make_charts ):\n",
    "    import geopandas\n",
    "\n",
    "    for state, cd in state_cds:\n",
    "        print( 'Map for {} CD {}'.format( state, cd ))\n",
    "        if ( cd is None ):\n",
    "            this_data = state_echo_active[state]\n",
    "        else:\n",
    "            this_data = cd_echo_active[(state, cd)]\n",
    "        # Only map CAA, CWA, RCRA, or GHG facilities active in this district:\n",
    "        map_data = this_data.loc[(this_data['AIR_FLAG']==\"Y\") | (this_data['NPDES_FLAG']==\"Y\") |\n",
    "                (this_data['RCRA_FLAG']==\"Y\")| (this_data['GHG_FLAG']==\"Y\")]\n",
    "        m = mapper(map_data)\n",
    "        if ( cd is not None ):\n",
    "            url = \"https://raw.githubusercontent.com/unitedstates/districts/gh-pages/cds/2016/{}-{}/shape.geojson\".format( state, str(cd))\n",
    "            map_data = geopandas.read_file(url)\n",
    "            w = folium.GeoJson(\n",
    "                map_data,\n",
    "                name = \"EPA Regions\",\n",
    "            ).add_to(m) #m is the map object created to hold the facility points. we want to add this shape object to that map object\n",
    "            folium.GeoJsonTooltip(fields=[\"District\"]).add_to(w)\n",
    "\n",
    "        display( m )"
   ]
  },
  {
   "cell_type": "markdown",
   "metadata": {
    "colab_type": "text",
    "id": "D30rN50RRGoF"
   },
   "source": [
    "### 9. Number of recurring violations - facilities with 3+ quarters out of the last 12 in non-compliance, by each program\n",
    "For each unique state and then each CD, we look at active records and count facilities that have 'S' or 'V' violations in 3 or more quarters.  The fields looked at are:\n",
    "* CAA - CAA_3YR_COMPL_QTRS_HISTORY\n",
    "* CWA - CWA_13QTRS_COMPL_HISTORY (Actually 13 quarters instead of 3 years.)\n",
    "* RCRA - RCRA_3YR_COMPL_QTRS_HISTORY\n",
    "\n",
    "* The get_rowdata() function takes the dataframe passed to it, and looks for records with 'S' or 'V' violations in more than 3 quarters. It divides the violations by the number of facilities, returning the raw count of facilities in violation more than 3 months and the percentage of facilities."
   ]
  },
  {
   "cell_type": "code",
   "execution_count": null,
   "metadata": {
    "colab": {},
    "colab_type": "code",
    "id": "hfYnR9nqRGoJ",
    "scrolled": true,
    "tags": []
   },
   "outputs": [],
   "source": [
    "states = list(set([s_cd[0] for s_cd in state_cds]))  #Use conversion to set to make unique\n",
    "\n",
    "def get_rowdata( df, field, flag ):\n",
    "    count_viol = df.loc[((df[field].str.count(\"S\") + \n",
    "                df[field].str.count(\"V\")) >= 3)].shape[0]\n",
    "    fraction_viol = count_viol/df.loc[df[flag]=='Y'].shape[0]\n",
    "    print( \"    {} facilities with at least 3 quarters in non-compliance over the past 3 years\".format( count_viol ))\n",
    "    print( \"    {:.2%} of active facilities with at least 3 quarters in non-compliance over the past 3 years\".format( \n",
    "           fraction_viol ))\n",
    "    return (count_viol, fraction_viol * 100.)\n",
    "\n",
    "rowdata_state = {}\n",
    "for state in states:\n",
    "    print( \"State: {}\".format( state ))\n",
    "    print( \"  CAA\")\n",
    "    rowdata_state[state] = []\n",
    "    rd = get_rowdata( state_echo_active[state], 'CAA_3YR_COMPL_QTRS_HISTORY', 'AIR_FLAG')\n",
    "    rowdata_state[state].append([ 'CAA', state, '', rd[0], rd[1]])\n",
    "    print( \"  CWA\")\n",
    "    rd = get_rowdata( state_echo_active[state], 'CWA_13QTRS_COMPL_HISTORY', 'NPDES_FLAG')\n",
    "    rowdata_state[state].append([ 'CWA', state, '', rd[0], rd[1]])\n",
    "    print( \"  RCRA\")\n",
    "    rd = get_rowdata( state_echo_active[state], 'RCRA_3YR_COMPL_QTRS_HISTORY', 'RCRA_FLAG')\n",
    "    rowdata_state[state].append([ 'RCRA', state, '', rd[0], rd[1]])\n",
    "\n",
    "for state, cd in state_cds:\n",
    "    if ( cd is None ):\n",
    "        filename = make_filename( 'recurring-violations_All_pg3', 'State',\n",
    "                             None, state )\n",
    "        with open( filename, 'w', newline='' ) as csvfile:\n",
    "            header = ['Program', 'State', '', 'Facilities', 'Percent']\n",
    "            writer = csv.writer( csvfile )\n",
    "            writer.writerow( header )\n",
    "            writer.writerows( rowdata_state[state] ) \n",
    "            print( \"Wrote {}\".format( filename ))\n",
    "    else:\n",
    "        filename = make_filename( 'recurring-violations_All_pg3', 'Congressional District',\n",
    "                             state, cd )\n",
    "        rowdata_cd = []\n",
    "        print( \"{} - CD {}\".format( state, cd ))\n",
    "        print( \"  CAA\")\n",
    "        rd = get_rowdata( cd_echo_active[(state,cd)], 'CAA_3YR_COMPL_QTRS_HISTORY', 'AIR_FLAG')\n",
    "        rowdata_cd.append([ 'CAA', state, cd, rd[0], rd[1]])\n",
    "        print( \"  CWA\")\n",
    "        rd = get_rowdata( cd_echo_active[(state,cd)], 'CWA_13QTRS_COMPL_HISTORY', 'NPDES_FLAG')\n",
    "        rowdata_cd.append([ 'CWA', state, cd, rd[0], rd[1]])\n",
    "        print( \"  RCRA\")\n",
    "        rd = get_rowdata( cd_echo_active[(state,cd)], 'RCRA_3YR_COMPL_QTRS_HISTORY', 'RCRA_FLAG')\n",
    "        rowdata_cd.append([ 'RCRA', state, cd, rd[0], rd[1]])\n",
    "        with open( filename, 'w', newline='' ) as csvfile:\n",
    "            header = ['Program', 'State', 'CD', 'Facilities', 'Percent']\n",
    "            writer = csv.writer( csvfile )\n",
    "            writer.writerow( header )\n",
    "            writer.writerows( rowdata_state[state] ) \n",
    "            writer.writerows( rowdata_cd )\n",
    "            print( \"Wrote {}\".format( filename ))"
   ]
  },
  {
   "cell_type": "markdown",
   "metadata": {
    "colab_type": "text",
    "id": "AzFwD3BSRGoN"
   },
   "source": [
    "### 10. Percent change in violations (CWA)\n",
    "For each CD and then each unique state, \n",
    "* the quarter is identified in 5 digits, the 1st 4 are year and then the quarter, as in 20013 for the 3rd quarter of 2001\n",
    "* the quarter is stipped off, so that there will now be 4 records for the facility for 2001\n",
    "* the values for the 4 types of violations--NUME90Q,NUMCVDT,NUMSVCD,NUMPSCH--are added together, over all facilities, to get a single value for the year\n",
    "The results for all years are stored in the dictionary effluent_violations_all, and the value for 2019 in its own effluent_violations_2019 dictionary.  The key for the dictionaries is (state,cd).  These will be used in a later cell."
   ]
  },
  {
   "cell_type": "code",
   "execution_count": null,
   "metadata": {
    "colab": {},
    "colab_type": "code",
    "id": "IT_sHYaURGoO",
    "tags": []
   },
   "outputs": [],
   "source": [
    "effluent_violations_2019 = {}  #For use later\n",
    "effluent_violations_all = {}  #For use later\n",
    "states = list(set([s_cd[0] for s_cd in state_cds]))  #Use conversion to set to make unique\n",
    "\n",
    "def get_cwa_df( df ):\n",
    "    year = df[\"YEARQTR\"].astype(\"str\").str[0:4:1]\n",
    "    df[\"YEARQTR\"] = year\n",
    "    df.rename( columns={'YEARQTR':'YEAR'}, inplace=True )\n",
    "    # Remove fields not relevant to this graph.\n",
    "    df = df.drop(columns=['FAC_LAT', 'FAC_LONG', 'FAC_ZIP', \n",
    "        'FAC_EPA_REGION', 'FAC_DERIVED_WBD', 'FAC_DERIVED_CD113',\n",
    "        'FAC_PERCENT_MINORITY', 'FAC_POP_DEN'])\n",
    "    d = df.groupby(pd.to_datetime(df['YEAR'], format=\"%Y\").dt.to_period(\"Y\")).sum()\n",
    "    d.index = d.index.strftime('%Y')\n",
    "    d = d[ d.index > '2000' ]\n",
    "    d['Total'] = d.sum(axis=1)\n",
    "    return( d )\n",
    "\n",
    "for state, cd in state_cds:\n",
    "    if ( cd is None ):\n",
    "        continue\n",
    "    print( \"CWA Violations - {} District: {}\".format( state, cd ))\n",
    "    df = data_sets[\"CWA Violations\"].results[('Congressional District', cd, state)].dataframe.copy()\n",
    "    effluent_violations_all[ (state, cd) ] = get_cwa_df( df )\n",
    "    display(effluent_violations_all[ (state, cd) ])\n",
    "    filename = make_filename( 'violations_CWA_pg3', 'Congressional District', \n",
    "                             state, cd )\n",
    "    with open( filename, 'w', newline='' ) as csvfile:\n",
    "        header = ['Year', 'Violations']\n",
    "        writer = csv.writer( csvfile )\n",
    "        writer.writerow( header )\n",
    "        for row in effluent_violations_all[ (state, cd) ].itertuples():\n",
    "            if ( row[0] == '2019' ):\n",
    "                effluent_violations_2019[(state,cd)] = row[5]\n",
    "            writer.writerow( [ row[0], row[5]] )\n",
    "        print( \"Wrote {}\".format( filename ))\n",
    "\n",
    "for state in states:\n",
    "    filename = make_filename( 'violations_CWA_pg3', 'State', None, state )\n",
    "    df = data_sets[\"CWA Violations\"].results[('State', None, state)].dataframe.copy()\n",
    "    cwa_all_df = get_cwa_df( df )\n",
    "    effluent_violations_all[ (state, None) ] = cwa_all_df\n",
    "    effluent_violations_2019[ (state, None) ] = cwa_all_df[cwa_all_df.index == '2019']['NUME90Q'][0]\n",
    "    with open( filename, 'w', newline='' ) as csvfile:\n",
    "        header = ['Year', 'Violations']\n",
    "        writer = csv.writer( csvfile )\n",
    "        writer.writerow( header )\n",
    "        for row in cwa_all_df.itertuples():\n",
    "            if ( row[0] == '2019' ):\n",
    "                effluent_violations_2019[(state,None)] = row[5]\n",
    "            writer.writerow( [ row[0], row[5]] )\n",
    "        print( \"Wrote {}\".format( filename ))\n"
   ]
  },
  {
   "cell_type": "markdown",
   "metadata": {
    "colab_type": "text",
    "id": "d2Zhh7OFRGoU"
   },
   "source": [
    "### 11. Percent change in inspections\n",
    "For each CD the date field for that program type is used to count up all inspections for the year.  (The date field for each data set is identified in make_data_sets() when the DataSet object is created.  It shows up here as ds.date_field.)"
   ]
  },
  {
   "cell_type": "code",
   "execution_count": null,
   "metadata": {
    "colab": {},
    "colab_type": "code",
    "id": "YgG7cIvWRGoV",
    "tags": []
   },
   "outputs": [],
   "source": [
    "def get_inspections( ds, ds_type ):\n",
    "    df_result = None\n",
    "    df_pgm = ds.results[ ds_type ].dataframe.copy()\n",
    "    if ( len( df_pgm ) > 0 ):\n",
    "        df_pgm.rename( columns={ ds.date_field: 'Date',\n",
    "                            ds.agg_col: 'Count'}, inplace=True )\n",
    "        df_pgm = df_pgm.groupby(pd.to_datetime(df_pgm['Date'], \n",
    "                            format=ds.date_format, errors='coerce'))[['Count']].agg('count')\n",
    "        df_pgm = df_pgm.resample('Y').sum()\n",
    "        df_pgm.index = df_pgm.index.strftime('%Y')\n",
    "        df_pgm = df_pgm[ df_pgm.index > '2000' ]\n",
    "        display( df_pgm )\n",
    "    else:\n",
    "        print( \"No records\")\n",
    "    return df_pgm\n",
    "    \n",
    "for state, cd in state_cds:\n",
    "    if ( cd is None ):\n",
    "        ds_type = ('State', None, state)\n",
    "    else:\n",
    "        ds_type = ('Congressional District', cd, state)\n",
    "    print( \"CAA Inspections - {} District: {}\".format( state, cd ))\n",
    "    df_caa = get_inspections( data_sets[\"CAA Inspections\"], ds_type )\n",
    "    \n",
    "    print( \"CWA Inspections - {} District: {}\".format( state, cd ))\n",
    "    df_cwa = get_inspections( data_sets[\"CWA Inspections\"], ds_type )\n",
    "   \n",
    "    print( \"RCRA Inspections - {} District: {}\".format( state, cd ))\n",
    "    df_rcra = get_inspections( data_sets[\"RCRA Inspections\"], ds_type )\n",
    "    \n",
    "    df_totals = pd.concat( [df_caa, df_cwa, df_rcra] )\n",
    "    df_totals = df_totals.groupby( df_totals.index ).agg('sum')\n",
    "    print( \"Total inspections for {} district {}\".format( state,cd ))\n",
    "    display( df_totals )\n",
    "    \n",
    "    for file in [{\"inspections_All_pg3\":df_totals}, {\"inspections_CAA_pg3\":df_caa}, \n",
    "                 {\"inspections_CWA_pg3\":df_cwa}, {\"inspections_RCRA_pg3\":df_rcra}]:\n",
    "        if ( cd is None ):\n",
    "            file_type = ds_type\n",
    "        else:\n",
    "            file_type = ('Congressional District', state, cd)\n",
    "        filename = make_filename( list(file.keys())[0], *file_type )\n",
    "        list(file.values())[0].to_csv( filename )\n",
    "        print( \"Wrote {}\".format( filename ))"
   ]
  },
  {
   "cell_type": "markdown",
   "metadata": {
    "colab_type": "text",
    "id": "1qhQIRwaRGov"
   },
   "source": [
    "### 12. Percent change in enforcement - penalties and number of enforcements\n",
    "* For each CD the number of enforcements and amount of penalty are retrieved from the agg_col field (specified in make_data_sets() for each DataSet).  \n",
    "* The number of penalties and amount are accummulated for each year."
   ]
  },
  {
   "cell_type": "code",
   "execution_count": null,
   "metadata": {
    "colab": {},
    "colab_type": "code",
    "id": "Wa5M7cZKRGox",
    "tags": []
   },
   "outputs": [],
   "source": [
    "def get_enforcements( ds, ds_type ):\n",
    "    df_pgm = ds.results[ds_type].dataframe.copy()\n",
    "    if ( len( df_pgm ) > 0 ):\n",
    "        df_pgm.rename( columns={ ds.date_field: 'Date',\n",
    "                            ds.agg_col: 'Amount'}, inplace=True )\n",
    "        if ds.name == \"CWA Penalties\":\n",
    "            df_pgm['Amount'] = df_pgm['Amount'].fillna(0) + \\\n",
    "                    df_pgm['STATE_LOCAL_PENALTY_AMT'].fillna(0)                            \n",
    "        df_pgm[\"Count\"] = 1\n",
    "        df_pgm = df_pgm.groupby(pd.to_datetime(df_pgm['Date'], \n",
    "                format=\"%m/%d/%Y\", errors='coerce')).agg({'Amount':'sum','Count':'count'})\n",
    "\n",
    "        df_pgm = df_pgm.resample('Y').sum()\n",
    "        df_pgm.index = df_pgm.index.strftime('%Y')\n",
    "        df_pgm = df_pgm[ df_pgm.index >= \"2001\" ]\n",
    "        display(df_pgm )\n",
    "    else:\n",
    "        print( \"No records\")\n",
    "    return df_pgm\n",
    "    \n",
    "for state, cd in state_cds:\n",
    "    if ( cd is None ):\n",
    "        ds_type = ('State', None, state)\n",
    "        file_type = ds_type\n",
    "    else:\n",
    "        ds_type = ('Congressional District', cd, state)\n",
    "        file_type = ('Congressional District', state, cd)\n",
    "    print( \"CAA Penalties - {} District: {}\".format( state, cd ))\n",
    "    df_caa = get_enforcements( data_sets[\"CAA Penalties\"], ds_type )\n",
    "    filename = make_filename( 'enforcements_CAA_pg5', *file_type )\n",
    "    df_caa.to_csv( filename )\n",
    "    print( \"Wrote {}\".format( filename ))\n",
    "    \n",
    "    print( \"CWA Penalties - {} District: {}\".format( state, cd ))\n",
    "    df_cwa = get_enforcements( data_sets[\"CWA Penalties\"], ds_type )\n",
    "    filename = make_filename( 'enforcements_CWA_pg6', *file_type )\n",
    "    df_cwa.to_csv( filename )\n",
    "    print( \"Wrote {}\".format( filename ))\n",
    "    \n",
    "    print( \"RCRA Penalties - {} District: {}\".format( state, cd ))\n",
    "    df_rcra = get_enforcements( data_sets[\"RCRA Penalties\"], ds_type )\n",
    "    filename = make_filename( 'enforcements_RCRA_pg7', *file_type )\n",
    "    df_rcra.to_csv( filename )\n",
    "    print( \"Wrote {}\".format( filename ))\n",
    "    \n",
    "    df_totals = pd.concat( [df_caa, df_cwa, df_rcra] )\n",
    "    df_totals = df_totals.groupby( df_totals.index ).agg('sum')\n",
    "    print( \"Total enforcements for {} district {}\".format( state,cd ))\n",
    "    display( df_totals )\n",
    "    filename = make_filename( 'enforcements_All_pg3', *file_type )\n",
    "    df_totals.to_csv( filename )\n",
    "    print( \"Wrote {}\".format( filename ))"
   ]
  },
  {
   "cell_type": "markdown",
   "metadata": {
    "colab_type": "text",
    "id": "qFVFlsmgRGo1"
   },
   "source": [
    "### 13.a. 2019 - inspections per 1000 regulated facilities - by district\n",
    "* For each CD the inspections data is again grouped into years.\n",
    "* The get_num_events() function counts all events it gets from get_events() for the year that is requested, which is 2019.\n",
    "* This number is divided by the number of facilities in the district, from the program_count() function of cell #7.\n",
    "* The result is multiplied by 1000, equivalent to dividint the denominator (number of facilities) by 1000."
   ]
  },
  {
   "cell_type": "code",
   "execution_count": null,
   "metadata": {
    "colab": {},
    "colab_type": "code",
    "id": "tYElJxzGRGo2",
    "scrolled": true,
    "tags": []
   },
   "outputs": [],
   "source": [
    "def get_events( ds, ds_type ):\n",
    "    df_pgm = ds.results[ ds_type ].dataframe.copy()\n",
    "    df_pgm.rename( columns={ ds.date_field: 'Date',\n",
    "                        ds.agg_col: 'Count'}, inplace=True )\n",
    "    \n",
    "    try:\n",
    "        df_pgm = df_pgm.groupby(pd.to_datetime(df_pgm['Date'], \n",
    "                        format=ds.date_format, errors='coerce'))[['Count']].agg('count')\n",
    "    except ValueError:\n",
    "        print( \"Error with date {}\".format(df_pgm['Date']))\n",
    "    df_pgm = df_pgm.resample('Y').sum()\n",
    "    df_pgm.index = df_pgm.index.strftime('%Y')\n",
    "    df_pgm = df_pgm[ df_pgm.index >= '2001']\n",
    "    return( df_pgm )\n",
    "\n",
    "def get_num_events( ds, ds_type, state, cd, year='2019' ):\n",
    "    df_pgm = get_events( ds, ds_type )\n",
    "    if ( len( df_pgm ) > 0 ):\n",
    "        num_events = df_pgm[ df_pgm.index == year ]\n",
    "        if ( num_events.empty ):\n",
    "            return 0\n",
    "        else:\n",
    "            return num_events['Count'][0]\n",
    "    \n",
    "for state, cd in state_cds:\n",
    "    if ( cd is None ):\n",
    "        continue\n",
    "    ds_type = ('Congressional District', cd, state)\n",
    "    cd_echo_data[(state,cd)] = state_echo_data[state].loc[state_echo_data[state]['FAC_DERIVED_CD113'] == cd]\n",
    "    cd_echo_active[(state,cd)] = cd_echo_data[(state,cd)].loc[cd_echo_data[(state,cd)]['FAC_ACTIVE_FLAG']=='Y']\n",
    "    filename = make_filename( 'inspectionsper1000_All_pg4', 'Congressional District', \n",
    "                             state, cd )\n",
    "    with open( filename, 'w', newline='' ) as csvfile:\n",
    "        header = ['Program', 'Num / 1000']\n",
    "        writer = csv.writer( csvfile )\n",
    "        writer.writerow( header )\n",
    "        try:\n",
    "            num = 1000. * get_num_events( data_sets[\"CAA Inspections\"], ds_type, state, cd ) / \\\n",
    "                program_count( cd_echo_active[(state,cd)], 'CAA', 'AIR_FLAG', state, cd)\n",
    "            print(\"CAA inspections per 1000 regulated facilities: \", num)\n",
    "            writer.writerow( ['CAA', num] )\n",
    "        except pd.errors.OutOfBoundsDatetime:\n",
    "            print( \"Bad date in state CWA data\")\n",
    "        try:\n",
    "            num = 1000. * get_num_events( data_sets[\"CWA Inspections\"], ds_type, state, cd ) / \\\n",
    "                program_count( cd_echo_active[(state,cd)], 'CWA', 'NPDES_FLAG', state, cd)\n",
    "            print(\"CWA inspections per 1000 regulated facilities: \", num)\n",
    "            writer.writerow( ['CWA', num] )\n",
    "        except pd.errors.OutOfBoundsDatetime:\n",
    "            print( \"Bad date in state CWA data\")\n",
    "        try:\n",
    "            num = 1000. * get_num_events( data_sets[\"RCRA Inspections\"], ds_type, state, cd ) / \\\n",
    "                program_count( cd_echo_active[(state,cd)], 'RCRA', 'RCRA_FLAG', state, cd)\n",
    "            print(\"RCRA inspections per 1000 regulated facilities: \", num)\n",
    "            writer.writerow( ['RCRA', num] )\n",
    "        except pd.errors.OutOfBoundsDatetime:\n",
    "            print( \"Bad date in state CWA data\")\n",
    "        print( \"Wrote {}\".format( filename ))"
   ]
  },
  {
   "cell_type": "markdown",
   "metadata": {
    "colab_type": "text",
    "id": "164DAtFoRGpG"
   },
   "source": [
    "### 13.b. inspections since 2001\n",
    "This cell will report no results, but will just save data to some CSVs.\n",
    "For each CD, then for each unique state, the get_events() function of cell #13a will return a count of all inspections per year."
   ]
  },
  {
   "cell_type": "code",
   "execution_count": null,
   "metadata": {
    "colab": {},
    "colab_type": "code",
    "id": "a0_BLXYfRGpH",
    "tags": []
   },
   "outputs": [],
   "source": [
    "states = list(set([s_cd[0] for s_cd in state_cds]))  #Use conversion to set to make unique\n",
    "\n",
    "for state, cd in state_cds:\n",
    "    if ( cd is None ):\n",
    "        continue\n",
    "    ds_type = ('Congressional District', cd, state)\n",
    "    filename = make_filename( 'inspections_CAA_pg5', 'Congressional District',\n",
    "                             state, cd )\n",
    "    ds = data_sets[\"CAA Inspections\"]\n",
    "    df_pgm = get_events( ds, ds_type )\n",
    "    df_pgm.to_csv( filename )\n",
    "    print( \"Wrote {}\".format( filename ))\n",
    "    filename = make_filename( 'inspections_CWA_pg6', 'Congressional District',\n",
    "                             state, cd )\n",
    "    ds = data_sets[\"CWA Inspections\"]\n",
    "    df_pgm = get_events( ds, ds_type )\n",
    "    df_pgm.to_csv( filename )\n",
    "    print( \"Wrote {}\".format( filename ))\n",
    "    filename = make_filename( 'inspections_RCRA_pg7', 'Congressional District',\n",
    "                             state, cd )\n",
    "    ds = data_sets[\"RCRA Inspections\"]\n",
    "    df_pgm = get_events( ds, ds_type )\n",
    "    df_pgm.to_csv( filename )\n",
    "    print( \"Wrote {}\".format( filename ))\n",
    "\n",
    "for state in states:\n",
    "    ds_type = ('State', None, state)\n",
    "    filename = make_filename( 'inspections_CAA_pg5', *ds_type )\n",
    "    ds = data_sets[\"CAA Inspections\"]\n",
    "    df_pgm = get_events( ds, ds_type )\n",
    "    df_pgm.to_csv( filename )\n",
    "    print( \"Wrote {}\".format( filename ))\n",
    "    filename = make_filename( 'inspections_CWA_pg6', *ds_type )\n",
    "    ds = data_sets[\"CWA Inspections\"]\n",
    "    df_pgm = get_events( ds, ds_type )\n",
    "    df_pgm.to_csv( filename )\n",
    "    print( \"Wrote {}\".format( filename ))\n",
    "    filename = make_filename( 'inspections_RCRA_pg7', *ds_type )\n",
    "    ds = data_sets[\"RCRA Inspections\"]\n",
    "    df_pgm = get_events( ds, ds_type )\n",
    "    df_pgm.to_csv( filename )\n",
    "    print( \"Wrote {}\".format( filename ))\n"
   ]
  },
  {
   "cell_type": "markdown",
   "metadata": {
    "colab_type": "text",
    "id": "dvBxnDo9RGpN"
   },
   "source": [
    "### 14. 2019 - inspections per 1000 regulated facilities - by state\n",
    "This cell repeats the computation done in cell #13a for the full state.  The functions of cell #13a are re-used."
   ]
  },
  {
   "cell_type": "code",
   "execution_count": null,
   "metadata": {
    "colab": {},
    "colab_type": "code",
    "id": "O5raTucHRGpO",
    "tags": []
   },
   "outputs": [],
   "source": [
    "states = list(set([s_cd[0] for s_cd in state_cds]))  #Use conversion to set to make unique\n",
    "\n",
    "for state in states:\n",
    "    ds_type = ('State', None, state)\n",
    "    filename = make_filename( 'inspectionsper1000_All_pg4', *ds_type )\n",
    "    with open( filename, 'w', newline='' ) as csvfile:\n",
    "        header = ['Program', 'Num / 1000']\n",
    "        writer = csv.writer( csvfile )\n",
    "        writer.writerow( header )\n",
    "        try:\n",
    "            num = 1000. * get_num_events( data_sets[\"CAA Inspections\"], ds_type, state, None ) / \\\n",
    "                program_count( state_echo_active[state], 'CAA', 'AIR_FLAG', state, None)\n",
    "            print(\"CAA inspections per 1000 regulated facilities: \", num)\n",
    "            writer.writerow( ['CAA', num] )\n",
    "        except pd.errors.OutOfBoundsDatetime:\n",
    "            print( \"Bad date in state CWA data\")\n",
    "        try:\n",
    "            num = 1000. * get_num_events( data_sets[\"CWA Inspections\"], ds_type, state, None ) / \\\n",
    "                program_count( state_echo_active[state], 'CWA', 'NPDES_FLAG', state, None)\n",
    "            print(\"CWA inspections per 1000 regulated facilities: \", num)\n",
    "            writer.writerow( ['CWA', num] )\n",
    "        except pd.errors.OutOfBoundsDatetime:\n",
    "            print( \"Bad date in state CWA data\")\n",
    "        try:\n",
    "            num = 1000. * get_num_events( data_sets[\"RCRA Inspections\"], ds_type, state, None ) / \\\n",
    "                program_count( state_echo_active[state], 'RCRA', 'RCRA_FLAG', state, None)\n",
    "            print(\"RCRA inspections per 1000 regulated facilities: \", num)\n",
    "            writer.writerow( ['RCRA', num] )\n",
    "        except pd.errors.OutOfBoundsDatetime:\n",
    "            print( \"Bad date in state CWA data\")\n",
    "        print( \"Wrote {}\".format( filename ))"
   ]
  },
  {
   "cell_type": "markdown",
   "metadata": {
    "colab_type": "text",
    "id": "h2tvlHaCRGpT"
   },
   "source": [
    "### 15.a. 2019 - violations per 1000 regulated facilities - by district\n",
    "For each CD the get_num_events() function from cell #13a and the program_count() function from cell #7 are re-used with violations data sets this time.  The calculation is the same as in cell #13a."
   ]
  },
  {
   "cell_type": "code",
   "execution_count": null,
   "metadata": {
    "colab": {},
    "colab_type": "code",
    "id": "biLVXLt6RGpT",
    "scrolled": true,
    "tags": []
   },
   "outputs": [],
   "source": [
    "for state, cd in state_cds:\n",
    "    if ( cd is None ):\n",
    "        continue\n",
    "    ds_type = ('Congressional District', cd, state)\n",
    "    filename = make_filename( 'violationsper1000_All_pg4', 'Congressional District', \n",
    "                         state, cd )\n",
    "    with open( filename, 'w', newline='' ) as csvfile:\n",
    "        header = ['Program', 'Num / 1000']\n",
    "        writer = csv.writer( csvfile )\n",
    "        writer.writerow( header )\n",
    "        try:\n",
    "            num = 1000. * get_num_events( data_sets[\"CAA Violations\"], ds_type, state, cd ) / \\\n",
    "                program_count( cd_echo_active[(state,cd)], 'CAA', 'AIR_FLAG', state, cd)\n",
    "            print(\"CAA violations per 1000 regulated facilities: \", num)\n",
    "            writer.writerow( ['CAA', num] )\n",
    "        except pd.errors.OutOfBoundsDatetime:\n",
    "            print( \"Bad date in state CAA data\")\n",
    "        try:\n",
    "            # Have to handle CWA Violations differently - use saved dictionary from cell 10\n",
    "            num = effluent_violations_2019[(state,cd)]\n",
    "            num = 1000. * num / \\\n",
    "                program_count( cd_echo_active[(state,cd)], 'CWA', 'NPDES_FLAG', state, cd)\n",
    "            print(\"CWA violations per 1000 regulated facilities: \", num)\n",
    "            writer.writerow( ['CWA', num] )\n",
    "        except pd.errors.OutOfBoundsDatetime:\n",
    "            print( \"Bad date in state CWA data\")\n",
    "        try:\n",
    "            num = 1000. * get_num_events( data_sets[\"RCRA Violations\"], ds_type, state, cd ) / \\\n",
    "                program_count( cd_echo_active[(state,cd)], 'RCRA', 'RCRA_FLAG', state, cd)\n",
    "            print(\"RCRA violations per 1000 regulated facilities: \", num)\n",
    "            writer.writerow( ['RCRA', num] )\n",
    "        except pd.errors.OutOfBoundsDatetime:\n",
    "            print( \"Bad date in state CWA data\")\n",
    "        print( \"Wrote {}\".format( filename ))"
   ]
  },
  {
   "cell_type": "markdown",
   "metadata": {
    "colab_type": "text",
    "id": "viNEw5n2RGpa"
   },
   "source": [
    "### 15.b. violations since 2001\n",
    "The calculation done in cell #13b is repeated for violations."
   ]
  },
  {
   "cell_type": "code",
   "execution_count": null,
   "metadata": {
    "colab": {},
    "colab_type": "code",
    "id": "vLOrs9T8RGpb",
    "tags": []
   },
   "outputs": [],
   "source": [
    "for state, cd in state_cds:\n",
    "    if ( cd is None ):\n",
    "        ds_type = ('State', None, state)\n",
    "        file_type = ds_type\n",
    "    else:\n",
    "        ds_type = ('Congressional District', cd, state)\n",
    "        file_type = ('Congressional District', state, cd)\n",
    "    cd_echo_data[cd] = state_echo_data[state].loc[state_echo_data[state]['FAC_DERIVED_CD113'] == cd]\n",
    "    filename = make_filename( 'violations_CAA_pg5', *file_type )\n",
    "    ds = data_sets[\"CAA Violations\"]\n",
    "    df_pgm = get_events( ds, ds_type )\n",
    "    df_pgm.to_csv( filename )\n",
    "    print( \"Wrote {}\".format( filename ))\n",
    "    filename = make_filename( 'violations_CWA_pg6', *file_type )\n",
    "    # Have to handle CWA Violations differently - use saved dictionary from cell 10\n",
    "    effluent_violations_all[ (state, cd) ]['Total'].to_csv( filename )\n",
    "    print( \"Wrote {}\".format( filename ))\n",
    "    filename = make_filename( 'violations_RCRA_pg7', *file_type )\n",
    "    ds = data_sets[\"RCRA Violations\"]\n",
    "    df_pgm = get_events( ds, ds_type )\n",
    "    df_pgm.to_csv( filename )\n",
    "    print( \"Wrote {}\".format( filename ))"
   ]
  },
  {
   "cell_type": "markdown",
   "metadata": {
    "colab_type": "text",
    "id": "2O1RrMzGRGpi"
   },
   "source": [
    "### 16. 2019 - violations per 1000 regulated facilities - by state\n",
    "The calculations of cell #14 are repeated for violations."
   ]
  },
  {
   "cell_type": "code",
   "execution_count": null,
   "metadata": {
    "colab": {},
    "colab_type": "code",
    "id": "1DUxw2zkRGpj",
    "tags": []
   },
   "outputs": [],
   "source": [
    "states = list(set([s_cd[0] for s_cd in state_cds]))  #Use conversion to set to make unique\n",
    "\n",
    "for state in states:\n",
    "    ds_type = ('State', None, state)\n",
    "    filename = make_filename( 'violationsper1000_All_pg4', 'State', None, state )\n",
    "    with open( filename, 'w', newline='' ) as csvfile:\n",
    "        header = ['Program', 'Num / 1000']\n",
    "        writer = csv.writer( csvfile )\n",
    "        writer.writerow( header )\n",
    "        try:\n",
    "            num = 1000. * get_num_events( data_sets[\"CAA Violations\"], ds_type, state, None ) / \\\n",
    "                program_count( state_echo_active[state], 'CAA', 'AIR_FLAG', state, None)\n",
    "            print(\"CAA violations per 1000 regulated facilities: \", num)\n",
    "            writer.writerow( ['CAA', num] )\n",
    "        except pd.errors.OutOfBoundsDatetime:\n",
    "            print( \"Bad date in state CWA data\")\n",
    "        try:\n",
    "            num = 1000. * effluent_violations_2019[ (state, None) ] / \\\n",
    "                program_count( state_echo_active[state], 'CWA', 'NPDES_FLAG', state, None)\n",
    "            print(\"CWA violations per 1000 regulated facilities: \", num)\n",
    "            writer.writerow( ['CWA', num] )\n",
    "        except pd.errors.OutOfBoundsDatetime:\n",
    "            print( \"Bad date in state CWA data\")\n",
    "        try:\n",
    "            num = 1000. * get_num_events( data_sets[\"RCRA Violations\"], ds_type, state, None ) / \\\n",
    "                program_count( state_echo_active[state], 'RCRA', 'RCRA_FLAG', state, None)\n",
    "            print(\"RCRA violations per 1000 regulated facilities: \", num)\n",
    "            writer.writerow( ['RCRA', num] )\n",
    "        except pd.errors.OutOfBoundsDatetime:\n",
    "            print( \"Bad date in state CWA data\")\n",
    "        print( \"Wrote {}\".format( filename ))"
   ]
  },
  {
   "cell_type": "markdown",
   "metadata": {
    "colab_type": "text",
    "id": "cK1UzKcTRGpo"
   },
   "source": [
    "### 17. 2019 - enforcement counts and amounts per violating facility - by district\n",
    "* The get_num_facilities() function combines the violations into years, then counts the number of facilities with violations for each year.\n",
    "* The get_enf_per_fac() function combines enforcements into years, then counts the enforcements and sums the amount of penalties, before dividing by the results from get_num_facilities().\n",
    "* These functions are called for each CD, and for CAA, CWA and RCRA."
   ]
  },
  {
   "cell_type": "code",
   "execution_count": null,
   "metadata": {
    "colab": {},
    "colab_type": "code",
    "id": "sv5ZsBl-RGpq",
    "tags": []
   },
   "outputs": [],
   "source": [
    "def get_num_facilities( program, ds_type, year=2019 ):\n",
    "    ds = data_sets[program]\n",
    "    df_pgm = ds.results[ ds_type ].dataframe.copy()\n",
    "    if ( len( df_pgm ) > 0 ):\n",
    "        df_pgm.rename( columns={ ds.date_field: 'Date',\n",
    "                            ds.agg_col: 'Count'}, inplace=True )\n",
    "        if ( program == 'CWA Violations' ):\n",
    "            yr = df_pgm['Date'].astype( 'str' ).str[0:4:1]\n",
    "            df_pgm['Date'] = pd.to_datetime( yr, format=\"%Y\" )\n",
    "        else:\n",
    "            df_pgm['Date'] = pd.to_datetime( df_pgm['Date'], format=ds.date_format, errors='coerce' )\n",
    "        df_pgm_year = df_pgm[ df_pgm['Date'].dt.year == year].copy()\n",
    "        df_pgm_year['Date'] = pd.DatetimeIndex( df_pgm_year['Date']).year\n",
    "        num_fac = len(df_pgm_year.index.unique())            \n",
    "        return num_fac\n",
    "\n",
    "def get_enf_per_fac( ds_enf, ds_type, num_fac, year='2019' ):\n",
    "    df_pgm = ds_enf.results[ ds_type ].dataframe.copy()\n",
    "    if ( len( df_pgm ) > 0 ):\n",
    "        if ( ds_enf.name == 'CWA Penalties'):\n",
    "            ## This has been done in Cell 12.\n",
    "            # df_pgm['Amount'] = df_pgm['FED_PENALTY_ASSESSED_AMT'].fillna(0) + \\\n",
    "            #                        df_pgm['STATE_LOCAL_PENALTY_AMT'].fillna(0)\n",
    "            df_pgm.rename( columns={ds_enf.date_field: 'Date'}, inplace=True )\n",
    "        else:\n",
    "            df_pgm.rename( columns={ ds_enf.date_field: 'Date',\n",
    "                            ds_enf.agg_col: 'Amount'}, inplace=True )\n",
    "        df_pgm[\"Count\"] = 1\n",
    "        df_pgm = df_pgm.groupby(pd.to_datetime(df_pgm['Date'], \n",
    "                            format=\"%m/%d/%Y\", errors='coerce')).agg({'Amount':'sum','Count':'count'})\n",
    "\n",
    "        df_pgm = df_pgm.resample('Y').sum()\n",
    "        df_pgm.index = df_pgm.index.strftime('%Y')\n",
    "        df_pgm = df_pgm[ df_pgm.index == \"2019\" ]\n",
    "      \n",
    "        if df_pgm.empty:\n",
    "          df_pgm['Num_enf_per_fac'] = None\n",
    "          df_pgm['Amt_enf_per_fac'] = None\n",
    "          print(\"There were no enforcement actions taken in 2019\")\n",
    "        else:\n",
    "          df_pgm['Num_enf_per_fac'] = df_pgm.apply( \n",
    "              lambda row: None if ( num_fac == 0 ) else row.Count / num_fac, axis=1 )\n",
    "          df_pgm['Amt_enf_per_fac'] = df_pgm.apply( \n",
    "              lambda row: None if ( num_fac == 0 ) else row.Amount / num_fac, axis=1 )\n",
    "          print(df_pgm)\n",
    "\n",
    "    else:\n",
    "        print( \"No records\")\n",
    "    return df_pgm\n",
    "    \n",
    "for state, cd in state_cds:\n",
    "    if ( cd is None ):\n",
    "        continue\n",
    "    ds_type = ('Congressional District', cd, state)\n",
    "    \n",
    "    num_fac = get_num_facilities( \"CAA Violations\", ds_type )\n",
    "    print( \"CAA Penalties - {} District: {} - {} facilities with violations in 2019\".format( state, cd, num_fac ))\n",
    "    df_caa = get_enf_per_fac( data_sets[\"CAA Penalties\"], ds_type, num_fac )\n",
    "    \n",
    "    num_fac = get_num_facilities( \"CWA Violations\", ds_type )\n",
    "    print( \"CWA Penalties - {} District: {} - {} facilities with violations in 2019\".format( state, cd, num_fac ))\n",
    "    df_cwa = get_enf_per_fac( data_sets[\"CWA Penalties\"], ds_type, num_fac )\n",
    "    \n",
    "    num_fac = get_num_facilities( \"RCRA Violations\", ds_type )\n",
    "    print( \"RCRA Penalties - {} District: {} - {} facilities with violations in 2019\".format( state, cd, num_fac ))\n",
    "    df_rcra = get_enf_per_fac( data_sets[\"RCRA Penalties\"], ds_type, num_fac )\n",
    "    \n",
    "    df_totals = pd.concat( [df_caa, df_cwa, df_rcra] )\n",
    "    df_totals = df_totals.groupby( df_totals.index ).agg('sum')\n",
    "    print( \"Total enforcements for {} district {} in 2019\".format( state,cd ))\n",
    "    print( df_totals )\n",
    "    \n",
    "    filename = make_filename( 'enforcementsperviolatingfacility_All_pg4', 'Congressional District', \n",
    "                             state, cd )\n",
    "    df_totals.to_csv( filename )\n",
    "    print( \"Wrote {}\".format( filename ))"
   ]
  },
  {
   "cell_type": "markdown",
   "metadata": {
    "colab_type": "text",
    "id": "OZcMAchURGpy"
   },
   "source": [
    "### 18. 2019 - enforcement counts and amounts per violating facility - by state\n",
    "This cell repeats the calculations of cell #17 for unique states."
   ]
  },
  {
   "cell_type": "code",
   "execution_count": null,
   "metadata": {
    "colab": {},
    "colab_type": "code",
    "id": "LHj7V0onRGpy",
    "scrolled": true,
    "tags": []
   },
   "outputs": [],
   "source": [
    "states = list(set([s_cd[0] for s_cd in state_cds]))  #Use conversion to set to make unique\n",
    "\n",
    "for state in states:\n",
    "    ds_type = ('State', None, state)\n",
    "\n",
    "    num_fac = get_num_facilities( \"CAA Violations\", ds_type )\n",
    "    print( \"CAA Penalties - {} - {} facilities with violations\".format( state,  num_fac ))\n",
    "    df_caa = get_enf_per_fac( data_sets[\"CAA Penalties\"], ds_type, num_fac )\n",
    "    \n",
    "    num_fac = get_num_facilities( \"CWA Violations\", ds_type )\n",
    "    print( \"CWA Penalties - {} - {} facilities with violations\".format( state, num_fac ))\n",
    "    df_cwa = get_enf_per_fac( data_sets[\"CWA Penalties\"], ds_type, num_fac )\n",
    "    \n",
    "    num_fac = get_num_facilities( \"RCRA Violations\", ds_type )\n",
    "    print( \"RCRA Penalties - {} - {} facilities with violations\".format( state, num_fac ))\n",
    "    df_rcra = get_enf_per_fac( data_sets[\"RCRA Penalties\"], ds_type, num_fac )\n",
    "    \n",
    "    df_totals = pd.concat( [df_caa, df_cwa, df_rcra] )\n",
    "    df_totals = df_totals.groupby( df_totals.index ).agg('sum')\n",
    "    print( \"Total enforcements for {} \".format( state ))\n",
    "    print( df_totals )\n",
    "    \n",
    "    filename = make_filename( 'enforcementsperviolatingfacility_All_pg4', 'State', \n",
    "                             None, state )\n",
    "    df_totals.to_csv( filename )\n",
    "    print( \"Wrote {}\".format( filename ))"
   ]
  },
  {
   "cell_type": "markdown",
   "metadata": {
    "colab_type": "text",
    "id": "dpxh_TYwRGp3"
   },
   "source": [
    "### 19.  GHG emissions in these districts and states (2010-2018)\n",
    "For each state and then each CD, the get_ghg_emissions() function is called.  It combines emissions records into years and sums the amounts."
   ]
  },
  {
   "cell_type": "code",
   "execution_count": null,
   "metadata": {
    "colab": {},
    "colab_type": "code",
    "id": "xNHDOhFyRGp3",
    "scrolled": true,
    "tags": []
   },
   "outputs": [],
   "source": [
    "Threadstates = list(set([s_cd[0] for s_cd in state_cds]))  #Use conversion to set to make unique\n",
    "state_emissions = {}\n",
    "\n",
    "def get_ghg_emissions( ds, ds_type ):\n",
    "    df_result = ds.results[ ds_type ].dataframe\n",
    "    if ( df_result is None ):\n",
    "        print( \"No records\" )\n",
    "        return None\n",
    "    else:\n",
    "        df_pgm = df_result.copy()\n",
    "    if ( df_pgm is not None and len( df_pgm ) > 0 ):\n",
    "        df_pgm.rename( columns={ ds.date_field: 'Date',\n",
    "                            ds.agg_col: 'Sum'}, inplace=True )\n",
    "        df_pgm = df_pgm.groupby(pd.to_datetime(df_pgm['Date'], \n",
    "                                format=ds.date_format, errors='coerce'))[['Sum']].agg('sum')\n",
    "        df_pgm = df_pgm.resample('Y').sum()\n",
    "        df_pgm.index = df_pgm.index.strftime('%Y')\n",
    "        #df_pgm = df_pgm[ df_pgm.index == '2018' ]\n",
    "    else:\n",
    "        print( \"No records\")\n",
    "    return df_pgm\n",
    "\n",
    "for state in states:\n",
    "    ds_type = ('State', None, state)\n",
    "    print( \"Greenhouse Gas Emissions - State: {}\".format( state ))\n",
    "    df_ghg = get_ghg_emissions( data_sets[\"Greenhouse Gas Emissions\"], ds_type )\n",
    "    state_emissions[state] = df_ghg \n",
    "    display(state_emissions[state])\n",
    "    filename = make_filename( 'emissions2018_GHGRP_pg4', 'State', None, state )\n",
    "    df_ghg.to_csv( filename )\n",
    "    print( \"Wrote GHG emissions data to: \", filename)\n",
    "\n",
    "for state, cd in state_cds:\n",
    "    if ( cd is None ):\n",
    "        continue\n",
    "    ds_type = ('Congressional District', cd, state)\n",
    "    print( \"Greenhouse Gas Emissions - {} District: {}\".format( state, cd ))\n",
    "    df_ghg = get_ghg_emissions( data_sets[\"Greenhouse Gas Emissions\"], ds_type )\n",
    "    display(df_ghg)\n",
    "    \n",
    "    filename = make_filename( 'emissions2018_GHGRP_pg4', 'Congressional District', state, cd )\n",
    "    if (df_ghg is not None):\n",
    "      join = df_ghg.join(state_emissions[state], lsuffix=\"_District\", rsuffix=\"_State\")\n",
    "    else:\n",
    "      join = state_emissions[state]\n",
    "    join.to_csv(filename)\n",
    "    print( \"Wrote GHG emissions data to: \", filename)"
   ]
  },
  {
   "cell_type": "markdown",
   "metadata": {
    "colab_type": "text",
    "id": "hcKbIUeWRGp7"
   },
   "source": [
    "### 20. Top 10 facilities with compliance problems over the past 3 years\n",
    "* The get_top_violators() function counts non-compliance quarters ('S' and 'V' violations) for facilities and then sorts the facilities.\n",
    "* The chart_top_violators() function draws the chart.\n",
    "* The functions are called for each CD."
   ]
  },
  {
   "cell_type": "code",
   "execution_count": null,
   "metadata": {
    "colab": {},
    "colab_type": "code",
    "id": "pVbyg1sARGp8",
    "tags": []
   },
   "outputs": [],
   "source": [
    "import seaborn as sns\n",
    "\n",
    "states = list(set([s_cd[0] for s_cd in state_cds]))  #Use conversion to set to make unique\n",
    "\n",
    "df_violators = {}\n",
    "\n",
    "\n",
    "for state, cd in state_cds:\n",
    "    if ( cd is None ):\n",
    "        df_active = state_echo_active[state]\n",
    "        df_type = ('State', None, state)\n",
    "    else:\n",
    "        df_active = cd_echo_active[(state,cd)]\n",
    "        df_type = ('Congressional District', state, cd)\n",
    "    df = df_active.loc[ df_active['AIR_FLAG'] == 'Y'].copy()\n",
    "    df_violators[(state,cd,'CAA')] = get_top_violators( df, 'AIR_FLAG', state, cd, \n",
    "            'CAA_3YR_COMPL_QTRS_HISTORY', 'CAA_FORMAL_ACTION_COUNT', 20 )\n",
    "    filename = make_filename( 'noncomp_CAA_pg6', *df_type )\n",
    "    df_violators[(state,cd,'CAA')].to_csv( filename )\n",
    "    print( \"Wrote {}\".format( filename ))\n",
    "    if ( should_make_charts ):\n",
    "        display( chart_top_violators( df_violators[(state,cd,'CAA')], state, cd, 'CAA' ))\n",
    "    \n",
    "    df = df_active.loc[ df_active['NPDES_FLAG'] == 'Y'].copy()\n",
    "    df_violators[(state,cd,'CWA')] = get_top_violators( df, 'NPDES_FLAG', state, cd, \n",
    "            'CWA_13QTRS_COMPL_HISTORY', 'CWA_FORMAL_ACTION_COUNT', 20 )\n",
    "    filename = make_filename( 'noncomp_CWA_pg6', *df_type )\n",
    "    df_violators[(state,cd,'CWA')].to_csv( filename )\n",
    "    print( \"Wrote {}\".format( filename ))\n",
    "    if ( should_make_charts ):\n",
    "        display( chart_top_violators( df_violators[(state,cd,'CWA')], state, cd, 'CWA' ))\n",
    "    \n",
    "    df = df_active.loc[ df_active['RCRA_FLAG'] == 'Y'].copy()\n",
    "    df_violators[(state,cd,'RCRA')] = get_top_violators( df, 'RCRA_FLAG', state, cd, \n",
    "            'RCRA_3YR_COMPL_QTRS_HISTORY', 'RCRA_FORMAL_ACTION_COUNT', 20 )\n",
    "    filename = make_filename( 'noncomp_RCRA_pg7', *df_type )\n",
    "    df_violators[(state,cd,'RCRA')].to_csv( filename )\n",
    "    print( \"Wrote {}\".format( filename ))\n",
    "    if ( should_make_charts ):\n",
    "        display( chart_top_violators( df_violators[(state,cd,'RCRA')], state, cd, 'RCRA' ))\n",
    " "
   ]
  },
  {
   "cell_type": "markdown",
   "metadata": {},
   "source": [
    "### 21. Map the top 10 facilities with compliance problems over the past 3 years\n",
    "A map is drawn showing the facilities identified in cell #20."
   ]
  },
  {
   "cell_type": "code",
   "execution_count": null,
   "metadata": {},
   "outputs": [],
   "source": [
    "should_make_charts = True"
   ]
  },
  {
   "cell_type": "code",
   "execution_count": null,
   "metadata": {
    "tags": []
   },
   "outputs": [],
   "source": [
    "def violators_map( viol_dict, key ):\n",
    "    print( 'Map for {}, {} CD {}'.format( key[0], str(key[1]), key[2] ))\n",
    "    map_data = viol_dict[key]\n",
    "    m = mapper(map_data)\n",
    "    if ( cd is not None ):\n",
    "        url = \"https://raw.githubusercontent.com/unitedstates/districts/gh-pages/cds/2016/{}-{}/shape.geojson\".format( state, str(cd))\n",
    "        map_data = geopandas.read_file(url)\n",
    "        w = folium.GeoJson(\n",
    "            map_data,\n",
    "            name = \"EPA Regions\",\n",
    "        ).add_to(m) #m is the map object created to hold the facility points. we want to add this shape object to that map object\n",
    "        folium.GeoJsonTooltip(fields=[\"District\"]).add_to(w)\n",
    "    display( m )    \n",
    "\n",
    "if ( should_make_charts ):\n",
    "    import geopandas\n",
    "\n",
    "    for state, cd in state_cds:\n",
    "        violators_map( df_violators, (state,cd,'CAA') )\n",
    "        violators_map( df_violators, (state,cd,'CWA') )\n",
    "        violators_map( df_violators, (state,cd,'RCRA') )\n"
   ]
  },
  {
   "cell_type": "code",
   "execution_count": null,
   "metadata": {
    "colab": {},
    "colab_type": "code",
    "id": "HwrLkrdORGqA"
   },
   "outputs": [],
   "source": []
  }
 ],
 "metadata": {
  "colab": {
   "name": "AllPrograms.ipynb",
   "provenance": []
  },
  "kernelspec": {
   "display_name": "Python 3",
   "language": "python",
   "name": "python3"
  },
  "language_info": {
   "codemirror_mode": {
    "name": "ipython",
    "version": 3
   },
   "file_extension": ".py",
   "mimetype": "text/x-python",
   "name": "python",
   "nbconvert_exporter": "python",
   "pygments_lexer": "ipython3",
   "version": "3.7.6"
  }
 },
 "nbformat": 4,
 "nbformat_minor": 1
}
