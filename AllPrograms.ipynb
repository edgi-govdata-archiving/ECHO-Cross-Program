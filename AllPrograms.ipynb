{
 "cells": [
  {
   "cell_type": "markdown",
   "metadata": {},
   "source": [
    "| ![EEW logo](https://github.com/edgi-govdata-archiving/EEW-Image-Assets/blob/master/Jupyter%20instructions/eew.jpg?raw=true) | ![EDGI logo](https://github.com/edgi-govdata-archiving/EEW-Image-Assets/blob/master/Jupyter%20instructions/edgi.png?raw=true) |\n",
    "|---|---|\n",
    "\n",
    "#### This notebook is licensed under GPL 3.0. Please visit our Github repo for more information: https://github.com/edgi-govdata-archiving/ECHO-COVID19\n",
    "#### The notebook was collaboratively authored by EDGI following our authorship protocol: https://docs.google.com/document/d/1CtDN5ZZ4Zv70fHiBTmWkDJ9mswEipX6eCYrwicP66Xw/\n",
    "#### For more information about this project, visit https://www.environmentalenforcementwatch.org/"
   ]
  },
  {
   "cell_type": "markdown",
   "metadata": {},
   "source": [
    "# Examining Data from Multiple EPA Programs\n",
    "\n",
    "This notebook examines data from the EPA's Enforcement and Compliance History Online (ECHO) database (https://echo.epa.gov/). It includes information from EPA's programs covering air quality (the Clean Air Act, or CAA), water quality (the Clean Water Act, or CWA), drinking water (Safe Drinking Water Act, SDWA) and hazardous and other waste processing (the Resource Recovery and Conservation Act, or RCRA). \n",
    "\n",
    "ECHO data is available for facility violations as well as inspections and enforcement actions by EPA, state and other agencies. The data made accessible here runs from the present day (the database is refreshed weekly) back to 2001, which is when the EPA believes the data to be most reliable. It is available at the Congressional District level for a selected state, and for counties and zip codes of your choosing. "
   ]
  },
  {
   "cell_type": "markdown",
   "metadata": {},
   "source": [
    "## How to Run\n",
    "* A \"cell\" in a Jupyter notebook is a block of code performing a set of actions making available or using specific data.  The notebook works by running one cell after another, as the notebook user selects offered options.\n",
    "* If you click on a gray **code** cell, a little “play button” arrow appears on the left. If you click the play button, it will run the code in that cell (“**running** a cell”). The button will animate. When the animation stops, the cell has finished running.\n",
    "![Where to click to run the cell](https://github.com/edgi-govdata-archiving/EEW-Image-Assets/blob/master/Jupyter%20instructions/pressplay.JPG?raw=true)\n",
    "* You may get a warning that the notebook was not authored by Google. We know, we authored them! It’s okay. Click “Run Anyway” to continue. \n",
    "![Error Message](https://github.com/edgi-govdata-archiving/EEW-Image-Assets/blob/master/Jupyter%20instructions/warning-message.JPG?raw=true)\n",
    "* **It is important to run cells in order because they depend on each other.**\n",
    "* Run all of the cells in a Notebook to make a complete report. Please feel free to look at and **learn about each result as you create it**!"
   ]
  },
  {
   "cell_type": "markdown",
   "metadata": {},
   "source": [
    "---"
   ]
  },
  {
   "cell_type": "markdown",
   "metadata": {},
   "source": [
    "# **Let's begin!**"
   ]
  },
  {
   "cell_type": "markdown",
   "metadata": {},
   "source": [
    "Hover over the \"[ ]\" on the top left corner of the cell below and you should see a \"play\" button appear. Click on it to run the cell then move to the next one.\n",
    "\n",
    "These first two cells give us access to some external Python code we will need."
   ]
  },
  {
   "cell_type": "markdown",
   "metadata": {},
   "source": [
    "### 1.  Bring in some code that is stored in a Github project."
   ]
  },
  {
   "cell_type": "code",
   "execution_count": null,
   "metadata": {},
   "outputs": [],
   "source": [
    "!git clone https://github.com/edgi-govdata-archiving/ECHO_modules.git\n",
    "!git clone https://github.com/edgi-govdata-archiving/ECHO-Cross-Program.git -b allprograms-openhour\n",
    "print(\"Done!\")"
   ]
  },
  {
   "cell_type": "markdown",
   "metadata": {},
   "source": [
    "### 2.  Run a few Python modules.\n",
    "These will help us process and visualize the different program data sets later."
   ]
  },
  {
   "cell_type": "code",
   "execution_count": null,
   "metadata": {},
   "outputs": [],
   "source": [
    "%run ECHO_modules/DataSet.py\n",
    "%run ECHO-Cross-Program/utilities.py\n",
    "%run ECHO_modules/make_data_sets.py\n",
    "print(\"Done!\")"
   ]
  },
  {
   "cell_type": "markdown",
   "metadata": {},
   "source": [
    "### 3.  Run this next cell to create the widget to choose whether you want to view facilities by state, county, congressional district or zip code.\n",
    "Choose the type of region and proceed to the next cell."
   ]
  },
  {
   "cell_type": "code",
   "execution_count": null,
   "metadata": {},
   "outputs": [],
   "source": [
    "region_type = 'Congressional District'\n",
    "state_cds = [ ('NJ', 6), ('NY', 9), ('OR', 2)]\n",
    "data_set_list = ['RCRA Violations', 'RCRA Inspections', 'RCRA Penalties', 'CAA Enforcements',\n",
    "                 'CAA Violations', 'CAA Inspections', 'CAA Penalties', 'Greenhouse Gas Emissions', \n",
    "                 'CWA Violations', 'CWA Inspections', 'CWA Penalties', ]"
   ]
  },
  {
   "cell_type": "markdown",
   "metadata": {},
   "source": [
    "### 4. This cell makes the data sets and stores the results for each of them from the database.  "
   ]
  },
  {
   "cell_type": "code",
   "execution_count": null,
   "metadata": {
    "scrolled": false
   },
   "outputs": [],
   "source": [
    "data_sets=make_data_sets( data_set_list )\n",
    "print( \"Congressional District data sets:\")\n",
    "for state, cd in state_cds:\n",
    "    for ds_key, data_set in data_sets.items():\n",
    "        print( state + '-' + str(cd) + ' - ' + ds_key )\n",
    "        %time data_set.store_results( region_type=region_type, region_value=cd, state=state )\n",
    "\n",
    "print( \"State data sets:\")\n",
    "states = list(set([s_cd[0] for s_cd in state_cds]))  #Use conversion to set to make unique\n",
    "for state in states:\n",
    "    for ds_key, data_set in data_sets.items():\n",
    "        print( state + ' - ' + ds_key )\n",
    "        %time data_set.store_results( region_type='State', region_value=None, state=state )\n"
   ]
  },
  {
   "cell_type": "code",
   "execution_count": null,
   "metadata": {
    "scrolled": true
   },
   "outputs": [],
   "source": [
    "# Development - save the data so we can read it again locally (quickly) without \n",
    "# going to the database\n",
    "# # # # # # # states = list(set([s_cd[0] for s_cd in state_cds]))  #Use conversion to set to make unique\n",
    "\n",
    "# # # # # # for state, cd in state_cds:\n",
    "# # # # #     for ds_key, data_set in data_sets.items():\n",
    "# # # #         write_dataset( data_set.results[(region_type, cd, state)].dataframe, \n",
    "                   'CSVs/' + ds_key, region_type, state, cd )\n",
    "# # # for state in states:\n",
    "# #     for ds_key, data_set in data_sets.items():\n",
    "#         write_dataset( data_set.results[('State', None, state)].dataframe, \n",
    "#                    'CSVs/' + ds_key, 'State', state, None )\n"
   ]
  },
  {
   "cell_type": "markdown",
   "metadata": {},
   "source": [
    "### 5. This cell will show a chart for each data set"
   ]
  },
  {
   "cell_type": "code",
   "execution_count": null,
   "metadata": {},
   "outputs": [],
   "source": [
    "for ds_key, data_set in data_sets.items():\n",
    "    print( ds_key )\n",
    "    if ( ds_key != 'RCRA Penalties' ):\n",
    "        data_set.show_charts()"
   ]
  },
  {
   "cell_type": "markdown",
   "metadata": {},
   "source": [
    "### 6. Get the State data for comparisons"
   ]
  },
  {
   "cell_type": "code",
   "execution_count": null,
   "metadata": {},
   "outputs": [],
   "source": [
    "states = list(set([s_cd[0] for s_cd in state_cds]))  #Use conversion to set to make unique\n",
    "state_echo_data = {}\n",
    "state_echo_active = {}\n",
    "for state in states:\n",
    "    state_echo_data[state] = read_file( 'ECHO_EXPORTER', 'State', state, None )\n",
    "    if ( state_echo_data[state] is None ):\n",
    "        sql = 'select * from \"ECHO_EXPORTER\" where \"FAC_STATE\" = \\'{}\\''.format( state )\n",
    "        state_echo_data[state] = get_data( sql, 'REGISTRY_ID' )\n",
    "        write_dataset( state_echo_data[state], 'ECHO_EXPORTER', 'State', state, None )\n",
    "    state_echo_active[state] = state_echo_data[state].loc[state_echo_data[state]['FAC_ACTIVE_FLAG']=='Y']\n",
    "    print( 'There are {} active facilities in {}.'.format( \n",
    "        str(state_echo_active[state].shape[0]), state))\n"
   ]
  },
  {
   "cell_type": "markdown",
   "metadata": {},
   "source": [
    "### 7. Number of currently active facilities regulated in CAA, CWA, RCRRA, GHGRP"
   ]
  },
  {
   "cell_type": "code",
   "execution_count": null,
   "metadata": {},
   "outputs": [],
   "source": [
    "def program_count( echo_data, program, flag, state, cd ):\n",
    "    count = echo_data.loc[echo_data[flag]=='Y'].shape[0]\n",
    "    print( 'There are {} active facilities in {} CD {} tracked under {}.'.format( \n",
    "        str( count ), state, cd, program))\n",
    "    return count\n",
    "    \n",
    "cd_echo_data = {}\n",
    "cd_echo_active = {}\n",
    "for state, cd in state_cds:\n",
    "    rowdata = []    \n",
    "    cd_echo_data[cd] = state_echo_data[state].loc[state_echo_data[state]['FAC_DERIVED_CD113'] == cd]\n",
    "    cd_echo_active[cd] = cd_echo_data[cd].loc[cd_echo_data[cd]['FAC_ACTIVE_FLAG']=='Y']\n",
    "    rowdata.append( ['CAA', program_count( cd_echo_active[cd], 'CAA', 'AIR_FLAG', state, cd)] )\n",
    "    rowdata.append( ['CWA', program_count( cd_echo_active[cd], 'CWA', 'NPDES_FLAG', state, cd)] )\n",
    "    rowdata.append( ['RCRA', program_count( cd_echo_active[cd], 'RCRA', 'RCRA_FLAG', state, cd)] )\n",
    "    rowdata.append( ['GHG', program_count( cd_echo_active[cd], 'GHG', 'GHG_FLAG', state, cd)] )\n",
    "    filename = make_filename( 'active-facilities_All_pg3', 'Congressional District', \n",
    "                             state, cd )\n",
    "    with open( filename, 'w', newline='' ) as csvfile:\n",
    "        header = ['Program', 'Count']\n",
    "        writer = csv.writer( csvfile )\n",
    "        writer.writerow( header )\n",
    "        writer.writerows( rowdata ) \n",
    "        print( \"Wrote {}\".format( filename ))\n",
    "        "
   ]
  },
  {
   "cell_type": "markdown",
   "metadata": {},
   "source": [
    "### 8. Map all currently active facilities in the state"
   ]
  },
  {
   "cell_type": "code",
   "execution_count": null,
   "metadata": {},
   "outputs": [],
   "source": [
    "for state, cd in state_cds:\n",
    "    print( 'Map for {} CD {}'.format( state, cd ))\n",
    "    m = mapper(cd_echo_active[cd])\n",
    "    display( m )"
   ]
  },
  {
   "cell_type": "markdown",
   "metadata": {},
   "source": [
    "### 9. Number of recurring violations - total facilities with 3+ quarters out of the last 12 in non-compliance, by each program"
   ]
  },
  {
   "cell_type": "code",
   "execution_count": null,
   "metadata": {},
   "outputs": [],
   "source": [
    "states = list(set([s_cd[0] for s_cd in state_cds]))  #Use conversion to set to make unique\n",
    "\n",
    "def get_rowdata( df, field, flag ):\n",
    "    count_viol = df.loc[((df[field].str.count(\"S\") + \n",
    "                df[field].str.count(\"V\")) >= 3)].shape[0]\n",
    "    fraction_viol = count_viol/df.loc[df[flag]=='Y'].shape[0]\n",
    "    print( \"    {} facility quarterly violations in the past 3 years\".format( count_viol ))\n",
    "    print( \"    {:.2%} of active facilities with violations in the past 3 years\".format( \n",
    "           fraction_viol ))\n",
    "    return (count_viol, fraction_viol * 100.)\n",
    "\n",
    "rowdata_state = {}\n",
    "for state in states:\n",
    "    print( \"State: {}\".format( state ))\n",
    "    print( \"  CAA\")\n",
    "    rowdata_state[state] = []\n",
    "    rd = get_rowdata( state_echo_data[state], 'CAA_3YR_COMPL_QTRS_HISTORY', 'AIR_FLAG')\n",
    "    rowdata_state[state].append([ 'CAA', state, '', rd[0], rd[1]])\n",
    "    print( \"  CWA\")\n",
    "    rd = get_rowdata( state_echo_data[state], 'CWA_13QTRS_COMPL_HISTORY', 'NPDES_FLAG')\n",
    "    rowdata_state[state].append([ 'CWA', state, '', rd[0], rd[1]])\n",
    "    print( \"  RCRA\")\n",
    "    rd = get_rowdata( state_echo_data[state], 'RCRA_3YR_COMPL_QTRS_HISTORY', 'RCRA_FLAG')\n",
    "    rowdata_state[state].append([ 'RCRA', state, '', rd[0], rd[1]])\n",
    "\n",
    "for state, cd in state_cds:\n",
    "    rowdata_cd = []\n",
    "    print( \"{} - CD {}\".format( state, cd ))\n",
    "    print( \"  CAA\")\n",
    "    rd = get_rowdata( cd_echo_data[cd], 'CAA_3YR_COMPL_QTRS_HISTORY', 'AIR_FLAG')\n",
    "    rowdata_cd.append([ 'CAA', state, cd, rd[0], rd[1]])\n",
    "    print( \"  CWA\")\n",
    "    rd = get_rowdata( cd_echo_data[cd], 'CWA_13QTRS_COMPL_HISTORY', 'NPDES_FLAG')\n",
    "    rowdata_cd.append([ 'CWA', state, cd, rd[0], rd[1]])\n",
    "    print( \"  RCRA\")\n",
    "    rd = get_rowdata( cd_echo_data[cd], 'RCRA_3YR_COMPL_QTRS_HISTORY', 'RCRA_FLAG')\n",
    "    rowdata_cd.append([ 'RCRA', state, cd, rd[0], rd[1]])\n",
    "    filename = make_filename( 'recurring-violations_All_pg3', 'Congressional District', \n",
    "                             state, cd )\n",
    "    with open( filename, 'w', newline='' ) as csvfile:\n",
    "        header = ['Program', 'State', 'CD', 'Facilities', 'Percent']\n",
    "        writer = csv.writer( csvfile )\n",
    "        writer.writerow( header )\n",
    "        writer.writerows( rowdata_state[state] ) \n",
    "        writer.writerows( rowdata_cd )\n",
    "        print( \"Wrote {}\".format( filename ))\n"
   ]
  },
  {
   "cell_type": "markdown",
   "metadata": {},
   "source": [
    "### 10. % change in effluent violations (CWA)"
   ]
  },
  {
   "cell_type": "code",
   "execution_count": null,
   "metadata": {},
   "outputs": [],
   "source": [
    "effluent_violations_2019 = {}  #For use later\n",
    "for state, cd in state_cds:\n",
    "    print( \"CWA Violations - District: {}\".format( cd ))\n",
    "    df = data_sets[\"CWA Violations\"].results[('Congressional District', cd, state)].dataframe.copy()\n",
    "\n",
    "    year = df[\"YEARQTR\"].astype(\"str\").str[0:4:1]\n",
    "    df[\"YEARQTR\"] = year\n",
    "    df.rename( columns={'YEARQTR':'YEAR'}, inplace=True )\n",
    "    # Remove fields not relevant to this graph.\n",
    "    df = df.drop(columns=['FAC_LAT', 'FAC_LONG', 'FAC_ZIP', \n",
    "        'FAC_EPA_REGION', 'FAC_DERIVED_WBD', 'FAC_DERIVED_CD113',\n",
    "        'FAC_PERCENT_MINORITY', 'FAC_POP_DEN'])\n",
    "    d = df.groupby(pd.to_datetime(df['YEAR'], format=\"%Y\").dt.to_period(\"Y\")).sum()\n",
    "    d.index = d.index.strftime('%Y')\n",
    "    d = d[ d.index > '2000' ]\n",
    "    print( d )\n",
    "    filename = make_filename( 'effluent-violations_CWA_pg3', 'Congressional District', \n",
    "                             state, cd )\n",
    "    with open( filename, 'w', newline='' ) as csvfile:\n",
    "        header = ['Year', 'Violations']\n",
    "        writer = csv.writer( csvfile )\n",
    "        writer.writerow( header )\n",
    "        for row in d.itertuples():\n",
    "            if ( row[0] == '2019' ):\n",
    "                effluent_violations_2019[cd] = row[1]\n",
    "            writer.writerow( [ row[0], row[1]] )\n",
    "        print( \"Wrote {}\".format( filename ))\n"
   ]
  },
  {
   "cell_type": "markdown",
   "metadata": {},
   "source": [
    "### 11. % change in inspections"
   ]
  },
  {
   "cell_type": "code",
   "execution_count": null,
   "metadata": {},
   "outputs": [],
   "source": [
    "def get_inspections( ds ):\n",
    "    df_result = None\n",
    "    df_pgm = ds.results[('Congressional District', cd, state)].dataframe.copy()\n",
    "    if ( len( df_pgm ) > 0 ):\n",
    "        df_pgm.rename( columns={ ds.date_field: 'Date',\n",
    "                            ds.agg_col: 'Count'}, inplace=True )\n",
    "        df_pgm = df_pgm.groupby(pd.to_datetime(df_pgm['Date'], \n",
    "                            format=ds.date_format, errors='coerce'))[['Count']].agg('count')\n",
    "        df_pgm = df_pgm.resample('Y').sum()\n",
    "        df_pgm.index = df_pgm.index.strftime('%Y')\n",
    "        df_pgm = df_pgm[ df_pgm.index > '2000' ]\n",
    "        print( df_pgm )\n",
    "    else:\n",
    "        print( \"No records\")\n",
    "    return df_pgm\n",
    "    \n",
    "for state, cd in state_cds:\n",
    "    print( \"CAA Inspections - {} District: {}\".format( state, cd ))\n",
    "    df_caa = get_inspections( data_sets[\"CAA Inspections\"] )\n",
    "    print( \"CAA Inspections - {} District: {}\".format( state, cd ))\n",
    "    df_cwa = get_inspections( data_sets[\"CWA Inspections\"] )\n",
    "    print( \"CAA Inspections - {} District: {}\".format( state, cd ))\n",
    "    df_rcra = get_inspections( data_sets[\"RCRA Inspections\"] )\n",
    "    df_totals = pd.concat( [df_caa, df_cwa, df_rcra] )\n",
    "    df_totals = df_totals.groupby( df_totals.index ).agg('sum')\n",
    "    print( \"Total inspections for {} district {}\".format( state,cd ))\n",
    "    print( df_totals )\n",
    "    filename = make_filename( 'inspections_All_pg3', 'Congressional District', \n",
    "                             state, cd )\n",
    "    df_totals.to_csv( filename )\n",
    "    print( \"Wrote {}\".format( filename ))\n"
   ]
  },
  {
   "cell_type": "markdown",
   "metadata": {},
   "source": [
    "### 12. % change in enforcement - penalties and number of enforcements"
   ]
  },
  {
   "cell_type": "code",
   "execution_count": null,
   "metadata": {},
   "outputs": [],
   "source": [
    "def get_enforcements( ds ):\n",
    "    df_pgm = ds.results[('Congressional District', cd, state)].dataframe.copy()\n",
    "    if ( len( df_pgm ) > 0 ):\n",
    "        df_pgm.rename( columns={ ds.date_field: 'Date',\n",
    "                            ds.agg_col: 'Sum'}, inplace=True )\n",
    "        df_pgm = df_pgm.groupby(pd.to_datetime(df_pgm['Date'], \n",
    "                                        format=ds.date_format))[['Sum']].agg('sum')\n",
    "        df_pgm_count = df_pgm.copy()\n",
    "        df_pgm_amount = df_pgm.resample('Y').sum()\n",
    "        df_pgm_amount.index = df_pgm_amount.index.strftime('%Y')\n",
    "        df_pgm_amount = df_pgm_amount[ df_pgm_amount.index > '2000' ]\n",
    "        df_pgm_count = df_pgm_count.groupby(pd.to_datetime(df_pgm_count.index, \n",
    "                                        format=ds.date_format))[['Sum']].agg('count')\n",
    "        df_pgm_count = df_pgm_count.resample('Y').sum()\n",
    "        df_pgm_count.index = df_pgm_count.index.strftime('%Y')\n",
    "        df_pgm_count = df_pgm_count[ df_pgm_count.index > '2000' ]\n",
    "        df_pgm = df_pgm_count.merge( df_pgm_amount, how='left', left_index=True, \n",
    "                                    right_index=True )\n",
    "        df_pgm.rename( columns={ 'Sum_x': 'Count',\n",
    "                            'Sum_y': 'Amount'}, inplace=True )\n",
    "        print( df_pgm )\n",
    "    else:\n",
    "        print( \"No records\")\n",
    "    return df_pgm\n",
    "    \n",
    "for state, cd in state_cds:\n",
    "    print( \"CAA Penalties - {} District: {}\".format( state, cd ))\n",
    "    df_caa = get_enforcements( data_sets[\"CAA Penalties\"] )\n",
    "    print( \"CWA Penalties - {} District: {}\".format( state, cd ))\n",
    "    df_cwa = get_enforcements( data_sets[\"CWA Penalties\"] )\n",
    "    print( \"RCRA Penalties - {} District: {}\".format( state, cd ))\n",
    "    df_rcra = get_enforcements( data_sets[\"RCRA Penalties\"] )\n",
    "    df_totals = pd.concat( [df_caa, df_cwa, df_rcra] )\n",
    "    df_totals = df_totals.groupby( df_totals.index ).agg('sum')\n",
    "    print( \"Total enforcements for {} district {}\".format( state,cd ))\n",
    "    print( df_totals )\n",
    "    filename = make_filename( 'enforcements_All_pg3', 'Congressional District', \n",
    "                             state, cd )\n",
    "    df_totals.to_csv( filename )\n",
    "    print( \"Wrote {}\".format( filename ))\n"
   ]
  },
  {
   "cell_type": "markdown",
   "metadata": {},
   "source": [
    "### 13. 2019 - inspections per 1000 regulated facilities - by district"
   ]
  },
  {
   "cell_type": "code",
   "execution_count": null,
   "metadata": {
    "scrolled": true
   },
   "outputs": [],
   "source": [
    "def get_num_events( ds, ds_type, state, cd, year='2019' ):\n",
    "    df_pgm = ds.results[ ds_type ].dataframe.copy()\n",
    "    if ( len( df_pgm ) > 0 ):\n",
    "        df_pgm.rename( columns={ ds.date_field: 'Date',\n",
    "                            ds.agg_col: 'Count'}, inplace=True )\n",
    "        \n",
    "        try:\n",
    "            df_pgm = df_pgm.groupby(pd.to_datetime(df_pgm['Date'], \n",
    "                           format=ds.date_format, errors='coerce'))[['Count']].agg('count')\n",
    "        except ValueError:\n",
    "            print( \"Error with date {}\".format(df_pgm['Date']))\n",
    "        df_pgm = df_pgm.resample('Y').sum()\n",
    "        df_pgm.index = df_pgm.index.strftime('%Y')\n",
    "        num_events = df_pgm[ df_pgm.index == year ]\n",
    "        if ( num_events.empty ):\n",
    "            return 0\n",
    "        else:\n",
    "            return num_events['Count'][0]\n",
    "    \n",
    "for state, cd in state_cds:\n",
    "    ds_type = ('Congressional District', cd, state)\n",
    "    cd_echo_data[cd] = state_echo_data[state].loc[state_echo_data[state]['FAC_DERIVED_CD113'] == cd]\n",
    "    cd_echo_active[cd] = cd_echo_data[cd].loc[cd_echo_data[cd]['FAC_ACTIVE_FLAG']=='Y']\n",
    "    filename = make_filename( 'inspectionsper1000_All_pg4', 'Congressional District', \n",
    "                             state, cd )\n",
    "    with open( filename, 'w', newline='' ) as csvfile:\n",
    "        header = ['Program', 'Num / 1000']\n",
    "        writer = csv.writer( csvfile )\n",
    "        writer.writerow( header )\n",
    "        try:\n",
    "            num = 1000. * get_num_events( data_sets[\"CAA Inspections\"], ds_type, state, cd ) / \\\n",
    "                program_count( cd_echo_active[cd], 'CAA', 'AIR_FLAG', state, cd)\n",
    "            writer.writerow( ['CAA', num] )\n",
    "        except pd.errors.OutOfBoundsDatetime:\n",
    "            print( \"Bad date in state CWA data\")\n",
    "        try:\n",
    "            num = 1000. * get_num_events( data_sets[\"CWA Inspections\"], ds_type, state, cd ) / \\\n",
    "                program_count( cd_echo_active[cd], 'CWA', 'NPDES_FLAG', state, cd)\n",
    "            writer.writerow( ['CWA', num] )\n",
    "        except pd.errors.OutOfBoundsDatetime:\n",
    "            print( \"Bad date in state CWA data\")\n",
    "        try:\n",
    "            num = 1000. * get_num_events( data_sets[\"RCRA Inspections\"], ds_type, state, cd ) / \\\n",
    "                program_count( cd_echo_active[cd], 'RCRA', 'RCRA_FLAG', state, cd)\n",
    "            writer.writerow( ['RCRA', num] )\n",
    "        except pd.errors.OutOfBoundsDatetime:\n",
    "            print( \"Bad date in state CWA data\")\n",
    "        print( \"Wrote {}\".format( filename ))"
   ]
  },
  {
   "cell_type": "markdown",
   "metadata": {},
   "source": [
    "### 14. 2019 - inspections per 1000 regulated facilities - by state"
   ]
  },
  {
   "cell_type": "code",
   "execution_count": null,
   "metadata": {},
   "outputs": [],
   "source": [
    "states = list(set([s_cd[0] for s_cd in state_cds]))  #Use conversion to set to make unique\n",
    "\n",
    "for state in states:\n",
    "    ds_type = ('State', None, state)\n",
    "    filename = make_filename( 'inspectionsper1000_All_pg4', 'State', state, None )\n",
    "    with open( filename, 'w', newline='' ) as csvfile:\n",
    "        header = ['Program', 'Num / 1000']\n",
    "        writer = csv.writer( csvfile )\n",
    "        writer.writerow( header )\n",
    "        try:\n",
    "            num = 1000. * get_num_events( data_sets[\"CAA Inspections\"], ds_type, state, None ) / \\\n",
    "                program_count( state_echo_active[state], 'CAA', 'AIR_FLAG', state, None)\n",
    "            writer.writerow( ['CAA', num] )\n",
    "        except pd.errors.OutOfBoundsDatetime:\n",
    "            print( \"Bad date in state CWA data\")\n",
    "        try:\n",
    "            num = 1000. * get_num_events( data_sets[\"CWA Inspections\"], ds_type, state, None ) / \\\n",
    "                program_count( state_echo_active[state], 'CWA', 'NPDES_FLAG', state, None)\n",
    "            writer.writerow( ['CWA', num] )\n",
    "        except pd.errors.OutOfBoundsDatetime:\n",
    "            print( \"Bad date in state CWA data\")\n",
    "        try:\n",
    "            num = 1000. * get_num_events( data_sets[\"RCRA Inspections\"], ds_type, state, None ) / \\\n",
    "                program_count( state_echo_active[state], 'RCRA', 'RCRA_FLAG', state, None)\n",
    "            writer.writerow( ['RCRA', num] )\n",
    "        except pd.errors.OutOfBoundsDatetime:\n",
    "            print( \"Bad date in state CWA data\")\n",
    "        print( \"Wrote {}\".format( filename ))"
   ]
  },
  {
   "cell_type": "markdown",
   "metadata": {},
   "source": [
    "### 15. 2019 - violations per 1000 regulated facilities - by district"
   ]
  },
  {
   "cell_type": "code",
   "execution_count": null,
   "metadata": {
    "scrolled": true
   },
   "outputs": [],
   "source": [
    "   \n",
    "for state, cd in state_cds:\n",
    "    ds_type = ('Congressional District', cd, state)\n",
    "    filename = make_filename( 'violationsper1000_All_pg4', 'Congressional District', \n",
    "                             state, cd )\n",
    "    with open( filename, 'w', newline='' ) as csvfile:\n",
    "        header = ['Program', 'Num / 1000']\n",
    "        writer = csv.writer( csvfile )\n",
    "        writer.writerow( header )\n",
    "        try:\n",
    "            num = 1000. * get_num_events( data_sets[\"CAA Violations\"], ds_type, state, cd ) / \\\n",
    "                program_count( cd_echo_active[cd], 'CAA', 'AIR_FLAG', state, cd)\n",
    "            writer.writerow( ['CAA', num] )\n",
    "        except pd.errors.OutOfBoundsDatetime:\n",
    "            print( \"Bad date in state CWA data\")\n",
    "        try:\n",
    "            # Have to handle CWA Violations differently - use saved dictionary from cell 10\n",
    "            num = 1000. * effluent_violations_2019[cd] / \\\n",
    "                program_count( cd_echo_active[cd], 'CWA', 'NPDES_FLAG', state, cd)\n",
    "            writer.writerow( ['CWA', num] )\n",
    "        except pd.errors.OutOfBoundsDatetime:\n",
    "            print( \"Bad date in state CWA data\")\n",
    "        try:\n",
    "            num = 1000. * get_num_events( data_sets[\"RCRA Violations\"], ds_type, state, cd ) / \\\n",
    "                program_count( cd_echo_active[cd], 'RCRA', 'RCRA_FLAG', state, cd)\n",
    "            writer.writerow( ['RCRA', num] )\n",
    "        except pd.errors.OutOfBoundsDatetime:\n",
    "            print( \"Bad date in state CWA data\")\n",
    "        print( \"Wrote {}\".format( filename ))"
   ]
  },
  {
   "cell_type": "markdown",
   "metadata": {},
   "source": [
    "### 16. 2019 - violations per 1000 regulated facilities - by state"
   ]
  },
  {
   "cell_type": "code",
   "execution_count": null,
   "metadata": {},
   "outputs": [],
   "source": [
    "states = list(set([s_cd[0] for s_cd in state_cds]))  #Use conversion to set to make unique\n",
    "\n",
    "for state in states:\n",
    "    ds_type = ('State', None, state)\n",
    "    filename = make_filename( 'violationsper1000_All_pg4', 'State', state, None )\n",
    "    with open( filename, 'w', newline='' ) as csvfile:\n",
    "        header = ['Program', 'Num / 1000']\n",
    "        writer = csv.writer( csvfile )\n",
    "        writer.writerow( header )\n",
    "        try:\n",
    "            num = 1000. * get_num_events( data_sets[\"CAA Violations\"], ds_type, state, None ) / \\\n",
    "                program_count( state_echo_active[state], 'CAA', 'AIR_FLAG', state, None)\n",
    "            writer.writerow( ['CAA', num] )\n",
    "        except pd.errors.OutOfBoundsDatetime:\n",
    "            print( \"Bad date in state CWA data\")\n",
    "        try:\n",
    "            num = 1000. * get_num_events( data_sets[\"CWA Violations\"], ds_type, state, None ) / \\\n",
    "                program_count( state_echo_active[state], 'CWA', 'NPDES_FLAG', state, None)\n",
    "            writer.writerow( ['CWA', num] )\n",
    "        except pd.errors.OutOfBoundsDatetime:\n",
    "            print( \"Bad date in state CWA data\")\n",
    "        try:\n",
    "            num = 1000. * get_num_events( data_sets[\"RCRA Violations\"], ds_type, state, None ) / \\\n",
    "                program_count( state_echo_active[state], 'RCRA', 'RCRA_FLAG', state, None)\n",
    "            writer.writerow( ['RCRA', num] )\n",
    "        except pd.errors.OutOfBoundsDatetime:\n",
    "            print( \"Bad date in state CWA data\")\n",
    "        print( \"Wrote {}\".format( filename ))"
   ]
  },
  {
   "cell_type": "markdown",
   "metadata": {},
   "source": [
    "### 17. enforcement counts and amounts in this district per violating facility (2019)"
   ]
  },
  {
   "cell_type": "code",
   "execution_count": null,
   "metadata": {},
   "outputs": [],
   "source": [
    "def get_num_facilities( program, ds_type, year=2019 ):\n",
    "    ds = data_sets[program]\n",
    "    df_pgm = ds.results[ ds_type ].dataframe.copy()\n",
    "    if ( len( df_pgm ) > 0 ):\n",
    "        df_pgm.rename( columns={ ds.date_field: 'Date',\n",
    "                            ds.agg_col: 'Count'}, inplace=True )\n",
    "        if ( program == 'CWA Violations' ):\n",
    "            yr = df_pgm['Date'].astype( 'str' ).str[0:4:1]\n",
    "            df_pgm['Date'] = pd.to_datetime( yr, format=\"%Y\" )\n",
    "        else:\n",
    "            df_pgm['Date'] = pd.to_datetime( df_pgm['Date'], format=ds.date_format, errors='coerce' )\n",
    "        df_pgm_year = df_pgm[ df_pgm['Date'].dt.year == year].copy()\n",
    "        df_pgm_year['Date'] = pd.DatetimeIndex( df_pgm_year['Date']).year\n",
    "        num_fac = len(df_pgm_year.index.unique())            \n",
    "        return num_fac\n",
    "\n",
    "def get_enf_per_fac( ds_enf, ds_type, num_fac, year='2019' ):\n",
    "    df_pgm = ds_enf.results[ ds_type ].dataframe.copy()\n",
    "    if ( len( df_pgm ) > 0 ):\n",
    "        df_pgm.rename( columns={ ds_enf.date_field: 'Date',\n",
    "                            ds_enf.agg_col: 'Sum'}, inplace=True )\n",
    "        df_pgm = df_pgm.groupby(pd.to_datetime(df_pgm['Date'], \n",
    "                            format=ds_enf.date_format, errors='coerce'))[['Sum']].agg('sum')\n",
    "        df_pgm_count = df_pgm.copy()\n",
    "        df_pgm_amount = df_pgm.resample('Y').sum()\n",
    "        df_pgm_amount.index = df_pgm_amount.index.strftime('%Y')\n",
    "        df_pgm_amount = df_pgm_amount[ df_pgm_amount.index >= year ]\n",
    "        df_pgm_count = df_pgm_count.groupby(pd.to_datetime(df_pgm_count.index, \n",
    "                            format=ds_enf.date_format, errors='coerce'))[['Sum']].agg('count')\n",
    "        df_pgm_count = df_pgm_count.resample('Y').count()\n",
    "        df_pgm_count.index = df_pgm_count.index.strftime('%Y')\n",
    "        df_pgm_count = df_pgm_count[ df_pgm_count.index == year ]\n",
    "        df_pgm = df_pgm_count.merge( df_pgm_amount, how='left', left_index=True, \n",
    "                                    right_index=True )\n",
    "        df_pgm.rename( columns={ 'Sum_x': 'Count',\n",
    "                            'Sum_y': 'Amount'}, inplace=True )\n",
    "        \n",
    "        df_pgm['Num_enf_per_fac'] = df_pgm.apply( \n",
    "            lambda row: None if ( num_fac == 0 ) else row.Count / num_fac, axis=1 )\n",
    "        df_pgm['Amt_enf_per_fac'] = df_pgm.apply( \n",
    "            lambda row: None if ( num_fac == 0 ) else row.Amount / num_fac, axis=1 )\n",
    "    else:\n",
    "        print( \"No records\")\n",
    "    return df_pgm\n",
    "    \n",
    "for state, cd in state_cds:\n",
    "    ds_type = ('Congressional District', cd, state)\n",
    "    num_fac = get_num_facilities( \"CAA Violations\", ds_type )\n",
    "    print( \"CAA Penalties - {} District: {} - {} facilities with violations\".format( state, cd, num_fac ))\n",
    "    df_caa = get_enf_per_fac( data_sets[\"CAA Penalties\"], ds_type, num_fac )\n",
    "    num_fac = get_num_facilities( \"CWA Violations\", ds_type )\n",
    "    print( \"CWA Penalties - {} District: {} - {} facilities with violations\".format( state, cd, num_fac ))\n",
    "    df_cwa = get_enf_per_fac( data_sets[\"CWA Penalties\"], ds_type, num_fac )\n",
    "    num_fac = get_num_facilities( \"RCRA Violations\", ds_type )\n",
    "    print( \"RCRA Penalties - {} District: {} - {} facilities with violations\".format( state, cd, num_fac ))\n",
    "    df_rcra = get_enf_per_fac( data_sets[\"RCRA Penalties\"], ds_type, num_fac )\n",
    "    df_totals = pd.concat( [df_caa, df_cwa, df_rcra] )\n",
    "    df_totals = df_totals.groupby( df_totals.index ).agg('sum')\n",
    "    print( \"Total enforcements for {} district {}\".format( state,cd ))\n",
    "    print( df_totals )\n",
    "    filename = make_filename( 'enforcementsperviolatingfacility_All_pg4', 'Congressional District', \n",
    "                             state, cd )\n",
    "    df_totals.to_csv( filename )\n",
    "    print( \"Wrote {}\".format( filename ))\n",
    "\n"
   ]
  },
  {
   "cell_type": "markdown",
   "metadata": {},
   "source": [
    "### 18. enforcement counts and amounts in this state per violating facility (2019)"
   ]
  },
  {
   "cell_type": "code",
   "execution_count": null,
   "metadata": {
    "scrolled": true
   },
   "outputs": [],
   "source": [
    "states = list(set([s_cd[0] for s_cd in state_cds]))  #Use conversion to set to make unique\n",
    "\n",
    "for state in states:\n",
    "    ds_type = ('State', None, state)\n",
    "    num_fac = get_num_facilities( \"CAA Violations\", ds_type )\n",
    "    print( \"CAA Penalties - {} District: {} - {} facilities with violations\".format( state, cd, num_fac ))\n",
    "    df_caa = get_enf_per_fac( data_sets[\"CAA Penalties\"], ds_type, num_fac )\n",
    "    num_fac = get_num_facilities( \"CWA Violations\", ds_type )\n",
    "    print( \"CWA Penalties - {} District: {} - {} facilities with violations\".format( state, cd, num_fac ))\n",
    "    df_cwa = get_enf_per_fac( data_sets[\"CWA Penalties\"], ds_type, num_fac )\n",
    "    num_fac = get_num_facilities( \"RCRA Violations\", ds_type )\n",
    "    print( \"RCRA Penalties - {} District: {} - {} facilities with violations\".format( state, cd, num_fac ))\n",
    "    df_rcra = get_enf_per_fac( data_sets[\"RCRA Penalties\"], ds_type, num_fac )\n",
    "    df_totals = pd.concat( [df_caa, df_cwa, df_rcra] )\n",
    "    df_totals = df_totals.groupby( df_totals.index ).agg('sum')\n",
    "    print( \"Total enforcements for {} district {}\".format( state,cd ))\n",
    "    print( df_totals )\n",
    "    filename = make_filename( 'enforcementsperviolatingfacility_All_pg4', 'State', \n",
    "                             state, None )\n",
    "    df_totals.to_csv( filename )\n",
    "    print( \"Wrote {}\".format( filename ))\n"
   ]
  },
  {
   "cell_type": "markdown",
   "metadata": {},
   "source": [
    "### 19.  GHG emissions in this district, nationally, and statewide (2018)"
   ]
  },
  {
   "cell_type": "code",
   "execution_count": null,
   "metadata": {
    "scrolled": true
   },
   "outputs": [],
   "source": [
    "states = list(set([s_cd[0] for s_cd in state_cds]))  #Use conversion to set to make unique\n",
    "state_emissions = {}\n",
    "\n",
    "def get_ghg_emissions( ds, ds_type ):\n",
    "    df_result = ds.results[ ds_type ].dataframe\n",
    "    if ( df_result is None ):\n",
    "        print( \"No records\" )\n",
    "        return None\n",
    "    else:\n",
    "        df_pgm = df_result.copy()\n",
    "    if ( df_pgm is not None and len( df_pgm ) > 0 ):\n",
    "        df_pgm.rename( columns={ ds.date_field: 'Date',\n",
    "                            ds.agg_col: 'Sum'}, inplace=True )\n",
    "        df_pgm = df_pgm.groupby(pd.to_datetime(df_pgm['Date'], \n",
    "                                format=ds.date_format, errors='coerce'))[['Sum']].agg('sum')\n",
    "        df_pgm = df_pgm.resample('Y').sum()\n",
    "        df_pgm.index = df_pgm.index.strftime('%Y')\n",
    "        df_pgm = df_pgm[ df_pgm.index == '2018' ]\n",
    "    else:\n",
    "        print( \"No records\")\n",
    "    return df_pgm\n",
    "\n",
    "for state in states:\n",
    "    ds_type = ('State', None, state)\n",
    "    print( \"Greenhouse Gas Emissions - State: {}\".format( state ))\n",
    "    df_ghg = get_ghg_emissions( data_sets[\"Greenhouse Gas Emissions\"], ds_type )\n",
    "    if ( df_ghg is not None ):\n",
    "        emissions = df_ghg['Sum'][0]\n",
    "        print( \"Emissions: {} metric tons\".format( emissions ))\n",
    "        state_emissions[state] = emissions\n",
    "    else:\n",
    "        state_emissions[state] = None       \n",
    "\n",
    "for state, cd in state_cds:\n",
    "    ds_type = ('Congressional District', cd, state)\n",
    "    print( \"Greenhouse Gas Emissions - {} District: {}\".format( state, cd ))\n",
    "    df_ghg = get_ghg_emissions( data_sets[\"Greenhouse Gas Emissions\"], ds_type )\n",
    "    filename = make_filename( 'emissions2018_GHGRP_pg4', 'Congressional District', state, cd )\n",
    "    with open( filename, 'w', newline='' ) as csvfile:\n",
    "        header = [ 'State', 'District' ]\n",
    "        writer = csv.writer( csvfile )\n",
    "        writer.writerow( header )\n",
    "        if ( df_ghg is not None ):\n",
    "            emissions = df_ghg['Sum'][0]\n",
    "            print( \"Emissions: {} metric tons\".format( emissions ))\n",
    "            writer.writerow( [state_emissions[state], emissions])\n",
    "        else:\n",
    "            writer.writerow( [state_emissions[state], 0])\n"
   ]
  },
  {
   "cell_type": "code",
   "execution_count": null,
   "metadata": {},
   "outputs": [],
   "source": []
  }
 ],
 "metadata": {
  "kernelspec": {
   "display_name": "Python 3",
   "language": "python",
   "name": "python3"
  },
  "language_info": {
   "codemirror_mode": {
    "name": "ipython",
    "version": 3
   },
   "file_extension": ".py",
   "mimetype": "text/x-python",
   "name": "python",
   "nbconvert_exporter": "python",
   "pygments_lexer": "ipython3",
   "version": "3.7.6"
  }
 },
 "nbformat": 4,
 "nbformat_minor": 4
}
