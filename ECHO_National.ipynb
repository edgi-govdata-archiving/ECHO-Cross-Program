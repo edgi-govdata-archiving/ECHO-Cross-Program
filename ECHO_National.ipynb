{
  "nbformat": 4,
  "nbformat_minor": 0,
  "metadata": {
    "colab": {
      "name": "ECHO-National.ipynb",
      "provenance": [],
      "collapsed_sections": [],
      "toc_visible": true
    },
    "kernelspec": {
      "display_name": "Python 3",
      "language": "python",
      "name": "python3"
    },
    "language_info": {
      "codemirror_mode": {
        "name": "ipython",
        "version": 3
      },
      "file_extension": ".py",
      "mimetype": "text/x-python",
      "name": "python",
      "nbconvert_exporter": "python",
      "pygments_lexer": "ipython3",
      "version": "3.7.6"
    }
  },
  "cells": [
    {
      "cell_type": "markdown",
      "metadata": {
        "colab_type": "text",
        "id": "Ylalhm0wbt2p"
      },
      "source": [
        "| ![EEW logo](https://github.com/edgi-govdata-archiving/EEW-Image-Assets/blob/master/Jupyter%20instructions/eew.jpg?raw=true) | ![EDGI logo](https://github.com/edgi-govdata-archiving/EEW-Image-Assets/blob/master/Jupyter%20instructions/edgi.png?raw=true) |\n",
        "|---|---|\n",
        "\n",
        "#### This notebook is licensed under GPL 3.0. Please visit our Github repo for more information: \n",
        "#### The notebook was collaboratively authored by the Environmental Data & Governance Initiative (EDGI) following our authorship protocol: https://docs.google.com/document/d/1CtDN5ZZ4Zv70fHiBTmWkDJ9mswEipX6eCYrwicP66Xw/\n",
        "#### For more information about this project, visit https://www.environmentalenforcementwatch.org/"
      ]
    },
    {
      "cell_type": "markdown",
      "metadata": {
        "colab_type": "text",
        "id": "xwpXPiNLbt2x"
      },
      "source": [
        "## How to Run this Notebook\n",
        "* If you click on a gray **code** cell, a little “play button” arrow appears on the left. If you click the play button, it will run the code in that cell (“**running** a cell”). The button will animate. When the animation stops, the cell has finished running.\n",
        "![Where to click to run the cell](https://github.com/edgi-govdata-archiving/EEW-Image-Assets/blob/master/Jupyter%20instructions/pressplay.JPG?raw=true)\n",
        "* You may get a warning that the notebook was not authored by Google. We know, we authored them! It’s okay. Click “Run Anyway” to continue. \n",
        "![Error Message](https://github.com/edgi-govdata-archiving/EEW-Image-Assets/blob/master/Jupyter%20instructions/warning-message.JPG?raw=true)\n",
        "* Run all of the cells in a Notebook to make a complete report. Please feel free to look at and **learn about each result as you create it**!\n",
        "\n",
        "---"
      ]
    },
    {
      "cell_type": "markdown",
      "metadata": {
        "id": "vU4AqThS-37L",
        "colab_type": "text"
      },
      "source": [
        "# Nationwide statistics about environmental compliance trends"
      ]
    },
    {
      "cell_type": "markdown",
      "metadata": {
        "colab_type": "text",
        "id": "czia5t5ebt20"
      },
      "source": [
        "## Setup\n",
        "Here we load some helper code to get us going."
      ]
    },
    {
      "cell_type": "code",
      "metadata": {
        "colab_type": "code",
        "id": "vF3iTaeCbt23",
        "colab": {}
      },
      "source": [
        "# Import code libraries\n",
        "!git clone https://github.com/edgi-govdata-archiving/ECHO_modules.git &>/dev/null;\n",
        "!git clone https://github.com/edgi-govdata-archiving/ECHO-COVID19.git &>/dev/null;\n",
        "%run ECHO-COVID19/utilities.py\n",
        "%run ECHO_modules/DataSet.py\n",
        "\n",
        "import urllib.parse\n",
        "import pandas as pd\n",
        "import numpy as np\n",
        "import matplotlib.pyplot as plt\n",
        "%matplotlib inline\n",
        "import requests\n",
        "import csv\n",
        "import datetime\n",
        "import folium\n",
        "from folium.plugins import FastMarkerCluster\n",
        "import ipywidgets as widgets\n",
        "from IPython.core.display import display, HTML\n",
        "from pandas.errors import EmptyDataError\n",
        "def formatter(value):\n",
        "  return \"{:0.0f}\".format(value)"
      ],
      "execution_count": 38,
      "outputs": []
    },
    {
      "cell_type": "markdown",
      "metadata": {
        "id": "F7ZY4G6kVwLj",
        "colab_type": "text"
      },
      "source": [
        "Here we set up some code to help us store and eventually export the metrics."
      ]
    },
    {
      "cell_type": "code",
      "metadata": {
        "id": "aDnEBqa9Vvuc",
        "colab_type": "code",
        "colab": {}
      },
      "source": [
        "inspections = dict()\n",
        "violations = dict()\n",
        "enforcements = dict()\n",
        "penalties = dict()\n",
        "emissions = dict()"
      ],
      "execution_count": 41,
      "outputs": []
    },
    {
      "cell_type": "markdown",
      "metadata": {
        "colab_type": "text",
        "id": "su7_wvKWbt3Z"
      },
      "source": [
        "## Start getting data\n",
        "First, get summary data from the ECHO_EXPORTER table."
      ]
    },
    {
      "cell_type": "code",
      "metadata": {
        "colab_type": "code",
        "id": "cBkHsLPtbt3c",
        "colab": {
          "base_uri": "https://localhost:8080/",
          "height": 711
        },
        "outputId": "6d92abaa-fe0f-416b-8f94-d78bfd040694"
      },
      "source": [
        "# Get everything we will need from ECHO_EXPORTER in a single DB query.\n",
        "# We can then use the full dataframe to specialize views of it.\n",
        "full_echo_data = None\n",
        "column_mapping = {\n",
        "    '\"REGISTRY_ID\"': str,\n",
        "    '\"FAC_NAME\"': str,\n",
        "    '\"FAC_LAT\"': float,\n",
        "    '\"FAC_LONG\"': float,\n",
        "    '\"FAC_PERCENT_MINORITY\"': float,\n",
        "    '\"AIR_IDS\"': str,\n",
        "    '\"NPDES_IDS\"': str,\n",
        "    '\"RCRA_IDS\"': str,\n",
        "    '\"DFR_URL\"': str,\n",
        "    '\"AIR_FLAG\"': str,\n",
        "    '\"NPDES_FLAG\"': str,\n",
        "    '\"GHG_FLAG\"': str,\n",
        "    '\"RCRA_FLAG\"': str,\n",
        "    '\"FAC_ACTIVE_FLAG\"': str\n",
        "}\n",
        "column_names = list( column_mapping.keys() )\n",
        "columns_string = ','.join( column_names )\n",
        "sql = 'select ' + columns_string + ' from \"ECHO_EXPORTER\" where \"AIR_FLAG\" = \\'Y\\' or \"NPDES_FLAG\" = \\'Y\\' or \"GHG_FLAG\" = \\'Y\\' or \"RCRA_FLAG\" = \\'Y\\''\n",
        "try:\n",
        "    # Don't index.\n",
        "    full_echo_data = get_data( sql )\n",
        "except EmptyDataError:\n",
        "    print(\"\\nThere are no EPA facilities for this query.\\n\")\n",
        "full_echo_data"
      ],
      "execution_count": 3,
      "outputs": [
        {
          "output_type": "execute_result",
          "data": {
            "text/html": [
              "<div>\n",
              "<style scoped>\n",
              "    .dataframe tbody tr th:only-of-type {\n",
              "        vertical-align: middle;\n",
              "    }\n",
              "\n",
              "    .dataframe tbody tr th {\n",
              "        vertical-align: top;\n",
              "    }\n",
              "\n",
              "    .dataframe thead th {\n",
              "        text-align: right;\n",
              "    }\n",
              "</style>\n",
              "<table border=\"1\" class=\"dataframe\">\n",
              "  <thead>\n",
              "    <tr style=\"text-align: right;\">\n",
              "      <th></th>\n",
              "      <th>REGISTRY_ID</th>\n",
              "      <th>FAC_NAME</th>\n",
              "      <th>FAC_LAT</th>\n",
              "      <th>FAC_LONG</th>\n",
              "      <th>FAC_PERCENT_MINORITY</th>\n",
              "      <th>AIR_IDS</th>\n",
              "      <th>NPDES_IDS</th>\n",
              "      <th>RCRA_IDS</th>\n",
              "      <th>DFR_URL</th>\n",
              "      <th>AIR_FLAG</th>\n",
              "      <th>NPDES_FLAG</th>\n",
              "      <th>GHG_FLAG</th>\n",
              "      <th>RCRA_FLAG</th>\n",
              "      <th>FAC_ACTIVE_FLAG</th>\n",
              "    </tr>\n",
              "  </thead>\n",
              "  <tbody>\n",
              "    <tr>\n",
              "      <th>0</th>\n",
              "      <td>1.100079e+11</td>\n",
              "      <td>FRANKLINVILLE CENTRAL OFFICE</td>\n",
              "      <td>39.619710</td>\n",
              "      <td>-75.082060</td>\n",
              "      <td>16.056</td>\n",
              "      <td>NaN</td>\n",
              "      <td>NaN</td>\n",
              "      <td>NJD980645550</td>\n",
              "      <td>http://echo.epa.gov/detailed-facility-report?f...</td>\n",
              "      <td>N</td>\n",
              "      <td>N</td>\n",
              "      <td>N</td>\n",
              "      <td>Y</td>\n",
              "      <td>NaN</td>\n",
              "    </tr>\n",
              "    <tr>\n",
              "      <th>1</th>\n",
              "      <td>1.100042e+11</td>\n",
              "      <td>INSTRUMENTAL ENGINEERING</td>\n",
              "      <td>41.023599</td>\n",
              "      <td>-74.202748</td>\n",
              "      <td>11.588</td>\n",
              "      <td>NaN</td>\n",
              "      <td>NaN</td>\n",
              "      <td>NJD089751200</td>\n",
              "      <td>http://echo.epa.gov/detailed-facility-report?f...</td>\n",
              "      <td>N</td>\n",
              "      <td>N</td>\n",
              "      <td>N</td>\n",
              "      <td>Y</td>\n",
              "      <td>NaN</td>\n",
              "    </tr>\n",
              "    <tr>\n",
              "      <th>2</th>\n",
              "      <td>1.100047e+11</td>\n",
              "      <td>MIKE BASS USED CAR</td>\n",
              "      <td>41.451417</td>\n",
              "      <td>-82.166056</td>\n",
              "      <td>46.117</td>\n",
              "      <td>NaN</td>\n",
              "      <td>NaN</td>\n",
              "      <td>OHD987049517</td>\n",
              "      <td>http://echo.epa.gov/detailed-facility-report?f...</td>\n",
              "      <td>N</td>\n",
              "      <td>N</td>\n",
              "      <td>N</td>\n",
              "      <td>Y</td>\n",
              "      <td>NaN</td>\n",
              "    </tr>\n",
              "    <tr>\n",
              "      <th>3</th>\n",
              "      <td>1.100706e+11</td>\n",
              "      <td>PALM PLAZA</td>\n",
              "      <td>28.818830</td>\n",
              "      <td>-81.887510</td>\n",
              "      <td>36.786</td>\n",
              "      <td>NaN</td>\n",
              "      <td>FLR10SZ00</td>\n",
              "      <td>NaN</td>\n",
              "      <td>http://echo.epa.gov/detailed-facility-report?f...</td>\n",
              "      <td>N</td>\n",
              "      <td>Y</td>\n",
              "      <td>N</td>\n",
              "      <td>N</td>\n",
              "      <td>Y</td>\n",
              "    </tr>\n",
              "    <tr>\n",
              "      <th>4</th>\n",
              "      <td>1.100202e+11</td>\n",
              "      <td>WILDLIFE RECREATION POND 1</td>\n",
              "      <td>32.247591</td>\n",
              "      <td>-87.791091</td>\n",
              "      <td>NaN</td>\n",
              "      <td>NaN</td>\n",
              "      <td>ALR165713</td>\n",
              "      <td>NaN</td>\n",
              "      <td>http://echo.epa.gov/detailed-facility-report?f...</td>\n",
              "      <td>N</td>\n",
              "      <td>Y</td>\n",
              "      <td>N</td>\n",
              "      <td>N</td>\n",
              "      <td>NaN</td>\n",
              "    </tr>\n",
              "    <tr>\n",
              "      <th>...</th>\n",
              "      <td>...</td>\n",
              "      <td>...</td>\n",
              "      <td>...</td>\n",
              "      <td>...</td>\n",
              "      <td>...</td>\n",
              "      <td>...</td>\n",
              "      <td>...</td>\n",
              "      <td>...</td>\n",
              "      <td>...</td>\n",
              "      <td>...</td>\n",
              "      <td>...</td>\n",
              "      <td>...</td>\n",
              "      <td>...</td>\n",
              "      <td>...</td>\n",
              "    </tr>\n",
              "    <tr>\n",
              "      <th>1852340</th>\n",
              "      <td>1.100704e+11</td>\n",
              "      <td>PARKS AT LEGACY PHASE 2</td>\n",
              "      <td>33.229586</td>\n",
              "      <td>-96.850452</td>\n",
              "      <td>39.315</td>\n",
              "      <td>NaN</td>\n",
              "      <td>TXR15900B</td>\n",
              "      <td>NaN</td>\n",
              "      <td>http://echo.epa.gov/detailed-facility-report?f...</td>\n",
              "      <td>N</td>\n",
              "      <td>Y</td>\n",
              "      <td>N</td>\n",
              "      <td>N</td>\n",
              "      <td>Y</td>\n",
              "    </tr>\n",
              "    <tr>\n",
              "      <th>1852341</th>\n",
              "      <td>1.100052e+11</td>\n",
              "      <td>BERNHARDT &amp; TAYLOR CUSTOM CABINETS</td>\n",
              "      <td>37.502910</td>\n",
              "      <td>-77.601800</td>\n",
              "      <td>24.065</td>\n",
              "      <td>NaN</td>\n",
              "      <td>NaN</td>\n",
              "      <td>VAD003117561</td>\n",
              "      <td>http://echo.epa.gov/detailed-facility-report?f...</td>\n",
              "      <td>N</td>\n",
              "      <td>N</td>\n",
              "      <td>N</td>\n",
              "      <td>Y</td>\n",
              "      <td>Y</td>\n",
              "    </tr>\n",
              "    <tr>\n",
              "      <th>1852342</th>\n",
              "      <td>1.100556e+11</td>\n",
              "      <td>FOUNDATION ENERGY MGMT - SCHRAMM #1</td>\n",
              "      <td>40.077161</td>\n",
              "      <td>-102.593594</td>\n",
              "      <td>37.500</td>\n",
              "      <td>CO0000000812502009</td>\n",
              "      <td>NaN</td>\n",
              "      <td>NaN</td>\n",
              "      <td>http://echo.epa.gov/detailed-facility-report?f...</td>\n",
              "      <td>Y</td>\n",
              "      <td>N</td>\n",
              "      <td>N</td>\n",
              "      <td>N</td>\n",
              "      <td>NaN</td>\n",
              "    </tr>\n",
              "    <tr>\n",
              "      <th>1852343</th>\n",
              "      <td>1.100201e+11</td>\n",
              "      <td>FLOYD PIT</td>\n",
              "      <td>31.771450</td>\n",
              "      <td>-86.007790</td>\n",
              "      <td>37.759</td>\n",
              "      <td>NaN</td>\n",
              "      <td>ALG890136 ALR161820</td>\n",
              "      <td>NaN</td>\n",
              "      <td>http://echo.epa.gov/detailed-facility-report?f...</td>\n",
              "      <td>N</td>\n",
              "      <td>Y</td>\n",
              "      <td>N</td>\n",
              "      <td>N</td>\n",
              "      <td>Y</td>\n",
              "    </tr>\n",
              "    <tr>\n",
              "      <th>1852344</th>\n",
              "      <td>1.100067e+11</td>\n",
              "      <td>H &amp; V HEAVY EQUIPMENT</td>\n",
              "      <td>18.326370</td>\n",
              "      <td>-64.850820</td>\n",
              "      <td>0.000</td>\n",
              "      <td>NaN</td>\n",
              "      <td>VI0040207</td>\n",
              "      <td>NaN</td>\n",
              "      <td>http://echo.epa.gov/detailed-facility-report?f...</td>\n",
              "      <td>N</td>\n",
              "      <td>Y</td>\n",
              "      <td>N</td>\n",
              "      <td>N</td>\n",
              "      <td>Y</td>\n",
              "    </tr>\n",
              "  </tbody>\n",
              "</table>\n",
              "<p>1852345 rows × 14 columns</p>\n",
              "</div>"
            ],
            "text/plain": [
              "          REGISTRY_ID  ... FAC_ACTIVE_FLAG\n",
              "0        1.100079e+11  ...             NaN\n",
              "1        1.100042e+11  ...             NaN\n",
              "2        1.100047e+11  ...             NaN\n",
              "3        1.100706e+11  ...               Y\n",
              "4        1.100202e+11  ...             NaN\n",
              "...               ...  ...             ...\n",
              "1852340  1.100704e+11  ...               Y\n",
              "1852341  1.100052e+11  ...               Y\n",
              "1852342  1.100556e+11  ...             NaN\n",
              "1852343  1.100201e+11  ...               Y\n",
              "1852344  1.100067e+11  ...               Y\n",
              "\n",
              "[1852345 rows x 14 columns]"
            ]
          },
          "metadata": {
            "tags": []
          },
          "execution_count": 3
        }
      ]
    },
    {
      "cell_type": "markdown",
      "metadata": {
        "id": "Fnla1jRuQu75",
        "colab_type": "text"
      },
      "source": [
        "## Number of Regulated Facilities in 2019 Per Program"
      ]
    },
    {
      "cell_type": "code",
      "metadata": {
        "id": "mEcRLg9YRHZI",
        "colab_type": "code",
        "colab": {
          "base_uri": "https://localhost:8080/",
          "height": 167
        },
        "outputId": "82d48470-e248-4890-8edb-a53f15caca16"
      },
      "source": [
        "air_fac = full_echo_data.loc[(full_echo_data[\"AIR_FLAG\"]==\"Y\") & (full_echo_data[\"FAC_ACTIVE_FLAG\"]==\"Y\")].shape[0]\n",
        "water_fac = full_echo_data.loc[(full_echo_data[\"NPDES_FLAG\"]==\"Y\") & (full_echo_data[\"FAC_ACTIVE_FLAG\"]==\"Y\")].shape[0]\n",
        "waste_fac = full_echo_data.loc[(full_echo_data[\"RCRA_FLAG\"]==\"Y\") & (full_echo_data[\"FAC_ACTIVE_FLAG\"]==\"Y\")].shape[0]\n",
        "ghg_fac = full_echo_data.loc[(full_echo_data[\"GHG_FLAG\"]==\"Y\") & (full_echo_data[\"FAC_ACTIVE_FLAG\"]==\"Y\")].shape[0]\n",
        "\n",
        "display(HTML(\"<h3>There are \"+ str(air_fac) + \" facilities currently regulated under the Clean Air Act.</h3>\"))\n",
        "display(HTML(\"<h3>There are \"+ str(water_fac) + \" facilities currently regulated under the Clean Water Act.</h3>\"))\n",
        "display(HTML(\"<h3>There are \"+ str(waste_fac) + \" facilities currently regulated under RCRA (hazardous waste).</h3>\"))\n",
        "display(HTML(\"<h3>There are \"+ str(ghg_fac) + \" facilities currently reporting greenhouse gas emissions.</h3>\"))"
      ],
      "execution_count": 23,
      "outputs": [
        {
          "output_type": "display_data",
          "data": {
            "text/html": [
              "<h3>There are 187058 facilities currently regulated under the Clean Air Act.</h3>"
            ],
            "text/plain": [
              "<IPython.core.display.HTML object>"
            ]
          },
          "metadata": {
            "tags": []
          }
        },
        {
          "output_type": "display_data",
          "data": {
            "text/html": [
              "<h3>There are 350203 facilities currently regulated under the Clean Water Act.</h3>"
            ],
            "text/plain": [
              "<IPython.core.display.HTML object>"
            ]
          },
          "metadata": {
            "tags": []
          }
        },
        {
          "output_type": "display_data",
          "data": {
            "text/html": [
              "<h3>There are 605889 facilities currently regulated under RCRA (hazardous waste).</h3>"
            ],
            "text/plain": [
              "<IPython.core.display.HTML object>"
            ]
          },
          "metadata": {
            "tags": []
          }
        },
        {
          "output_type": "display_data",
          "data": {
            "text/html": [
              "<h3>There are 6155 facilities currently reporting greenhouse gas emissions.</h3>"
            ],
            "text/plain": [
              "<IPython.core.display.HTML object>"
            ]
          },
          "metadata": {
            "tags": []
          }
        }
      ]
    },
    {
      "cell_type": "markdown",
      "metadata": {
        "colab_type": "text",
        "id": "TUf6AQfPbt3z"
      },
      "source": [
        "## Clean Air Act inspections in 2019"
      ]
    },
    {
      "cell_type": "code",
      "metadata": {
        "colab_type": "code",
        "id": "rGzitWnObt33",
        "colab": {
          "base_uri": "https://localhost:8080/",
          "height": 419
        },
        "outputId": "632cfa50-e870-4a51-ceb1-529d1ff0fb03"
      },
      "source": [
        "# Use SQL to search for and select the data about air stack tests\n",
        "air_inspections = None\n",
        "try:\n",
        "    sql = 'select * from \\\"ICIS-AIR_FCES_PCES\\\" where \\\"ACTUAL_END_DATE\\\" like \\'__-__-20__\\''\n",
        "\n",
        "    # Download the data from that URL\n",
        "    air_inspections = get_data( sql, 'pgm_sys_id' )\n",
        "except EmptyDataError:\n",
        "    print( \"No data found\")\n",
        "\n",
        "air_inspections"
      ],
      "execution_count": 4,
      "outputs": [
        {
          "output_type": "execute_result",
          "data": {
            "text/html": [
              "<div>\n",
              "<style scoped>\n",
              "    .dataframe tbody tr th:only-of-type {\n",
              "        vertical-align: middle;\n",
              "    }\n",
              "\n",
              "    .dataframe tbody tr th {\n",
              "        vertical-align: top;\n",
              "    }\n",
              "\n",
              "    .dataframe thead th {\n",
              "        text-align: right;\n",
              "    }\n",
              "</style>\n",
              "<table border=\"1\" class=\"dataframe\">\n",
              "  <thead>\n",
              "    <tr style=\"text-align: right;\">\n",
              "      <th></th>\n",
              "      <th>PGM_SYS_ID</th>\n",
              "      <th>ACTIVITY_ID</th>\n",
              "      <th>STATE_EPA_FLAG</th>\n",
              "      <th>ACTIVITY_TYPE_CODE</th>\n",
              "      <th>ACTIVITY_TYPE_DESC</th>\n",
              "      <th>COMP_MONITOR_TYPE_CODE</th>\n",
              "      <th>COMP_MONITOR_TYPE_DESC</th>\n",
              "      <th>ACTUAL_END_DATE</th>\n",
              "      <th>PROGRAM_CODES</th>\n",
              "    </tr>\n",
              "  </thead>\n",
              "  <tbody>\n",
              "    <tr>\n",
              "      <th>0</th>\n",
              "      <td>020000003400546143</td>\n",
              "      <td>3400560126</td>\n",
              "      <td>S</td>\n",
              "      <td>INS</td>\n",
              "      <td>Inspection/Evaluation</td>\n",
              "      <td>FOO</td>\n",
              "      <td>FCE On-Site</td>\n",
              "      <td>12-01-2010</td>\n",
              "      <td>CAASIP</td>\n",
              "    </tr>\n",
              "    <tr>\n",
              "      <th>1</th>\n",
              "      <td>020000003400580001</td>\n",
              "      <td>3400566654</td>\n",
              "      <td>E</td>\n",
              "      <td>INS</td>\n",
              "      <td>Inspection/Evaluation</td>\n",
              "      <td>FOO</td>\n",
              "      <td>FCE On-Site</td>\n",
              "      <td>12-17-2002</td>\n",
              "      <td>CAASIP</td>\n",
              "    </tr>\n",
              "    <tr>\n",
              "      <th>2</th>\n",
              "      <td>020000003400710001</td>\n",
              "      <td>3400556492</td>\n",
              "      <td>E</td>\n",
              "      <td>INS</td>\n",
              "      <td>Inspection/Evaluation</td>\n",
              "      <td>PCE</td>\n",
              "      <td>PCE On-Site</td>\n",
              "      <td>07-13-2001</td>\n",
              "      <td>CAAMACT</td>\n",
              "    </tr>\n",
              "    <tr>\n",
              "      <th>3</th>\n",
              "      <td>020000003400710001</td>\n",
              "      <td>3600132199</td>\n",
              "      <td>S</td>\n",
              "      <td>INS</td>\n",
              "      <td>Inspection/Evaluation</td>\n",
              "      <td>FOO</td>\n",
              "      <td>FCE On-Site</td>\n",
              "      <td>07-08-2015</td>\n",
              "      <td>CAASIP</td>\n",
              "    </tr>\n",
              "    <tr>\n",
              "      <th>4</th>\n",
              "      <td>020000003400780001</td>\n",
              "      <td>3400559754</td>\n",
              "      <td>E</td>\n",
              "      <td>INS</td>\n",
              "      <td>Inspection/Evaluation</td>\n",
              "      <td>FOO</td>\n",
              "      <td>FCE On-Site</td>\n",
              "      <td>12-27-2002</td>\n",
              "      <td>CAASIP</td>\n",
              "    </tr>\n",
              "    <tr>\n",
              "      <th>...</th>\n",
              "      <td>...</td>\n",
              "      <td>...</td>\n",
              "      <td>...</td>\n",
              "      <td>...</td>\n",
              "      <td>...</td>\n",
              "      <td>...</td>\n",
              "      <td>...</td>\n",
              "      <td>...</td>\n",
              "      <td>...</td>\n",
              "    </tr>\n",
              "    <tr>\n",
              "      <th>1249716</th>\n",
              "      <td>VA0000005108900035</td>\n",
              "      <td>3401035767</td>\n",
              "      <td>S</td>\n",
              "      <td>INS</td>\n",
              "      <td>Inspection/Evaluation</td>\n",
              "      <td>PFF</td>\n",
              "      <td>PCE Off-Site</td>\n",
              "      <td>05-29-2007</td>\n",
              "      <td>CAASIP, CAATVP</td>\n",
              "    </tr>\n",
              "    <tr>\n",
              "      <th>1249717</th>\n",
              "      <td>VA0000005108900035</td>\n",
              "      <td>3401035768</td>\n",
              "      <td>S</td>\n",
              "      <td>INS</td>\n",
              "      <td>Inspection/Evaluation</td>\n",
              "      <td>PFF</td>\n",
              "      <td>PCE Off-Site</td>\n",
              "      <td>09-06-2007</td>\n",
              "      <td>CAAMACT, CAASIP, CAATVP</td>\n",
              "    </tr>\n",
              "    <tr>\n",
              "      <th>1249718</th>\n",
              "      <td>010000000901110001</td>\n",
              "      <td>3601047975</td>\n",
              "      <td>E</td>\n",
              "      <td>INS</td>\n",
              "      <td>Inspection/Evaluation</td>\n",
              "      <td>PFF</td>\n",
              "      <td>PCE Off-Site</td>\n",
              "      <td>03-10-2017</td>\n",
              "      <td>NaN</td>\n",
              "    </tr>\n",
              "    <tr>\n",
              "      <th>1249719</th>\n",
              "      <td>IL000161065AAW</td>\n",
              "      <td>3601561311</td>\n",
              "      <td>E</td>\n",
              "      <td>INS</td>\n",
              "      <td>Inspection/Evaluation</td>\n",
              "      <td>PCE</td>\n",
              "      <td>PCE On-Site</td>\n",
              "      <td>09-10-2018</td>\n",
              "      <td>NaN</td>\n",
              "    </tr>\n",
              "    <tr>\n",
              "      <th>1249720</th>\n",
              "      <td>TX0000004825500233</td>\n",
              "      <td>3601604698</td>\n",
              "      <td>E</td>\n",
              "      <td>INS</td>\n",
              "      <td>Inspection/Evaluation</td>\n",
              "      <td>PFF</td>\n",
              "      <td>PCE Off-Site</td>\n",
              "      <td>05-09-2018</td>\n",
              "      <td>NaN</td>\n",
              "    </tr>\n",
              "  </tbody>\n",
              "</table>\n",
              "<p>1249721 rows × 9 columns</p>\n",
              "</div>"
            ],
            "text/plain": [
              "                 PGM_SYS_ID  ...            PROGRAM_CODES\n",
              "0        020000003400546143  ...                   CAASIP\n",
              "1        020000003400580001  ...                   CAASIP\n",
              "2        020000003400710001  ...                  CAAMACT\n",
              "3        020000003400710001  ...                   CAASIP\n",
              "4        020000003400780001  ...                   CAASIP\n",
              "...                     ...  ...                      ...\n",
              "1249716  VA0000005108900035  ...           CAASIP, CAATVP\n",
              "1249717  VA0000005108900035  ...  CAAMACT, CAASIP, CAATVP\n",
              "1249718  010000000901110001  ...                      NaN\n",
              "1249719      IL000161065AAW  ...                      NaN\n",
              "1249720  TX0000004825500233  ...                      NaN\n",
              "\n",
              "[1249721 rows x 9 columns]"
            ]
          },
          "metadata": {
            "tags": []
          },
          "execution_count": 4
        }
      ]
    },
    {
      "cell_type": "code",
      "metadata": {
        "id": "lZfbWeMnK7Yk",
        "colab_type": "code",
        "colab": {
          "base_uri": "https://localhost:8080/",
          "height": 57
        },
        "outputId": "ce271bdf-e840-4788-d435-89d1a92096d0"
      },
      "source": [
        "# Number of facilities inspected each year per 1000 regulated facilities\n",
        "\n",
        "#air_inspections[\"ACTUAL_END_DATE\"] = pd.to_datetime(air_inspections[\"ACTUAL_END_DATE\"], format='%m-%d-%Y', errors='coerce') # Format the date\n",
        "air_inspections_metric = air_inspections.groupby([\"ACTUAL_END_DATE\"])[[\"STATE_EPA_FLAG\"]].agg(\"count\") # Count inspections per day\n",
        "air_inspections_metric = air_inspections_metric.resample(\"Y\").sum() # Sum up inspections per year\n",
        "air_inspections_metric.index = air_inspections_metric.index.strftime('%Y') # Reformat the year (2016-12-31 becomes 2016)\n",
        "air_inspections_metric_2019 = air_inspections_metric.loc[\"2019\"] #Filter to 2019\n",
        "air_inspections_metric_2019 = formatter((air_inspections_metric_2019[\"STATE_EPA_FLAG\"] / air_fac) * 1000) #Divide by regulated facilities and multiply by desired rate (per 1000)\n",
        "inspections[\"CAA\"] = air_inspections_metric_2019\n",
        "display(HTML(\"<h3>\"+air_inspections_metric_2019+\" inspections per 1000 facilities</h3>\"))"
      ],
      "execution_count": 145,
      "outputs": [
        {
          "output_type": "display_data",
          "data": {
            "text/html": [
              "<h3>261 inspections per 1000 facilities</h3>"
            ],
            "text/plain": [
              "<IPython.core.display.HTML object>"
            ]
          },
          "metadata": {
            "tags": []
          }
        }
      ]
    },
    {
      "cell_type": "markdown",
      "metadata": {
        "colab_type": "text",
        "id": "RMjxybzbbt5X"
      },
      "source": [
        "## High priority violations of the Clean Air Act in 2019\n",
        "\n"
      ]
    },
    {
      "cell_type": "code",
      "metadata": {
        "colab_type": "code",
        "id": "z1N2CuKTbt5Z",
        "colab": {
          "base_uri": "https://localhost:8080/",
          "height": 745
        },
        "outputId": "0f85e58e-b05b-4146-876c-ee76cde195e2"
      },
      "source": [
        "air_violations = None\n",
        "try:\n",
        "    sql = 'select * from \"ICIS-AIR_VIOLATION_HISTORY\" where \"HPV_DAYZERO_DATE\" like \\'__-__-20__\\''\n",
        "\n",
        "    air_violations = get_data( sql, \"pgm_sys_id\" )\n",
        "\n",
        "    # Remove \"FACIL\" violations, which are paperwork violations according to: https://19january2017snapshot.epa.gov/sites/production/files/2013-10/documents/frvmemo.pdf\n",
        "    # air_violations = air_violations.loc[(air_violations[\"POLLUTANT_DESCS\"]!=\"FACIL\")]\n",
        "except EmptyDataError:\n",
        "    print( \"No data found\")\n",
        "air_violations"
      ],
      "execution_count": 44,
      "outputs": [
        {
          "output_type": "execute_result",
          "data": {
            "text/html": [
              "<div>\n",
              "<style scoped>\n",
              "    .dataframe tbody tr th:only-of-type {\n",
              "        vertical-align: middle;\n",
              "    }\n",
              "\n",
              "    .dataframe tbody tr th {\n",
              "        vertical-align: top;\n",
              "    }\n",
              "\n",
              "    .dataframe thead th {\n",
              "        text-align: right;\n",
              "    }\n",
              "</style>\n",
              "<table border=\"1\" class=\"dataframe\">\n",
              "  <thead>\n",
              "    <tr style=\"text-align: right;\">\n",
              "      <th></th>\n",
              "      <th>PGM_SYS_ID</th>\n",
              "      <th>ACTIVITY_ID</th>\n",
              "      <th>AGENCY_TYPE_DESC</th>\n",
              "      <th>STATE_CODE</th>\n",
              "      <th>AIR_LCON_CODE</th>\n",
              "      <th>COMP_DETERMINATION_UID</th>\n",
              "      <th>ENF_RESPONSE_POLICY_CODE</th>\n",
              "      <th>PROGRAM_CODES</th>\n",
              "      <th>PROGRAM_DESCS</th>\n",
              "      <th>POLLUTANT_CODES</th>\n",
              "      <th>POLLUTANT_DESCS</th>\n",
              "      <th>EARLIEST_FRV_DETERM_DATE</th>\n",
              "      <th>HPV_DAYZERO_DATE</th>\n",
              "      <th>HPV_RESOLVED_DATE</th>\n",
              "    </tr>\n",
              "  </thead>\n",
              "  <tbody>\n",
              "    <tr>\n",
              "      <th>0</th>\n",
              "      <td>AR0000000513900037</td>\n",
              "      <td>3400362735</td>\n",
              "      <td>State</td>\n",
              "      <td>AR</td>\n",
              "      <td>NaN</td>\n",
              "      <td>AR000A0000051390003700134</td>\n",
              "      <td>HPV</td>\n",
              "      <td>CAANSPS CAASIP CAATVP</td>\n",
              "      <td>New Source Performance Standards State Impleme...</td>\n",
              "      <td>300000243</td>\n",
              "      <td>VOLATILE ORGANIC COMPOUNDS (VOCS)</td>\n",
              "      <td>NaN</td>\n",
              "      <td>05-18-2000</td>\n",
              "      <td>12-13-2002</td>\n",
              "    </tr>\n",
              "    <tr>\n",
              "      <th>1</th>\n",
              "      <td>AR0000000513900037</td>\n",
              "      <td>3400362739</td>\n",
              "      <td>State</td>\n",
              "      <td>AR</td>\n",
              "      <td>NaN</td>\n",
              "      <td>AR000A0000051390003700161</td>\n",
              "      <td>HPV</td>\n",
              "      <td>CAASIP CAATVP</td>\n",
              "      <td>State Implementation Plan for National Primary...</td>\n",
              "      <td>NaN</td>\n",
              "      <td>NaN</td>\n",
              "      <td>NaN</td>\n",
              "      <td>10-24-2001</td>\n",
              "      <td>06-19-2002</td>\n",
              "    </tr>\n",
              "    <tr>\n",
              "      <th>2</th>\n",
              "      <td>AR0000000513900037</td>\n",
              "      <td>3400362741</td>\n",
              "      <td>State</td>\n",
              "      <td>AR</td>\n",
              "      <td>NaN</td>\n",
              "      <td>AR000A0000051390003700216</td>\n",
              "      <td>HPV</td>\n",
              "      <td>CAANSPS CAASIP CAATVP</td>\n",
              "      <td>New Source Performance Standards State Impleme...</td>\n",
              "      <td>NaN</td>\n",
              "      <td>NaN</td>\n",
              "      <td>NaN</td>\n",
              "      <td>09-04-2004</td>\n",
              "      <td>08-11-2009</td>\n",
              "    </tr>\n",
              "    <tr>\n",
              "      <th>3</th>\n",
              "      <td>CASCA0000605900006</td>\n",
              "      <td>3400402885</td>\n",
              "      <td>Local</td>\n",
              "      <td>CA</td>\n",
              "      <td>SCA</td>\n",
              "      <td>CASCAA0000060590000600070</td>\n",
              "      <td>HPV</td>\n",
              "      <td>CAASIP CAATVP</td>\n",
              "      <td>State Implementation Plan for National Primary...</td>\n",
              "      <td>300000329</td>\n",
              "      <td>FACIL</td>\n",
              "      <td>NaN</td>\n",
              "      <td>06-10-2009</td>\n",
              "      <td>10-01-2009</td>\n",
              "    </tr>\n",
              "    <tr>\n",
              "      <th>4</th>\n",
              "      <td>CASCA0000605900006</td>\n",
              "      <td>3400402890</td>\n",
              "      <td>Local</td>\n",
              "      <td>CA</td>\n",
              "      <td>SCA</td>\n",
              "      <td>CASCAA0000060590000600095</td>\n",
              "      <td>HPV</td>\n",
              "      <td>CAASIP CAATVP</td>\n",
              "      <td>State Implementation Plan for National Primary...</td>\n",
              "      <td>300000329</td>\n",
              "      <td>FACIL</td>\n",
              "      <td>NaN</td>\n",
              "      <td>05-17-2012</td>\n",
              "      <td>08-01-2013</td>\n",
              "    </tr>\n",
              "    <tr>\n",
              "      <th>...</th>\n",
              "      <td>...</td>\n",
              "      <td>...</td>\n",
              "      <td>...</td>\n",
              "      <td>...</td>\n",
              "      <td>...</td>\n",
              "      <td>...</td>\n",
              "      <td>...</td>\n",
              "      <td>...</td>\n",
              "      <td>...</td>\n",
              "      <td>...</td>\n",
              "      <td>...</td>\n",
              "      <td>...</td>\n",
              "      <td>...</td>\n",
              "      <td>...</td>\n",
              "    </tr>\n",
              "    <tr>\n",
              "      <th>30209</th>\n",
              "      <td>TX0000004820101886</td>\n",
              "      <td>3602092395</td>\n",
              "      <td>State</td>\n",
              "      <td>TX</td>\n",
              "      <td>NaN</td>\n",
              "      <td>TX000A0898324592011292002</td>\n",
              "      <td>HPV</td>\n",
              "      <td>CAATVP</td>\n",
              "      <td>Title V Permits</td>\n",
              "      <td>300000329</td>\n",
              "      <td>FACIL</td>\n",
              "      <td>10-05-2011</td>\n",
              "      <td>10-05-2011</td>\n",
              "      <td>11-16-2012</td>\n",
              "    </tr>\n",
              "    <tr>\n",
              "      <th>30210</th>\n",
              "      <td>TX0000004820101886</td>\n",
              "      <td>3602092396</td>\n",
              "      <td>State</td>\n",
              "      <td>TX</td>\n",
              "      <td>NaN</td>\n",
              "      <td>TX000A0899513422016068002</td>\n",
              "      <td>HPV</td>\n",
              "      <td>CAATVP</td>\n",
              "      <td>Title V Permits</td>\n",
              "      <td>300000329</td>\n",
              "      <td>FACIL</td>\n",
              "      <td>02-29-2016</td>\n",
              "      <td>02-29-2016</td>\n",
              "      <td>NaN</td>\n",
              "    </tr>\n",
              "    <tr>\n",
              "      <th>30211</th>\n",
              "      <td>TX0000004820101886</td>\n",
              "      <td>3602092404</td>\n",
              "      <td>State</td>\n",
              "      <td>TX</td>\n",
              "      <td>NaN</td>\n",
              "      <td>TX000A0995348982014072002</td>\n",
              "      <td>HPV</td>\n",
              "      <td>CAATVP</td>\n",
              "      <td>Title V Permits</td>\n",
              "      <td>300000329</td>\n",
              "      <td>FACIL</td>\n",
              "      <td>03-07-2014</td>\n",
              "      <td>03-14-2014</td>\n",
              "      <td>01-08-2015</td>\n",
              "    </tr>\n",
              "    <tr>\n",
              "      <th>30212</th>\n",
              "      <td>TX0000004835300036</td>\n",
              "      <td>3602092357</td>\n",
              "      <td>State</td>\n",
              "      <td>TX</td>\n",
              "      <td>NaN</td>\n",
              "      <td>TX000A0382202622003219002</td>\n",
              "      <td>HPV</td>\n",
              "      <td>CAATVP</td>\n",
              "      <td>Title V Permits</td>\n",
              "      <td>300000329</td>\n",
              "      <td>FACIL</td>\n",
              "      <td>07-06-2001</td>\n",
              "      <td>07-06-2001</td>\n",
              "      <td>07-01-2002</td>\n",
              "    </tr>\n",
              "    <tr>\n",
              "      <th>30213</th>\n",
              "      <td>CABAAA0085</td>\n",
              "      <td>3602188895</td>\n",
              "      <td>Local</td>\n",
              "      <td>CA</td>\n",
              "      <td>BAA</td>\n",
              "      <td>CABAAA80845</td>\n",
              "      <td>HPV</td>\n",
              "      <td>CAATVP</td>\n",
              "      <td>Title V Permits</td>\n",
              "      <td>300000243</td>\n",
              "      <td>VOLATILE ORGANIC COMPOUNDS (VOCS)</td>\n",
              "      <td>07-23-2019</td>\n",
              "      <td>07-23-2019</td>\n",
              "      <td>NaN</td>\n",
              "    </tr>\n",
              "  </tbody>\n",
              "</table>\n",
              "<p>30214 rows × 14 columns</p>\n",
              "</div>"
            ],
            "text/plain": [
              "               PGM_SYS_ID  ACTIVITY_ID  ... HPV_DAYZERO_DATE HPV_RESOLVED_DATE\n",
              "0      AR0000000513900037   3400362735  ...       05-18-2000        12-13-2002\n",
              "1      AR0000000513900037   3400362739  ...       10-24-2001        06-19-2002\n",
              "2      AR0000000513900037   3400362741  ...       09-04-2004        08-11-2009\n",
              "3      CASCA0000605900006   3400402885  ...       06-10-2009        10-01-2009\n",
              "4      CASCA0000605900006   3400402890  ...       05-17-2012        08-01-2013\n",
              "...                   ...          ...  ...              ...               ...\n",
              "30209  TX0000004820101886   3602092395  ...       10-05-2011        11-16-2012\n",
              "30210  TX0000004820101886   3602092396  ...       02-29-2016               NaN\n",
              "30211  TX0000004820101886   3602092404  ...       03-14-2014        01-08-2015\n",
              "30212  TX0000004835300036   3602092357  ...       07-06-2001        07-01-2002\n",
              "30213          CABAAA0085   3602188895  ...       07-23-2019               NaN\n",
              "\n",
              "[30214 rows x 14 columns]"
            ]
          },
          "metadata": {
            "tags": []
          },
          "execution_count": 44
        }
      ]
    },
    {
      "cell_type": "code",
      "metadata": {
        "id": "KUQs-_I045oc",
        "colab_type": "code",
        "colab": {
          "base_uri": "https://localhost:8080/",
          "height": 57
        },
        "cellView": "both",
        "outputId": "caa2893c-9fb0-4d8d-a6b5-8ed0d8adf34d"
      },
      "source": [
        "# Number of facility violations each year per 1000 regulated facilities\n",
        "\n",
        "air_violations[\"HPV_DAYZERO_DATE\"] = pd.to_datetime(air_violations[\"HPV_DAYZERO_DATE\"], format='%m-%d-%Y', errors='coerce') # Format the date\n",
        "air_violations_metric = air_violations.groupby([\"HPV_DAYZERO_DATE\"])[[\"AGENCY_TYPE_DESC\"]].agg(\"count\") # Count violations per day\n",
        "air_violations_metric = air_violations_metric.resample(\"Y\").sum() # Sum up violations per year\n",
        "air_violations_metric.index = air_violations_metric.index.strftime('%Y') # Reformat the year (2016-12-31 becomes 2016)\n",
        "air_violations_metric_2019 = air_violations_metric.loc[\"2019\"] #Filter to 2019\n",
        "air_violations_metric_2019 = formatter((air_violations_metric_2019[\"AGENCY_TYPE_DESC\"] / air_fac) * 1000) #Divide by regulated facilities and multiply by desired rate (per 1000)\n",
        "violations[\"CAA\"] = air_violations_metric_2019\n",
        "display(HTML(\"<h3>\"+air_violations_metric_2019+\" violations per 1000 facilities</h3>\"))"
      ],
      "execution_count": 144,
      "outputs": [
        {
          "output_type": "display_data",
          "data": {
            "text/html": [
              "<h3>4 violations per 1000 facilities</h3>"
            ],
            "text/plain": [
              "<IPython.core.display.HTML object>"
            ]
          },
          "metadata": {
            "tags": []
          }
        }
      ]
    },
    {
      "cell_type": "markdown",
      "metadata": {
        "id": "DGdQDifqo3Bg",
        "colab_type": "text"
      },
      "source": [
        "## Enforcement Actions and Penalties under the Clean Air Act in 2019"
      ]
    },
    {
      "cell_type": "code",
      "metadata": {
        "id": "vKHjSEl6o0tp",
        "colab_type": "code",
        "colab": {
          "base_uri": "https://localhost:8080/",
          "height": 453
        },
        "outputId": "fafa3b7c-18c3-4390-9457-502737872423"
      },
      "source": [
        "air_enforcements = None\n",
        "try:\n",
        "    sql = 'select * from \"ICIS-AIR_FORMAL_ACTIONS\" where \"SETTLEMENT_ENTERED_DATE\" like \\'__/__/20__\\''\n",
        "\n",
        "    air_enforcements = get_data( sql, \"pgm_sys_id\" )\n",
        "except EmptyDataError:\n",
        "    print( \"No data found\")\n",
        "air_enforcements"
      ],
      "execution_count": 50,
      "outputs": [
        {
          "output_type": "execute_result",
          "data": {
            "text/html": [
              "<div>\n",
              "<style scoped>\n",
              "    .dataframe tbody tr th:only-of-type {\n",
              "        vertical-align: middle;\n",
              "    }\n",
              "\n",
              "    .dataframe tbody tr th {\n",
              "        vertical-align: top;\n",
              "    }\n",
              "\n",
              "    .dataframe thead th {\n",
              "        text-align: right;\n",
              "    }\n",
              "</style>\n",
              "<table border=\"1\" class=\"dataframe\">\n",
              "  <thead>\n",
              "    <tr style=\"text-align: right;\">\n",
              "      <th></th>\n",
              "      <th>PGM_SYS_ID</th>\n",
              "      <th>ACTIVITY_ID</th>\n",
              "      <th>ENF_IDENTIFIER</th>\n",
              "      <th>ACTIVITY_TYPE_CODE</th>\n",
              "      <th>ACTIVITY_TYPE_DESC</th>\n",
              "      <th>STATE_EPA_FLAG</th>\n",
              "      <th>ENF_TYPE_CODE</th>\n",
              "      <th>ENF_TYPE_DESC</th>\n",
              "      <th>SETTLEMENT_ENTERED_DATE</th>\n",
              "      <th>PENALTY_AMOUNT</th>\n",
              "    </tr>\n",
              "  </thead>\n",
              "  <tbody>\n",
              "    <tr>\n",
              "      <th>0</th>\n",
              "      <td>RI0000004400300502</td>\n",
              "      <td>1673</td>\n",
              "      <td>01-2002-0035</td>\n",
              "      <td>AFR</td>\n",
              "      <td>Administrative - Formal</td>\n",
              "      <td>E</td>\n",
              "      <td>113A</td>\n",
              "      <td>CAA 113A Admin Compliance Order (Non-Penalty)</td>\n",
              "      <td>02/21/2002</td>\n",
              "      <td>0.0</td>\n",
              "    </tr>\n",
              "    <tr>\n",
              "      <th>1</th>\n",
              "      <td>020000003604700968</td>\n",
              "      <td>6686</td>\n",
              "      <td>02-1998-0336</td>\n",
              "      <td>JDC</td>\n",
              "      <td>Judicial</td>\n",
              "      <td>E</td>\n",
              "      <td>CIV</td>\n",
              "      <td>Civil Judicial Action</td>\n",
              "      <td>08/07/2000</td>\n",
              "      <td>1000000.0</td>\n",
              "    </tr>\n",
              "    <tr>\n",
              "      <th>2</th>\n",
              "      <td>020000003604700968</td>\n",
              "      <td>6686</td>\n",
              "      <td>02-1998-0336</td>\n",
              "      <td>JDC</td>\n",
              "      <td>Judicial</td>\n",
              "      <td>E</td>\n",
              "      <td>CIV</td>\n",
              "      <td>Civil Judicial Action</td>\n",
              "      <td>04/02/2007</td>\n",
              "      <td>0.0</td>\n",
              "    </tr>\n",
              "    <tr>\n",
              "      <th>3</th>\n",
              "      <td>AL0000000111700005</td>\n",
              "      <td>23504</td>\n",
              "      <td>04-2000-0099</td>\n",
              "      <td>JDC</td>\n",
              "      <td>Judicial</td>\n",
              "      <td>E</td>\n",
              "      <td>CIV</td>\n",
              "      <td>Civil Judicial Action</td>\n",
              "      <td>06/19/2006</td>\n",
              "      <td>100000.0</td>\n",
              "    </tr>\n",
              "    <tr>\n",
              "      <th>4</th>\n",
              "      <td>NY0000002630700276</td>\n",
              "      <td>8170</td>\n",
              "      <td>02-2001-0019</td>\n",
              "      <td>JDC</td>\n",
              "      <td>Judicial</td>\n",
              "      <td>E</td>\n",
              "      <td>BNK</td>\n",
              "      <td>Bankruptcy</td>\n",
              "      <td>04/20/2009</td>\n",
              "      <td>140625.0</td>\n",
              "    </tr>\n",
              "    <tr>\n",
              "      <th>...</th>\n",
              "      <td>...</td>\n",
              "      <td>...</td>\n",
              "      <td>...</td>\n",
              "      <td>...</td>\n",
              "      <td>...</td>\n",
              "      <td>...</td>\n",
              "      <td>...</td>\n",
              "      <td>...</td>\n",
              "      <td>...</td>\n",
              "      <td>...</td>\n",
              "    </tr>\n",
              "    <tr>\n",
              "      <th>82780</th>\n",
              "      <td>CO0000000812309009</td>\n",
              "      <td>3602243072</td>\n",
              "      <td>CO000A0000081230900900048</td>\n",
              "      <td>AFR</td>\n",
              "      <td>Administrative - Formal</td>\n",
              "      <td>S</td>\n",
              "      <td>SCAAAO</td>\n",
              "      <td>Administrative Order</td>\n",
              "      <td>07/07/2020</td>\n",
              "      <td>10500.0</td>\n",
              "    </tr>\n",
              "    <tr>\n",
              "      <th>82781</th>\n",
              "      <td>CO0000000801301467</td>\n",
              "      <td>3602243073</td>\n",
              "      <td>CO000A0000080130146700004</td>\n",
              "      <td>AFR</td>\n",
              "      <td>Administrative - Formal</td>\n",
              "      <td>S</td>\n",
              "      <td>SCAAAO</td>\n",
              "      <td>Administrative Order</td>\n",
              "      <td>06/16/2020</td>\n",
              "      <td>0.0</td>\n",
              "    </tr>\n",
              "    <tr>\n",
              "      <th>82782</th>\n",
              "      <td>CO0000000800102074</td>\n",
              "      <td>3602243074</td>\n",
              "      <td>CO000A0000080010207400004</td>\n",
              "      <td>AFR</td>\n",
              "      <td>Administrative - Formal</td>\n",
              "      <td>S</td>\n",
              "      <td>SCAAAO</td>\n",
              "      <td>Administrative Order</td>\n",
              "      <td>06/16/2020</td>\n",
              "      <td>0.0</td>\n",
              "    </tr>\n",
              "    <tr>\n",
              "      <th>82783</th>\n",
              "      <td>CO0000000800501688</td>\n",
              "      <td>3602243075</td>\n",
              "      <td>CO000A0000080050168800005</td>\n",
              "      <td>AFR</td>\n",
              "      <td>Administrative - Formal</td>\n",
              "      <td>S</td>\n",
              "      <td>SCAAAO</td>\n",
              "      <td>Administrative Order</td>\n",
              "      <td>06/16/2020</td>\n",
              "      <td>9100.0</td>\n",
              "    </tr>\n",
              "    <tr>\n",
              "      <th>82784</th>\n",
              "      <td>VA0000005103100163</td>\n",
              "      <td>3602243181</td>\n",
              "      <td>VA000A0005103100163F1283</td>\n",
              "      <td>AFR</td>\n",
              "      <td>Administrative - Formal</td>\n",
              "      <td>S</td>\n",
              "      <td>SCAAAO</td>\n",
              "      <td>Administrative Order</td>\n",
              "      <td>07/17/2020</td>\n",
              "      <td>10900.0</td>\n",
              "    </tr>\n",
              "  </tbody>\n",
              "</table>\n",
              "<p>82785 rows × 10 columns</p>\n",
              "</div>"
            ],
            "text/plain": [
              "               PGM_SYS_ID  ACTIVITY_ID  ... SETTLEMENT_ENTERED_DATE PENALTY_AMOUNT\n",
              "0      RI0000004400300502         1673  ...              02/21/2002            0.0\n",
              "1      020000003604700968         6686  ...              08/07/2000      1000000.0\n",
              "2      020000003604700968         6686  ...              04/02/2007            0.0\n",
              "3      AL0000000111700005        23504  ...              06/19/2006       100000.0\n",
              "4      NY0000002630700276         8170  ...              04/20/2009       140625.0\n",
              "...                   ...          ...  ...                     ...            ...\n",
              "82780  CO0000000812309009   3602243072  ...              07/07/2020        10500.0\n",
              "82781  CO0000000801301467   3602243073  ...              06/16/2020            0.0\n",
              "82782  CO0000000800102074   3602243074  ...              06/16/2020            0.0\n",
              "82783  CO0000000800501688   3602243075  ...              06/16/2020         9100.0\n",
              "82784  VA0000005103100163   3602243181  ...              07/17/2020        10900.0\n",
              "\n",
              "[82785 rows x 10 columns]"
            ]
          },
          "metadata": {
            "tags": []
          },
          "execution_count": 50
        }
      ]
    },
    {
      "cell_type": "code",
      "metadata": {
        "id": "3LYD5_dd6bub",
        "colab_type": "code",
        "colab": {
          "base_uri": "https://localhost:8080/",
          "height": 57
        },
        "outputId": "5dcfab77-cfa2-4fa2-c4de-e0680aa2da4a"
      },
      "source": [
        "# Number of actions each year per 1000 regulated facilities\n",
        "\n",
        "air_enforcements[\"SETTLEMENT_ENTERED_DATE\"] = pd.to_datetime(air_enforcements[\"SETTLEMENT_ENTERED_DATE\"], format='%m/%d/%Y', errors='coerce') # Format the date\n",
        "air_enforcements_metric = air_enforcements.groupby([\"SETTLEMENT_ENTERED_DATE\"])[[\"STATE_EPA_FLAG\"]].agg(\"count\") # Count enforcements per day\n",
        "air_enforcements_metric = air_enforcements_metric.resample(\"Y\").sum() # Sum up enforcements per year\n",
        "air_enforcements_metric.index = air_enforcements_metric.index.strftime('%Y') # Reformat the year (2016-12-31 becomes 2016)\n",
        "air_enforcements_metric_2019 = air_enforcements_metric.loc[\"2019\"] #Filter to 2019\n",
        "air_enforcements_metric_2019 = formatter((air_enforcements_metric_2019[\"STATE_EPA_FLAG\"] / air_fac) * 1000) #Divide by regulated facilities and multiply by desired rate (per 1000)\n",
        "enforcements[\"CAA\"] = air_enforcements_metric_2019\n",
        "display(HTML(\"<h3>\"+air_enforcements_metric_2019+\" enforcements per 1000 facilities</h3>\"))"
      ],
      "execution_count": 143,
      "outputs": [
        {
          "output_type": "display_data",
          "data": {
            "text/html": [
              "<h3>14 enforcements per 1000 facilities</h3>"
            ],
            "text/plain": [
              "<IPython.core.display.HTML object>"
            ]
          },
          "metadata": {
            "tags": []
          }
        }
      ]
    },
    {
      "cell_type": "code",
      "metadata": {
        "id": "Z7ykKG7V7G4b",
        "colab_type": "code",
        "colab": {
          "base_uri": "https://localhost:8080/",
          "height": 57
        },
        "outputId": "fb9ecaa1-db01-4e21-a9f5-229788f76ecb"
      },
      "source": [
        "# Penalties each year per facility\n",
        "air_penalties_metric = air_enforcements.loc[air_enforcements[\"PENALTY_AMOUNT\"]>0]\n",
        "air_penalties_metric = air_penalties_metric.groupby([\"SETTLEMENT_ENTERED_DATE\"])[[\"PENALTY_AMOUNT\"]].agg(\"sum\") # sum penalties per day\n",
        "air_penalties_metric = air_penalties_metric.resample(\"Y\").sum() # Sum up penalties per year\n",
        "air_penalties_metric.index = air_penalties_metric.index.strftime('%Y') # Reformat the year (2016-12-31 becomes 2016)\n",
        "air_penalties_metric_2019 = air_penalties_metric.loc[\"2019\"] #Filter to 2019\n",
        "air_penalties_metric_2019 = formatter(air_penalties_metric_2019[\"PENALTY_AMOUNT\"] / air_fac) #Divide by regulated facilities\n",
        "penalties[\"CAA\"] = air_penalties_metric_2019\n",
        "display(HTML(\"<h3>$\"+air_penalties_metric_2019+\" per facility</h3>\"))"
      ],
      "execution_count": 142,
      "outputs": [
        {
          "output_type": "display_data",
          "data": {
            "text/html": [
              "<h3>$357 per facility</h3>"
            ],
            "text/plain": [
              "<IPython.core.display.HTML object>"
            ]
          },
          "metadata": {
            "tags": []
          }
        }
      ]
    },
    {
      "cell_type": "markdown",
      "metadata": {
        "colab_type": "text",
        "id": "bevtiFu2bt6M"
      },
      "source": [
        "---"
      ]
    },
    {
      "cell_type": "markdown",
      "metadata": {
        "id": "hOmeJnXgnzOC",
        "colab_type": "text"
      },
      "source": [
        "## Clean Water Act inspections in 2019"
      ]
    },
    {
      "cell_type": "code",
      "metadata": {
        "id": "gHXwXWcqnyNO",
        "colab_type": "code",
        "colab": {
          "base_uri": "https://localhost:8080/",
          "height": 484
        },
        "outputId": "5e7adb39-221c-417f-d04d-8d396bf0080d"
      },
      "source": [
        "# Find facilities with pollutant exceedences\n",
        "water_inspections = None\n",
        "try:\n",
        "    sql = 'select \"NPDES_ID\", \"REGISTRY_ID\", \"ACTUAL_END_DATE\", \"STATE_EPA_FLAG\"' + \\\n",
        "        ' from \"NPDES_INSPECTIONS\" where \"ACTUAL_END_DATE\" like \\'__/__/20__%\\''\n",
        "\n",
        "    water_inspections = get_data( sql, \"NPDES_ID\" ) \n",
        "except EmptyDataError:\n",
        "    print( \"No data found\")\n",
        "water_inspections"
      ],
      "execution_count": 58,
      "outputs": [
        {
          "output_type": "stream",
          "text": [
            "/usr/local/lib/python3.6/dist-packages/IPython/core/interactiveshell.py:2822: DtypeWarning: Columns (1) have mixed types.Specify dtype option on import or set low_memory=False.\n",
            "  if self.run_code(code, result):\n"
          ],
          "name": "stderr"
        },
        {
          "output_type": "execute_result",
          "data": {
            "text/html": [
              "<div>\n",
              "<style scoped>\n",
              "    .dataframe tbody tr th:only-of-type {\n",
              "        vertical-align: middle;\n",
              "    }\n",
              "\n",
              "    .dataframe tbody tr th {\n",
              "        vertical-align: top;\n",
              "    }\n",
              "\n",
              "    .dataframe thead th {\n",
              "        text-align: right;\n",
              "    }\n",
              "</style>\n",
              "<table border=\"1\" class=\"dataframe\">\n",
              "  <thead>\n",
              "    <tr style=\"text-align: right;\">\n",
              "      <th></th>\n",
              "      <th>REGISTRY_ID</th>\n",
              "      <th>ACTUAL_END_DATE</th>\n",
              "      <th>STATE_EPA_FLAG</th>\n",
              "    </tr>\n",
              "    <tr>\n",
              "      <th>NPDES_ID</th>\n",
              "      <th></th>\n",
              "      <th></th>\n",
              "      <th></th>\n",
              "    </tr>\n",
              "  </thead>\n",
              "  <tbody>\n",
              "    <tr>\n",
              "      <th>AK0000272</th>\n",
              "      <td>110000507693</td>\n",
              "      <td>08/21/2014</td>\n",
              "      <td>S</td>\n",
              "    </tr>\n",
              "    <tr>\n",
              "      <th>AK0000272</th>\n",
              "      <td>110000507693</td>\n",
              "      <td>09/22/2016</td>\n",
              "      <td>S</td>\n",
              "    </tr>\n",
              "    <tr>\n",
              "      <th>AK0000507</th>\n",
              "      <td>110030488620</td>\n",
              "      <td>02/22/2001</td>\n",
              "      <td>S</td>\n",
              "    </tr>\n",
              "    <tr>\n",
              "      <th>AK0000507</th>\n",
              "      <td>110030488620</td>\n",
              "      <td>12/17/2019</td>\n",
              "      <td>S</td>\n",
              "    </tr>\n",
              "    <tr>\n",
              "      <th>AK0000841</th>\n",
              "      <td>110007919547</td>\n",
              "      <td>07/20/2004</td>\n",
              "      <td>S</td>\n",
              "    </tr>\n",
              "    <tr>\n",
              "      <th>...</th>\n",
              "      <td>...</td>\n",
              "      <td>...</td>\n",
              "      <td>...</td>\n",
              "    </tr>\n",
              "    <tr>\n",
              "      <th>WYR320788</th>\n",
              "      <td>110060264173</td>\n",
              "      <td>04/17/2018</td>\n",
              "      <td>S</td>\n",
              "    </tr>\n",
              "    <tr>\n",
              "      <th>WYR320871</th>\n",
              "      <td>110070235311</td>\n",
              "      <td>03/25/2019</td>\n",
              "      <td>S</td>\n",
              "    </tr>\n",
              "    <tr>\n",
              "      <th>WYU000017</th>\n",
              "      <td>110070081440</td>\n",
              "      <td>05/22/2017</td>\n",
              "      <td>E</td>\n",
              "    </tr>\n",
              "    <tr>\n",
              "      <th>WYU000113</th>\n",
              "      <td>110027252979</td>\n",
              "      <td>09/20/2006</td>\n",
              "      <td>E</td>\n",
              "    </tr>\n",
              "    <tr>\n",
              "      <th>WYU000116</th>\n",
              "      <td>110054131284</td>\n",
              "      <td>08/28/2012</td>\n",
              "      <td>E</td>\n",
              "    </tr>\n",
              "  </tbody>\n",
              "</table>\n",
              "<p>854004 rows × 3 columns</p>\n",
              "</div>"
            ],
            "text/plain": [
              "            REGISTRY_ID ACTUAL_END_DATE STATE_EPA_FLAG\n",
              "NPDES_ID                                              \n",
              "AK0000272  110000507693      08/21/2014              S\n",
              "AK0000272  110000507693      09/22/2016              S\n",
              "AK0000507  110030488620      02/22/2001              S\n",
              "AK0000507  110030488620      12/17/2019              S\n",
              "AK0000841  110007919547      07/20/2004              S\n",
              "...                 ...             ...            ...\n",
              "WYR320788  110060264173      04/17/2018              S\n",
              "WYR320871  110070235311      03/25/2019              S\n",
              "WYU000017  110070081440      05/22/2017              E\n",
              "WYU000113  110027252979      09/20/2006              E\n",
              "WYU000116  110054131284      08/28/2012              E\n",
              "\n",
              "[854004 rows x 3 columns]"
            ]
          },
          "metadata": {
            "tags": []
          },
          "execution_count": 58
        }
      ]
    },
    {
      "cell_type": "code",
      "metadata": {
        "id": "YoBlWh8V8BD-",
        "colab_type": "code",
        "colab": {
          "base_uri": "https://localhost:8080/",
          "height": 57
        },
        "outputId": "67b81f2d-34e1-4df1-8797-be50d9c95a6a"
      },
      "source": [
        "# Number of actions each year per 1000 regulated facilities\n",
        "\n",
        "water_inspections[\"ACTUAL_END_DATE\"] = pd.to_datetime(water_inspections[\"ACTUAL_END_DATE\"], format='%m/%d/%Y', errors='coerce') # Format the date\n",
        "water_inspections_metric = water_inspections.groupby([\"ACTUAL_END_DATE\"])[[\"STATE_EPA_FLAG\"]].agg(\"count\") # Count enforcements per day\n",
        "water_inspections_metric = water_inspections_metric.resample(\"Y\").sum() # Sum up enforcements per year\n",
        "water_inspections_metric.index = water_inspections_metric.index.strftime('%Y') # Reformat the year (2016-12-31 becomes 2016)\n",
        "water_inspections_metric_2019 = water_inspections_metric.loc[\"2019\"] #Filter to 2019\n",
        "water_inspections_metric_2019 = formatter((water_inspections_metric_2019[\"STATE_EPA_FLAG\"] / water_fac) * 1000) #Divide by regulated facilities and multiply by desired rate (per 1000)\n",
        "inspections[\"CWA\"] = water_inspections_metric_2019\n",
        "display(HTML(\"<h3>\"+water_inspections_metric_2019+\" inspections per 1000 facilities</h3>\"))"
      ],
      "execution_count": 141,
      "outputs": [
        {
          "output_type": "display_data",
          "data": {
            "text/html": [
              "<h3>148 inspections per 1000 facilities</h3>"
            ],
            "text/plain": [
              "<IPython.core.display.HTML object>"
            ]
          },
          "metadata": {
            "tags": []
          }
        }
      ]
    },
    {
      "cell_type": "markdown",
      "metadata": {
        "colab_type": "text",
        "id": "C6ntT917bt6N"
      },
      "source": [
        "## Effluent violations of the Clean Water Act in 2019\n",
        "*NOTE*: Not other kind of violations (schedule, permit, single event)"
      ]
    },
    {
      "cell_type": "code",
      "metadata": {
        "colab_type": "code",
        "id": "FmsI5gJAbt6P",
        "colab": {
          "base_uri": "https://localhost:8080/",
          "height": 450
        },
        "outputId": "fe6c2405-0856-43b0-f8a7-946f08451a1e"
      },
      "source": [
        "# Find facilities with pollutant exceedences\n",
        "water_violations = None\n",
        "try:\n",
        "    sql = 'select \"NPDES_ID\", \"EXCEEDENCE_PCT\", \"MONITORING_PERIOD_END_DATE\", \"PARAMETER_DESC\"' + \\\n",
        "        ' from \"NPDES_EFF_VIOLATIONS\" where \"EXCEEDENCE_PCT\" > 0 and \"MONITORING_PERIOD_END_DATE\" like \\'__/__/20__%\\''\n",
        "\n",
        "    water_violations = get_data( sql, \"NPDES_ID\" ) \n",
        "except EmptyDataError:\n",
        "    print( \"No data found\")\n",
        "water_violations"
      ],
      "execution_count": 61,
      "outputs": [
        {
          "output_type": "execute_result",
          "data": {
            "text/html": [
              "<div>\n",
              "<style scoped>\n",
              "    .dataframe tbody tr th:only-of-type {\n",
              "        vertical-align: middle;\n",
              "    }\n",
              "\n",
              "    .dataframe tbody tr th {\n",
              "        vertical-align: top;\n",
              "    }\n",
              "\n",
              "    .dataframe thead th {\n",
              "        text-align: right;\n",
              "    }\n",
              "</style>\n",
              "<table border=\"1\" class=\"dataframe\">\n",
              "  <thead>\n",
              "    <tr style=\"text-align: right;\">\n",
              "      <th></th>\n",
              "      <th>EXCEEDENCE_PCT</th>\n",
              "      <th>MONITORING_PERIOD_END_DATE</th>\n",
              "      <th>PARAMETER_DESC</th>\n",
              "    </tr>\n",
              "    <tr>\n",
              "      <th>NPDES_ID</th>\n",
              "      <th></th>\n",
              "      <th></th>\n",
              "      <th></th>\n",
              "    </tr>\n",
              "  </thead>\n",
              "  <tbody>\n",
              "    <tr>\n",
              "      <th>OH0045047</th>\n",
              "      <td>22</td>\n",
              "      <td>06/30/2003</td>\n",
              "      <td>Solids, total suspended</td>\n",
              "    </tr>\n",
              "    <tr>\n",
              "      <th>IN0041157</th>\n",
              "      <td>54</td>\n",
              "      <td>12/31/2003</td>\n",
              "      <td>Nitrogen, ammonia total [as N]</td>\n",
              "    </tr>\n",
              "    <tr>\n",
              "      <th>FL0037711</th>\n",
              "      <td>99999</td>\n",
              "      <td>09/30/2003</td>\n",
              "      <td>Cadmium, total recoverable</td>\n",
              "    </tr>\n",
              "    <tr>\n",
              "      <th>TX0022578</th>\n",
              "      <td>57</td>\n",
              "      <td>11/30/2004</td>\n",
              "      <td>Solids, total suspended</td>\n",
              "    </tr>\n",
              "    <tr>\n",
              "      <th>FL0041530</th>\n",
              "      <td>99999</td>\n",
              "      <td>02/29/2004</td>\n",
              "      <td>LC50 Statre 96Hr Acucyprinella Leedsi</td>\n",
              "    </tr>\n",
              "    <tr>\n",
              "      <th>...</th>\n",
              "      <td>...</td>\n",
              "      <td>...</td>\n",
              "      <td>...</td>\n",
              "    </tr>\n",
              "    <tr>\n",
              "      <th>RI0100072</th>\n",
              "      <td>52</td>\n",
              "      <td>09/30/2000</td>\n",
              "      <td>Flow, in conduit or thru treatment plant</td>\n",
              "    </tr>\n",
              "    <tr>\n",
              "      <th>MA0030066</th>\n",
              "      <td>300</td>\n",
              "      <td>03/31/2004</td>\n",
              "      <td>Lead, total [as Pb]</td>\n",
              "    </tr>\n",
              "    <tr>\n",
              "      <th>TN0020737</th>\n",
              "      <td>17</td>\n",
              "      <td>11/30/2004</td>\n",
              "      <td>Solids, total suspended</td>\n",
              "    </tr>\n",
              "    <tr>\n",
              "      <th>ILG840119</th>\n",
              "      <td>16</td>\n",
              "      <td>12/31/2017</td>\n",
              "      <td>Solids, total suspended</td>\n",
              "    </tr>\n",
              "    <tr>\n",
              "      <th>MO0058203</th>\n",
              "      <td>693</td>\n",
              "      <td>11/30/2018</td>\n",
              "      <td>Nitrogen, ammonia total [as N]</td>\n",
              "    </tr>\n",
              "  </tbody>\n",
              "</table>\n",
              "<p>2272785 rows × 3 columns</p>\n",
              "</div>"
            ],
            "text/plain": [
              "           EXCEEDENCE_PCT  ...                            PARAMETER_DESC\n",
              "NPDES_ID                   ...                                          \n",
              "OH0045047              22  ...                   Solids, total suspended\n",
              "IN0041157              54  ...            Nitrogen, ammonia total [as N]\n",
              "FL0037711           99999  ...                Cadmium, total recoverable\n",
              "TX0022578              57  ...                   Solids, total suspended\n",
              "FL0041530           99999  ...     LC50 Statre 96Hr Acucyprinella Leedsi\n",
              "...                   ...  ...                                       ...\n",
              "RI0100072              52  ...  Flow, in conduit or thru treatment plant\n",
              "MA0030066             300  ...                       Lead, total [as Pb]\n",
              "TN0020737              17  ...                   Solids, total suspended\n",
              "ILG840119              16  ...                   Solids, total suspended\n",
              "MO0058203             693  ...            Nitrogen, ammonia total [as N]\n",
              "\n",
              "[2272785 rows x 3 columns]"
            ]
          },
          "metadata": {
            "tags": []
          },
          "execution_count": 61
        }
      ]
    },
    {
      "cell_type": "code",
      "metadata": {
        "id": "EhmXcwIQ8kXA",
        "colab_type": "code",
        "colab": {
          "base_uri": "https://localhost:8080/",
          "height": 57
        },
        "outputId": "13929dc6-733a-4b0a-993f-8bf44a7b242a"
      },
      "source": [
        "# Number of violations each year per 1000 regulated facilities\n",
        "\n",
        "water_violations[\"MONITORING_PERIOD_END_DATE\"] = pd.to_datetime(water_violations[\"MONITORING_PERIOD_END_DATE\"], format='%m/%d/%Y', errors='coerce') # Format the date\n",
        "water_violations_metric = water_violations.groupby([\"MONITORING_PERIOD_END_DATE\"])[[\"PARAMETER_DESC\"]].agg(\"count\") # Count per day\n",
        "water_violations_metric = water_violations_metric.resample(\"Y\").sum() # Sum up per year\n",
        "water_violations_metric.index = water_violations_metric.index.strftime('%Y') # Reformat the year (2016-12-31 becomes 2016)\n",
        "water_violations_metric_2019 = water_violations_metric.loc[\"2019\"] #Filter to 2019\n",
        "water_violations_metric_2019 = formatter((water_violations_metric_2019[\"PARAMETER_DESC\"] / water_fac) * 1000) #Divide by regulated facilities and multiply by desired rate (per 1000)\n",
        "violations[\"CWA\"] = water_violations_metric_2019\n",
        "display(HTML(\"<h3>\"+water_violations_metric_2019+\" violations per 1000 facilities</h3>\"))"
      ],
      "execution_count": 140,
      "outputs": [
        {
          "output_type": "display_data",
          "data": {
            "text/html": [
              "<h3>410 violations per 1000 facilities</h3>"
            ],
            "text/plain": [
              "<IPython.core.display.HTML object>"
            ]
          },
          "metadata": {
            "tags": []
          }
        }
      ]
    },
    {
      "cell_type": "markdown",
      "metadata": {
        "id": "8rMriPuXpkA_",
        "colab_type": "text"
      },
      "source": [
        "## Enforcement Actions and Penalties under the Clean Water Act in 2019"
      ]
    },
    {
      "cell_type": "code",
      "metadata": {
        "id": "g2fIBDtppjeI",
        "colab_type": "code",
        "colab": {
          "base_uri": "https://localhost:8080/",
          "height": 450
        },
        "outputId": "a43a7db3-8160-4657-8bf6-12b4fe57c58e"
      },
      "source": [
        "# Find facilities with pollutant exceedences\n",
        "water_enforcements = None\n",
        "try:\n",
        "    sql = 'select \"NPDES_ID\", \"AGENCY\", \"ENF_TYPE_DESC\", \"SETTLEMENT_ENTERED_DATE\", \"FED_PENALTY_ASSESSED_AMT\", \"STATE_LOCAL_PENALTY_AMT\"' + \\\n",
        "        ' from \"NPDES_FORMAL_ENFORCEMENT_ACTIONS\" where \"SETTLEMENT_ENTERED_DATE\" like \\'__/__/20__%\\''\n",
        "\n",
        "    water_enforcements = get_data( sql, \"NPDES_ID\" ) \n",
        "except EmptyDataError:\n",
        "    print( \"No data found\")\n",
        "water_enforcements"
      ],
      "execution_count": 71,
      "outputs": [
        {
          "output_type": "execute_result",
          "data": {
            "text/html": [
              "<div>\n",
              "<style scoped>\n",
              "    .dataframe tbody tr th:only-of-type {\n",
              "        vertical-align: middle;\n",
              "    }\n",
              "\n",
              "    .dataframe tbody tr th {\n",
              "        vertical-align: top;\n",
              "    }\n",
              "\n",
              "    .dataframe thead th {\n",
              "        text-align: right;\n",
              "    }\n",
              "</style>\n",
              "<table border=\"1\" class=\"dataframe\">\n",
              "  <thead>\n",
              "    <tr style=\"text-align: right;\">\n",
              "      <th></th>\n",
              "      <th>AGENCY</th>\n",
              "      <th>ENF_TYPE_DESC</th>\n",
              "      <th>SETTLEMENT_ENTERED_DATE</th>\n",
              "      <th>FED_PENALTY_ASSESSED_AMT</th>\n",
              "      <th>STATE_LOCAL_PENALTY_AMT</th>\n",
              "    </tr>\n",
              "    <tr>\n",
              "      <th>NPDES_ID</th>\n",
              "      <th></th>\n",
              "      <th></th>\n",
              "      <th></th>\n",
              "      <th></th>\n",
              "      <th></th>\n",
              "    </tr>\n",
              "  </thead>\n",
              "  <tbody>\n",
              "    <tr>\n",
              "      <th>AK0021547</th>\n",
              "      <td>EPA</td>\n",
              "      <td>CWA 309G2B AO For Class II Penalties</td>\n",
              "      <td>04/20/2006</td>\n",
              "      <td>NaN</td>\n",
              "      <td>NaN</td>\n",
              "    </tr>\n",
              "    <tr>\n",
              "      <th>AKR10BF13</th>\n",
              "      <td>EPA</td>\n",
              "      <td>CWA 309G2E AO For Class I Penalties - Storm Wa...</td>\n",
              "      <td>08/24/2005</td>\n",
              "      <td>4250.0</td>\n",
              "      <td>NaN</td>\n",
              "    </tr>\n",
              "    <tr>\n",
              "      <th>AKR10BF44</th>\n",
              "      <td>EPA</td>\n",
              "      <td>Civil Judicial Action</td>\n",
              "      <td>08/04/2010</td>\n",
              "      <td>440000.0</td>\n",
              "      <td>NaN</td>\n",
              "    </tr>\n",
              "    <tr>\n",
              "      <th>AKR10BT00</th>\n",
              "      <td>EPA</td>\n",
              "      <td>CWA 309G2E AO For Class I Penalties - Storm Wa...</td>\n",
              "      <td>11/05/2007</td>\n",
              "      <td>7600.0</td>\n",
              "      <td>NaN</td>\n",
              "    </tr>\n",
              "    <tr>\n",
              "      <th>AKR10FE94</th>\n",
              "      <td>State</td>\n",
              "      <td>State CWA Penalty AO</td>\n",
              "      <td>03/02/2016</td>\n",
              "      <td>NaN</td>\n",
              "      <td>1750.0</td>\n",
              "    </tr>\n",
              "    <tr>\n",
              "      <th>...</th>\n",
              "      <td>...</td>\n",
              "      <td>...</td>\n",
              "      <td>...</td>\n",
              "      <td>...</td>\n",
              "      <td>...</td>\n",
              "    </tr>\n",
              "    <tr>\n",
              "      <th>WVR109230</th>\n",
              "      <td>State</td>\n",
              "      <td>State CWA Non Penalty AO</td>\n",
              "      <td>03/16/2020</td>\n",
              "      <td>NaN</td>\n",
              "      <td>NaN</td>\n",
              "    </tr>\n",
              "    <tr>\n",
              "      <th>WVR110156</th>\n",
              "      <td>State</td>\n",
              "      <td>State CWA Non Penalty AO</td>\n",
              "      <td>03/16/2020</td>\n",
              "      <td>NaN</td>\n",
              "      <td>NaN</td>\n",
              "    </tr>\n",
              "    <tr>\n",
              "      <th>WVR110197</th>\n",
              "      <td>State</td>\n",
              "      <td>State CWA Non Penalty AO</td>\n",
              "      <td>03/16/2020</td>\n",
              "      <td>NaN</td>\n",
              "      <td>NaN</td>\n",
              "    </tr>\n",
              "    <tr>\n",
              "      <th>WVRNE0045</th>\n",
              "      <td>EPA</td>\n",
              "      <td>EPCRA 325 Action For Penalty</td>\n",
              "      <td>04/21/2017</td>\n",
              "      <td>NaN</td>\n",
              "      <td>NaN</td>\n",
              "    </tr>\n",
              "    <tr>\n",
              "      <th>WVU008272</th>\n",
              "      <td>State</td>\n",
              "      <td>State CWA Non Penalty AO</td>\n",
              "      <td>04/08/2015</td>\n",
              "      <td>NaN</td>\n",
              "      <td>NaN</td>\n",
              "    </tr>\n",
              "  </tbody>\n",
              "</table>\n",
              "<p>60443 rows × 5 columns</p>\n",
              "</div>"
            ],
            "text/plain": [
              "          AGENCY  ... STATE_LOCAL_PENALTY_AMT\n",
              "NPDES_ID          ...                        \n",
              "AK0021547    EPA  ...                     NaN\n",
              "AKR10BF13    EPA  ...                     NaN\n",
              "AKR10BF44    EPA  ...                     NaN\n",
              "AKR10BT00    EPA  ...                     NaN\n",
              "AKR10FE94  State  ...                  1750.0\n",
              "...          ...  ...                     ...\n",
              "WVR109230  State  ...                     NaN\n",
              "WVR110156  State  ...                     NaN\n",
              "WVR110197  State  ...                     NaN\n",
              "WVRNE0045    EPA  ...                     NaN\n",
              "WVU008272  State  ...                     NaN\n",
              "\n",
              "[60443 rows x 5 columns]"
            ]
          },
          "metadata": {
            "tags": []
          },
          "execution_count": 71
        }
      ]
    },
    {
      "cell_type": "code",
      "metadata": {
        "id": "v7OKOgCz85l2",
        "colab_type": "code",
        "colab": {
          "base_uri": "https://localhost:8080/",
          "height": 57
        },
        "outputId": "b0a994c4-9bcf-45cd-8c4b-6efadc14cd2d"
      },
      "source": [
        "# Number of enforcement actions each year per 1000 regulated facilities\n",
        "\n",
        "water_enforcements[\"SETTLEMENT_ENTERED_DATE\"] = pd.to_datetime(water_enforcements[\"SETTLEMENT_ENTERED_DATE\"], format='%m/%d/%Y', errors='coerce') # Format the date\n",
        "water_enforcements_metric = water_enforcements.groupby([\"SETTLEMENT_ENTERED_DATE\"])[[\"AGENCY\"]].agg(\"count\") # Count per day\n",
        "water_enforcements_metric = water_enforcements_metric.resample(\"Y\").sum() # Sum up per year\n",
        "water_enforcements_metric.index = water_enforcements_metric.index.strftime('%Y') # Reformat the year (2016-12-31 becomes 2016)\n",
        "water_enforcements_metric_2019 = water_enforcements_metric.loc[\"2019\"] #Filter to 2019\n",
        "water_enforcements_metric_2019 = formatter((water_enforcements_metric_2019[\"AGENCY\"] / water_fac) * 1000) #Divide by regulated facilities and multiply by desired rate (per 1000)\n",
        "enforcements[\"CWA\"] = water_enforcements_metric_2019\n",
        "display(HTML(\"<h3>\"+water_enforcements_metric_2019+\" enforcement actions per 1000 facilities</h3>\"))"
      ],
      "execution_count": 158,
      "outputs": [
        {
          "output_type": "display_data",
          "data": {
            "text/html": [
              "<h3>11 enforcement actions per 1000 facilities</h3>"
            ],
            "text/plain": [
              "<IPython.core.display.HTML object>"
            ]
          },
          "metadata": {
            "tags": []
          }
        }
      ]
    },
    {
      "cell_type": "code",
      "metadata": {
        "id": "DCFkWo0N9XHl",
        "colab_type": "code",
        "colab": {
          "base_uri": "https://localhost:8080/",
          "height": 57
        },
        "outputId": "79684ba2-c1e4-425d-a1f2-c51c08af2976"
      },
      "source": [
        "# Penalties each year per facility\n",
        "water_penalties_metric = water_enforcements.loc[water_enforcements[\"FED_PENALTY_ASSESSED_AMT\"]>0]\n",
        "water_penalties_metric = water_penalties_metric.groupby([\"SETTLEMENT_ENTERED_DATE\"])[[\"FED_PENALTY_ASSESSED_AMT\"]].agg(\"sum\") # sum penalties per day\n",
        "water_penalties_metric = water_penalties_metric.resample(\"Y\").sum() # Sum up penalties per year\n",
        "water_penalties_metric.index = water_penalties_metric.index.strftime('%Y') # Reformat the year (2016-12-31 becomes 2016)\n",
        "water_penalties_metric_2019 = water_penalties_metric.loc[\"2019\"] #Filter to 2019\n",
        "water_penalties_metric_2019 = formatter(water_penalties_metric_2019[\"FED_PENALTY_ASSESSED_AMT\"] / water_fac) #Divide by regulated facilities\n",
        "penalties[\"CWA\"] = water_penalties_metric_2019\n",
        "display(HTML(\"<h3>$\"+water_penalties_metric_2019+\" per facility</h3>\"))"
      ],
      "execution_count": 139,
      "outputs": [
        {
          "output_type": "display_data",
          "data": {
            "text/html": [
              "<h3>$16 per facility</h3>"
            ],
            "text/plain": [
              "<IPython.core.display.HTML object>"
            ]
          },
          "metadata": {
            "tags": []
          }
        }
      ]
    },
    {
      "cell_type": "markdown",
      "metadata": {
        "id": "kDFULgy2qPSD",
        "colab_type": "text"
      },
      "source": [
        "## RCRA inspections in 2019"
      ]
    },
    {
      "cell_type": "code",
      "metadata": {
        "id": "0Kq8C8oFqRKe",
        "colab_type": "code",
        "colab": {
          "base_uri": "https://localhost:8080/",
          "height": 450
        },
        "outputId": "9ef88425-7b4d-4a11-f7a0-901513703934"
      },
      "source": [
        "# Find facilities with pollutant exceedences\n",
        "waste_inspections = None\n",
        "try:\n",
        "    sql = 'select * from \"RCRA_EVALUATIONS\" where \"EVALUATION_START_DATE\" like \\'__/__/20__%\\''\n",
        "\n",
        "    waste_inspections = get_data( sql, \"ID_NUMBER\" ) \n",
        "except EmptyDataError:\n",
        "    print( \"No data found\")\n",
        "waste_inspections"
      ],
      "execution_count": 77,
      "outputs": [
        {
          "output_type": "execute_result",
          "data": {
            "text/html": [
              "<div>\n",
              "<style scoped>\n",
              "    .dataframe tbody tr th:only-of-type {\n",
              "        vertical-align: middle;\n",
              "    }\n",
              "\n",
              "    .dataframe tbody tr th {\n",
              "        vertical-align: top;\n",
              "    }\n",
              "\n",
              "    .dataframe thead th {\n",
              "        text-align: right;\n",
              "    }\n",
              "</style>\n",
              "<table border=\"1\" class=\"dataframe\">\n",
              "  <thead>\n",
              "    <tr style=\"text-align: right;\">\n",
              "      <th></th>\n",
              "      <th>ACTIVITY_LOCATION</th>\n",
              "      <th>EVALUATION_IDENTIFIER</th>\n",
              "      <th>EVALUATION_TYPE</th>\n",
              "      <th>EVALUATION_DESC</th>\n",
              "      <th>EVALUATION_AGENCY</th>\n",
              "      <th>EVALUATION_START_DATE</th>\n",
              "      <th>FOUND_VIOLATION</th>\n",
              "    </tr>\n",
              "    <tr>\n",
              "      <th>ID_NUMBER</th>\n",
              "      <th></th>\n",
              "      <th></th>\n",
              "      <th></th>\n",
              "      <th></th>\n",
              "      <th></th>\n",
              "      <th></th>\n",
              "      <th></th>\n",
              "    </tr>\n",
              "  </thead>\n",
              "  <tbody>\n",
              "    <tr>\n",
              "      <th>MN0000232793</th>\n",
              "      <td>MN</td>\n",
              "      <td>001</td>\n",
              "      <td>CEI</td>\n",
              "      <td>COMPLIANCE EVALUATION INSPECTION ON-SITE</td>\n",
              "      <td>S</td>\n",
              "      <td>10/15/2003</td>\n",
              "      <td>Y</td>\n",
              "    </tr>\n",
              "    <tr>\n",
              "      <th>MN0000239541</th>\n",
              "      <td>MN</td>\n",
              "      <td>001</td>\n",
              "      <td>CEI</td>\n",
              "      <td>COMPLIANCE EVALUATION INSPECTION ON-SITE</td>\n",
              "      <td>S</td>\n",
              "      <td>06/29/2005</td>\n",
              "      <td>N</td>\n",
              "    </tr>\n",
              "    <tr>\n",
              "      <th>MN0000239814</th>\n",
              "      <td>MN</td>\n",
              "      <td>001</td>\n",
              "      <td>CEI</td>\n",
              "      <td>COMPLIANCE EVALUATION INSPECTION ON-SITE</td>\n",
              "      <td>S</td>\n",
              "      <td>04/04/2006</td>\n",
              "      <td>N</td>\n",
              "    </tr>\n",
              "    <tr>\n",
              "      <th>MN0000242891</th>\n",
              "      <td>MN</td>\n",
              "      <td>001</td>\n",
              "      <td>CEI</td>\n",
              "      <td>COMPLIANCE EVALUATION INSPECTION ON-SITE</td>\n",
              "      <td>S</td>\n",
              "      <td>12/30/2003</td>\n",
              "      <td>N</td>\n",
              "    </tr>\n",
              "    <tr>\n",
              "      <th>MN0000243048</th>\n",
              "      <td>MN</td>\n",
              "      <td>001</td>\n",
              "      <td>CEI</td>\n",
              "      <td>COMPLIANCE EVALUATION INSPECTION ON-SITE</td>\n",
              "      <td>S</td>\n",
              "      <td>11/01/2004</td>\n",
              "      <td>Y</td>\n",
              "    </tr>\n",
              "    <tr>\n",
              "      <th>...</th>\n",
              "      <td>...</td>\n",
              "      <td>...</td>\n",
              "      <td>...</td>\n",
              "      <td>...</td>\n",
              "      <td>...</td>\n",
              "      <td>...</td>\n",
              "      <td>...</td>\n",
              "    </tr>\n",
              "    <tr>\n",
              "      <th>GAR000057604</th>\n",
              "      <td>GA</td>\n",
              "      <td>001</td>\n",
              "      <td>CEI</td>\n",
              "      <td>COMPLIANCE EVALUATION INSPECTION ON-SITE</td>\n",
              "      <td>S</td>\n",
              "      <td>01/13/2020</td>\n",
              "      <td>N</td>\n",
              "    </tr>\n",
              "    <tr>\n",
              "      <th>RID063917140</th>\n",
              "      <td>RI</td>\n",
              "      <td>001</td>\n",
              "      <td>FCI</td>\n",
              "      <td>FOCUSED COMPLIANCE INSPECTION</td>\n",
              "      <td>S</td>\n",
              "      <td>11/04/2019</td>\n",
              "      <td>N</td>\n",
              "    </tr>\n",
              "    <tr>\n",
              "      <th>NED007286198</th>\n",
              "      <td>NE</td>\n",
              "      <td>001</td>\n",
              "      <td>FRR</td>\n",
              "      <td>FINANCIAL RECORD REVIEW</td>\n",
              "      <td>S</td>\n",
              "      <td>01/17/2020</td>\n",
              "      <td>N</td>\n",
              "    </tr>\n",
              "    <tr>\n",
              "      <th>PRD987370830</th>\n",
              "      <td>PR</td>\n",
              "      <td>001</td>\n",
              "      <td>SNY</td>\n",
              "      <td>SIGNIFICANT NON-COMPLIER</td>\n",
              "      <td>S</td>\n",
              "      <td>10/18/2004</td>\n",
              "      <td>N</td>\n",
              "    </tr>\n",
              "    <tr>\n",
              "      <th>PAD002347102</th>\n",
              "      <td>PA</td>\n",
              "      <td>111</td>\n",
              "      <td>NRR</td>\n",
              "      <td>NON-FINANCIAL RECORD REVIEW</td>\n",
              "      <td>S</td>\n",
              "      <td>02/14/2019</td>\n",
              "      <td>N</td>\n",
              "    </tr>\n",
              "  </tbody>\n",
              "</table>\n",
              "<p>614972 rows × 7 columns</p>\n",
              "</div>"
            ],
            "text/plain": [
              "             ACTIVITY_LOCATION  ... FOUND_VIOLATION\n",
              "ID_NUMBER                       ...                \n",
              "MN0000232793                MN  ...             Y  \n",
              "MN0000239541                MN  ...             N  \n",
              "MN0000239814                MN  ...             N  \n",
              "MN0000242891                MN  ...             N  \n",
              "MN0000243048                MN  ...             Y  \n",
              "...                        ...  ...             ...\n",
              "GAR000057604                GA  ...             N  \n",
              "RID063917140                RI  ...             N  \n",
              "NED007286198                NE  ...             N  \n",
              "PRD987370830                PR  ...             N  \n",
              "PAD002347102                PA  ...             N  \n",
              "\n",
              "[614972 rows x 7 columns]"
            ]
          },
          "metadata": {
            "tags": []
          },
          "execution_count": 77
        }
      ]
    },
    {
      "cell_type": "code",
      "metadata": {
        "id": "HasmoprP9o0Z",
        "colab_type": "code",
        "colab": {
          "base_uri": "https://localhost:8080/",
          "height": 57
        },
        "outputId": "9cdee6f2-6ec1-4f0e-dbec-654355b38205"
      },
      "source": [
        "# Number of inspections each year per 1000 regulated facilities\n",
        "waste_inspections[\"EVALUATION_START_DATE\"] = pd.to_datetime(waste_inspections[\"EVALUATION_START_DATE\"], format='%m/%d/%Y', errors='coerce') # Format the date\n",
        "waste_inspections_metric = waste_inspections.groupby([\"EVALUATION_START_DATE\"])[[\"EVALUATION_AGENCY\"]].agg(\"count\") # Count per day\n",
        "waste_inspections_metric = waste_inspections_metric.resample(\"Y\").sum() # Sum up per year\n",
        "waste_inspections_metric.index = waste_inspections_metric.index.strftime('%Y') # Reformat the year (2016-12-31 becomes 2016)\n",
        "waste_inspections_metric_2019 = waste_inspections_metric.loc[\"2019\"] #Filter to 2019\n",
        "waste_inspections_metric_2019 = formatter((waste_inspections_metric_2019[\"EVALUATION_AGENCY\"] / waste_fac) * 1000) #Divide by regulated facilities and multiply by desired rate (per 1000)\n",
        "inspections[\"RCRA\"] = waste_inspections_metric_2019\n",
        "display(HTML(\"<h3>\"+waste_inspections_metric_2019+\" inspections per 1000 facilities</h3>\"))"
      ],
      "execution_count": 138,
      "outputs": [
        {
          "output_type": "display_data",
          "data": {
            "text/html": [
              "<h3>38 inspections per 1000 facilities</h3>"
            ],
            "text/plain": [
              "<IPython.core.display.HTML object>"
            ]
          },
          "metadata": {
            "tags": []
          }
        }
      ]
    },
    {
      "cell_type": "markdown",
      "metadata": {
        "id": "3ycMCo9WqRT_",
        "colab_type": "text"
      },
      "source": [
        "## Violations of RCRA in 2019"
      ]
    },
    {
      "cell_type": "code",
      "metadata": {
        "id": "Jj-LlSbnqS3m",
        "colab_type": "code",
        "colab": {
          "base_uri": "https://localhost:8080/",
          "height": 450
        },
        "outputId": "d4d885fa-31b5-4f75-a08d-57c91e4db47a"
      },
      "source": [
        "# Find facilities with pollutant exceedences\n",
        "waste_violations = None\n",
        "try:\n",
        "    sql = 'select * from \"RCRA_VIOLATIONS\" where \"DATE_VIOLATION_DETERMINED\" like \\'__/__/20__%\\''\n",
        "\n",
        "    waste_violations = get_data( sql, \"ID_NUMBER\" ) \n",
        "except EmptyDataError:\n",
        "    print( \"No data found\")\n",
        "waste_violations"
      ],
      "execution_count": 80,
      "outputs": [
        {
          "output_type": "execute_result",
          "data": {
            "text/html": [
              "<div>\n",
              "<style scoped>\n",
              "    .dataframe tbody tr th:only-of-type {\n",
              "        vertical-align: middle;\n",
              "    }\n",
              "\n",
              "    .dataframe tbody tr th {\n",
              "        vertical-align: top;\n",
              "    }\n",
              "\n",
              "    .dataframe thead th {\n",
              "        text-align: right;\n",
              "    }\n",
              "</style>\n",
              "<table border=\"1\" class=\"dataframe\">\n",
              "  <thead>\n",
              "    <tr style=\"text-align: right;\">\n",
              "      <th></th>\n",
              "      <th>ACTIVITY_LOCATION</th>\n",
              "      <th>VIOLATION_TYPE</th>\n",
              "      <th>VIOLATION_TYPE_DESC</th>\n",
              "      <th>VIOL_DETERMINED_BY_AGENCY</th>\n",
              "      <th>DATE_VIOLATION_DETERMINED</th>\n",
              "      <th>ACTUAL_RTC_DATE</th>\n",
              "      <th>SCHEDULED_COMPLIANCE_DATE</th>\n",
              "    </tr>\n",
              "    <tr>\n",
              "      <th>ID_NUMBER</th>\n",
              "      <th></th>\n",
              "      <th></th>\n",
              "      <th></th>\n",
              "      <th></th>\n",
              "      <th></th>\n",
              "      <th></th>\n",
              "      <th></th>\n",
              "    </tr>\n",
              "  </thead>\n",
              "  <tbody>\n",
              "    <tr>\n",
              "      <th>KSD031422306</th>\n",
              "      <td>KS</td>\n",
              "      <td>262.A</td>\n",
              "      <td>Standards Applicable to Generators of HW: General</td>\n",
              "      <td>S</td>\n",
              "      <td>04/18/2000</td>\n",
              "      <td>01/30/2001</td>\n",
              "      <td>12/01/2000</td>\n",
              "    </tr>\n",
              "    <tr>\n",
              "      <th>MOP000002105</th>\n",
              "      <td>MO</td>\n",
              "      <td>262.C</td>\n",
              "      <td>Standards Applicable to Generators of HW: Pre-...</td>\n",
              "      <td>S</td>\n",
              "      <td>10/27/2015</td>\n",
              "      <td>10/27/2015</td>\n",
              "      <td>NaN</td>\n",
              "    </tr>\n",
              "    <tr>\n",
              "      <th>MOR000553040</th>\n",
              "      <td>MO</td>\n",
              "      <td>273.B</td>\n",
              "      <td>Standards for Universal Waste Management: Stan...</td>\n",
              "      <td>S</td>\n",
              "      <td>12/22/2015</td>\n",
              "      <td>02/11/2016</td>\n",
              "      <td>NaN</td>\n",
              "    </tr>\n",
              "    <tr>\n",
              "      <th>ALD000826958</th>\n",
              "      <td>AL</td>\n",
              "      <td>262.C</td>\n",
              "      <td>Standards Applicable to Generators of HW: Pre-...</td>\n",
              "      <td>S</td>\n",
              "      <td>09/19/2000</td>\n",
              "      <td>12/11/2000</td>\n",
              "      <td>NaN</td>\n",
              "    </tr>\n",
              "    <tr>\n",
              "      <th>MOR000553693</th>\n",
              "      <td>MO</td>\n",
              "      <td>279.C</td>\n",
              "      <td>Standards for Used Oil: Generators</td>\n",
              "      <td>S</td>\n",
              "      <td>11/02/2015</td>\n",
              "      <td>11/02/2015</td>\n",
              "      <td>NaN</td>\n",
              "    </tr>\n",
              "    <tr>\n",
              "      <th>...</th>\n",
              "      <td>...</td>\n",
              "      <td>...</td>\n",
              "      <td>...</td>\n",
              "      <td>...</td>\n",
              "      <td>...</td>\n",
              "      <td>...</td>\n",
              "      <td>...</td>\n",
              "    </tr>\n",
              "    <tr>\n",
              "      <th>WAH000026408</th>\n",
              "      <td>WA</td>\n",
              "      <td>264.B</td>\n",
              "      <td>Standards for Owners and Operators of HW TSDs:...</td>\n",
              "      <td>S</td>\n",
              "      <td>05/06/2015</td>\n",
              "      <td>02/11/2016</td>\n",
              "      <td>12/31/2015</td>\n",
              "    </tr>\n",
              "    <tr>\n",
              "      <th>FLR000119792</th>\n",
              "      <td>FL</td>\n",
              "      <td>279.F</td>\n",
              "      <td>Standards for Used Oi:l Processors and Re-Refi...</td>\n",
              "      <td>S</td>\n",
              "      <td>08/19/2015</td>\n",
              "      <td>10/29/2015</td>\n",
              "      <td>NaN</td>\n",
              "    </tr>\n",
              "    <tr>\n",
              "      <th>AKR000205872</th>\n",
              "      <td>AK</td>\n",
              "      <td>279.C</td>\n",
              "      <td>Standards for Used Oil: Generators</td>\n",
              "      <td>E</td>\n",
              "      <td>11/20/2015</td>\n",
              "      <td>11/20/2015</td>\n",
              "      <td>NaN</td>\n",
              "    </tr>\n",
              "    <tr>\n",
              "      <th>VTD980524011</th>\n",
              "      <td>VT</td>\n",
              "      <td>262.A</td>\n",
              "      <td>Standards Applicable to Generators of HW: General</td>\n",
              "      <td>E</td>\n",
              "      <td>06/08/2011</td>\n",
              "      <td>10/09/2012</td>\n",
              "      <td>NaN</td>\n",
              "    </tr>\n",
              "    <tr>\n",
              "      <th>TND004036208</th>\n",
              "      <td>TN</td>\n",
              "      <td>265.CC</td>\n",
              "      <td>Interim Status Standards for Owners and Operat...</td>\n",
              "      <td>S</td>\n",
              "      <td>08/21/2013</td>\n",
              "      <td>09/30/2013</td>\n",
              "      <td>NaN</td>\n",
              "    </tr>\n",
              "  </tbody>\n",
              "</table>\n",
              "<p>368779 rows × 7 columns</p>\n",
              "</div>"
            ],
            "text/plain": [
              "             ACTIVITY_LOCATION  ... SCHEDULED_COMPLIANCE_DATE\n",
              "ID_NUMBER                       ...                          \n",
              "KSD031422306                KS  ...                12/01/2000\n",
              "MOP000002105                MO  ...                       NaN\n",
              "MOR000553040                MO  ...                       NaN\n",
              "ALD000826958                AL  ...                       NaN\n",
              "MOR000553693                MO  ...                       NaN\n",
              "...                        ...  ...                       ...\n",
              "WAH000026408                WA  ...                12/31/2015\n",
              "FLR000119792                FL  ...                       NaN\n",
              "AKR000205872                AK  ...                       NaN\n",
              "VTD980524011                VT  ...                       NaN\n",
              "TND004036208                TN  ...                       NaN\n",
              "\n",
              "[368779 rows x 7 columns]"
            ]
          },
          "metadata": {
            "tags": []
          },
          "execution_count": 80
        }
      ]
    },
    {
      "cell_type": "code",
      "metadata": {
        "id": "gALP4P5y-ASz",
        "colab_type": "code",
        "colab": {
          "base_uri": "https://localhost:8080/",
          "height": 57
        },
        "outputId": "b4d0dcb4-2554-4e3a-d424-4344b9580d69"
      },
      "source": [
        "# Number of violations each year per 1000 regulated facilities\n",
        "waste_violations[\"DATE_VIOLATION_DETERMINED\"] = pd.to_datetime(waste_violations[\"DATE_VIOLATION_DETERMINED\"], format='%m/%d/%Y', errors='coerce') # Format the date\n",
        "waste_violations_metric = waste_violations.groupby([\"DATE_VIOLATION_DETERMINED\"])[[\"VIOL_DETERMINED_BY_AGENCY\"]].agg(\"count\") # Count per day\n",
        "waste_violations_metric = waste_violations_metric.resample(\"Y\").sum() # Sum up per year\n",
        "waste_violations_metric.index = waste_violations_metric.index.strftime('%Y') # Reformat the year (2016-12-31 becomes 2016)\n",
        "waste_violations_metric_2019 = waste_violations_metric.loc[\"2019\"] #Filter to 2019\n",
        "waste_violations_metric_2019 = formatter((waste_violations_metric_2019[\"VIOL_DETERMINED_BY_AGENCY\"] / waste_fac) * 1000) #Divide by regulated facilities and multiply by desired rate (per 1000)\n",
        "violations[\"RCRA\"] = waste_violations_metric_2019\n",
        "display(HTML(\"<h3>\"+waste_violations_metric_2019+\" violations per 1000 facilities</h3>\"))"
      ],
      "execution_count": 137,
      "outputs": [
        {
          "output_type": "display_data",
          "data": {
            "text/html": [
              "<h3>24 violations per 1000 facilities</h3>"
            ],
            "text/plain": [
              "<IPython.core.display.HTML object>"
            ]
          },
          "metadata": {
            "tags": []
          }
        }
      ]
    },
    {
      "cell_type": "markdown",
      "metadata": {
        "id": "HdGcQI-gqTBi",
        "colab_type": "text"
      },
      "source": [
        "## Enforcement Actions and Penalties under RCRA in 2019"
      ]
    },
    {
      "cell_type": "code",
      "metadata": {
        "id": "M8s_Z0M0qUfT",
        "colab_type": "code",
        "colab": {
          "base_uri": "https://localhost:8080/",
          "height": 467
        },
        "outputId": "7ab77d43-bb72-43fd-f4ec-0df9160fa02f"
      },
      "source": [
        "# Find facilities with pollutant exceedences\n",
        "waste_enforcements = None\n",
        "try:\n",
        "    sql = 'select * from \"RCRA_ENFORCEMENTS\" where \"ENFORCEMENT_ACTION_DATE\" like \\'__/__/20__%\\''\n",
        "\n",
        "    waste_enforcements = get_data( sql, \"ID_NUMBER\" ) \n",
        "except EmptyDataError:\n",
        "    print( \"No data found\")\n",
        "waste_enforcements"
      ],
      "execution_count": 83,
      "outputs": [
        {
          "output_type": "execute_result",
          "data": {
            "text/html": [
              "<div>\n",
              "<style scoped>\n",
              "    .dataframe tbody tr th:only-of-type {\n",
              "        vertical-align: middle;\n",
              "    }\n",
              "\n",
              "    .dataframe tbody tr th {\n",
              "        vertical-align: top;\n",
              "    }\n",
              "\n",
              "    .dataframe thead th {\n",
              "        text-align: right;\n",
              "    }\n",
              "</style>\n",
              "<table border=\"1\" class=\"dataframe\">\n",
              "  <thead>\n",
              "    <tr style=\"text-align: right;\">\n",
              "      <th></th>\n",
              "      <th>ACTIVITY_LOCATION</th>\n",
              "      <th>ENFORCEMENT_IDENTIFIER</th>\n",
              "      <th>ENFORCEMENT_TYPE</th>\n",
              "      <th>ENFORCEMENT_DESC</th>\n",
              "      <th>ENFORCEMENT_AGENCY</th>\n",
              "      <th>ENFORCEMENT_ACTION_DATE</th>\n",
              "      <th>PMP_AMOUNT</th>\n",
              "      <th>FMP_AMOUNT</th>\n",
              "      <th>FSC_AMOUNT</th>\n",
              "      <th>SCR_AMOUNT</th>\n",
              "    </tr>\n",
              "    <tr>\n",
              "      <th>ID_NUMBER</th>\n",
              "      <th></th>\n",
              "      <th></th>\n",
              "      <th></th>\n",
              "      <th></th>\n",
              "      <th></th>\n",
              "      <th></th>\n",
              "      <th></th>\n",
              "      <th></th>\n",
              "      <th></th>\n",
              "      <th></th>\n",
              "    </tr>\n",
              "  </thead>\n",
              "  <tbody>\n",
              "    <tr>\n",
              "      <th>NYD980648562</th>\n",
              "      <td>NY</td>\n",
              "      <td>001</td>\n",
              "      <td>HQ110</td>\n",
              "      <td>VERBAL INFORMAL</td>\n",
              "      <td>E</td>\n",
              "      <td>08/12/2015</td>\n",
              "      <td>NaN</td>\n",
              "      <td>NaN</td>\n",
              "      <td>NaN</td>\n",
              "      <td>NaN</td>\n",
              "    </tr>\n",
              "    <tr>\n",
              "      <th>TNR000042812</th>\n",
              "      <td>TN</td>\n",
              "      <td>001</td>\n",
              "      <td>TN126</td>\n",
              "      <td>WARNING LETTER</td>\n",
              "      <td>S</td>\n",
              "      <td>06/02/2017</td>\n",
              "      <td>NaN</td>\n",
              "      <td>NaN</td>\n",
              "      <td>NaN</td>\n",
              "      <td>NaN</td>\n",
              "    </tr>\n",
              "    <tr>\n",
              "      <th>TNR000030643</th>\n",
              "      <td>TN</td>\n",
              "      <td>001</td>\n",
              "      <td>TN126</td>\n",
              "      <td>WARNING LETTER</td>\n",
              "      <td>S</td>\n",
              "      <td>06/06/2017</td>\n",
              "      <td>NaN</td>\n",
              "      <td>NaN</td>\n",
              "      <td>NaN</td>\n",
              "      <td>NaN</td>\n",
              "    </tr>\n",
              "    <tr>\n",
              "      <th>MAD985299791</th>\n",
              "      <td>MA</td>\n",
              "      <td>001</td>\n",
              "      <td>HQ120</td>\n",
              "      <td>WRITTEN INFORMAL</td>\n",
              "      <td>S</td>\n",
              "      <td>05/31/2017</td>\n",
              "      <td>NaN</td>\n",
              "      <td>NaN</td>\n",
              "      <td>NaN</td>\n",
              "      <td>NaN</td>\n",
              "    </tr>\n",
              "    <tr>\n",
              "      <th>WAD009266511</th>\n",
              "      <td>WA</td>\n",
              "      <td>001</td>\n",
              "      <td>HQ120</td>\n",
              "      <td>WRITTEN INFORMAL</td>\n",
              "      <td>S</td>\n",
              "      <td>06/14/2017</td>\n",
              "      <td>NaN</td>\n",
              "      <td>NaN</td>\n",
              "      <td>NaN</td>\n",
              "      <td>NaN</td>\n",
              "    </tr>\n",
              "    <tr>\n",
              "      <th>...</th>\n",
              "      <td>...</td>\n",
              "      <td>...</td>\n",
              "      <td>...</td>\n",
              "      <td>...</td>\n",
              "      <td>...</td>\n",
              "      <td>...</td>\n",
              "      <td>...</td>\n",
              "      <td>...</td>\n",
              "      <td>...</td>\n",
              "      <td>...</td>\n",
              "    </tr>\n",
              "    <tr>\n",
              "      <th>OHR000102475</th>\n",
              "      <td>OH</td>\n",
              "      <td>005</td>\n",
              "      <td>HQ120</td>\n",
              "      <td>WRITTEN INFORMAL</td>\n",
              "      <td>S</td>\n",
              "      <td>09/20/2013</td>\n",
              "      <td>NaN</td>\n",
              "      <td>NaN</td>\n",
              "      <td>NaN</td>\n",
              "      <td>NaN</td>\n",
              "    </tr>\n",
              "    <tr>\n",
              "      <th>NYD980763833</th>\n",
              "      <td>NY</td>\n",
              "      <td>001</td>\n",
              "      <td>HQ120</td>\n",
              "      <td>WRITTEN INFORMAL</td>\n",
              "      <td>S</td>\n",
              "      <td>03/26/2014</td>\n",
              "      <td>NaN</td>\n",
              "      <td>NaN</td>\n",
              "      <td>NaN</td>\n",
              "      <td>NaN</td>\n",
              "    </tr>\n",
              "    <tr>\n",
              "      <th>MOR000555540</th>\n",
              "      <td>MO</td>\n",
              "      <td>2</td>\n",
              "      <td>HQ140</td>\n",
              "      <td>LETTER OF INTENT TO INITIATE ENFORCEMENT ACTION</td>\n",
              "      <td>S</td>\n",
              "      <td>08/17/2016</td>\n",
              "      <td>NaN</td>\n",
              "      <td>NaN</td>\n",
              "      <td>NaN</td>\n",
              "      <td>NaN</td>\n",
              "    </tr>\n",
              "    <tr>\n",
              "      <th>OHD980587364</th>\n",
              "      <td>OH</td>\n",
              "      <td>081</td>\n",
              "      <td>HQ120</td>\n",
              "      <td>WRITTEN INFORMAL</td>\n",
              "      <td>S</td>\n",
              "      <td>10/19/2016</td>\n",
              "      <td>NaN</td>\n",
              "      <td>NaN</td>\n",
              "      <td>NaN</td>\n",
              "      <td>NaN</td>\n",
              "    </tr>\n",
              "    <tr>\n",
              "      <th>NYD002034957</th>\n",
              "      <td>NY</td>\n",
              "      <td>001</td>\n",
              "      <td>HQ120</td>\n",
              "      <td>WRITTEN INFORMAL</td>\n",
              "      <td>E</td>\n",
              "      <td>12/29/2010</td>\n",
              "      <td>NaN</td>\n",
              "      <td>NaN</td>\n",
              "      <td>NaN</td>\n",
              "      <td>NaN</td>\n",
              "    </tr>\n",
              "  </tbody>\n",
              "</table>\n",
              "<p>193607 rows × 10 columns</p>\n",
              "</div>"
            ],
            "text/plain": [
              "             ACTIVITY_LOCATION ENFORCEMENT_IDENTIFIER  ... FSC_AMOUNT SCR_AMOUNT\n",
              "ID_NUMBER                                              ...                      \n",
              "NYD980648562                NY                    001  ...        NaN        NaN\n",
              "TNR000042812                TN                    001  ...        NaN        NaN\n",
              "TNR000030643                TN                    001  ...        NaN        NaN\n",
              "MAD985299791                MA                    001  ...        NaN        NaN\n",
              "WAD009266511                WA                    001  ...        NaN        NaN\n",
              "...                        ...                    ...  ...        ...        ...\n",
              "OHR000102475                OH                    005  ...        NaN        NaN\n",
              "NYD980763833                NY                    001  ...        NaN        NaN\n",
              "MOR000555540                MO                      2  ...        NaN        NaN\n",
              "OHD980587364                OH                    081  ...        NaN        NaN\n",
              "NYD002034957                NY                    001  ...        NaN        NaN\n",
              "\n",
              "[193607 rows x 10 columns]"
            ]
          },
          "metadata": {
            "tags": []
          },
          "execution_count": 83
        }
      ]
    },
    {
      "cell_type": "code",
      "metadata": {
        "id": "Qif-FilM-bns",
        "colab_type": "code",
        "colab": {
          "base_uri": "https://localhost:8080/",
          "height": 57
        },
        "outputId": "923303a4-310c-4ff8-886b-7be161d6060e"
      },
      "source": [
        "# Number of enforcement actions each year per 1000 regulated facilities\n",
        "waste_enforcements[\"ENFORCEMENT_ACTION_DATE\"] = pd.to_datetime(waste_enforcements[\"ENFORCEMENT_ACTION_DATE\"], format='%m/%d/%Y', errors='coerce') # Format the date\n",
        "waste_enforcements_metric = waste_enforcements.groupby([\"ENFORCEMENT_ACTION_DATE\"])[[\"ENFORCEMENT_AGENCY\"]].agg(\"count\") # Count per day\n",
        "waste_enforcements_metric = waste_enforcements_metric.resample(\"Y\").sum() # Sum up per year\n",
        "waste_enforcements_metric.index = waste_enforcements_metric.index.strftime('%Y') # Reformat the year (2016-12-31 becomes 2016)\n",
        "waste_enforcements_metric_2019 = waste_enforcements_metric.loc[\"2019\"] #Filter to 2019\n",
        "waste_enforcements_metric_2019 = formatter((waste_enforcements_metric_2019[\"ENFORCEMENT_AGENCY\"] / waste_fac) * 1000) #Divide by regulated facilities and multiply by desired rate (per 1000)\n",
        "enforcements[\"RCRA\"] = waste_enforcements_metric_2019\n",
        "display(HTML(\"<h3>\"+waste_enforcements_metric_2019+\" enforcement actions per 1000 facilities</h3>\"))"
      ],
      "execution_count": 136,
      "outputs": [
        {
          "output_type": "display_data",
          "data": {
            "text/html": [
              "<h3>12 enforcement actions per 1000 facilities</h3>"
            ],
            "text/plain": [
              "<IPython.core.display.HTML object>"
            ]
          },
          "metadata": {
            "tags": []
          }
        }
      ]
    },
    {
      "cell_type": "code",
      "metadata": {
        "id": "MAPXMRZt-r-3",
        "colab_type": "code",
        "colab": {
          "base_uri": "https://localhost:8080/",
          "height": 57
        },
        "outputId": "f252ec24-8276-400e-ed6b-b4f3db4a76c2"
      },
      "source": [
        "# Penalties each year per facility\n",
        "waste_penalties_metric = waste_enforcements.loc[waste_enforcements[\"FMP_AMOUNT\"]>0]\n",
        "waste_penalties_metric = waste_penalties_metric.groupby([\"ENFORCEMENT_ACTION_DATE\"])[[\"FMP_AMOUNT\"]].agg(\"sum\") # sum penalties per day\n",
        "waste_penalties_metric = waste_penalties_metric.resample(\"Y\").sum() # Sum up penalties per year\n",
        "waste_penalties_metric.index = waste_penalties_metric.index.strftime('%Y') # Reformat the year (2016-12-31 becomes 2016)\n",
        "waste_penalties_metric_2019 = waste_penalties_metric.loc[\"2019\"] #Filter to 2019\n",
        "waste_penalties_metric_2019 = formatter(waste_penalties_metric_2019[\"FMP_AMOUNT\"] / waste_fac) #Divide by regulated facilities\n",
        "penalties[\"RCRA\"] = waste_penalties_metric_2019\n",
        "display(HTML(\"<h3>$\"+waste_penalties_metric_2019+\" per facility</h3>\"))"
      ],
      "execution_count": 135,
      "outputs": [
        {
          "output_type": "display_data",
          "data": {
            "text/html": [
              "<h3>$29 per facility</h3>"
            ],
            "text/plain": [
              "<IPython.core.display.HTML object>"
            ]
          },
          "metadata": {
            "tags": []
          }
        }
      ]
    },
    {
      "cell_type": "markdown",
      "metadata": {
        "id": "YQY2458NqUp9",
        "colab_type": "text"
      },
      "source": [
        "## Greenhouse Gas Emissions in 2018 (latest data available)"
      ]
    },
    {
      "cell_type": "code",
      "metadata": {
        "id": "DN8EVg29qW1k",
        "colab_type": "code",
        "colab": {
          "base_uri": "https://localhost:8080/",
          "height": 419
        },
        "outputId": "11323dbb-b4cf-486f-fdeb-7c440b6c278b"
      },
      "source": [
        "# Find facilities with pollutant exceedences\n",
        "ghg_emissions = None\n",
        "try:\n",
        "    sql = 'select * from \"POLL_RPT_COMBINED_EMISSIONS\" where \"PGM_SYS_ACRNM\" = \\'E-GGRT\\''\n",
        "\n",
        "    ghg_emissions = get_data( sql) \n",
        "except EmptyDataError:\n",
        "    print( \"No data found\")\n",
        "ghg_emissions"
      ],
      "execution_count": 88,
      "outputs": [
        {
          "output_type": "execute_result",
          "data": {
            "text/html": [
              "<div>\n",
              "<style scoped>\n",
              "    .dataframe tbody tr th:only-of-type {\n",
              "        vertical-align: middle;\n",
              "    }\n",
              "\n",
              "    .dataframe tbody tr th {\n",
              "        vertical-align: top;\n",
              "    }\n",
              "\n",
              "    .dataframe thead th {\n",
              "        text-align: right;\n",
              "    }\n",
              "</style>\n",
              "<table border=\"1\" class=\"dataframe\">\n",
              "  <thead>\n",
              "    <tr style=\"text-align: right;\">\n",
              "      <th></th>\n",
              "      <th>REPORTING_YEAR</th>\n",
              "      <th>REGISTRY_ID</th>\n",
              "      <th>PGM_SYS_ACRNM</th>\n",
              "      <th>PGM_SYS_ID</th>\n",
              "      <th>POLLUTANT_NAME</th>\n",
              "      <th>ANNUAL_EMISSION</th>\n",
              "      <th>UNIT_OF_MEASURE</th>\n",
              "      <th>NEI_TYPE</th>\n",
              "      <th>NEI_HAP_VOC_FLAG</th>\n",
              "    </tr>\n",
              "  </thead>\n",
              "  <tbody>\n",
              "    <tr>\n",
              "      <th>0</th>\n",
              "      <td>2018</td>\n",
              "      <td>110058380130</td>\n",
              "      <td>E-GGRT</td>\n",
              "      <td>1011276</td>\n",
              "      <td>Carbon dioxide</td>\n",
              "      <td>15200.200</td>\n",
              "      <td>MTCO2e</td>\n",
              "      <td>NaN</td>\n",
              "      <td>NaN</td>\n",
              "    </tr>\n",
              "    <tr>\n",
              "      <th>1</th>\n",
              "      <td>2015</td>\n",
              "      <td>110058380087</td>\n",
              "      <td>E-GGRT</td>\n",
              "      <td>1011274</td>\n",
              "      <td>Carbon dioxide</td>\n",
              "      <td>28523.100</td>\n",
              "      <td>MTCO2e</td>\n",
              "      <td>NaN</td>\n",
              "      <td>NaN</td>\n",
              "    </tr>\n",
              "    <tr>\n",
              "      <th>2</th>\n",
              "      <td>2015</td>\n",
              "      <td>110058380087</td>\n",
              "      <td>E-GGRT</td>\n",
              "      <td>1011274</td>\n",
              "      <td>Nitrous oxide</td>\n",
              "      <td>17.284</td>\n",
              "      <td>MTCO2e</td>\n",
              "      <td>NaN</td>\n",
              "      <td>NaN</td>\n",
              "    </tr>\n",
              "    <tr>\n",
              "      <th>3</th>\n",
              "      <td>2018</td>\n",
              "      <td>110058380130</td>\n",
              "      <td>E-GGRT</td>\n",
              "      <td>1011276</td>\n",
              "      <td>Methane</td>\n",
              "      <td>12045.250</td>\n",
              "      <td>MTCO2e</td>\n",
              "      <td>NaN</td>\n",
              "      <td>NaN</td>\n",
              "    </tr>\n",
              "    <tr>\n",
              "      <th>4</th>\n",
              "      <td>2015</td>\n",
              "      <td>110058380130</td>\n",
              "      <td>E-GGRT</td>\n",
              "      <td>1011276</td>\n",
              "      <td>Methane</td>\n",
              "      <td>14528.000</td>\n",
              "      <td>MTCO2e</td>\n",
              "      <td>NaN</td>\n",
              "      <td>NaN</td>\n",
              "    </tr>\n",
              "    <tr>\n",
              "      <th>...</th>\n",
              "      <td>...</td>\n",
              "      <td>...</td>\n",
              "      <td>...</td>\n",
              "      <td>...</td>\n",
              "      <td>...</td>\n",
              "      <td>...</td>\n",
              "      <td>...</td>\n",
              "      <td>...</td>\n",
              "      <td>...</td>\n",
              "    </tr>\n",
              "    <tr>\n",
              "      <th>193802</th>\n",
              "      <td>2018</td>\n",
              "      <td>110002071739</td>\n",
              "      <td>E-GGRT</td>\n",
              "      <td>1000202</td>\n",
              "      <td>Methane</td>\n",
              "      <td>1286.000</td>\n",
              "      <td>MTCO2e</td>\n",
              "      <td>NaN</td>\n",
              "      <td>NaN</td>\n",
              "    </tr>\n",
              "    <tr>\n",
              "      <th>193803</th>\n",
              "      <td>2017</td>\n",
              "      <td>110002071739</td>\n",
              "      <td>E-GGRT</td>\n",
              "      <td>1000202</td>\n",
              "      <td>Nitrous oxide</td>\n",
              "      <td>20.562</td>\n",
              "      <td>MTCO2e</td>\n",
              "      <td>NaN</td>\n",
              "      <td>NaN</td>\n",
              "    </tr>\n",
              "    <tr>\n",
              "      <th>193804</th>\n",
              "      <td>2013</td>\n",
              "      <td>110002071739</td>\n",
              "      <td>E-GGRT</td>\n",
              "      <td>1000202</td>\n",
              "      <td>Carbon dioxide</td>\n",
              "      <td>24896.000</td>\n",
              "      <td>MTCO2e</td>\n",
              "      <td>NaN</td>\n",
              "      <td>NaN</td>\n",
              "    </tr>\n",
              "    <tr>\n",
              "      <th>193805</th>\n",
              "      <td>2013</td>\n",
              "      <td>110002071739</td>\n",
              "      <td>E-GGRT</td>\n",
              "      <td>1000202</td>\n",
              "      <td>Nitrous oxide</td>\n",
              "      <td>14.900</td>\n",
              "      <td>MTCO2e</td>\n",
              "      <td>NaN</td>\n",
              "      <td>NaN</td>\n",
              "    </tr>\n",
              "    <tr>\n",
              "      <th>193806</th>\n",
              "      <td>2012</td>\n",
              "      <td>110002439086</td>\n",
              "      <td>E-GGRT</td>\n",
              "      <td>1003420</td>\n",
              "      <td>Carbon dioxide</td>\n",
              "      <td>64014.700</td>\n",
              "      <td>MTCO2e</td>\n",
              "      <td>NaN</td>\n",
              "      <td>NaN</td>\n",
              "    </tr>\n",
              "  </tbody>\n",
              "</table>\n",
              "<p>193807 rows × 9 columns</p>\n",
              "</div>"
            ],
            "text/plain": [
              "        REPORTING_YEAR   REGISTRY_ID  ... NEI_TYPE  NEI_HAP_VOC_FLAG\n",
              "0                 2018  110058380130  ...      NaN               NaN\n",
              "1                 2015  110058380087  ...      NaN               NaN\n",
              "2                 2015  110058380087  ...      NaN               NaN\n",
              "3                 2018  110058380130  ...      NaN               NaN\n",
              "4                 2015  110058380130  ...      NaN               NaN\n",
              "...                ...           ...  ...      ...               ...\n",
              "193802            2018  110002071739  ...      NaN               NaN\n",
              "193803            2017  110002071739  ...      NaN               NaN\n",
              "193804            2013  110002071739  ...      NaN               NaN\n",
              "193805            2013  110002071739  ...      NaN               NaN\n",
              "193806            2012  110002439086  ...      NaN               NaN\n",
              "\n",
              "[193807 rows x 9 columns]"
            ]
          },
          "metadata": {
            "tags": []
          },
          "execution_count": 88
        }
      ]
    },
    {
      "cell_type": "code",
      "metadata": {
        "id": "WYm9skUM_OV7",
        "colab_type": "code",
        "colab": {
          "base_uri": "https://localhost:8080/",
          "height": 57
        },
        "outputId": "d4201c3c-8d90-4180-da41-8eb816613795"
      },
      "source": [
        "# Emissions each year per facility\n",
        "ghg_emissions[\"REPORTING_YEAR\"] = pd.to_datetime(ghg_emissions[\"REPORTING_YEAR\"], format='%Y', errors='coerce') # Format the date\n",
        "ghg_emissions_metric = ghg_emissions.groupby([\"REPORTING_YEAR\"])[[\"ANNUAL_EMISSION\"]].agg(\"sum\") # sum emissions per year\n",
        "ghg_emissions_metric.index = ghg_emissions_metric.index.strftime('%Y') # Reformat the year (2016-12-31 becomes 2016)\n",
        "ghg_emissions_metric_2018 = ghg_emissions_metric.loc[\"2018\"] #Filter to 2018\n",
        "ghg_emissions_metric_2018 = formatter(ghg_emissions_metric_2018[\"ANNUAL_EMISSION\"] / ghg_fac) #Divide by regulated facilities\n",
        "emissions[\"GHG\"] = ghg_emissions_metric_2018\n",
        "display(HTML(\"<h3>\"+ghg_emissions_metric_2018+\" MTCO2e (metric tons of carbon dioxide equivalent) emissions per reporting facility</h3>\"))"
      ],
      "execution_count": 134,
      "outputs": [
        {
          "output_type": "display_data",
          "data": {
            "text/html": [
              "<h3>509858 MTCO2e (metric tons of carbon dioxide equivalent) emissions per reporting facility</h3>"
            ],
            "text/plain": [
              "<IPython.core.display.HTML object>"
            ]
          },
          "metadata": {
            "tags": []
          }
        }
      ]
    },
    {
      "cell_type": "markdown",
      "metadata": {
        "id": "2ybjI0eGllRg",
        "colab_type": "text"
      },
      "source": [
        "# Data Export"
      ]
    },
    {
      "cell_type": "code",
      "metadata": {
        "id": "EGHkxhYzlrKp",
        "colab_type": "code",
        "colab": {
          "base_uri": "https://localhost:8080/",
          "height": 323
        },
        "outputId": "48b3e532-02b0-4bdd-ffa6-b0ec0c6a5f97"
      },
      "source": [
        "data = [inspections,\n",
        "violations,\n",
        "enforcements,\n",
        "penalties,\n",
        "emissions]\n",
        "\n",
        "units = [\"2019 inspections per 1000 facilities\",\n",
        "\"2019 violations per 1000 facilities\",\n",
        "\"2019 enforcements per 1000 facilities\",\n",
        "\"2019 penalties per facility\",\n",
        "\"2018 emissions per facility\"]\n",
        "\n",
        "short_units = [\"inspections-rate\",\n",
        "\"violations-rate\",\n",
        "\"enforcements-rate\",\n",
        "\"penalties-rate\",\n",
        "\"emissions-rate\"]\n",
        "\n",
        "for index, program in enumerate(data):\n",
        "    # create dataframe\n",
        "    #x=pd.DataFrame.from_dict(program)\n",
        "    df = pd.DataFrame(program, index=[0]).T\n",
        "    df = df.rename(columns={0: units[index]})\n",
        "    filename= short_units[index]+\"_All_national_4_080720.csv\" #active-facilities_All_MA-CD4_3b_080620.csv\n",
        "    df.to_csv(filename)\n",
        "    print(df)"
      ],
      "execution_count": 166,
      "outputs": [
        {
          "output_type": "stream",
          "text": [
            "     2019 inspections per 1000 facilities\n",
            "CAA                                   261\n",
            "CWA                                   148\n",
            "RCRA                                   38\n",
            "     2019 violations per 1000 facilities\n",
            "CAA                                    4\n",
            "CWA                                  410\n",
            "RCRA                                  24\n",
            "     2019 enforcements per 1000 facilities\n",
            "CAA                                     14\n",
            "CWA                                     11\n",
            "RCRA                                    12\n",
            "     2019 penalties per facility\n",
            "CAA                          357\n",
            "CWA                           16\n",
            "RCRA                          29\n",
            "    2018 emissions per facility\n",
            "GHG                      509858\n"
          ],
          "name": "stdout"
        }
      ]
    },
    {
      "cell_type": "code",
      "metadata": {
        "id": "iHK3Id4umJBy",
        "colab_type": "code",
        "colab": {}
      },
      "source": [
        ""
      ],
      "execution_count": null,
      "outputs": []
    }
  ]
}