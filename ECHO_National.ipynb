{
  "nbformat": 4,
  "nbformat_minor": 0,
  "metadata": {
    "colab": {
      "name": "ECHO-National-092420.ipynb",
      "provenance": [],
      "collapsed_sections": [],
      "toc_visible": true
    },
    "kernelspec": {
      "display_name": "Python 3",
      "language": "python",
      "name": "python3"
    },
    "language_info": {
      "codemirror_mode": {
        "name": "ipython",
        "version": 3
      },
      "file_extension": ".py",
      "mimetype": "text/x-python",
      "name": "python",
      "nbconvert_exporter": "python",
      "pygments_lexer": "ipython3",
      "version": "3.7.2"
    }
  },
  "cells": [
    {
      "cell_type": "markdown",
      "metadata": {
        "colab_type": "text",
        "id": "Ylalhm0wbt2p"
      },
      "source": [
        "| ![EEW logo](https://github.com/edgi-govdata-archiving/EEW-Image-Assets/blob/master/Jupyter%20instructions/eew.jpg?raw=true) | ![EDGI logo](https://github.com/edgi-govdata-archiving/EEW-Image-Assets/blob/master/Jupyter%20instructions/edgi.png?raw=true) |\n",
        "|---|---|\n",
        "\n",
        "#### This notebook is licensed under GPL 3.0. Please visit our Github repo for more information: \n",
        "#### The notebook was collaboratively authored by the Environmental Data & Governance Initiative (EDGI) following our authorship protocol: https://docs.google.com/document/d/1CtDN5ZZ4Zv70fHiBTmWkDJ9mswEipX6eCYrwicP66Xw/\n",
        "#### For more information about this project, visit https://www.environmentalenforcementwatch.org/"
      ]
    },
    {
      "cell_type": "markdown",
      "metadata": {
        "colab_type": "text",
        "id": "xwpXPiNLbt2x"
      },
      "source": [
        "## How to Run this Notebook\n",
        "* If you click on a gray **code** cell, a little “play button” arrow appears on the left. If you click the play button, it will run the code in that cell (“**running** a cell”). The button will animate. When the animation stops, the cell has finished running.\n",
        "![Where to click to run the cell](https://github.com/edgi-govdata-archiving/EEW-Image-Assets/blob/master/Jupyter%20instructions/pressplay.JPG?raw=true)\n",
        "* You may get a warning that the notebook was not authored by Google. We know, we authored them! It’s okay. Click “Run Anyway” to continue. \n",
        "![Error Message](https://github.com/edgi-govdata-archiving/EEW-Image-Assets/blob/master/Jupyter%20instructions/warning-message.JPG?raw=true)\n",
        "* Run all of the cells in a Notebook to make a complete report. Please feel free to look at and **learn about each result as you create it**!\n",
        "\n",
        "---"
      ]
    },
    {
      "cell_type": "markdown",
      "metadata": {
        "colab_type": "text",
        "id": "vU4AqThS-37L"
      },
      "source": [
        "# Nationwide statistics about environmental compliance trends"
      ]
    },
    {
      "cell_type": "markdown",
      "metadata": {
        "colab_type": "text",
        "id": "czia5t5ebt20"
      },
      "source": [
        "## Setup\n",
        "Here we load some helper code to get us going."
      ]
    },
    {
      "cell_type": "code",
      "metadata": {
        "colab_type": "code",
        "id": "vF3iTaeCbt23",
        "colab": {}
      },
      "source": [
        "# Import code libraries\n",
        "!git clone https://github.com/edgi-govdata-archiving/ECHO_modules.git &>/dev/null;\n",
        "%run ECHO_modules/DataSet.py\n",
        "\n",
        "import urllib.parse\n",
        "import pandas as pd\n",
        "import numpy as np\n",
        "import matplotlib.pyplot as plt\n",
        "%matplotlib inline\n",
        "import requests\n",
        "import csv\n",
        "import datetime\n",
        "import folium\n",
        "from folium.plugins import FastMarkerCluster\n",
        "import ipywidgets as widgets\n",
        "from IPython.core.display import display, HTML\n",
        "from pandas.errors import EmptyDataError\n",
        "def formatter(value):\n",
        "  return \"{:0.2f}\".format(value)"
      ],
      "execution_count": null,
      "outputs": []
    },
    {
      "cell_type": "markdown",
      "metadata": {
        "colab_type": "text",
        "id": "F7ZY4G6kVwLj"
      },
      "source": [
        "Here we set up some code to help us store and eventually export the metrics."
      ]
    },
    {
      "cell_type": "code",
      "metadata": {
        "colab_type": "code",
        "id": "aDnEBqa9Vvuc",
        "colab": {}
      },
      "source": [
        "inspections = dict()\n",
        "violations = dict()\n",
        "enforcements = dict()\n",
        "penalties = dict()\n",
        "emissions = dict()"
      ],
      "execution_count": null,
      "outputs": []
    },
    {
      "cell_type": "markdown",
      "metadata": {
        "colab_type": "text",
        "id": "su7_wvKWbt3Z"
      },
      "source": [
        "## Start getting data\n",
        "First, get summary data from the ECHO_EXPORTER table."
      ]
    },
    {
      "cell_type": "code",
      "metadata": {
        "colab_type": "code",
        "id": "cBkHsLPtbt3c",
        "colab": {
          "base_uri": "https://localhost:8080/",
          "height": 589
        },
        "outputId": "cf2fb694-68fc-4c47-bc58-7b56f4c3a8c3"
      },
      "source": [
        "# Get everything we will need from ECHO_EXPORTER in a single DB query.\n",
        "# We can then use the full dataframe to specialize views of it.\n",
        "full_echo_data = None\n",
        "column_mapping = {\n",
        "    '\"REGISTRY_ID\"': str,\n",
        "    '\"FAC_NAME\"': str,\n",
        "    '\"FAC_LAT\"': float,\n",
        "    '\"FAC_LONG\"': float,\n",
        "    '\"AIR_IDS\"': str,\n",
        "    '\"NPDES_IDS\"': str,\n",
        "    '\"RCRA_IDS\"': str,\n",
        "    '\"DFR_URL\"': str,\n",
        "    '\"AIR_FLAG\"': str,\n",
        "    '\"NPDES_FLAG\"': str,\n",
        "    '\"GHG_FLAG\"': str,\n",
        "    '\"RCRA_FLAG\"': str,\n",
        "    '\"FAC_ACTIVE_FLAG\"': str\n",
        "}\n",
        "column_names = list( column_mapping.keys() )\n",
        "columns_string = ','.join( column_names )\n",
        "sql = 'select ' + columns_string + ' from \"ECHO_EXPORTER\" where \"AIR_FLAG\" = \\'Y\\' or \"NPDES_FLAG\" = \\'Y\\' or \"GHG_FLAG\" = \\'Y\\' or \"RCRA_FLAG\" = \\'Y\\''\n",
        "try:\n",
        "    # Don't index.\n",
        "    full_echo_data = get_data( sql )\n",
        "except EmptyDataError:\n",
        "    print(\"\\nThere are no EPA facilities for this query.\\n\")\n",
        "full_echo_data"
      ],
      "execution_count": null,
      "outputs": [
        {
          "output_type": "execute_result",
          "data": {
            "text/html": [
              "<div>\n",
              "<style scoped>\n",
              "    .dataframe tbody tr th:only-of-type {\n",
              "        vertical-align: middle;\n",
              "    }\n",
              "\n",
              "    .dataframe tbody tr th {\n",
              "        vertical-align: top;\n",
              "    }\n",
              "\n",
              "    .dataframe thead th {\n",
              "        text-align: right;\n",
              "    }\n",
              "</style>\n",
              "<table border=\"1\" class=\"dataframe\">\n",
              "  <thead>\n",
              "    <tr style=\"text-align: right;\">\n",
              "      <th></th>\n",
              "      <th>REGISTRY_ID</th>\n",
              "      <th>FAC_NAME</th>\n",
              "      <th>FAC_LAT</th>\n",
              "      <th>FAC_LONG</th>\n",
              "      <th>AIR_IDS</th>\n",
              "      <th>NPDES_IDS</th>\n",
              "      <th>RCRA_IDS</th>\n",
              "      <th>DFR_URL</th>\n",
              "      <th>AIR_FLAG</th>\n",
              "      <th>NPDES_FLAG</th>\n",
              "      <th>GHG_FLAG</th>\n",
              "      <th>RCRA_FLAG</th>\n",
              "      <th>FAC_ACTIVE_FLAG</th>\n",
              "    </tr>\n",
              "  </thead>\n",
              "  <tbody>\n",
              "    <tr>\n",
              "      <th>0</th>\n",
              "      <td>1.100063e+11</td>\n",
              "      <td>ROSEVILLE WWTP</td>\n",
              "      <td>39.788400</td>\n",
              "      <td>-82.079300</td>\n",
              "      <td>NaN</td>\n",
              "      <td>OH0099287</td>\n",
              "      <td>NaN</td>\n",
              "      <td>http://echo.epa.gov/detailed-facility-report?f...</td>\n",
              "      <td>N</td>\n",
              "      <td>Y</td>\n",
              "      <td>N</td>\n",
              "      <td>N</td>\n",
              "      <td>Y</td>\n",
              "    </tr>\n",
              "    <tr>\n",
              "      <th>1</th>\n",
              "      <td>1.100078e+11</td>\n",
              "      <td>HERSRUDS OF BELLE FOURCHE</td>\n",
              "      <td>44.685308</td>\n",
              "      <td>-103.860104</td>\n",
              "      <td>NaN</td>\n",
              "      <td>NaN</td>\n",
              "      <td>SDD987669470</td>\n",
              "      <td>http://echo.epa.gov/detailed-facility-report?f...</td>\n",
              "      <td>N</td>\n",
              "      <td>N</td>\n",
              "      <td>N</td>\n",
              "      <td>Y</td>\n",
              "      <td>Y</td>\n",
              "    </tr>\n",
              "    <tr>\n",
              "      <th>2</th>\n",
              "      <td>1.100116e+11</td>\n",
              "      <td>BAUMGARDNER OIL CO INC</td>\n",
              "      <td>39.931743</td>\n",
              "      <td>-77.543110</td>\n",
              "      <td>NaN</td>\n",
              "      <td>NaN</td>\n",
              "      <td>PAD013944673</td>\n",
              "      <td>http://echo.epa.gov/detailed-facility-report?f...</td>\n",
              "      <td>N</td>\n",
              "      <td>N</td>\n",
              "      <td>N</td>\n",
              "      <td>Y</td>\n",
              "      <td>NaN</td>\n",
              "    </tr>\n",
              "    <tr>\n",
              "      <th>3</th>\n",
              "      <td>1.100196e+11</td>\n",
              "      <td>MOUNT VERNON MS4 STORM SEWERS</td>\n",
              "      <td>40.920758</td>\n",
              "      <td>-73.828211</td>\n",
              "      <td>NaN</td>\n",
              "      <td>NYR20A383</td>\n",
              "      <td>NaN</td>\n",
              "      <td>http://echo.epa.gov/detailed-facility-report?f...</td>\n",
              "      <td>N</td>\n",
              "      <td>Y</td>\n",
              "      <td>N</td>\n",
              "      <td>N</td>\n",
              "      <td>Y</td>\n",
              "    </tr>\n",
              "    <tr>\n",
              "      <th>4</th>\n",
              "      <td>1.100210e+11</td>\n",
              "      <td>CON EDISON  - EXC COAL TAR WARP</td>\n",
              "      <td>40.748027</td>\n",
              "      <td>-73.993452</td>\n",
              "      <td>NaN</td>\n",
              "      <td>NaN</td>\n",
              "      <td>NYP004114872</td>\n",
              "      <td>http://echo.epa.gov/detailed-facility-report?f...</td>\n",
              "      <td>N</td>\n",
              "      <td>N</td>\n",
              "      <td>N</td>\n",
              "      <td>Y</td>\n",
              "      <td>NaN</td>\n",
              "    </tr>\n",
              "    <tr>\n",
              "      <th>...</th>\n",
              "      <td>...</td>\n",
              "      <td>...</td>\n",
              "      <td>...</td>\n",
              "      <td>...</td>\n",
              "      <td>...</td>\n",
              "      <td>...</td>\n",
              "      <td>...</td>\n",
              "      <td>...</td>\n",
              "      <td>...</td>\n",
              "      <td>...</td>\n",
              "      <td>...</td>\n",
              "      <td>...</td>\n",
              "      <td>...</td>\n",
              "    </tr>\n",
              "    <tr>\n",
              "      <th>1863745</th>\n",
              "      <td>1.100037e+11</td>\n",
              "      <td>SPX CORP</td>\n",
              "      <td>43.241520</td>\n",
              "      <td>-86.254970</td>\n",
              "      <td>NaN</td>\n",
              "      <td>NaN</td>\n",
              "      <td>MID985604214</td>\n",
              "      <td>http://echo.epa.gov/detailed-facility-report?f...</td>\n",
              "      <td>N</td>\n",
              "      <td>N</td>\n",
              "      <td>N</td>\n",
              "      <td>Y</td>\n",
              "      <td>Y</td>\n",
              "    </tr>\n",
              "    <tr>\n",
              "      <th>1863746</th>\n",
              "      <td>1.100424e+11</td>\n",
              "      <td>900 EAST DISTRIBUTION PIPELINE REPLACEMENT</td>\n",
              "      <td>40.641883</td>\n",
              "      <td>-111.883293</td>\n",
              "      <td>NaN</td>\n",
              "      <td>UTG070355</td>\n",
              "      <td>NaN</td>\n",
              "      <td>http://echo.epa.gov/detailed-facility-report?f...</td>\n",
              "      <td>N</td>\n",
              "      <td>Y</td>\n",
              "      <td>N</td>\n",
              "      <td>N</td>\n",
              "      <td>NaN</td>\n",
              "    </tr>\n",
              "    <tr>\n",
              "      <th>1863747</th>\n",
              "      <td>1.100708e+11</td>\n",
              "      <td>COMPTON UNIFIED SCHOOL DISTICT</td>\n",
              "      <td>33.922935</td>\n",
              "      <td>-118.249408</td>\n",
              "      <td>NaN</td>\n",
              "      <td>NaN</td>\n",
              "      <td>CAC003065058</td>\n",
              "      <td>http://echo.epa.gov/detailed-facility-report?f...</td>\n",
              "      <td>N</td>\n",
              "      <td>N</td>\n",
              "      <td>N</td>\n",
              "      <td>Y</td>\n",
              "      <td>NaN</td>\n",
              "    </tr>\n",
              "    <tr>\n",
              "      <th>1863748</th>\n",
              "      <td>1.100332e+11</td>\n",
              "      <td>READY MIX US,INC/SPRINGDALE</td>\n",
              "      <td>36.165180</td>\n",
              "      <td>-94.137530</td>\n",
              "      <td>NaN</td>\n",
              "      <td>ARR00C200</td>\n",
              "      <td>NaN</td>\n",
              "      <td>http://echo.epa.gov/detailed-facility-report?f...</td>\n",
              "      <td>N</td>\n",
              "      <td>Y</td>\n",
              "      <td>N</td>\n",
              "      <td>N</td>\n",
              "      <td>NaN</td>\n",
              "    </tr>\n",
              "    <tr>\n",
              "      <th>1863749</th>\n",
              "      <td>1.100421e+11</td>\n",
              "      <td>CARCO INDUSTRIES, INC</td>\n",
              "      <td>45.369598</td>\n",
              "      <td>-122.785030</td>\n",
              "      <td>NaN</td>\n",
              "      <td>ORR117223</td>\n",
              "      <td>NaN</td>\n",
              "      <td>http://echo.epa.gov/detailed-facility-report?f...</td>\n",
              "      <td>N</td>\n",
              "      <td>Y</td>\n",
              "      <td>N</td>\n",
              "      <td>N</td>\n",
              "      <td>Y</td>\n",
              "    </tr>\n",
              "  </tbody>\n",
              "</table>\n",
              "<p>1863750 rows × 13 columns</p>\n",
              "</div>"
            ],
            "text/plain": [
              "          REGISTRY_ID  ... FAC_ACTIVE_FLAG\n",
              "0        1.100063e+11  ...               Y\n",
              "1        1.100078e+11  ...               Y\n",
              "2        1.100116e+11  ...             NaN\n",
              "3        1.100196e+11  ...               Y\n",
              "4        1.100210e+11  ...             NaN\n",
              "...               ...  ...             ...\n",
              "1863745  1.100037e+11  ...               Y\n",
              "1863746  1.100424e+11  ...             NaN\n",
              "1863747  1.100708e+11  ...             NaN\n",
              "1863748  1.100332e+11  ...             NaN\n",
              "1863749  1.100421e+11  ...               Y\n",
              "\n",
              "[1863750 rows x 13 columns]"
            ]
          },
          "metadata": {
            "tags": []
          },
          "execution_count": 3
        }
      ]
    },
    {
      "cell_type": "markdown",
      "metadata": {
        "colab_type": "text",
        "id": "Fnla1jRuQu75"
      },
      "source": [
        "## Number of Currently Regulated Facilities Per Program"
      ]
    },
    {
      "cell_type": "code",
      "metadata": {
        "colab_type": "code",
        "id": "mEcRLg9YRHZI",
        "colab": {
          "base_uri": "https://localhost:8080/",
          "height": 167
        },
        "outputId": "abcfcae6-b1de-4637-cb53-48dc02597a93"
      },
      "source": [
        "air_fac = full_echo_data.loc[(full_echo_data[\"AIR_FLAG\"]==\"Y\") & (full_echo_data[\"FAC_ACTIVE_FLAG\"]==\"Y\")].shape[0]\n",
        "water_fac = full_echo_data.loc[(full_echo_data[\"NPDES_FLAG\"]==\"Y\") & (full_echo_data[\"FAC_ACTIVE_FLAG\"]==\"Y\")].shape[0]\n",
        "waste_fac = full_echo_data.loc[(full_echo_data[\"RCRA_FLAG\"]==\"Y\") & (full_echo_data[\"FAC_ACTIVE_FLAG\"]==\"Y\")].shape[0]\n",
        "ghg_fac = full_echo_data.loc[(full_echo_data[\"GHG_FLAG\"]==\"Y\") & (full_echo_data[\"FAC_ACTIVE_FLAG\"]==\"Y\")].shape[0]\n",
        "\n",
        "display(HTML(\"<h3>There are \"+ str(air_fac) + \" facilities currently regulated under the Clean Air Act.</h3>\"))\n",
        "display(HTML(\"<h3>There are \"+ str(water_fac) + \" facilities currently regulated under the Clean Water Act.</h3>\"))\n",
        "display(HTML(\"<h3>There are \"+ str(waste_fac) + \" facilities currently regulated under RCRA (hazardous waste).</h3>\"))\n",
        "display(HTML(\"<h3>There are \"+ str(ghg_fac) + \" facilities currently reporting greenhouse gas emissions.</h3>\"))"
      ],
      "execution_count": null,
      "outputs": [
        {
          "output_type": "display_data",
          "data": {
            "text/html": [
              "<h3>There are 187090 facilities currently regulated under the Clean Air Act.</h3>"
            ],
            "text/plain": [
              "<IPython.core.display.HTML object>"
            ]
          },
          "metadata": {
            "tags": []
          }
        },
        {
          "output_type": "display_data",
          "data": {
            "text/html": [
              "<h3>There are 351738 facilities currently regulated under the Clean Water Act.</h3>"
            ],
            "text/plain": [
              "<IPython.core.display.HTML object>"
            ]
          },
          "metadata": {
            "tags": []
          }
        },
        {
          "output_type": "display_data",
          "data": {
            "text/html": [
              "<h3>There are 606064 facilities currently regulated under RCRA (hazardous waste).</h3>"
            ],
            "text/plain": [
              "<IPython.core.display.HTML object>"
            ]
          },
          "metadata": {
            "tags": []
          }
        },
        {
          "output_type": "display_data",
          "data": {
            "text/html": [
              "<h3>There are 6125 facilities currently reporting greenhouse gas emissions.</h3>"
            ],
            "text/plain": [
              "<IPython.core.display.HTML object>"
            ]
          },
          "metadata": {
            "tags": []
          }
        }
      ]
    },
    {
      "cell_type": "markdown",
      "metadata": {
        "colab_type": "text",
        "id": "TUf6AQfPbt3z"
      },
      "source": [
        "## Clean Air Act inspections in 2019"
      ]
    },
    {
      "cell_type": "code",
      "metadata": {
        "colab_type": "code",
        "id": "rGzitWnObt33",
        "colab": {
          "base_uri": "https://localhost:8080/",
          "height": 419
        },
        "outputId": "e4599437-306e-4c1e-889a-f3ed8625efdc"
      },
      "source": [
        "# Use SQL to search for and select the data about air stack tests\n",
        "air_inspections = None\n",
        "try:\n",
        "    sql = 'select * from \\\"ICIS-AIR_FCES_PCES\\\" where \\\"ACTUAL_END_DATE\\\" like \\'__-__-2019\\''\n",
        "\n",
        "    # Download the data from that URL\n",
        "    air_inspections = get_data( sql, 'pgm_sys_id' )\n",
        "except EmptyDataError:\n",
        "    print( \"No data found\")\n",
        "\n",
        "air_inspections"
      ],
      "execution_count": null,
      "outputs": [
        {
          "output_type": "execute_result",
          "data": {
            "text/html": [
              "<div>\n",
              "<style scoped>\n",
              "    .dataframe tbody tr th:only-of-type {\n",
              "        vertical-align: middle;\n",
              "    }\n",
              "\n",
              "    .dataframe tbody tr th {\n",
              "        vertical-align: top;\n",
              "    }\n",
              "\n",
              "    .dataframe thead th {\n",
              "        text-align: right;\n",
              "    }\n",
              "</style>\n",
              "<table border=\"1\" class=\"dataframe\">\n",
              "  <thead>\n",
              "    <tr style=\"text-align: right;\">\n",
              "      <th></th>\n",
              "      <th>PGM_SYS_ID</th>\n",
              "      <th>ACTIVITY_ID</th>\n",
              "      <th>STATE_EPA_FLAG</th>\n",
              "      <th>ACTIVITY_TYPE_CODE</th>\n",
              "      <th>ACTIVITY_TYPE_DESC</th>\n",
              "      <th>COMP_MONITOR_TYPE_CODE</th>\n",
              "      <th>COMP_MONITOR_TYPE_DESC</th>\n",
              "      <th>ACTUAL_END_DATE</th>\n",
              "      <th>PROGRAM_CODES</th>\n",
              "    </tr>\n",
              "  </thead>\n",
              "  <tbody>\n",
              "    <tr>\n",
              "      <th>0</th>\n",
              "      <td>020000003606390000</td>\n",
              "      <td>3601943049</td>\n",
              "      <td>E</td>\n",
              "      <td>INS</td>\n",
              "      <td>Inspection/Evaluation</td>\n",
              "      <td>PCE</td>\n",
              "      <td>PCE On-Site</td>\n",
              "      <td>07-23-2019</td>\n",
              "      <td>CAACFC, CAAFESOP</td>\n",
              "    </tr>\n",
              "    <tr>\n",
              "      <th>1</th>\n",
              "      <td>020000003606501000</td>\n",
              "      <td>3601851095</td>\n",
              "      <td>E</td>\n",
              "      <td>INS</td>\n",
              "      <td>Inspection/Evaluation</td>\n",
              "      <td>PFF</td>\n",
              "      <td>PCE Off-Site</td>\n",
              "      <td>05-08-2019</td>\n",
              "      <td>CAAOP</td>\n",
              "    </tr>\n",
              "    <tr>\n",
              "      <th>2</th>\n",
              "      <td>020000003606501000</td>\n",
              "      <td>3601866216</td>\n",
              "      <td>E</td>\n",
              "      <td>INS</td>\n",
              "      <td>Inspection/Evaluation</td>\n",
              "      <td>FOO</td>\n",
              "      <td>FCE On-Site</td>\n",
              "      <td>05-01-2019</td>\n",
              "      <td>CAANAM, CAAOP</td>\n",
              "    </tr>\n",
              "    <tr>\n",
              "      <th>3</th>\n",
              "      <td>020000003606501000</td>\n",
              "      <td>3601972076</td>\n",
              "      <td>E</td>\n",
              "      <td>INS</td>\n",
              "      <td>Inspection/Evaluation</td>\n",
              "      <td>PFF</td>\n",
              "      <td>PCE Off-Site</td>\n",
              "      <td>04-24-2019</td>\n",
              "      <td>CAASIP</td>\n",
              "    </tr>\n",
              "    <tr>\n",
              "      <th>4</th>\n",
              "      <td>020000003606501000</td>\n",
              "      <td>3601972077</td>\n",
              "      <td>E</td>\n",
              "      <td>INS</td>\n",
              "      <td>Inspection/Evaluation</td>\n",
              "      <td>PFF</td>\n",
              "      <td>PCE Off-Site</td>\n",
              "      <td>04-17-2019</td>\n",
              "      <td>CAASIP</td>\n",
              "    </tr>\n",
              "    <tr>\n",
              "      <th>...</th>\n",
              "      <td>...</td>\n",
              "      <td>...</td>\n",
              "      <td>...</td>\n",
              "      <td>...</td>\n",
              "      <td>...</td>\n",
              "      <td>...</td>\n",
              "      <td>...</td>\n",
              "      <td>...</td>\n",
              "      <td>...</td>\n",
              "    </tr>\n",
              "    <tr>\n",
              "      <th>48941</th>\n",
              "      <td>VA0000005155000092</td>\n",
              "      <td>3601769551</td>\n",
              "      <td>S</td>\n",
              "      <td>INS</td>\n",
              "      <td>Inspection/Evaluation</td>\n",
              "      <td>PFF</td>\n",
              "      <td>PCE Off-Site</td>\n",
              "      <td>03-06-2019</td>\n",
              "      <td>CAAMACT, CAANSPS, CAASIP</td>\n",
              "    </tr>\n",
              "    <tr>\n",
              "      <th>48942</th>\n",
              "      <td>VA0000005155000092</td>\n",
              "      <td>3601796849</td>\n",
              "      <td>S</td>\n",
              "      <td>INS</td>\n",
              "      <td>Inspection/Evaluation</td>\n",
              "      <td>PFF</td>\n",
              "      <td>PCE Off-Site</td>\n",
              "      <td>03-28-2019</td>\n",
              "      <td>CAAFESOP, CAAMACT, CAANSPS, CAASIP</td>\n",
              "    </tr>\n",
              "    <tr>\n",
              "      <th>48943</th>\n",
              "      <td>VA0000005155000092</td>\n",
              "      <td>3601818622</td>\n",
              "      <td>S</td>\n",
              "      <td>INS</td>\n",
              "      <td>Inspection/Evaluation</td>\n",
              "      <td>PCE</td>\n",
              "      <td>PCE On-Site</td>\n",
              "      <td>04-16-2019</td>\n",
              "      <td>CAAMACT, CAANSPS</td>\n",
              "    </tr>\n",
              "    <tr>\n",
              "      <th>48944</th>\n",
              "      <td>VA0000005155000092</td>\n",
              "      <td>3601997727</td>\n",
              "      <td>S</td>\n",
              "      <td>INS</td>\n",
              "      <td>Inspection/Evaluation</td>\n",
              "      <td>PFF</td>\n",
              "      <td>PCE Off-Site</td>\n",
              "      <td>09-30-2019</td>\n",
              "      <td>CAAMACT, CAANSPS, CAASIP</td>\n",
              "    </tr>\n",
              "    <tr>\n",
              "      <th>48945</th>\n",
              "      <td>VA0000005162000054</td>\n",
              "      <td>3601934204</td>\n",
              "      <td>S</td>\n",
              "      <td>INS</td>\n",
              "      <td>Inspection/Evaluation</td>\n",
              "      <td>FOO</td>\n",
              "      <td>FCE On-Site</td>\n",
              "      <td>07-31-2019</td>\n",
              "      <td>CAAMACT, CAASIP</td>\n",
              "    </tr>\n",
              "  </tbody>\n",
              "</table>\n",
              "<p>48946 rows × 9 columns</p>\n",
              "</div>"
            ],
            "text/plain": [
              "               PGM_SYS_ID  ...                       PROGRAM_CODES\n",
              "0      020000003606390000  ...                    CAACFC, CAAFESOP\n",
              "1      020000003606501000  ...                               CAAOP\n",
              "2      020000003606501000  ...                       CAANAM, CAAOP\n",
              "3      020000003606501000  ...                              CAASIP\n",
              "4      020000003606501000  ...                              CAASIP\n",
              "...                   ...  ...                                 ...\n",
              "48941  VA0000005155000092  ...            CAAMACT, CAANSPS, CAASIP\n",
              "48942  VA0000005155000092  ...  CAAFESOP, CAAMACT, CAANSPS, CAASIP\n",
              "48943  VA0000005155000092  ...                    CAAMACT, CAANSPS\n",
              "48944  VA0000005155000092  ...            CAAMACT, CAANSPS, CAASIP\n",
              "48945  VA0000005162000054  ...                     CAAMACT, CAASIP\n",
              "\n",
              "[48946 rows x 9 columns]"
            ]
          },
          "metadata": {
            "tags": []
          },
          "execution_count": 5
        }
      ]
    },
    {
      "cell_type": "code",
      "metadata": {
        "colab_type": "code",
        "id": "lZfbWeMnK7Yk",
        "colab": {
          "base_uri": "https://localhost:8080/",
          "height": 57
        },
        "outputId": "79be95c0-4998-4c32-aee8-f028e0069f31"
      },
      "source": [
        "# Number of inspections in 2019 per 1000 regulated facilities\n",
        "air_inspections_metric = formatter((air_inspections.shape[0] / air_fac) * 1000) # Divide by regulated facilities and multiply by desired rate (per 1000)\n",
        "inspections[\"CAA\"] = air_inspections_metric\n",
        "display(HTML(\"<h3>\"+ air_inspections_metric +\" inspections per 1000 facilities</h3>\"))"
      ],
      "execution_count": null,
      "outputs": [
        {
          "output_type": "display_data",
          "data": {
            "text/html": [
              "<h3>261.62 inspections per 1000 facilities</h3>"
            ],
            "text/plain": [
              "<IPython.core.display.HTML object>"
            ]
          },
          "metadata": {
            "tags": []
          }
        }
      ]
    },
    {
      "cell_type": "markdown",
      "metadata": {
        "colab_type": "text",
        "id": "RMjxybzbbt5X"
      },
      "source": [
        "## Violations of the Clean Air Act in 2019\n",
        "\n"
      ]
    },
    {
      "cell_type": "code",
      "metadata": {
        "colab_type": "code",
        "id": "z1N2CuKTbt5Z",
        "colab": {
          "base_uri": "https://localhost:8080/",
          "height": 762
        },
        "outputId": "9e60389a-e05a-4ecf-e201-99dd691a2265"
      },
      "source": [
        "air_violations = None\n",
        "try:\n",
        "    sql = 'select * from \"ICIS-AIR_VIOLATION_HISTORY\" where \"EARLIEST_FRV_DETERM_DATE\" like \\'__-__-2019\\' or \"HPV_DAYZERO_DATE\" like \\'__-__-2019\\''\n",
        "\n",
        "    air_violations = get_data( sql, \"pgm_sys_id\" )\n",
        "\n",
        "    # Remove \"FACIL\" violations, which are paperwork violations according to: https://19january2017snapshot.epa.gov/sites/production/files/2013-10/documents/frvmemo.pdf\n",
        "    # air_violations = air_violations.loc[(air_violations[\"POLLUTANT_DESCS\"]!=\"FACIL\")]\n",
        "except EmptyDataError:\n",
        "    print( \"No data found\")\n",
        "air_violations"
      ],
      "execution_count": null,
      "outputs": [
        {
          "output_type": "execute_result",
          "data": {
            "text/html": [
              "<div>\n",
              "<style scoped>\n",
              "    .dataframe tbody tr th:only-of-type {\n",
              "        vertical-align: middle;\n",
              "    }\n",
              "\n",
              "    .dataframe tbody tr th {\n",
              "        vertical-align: top;\n",
              "    }\n",
              "\n",
              "    .dataframe thead th {\n",
              "        text-align: right;\n",
              "    }\n",
              "</style>\n",
              "<table border=\"1\" class=\"dataframe\">\n",
              "  <thead>\n",
              "    <tr style=\"text-align: right;\">\n",
              "      <th></th>\n",
              "      <th>PGM_SYS_ID</th>\n",
              "      <th>ACTIVITY_ID</th>\n",
              "      <th>AGENCY_TYPE_DESC</th>\n",
              "      <th>STATE_CODE</th>\n",
              "      <th>AIR_LCON_CODE</th>\n",
              "      <th>COMP_DETERMINATION_UID</th>\n",
              "      <th>ENF_RESPONSE_POLICY_CODE</th>\n",
              "      <th>PROGRAM_CODES</th>\n",
              "      <th>PROGRAM_DESCS</th>\n",
              "      <th>POLLUTANT_CODES</th>\n",
              "      <th>POLLUTANT_DESCS</th>\n",
              "      <th>EARLIEST_FRV_DETERM_DATE</th>\n",
              "      <th>HPV_DAYZERO_DATE</th>\n",
              "      <th>HPV_RESOLVED_DATE</th>\n",
              "    </tr>\n",
              "  </thead>\n",
              "  <tbody>\n",
              "    <tr>\n",
              "      <th>0</th>\n",
              "      <td>FL0000001200500009</td>\n",
              "      <td>3601741276</td>\n",
              "      <td>State</td>\n",
              "      <td>FL</td>\n",
              "      <td>NaN</td>\n",
              "      <td>FL000A0000120050000900375</td>\n",
              "      <td>FRV</td>\n",
              "      <td>CAANSPS</td>\n",
              "      <td>New Source Performance Standards</td>\n",
              "      <td>300000329</td>\n",
              "      <td>FACIL</td>\n",
              "      <td>02-06-2019</td>\n",
              "      <td>NaN</td>\n",
              "      <td>05-13-2019</td>\n",
              "    </tr>\n",
              "    <tr>\n",
              "      <th>1</th>\n",
              "      <td>IA0000001901900052</td>\n",
              "      <td>3601913691</td>\n",
              "      <td>State</td>\n",
              "      <td>IA</td>\n",
              "      <td>NaN</td>\n",
              "      <td>IA000A77058</td>\n",
              "      <td>FRV</td>\n",
              "      <td>CAATVP</td>\n",
              "      <td>Title V Permits</td>\n",
              "      <td>NaN</td>\n",
              "      <td>NaN</td>\n",
              "      <td>07-15-2019</td>\n",
              "      <td>NaN</td>\n",
              "      <td>07-24-2019</td>\n",
              "    </tr>\n",
              "    <tr>\n",
              "      <th>2</th>\n",
              "      <td>IL000163020AAB</td>\n",
              "      <td>3601954355</td>\n",
              "      <td>State</td>\n",
              "      <td>IL</td>\n",
              "      <td>NaN</td>\n",
              "      <td>IL000AA-2019-00133</td>\n",
              "      <td>FRV</td>\n",
              "      <td>CAASIP CAATVP</td>\n",
              "      <td>State Implementation Plan for National Primary...</td>\n",
              "      <td>300000243</td>\n",
              "      <td>VOLATILE ORGANIC COMPOUNDS (VOCS)</td>\n",
              "      <td>07-25-2019</td>\n",
              "      <td>NaN</td>\n",
              "      <td>NaN</td>\n",
              "    </tr>\n",
              "    <tr>\n",
              "      <th>3</th>\n",
              "      <td>IN0000001803900097</td>\n",
              "      <td>3601869864</td>\n",
              "      <td>State</td>\n",
              "      <td>IN</td>\n",
              "      <td>NaN</td>\n",
              "      <td>IN000A76378</td>\n",
              "      <td>FRV</td>\n",
              "      <td>CAATVP</td>\n",
              "      <td>Title V Permits</td>\n",
              "      <td>300000329</td>\n",
              "      <td>FACIL</td>\n",
              "      <td>05-06-2019</td>\n",
              "      <td>NaN</td>\n",
              "      <td>NaN</td>\n",
              "    </tr>\n",
              "    <tr>\n",
              "      <th>4</th>\n",
              "      <td>IN0000001803300043</td>\n",
              "      <td>3601685463</td>\n",
              "      <td>State</td>\n",
              "      <td>IN</td>\n",
              "      <td>NaN</td>\n",
              "      <td>IN000A74118</td>\n",
              "      <td>HPV</td>\n",
              "      <td>CAANSPS</td>\n",
              "      <td>New Source Performance Standards</td>\n",
              "      <td>10373</td>\n",
              "      <td>Particulate matter - PM10</td>\n",
              "      <td>12-03-2018</td>\n",
              "      <td>01-13-2019</td>\n",
              "      <td>NaN</td>\n",
              "    </tr>\n",
              "    <tr>\n",
              "      <th>...</th>\n",
              "      <td>...</td>\n",
              "      <td>...</td>\n",
              "      <td>...</td>\n",
              "      <td>...</td>\n",
              "      <td>...</td>\n",
              "      <td>...</td>\n",
              "      <td>...</td>\n",
              "      <td>...</td>\n",
              "      <td>...</td>\n",
              "      <td>...</td>\n",
              "      <td>...</td>\n",
              "      <td>...</td>\n",
              "      <td>...</td>\n",
              "      <td>...</td>\n",
              "    </tr>\n",
              "    <tr>\n",
              "      <th>4043</th>\n",
              "      <td>CO0000000803102488</td>\n",
              "      <td>3602151392</td>\n",
              "      <td>State</td>\n",
              "      <td>CO</td>\n",
              "      <td>NaN</td>\n",
              "      <td>CO000A0000080310248800002</td>\n",
              "      <td>FRV</td>\n",
              "      <td>CAASIP</td>\n",
              "      <td>State Implementation Plan for National Primary...</td>\n",
              "      <td>300000243</td>\n",
              "      <td>VOLATILE ORGANIC COMPOUNDS (VOCS)</td>\n",
              "      <td>08-04-2019</td>\n",
              "      <td>NaN</td>\n",
              "      <td>02-12-2020</td>\n",
              "    </tr>\n",
              "    <tr>\n",
              "      <th>4044</th>\n",
              "      <td>MN0000002700100021</td>\n",
              "      <td>3602178887</td>\n",
              "      <td>State</td>\n",
              "      <td>MN</td>\n",
              "      <td>NaN</td>\n",
              "      <td>MN000A00100202PEN20191</td>\n",
              "      <td>FRV</td>\n",
              "      <td>CAATVP</td>\n",
              "      <td>Title V Permits</td>\n",
              "      <td>300000329</td>\n",
              "      <td>FACIL</td>\n",
              "      <td>04-11-2019</td>\n",
              "      <td>NaN</td>\n",
              "      <td>01-03-2020</td>\n",
              "    </tr>\n",
              "    <tr>\n",
              "      <th>4045</th>\n",
              "      <td>CABAAA0085</td>\n",
              "      <td>3602188895</td>\n",
              "      <td>Local</td>\n",
              "      <td>CA</td>\n",
              "      <td>BAA</td>\n",
              "      <td>CABAAA80845</td>\n",
              "      <td>HPV</td>\n",
              "      <td>CAATVP</td>\n",
              "      <td>Title V Permits</td>\n",
              "      <td>300000243</td>\n",
              "      <td>VOLATILE ORGANIC COMPOUNDS (VOCS)</td>\n",
              "      <td>07-23-2019</td>\n",
              "      <td>07-23-2019</td>\n",
              "      <td>06-04-2020</td>\n",
              "    </tr>\n",
              "    <tr>\n",
              "      <th>4046</th>\n",
              "      <td>PA000633228</td>\n",
              "      <td>3602223361</td>\n",
              "      <td>State</td>\n",
              "      <td>PA</td>\n",
              "      <td>NaN</td>\n",
              "      <td>PA000A0000F00000002901815</td>\n",
              "      <td>FRV</td>\n",
              "      <td>CAASIP</td>\n",
              "      <td>State Implementation Plan for National Primary...</td>\n",
              "      <td>300000329</td>\n",
              "      <td>FACIL</td>\n",
              "      <td>07-02-2019</td>\n",
              "      <td>NaN</td>\n",
              "      <td>NaN</td>\n",
              "    </tr>\n",
              "    <tr>\n",
              "      <th>4047</th>\n",
              "      <td>NY0000005415200205</td>\n",
              "      <td>3602231697</td>\n",
              "      <td>State</td>\n",
              "      <td>NY</td>\n",
              "      <td>NaN</td>\n",
              "      <td>NY000A0000541520020500304</td>\n",
              "      <td>FRV</td>\n",
              "      <td>CAASIP</td>\n",
              "      <td>State Implementation Plan for National Primary...</td>\n",
              "      <td>NaN</td>\n",
              "      <td>NaN</td>\n",
              "      <td>01-08-2019</td>\n",
              "      <td>NaN</td>\n",
              "      <td>NaN</td>\n",
              "    </tr>\n",
              "  </tbody>\n",
              "</table>\n",
              "<p>4048 rows × 14 columns</p>\n",
              "</div>"
            ],
            "text/plain": [
              "              PGM_SYS_ID  ACTIVITY_ID  ... HPV_DAYZERO_DATE HPV_RESOLVED_DATE\n",
              "0     FL0000001200500009   3601741276  ...              NaN        05-13-2019\n",
              "1     IA0000001901900052   3601913691  ...              NaN        07-24-2019\n",
              "2         IL000163020AAB   3601954355  ...              NaN               NaN\n",
              "3     IN0000001803900097   3601869864  ...              NaN               NaN\n",
              "4     IN0000001803300043   3601685463  ...       01-13-2019               NaN\n",
              "...                  ...          ...  ...              ...               ...\n",
              "4043  CO0000000803102488   3602151392  ...              NaN        02-12-2020\n",
              "4044  MN0000002700100021   3602178887  ...              NaN        01-03-2020\n",
              "4045          CABAAA0085   3602188895  ...       07-23-2019        06-04-2020\n",
              "4046         PA000633228   3602223361  ...              NaN               NaN\n",
              "4047  NY0000005415200205   3602231697  ...              NaN               NaN\n",
              "\n",
              "[4048 rows x 14 columns]"
            ]
          },
          "metadata": {
            "tags": []
          },
          "execution_count": 7
        }
      ]
    },
    {
      "cell_type": "code",
      "metadata": {
        "cellView": "both",
        "colab_type": "code",
        "id": "KUQs-_I045oc",
        "colab": {
          "base_uri": "https://localhost:8080/",
          "height": 57
        },
        "outputId": "afad56e9-5ba3-48b3-d6e4-ef248ec83142"
      },
      "source": [
        "# Number of high priority and federally reportable violations per 1000 regulated facilities\n",
        "air_violations_metric = formatter((air_violations.shape[0] / air_fac) * 1000) # Divide by regulated facilities and multiply by desired rate (per 1000)\n",
        "violations[\"CAA\"] = air_violations_metric\n",
        "display(HTML(\"<h3>\"+air_violations_metric+\" violations per 1000 facilities </h3>\"))"
      ],
      "execution_count": null,
      "outputs": [
        {
          "output_type": "display_data",
          "data": {
            "text/html": [
              "<h3>21.64 violations per 1000 facilities </h3>"
            ],
            "text/plain": [
              "<IPython.core.display.HTML object>"
            ]
          },
          "metadata": {
            "tags": []
          }
        }
      ]
    },
    {
      "cell_type": "markdown",
      "metadata": {
        "colab_type": "text",
        "id": "DGdQDifqo3Bg"
      },
      "source": [
        "## Formal Enforcement Actions and Penalties under the Clean Air Act in 2019"
      ]
    },
    {
      "cell_type": "code",
      "metadata": {
        "colab_type": "code",
        "id": "vKHjSEl6o0tp",
        "colab": {
          "base_uri": "https://localhost:8080/",
          "height": 436
        },
        "outputId": "bd2f0637-9791-4f47-aec6-ceb3656309ff"
      },
      "source": [
        "air_enforcements = None\n",
        "try:\n",
        "    sql = 'select * from \"ICIS-AIR_FORMAL_ACTIONS\" where \"SETTLEMENT_ENTERED_DATE\" like \\'__/__/2019\\''\n",
        "\n",
        "    air_enforcements = get_data( sql, \"pgm_sys_id\" )\n",
        "except EmptyDataError:\n",
        "    print( \"No data found\")\n",
        "air_enforcements"
      ],
      "execution_count": null,
      "outputs": [
        {
          "output_type": "execute_result",
          "data": {
            "text/html": [
              "<div>\n",
              "<style scoped>\n",
              "    .dataframe tbody tr th:only-of-type {\n",
              "        vertical-align: middle;\n",
              "    }\n",
              "\n",
              "    .dataframe tbody tr th {\n",
              "        vertical-align: top;\n",
              "    }\n",
              "\n",
              "    .dataframe thead th {\n",
              "        text-align: right;\n",
              "    }\n",
              "</style>\n",
              "<table border=\"1\" class=\"dataframe\">\n",
              "  <thead>\n",
              "    <tr style=\"text-align: right;\">\n",
              "      <th></th>\n",
              "      <th>PGM_SYS_ID</th>\n",
              "      <th>ACTIVITY_ID</th>\n",
              "      <th>ENF_IDENTIFIER</th>\n",
              "      <th>ACTIVITY_TYPE_CODE</th>\n",
              "      <th>ACTIVITY_TYPE_DESC</th>\n",
              "      <th>STATE_EPA_FLAG</th>\n",
              "      <th>ENF_TYPE_CODE</th>\n",
              "      <th>ENF_TYPE_DESC</th>\n",
              "      <th>SETTLEMENT_ENTERED_DATE</th>\n",
              "      <th>PENALTY_AMOUNT</th>\n",
              "    </tr>\n",
              "  </thead>\n",
              "  <tbody>\n",
              "    <tr>\n",
              "      <th>0</th>\n",
              "      <td>PAACH0004200300265</td>\n",
              "      <td>600012807</td>\n",
              "      <td>03-2006-0311</td>\n",
              "      <td>JDC</td>\n",
              "      <td>Judicial</td>\n",
              "      <td>E</td>\n",
              "      <td>PRN</td>\n",
              "      <td>Pre-Referral Negotiation</td>\n",
              "      <td>08/09/2019</td>\n",
              "      <td>0.0</td>\n",
              "    </tr>\n",
              "    <tr>\n",
              "      <th>1</th>\n",
              "      <td>WI0000005503100010</td>\n",
              "      <td>1400038060</td>\n",
              "      <td>05-2009-5506</td>\n",
              "      <td>JDC</td>\n",
              "      <td>Judicial</td>\n",
              "      <td>E</td>\n",
              "      <td>CIV</td>\n",
              "      <td>Civil Judicial Action</td>\n",
              "      <td>05/17/2019</td>\n",
              "      <td>0.0</td>\n",
              "    </tr>\n",
              "    <tr>\n",
              "      <th>2</th>\n",
              "      <td>WI0000005503100062</td>\n",
              "      <td>1400038060</td>\n",
              "      <td>05-2009-5506</td>\n",
              "      <td>JDC</td>\n",
              "      <td>Judicial</td>\n",
              "      <td>E</td>\n",
              "      <td>CIV</td>\n",
              "      <td>Civil Judicial Action</td>\n",
              "      <td>05/17/2019</td>\n",
              "      <td>0.0</td>\n",
              "    </tr>\n",
              "    <tr>\n",
              "      <th>3</th>\n",
              "      <td>MI00000000000A0703</td>\n",
              "      <td>3601603698</td>\n",
              "      <td>MI000AA0703FRV0000013366</td>\n",
              "      <td>AFR</td>\n",
              "      <td>Administrative - Formal</td>\n",
              "      <td>S</td>\n",
              "      <td>SCAAAO</td>\n",
              "      <td>Administrative Order</td>\n",
              "      <td>08/08/2019</td>\n",
              "      <td>24850.0</td>\n",
              "    </tr>\n",
              "    <tr>\n",
              "      <th>4</th>\n",
              "      <td>MO0000002907100003</td>\n",
              "      <td>1800024634</td>\n",
              "      <td>07-2009-0268</td>\n",
              "      <td>JDC</td>\n",
              "      <td>Judicial</td>\n",
              "      <td>E</td>\n",
              "      <td>CIV</td>\n",
              "      <td>Civil Judicial Action</td>\n",
              "      <td>09/30/2019</td>\n",
              "      <td>0.0</td>\n",
              "    </tr>\n",
              "    <tr>\n",
              "      <th>...</th>\n",
              "      <td>...</td>\n",
              "      <td>...</td>\n",
              "      <td>...</td>\n",
              "      <td>...</td>\n",
              "      <td>...</td>\n",
              "      <td>...</td>\n",
              "      <td>...</td>\n",
              "      <td>...</td>\n",
              "      <td>...</td>\n",
              "      <td>...</td>\n",
              "    </tr>\n",
              "    <tr>\n",
              "      <th>2641</th>\n",
              "      <td>MN0000002712900051</td>\n",
              "      <td>3602044359</td>\n",
              "      <td>MN000A00004699PEN20191</td>\n",
              "      <td>AFR</td>\n",
              "      <td>Administrative - Formal</td>\n",
              "      <td>S</td>\n",
              "      <td>SCAAAO</td>\n",
              "      <td>Administrative Order</td>\n",
              "      <td>08/15/2019</td>\n",
              "      <td>0.0</td>\n",
              "    </tr>\n",
              "    <tr>\n",
              "      <th>2642</th>\n",
              "      <td>MN0000002701300084</td>\n",
              "      <td>3602044348</td>\n",
              "      <td>MN000A00000535PEN20191</td>\n",
              "      <td>AFR</td>\n",
              "      <td>Administrative - Formal</td>\n",
              "      <td>S</td>\n",
              "      <td>SCAAAO</td>\n",
              "      <td>Administrative Order</td>\n",
              "      <td>08/07/2019</td>\n",
              "      <td>0.0</td>\n",
              "    </tr>\n",
              "    <tr>\n",
              "      <th>2643</th>\n",
              "      <td>ME0000002300509022</td>\n",
              "      <td>3600396111</td>\n",
              "      <td>01-2015-1017</td>\n",
              "      <td>JDC</td>\n",
              "      <td>Judicial</td>\n",
              "      <td>E</td>\n",
              "      <td>CIV</td>\n",
              "      <td>Civil Judicial Action</td>\n",
              "      <td>12/19/2019</td>\n",
              "      <td>40000.0</td>\n",
              "    </tr>\n",
              "    <tr>\n",
              "      <th>2644</th>\n",
              "      <td>OR0000004105101876</td>\n",
              "      <td>3602093446</td>\n",
              "      <td>OR000AF261876000000001399</td>\n",
              "      <td>AFR</td>\n",
              "      <td>Administrative - Formal</td>\n",
              "      <td>S</td>\n",
              "      <td>SCAAAO</td>\n",
              "      <td>Administrative Order</td>\n",
              "      <td>10/22/2019</td>\n",
              "      <td>46800.0</td>\n",
              "    </tr>\n",
              "    <tr>\n",
              "      <th>2645</th>\n",
              "      <td>MI00000000000N7688</td>\n",
              "      <td>3602237523</td>\n",
              "      <td>MI000AN7688FRV0000038302</td>\n",
              "      <td>AFR</td>\n",
              "      <td>Administrative - Formal</td>\n",
              "      <td>S</td>\n",
              "      <td>SCAAAO</td>\n",
              "      <td>Administrative Order</td>\n",
              "      <td>08/08/2019</td>\n",
              "      <td>54600.0</td>\n",
              "    </tr>\n",
              "  </tbody>\n",
              "</table>\n",
              "<p>2646 rows × 10 columns</p>\n",
              "</div>"
            ],
            "text/plain": [
              "              PGM_SYS_ID  ACTIVITY_ID  ... SETTLEMENT_ENTERED_DATE PENALTY_AMOUNT\n",
              "0     PAACH0004200300265    600012807  ...              08/09/2019            0.0\n",
              "1     WI0000005503100010   1400038060  ...              05/17/2019            0.0\n",
              "2     WI0000005503100062   1400038060  ...              05/17/2019            0.0\n",
              "3     MI00000000000A0703   3601603698  ...              08/08/2019        24850.0\n",
              "4     MO0000002907100003   1800024634  ...              09/30/2019            0.0\n",
              "...                  ...          ...  ...                     ...            ...\n",
              "2641  MN0000002712900051   3602044359  ...              08/15/2019            0.0\n",
              "2642  MN0000002701300084   3602044348  ...              08/07/2019            0.0\n",
              "2643  ME0000002300509022   3600396111  ...              12/19/2019        40000.0\n",
              "2644  OR0000004105101876   3602093446  ...              10/22/2019        46800.0\n",
              "2645  MI00000000000N7688   3602237523  ...              08/08/2019        54600.0\n",
              "\n",
              "[2646 rows x 10 columns]"
            ]
          },
          "metadata": {
            "tags": []
          },
          "execution_count": 9
        }
      ]
    },
    {
      "cell_type": "code",
      "metadata": {
        "colab_type": "code",
        "id": "3LYD5_dd6bub",
        "colab": {
          "base_uri": "https://localhost:8080/",
          "height": 57
        },
        "outputId": "cf51d3f6-aeea-43af-8583-3fa180aae19e"
      },
      "source": [
        "# Number of formal actions in 2019 per violation\n",
        "air_enforcements_metric = formatter(air_enforcements.shape[0]/air_violations.shape[0]) # Formal actions divided by number of violations\n",
        "enforcements[\"CAA\"] = air_enforcements_metric\n",
        "display(HTML(\"<h3>\"+air_enforcements_metric +\" formal enforcement actions per violation</h3>\"))"
      ],
      "execution_count": null,
      "outputs": [
        {
          "output_type": "display_data",
          "data": {
            "text/html": [
              "<h3>0.65 formal enforcement actions per violation</h3>"
            ],
            "text/plain": [
              "<IPython.core.display.HTML object>"
            ]
          },
          "metadata": {
            "tags": []
          }
        }
      ]
    },
    {
      "cell_type": "code",
      "metadata": {
        "colab_type": "code",
        "id": "Z7ykKG7V7G4b",
        "colab": {
          "base_uri": "https://localhost:8080/",
          "height": 130
        },
        "outputId": "ab2d34ae-bb9b-4f9f-d5eb-0f080ca408f8"
      },
      "source": [
        "# Penalties each year per violating facility\n",
        "air_penalties = air_enforcements.loc[air_enforcements[\"PENALTY_AMOUNT\"]>0]\n",
        "air_penalties_metric = formatter(sum(air_penalties[\"PENALTY_AMOUNT\"]) / len(air_violations[\"PGM_SYS_ID\"].unique())) #Divide the sum of penalties by number of violating facilities\n",
        "air_penalties_max = formatter(max(air_penalties[\"PENALTY_AMOUNT\"])) \n",
        "air_penalties_min = formatter(min(air_penalties[\"PENALTY_AMOUNT\"])) \n",
        "penalties[\"CAA\"] = air_penalties_metric\n",
        "display(HTML(\"<h3>$\"+air_penalties_metric +\" per facility in violation</h3>\"))\n",
        "display(HTML(\"<h3>Max: $\"+air_penalties_max +\"</h3>\"))\n",
        "display(HTML(\"<h3>Min: $\"+air_penalties_min +\"</h3>\"))"
      ],
      "execution_count": null,
      "outputs": [
        {
          "output_type": "display_data",
          "data": {
            "text/html": [
              "<h3>$22985.04 per facility in violation</h3>"
            ],
            "text/plain": [
              "<IPython.core.display.HTML object>"
            ]
          },
          "metadata": {
            "tags": []
          }
        },
        {
          "output_type": "display_data",
          "data": {
            "text/html": [
              "<h3>Max: $3709513.00</h3>"
            ],
            "text/plain": [
              "<IPython.core.display.HTML object>"
            ]
          },
          "metadata": {
            "tags": []
          }
        },
        {
          "output_type": "display_data",
          "data": {
            "text/html": [
              "<h3>Min: $100.00</h3>"
            ],
            "text/plain": [
              "<IPython.core.display.HTML object>"
            ]
          },
          "metadata": {
            "tags": []
          }
        }
      ]
    },
    {
      "cell_type": "markdown",
      "metadata": {
        "colab_type": "text",
        "id": "bevtiFu2bt6M"
      },
      "source": [
        "---"
      ]
    },
    {
      "cell_type": "markdown",
      "metadata": {
        "colab_type": "text",
        "id": "hOmeJnXgnzOC"
      },
      "source": [
        "## Clean Water Act inspections in 2019"
      ]
    },
    {
      "cell_type": "code",
      "metadata": {
        "colab_type": "code",
        "id": "gHXwXWcqnyNO",
        "colab": {
          "base_uri": "https://localhost:8080/",
          "height": 450
        },
        "outputId": "03564bb7-c922-4acd-cac5-453ec2993b2c"
      },
      "source": [
        "# Find facilities with pollutant exceedences\n",
        "water_inspections = None\n",
        "try:\n",
        "    sql = 'select \"NPDES_ID\", \"REGISTRY_ID\", \"ACTUAL_END_DATE\", \"STATE_EPA_FLAG\"' + \\\n",
        "        ' from \"NPDES_INSPECTIONS\" where \"ACTUAL_END_DATE\" like \\'__/__/2019\\''\n",
        "\n",
        "    water_inspections = get_data( sql, \"NPDES_ID\" ) \n",
        "except EmptyDataError:\n",
        "    print( \"No data found\")\n",
        "water_inspections"
      ],
      "execution_count": null,
      "outputs": [
        {
          "output_type": "execute_result",
          "data": {
            "text/html": [
              "<div>\n",
              "<style scoped>\n",
              "    .dataframe tbody tr th:only-of-type {\n",
              "        vertical-align: middle;\n",
              "    }\n",
              "\n",
              "    .dataframe tbody tr th {\n",
              "        vertical-align: top;\n",
              "    }\n",
              "\n",
              "    .dataframe thead th {\n",
              "        text-align: right;\n",
              "    }\n",
              "</style>\n",
              "<table border=\"1\" class=\"dataframe\">\n",
              "  <thead>\n",
              "    <tr style=\"text-align: right;\">\n",
              "      <th></th>\n",
              "      <th>REGISTRY_ID</th>\n",
              "      <th>ACTUAL_END_DATE</th>\n",
              "      <th>STATE_EPA_FLAG</th>\n",
              "    </tr>\n",
              "    <tr>\n",
              "      <th>NPDES_ID</th>\n",
              "      <th></th>\n",
              "      <th></th>\n",
              "      <th></th>\n",
              "    </tr>\n",
              "  </thead>\n",
              "  <tbody>\n",
              "    <tr>\n",
              "      <th>AK0000507</th>\n",
              "      <td>110030488620</td>\n",
              "      <td>12/17/2019</td>\n",
              "      <td>S</td>\n",
              "    </tr>\n",
              "    <tr>\n",
              "      <th>AK0021385</th>\n",
              "      <td>110000761453</td>\n",
              "      <td>08/26/2019</td>\n",
              "      <td>E</td>\n",
              "    </tr>\n",
              "    <tr>\n",
              "      <th>AK0022497</th>\n",
              "      <td>110039730459</td>\n",
              "      <td>02/25/2019</td>\n",
              "      <td>S</td>\n",
              "    </tr>\n",
              "    <tr>\n",
              "      <th>AKG370029</th>\n",
              "      <td>110028064387</td>\n",
              "      <td>08/21/2019</td>\n",
              "      <td>S</td>\n",
              "    </tr>\n",
              "    <tr>\n",
              "      <th>AKG520042</th>\n",
              "      <td>110064604094</td>\n",
              "      <td>06/07/2019</td>\n",
              "      <td>S</td>\n",
              "    </tr>\n",
              "    <tr>\n",
              "      <th>...</th>\n",
              "      <td>...</td>\n",
              "      <td>...</td>\n",
              "      <td>...</td>\n",
              "    </tr>\n",
              "    <tr>\n",
              "      <th>WYR001018</th>\n",
              "      <td>110055190369</td>\n",
              "      <td>03/08/2019</td>\n",
              "      <td>S</td>\n",
              "    </tr>\n",
              "    <tr>\n",
              "      <th>WYR001071</th>\n",
              "      <td>110055194533</td>\n",
              "      <td>11/15/2019</td>\n",
              "      <td>S</td>\n",
              "    </tr>\n",
              "    <tr>\n",
              "      <th>WYR001156</th>\n",
              "      <td>110064597716</td>\n",
              "      <td>02/12/2019</td>\n",
              "      <td>S</td>\n",
              "    </tr>\n",
              "    <tr>\n",
              "      <th>WYR001176</th>\n",
              "      <td>110064614715</td>\n",
              "      <td>02/26/2019</td>\n",
              "      <td>S</td>\n",
              "    </tr>\n",
              "    <tr>\n",
              "      <th>WYR001253</th>\n",
              "      <td>110055183705</td>\n",
              "      <td>01/30/2019</td>\n",
              "      <td>S</td>\n",
              "    </tr>\n",
              "  </tbody>\n",
              "</table>\n",
              "<p>52067 rows × 3 columns</p>\n",
              "</div>"
            ],
            "text/plain": [
              "            REGISTRY_ID ACTUAL_END_DATE STATE_EPA_FLAG\n",
              "NPDES_ID                                              \n",
              "AK0000507  110030488620      12/17/2019              S\n",
              "AK0021385  110000761453      08/26/2019              E\n",
              "AK0022497  110039730459      02/25/2019              S\n",
              "AKG370029  110028064387      08/21/2019              S\n",
              "AKG520042  110064604094      06/07/2019              S\n",
              "...                 ...             ...            ...\n",
              "WYR001018  110055190369      03/08/2019              S\n",
              "WYR001071  110055194533      11/15/2019              S\n",
              "WYR001156  110064597716      02/12/2019              S\n",
              "WYR001176  110064614715      02/26/2019              S\n",
              "WYR001253  110055183705      01/30/2019              S\n",
              "\n",
              "[52067 rows x 3 columns]"
            ]
          },
          "metadata": {
            "tags": []
          },
          "execution_count": 12
        }
      ]
    },
    {
      "cell_type": "code",
      "metadata": {
        "colab_type": "code",
        "id": "YoBlWh8V8BD-",
        "colab": {
          "base_uri": "https://localhost:8080/",
          "height": 57
        },
        "outputId": "22511433-4954-456b-b026-708912b30f55"
      },
      "source": [
        "# Number of inspections in 2019 per 1000 regulated facilities\n",
        "water_inspections_metric = formatter((water_inspections.shape[0] / water_fac) * 1000) #Divide by regulated facilities and multiply by desired rate (per 1000)\n",
        "inspections[\"CWA\"] = water_inspections_metric\n",
        "display(HTML(\"<h3>\"+water_inspections_metric +\" inspections per 1000 facilities</h3>\"))"
      ],
      "execution_count": null,
      "outputs": [
        {
          "output_type": "display_data",
          "data": {
            "text/html": [
              "<h3>148.03 inspections per 1000 facilities</h3>"
            ],
            "text/plain": [
              "<IPython.core.display.HTML object>"
            ]
          },
          "metadata": {
            "tags": []
          }
        }
      ]
    },
    {
      "cell_type": "markdown",
      "metadata": {
        "colab_type": "text",
        "id": "C6ntT917bt6N"
      },
      "source": [
        "## Violations of the Clean Water Act in 2019"
      ]
    },
    {
      "cell_type": "code",
      "metadata": {
        "colab_type": "code",
        "id": "FmsI5gJAbt6P",
        "colab": {
          "base_uri": "https://localhost:8080/",
          "height": 450
        },
        "outputId": "1b93bacc-9a35-42a2-d5b4-e2dfe466ec1f"
      },
      "source": [
        "# Find facilities with water permit violations\n",
        "water_violations = None\n",
        "try:\n",
        "    sql = 'select * from \"NPDES_QNCR_HISTORY\" where \"YEARQTR\" = 20191 or \"YEARQTR\" = 20192 or \"YEARQTR\" = 20193 or \"YEARQTR\" = 20194'\n",
        "    water_violations = get_data( sql, \"NPDES_ID\" ) \n",
        "except EmptyDataError:\n",
        "    print( \"No data found\")\n",
        "water_violations"
      ],
      "execution_count": null,
      "outputs": [
        {
          "output_type": "execute_result",
          "data": {
            "text/html": [
              "<div>\n",
              "<style scoped>\n",
              "    .dataframe tbody tr th:only-of-type {\n",
              "        vertical-align: middle;\n",
              "    }\n",
              "\n",
              "    .dataframe tbody tr th {\n",
              "        vertical-align: top;\n",
              "    }\n",
              "\n",
              "    .dataframe thead th {\n",
              "        text-align: right;\n",
              "    }\n",
              "</style>\n",
              "<table border=\"1\" class=\"dataframe\">\n",
              "  <thead>\n",
              "    <tr style=\"text-align: right;\">\n",
              "      <th></th>\n",
              "      <th>YEARQTR</th>\n",
              "      <th>HLRNC</th>\n",
              "      <th>NUME90Q</th>\n",
              "      <th>NUMCVDT</th>\n",
              "      <th>NUMSVCD</th>\n",
              "      <th>NUMPSCH</th>\n",
              "    </tr>\n",
              "    <tr>\n",
              "      <th>NPDES_ID</th>\n",
              "      <th></th>\n",
              "      <th></th>\n",
              "      <th></th>\n",
              "      <th></th>\n",
              "      <th></th>\n",
              "      <th></th>\n",
              "    </tr>\n",
              "  </thead>\n",
              "  <tbody>\n",
              "    <tr>\n",
              "      <th>AK0000272</th>\n",
              "      <td>20191</td>\n",
              "      <td>C</td>\n",
              "      <td>0</td>\n",
              "      <td>0</td>\n",
              "      <td>0</td>\n",
              "      <td>0</td>\n",
              "    </tr>\n",
              "    <tr>\n",
              "      <th>AK0000272</th>\n",
              "      <td>20192</td>\n",
              "      <td>C</td>\n",
              "      <td>0</td>\n",
              "      <td>0</td>\n",
              "      <td>0</td>\n",
              "      <td>0</td>\n",
              "    </tr>\n",
              "    <tr>\n",
              "      <th>AK0000272</th>\n",
              "      <td>20193</td>\n",
              "      <td>C</td>\n",
              "      <td>0</td>\n",
              "      <td>0</td>\n",
              "      <td>0</td>\n",
              "      <td>0</td>\n",
              "    </tr>\n",
              "    <tr>\n",
              "      <th>AK0000345</th>\n",
              "      <td>20191</td>\n",
              "      <td></td>\n",
              "      <td>0</td>\n",
              "      <td>0</td>\n",
              "      <td>0</td>\n",
              "      <td>2</td>\n",
              "    </tr>\n",
              "    <tr>\n",
              "      <th>AK0000345</th>\n",
              "      <td>20192</td>\n",
              "      <td></td>\n",
              "      <td>0</td>\n",
              "      <td>0</td>\n",
              "      <td>0</td>\n",
              "      <td>2</td>\n",
              "    </tr>\n",
              "    <tr>\n",
              "      <th>...</th>\n",
              "      <td>...</td>\n",
              "      <td>...</td>\n",
              "      <td>...</td>\n",
              "      <td>...</td>\n",
              "      <td>...</td>\n",
              "      <td>...</td>\n",
              "    </tr>\n",
              "    <tr>\n",
              "      <th>WVG550359</th>\n",
              "      <td>20192</td>\n",
              "      <td>C</td>\n",
              "      <td>0</td>\n",
              "      <td>0</td>\n",
              "      <td>0</td>\n",
              "      <td>0</td>\n",
              "    </tr>\n",
              "    <tr>\n",
              "      <th>WVG550359</th>\n",
              "      <td>20193</td>\n",
              "      <td>C</td>\n",
              "      <td>0</td>\n",
              "      <td>0</td>\n",
              "      <td>0</td>\n",
              "      <td>0</td>\n",
              "    </tr>\n",
              "    <tr>\n",
              "      <th>WVG550359</th>\n",
              "      <td>20194</td>\n",
              "      <td>C</td>\n",
              "      <td>0</td>\n",
              "      <td>0</td>\n",
              "      <td>0</td>\n",
              "      <td>0</td>\n",
              "    </tr>\n",
              "    <tr>\n",
              "      <th>WVG550361</th>\n",
              "      <td>20191</td>\n",
              "      <td>D</td>\n",
              "      <td>0</td>\n",
              "      <td>0</td>\n",
              "      <td>1</td>\n",
              "      <td>0</td>\n",
              "    </tr>\n",
              "    <tr>\n",
              "      <th>WVG550361</th>\n",
              "      <td>20192</td>\n",
              "      <td>D</td>\n",
              "      <td>0</td>\n",
              "      <td>0</td>\n",
              "      <td>1</td>\n",
              "      <td>0</td>\n",
              "    </tr>\n",
              "  </tbody>\n",
              "</table>\n",
              "<p>490942 rows × 6 columns</p>\n",
              "</div>"
            ],
            "text/plain": [
              "           YEARQTR HLRNC  NUME90Q  NUMCVDT  NUMSVCD  NUMPSCH\n",
              "NPDES_ID                                                    \n",
              "AK0000272    20191     C        0        0        0        0\n",
              "AK0000272    20192     C        0        0        0        0\n",
              "AK0000272    20193     C        0        0        0        0\n",
              "AK0000345    20191              0        0        0        2\n",
              "AK0000345    20192              0        0        0        2\n",
              "...            ...   ...      ...      ...      ...      ...\n",
              "WVG550359    20192     C        0        0        0        0\n",
              "WVG550359    20193     C        0        0        0        0\n",
              "WVG550359    20194     C        0        0        0        0\n",
              "WVG550361    20191     D        0        0        1        0\n",
              "WVG550361    20192     D        0        0        1        0\n",
              "\n",
              "[490942 rows x 6 columns]"
            ]
          },
          "metadata": {
            "tags": []
          },
          "execution_count": 14
        }
      ]
    },
    {
      "cell_type": "code",
      "metadata": {
        "colab_type": "code",
        "id": "EhmXcwIQ8kXA",
        "colab": {
          "base_uri": "https://localhost:8080/",
          "height": 57
        },
        "outputId": "63f027fe-9dce-47af-df91-33c968e3112b"
      },
      "source": [
        "# Number of violations each year per 1000 regulated facilities\n",
        "# Sum violations \n",
        "water_violations[\"Sum\"] = water_violations[\"NUME90Q\"]\t+ water_violations[\"NUMCVDT\"] + water_violations[\"NUMSVCD\"]\t+ water_violations[\"NUMPSCH\"]\n",
        "water_violations_metric = formatter((np.sum(water_violations[\"Sum\"]) / water_fac) * 1000) #Divide by regulated facilities and multiply by desired rate (per 1000)\n",
        "violations[\"CWA\"] = water_violations_metric\n",
        "display(HTML(\"<h3>\"+water_violations_metric+\" violations per 1000 facilities</h3>\"))"
      ],
      "execution_count": null,
      "outputs": [
        {
          "output_type": "display_data",
          "data": {
            "text/html": [
              "<h3>1107.71 violations per 1000 facilities</h3>"
            ],
            "text/plain": [
              "<IPython.core.display.HTML object>"
            ]
          },
          "metadata": {
            "tags": []
          }
        }
      ]
    },
    {
      "cell_type": "markdown",
      "metadata": {
        "colab_type": "text",
        "id": "8rMriPuXpkA_"
      },
      "source": [
        "## Enforcement Actions and Penalties under the Clean Water Act in 2019"
      ]
    },
    {
      "cell_type": "code",
      "metadata": {
        "colab_type": "code",
        "id": "g2fIBDtppjeI",
        "colab": {
          "base_uri": "https://localhost:8080/",
          "height": 450
        },
        "outputId": "69ee9d0e-7a64-4dd6-bdde-3e3aaa591a34"
      },
      "source": [
        "# Find facilities with pollutant exceedences\n",
        "water_enforcements = None\n",
        "try:\n",
        "    sql = 'select \"NPDES_ID\", \"AGENCY\", \"ENF_TYPE_DESC\", \"SETTLEMENT_ENTERED_DATE\", \"FED_PENALTY_ASSESSED_AMT\", \"STATE_LOCAL_PENALTY_AMT\"' + \\\n",
        "        ' from \"NPDES_FORMAL_ENFORCEMENT_ACTIONS\" where \"SETTLEMENT_ENTERED_DATE\" like \\'__/__/2019\\''\n",
        "\n",
        "    water_enforcements = get_data( sql, \"NPDES_ID\" ) \n",
        "except EmptyDataError:\n",
        "    print( \"No data found\")\n",
        "water_enforcements"
      ],
      "execution_count": null,
      "outputs": [
        {
          "output_type": "execute_result",
          "data": {
            "text/html": [
              "<div>\n",
              "<style scoped>\n",
              "    .dataframe tbody tr th:only-of-type {\n",
              "        vertical-align: middle;\n",
              "    }\n",
              "\n",
              "    .dataframe tbody tr th {\n",
              "        vertical-align: top;\n",
              "    }\n",
              "\n",
              "    .dataframe thead th {\n",
              "        text-align: right;\n",
              "    }\n",
              "</style>\n",
              "<table border=\"1\" class=\"dataframe\">\n",
              "  <thead>\n",
              "    <tr style=\"text-align: right;\">\n",
              "      <th></th>\n",
              "      <th>AGENCY</th>\n",
              "      <th>ENF_TYPE_DESC</th>\n",
              "      <th>SETTLEMENT_ENTERED_DATE</th>\n",
              "      <th>FED_PENALTY_ASSESSED_AMT</th>\n",
              "      <th>STATE_LOCAL_PENALTY_AMT</th>\n",
              "    </tr>\n",
              "    <tr>\n",
              "      <th>NPDES_ID</th>\n",
              "      <th></th>\n",
              "      <th></th>\n",
              "      <th></th>\n",
              "      <th></th>\n",
              "      <th></th>\n",
              "    </tr>\n",
              "  </thead>\n",
              "  <tbody>\n",
              "    <tr>\n",
              "      <th>AL0032310</th>\n",
              "      <td>EPA</td>\n",
              "      <td>CWA 309G2B AO For Class II Penalties</td>\n",
              "      <td>10/28/2019</td>\n",
              "      <td>50000.0</td>\n",
              "      <td>NaN</td>\n",
              "    </tr>\n",
              "    <tr>\n",
              "      <th>ALP000225</th>\n",
              "      <td>State</td>\n",
              "      <td>State Administrative Order of Consent</td>\n",
              "      <td>10/17/2019</td>\n",
              "      <td>NaN</td>\n",
              "      <td>29150.0</td>\n",
              "    </tr>\n",
              "    <tr>\n",
              "      <th>AR0001678</th>\n",
              "      <td>State</td>\n",
              "      <td>State Administrative Order of Consent</td>\n",
              "      <td>04/05/2019</td>\n",
              "      <td>NaN</td>\n",
              "      <td>NaN</td>\n",
              "    </tr>\n",
              "    <tr>\n",
              "      <th>CA0048127</th>\n",
              "      <td>State</td>\n",
              "      <td>State CWA Penalty AO</td>\n",
              "      <td>05/21/2019</td>\n",
              "      <td>NaN</td>\n",
              "      <td>NaN</td>\n",
              "    </tr>\n",
              "    <tr>\n",
              "      <th>CA0053597</th>\n",
              "      <td>State</td>\n",
              "      <td>State CWA Penalty AO</td>\n",
              "      <td>10/23/2019</td>\n",
              "      <td>NaN</td>\n",
              "      <td>NaN</td>\n",
              "    </tr>\n",
              "    <tr>\n",
              "      <th>...</th>\n",
              "      <td>...</td>\n",
              "      <td>...</td>\n",
              "      <td>...</td>\n",
              "      <td>...</td>\n",
              "      <td>...</td>\n",
              "    </tr>\n",
              "    <tr>\n",
              "      <th>NYA00E506</th>\n",
              "      <td>State</td>\n",
              "      <td>State Administrative Order of Consent</td>\n",
              "      <td>08/19/2019</td>\n",
              "      <td>NaN</td>\n",
              "      <td>4300.0</td>\n",
              "    </tr>\n",
              "    <tr>\n",
              "      <th>ORR221385</th>\n",
              "      <td>EPA</td>\n",
              "      <td>CWA 309G2B AO For Class II Penalties</td>\n",
              "      <td>01/29/2019</td>\n",
              "      <td>79394.0</td>\n",
              "      <td>NaN</td>\n",
              "    </tr>\n",
              "    <tr>\n",
              "      <th>PA0272736</th>\n",
              "      <td>State</td>\n",
              "      <td>State CWA Penalty AO</td>\n",
              "      <td>08/08/2019</td>\n",
              "      <td>NaN</td>\n",
              "      <td>500.0</td>\n",
              "    </tr>\n",
              "    <tr>\n",
              "      <th>PAG130108</th>\n",
              "      <td>State</td>\n",
              "      <td>State CWA Non Penalty AO</td>\n",
              "      <td>01/03/2019</td>\n",
              "      <td>NaN</td>\n",
              "      <td>NaN</td>\n",
              "    </tr>\n",
              "    <tr>\n",
              "      <th>TXR05CA36</th>\n",
              "      <td>State</td>\n",
              "      <td>State CWA Penalty AO</td>\n",
              "      <td>02/19/2019</td>\n",
              "      <td>NaN</td>\n",
              "      <td>25000.0</td>\n",
              "    </tr>\n",
              "  </tbody>\n",
              "</table>\n",
              "<p>4019 rows × 5 columns</p>\n",
              "</div>"
            ],
            "text/plain": [
              "          AGENCY  ... STATE_LOCAL_PENALTY_AMT\n",
              "NPDES_ID          ...                        \n",
              "AL0032310    EPA  ...                     NaN\n",
              "ALP000225  State  ...                 29150.0\n",
              "AR0001678  State  ...                     NaN\n",
              "CA0048127  State  ...                     NaN\n",
              "CA0053597  State  ...                     NaN\n",
              "...          ...  ...                     ...\n",
              "NYA00E506  State  ...                  4300.0\n",
              "ORR221385    EPA  ...                     NaN\n",
              "PA0272736  State  ...                   500.0\n",
              "PAG130108  State  ...                     NaN\n",
              "TXR05CA36  State  ...                 25000.0\n",
              "\n",
              "[4019 rows x 5 columns]"
            ]
          },
          "metadata": {
            "tags": []
          },
          "execution_count": 16
        }
      ]
    },
    {
      "cell_type": "code",
      "metadata": {
        "colab_type": "code",
        "id": "v7OKOgCz85l2",
        "colab": {
          "base_uri": "https://localhost:8080/",
          "height": 57
        },
        "outputId": "591db741-ab45-4be6-a956-b5ab85ea378e"
      },
      "source": [
        "# Number of formal actions in 2019 per violation\n",
        "water_enforcements_metric = formatter(water_enforcements.shape[0]/water_violations.shape[0]) # Formal actions divided by number of violations\n",
        "enforcements[\"CWA\"] = water_enforcements_metric\n",
        "display(HTML(\"<h3>\"+water_enforcements_metric +\" formal enforcement actions per violation</h3>\"))"
      ],
      "execution_count": null,
      "outputs": [
        {
          "output_type": "display_data",
          "data": {
            "text/html": [
              "<h3>0.01 formal enforcement actions per violation</h3>"
            ],
            "text/plain": [
              "<IPython.core.display.HTML object>"
            ]
          },
          "metadata": {
            "tags": []
          }
        }
      ]
    },
    {
      "cell_type": "code",
      "metadata": {
        "colab_type": "code",
        "id": "DCFkWo0N9XHl",
        "colab": {
          "base_uri": "https://localhost:8080/",
          "height": 130
        },
        "outputId": "21c7fd43-4bb6-4b48-d719-d5aa4c6290e0"
      },
      "source": [
        "# Penalties each year per violating facility\n",
        "# Find violating facilities (not all in NPDES QNCR are violating...)\n",
        "water_violators = water_violations.loc[water_violations[\"Sum\"]>0]\n",
        "water_violators = len(water_violators.index.unique())\n",
        "water_enforcements[\"StateLocalFedFines\"] = water_enforcements[\"FED_PENALTY_ASSESSED_AMT\"].fillna(0) + water_enforcements[\"STATE_LOCAL_PENALTY_AMT\"].fillna(0)\n",
        "water_penalties = water_enforcements.loc[water_enforcements[\"StateLocalFedFines\"]>0]\n",
        "water_penalties_metric = formatter(sum(water_penalties[\"StateLocalFedFines\"]) / water_violators) #Divide the sum of penalties by number of penalized facilities\n",
        "water_penalties_max = formatter(max(water_penalties[\"StateLocalFedFines\"])) \n",
        "water_penalties_min = formatter(min(water_penalties[\"StateLocalFedFines\"]))\n",
        "penalties[\"CWA\"] = water_penalties_metric\n",
        "display(HTML(\"<h3>$\"+water_penalties_metric +\" per facility in violation</h3>\"))\n",
        "display(HTML(\"<h3>Max: $\"+water_penalties_max +\"</h3>\"))\n",
        "display(HTML(\"<h3>Min: $\"+water_penalties_min +\"</h3>\"))"
      ],
      "execution_count": null,
      "outputs": [
        {
          "output_type": "display_data",
          "data": {
            "text/html": [
              "<h3>$4451.78 per facility in violation</h3>"
            ],
            "text/plain": [
              "<IPython.core.display.HTML object>"
            ]
          },
          "metadata": {
            "tags": []
          }
        },
        {
          "output_type": "display_data",
          "data": {
            "text/html": [
              "<h3>Max: $2500000.00</h3>"
            ],
            "text/plain": [
              "<IPython.core.display.HTML object>"
            ]
          },
          "metadata": {
            "tags": []
          }
        },
        {
          "output_type": "display_data",
          "data": {
            "text/html": [
              "<h3>Min: $57.36</h3>"
            ],
            "text/plain": [
              "<IPython.core.display.HTML object>"
            ]
          },
          "metadata": {
            "tags": []
          }
        }
      ]
    },
    {
      "cell_type": "markdown",
      "metadata": {
        "colab_type": "text",
        "id": "kDFULgy2qPSD"
      },
      "source": [
        "## RCRA inspections in 2019"
      ]
    },
    {
      "cell_type": "code",
      "metadata": {
        "colab_type": "code",
        "id": "0Kq8C8oFqRKe",
        "colab": {
          "base_uri": "https://localhost:8080/",
          "height": 450
        },
        "outputId": "b9c04596-940e-4d25-ccf7-28a3275565a5"
      },
      "source": [
        "# Find facilities with pollutant exceedences\n",
        "waste_inspections = None\n",
        "try:\n",
        "    sql = 'select * from \"RCRA_EVALUATIONS\" where \"EVALUATION_START_DATE\" like \\'__/__/2019\\''\n",
        "\n",
        "    waste_inspections = get_data( sql, \"ID_NUMBER\" ) \n",
        "except EmptyDataError:\n",
        "    print( \"No data found\")\n",
        "waste_inspections"
      ],
      "execution_count": null,
      "outputs": [
        {
          "output_type": "execute_result",
          "data": {
            "text/html": [
              "<div>\n",
              "<style scoped>\n",
              "    .dataframe tbody tr th:only-of-type {\n",
              "        vertical-align: middle;\n",
              "    }\n",
              "\n",
              "    .dataframe tbody tr th {\n",
              "        vertical-align: top;\n",
              "    }\n",
              "\n",
              "    .dataframe thead th {\n",
              "        text-align: right;\n",
              "    }\n",
              "</style>\n",
              "<table border=\"1\" class=\"dataframe\">\n",
              "  <thead>\n",
              "    <tr style=\"text-align: right;\">\n",
              "      <th></th>\n",
              "      <th>ACTIVITY_LOCATION</th>\n",
              "      <th>EVALUATION_IDENTIFIER</th>\n",
              "      <th>EVALUATION_TYPE</th>\n",
              "      <th>EVALUATION_DESC</th>\n",
              "      <th>EVALUATION_AGENCY</th>\n",
              "      <th>EVALUATION_START_DATE</th>\n",
              "      <th>FOUND_VIOLATION</th>\n",
              "    </tr>\n",
              "    <tr>\n",
              "      <th>ID_NUMBER</th>\n",
              "      <th></th>\n",
              "      <th></th>\n",
              "      <th></th>\n",
              "      <th></th>\n",
              "      <th></th>\n",
              "      <th></th>\n",
              "      <th></th>\n",
              "    </tr>\n",
              "  </thead>\n",
              "  <tbody>\n",
              "    <tr>\n",
              "      <th>WID006129225</th>\n",
              "      <td>WI</td>\n",
              "      <td>001</td>\n",
              "      <td>CEI</td>\n",
              "      <td>COMPLIANCE EVALUATION INSPECTION ON-SITE</td>\n",
              "      <td>S</td>\n",
              "      <td>10/07/2019</td>\n",
              "      <td>Y</td>\n",
              "    </tr>\n",
              "    <tr>\n",
              "      <th>KYR000056879</th>\n",
              "      <td>KY</td>\n",
              "      <td>001</td>\n",
              "      <td>NRR</td>\n",
              "      <td>NON-FINANCIAL RECORD REVIEW</td>\n",
              "      <td>S</td>\n",
              "      <td>10/11/2019</td>\n",
              "      <td>N</td>\n",
              "    </tr>\n",
              "    <tr>\n",
              "      <th>KYD006376347</th>\n",
              "      <td>KY</td>\n",
              "      <td>001</td>\n",
              "      <td>CEI</td>\n",
              "      <td>COMPLIANCE EVALUATION INSPECTION ON-SITE</td>\n",
              "      <td>S</td>\n",
              "      <td>09/25/2019</td>\n",
              "      <td>N</td>\n",
              "    </tr>\n",
              "    <tr>\n",
              "      <th>KYD981853005</th>\n",
              "      <td>KY</td>\n",
              "      <td>001</td>\n",
              "      <td>CEI</td>\n",
              "      <td>COMPLIANCE EVALUATION INSPECTION ON-SITE</td>\n",
              "      <td>S</td>\n",
              "      <td>10/11/2019</td>\n",
              "      <td>N</td>\n",
              "    </tr>\n",
              "    <tr>\n",
              "      <th>NCD986166338</th>\n",
              "      <td>NC</td>\n",
              "      <td>143</td>\n",
              "      <td>FCI</td>\n",
              "      <td>FOCUSED COMPLIANCE INSPECTION</td>\n",
              "      <td>S</td>\n",
              "      <td>10/11/2019</td>\n",
              "      <td>N</td>\n",
              "    </tr>\n",
              "    <tr>\n",
              "      <th>...</th>\n",
              "      <td>...</td>\n",
              "      <td>...</td>\n",
              "      <td>...</td>\n",
              "      <td>...</td>\n",
              "      <td>...</td>\n",
              "      <td>...</td>\n",
              "      <td>...</td>\n",
              "    </tr>\n",
              "    <tr>\n",
              "      <th>FLR000233106</th>\n",
              "      <td>FL</td>\n",
              "      <td>CEI</td>\n",
              "      <td>CEI</td>\n",
              "      <td>COMPLIANCE EVALUATION INSPECTION ON-SITE</td>\n",
              "      <td>S</td>\n",
              "      <td>10/03/2019</td>\n",
              "      <td>Y</td>\n",
              "    </tr>\n",
              "    <tr>\n",
              "      <th>FL8570024366</th>\n",
              "      <td>FL</td>\n",
              "      <td>CEI</td>\n",
              "      <td>CEI</td>\n",
              "      <td>COMPLIANCE EVALUATION INSPECTION ON-SITE</td>\n",
              "      <td>S</td>\n",
              "      <td>08/20/2019</td>\n",
              "      <td>Y</td>\n",
              "    </tr>\n",
              "    <tr>\n",
              "      <th>FLD032470031</th>\n",
              "      <td>FL</td>\n",
              "      <td>CEN</td>\n",
              "      <td>CEI</td>\n",
              "      <td>COMPLIANCE EVALUATION INSPECTION ON-SITE</td>\n",
              "      <td>S</td>\n",
              "      <td>10/23/2019</td>\n",
              "      <td>N</td>\n",
              "    </tr>\n",
              "    <tr>\n",
              "      <th>FL2800016121</th>\n",
              "      <td>FL</td>\n",
              "      <td>NRR</td>\n",
              "      <td>NRR</td>\n",
              "      <td>NON-FINANCIAL RECORD REVIEW</td>\n",
              "      <td>S</td>\n",
              "      <td>10/01/2019</td>\n",
              "      <td>N</td>\n",
              "    </tr>\n",
              "    <tr>\n",
              "      <th>FLR000126573</th>\n",
              "      <td>FL</td>\n",
              "      <td>CEI</td>\n",
              "      <td>CEI</td>\n",
              "      <td>COMPLIANCE EVALUATION INSPECTION ON-SITE</td>\n",
              "      <td>S</td>\n",
              "      <td>10/31/2019</td>\n",
              "      <td>Y</td>\n",
              "    </tr>\n",
              "  </tbody>\n",
              "</table>\n",
              "<p>22609 rows × 7 columns</p>\n",
              "</div>"
            ],
            "text/plain": [
              "             ACTIVITY_LOCATION  ... FOUND_VIOLATION\n",
              "ID_NUMBER                       ...                \n",
              "WID006129225                WI  ...             Y  \n",
              "KYR000056879                KY  ...             N  \n",
              "KYD006376347                KY  ...             N  \n",
              "KYD981853005                KY  ...             N  \n",
              "NCD986166338                NC  ...             N  \n",
              "...                        ...  ...             ...\n",
              "FLR000233106                FL  ...             Y  \n",
              "FL8570024366                FL  ...             Y  \n",
              "FLD032470031                FL  ...             N  \n",
              "FL2800016121                FL  ...             N  \n",
              "FLR000126573                FL  ...             Y  \n",
              "\n",
              "[22609 rows x 7 columns]"
            ]
          },
          "metadata": {
            "tags": []
          },
          "execution_count": 19
        }
      ]
    },
    {
      "cell_type": "code",
      "metadata": {
        "colab_type": "code",
        "id": "HasmoprP9o0Z",
        "colab": {
          "base_uri": "https://localhost:8080/",
          "height": 57
        },
        "outputId": "33314370-f40a-40b3-cf23-beb56e30cea0"
      },
      "source": [
        "# Number of inspections in 2019 per 1000 regulated facilities\n",
        "waste_inspections_metric = formatter((waste_inspections.shape[0] / waste_fac) * 1000) #Divide by regulated facilities and multiply by desired rate (per 1000)\n",
        "inspections[\"RCRA\"] = waste_inspections_metric\n",
        "display(HTML(\"<h3>\"+waste_inspections_metric+\" inspections per 1000 facilities</h3>\"))"
      ],
      "execution_count": null,
      "outputs": [
        {
          "output_type": "display_data",
          "data": {
            "text/html": [
              "<h3>37.30 inspections per 1000 facilities</h3>"
            ],
            "text/plain": [
              "<IPython.core.display.HTML object>"
            ]
          },
          "metadata": {
            "tags": []
          }
        }
      ]
    },
    {
      "cell_type": "markdown",
      "metadata": {
        "colab_type": "text",
        "id": "3ycMCo9WqRT_"
      },
      "source": [
        "## Violations of RCRA in 2019"
      ]
    },
    {
      "cell_type": "code",
      "metadata": {
        "colab_type": "code",
        "id": "Jj-LlSbnqS3m",
        "colab": {
          "base_uri": "https://localhost:8080/",
          "height": 450
        },
        "outputId": "dc27dd8c-45d0-4b80-9911-8a2e87e0efb4"
      },
      "source": [
        "# Find facilities with pollutant exceedences\n",
        "waste_violations = None\n",
        "try:\n",
        "    sql = 'select * from \"RCRA_VIOLATIONS\" where \"DATE_VIOLATION_DETERMINED\" like \\'__/__/2019\\''\n",
        "\n",
        "    waste_violations = get_data( sql, \"ID_NUMBER\" ) \n",
        "except EmptyDataError:\n",
        "    print( \"No data found\")\n",
        "waste_violations"
      ],
      "execution_count": null,
      "outputs": [
        {
          "output_type": "execute_result",
          "data": {
            "text/html": [
              "<div>\n",
              "<style scoped>\n",
              "    .dataframe tbody tr th:only-of-type {\n",
              "        vertical-align: middle;\n",
              "    }\n",
              "\n",
              "    .dataframe tbody tr th {\n",
              "        vertical-align: top;\n",
              "    }\n",
              "\n",
              "    .dataframe thead th {\n",
              "        text-align: right;\n",
              "    }\n",
              "</style>\n",
              "<table border=\"1\" class=\"dataframe\">\n",
              "  <thead>\n",
              "    <tr style=\"text-align: right;\">\n",
              "      <th></th>\n",
              "      <th>ACTIVITY_LOCATION</th>\n",
              "      <th>VIOLATION_TYPE</th>\n",
              "      <th>VIOLATION_TYPE_DESC</th>\n",
              "      <th>VIOL_DETERMINED_BY_AGENCY</th>\n",
              "      <th>DATE_VIOLATION_DETERMINED</th>\n",
              "      <th>ACTUAL_RTC_DATE</th>\n",
              "      <th>SCHEDULED_COMPLIANCE_DATE</th>\n",
              "    </tr>\n",
              "    <tr>\n",
              "      <th>ID_NUMBER</th>\n",
              "      <th></th>\n",
              "      <th></th>\n",
              "      <th></th>\n",
              "      <th></th>\n",
              "      <th></th>\n",
              "      <th></th>\n",
              "      <th></th>\n",
              "    </tr>\n",
              "  </thead>\n",
              "  <tbody>\n",
              "    <tr>\n",
              "      <th>RIR000501171</th>\n",
              "      <td>RI</td>\n",
              "      <td>273.B</td>\n",
              "      <td>Standards for Universal Waste Management: Stan...</td>\n",
              "      <td>S</td>\n",
              "      <td>05/07/2019</td>\n",
              "      <td>07/09/2019</td>\n",
              "      <td>NaN</td>\n",
              "    </tr>\n",
              "    <tr>\n",
              "      <th>MID006020275</th>\n",
              "      <td>MI</td>\n",
              "      <td>262.D</td>\n",
              "      <td>Standards Applicable to Recordkeeping and Repo...</td>\n",
              "      <td>S</td>\n",
              "      <td>11/25/2019</td>\n",
              "      <td>NaN</td>\n",
              "      <td>NaN</td>\n",
              "    </tr>\n",
              "    <tr>\n",
              "      <th>SCD069316271</th>\n",
              "      <td>SC</td>\n",
              "      <td>273.B</td>\n",
              "      <td>Standards for Universal Waste Management: Stan...</td>\n",
              "      <td>S</td>\n",
              "      <td>12/17/2019</td>\n",
              "      <td>03/03/2020</td>\n",
              "      <td>NaN</td>\n",
              "    </tr>\n",
              "    <tr>\n",
              "      <th>LAD981512460</th>\n",
              "      <td>LA</td>\n",
              "      <td>262.C</td>\n",
              "      <td>Standards Applicable to Generators of HW: Pre-...</td>\n",
              "      <td>S</td>\n",
              "      <td>06/20/2019</td>\n",
              "      <td>11/12/2019</td>\n",
              "      <td>NaN</td>\n",
              "    </tr>\n",
              "    <tr>\n",
              "      <th>SCR000774323</th>\n",
              "      <td>SC</td>\n",
              "      <td>262.B</td>\n",
              "      <td>Standards Applicable to Generators of HW: Mani...</td>\n",
              "      <td>S</td>\n",
              "      <td>07/01/2019</td>\n",
              "      <td>07/02/2019</td>\n",
              "      <td>NaN</td>\n",
              "    </tr>\n",
              "    <tr>\n",
              "      <th>...</th>\n",
              "      <td>...</td>\n",
              "      <td>...</td>\n",
              "      <td>...</td>\n",
              "      <td>...</td>\n",
              "      <td>...</td>\n",
              "      <td>...</td>\n",
              "      <td>...</td>\n",
              "    </tr>\n",
              "    <tr>\n",
              "      <th>WID020451456</th>\n",
              "      <td>WI</td>\n",
              "      <td>262.C</td>\n",
              "      <td>Standards Applicable to Generators of HW: Pre-...</td>\n",
              "      <td>S</td>\n",
              "      <td>05/08/2019</td>\n",
              "      <td>01/30/2020</td>\n",
              "      <td>06/22/2019</td>\n",
              "    </tr>\n",
              "    <tr>\n",
              "      <th>TXD981612989</th>\n",
              "      <td>TX</td>\n",
              "      <td>262.D</td>\n",
              "      <td>Standards Applicable to Recordkeeping and Repo...</td>\n",
              "      <td>S</td>\n",
              "      <td>09/11/2019</td>\n",
              "      <td>12/12/2019</td>\n",
              "      <td>NaN</td>\n",
              "    </tr>\n",
              "    <tr>\n",
              "      <th>WAH000022560</th>\n",
              "      <td>WA</td>\n",
              "      <td>262.A</td>\n",
              "      <td>Standards Applicable to Generators of HW: General</td>\n",
              "      <td>S</td>\n",
              "      <td>05/16/2019</td>\n",
              "      <td>11/07/2019</td>\n",
              "      <td>NaN</td>\n",
              "    </tr>\n",
              "    <tr>\n",
              "      <th>WIR000124834</th>\n",
              "      <td>WI</td>\n",
              "      <td>262.C</td>\n",
              "      <td>Standards Applicable to Generators of HW: Pre-...</td>\n",
              "      <td>S</td>\n",
              "      <td>03/27/2019</td>\n",
              "      <td>05/01/2019</td>\n",
              "      <td>05/05/2019</td>\n",
              "    </tr>\n",
              "    <tr>\n",
              "      <th>WID027905793</th>\n",
              "      <td>WI</td>\n",
              "      <td>XXS</td>\n",
              "      <td>State Statutory or Regulatory requirements tha...</td>\n",
              "      <td>S</td>\n",
              "      <td>04/17/2019</td>\n",
              "      <td>05/28/2019</td>\n",
              "      <td>05/25/2019</td>\n",
              "    </tr>\n",
              "  </tbody>\n",
              "</table>\n",
              "<p>14621 rows × 7 columns</p>\n",
              "</div>"
            ],
            "text/plain": [
              "             ACTIVITY_LOCATION  ... SCHEDULED_COMPLIANCE_DATE\n",
              "ID_NUMBER                       ...                          \n",
              "RIR000501171                RI  ...                       NaN\n",
              "MID006020275                MI  ...                       NaN\n",
              "SCD069316271                SC  ...                       NaN\n",
              "LAD981512460                LA  ...                       NaN\n",
              "SCR000774323                SC  ...                       NaN\n",
              "...                        ...  ...                       ...\n",
              "WID020451456                WI  ...                06/22/2019\n",
              "TXD981612989                TX  ...                       NaN\n",
              "WAH000022560                WA  ...                       NaN\n",
              "WIR000124834                WI  ...                05/05/2019\n",
              "WID027905793                WI  ...                05/25/2019\n",
              "\n",
              "[14621 rows x 7 columns]"
            ]
          },
          "metadata": {
            "tags": []
          },
          "execution_count": 21
        }
      ]
    },
    {
      "cell_type": "code",
      "metadata": {
        "colab_type": "code",
        "id": "gALP4P5y-ASz",
        "colab": {
          "base_uri": "https://localhost:8080/",
          "height": 57
        },
        "outputId": "510291ce-e187-4ed8-d632-3f7d400ed462"
      },
      "source": [
        "# Number of violations in 2019 per 1000 regulated facilities\n",
        "waste_violations_metric = formatter((waste_violations.shape[0] / waste_fac) * 1000) #Divide by regulated facilities and multiply by desired rate (per 1000)\n",
        "violations[\"RCRA\"] = waste_violations_metric\n",
        "display(HTML(\"<h3>\"+waste_violations_metric+\" violations per 1000 facilities</h3>\"))"
      ],
      "execution_count": null,
      "outputs": [
        {
          "output_type": "display_data",
          "data": {
            "text/html": [
              "<h3>24.12 violations per 1000 facilities</h3>"
            ],
            "text/plain": [
              "<IPython.core.display.HTML object>"
            ]
          },
          "metadata": {
            "tags": []
          }
        }
      ]
    },
    {
      "cell_type": "markdown",
      "metadata": {
        "colab_type": "text",
        "id": "HdGcQI-gqTBi"
      },
      "source": [
        "## Enforcement Actions and Penalties under RCRA in 2019"
      ]
    },
    {
      "cell_type": "code",
      "metadata": {
        "colab_type": "code",
        "id": "M8s_Z0M0qUfT",
        "colab": {
          "base_uri": "https://localhost:8080/",
          "height": 501
        },
        "outputId": "4bd61e6b-517b-42bb-9a5e-54224a3ed0f4"
      },
      "source": [
        "# Find facilities with enforcement actions\n",
        "waste_enforcements = None\n",
        "try:\n",
        "    sql = 'select * from \"RCRA_ENFORCEMENTS\" where \"ENFORCEMENT_ACTION_DATE\" like \\'__/__/2019\\''\n",
        "\n",
        "    waste_enforcements = get_data( sql, \"ID_NUMBER\" ) \n",
        "except EmptyDataError:\n",
        "    print( \"No data found\")\n",
        "waste_enforcements"
      ],
      "execution_count": null,
      "outputs": [
        {
          "output_type": "execute_result",
          "data": {
            "text/html": [
              "<div>\n",
              "<style scoped>\n",
              "    .dataframe tbody tr th:only-of-type {\n",
              "        vertical-align: middle;\n",
              "    }\n",
              "\n",
              "    .dataframe tbody tr th {\n",
              "        vertical-align: top;\n",
              "    }\n",
              "\n",
              "    .dataframe thead th {\n",
              "        text-align: right;\n",
              "    }\n",
              "</style>\n",
              "<table border=\"1\" class=\"dataframe\">\n",
              "  <thead>\n",
              "    <tr style=\"text-align: right;\">\n",
              "      <th></th>\n",
              "      <th>ACTIVITY_LOCATION</th>\n",
              "      <th>ENFORCEMENT_IDENTIFIER</th>\n",
              "      <th>ENFORCEMENT_TYPE</th>\n",
              "      <th>ENFORCEMENT_DESC</th>\n",
              "      <th>ENFORCEMENT_AGENCY</th>\n",
              "      <th>ENFORCEMENT_ACTION_DATE</th>\n",
              "      <th>PMP_AMOUNT</th>\n",
              "      <th>FMP_AMOUNT</th>\n",
              "      <th>FSC_AMOUNT</th>\n",
              "      <th>SCR_AMOUNT</th>\n",
              "    </tr>\n",
              "    <tr>\n",
              "      <th>ID_NUMBER</th>\n",
              "      <th></th>\n",
              "      <th></th>\n",
              "      <th></th>\n",
              "      <th></th>\n",
              "      <th></th>\n",
              "      <th></th>\n",
              "      <th></th>\n",
              "      <th></th>\n",
              "      <th></th>\n",
              "      <th></th>\n",
              "    </tr>\n",
              "  </thead>\n",
              "  <tbody>\n",
              "    <tr>\n",
              "      <th>ALD077647691</th>\n",
              "      <td>AL</td>\n",
              "      <td>001</td>\n",
              "      <td>HQ310</td>\n",
              "      <td>FINAL 3008(A) COMPLIANCE ORDER</td>\n",
              "      <td>S</td>\n",
              "      <td>02/21/2019</td>\n",
              "      <td>NaN</td>\n",
              "      <td>NaN</td>\n",
              "      <td>NaN</td>\n",
              "      <td>NaN</td>\n",
              "    </tr>\n",
              "    <tr>\n",
              "      <th>ALD981020894</th>\n",
              "      <td>AL</td>\n",
              "      <td>001</td>\n",
              "      <td>HQ140</td>\n",
              "      <td>LETTER OF INTENT TO INITIATE ENFORCEMENT ACTION</td>\n",
              "      <td>S</td>\n",
              "      <td>03/26/2019</td>\n",
              "      <td>NaN</td>\n",
              "      <td>NaN</td>\n",
              "      <td>NaN</td>\n",
              "      <td>NaN</td>\n",
              "    </tr>\n",
              "    <tr>\n",
              "      <th>AKD991281023</th>\n",
              "      <td>AK</td>\n",
              "      <td>001</td>\n",
              "      <td>HQ120</td>\n",
              "      <td>WRITTEN INFORMAL</td>\n",
              "      <td>E</td>\n",
              "      <td>11/19/2019</td>\n",
              "      <td>NaN</td>\n",
              "      <td>NaN</td>\n",
              "      <td>NaN</td>\n",
              "      <td>NaN</td>\n",
              "    </tr>\n",
              "    <tr>\n",
              "      <th>ALD046481032</th>\n",
              "      <td>AL</td>\n",
              "      <td>001</td>\n",
              "      <td>AL115</td>\n",
              "      <td>WARNING LETTER</td>\n",
              "      <td>S</td>\n",
              "      <td>06/10/2019</td>\n",
              "      <td>NaN</td>\n",
              "      <td>NaN</td>\n",
              "      <td>NaN</td>\n",
              "      <td>NaN</td>\n",
              "    </tr>\n",
              "    <tr>\n",
              "      <th>ALD057202558</th>\n",
              "      <td>AL</td>\n",
              "      <td>001</td>\n",
              "      <td>HQ120</td>\n",
              "      <td>WRITTEN INFORMAL</td>\n",
              "      <td>S</td>\n",
              "      <td>05/30/2019</td>\n",
              "      <td>NaN</td>\n",
              "      <td>NaN</td>\n",
              "      <td>NaN</td>\n",
              "      <td>NaN</td>\n",
              "    </tr>\n",
              "    <tr>\n",
              "      <th>...</th>\n",
              "      <td>...</td>\n",
              "      <td>...</td>\n",
              "      <td>...</td>\n",
              "      <td>...</td>\n",
              "      <td>...</td>\n",
              "      <td>...</td>\n",
              "      <td>...</td>\n",
              "      <td>...</td>\n",
              "      <td>...</td>\n",
              "      <td>...</td>\n",
              "    </tr>\n",
              "    <tr>\n",
              "      <th>WID114105547</th>\n",
              "      <td>WI</td>\n",
              "      <td>001</td>\n",
              "      <td>WI124</td>\n",
              "      <td>NOTICE OF NONCOMPLIANCE LETTER</td>\n",
              "      <td>S</td>\n",
              "      <td>06/24/2019</td>\n",
              "      <td>NaN</td>\n",
              "      <td>NaN</td>\n",
              "      <td>NaN</td>\n",
              "      <td>NaN</td>\n",
              "    </tr>\n",
              "    <tr>\n",
              "      <th>WVR000529974</th>\n",
              "      <td>WV</td>\n",
              "      <td>001</td>\n",
              "      <td>HQ120</td>\n",
              "      <td>WRITTEN INFORMAL</td>\n",
              "      <td>S</td>\n",
              "      <td>12/04/2019</td>\n",
              "      <td>NaN</td>\n",
              "      <td>NaN</td>\n",
              "      <td>NaN</td>\n",
              "      <td>NaN</td>\n",
              "    </tr>\n",
              "    <tr>\n",
              "      <th>WVR000546945</th>\n",
              "      <td>WV</td>\n",
              "      <td>001</td>\n",
              "      <td>HQ120</td>\n",
              "      <td>WRITTEN INFORMAL</td>\n",
              "      <td>S</td>\n",
              "      <td>10/02/2019</td>\n",
              "      <td>NaN</td>\n",
              "      <td>NaN</td>\n",
              "      <td>NaN</td>\n",
              "      <td>NaN</td>\n",
              "    </tr>\n",
              "    <tr>\n",
              "      <th>WVR000547752</th>\n",
              "      <td>WV</td>\n",
              "      <td>001</td>\n",
              "      <td>HQ120</td>\n",
              "      <td>WRITTEN INFORMAL</td>\n",
              "      <td>S</td>\n",
              "      <td>10/30/2019</td>\n",
              "      <td>NaN</td>\n",
              "      <td>NaN</td>\n",
              "      <td>NaN</td>\n",
              "      <td>NaN</td>\n",
              "    </tr>\n",
              "    <tr>\n",
              "      <th>WVR000547760</th>\n",
              "      <td>WV</td>\n",
              "      <td>001</td>\n",
              "      <td>HQ120</td>\n",
              "      <td>WRITTEN INFORMAL</td>\n",
              "      <td>S</td>\n",
              "      <td>11/21/2019</td>\n",
              "      <td>NaN</td>\n",
              "      <td>NaN</td>\n",
              "      <td>NaN</td>\n",
              "      <td>NaN</td>\n",
              "    </tr>\n",
              "  </tbody>\n",
              "</table>\n",
              "<p>6988 rows × 10 columns</p>\n",
              "</div>"
            ],
            "text/plain": [
              "             ACTIVITY_LOCATION ENFORCEMENT_IDENTIFIER  ... FSC_AMOUNT SCR_AMOUNT\n",
              "ID_NUMBER                                              ...                      \n",
              "ALD077647691                AL                    001  ...        NaN        NaN\n",
              "ALD981020894                AL                    001  ...        NaN        NaN\n",
              "AKD991281023                AK                    001  ...        NaN        NaN\n",
              "ALD046481032                AL                    001  ...        NaN        NaN\n",
              "ALD057202558                AL                    001  ...        NaN        NaN\n",
              "...                        ...                    ...  ...        ...        ...\n",
              "WID114105547                WI                    001  ...        NaN        NaN\n",
              "WVR000529974                WV                    001  ...        NaN        NaN\n",
              "WVR000546945                WV                    001  ...        NaN        NaN\n",
              "WVR000547752                WV                    001  ...        NaN        NaN\n",
              "WVR000547760                WV                    001  ...        NaN        NaN\n",
              "\n",
              "[6988 rows x 10 columns]"
            ]
          },
          "metadata": {
            "tags": []
          },
          "execution_count": 23
        }
      ]
    },
    {
      "cell_type": "code",
      "metadata": {
        "colab_type": "code",
        "id": "Qif-FilM-bns",
        "colab": {
          "base_uri": "https://localhost:8080/",
          "height": 57
        },
        "outputId": "746a189a-4096-4096-d1a6-5f4c41c87dad"
      },
      "source": [
        "# Number of enforcement actions each year per violation\n",
        "waste_enforcements_metric = formatter(waste_enforcements.shape[0] / waste_violations.shape[0])\n",
        "enforcements[\"RCRA\"] = waste_enforcements_metric\n",
        "display(HTML(\"<h3>\"+waste_enforcements_metric+\" enforcement actions per violation</h3>\"))"
      ],
      "execution_count": null,
      "outputs": [
        {
          "output_type": "display_data",
          "data": {
            "text/html": [
              "<h3>0.48 enforcement actions per violation</h3>"
            ],
            "text/plain": [
              "<IPython.core.display.HTML object>"
            ]
          },
          "metadata": {
            "tags": []
          }
        }
      ]
    },
    {
      "cell_type": "code",
      "metadata": {
        "colab_type": "code",
        "id": "MAPXMRZt-r-3",
        "colab": {
          "base_uri": "https://localhost:8080/",
          "height": 130
        },
        "outputId": "65da3456-bbe7-4359-d15c-c58083f013ce"
      },
      "source": [
        "# Penalties each year per violating facility\n",
        "waste_penalties = waste_enforcements.loc[waste_enforcements[\"FMP_AMOUNT\"]>0]\n",
        "waste_penalties_metric = formatter(sum(waste_penalties[\"FMP_AMOUNT\"]) / len(waste_violations.index.unique())) #Divide by penalized facilities\n",
        "waste_penalties_max = formatter(max(waste_penalties[\"FMP_AMOUNT\"]))\n",
        "waste_penalties_min = formatter(min(waste_penalties[\"FMP_AMOUNT\"]))\n",
        "penalties[\"RCRA\"] = waste_penalties_metric\n",
        "display(HTML(\"<h3>$\"+waste_penalties_metric +\" per facility in violation</h3>\"))\n",
        "display(HTML(\"<h3>Max: $\"+waste_penalties_max +\"</h3>\"))\n",
        "display(HTML(\"<h3>Min: $\"+waste_penalties_min +\"</h3>\"))"
      ],
      "execution_count": null,
      "outputs": [
        {
          "output_type": "display_data",
          "data": {
            "text/html": [
              "<h3>$3165.75 per facility in violation</h3>"
            ],
            "text/plain": [
              "<IPython.core.display.HTML object>"
            ]
          },
          "metadata": {
            "tags": []
          }
        },
        {
          "output_type": "display_data",
          "data": {
            "text/html": [
              "<h3>Max: $2295000.00</h3>"
            ],
            "text/plain": [
              "<IPython.core.display.HTML object>"
            ]
          },
          "metadata": {
            "tags": []
          }
        },
        {
          "output_type": "display_data",
          "data": {
            "text/html": [
              "<h3>Min: $250.00</h3>"
            ],
            "text/plain": [
              "<IPython.core.display.HTML object>"
            ]
          },
          "metadata": {
            "tags": []
          }
        }
      ]
    },
    {
      "cell_type": "markdown",
      "metadata": {
        "colab_type": "text",
        "id": "YQY2458NqUp9"
      },
      "source": [
        "## Greenhouse Gas Emissions in 2018 (latest data available)"
      ]
    },
    {
      "cell_type": "code",
      "metadata": {
        "colab_type": "code",
        "id": "DN8EVg29qW1k",
        "colab": {
          "base_uri": "https://localhost:8080/",
          "height": 419
        },
        "outputId": "91e47cab-7f42-4cfc-c9da-5c38e86004b6"
      },
      "source": [
        "# Find GHG emissions\n",
        "ghg_emissions = None\n",
        "try:\n",
        "    sql = 'select * from \"POLL_RPT_COMBINED_EMISSIONS\" where \"REPORTING_YEAR\" = \\'2018\\' and \"PGM_SYS_ACRNM\" = \\'E-GGRT\\''\n",
        "\n",
        "    ghg_emissions = get_data( sql) \n",
        "except EmptyDataError:\n",
        "    print( \"No data found\")\n",
        "ghg_emissions"
      ],
      "execution_count": null,
      "outputs": [
        {
          "output_type": "execute_result",
          "data": {
            "text/html": [
              "<div>\n",
              "<style scoped>\n",
              "    .dataframe tbody tr th:only-of-type {\n",
              "        vertical-align: middle;\n",
              "    }\n",
              "\n",
              "    .dataframe tbody tr th {\n",
              "        vertical-align: top;\n",
              "    }\n",
              "\n",
              "    .dataframe thead th {\n",
              "        text-align: right;\n",
              "    }\n",
              "</style>\n",
              "<table border=\"1\" class=\"dataframe\">\n",
              "  <thead>\n",
              "    <tr style=\"text-align: right;\">\n",
              "      <th></th>\n",
              "      <th>REPORTING_YEAR</th>\n",
              "      <th>REGISTRY_ID</th>\n",
              "      <th>PGM_SYS_ACRNM</th>\n",
              "      <th>PGM_SYS_ID</th>\n",
              "      <th>POLLUTANT_NAME</th>\n",
              "      <th>ANNUAL_EMISSION</th>\n",
              "      <th>UNIT_OF_MEASURE</th>\n",
              "      <th>NEI_TYPE</th>\n",
              "      <th>NEI_HAP_VOC_FLAG</th>\n",
              "    </tr>\n",
              "  </thead>\n",
              "  <tbody>\n",
              "    <tr>\n",
              "      <th>0</th>\n",
              "      <td>2018</td>\n",
              "      <td>110000492020</td>\n",
              "      <td>E-GGRT</td>\n",
              "      <td>1003261</td>\n",
              "      <td>Methane</td>\n",
              "      <td>48.750</td>\n",
              "      <td>MTCO2e</td>\n",
              "      <td>NaN</td>\n",
              "      <td>NaN</td>\n",
              "    </tr>\n",
              "    <tr>\n",
              "      <th>1</th>\n",
              "      <td>2018</td>\n",
              "      <td>110000492020</td>\n",
              "      <td>E-GGRT</td>\n",
              "      <td>1003261</td>\n",
              "      <td>Carbon dioxide</td>\n",
              "      <td>101570.300</td>\n",
              "      <td>MTCO2e</td>\n",
              "      <td>NaN</td>\n",
              "      <td>NaN</td>\n",
              "    </tr>\n",
              "    <tr>\n",
              "      <th>2</th>\n",
              "      <td>2018</td>\n",
              "      <td>110000492020</td>\n",
              "      <td>E-GGRT</td>\n",
              "      <td>1003261</td>\n",
              "      <td>Nitrous oxide</td>\n",
              "      <td>60.196</td>\n",
              "      <td>MTCO2e</td>\n",
              "      <td>NaN</td>\n",
              "      <td>NaN</td>\n",
              "    </tr>\n",
              "    <tr>\n",
              "      <th>3</th>\n",
              "      <td>2018</td>\n",
              "      <td>110024586544</td>\n",
              "      <td>E-GGRT</td>\n",
              "      <td>1005340</td>\n",
              "      <td>Nitrous oxide</td>\n",
              "      <td>28.310</td>\n",
              "      <td>MTCO2e</td>\n",
              "      <td>NaN</td>\n",
              "      <td>NaN</td>\n",
              "    </tr>\n",
              "    <tr>\n",
              "      <th>4</th>\n",
              "      <td>2018</td>\n",
              "      <td>110024586544</td>\n",
              "      <td>E-GGRT</td>\n",
              "      <td>1005340</td>\n",
              "      <td>Methane</td>\n",
              "      <td>23.000</td>\n",
              "      <td>MTCO2e</td>\n",
              "      <td>NaN</td>\n",
              "      <td>NaN</td>\n",
              "    </tr>\n",
              "    <tr>\n",
              "      <th>...</th>\n",
              "      <td>...</td>\n",
              "      <td>...</td>\n",
              "      <td>...</td>\n",
              "      <td>...</td>\n",
              "      <td>...</td>\n",
              "      <td>...</td>\n",
              "      <td>...</td>\n",
              "      <td>...</td>\n",
              "      <td>...</td>\n",
              "    </tr>\n",
              "    <tr>\n",
              "      <th>21678</th>\n",
              "      <td>2018</td>\n",
              "      <td>110035968584</td>\n",
              "      <td>E-GGRT</td>\n",
              "      <td>1004702</td>\n",
              "      <td>Nitrous oxide</td>\n",
              "      <td>106.386</td>\n",
              "      <td>MTCO2e</td>\n",
              "      <td>NaN</td>\n",
              "      <td>NaN</td>\n",
              "    </tr>\n",
              "    <tr>\n",
              "      <th>21679</th>\n",
              "      <td>2018</td>\n",
              "      <td>110035968584</td>\n",
              "      <td>E-GGRT</td>\n",
              "      <td>1004702</td>\n",
              "      <td>Carbon dioxide</td>\n",
              "      <td>189262.800</td>\n",
              "      <td>MTCO2e</td>\n",
              "      <td>NaN</td>\n",
              "      <td>NaN</td>\n",
              "    </tr>\n",
              "    <tr>\n",
              "      <th>21680</th>\n",
              "      <td>2018</td>\n",
              "      <td>110040959558</td>\n",
              "      <td>E-GGRT</td>\n",
              "      <td>1007195</td>\n",
              "      <td>Carbon dioxide</td>\n",
              "      <td>62.300</td>\n",
              "      <td>MTCO2e</td>\n",
              "      <td>NaN</td>\n",
              "      <td>NaN</td>\n",
              "    </tr>\n",
              "    <tr>\n",
              "      <th>21681</th>\n",
              "      <td>2018</td>\n",
              "      <td>110040959558</td>\n",
              "      <td>E-GGRT</td>\n",
              "      <td>1007195</td>\n",
              "      <td>Methane</td>\n",
              "      <td>52669.750</td>\n",
              "      <td>MTCO2e</td>\n",
              "      <td>NaN</td>\n",
              "      <td>NaN</td>\n",
              "    </tr>\n",
              "    <tr>\n",
              "      <th>21682</th>\n",
              "      <td>2018</td>\n",
              "      <td>110043788390</td>\n",
              "      <td>E-GGRT</td>\n",
              "      <td>1002480</td>\n",
              "      <td>Methane</td>\n",
              "      <td>85671.500</td>\n",
              "      <td>MTCO2e</td>\n",
              "      <td>NaN</td>\n",
              "      <td>NaN</td>\n",
              "    </tr>\n",
              "  </tbody>\n",
              "</table>\n",
              "<p>21683 rows × 9 columns</p>\n",
              "</div>"
            ],
            "text/plain": [
              "       REPORTING_YEAR   REGISTRY_ID  ... NEI_TYPE  NEI_HAP_VOC_FLAG\n",
              "0                2018  110000492020  ...      NaN               NaN\n",
              "1                2018  110000492020  ...      NaN               NaN\n",
              "2                2018  110000492020  ...      NaN               NaN\n",
              "3                2018  110024586544  ...      NaN               NaN\n",
              "4                2018  110024586544  ...      NaN               NaN\n",
              "...               ...           ...  ...      ...               ...\n",
              "21678            2018  110035968584  ...      NaN               NaN\n",
              "21679            2018  110035968584  ...      NaN               NaN\n",
              "21680            2018  110040959558  ...      NaN               NaN\n",
              "21681            2018  110040959558  ...      NaN               NaN\n",
              "21682            2018  110043788390  ...      NaN               NaN\n",
              "\n",
              "[21683 rows x 9 columns]"
            ]
          },
          "metadata": {
            "tags": []
          },
          "execution_count": 26
        }
      ]
    },
    {
      "cell_type": "code",
      "metadata": {
        "colab_type": "code",
        "id": "WYm9skUM_OV7",
        "colab": {
          "base_uri": "https://localhost:8080/",
          "height": 563
        },
        "outputId": "1902b31b-9b3e-4495-aaf3-e97911054783"
      },
      "source": [
        "# Emissions in 2018 per facility\n",
        "ghg_emissions_metric = formatter(np.nansum(ghg_emissions[\"ANNUAL_EMISSION\"]) / len(ghg_emissions[\"REGISTRY_ID\"].unique())) #Divide by reporting facility\n",
        "ghg_emissions_fac = ghg_emissions.groupby(\"PGM_SYS_ID\")[[\"ANNUAL_EMISSION\"]].sum() # Group by facility\n",
        "ghg_emissions_max = formatter(np.nanmax(ghg_emissions_fac[\"ANNUAL_EMISSION\"]))\n",
        "ghg_emissions_min = formatter(np.nanmin(ghg_emissions_fac.loc[ghg_emissions_fac[\"ANNUAL_EMISSION\"]>0][\"ANNUAL_EMISSION\"]))\n",
        "emissions[\"GHG\"] = ghg_emissions_metric\n",
        "display(HTML(\"<h3>\"+ghg_emissions_metric+\" MTCO2e (metric tons of carbon dioxide equivalent) emissions per reporting facility</h3>\"))\n",
        "display(HTML(\"<h3>Max: \"+ghg_emissions_max+\" MTCO2e (metric tons of carbon dioxide equivalent) emissions</h3>\"))\n",
        "display(HTML(\"<h3>Min: \"+ghg_emissions_min+\" MTCO2e (metric tons of carbon dioxide equivalent) emissions</h3>\"))\n",
        "ghg_emissions_fac"
      ],
      "execution_count": null,
      "outputs": [
        {
          "output_type": "display_data",
          "data": {
            "text/html": [
              "<h3>422134.34 MTCO2e (metric tons of carbon dioxide equivalent) emissions per reporting facility</h3>"
            ],
            "text/plain": [
              "<IPython.core.display.HTML object>"
            ]
          },
          "metadata": {
            "tags": []
          }
        },
        {
          "output_type": "display_data",
          "data": {
            "text/html": [
              "<h3>Max: 18429639.23 MTCO2e (metric tons of carbon dioxide equivalent) emissions</h3>"
            ],
            "text/plain": [
              "<IPython.core.display.HTML object>"
            ]
          },
          "metadata": {
            "tags": []
          }
        },
        {
          "output_type": "display_data",
          "data": {
            "text/html": [
              "<h3>Min: 0.60 MTCO2e (metric tons of carbon dioxide equivalent) emissions</h3>"
            ],
            "text/plain": [
              "<IPython.core.display.HTML object>"
            ]
          },
          "metadata": {
            "tags": []
          }
        },
        {
          "output_type": "execute_result",
          "data": {
            "text/html": [
              "<div>\n",
              "<style scoped>\n",
              "    .dataframe tbody tr th:only-of-type {\n",
              "        vertical-align: middle;\n",
              "    }\n",
              "\n",
              "    .dataframe tbody tr th {\n",
              "        vertical-align: top;\n",
              "    }\n",
              "\n",
              "    .dataframe thead th {\n",
              "        text-align: right;\n",
              "    }\n",
              "</style>\n",
              "<table border=\"1\" class=\"dataframe\">\n",
              "  <thead>\n",
              "    <tr style=\"text-align: right;\">\n",
              "      <th></th>\n",
              "      <th>ANNUAL_EMISSION</th>\n",
              "    </tr>\n",
              "    <tr>\n",
              "      <th>PGM_SYS_ID</th>\n",
              "      <th></th>\n",
              "    </tr>\n",
              "  </thead>\n",
              "  <tbody>\n",
              "    <tr>\n",
              "      <th>1000001</th>\n",
              "      <td>302529.480</td>\n",
              "    </tr>\n",
              "    <tr>\n",
              "      <th>1000002</th>\n",
              "      <td>110511.712</td>\n",
              "    </tr>\n",
              "    <tr>\n",
              "      <th>1000003</th>\n",
              "      <td>79393.210</td>\n",
              "    </tr>\n",
              "    <tr>\n",
              "      <th>1000004</th>\n",
              "      <td>55547.748</td>\n",
              "    </tr>\n",
              "    <tr>\n",
              "      <th>1000005</th>\n",
              "      <td>83863.020</td>\n",
              "    </tr>\n",
              "    <tr>\n",
              "      <th>...</th>\n",
              "      <td>...</td>\n",
              "    </tr>\n",
              "    <tr>\n",
              "      <th>1013419</th>\n",
              "      <td>28467.792</td>\n",
              "    </tr>\n",
              "    <tr>\n",
              "      <th>1013420</th>\n",
              "      <td>28356.444</td>\n",
              "    </tr>\n",
              "    <tr>\n",
              "      <th>1013481</th>\n",
              "      <td>29375.000</td>\n",
              "    </tr>\n",
              "    <tr>\n",
              "      <th>1013489</th>\n",
              "      <td>26073.752</td>\n",
              "    </tr>\n",
              "    <tr>\n",
              "      <th>1013497</th>\n",
              "      <td>53000.500</td>\n",
              "    </tr>\n",
              "  </tbody>\n",
              "</table>\n",
              "<p>7724 rows × 1 columns</p>\n",
              "</div>"
            ],
            "text/plain": [
              "            ANNUAL_EMISSION\n",
              "PGM_SYS_ID                 \n",
              "1000001          302529.480\n",
              "1000002          110511.712\n",
              "1000003           79393.210\n",
              "1000004           55547.748\n",
              "1000005           83863.020\n",
              "...                     ...\n",
              "1013419           28467.792\n",
              "1013420           28356.444\n",
              "1013481           29375.000\n",
              "1013489           26073.752\n",
              "1013497           53000.500\n",
              "\n",
              "[7724 rows x 1 columns]"
            ]
          },
          "metadata": {
            "tags": []
          },
          "execution_count": 27
        }
      ]
    },
    {
      "cell_type": "markdown",
      "metadata": {
        "colab_type": "text",
        "id": "2ybjI0eGllRg"
      },
      "source": [
        "# Data Export"
      ]
    },
    {
      "cell_type": "code",
      "metadata": {
        "colab_type": "code",
        "id": "EGHkxhYzlrKp",
        "colab": {
          "base_uri": "https://localhost:8080/",
          "height": 323
        },
        "outputId": "fd52c7fe-262f-41b5-927a-ae31062f77f2"
      },
      "source": [
        "data = [inspections,\n",
        "violations,\n",
        "enforcements,\n",
        "penalties,\n",
        "emissions]\n",
        "\n",
        "units = [\"#inspections per 1000\",\n",
        "\"#violations per 1000\",\n",
        "\"#actions per facility in violation\",\n",
        "\"$ per facility in violation\",\n",
        "\"amount of emissions (metric tons)\"]\n",
        "\n",
        "short_units = [\"inspectionsper1000\",\n",
        "\"violationsper1000\",\n",
        "\"enforcementsperviolatingfacility\",\n",
        "\"penaltiesperviolatingfacility\",\n",
        "\"emissions2018\"]\n",
        "\n",
        "for index, program in enumerate(data):\n",
        "    # create dataframe\n",
        "    df = pd.DataFrame(program, index=[0]).T\n",
        "    df = df.rename(columns={0: units[index]})\n",
        "    filename= short_units[index]+\"_All_USA_pg4_090120.csv\" #active-facilities_All_MA-CD4_3b_080620.csv\n",
        "    df.to_csv(filename)\n",
        "    print(df)"
      ],
      "execution_count": null,
      "outputs": [
        {
          "output_type": "stream",
          "text": [
            "     #inspections per 1000\n",
            "CAA                 261.62\n",
            "CWA                 148.03\n",
            "RCRA                 37.30\n",
            "     #violations per 1000\n",
            "CAA                 21.64\n",
            "CWA               1107.71\n",
            "RCRA                24.12\n",
            "     #actions per facility in violation\n",
            "CAA                                0.65\n",
            "CWA                                0.01\n",
            "RCRA                               0.48\n",
            "     $ per facility in violation\n",
            "CAA                     22985.04\n",
            "CWA                      4451.78\n",
            "RCRA                     3165.75\n",
            "    amount of emissions (metric tons)\n",
            "GHG                         422134.34\n"
          ],
          "name": "stdout"
        }
      ]
    },
    {
      "cell_type": "code",
      "metadata": {
        "colab_type": "code",
        "id": "ZPm-PEDiJyMH",
        "colab": {}
      },
      "source": [
        ""
      ],
      "execution_count": null,
      "outputs": []
    }
  ]
}