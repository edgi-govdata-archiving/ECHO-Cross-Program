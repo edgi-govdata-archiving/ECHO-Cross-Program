{
  "nbformat": 4,
  "nbformat_minor": 0,
  "metadata": {
    "colab": {
      "name": "ECHO-National-081120.ipynb",
      "provenance": [],
      "collapsed_sections": [],
      "toc_visible": true
    },
    "kernelspec": {
      "display_name": "Python 3",
      "language": "python",
      "name": "python3"
    },
    "language_info": {
      "codemirror_mode": {
        "name": "ipython",
        "version": 3
      },
      "file_extension": ".py",
      "mimetype": "text/x-python",
      "name": "python",
      "nbconvert_exporter": "python",
      "pygments_lexer": "ipython3",
      "version": "3.7.6"
    }
  },
  "cells": [
    {
      "cell_type": "markdown",
      "metadata": {
        "colab_type": "text",
        "id": "Ylalhm0wbt2p"
      },
      "source": [
        "| ![EEW logo](https://github.com/edgi-govdata-archiving/EEW-Image-Assets/blob/master/Jupyter%20instructions/eew.jpg?raw=true) | ![EDGI logo](https://github.com/edgi-govdata-archiving/EEW-Image-Assets/blob/master/Jupyter%20instructions/edgi.png?raw=true) |\n",
        "|---|---|\n",
        "\n",
        "#### This notebook is licensed under GPL 3.0. Please visit our Github repo for more information: \n",
        "#### The notebook was collaboratively authored by the Environmental Data & Governance Initiative (EDGI) following our authorship protocol: https://docs.google.com/document/d/1CtDN5ZZ4Zv70fHiBTmWkDJ9mswEipX6eCYrwicP66Xw/\n",
        "#### For more information about this project, visit https://www.environmentalenforcementwatch.org/"
      ]
    },
    {
      "cell_type": "markdown",
      "metadata": {
        "colab_type": "text",
        "id": "xwpXPiNLbt2x"
      },
      "source": [
        "## How to Run this Notebook\n",
        "* If you click on a gray **code** cell, a little “play button” arrow appears on the left. If you click the play button, it will run the code in that cell (“**running** a cell”). The button will animate. When the animation stops, the cell has finished running.\n",
        "![Where to click to run the cell](https://github.com/edgi-govdata-archiving/EEW-Image-Assets/blob/master/Jupyter%20instructions/pressplay.JPG?raw=true)\n",
        "* You may get a warning that the notebook was not authored by Google. We know, we authored them! It’s okay. Click “Run Anyway” to continue. \n",
        "![Error Message](https://github.com/edgi-govdata-archiving/EEW-Image-Assets/blob/master/Jupyter%20instructions/warning-message.JPG?raw=true)\n",
        "* Run all of the cells in a Notebook to make a complete report. Please feel free to look at and **learn about each result as you create it**!\n",
        "\n",
        "---"
      ]
    },
    {
      "cell_type": "markdown",
      "metadata": {
        "id": "vU4AqThS-37L",
        "colab_type": "text"
      },
      "source": [
        "# Nationwide statistics about environmental compliance trends"
      ]
    },
    {
      "cell_type": "markdown",
      "metadata": {
        "colab_type": "text",
        "id": "czia5t5ebt20"
      },
      "source": [
        "## Setup\n",
        "Here we load some helper code to get us going."
      ]
    },
    {
      "cell_type": "code",
      "metadata": {
        "colab_type": "code",
        "id": "vF3iTaeCbt23",
        "colab": {}
      },
      "source": [
        "# Import code libraries\n",
        "!git clone https://github.com/edgi-govdata-archiving/ECHO_modules.git &>/dev/null;\n",
        "#!git clone https://github.com/edgi-govdata-archiving/ECHO-COVID19.git &>/dev/null;\n",
        "#%run ECHO-COVID19/utilities.py don't need this if not charting?\n",
        "%run ECHO_modules/DataSet.py\n",
        "\n",
        "import urllib.parse\n",
        "import pandas as pd\n",
        "import numpy as np\n",
        "import matplotlib.pyplot as plt\n",
        "%matplotlib inline\n",
        "import requests\n",
        "import csv\n",
        "import datetime\n",
        "import folium\n",
        "from folium.plugins import FastMarkerCluster\n",
        "import ipywidgets as widgets\n",
        "from IPython.core.display import display, HTML\n",
        "from pandas.errors import EmptyDataError\n",
        "def formatter(value):\n",
        "  return \"{:0.2f}\".format(value)"
      ],
      "execution_count": null,
      "outputs": []
    },
    {
      "cell_type": "markdown",
      "metadata": {
        "id": "F7ZY4G6kVwLj",
        "colab_type": "text"
      },
      "source": [
        "Here we set up some code to help us store and eventually export the metrics."
      ]
    },
    {
      "cell_type": "code",
      "metadata": {
        "id": "aDnEBqa9Vvuc",
        "colab_type": "code",
        "colab": {}
      },
      "source": [
        "inspections = dict()\n",
        "violations = dict()\n",
        "enforcements = dict()\n",
        "penalties = dict()\n",
        "emissions = dict()"
      ],
      "execution_count": null,
      "outputs": []
    },
    {
      "cell_type": "markdown",
      "metadata": {
        "colab_type": "text",
        "id": "su7_wvKWbt3Z"
      },
      "source": [
        "## Start getting data\n",
        "First, get summary data from the ECHO_EXPORTER table."
      ]
    },
    {
      "cell_type": "code",
      "metadata": {
        "colab_type": "code",
        "id": "cBkHsLPtbt3c",
        "colab": {
          "base_uri": "https://localhost:8080/",
          "height": 589
        },
        "outputId": "a275c9b6-72be-4f94-f873-26aeb9016140"
      },
      "source": [
        "# Get everything we will need from ECHO_EXPORTER in a single DB query.\n",
        "# We can then use the full dataframe to specialize views of it.\n",
        "full_echo_data = None\n",
        "column_mapping = {\n",
        "    '\"REGISTRY_ID\"': str,\n",
        "    '\"FAC_NAME\"': str,\n",
        "    '\"FAC_LAT\"': float,\n",
        "    '\"FAC_LONG\"': float,\n",
        "    '\"AIR_IDS\"': str,\n",
        "    '\"NPDES_IDS\"': str,\n",
        "    '\"RCRA_IDS\"': str,\n",
        "    '\"DFR_URL\"': str,\n",
        "    '\"AIR_FLAG\"': str,\n",
        "    '\"NPDES_FLAG\"': str,\n",
        "    '\"GHG_FLAG\"': str,\n",
        "    '\"RCRA_FLAG\"': str,\n",
        "    '\"FAC_ACTIVE_FLAG\"': str\n",
        "}\n",
        "column_names = list( column_mapping.keys() )\n",
        "columns_string = ','.join( column_names )\n",
        "sql = 'select ' + columns_string + ' from \"ECHO_EXPORTER\" where \"AIR_FLAG\" = \\'Y\\' or \"NPDES_FLAG\" = \\'Y\\' or \"GHG_FLAG\" = \\'Y\\' or \"RCRA_FLAG\" = \\'Y\\''\n",
        "try:\n",
        "    # Don't index.\n",
        "    full_echo_data = get_data( sql )\n",
        "except EmptyDataError:\n",
        "    print(\"\\nThere are no EPA facilities for this query.\\n\")\n",
        "full_echo_data"
      ],
      "execution_count": null,
      "outputs": [
        {
          "output_type": "execute_result",
          "data": {
            "text/html": [
              "<div>\n",
              "<style scoped>\n",
              "    .dataframe tbody tr th:only-of-type {\n",
              "        vertical-align: middle;\n",
              "    }\n",
              "\n",
              "    .dataframe tbody tr th {\n",
              "        vertical-align: top;\n",
              "    }\n",
              "\n",
              "    .dataframe thead th {\n",
              "        text-align: right;\n",
              "    }\n",
              "</style>\n",
              "<table border=\"1\" class=\"dataframe\">\n",
              "  <thead>\n",
              "    <tr style=\"text-align: right;\">\n",
              "      <th></th>\n",
              "      <th>REGISTRY_ID</th>\n",
              "      <th>FAC_NAME</th>\n",
              "      <th>FAC_LAT</th>\n",
              "      <th>FAC_LONG</th>\n",
              "      <th>AIR_IDS</th>\n",
              "      <th>NPDES_IDS</th>\n",
              "      <th>RCRA_IDS</th>\n",
              "      <th>DFR_URL</th>\n",
              "      <th>AIR_FLAG</th>\n",
              "      <th>NPDES_FLAG</th>\n",
              "      <th>GHG_FLAG</th>\n",
              "      <th>RCRA_FLAG</th>\n",
              "      <th>FAC_ACTIVE_FLAG</th>\n",
              "    </tr>\n",
              "  </thead>\n",
              "  <tbody>\n",
              "    <tr>\n",
              "      <th>0</th>\n",
              "      <td>1.100079e+11</td>\n",
              "      <td>FRANKLINVILLE CENTRAL OFFICE</td>\n",
              "      <td>39.619710</td>\n",
              "      <td>-75.082060</td>\n",
              "      <td>NaN</td>\n",
              "      <td>NaN</td>\n",
              "      <td>NJD980645550</td>\n",
              "      <td>http://echo.epa.gov/detailed-facility-report?f...</td>\n",
              "      <td>N</td>\n",
              "      <td>N</td>\n",
              "      <td>N</td>\n",
              "      <td>Y</td>\n",
              "      <td>NaN</td>\n",
              "    </tr>\n",
              "    <tr>\n",
              "      <th>1</th>\n",
              "      <td>1.100042e+11</td>\n",
              "      <td>INSTRUMENTAL ENGINEERING</td>\n",
              "      <td>41.023599</td>\n",
              "      <td>-74.202748</td>\n",
              "      <td>NaN</td>\n",
              "      <td>NaN</td>\n",
              "      <td>NJD089751200</td>\n",
              "      <td>http://echo.epa.gov/detailed-facility-report?f...</td>\n",
              "      <td>N</td>\n",
              "      <td>N</td>\n",
              "      <td>N</td>\n",
              "      <td>Y</td>\n",
              "      <td>NaN</td>\n",
              "    </tr>\n",
              "    <tr>\n",
              "      <th>2</th>\n",
              "      <td>1.100047e+11</td>\n",
              "      <td>MIKE BASS USED CAR</td>\n",
              "      <td>41.451417</td>\n",
              "      <td>-82.166056</td>\n",
              "      <td>NaN</td>\n",
              "      <td>NaN</td>\n",
              "      <td>OHD987049517</td>\n",
              "      <td>http://echo.epa.gov/detailed-facility-report?f...</td>\n",
              "      <td>N</td>\n",
              "      <td>N</td>\n",
              "      <td>N</td>\n",
              "      <td>Y</td>\n",
              "      <td>NaN</td>\n",
              "    </tr>\n",
              "    <tr>\n",
              "      <th>3</th>\n",
              "      <td>1.100706e+11</td>\n",
              "      <td>PALM PLAZA</td>\n",
              "      <td>28.818830</td>\n",
              "      <td>-81.887510</td>\n",
              "      <td>NaN</td>\n",
              "      <td>FLR10SZ00</td>\n",
              "      <td>NaN</td>\n",
              "      <td>http://echo.epa.gov/detailed-facility-report?f...</td>\n",
              "      <td>N</td>\n",
              "      <td>Y</td>\n",
              "      <td>N</td>\n",
              "      <td>N</td>\n",
              "      <td>Y</td>\n",
              "    </tr>\n",
              "    <tr>\n",
              "      <th>4</th>\n",
              "      <td>1.100202e+11</td>\n",
              "      <td>WILDLIFE RECREATION POND 1</td>\n",
              "      <td>32.247591</td>\n",
              "      <td>-87.791091</td>\n",
              "      <td>NaN</td>\n",
              "      <td>ALR165713</td>\n",
              "      <td>NaN</td>\n",
              "      <td>http://echo.epa.gov/detailed-facility-report?f...</td>\n",
              "      <td>N</td>\n",
              "      <td>Y</td>\n",
              "      <td>N</td>\n",
              "      <td>N</td>\n",
              "      <td>NaN</td>\n",
              "    </tr>\n",
              "    <tr>\n",
              "      <th>...</th>\n",
              "      <td>...</td>\n",
              "      <td>...</td>\n",
              "      <td>...</td>\n",
              "      <td>...</td>\n",
              "      <td>...</td>\n",
              "      <td>...</td>\n",
              "      <td>...</td>\n",
              "      <td>...</td>\n",
              "      <td>...</td>\n",
              "      <td>...</td>\n",
              "      <td>...</td>\n",
              "      <td>...</td>\n",
              "      <td>...</td>\n",
              "    </tr>\n",
              "    <tr>\n",
              "      <th>1852340</th>\n",
              "      <td>1.100704e+11</td>\n",
              "      <td>PARKS AT LEGACY PHASE 2</td>\n",
              "      <td>33.229586</td>\n",
              "      <td>-96.850452</td>\n",
              "      <td>NaN</td>\n",
              "      <td>TXR15900B</td>\n",
              "      <td>NaN</td>\n",
              "      <td>http://echo.epa.gov/detailed-facility-report?f...</td>\n",
              "      <td>N</td>\n",
              "      <td>Y</td>\n",
              "      <td>N</td>\n",
              "      <td>N</td>\n",
              "      <td>Y</td>\n",
              "    </tr>\n",
              "    <tr>\n",
              "      <th>1852341</th>\n",
              "      <td>1.100052e+11</td>\n",
              "      <td>BERNHARDT &amp; TAYLOR CUSTOM CABINETS</td>\n",
              "      <td>37.502910</td>\n",
              "      <td>-77.601800</td>\n",
              "      <td>NaN</td>\n",
              "      <td>NaN</td>\n",
              "      <td>VAD003117561</td>\n",
              "      <td>http://echo.epa.gov/detailed-facility-report?f...</td>\n",
              "      <td>N</td>\n",
              "      <td>N</td>\n",
              "      <td>N</td>\n",
              "      <td>Y</td>\n",
              "      <td>Y</td>\n",
              "    </tr>\n",
              "    <tr>\n",
              "      <th>1852342</th>\n",
              "      <td>1.100556e+11</td>\n",
              "      <td>FOUNDATION ENERGY MGMT - SCHRAMM #1</td>\n",
              "      <td>40.077161</td>\n",
              "      <td>-102.593594</td>\n",
              "      <td>CO0000000812502009</td>\n",
              "      <td>NaN</td>\n",
              "      <td>NaN</td>\n",
              "      <td>http://echo.epa.gov/detailed-facility-report?f...</td>\n",
              "      <td>Y</td>\n",
              "      <td>N</td>\n",
              "      <td>N</td>\n",
              "      <td>N</td>\n",
              "      <td>NaN</td>\n",
              "    </tr>\n",
              "    <tr>\n",
              "      <th>1852343</th>\n",
              "      <td>1.100201e+11</td>\n",
              "      <td>FLOYD PIT</td>\n",
              "      <td>31.771450</td>\n",
              "      <td>-86.007790</td>\n",
              "      <td>NaN</td>\n",
              "      <td>ALG890136 ALR161820</td>\n",
              "      <td>NaN</td>\n",
              "      <td>http://echo.epa.gov/detailed-facility-report?f...</td>\n",
              "      <td>N</td>\n",
              "      <td>Y</td>\n",
              "      <td>N</td>\n",
              "      <td>N</td>\n",
              "      <td>Y</td>\n",
              "    </tr>\n",
              "    <tr>\n",
              "      <th>1852344</th>\n",
              "      <td>1.100067e+11</td>\n",
              "      <td>H &amp; V HEAVY EQUIPMENT</td>\n",
              "      <td>18.326370</td>\n",
              "      <td>-64.850820</td>\n",
              "      <td>NaN</td>\n",
              "      <td>VI0040207</td>\n",
              "      <td>NaN</td>\n",
              "      <td>http://echo.epa.gov/detailed-facility-report?f...</td>\n",
              "      <td>N</td>\n",
              "      <td>Y</td>\n",
              "      <td>N</td>\n",
              "      <td>N</td>\n",
              "      <td>Y</td>\n",
              "    </tr>\n",
              "  </tbody>\n",
              "</table>\n",
              "<p>1852345 rows × 13 columns</p>\n",
              "</div>"
            ],
            "text/plain": [
              "          REGISTRY_ID  ... FAC_ACTIVE_FLAG\n",
              "0        1.100079e+11  ...             NaN\n",
              "1        1.100042e+11  ...             NaN\n",
              "2        1.100047e+11  ...             NaN\n",
              "3        1.100706e+11  ...               Y\n",
              "4        1.100202e+11  ...             NaN\n",
              "...               ...  ...             ...\n",
              "1852340  1.100704e+11  ...               Y\n",
              "1852341  1.100052e+11  ...               Y\n",
              "1852342  1.100556e+11  ...             NaN\n",
              "1852343  1.100201e+11  ...               Y\n",
              "1852344  1.100067e+11  ...               Y\n",
              "\n",
              "[1852345 rows x 13 columns]"
            ]
          },
          "metadata": {
            "tags": []
          },
          "execution_count": 3
        }
      ]
    },
    {
      "cell_type": "markdown",
      "metadata": {
        "id": "Fnla1jRuQu75",
        "colab_type": "text"
      },
      "source": [
        "## Number of Currently Regulated Facilities Per Program"
      ]
    },
    {
      "cell_type": "code",
      "metadata": {
        "id": "mEcRLg9YRHZI",
        "colab_type": "code",
        "colab": {
          "base_uri": "https://localhost:8080/",
          "height": 167
        },
        "outputId": "70e673a1-0d12-44ac-c077-20f8e307eb30"
      },
      "source": [
        "air_fac = full_echo_data.loc[(full_echo_data[\"AIR_FLAG\"]==\"Y\") & (full_echo_data[\"FAC_ACTIVE_FLAG\"]==\"Y\")].shape[0]\n",
        "water_fac = full_echo_data.loc[(full_echo_data[\"NPDES_FLAG\"]==\"Y\") & (full_echo_data[\"FAC_ACTIVE_FLAG\"]==\"Y\")].shape[0]\n",
        "waste_fac = full_echo_data.loc[(full_echo_data[\"RCRA_FLAG\"]==\"Y\") & (full_echo_data[\"FAC_ACTIVE_FLAG\"]==\"Y\")].shape[0]\n",
        "ghg_fac = full_echo_data.loc[(full_echo_data[\"GHG_FLAG\"]==\"Y\") & (full_echo_data[\"FAC_ACTIVE_FLAG\"]==\"Y\")].shape[0]\n",
        "\n",
        "display(HTML(\"<h3>There are \"+ str(air_fac) + \" facilities currently regulated under the Clean Air Act.</h3>\"))\n",
        "display(HTML(\"<h3>There are \"+ str(water_fac) + \" facilities currently regulated under the Clean Water Act.</h3>\"))\n",
        "display(HTML(\"<h3>There are \"+ str(waste_fac) + \" facilities currently regulated under RCRA (hazardous waste).</h3>\"))\n",
        "display(HTML(\"<h3>There are \"+ str(ghg_fac) + \" facilities currently reporting greenhouse gas emissions.</h3>\"))"
      ],
      "execution_count": null,
      "outputs": [
        {
          "output_type": "display_data",
          "data": {
            "text/html": [
              "<h3>There are 187058 facilities currently regulated under the Clean Air Act.</h3>"
            ],
            "text/plain": [
              "<IPython.core.display.HTML object>"
            ]
          },
          "metadata": {
            "tags": []
          }
        },
        {
          "output_type": "display_data",
          "data": {
            "text/html": [
              "<h3>There are 350203 facilities currently regulated under the Clean Water Act.</h3>"
            ],
            "text/plain": [
              "<IPython.core.display.HTML object>"
            ]
          },
          "metadata": {
            "tags": []
          }
        },
        {
          "output_type": "display_data",
          "data": {
            "text/html": [
              "<h3>There are 605889 facilities currently regulated under RCRA (hazardous waste).</h3>"
            ],
            "text/plain": [
              "<IPython.core.display.HTML object>"
            ]
          },
          "metadata": {
            "tags": []
          }
        },
        {
          "output_type": "display_data",
          "data": {
            "text/html": [
              "<h3>There are 6155 facilities currently reporting greenhouse gas emissions.</h3>"
            ],
            "text/plain": [
              "<IPython.core.display.HTML object>"
            ]
          },
          "metadata": {
            "tags": []
          }
        }
      ]
    },
    {
      "cell_type": "markdown",
      "metadata": {
        "colab_type": "text",
        "id": "TUf6AQfPbt3z"
      },
      "source": [
        "## Clean Air Act inspections in 2019"
      ]
    },
    {
      "cell_type": "code",
      "metadata": {
        "colab_type": "code",
        "id": "rGzitWnObt33",
        "colab": {
          "base_uri": "https://localhost:8080/",
          "height": 419
        },
        "outputId": "5d95eb9e-6a0c-4b15-cf87-adc88bf0acd5"
      },
      "source": [
        "# Use SQL to search for and select the data about air stack tests\n",
        "air_inspections = None\n",
        "try:\n",
        "    sql = 'select * from \\\"ICIS-AIR_FCES_PCES\\\" where \\\"ACTUAL_END_DATE\\\" like \\'__-__-2019\\''\n",
        "\n",
        "    # Download the data from that URL\n",
        "    air_inspections = get_data( sql, 'pgm_sys_id' )\n",
        "except EmptyDataError:\n",
        "    print( \"No data found\")\n",
        "\n",
        "air_inspections"
      ],
      "execution_count": null,
      "outputs": [
        {
          "output_type": "execute_result",
          "data": {
            "text/html": [
              "<div>\n",
              "<style scoped>\n",
              "    .dataframe tbody tr th:only-of-type {\n",
              "        vertical-align: middle;\n",
              "    }\n",
              "\n",
              "    .dataframe tbody tr th {\n",
              "        vertical-align: top;\n",
              "    }\n",
              "\n",
              "    .dataframe thead th {\n",
              "        text-align: right;\n",
              "    }\n",
              "</style>\n",
              "<table border=\"1\" class=\"dataframe\">\n",
              "  <thead>\n",
              "    <tr style=\"text-align: right;\">\n",
              "      <th></th>\n",
              "      <th>PGM_SYS_ID</th>\n",
              "      <th>ACTIVITY_ID</th>\n",
              "      <th>STATE_EPA_FLAG</th>\n",
              "      <th>ACTIVITY_TYPE_CODE</th>\n",
              "      <th>ACTIVITY_TYPE_DESC</th>\n",
              "      <th>COMP_MONITOR_TYPE_CODE</th>\n",
              "      <th>COMP_MONITOR_TYPE_DESC</th>\n",
              "      <th>ACTUAL_END_DATE</th>\n",
              "      <th>PROGRAM_CODES</th>\n",
              "    </tr>\n",
              "  </thead>\n",
              "  <tbody>\n",
              "    <tr>\n",
              "      <th>0</th>\n",
              "      <td>020000003606390000</td>\n",
              "      <td>3601943049</td>\n",
              "      <td>E</td>\n",
              "      <td>INS</td>\n",
              "      <td>Inspection/Evaluation</td>\n",
              "      <td>PCE</td>\n",
              "      <td>PCE On-Site</td>\n",
              "      <td>07-23-2019</td>\n",
              "      <td>CAACFC, CAAFESOP</td>\n",
              "    </tr>\n",
              "    <tr>\n",
              "      <th>1</th>\n",
              "      <td>020000003606501000</td>\n",
              "      <td>3601851095</td>\n",
              "      <td>E</td>\n",
              "      <td>INS</td>\n",
              "      <td>Inspection/Evaluation</td>\n",
              "      <td>PFF</td>\n",
              "      <td>PCE Off-Site</td>\n",
              "      <td>05-08-2019</td>\n",
              "      <td>CAAOP</td>\n",
              "    </tr>\n",
              "    <tr>\n",
              "      <th>2</th>\n",
              "      <td>020000003606501000</td>\n",
              "      <td>3601866216</td>\n",
              "      <td>E</td>\n",
              "      <td>INS</td>\n",
              "      <td>Inspection/Evaluation</td>\n",
              "      <td>FOO</td>\n",
              "      <td>FCE On-Site</td>\n",
              "      <td>05-01-2019</td>\n",
              "      <td>CAANAM, CAAOP</td>\n",
              "    </tr>\n",
              "    <tr>\n",
              "      <th>3</th>\n",
              "      <td>020000003606501000</td>\n",
              "      <td>3601972076</td>\n",
              "      <td>E</td>\n",
              "      <td>INS</td>\n",
              "      <td>Inspection/Evaluation</td>\n",
              "      <td>PFF</td>\n",
              "      <td>PCE Off-Site</td>\n",
              "      <td>04-24-2019</td>\n",
              "      <td>CAASIP</td>\n",
              "    </tr>\n",
              "    <tr>\n",
              "      <th>4</th>\n",
              "      <td>020000003606501000</td>\n",
              "      <td>3601972077</td>\n",
              "      <td>E</td>\n",
              "      <td>INS</td>\n",
              "      <td>Inspection/Evaluation</td>\n",
              "      <td>PFF</td>\n",
              "      <td>PCE Off-Site</td>\n",
              "      <td>04-17-2019</td>\n",
              "      <td>CAASIP</td>\n",
              "    </tr>\n",
              "    <tr>\n",
              "      <th>...</th>\n",
              "      <td>...</td>\n",
              "      <td>...</td>\n",
              "      <td>...</td>\n",
              "      <td>...</td>\n",
              "      <td>...</td>\n",
              "      <td>...</td>\n",
              "      <td>...</td>\n",
              "      <td>...</td>\n",
              "      <td>...</td>\n",
              "    </tr>\n",
              "    <tr>\n",
              "      <th>48848</th>\n",
              "      <td>VA0000005108900033</td>\n",
              "      <td>3601738402</td>\n",
              "      <td>S</td>\n",
              "      <td>INS</td>\n",
              "      <td>Inspection/Evaluation</td>\n",
              "      <td>PFF</td>\n",
              "      <td>PCE Off-Site</td>\n",
              "      <td>01-23-2019</td>\n",
              "      <td>CAAMACT</td>\n",
              "    </tr>\n",
              "    <tr>\n",
              "      <th>48849</th>\n",
              "      <td>VA0000005108900033</td>\n",
              "      <td>3601744587</td>\n",
              "      <td>S</td>\n",
              "      <td>INS</td>\n",
              "      <td>Inspection/Evaluation</td>\n",
              "      <td>PFF</td>\n",
              "      <td>PCE Off-Site</td>\n",
              "      <td>02-07-2019</td>\n",
              "      <td>CAATVP</td>\n",
              "    </tr>\n",
              "    <tr>\n",
              "      <th>48850</th>\n",
              "      <td>VA0000005108900033</td>\n",
              "      <td>3601912786</td>\n",
              "      <td>S</td>\n",
              "      <td>INS</td>\n",
              "      <td>Inspection/Evaluation</td>\n",
              "      <td>PFF</td>\n",
              "      <td>PCE Off-Site</td>\n",
              "      <td>07-19-2019</td>\n",
              "      <td>CAAMACT, CAASIP, CAATVP</td>\n",
              "    </tr>\n",
              "    <tr>\n",
              "      <th>48851</th>\n",
              "      <td>VA0000005108900033</td>\n",
              "      <td>3601955529</td>\n",
              "      <td>S</td>\n",
              "      <td>INS</td>\n",
              "      <td>Inspection/Evaluation</td>\n",
              "      <td>PFF</td>\n",
              "      <td>PCE Off-Site</td>\n",
              "      <td>08-22-2019</td>\n",
              "      <td>CAATVP</td>\n",
              "    </tr>\n",
              "    <tr>\n",
              "      <th>48852</th>\n",
              "      <td>VA0000005108700117</td>\n",
              "      <td>3601809525</td>\n",
              "      <td>S</td>\n",
              "      <td>INS</td>\n",
              "      <td>Inspection/Evaluation</td>\n",
              "      <td>FOO</td>\n",
              "      <td>FCE On-Site</td>\n",
              "      <td>04-05-2019</td>\n",
              "      <td>CAAFESOP, CAASIP</td>\n",
              "    </tr>\n",
              "  </tbody>\n",
              "</table>\n",
              "<p>48853 rows × 9 columns</p>\n",
              "</div>"
            ],
            "text/plain": [
              "               PGM_SYS_ID  ACTIVITY_ID  ... ACTUAL_END_DATE            PROGRAM_CODES\n",
              "0      020000003606390000   3601943049  ...      07-23-2019         CAACFC, CAAFESOP\n",
              "1      020000003606501000   3601851095  ...      05-08-2019                    CAAOP\n",
              "2      020000003606501000   3601866216  ...      05-01-2019            CAANAM, CAAOP\n",
              "3      020000003606501000   3601972076  ...      04-24-2019                   CAASIP\n",
              "4      020000003606501000   3601972077  ...      04-17-2019                   CAASIP\n",
              "...                   ...          ...  ...             ...                      ...\n",
              "48848  VA0000005108900033   3601738402  ...      01-23-2019                  CAAMACT\n",
              "48849  VA0000005108900033   3601744587  ...      02-07-2019                   CAATVP\n",
              "48850  VA0000005108900033   3601912786  ...      07-19-2019  CAAMACT, CAASIP, CAATVP\n",
              "48851  VA0000005108900033   3601955529  ...      08-22-2019                   CAATVP\n",
              "48852  VA0000005108700117   3601809525  ...      04-05-2019         CAAFESOP, CAASIP\n",
              "\n",
              "[48853 rows x 9 columns]"
            ]
          },
          "metadata": {
            "tags": []
          },
          "execution_count": 12
        }
      ]
    },
    {
      "cell_type": "code",
      "metadata": {
        "id": "lZfbWeMnK7Yk",
        "colab_type": "code",
        "colab": {
          "base_uri": "https://localhost:8080/",
          "height": 57
        },
        "outputId": "70af7756-de4b-4e3b-d381-08e7de4fbcc4"
      },
      "source": [
        "# Number of inspections in 2019 per 1000 regulated facilities\n",
        "\n",
        "air_inspections_metric = formatter((air_inspections.shape[0] / air_fac) * 1000) # Divide by regulated facilities and multiply by desired rate (per 1000)\n",
        "inspections[\"CAA\"] = air_inspections_metric\n",
        "display(HTML(\"<h3>\"+ air_inspections_metric +\" inspections per 1000 facilities</h3>\"))"
      ],
      "execution_count": null,
      "outputs": [
        {
          "output_type": "display_data",
          "data": {
            "text/html": [
              "<h3>261 inspections per 1000 facilities</h3>"
            ],
            "text/plain": [
              "<IPython.core.display.HTML object>"
            ]
          },
          "metadata": {
            "tags": []
          }
        }
      ]
    },
    {
      "cell_type": "markdown",
      "metadata": {
        "colab_type": "text",
        "id": "RMjxybzbbt5X"
      },
      "source": [
        "## High priority violations of the Clean Air Act in 2019\n",
        "\n"
      ]
    },
    {
      "cell_type": "code",
      "metadata": {
        "colab_type": "code",
        "id": "z1N2CuKTbt5Z",
        "colab": {
          "base_uri": "https://localhost:8080/",
          "height": 711
        },
        "outputId": "6d7f043e-27cf-428d-d525-491e6aef9555"
      },
      "source": [
        "air_violations = None\n",
        "try:\n",
        "    sql = 'select * from \"ICIS-AIR_VIOLATION_HISTORY\" where \"HPV_DAYZERO_DATE\" like \\'__-__-2019\\''\n",
        "\n",
        "    air_violations = get_data( sql, \"pgm_sys_id\" )\n",
        "\n",
        "    # Remove \"FACIL\" violations, which are paperwork violations according to: https://19january2017snapshot.epa.gov/sites/production/files/2013-10/documents/frvmemo.pdf\n",
        "    # air_violations = air_violations.loc[(air_violations[\"POLLUTANT_DESCS\"]!=\"FACIL\")]\n",
        "except EmptyDataError:\n",
        "    print( \"No data found\")\n",
        "air_violations"
      ],
      "execution_count": null,
      "outputs": [
        {
          "output_type": "execute_result",
          "data": {
            "text/html": [
              "<div>\n",
              "<style scoped>\n",
              "    .dataframe tbody tr th:only-of-type {\n",
              "        vertical-align: middle;\n",
              "    }\n",
              "\n",
              "    .dataframe tbody tr th {\n",
              "        vertical-align: top;\n",
              "    }\n",
              "\n",
              "    .dataframe thead th {\n",
              "        text-align: right;\n",
              "    }\n",
              "</style>\n",
              "<table border=\"1\" class=\"dataframe\">\n",
              "  <thead>\n",
              "    <tr style=\"text-align: right;\">\n",
              "      <th></th>\n",
              "      <th>PGM_SYS_ID</th>\n",
              "      <th>ACTIVITY_ID</th>\n",
              "      <th>AGENCY_TYPE_DESC</th>\n",
              "      <th>STATE_CODE</th>\n",
              "      <th>AIR_LCON_CODE</th>\n",
              "      <th>COMP_DETERMINATION_UID</th>\n",
              "      <th>ENF_RESPONSE_POLICY_CODE</th>\n",
              "      <th>PROGRAM_CODES</th>\n",
              "      <th>PROGRAM_DESCS</th>\n",
              "      <th>POLLUTANT_CODES</th>\n",
              "      <th>POLLUTANT_DESCS</th>\n",
              "      <th>EARLIEST_FRV_DETERM_DATE</th>\n",
              "      <th>HPV_DAYZERO_DATE</th>\n",
              "      <th>HPV_RESOLVED_DATE</th>\n",
              "    </tr>\n",
              "  </thead>\n",
              "  <tbody>\n",
              "    <tr>\n",
              "      <th>0</th>\n",
              "      <td>IN0000001803300043</td>\n",
              "      <td>3601685463</td>\n",
              "      <td>State</td>\n",
              "      <td>IN</td>\n",
              "      <td>NaN</td>\n",
              "      <td>IN000A74118</td>\n",
              "      <td>HPV</td>\n",
              "      <td>CAANSPS</td>\n",
              "      <td>New Source Performance Standards</td>\n",
              "      <td>10373</td>\n",
              "      <td>Particulate matter - PM10</td>\n",
              "      <td>12-03-2018</td>\n",
              "      <td>01-13-2019</td>\n",
              "      <td>NaN</td>\n",
              "    </tr>\n",
              "    <tr>\n",
              "      <th>1</th>\n",
              "      <td>IN0000001801900008</td>\n",
              "      <td>3601799804</td>\n",
              "      <td>State</td>\n",
              "      <td>IN</td>\n",
              "      <td>NaN</td>\n",
              "      <td>IN000A75598</td>\n",
              "      <td>HPV</td>\n",
              "      <td>CAAMACT</td>\n",
              "      <td>MACT Standards (40 CFR Part 63)</td>\n",
              "      <td>300000036</td>\n",
              "      <td>Mercury</td>\n",
              "      <td>04-05-2019</td>\n",
              "      <td>04-30-2019</td>\n",
              "      <td>05-26-2020</td>\n",
              "    </tr>\n",
              "    <tr>\n",
              "      <th>2</th>\n",
              "      <td>IN0000001801900008</td>\n",
              "      <td>3602022157</td>\n",
              "      <td>State</td>\n",
              "      <td>IN</td>\n",
              "      <td>NaN</td>\n",
              "      <td>IN000A78256</td>\n",
              "      <td>HPV</td>\n",
              "      <td>CAAMACT</td>\n",
              "      <td>MACT Standards (40 CFR Part 63)</td>\n",
              "      <td>300000036</td>\n",
              "      <td>Mercury</td>\n",
              "      <td>09-25-2019</td>\n",
              "      <td>12-24-2019</td>\n",
              "      <td>NaN</td>\n",
              "    </tr>\n",
              "    <tr>\n",
              "      <th>3</th>\n",
              "      <td>MN0000002704700055</td>\n",
              "      <td>3602241949</td>\n",
              "      <td>State</td>\n",
              "      <td>MN</td>\n",
              "      <td>NaN</td>\n",
              "      <td>MN000A00001670PEN20191</td>\n",
              "      <td>HPV</td>\n",
              "      <td>CAATVP</td>\n",
              "      <td>Title V Permits</td>\n",
              "      <td>10193</td>\n",
              "      <td>Carbon monoxide</td>\n",
              "      <td>06-06-2018</td>\n",
              "      <td>04-23-2019</td>\n",
              "      <td>06-04-2020</td>\n",
              "    </tr>\n",
              "    <tr>\n",
              "      <th>4</th>\n",
              "      <td>PA000493288</td>\n",
              "      <td>3601889184</td>\n",
              "      <td>State</td>\n",
              "      <td>PA</td>\n",
              "      <td>NaN</td>\n",
              "      <td>PA000A0000H00000000376058</td>\n",
              "      <td>HPV</td>\n",
              "      <td>CAAMACT CAANSPS CAASIP CAATVP</td>\n",
              "      <td>MACT Standards (40 CFR Part 63) New Source Per...</td>\n",
              "      <td>10358</td>\n",
              "      <td>Nitrogen oxides</td>\n",
              "      <td>06-06-2019</td>\n",
              "      <td>06-06-2019</td>\n",
              "      <td>04-23-2020</td>\n",
              "    </tr>\n",
              "    <tr>\n",
              "      <th>...</th>\n",
              "      <td>...</td>\n",
              "      <td>...</td>\n",
              "      <td>...</td>\n",
              "      <td>...</td>\n",
              "      <td>...</td>\n",
              "      <td>...</td>\n",
              "      <td>...</td>\n",
              "      <td>...</td>\n",
              "      <td>...</td>\n",
              "      <td>...</td>\n",
              "      <td>...</td>\n",
              "      <td>...</td>\n",
              "      <td>...</td>\n",
              "      <td>...</td>\n",
              "    </tr>\n",
              "    <tr>\n",
              "      <th>813</th>\n",
              "      <td>IN0000001801900155</td>\n",
              "      <td>3602134543</td>\n",
              "      <td>State</td>\n",
              "      <td>IN</td>\n",
              "      <td>NaN</td>\n",
              "      <td>IN000A80006</td>\n",
              "      <td>HPV</td>\n",
              "      <td>CAATVP</td>\n",
              "      <td>Title V Permits</td>\n",
              "      <td>300000018</td>\n",
              "      <td>Hydrochloric acid</td>\n",
              "      <td>12-16-2019</td>\n",
              "      <td>12-16-2019</td>\n",
              "      <td>NaN</td>\n",
              "    </tr>\n",
              "    <tr>\n",
              "      <th>814</th>\n",
              "      <td>WAORC005302700058</td>\n",
              "      <td>3602032106</td>\n",
              "      <td>Local</td>\n",
              "      <td>WA</td>\n",
              "      <td>ORC</td>\n",
              "      <td>WAORCA78445</td>\n",
              "      <td>HPV</td>\n",
              "      <td>CAATVP</td>\n",
              "      <td>Title V Permits</td>\n",
              "      <td>300000243</td>\n",
              "      <td>VOLATILE ORGANIC COMPOUNDS (VOCS)</td>\n",
              "      <td>10-29-2019</td>\n",
              "      <td>10-29-2019</td>\n",
              "      <td>NaN</td>\n",
              "    </tr>\n",
              "    <tr>\n",
              "      <th>815</th>\n",
              "      <td>CO0000000812309FC0</td>\n",
              "      <td>3602053305</td>\n",
              "      <td>State</td>\n",
              "      <td>CO</td>\n",
              "      <td>NaN</td>\n",
              "      <td>CO000A00000812309FC000001</td>\n",
              "      <td>HPV</td>\n",
              "      <td>CAASIP</td>\n",
              "      <td>State Implementation Plan for National Primary...</td>\n",
              "      <td>300000243</td>\n",
              "      <td>VOLATILE ORGANIC COMPOUNDS (VOCS)</td>\n",
              "      <td>06-25-2019</td>\n",
              "      <td>06-25-2019</td>\n",
              "      <td>10-03-2019</td>\n",
              "    </tr>\n",
              "    <tr>\n",
              "      <th>816</th>\n",
              "      <td>AL0000000104900048</td>\n",
              "      <td>3602051772</td>\n",
              "      <td>State</td>\n",
              "      <td>AL</td>\n",
              "      <td>NaN</td>\n",
              "      <td>AL000A78887</td>\n",
              "      <td>HPV</td>\n",
              "      <td>CAATVP</td>\n",
              "      <td>Title V Permits</td>\n",
              "      <td>300000328</td>\n",
              "      <td>ADMIN</td>\n",
              "      <td>11-05-2019</td>\n",
              "      <td>11-05-2019</td>\n",
              "      <td>NaN</td>\n",
              "    </tr>\n",
              "    <tr>\n",
              "      <th>817</th>\n",
              "      <td>CABAAA0085</td>\n",
              "      <td>3602188895</td>\n",
              "      <td>Local</td>\n",
              "      <td>CA</td>\n",
              "      <td>BAA</td>\n",
              "      <td>CABAAA80845</td>\n",
              "      <td>HPV</td>\n",
              "      <td>CAATVP</td>\n",
              "      <td>Title V Permits</td>\n",
              "      <td>300000243</td>\n",
              "      <td>VOLATILE ORGANIC COMPOUNDS (VOCS)</td>\n",
              "      <td>07-23-2019</td>\n",
              "      <td>07-23-2019</td>\n",
              "      <td>NaN</td>\n",
              "    </tr>\n",
              "  </tbody>\n",
              "</table>\n",
              "<p>818 rows × 14 columns</p>\n",
              "</div>"
            ],
            "text/plain": [
              "             PGM_SYS_ID  ACTIVITY_ID  ... HPV_DAYZERO_DATE HPV_RESOLVED_DATE\n",
              "0    IN0000001803300043   3601685463  ...       01-13-2019               NaN\n",
              "1    IN0000001801900008   3601799804  ...       04-30-2019        05-26-2020\n",
              "2    IN0000001801900008   3602022157  ...       12-24-2019               NaN\n",
              "3    MN0000002704700055   3602241949  ...       04-23-2019        06-04-2020\n",
              "4           PA000493288   3601889184  ...       06-06-2019        04-23-2020\n",
              "..                  ...          ...  ...              ...               ...\n",
              "813  IN0000001801900155   3602134543  ...       12-16-2019               NaN\n",
              "814   WAORC005302700058   3602032106  ...       10-29-2019               NaN\n",
              "815  CO0000000812309FC0   3602053305  ...       06-25-2019        10-03-2019\n",
              "816  AL0000000104900048   3602051772  ...       11-05-2019               NaN\n",
              "817          CABAAA0085   3602188895  ...       07-23-2019               NaN\n",
              "\n",
              "[818 rows x 14 columns]"
            ]
          },
          "metadata": {
            "tags": []
          },
          "execution_count": 30
        }
      ]
    },
    {
      "cell_type": "code",
      "metadata": {
        "id": "KUQs-_I045oc",
        "colab_type": "code",
        "cellView": "both",
        "colab": {
          "base_uri": "https://localhost:8080/",
          "height": 57
        },
        "outputId": "18e7b995-331e-4e91-ccad-6201038e133b"
      },
      "source": [
        "# Number of high priority violations per 1000 regulated facilities\n",
        "\n",
        "#air_violations_fac = air_violations.shape[0] / len(air_violations[\"PGM_SYS_ID\"].unique()) # Total number of violations divided by number of facilities with violations. Will use this later in looking at enforcement actions.\n",
        "air_violations_metric = formatter((air_violations.shape[0] / air_fac) * 1000) # Divide by regulated facilities and multiply by desired rate (per 1000)\n",
        "violations[\"CAA\"] = air_violations_metric\n",
        "display(HTML(\"<h3>\"+air_violations_metric+\" high priority violations per 1000 facilities </h3>\"))"
      ],
      "execution_count": null,
      "outputs": [
        {
          "output_type": "display_data",
          "data": {
            "text/html": [
              "<h3>4 high priority violations per 1000 facilities </h3>"
            ],
            "text/plain": [
              "<IPython.core.display.HTML object>"
            ]
          },
          "metadata": {
            "tags": []
          }
        }
      ]
    },
    {
      "cell_type": "markdown",
      "metadata": {
        "id": "DGdQDifqo3Bg",
        "colab_type": "text"
      },
      "source": [
        "## Formal Enforcement Actions and Penalties under the Clean Air Act in 2019"
      ]
    },
    {
      "cell_type": "code",
      "metadata": {
        "id": "vKHjSEl6o0tp",
        "colab_type": "code",
        "colab": {
          "base_uri": "https://localhost:8080/",
          "height": 419
        },
        "outputId": "8ddd471a-327f-465a-aa52-4afa253802ac"
      },
      "source": [
        "air_enforcements = None\n",
        "try:\n",
        "    sql = 'select * from \"ICIS-AIR_FORMAL_ACTIONS\" where \"SETTLEMENT_ENTERED_DATE\" like \\'__/__/2019\\''\n",
        "\n",
        "    air_enforcements = get_data( sql, \"pgm_sys_id\" )\n",
        "except EmptyDataError:\n",
        "    print( \"No data found\")\n",
        "air_enforcements"
      ],
      "execution_count": null,
      "outputs": [
        {
          "output_type": "execute_result",
          "data": {
            "text/html": [
              "<div>\n",
              "<style scoped>\n",
              "    .dataframe tbody tr th:only-of-type {\n",
              "        vertical-align: middle;\n",
              "    }\n",
              "\n",
              "    .dataframe tbody tr th {\n",
              "        vertical-align: top;\n",
              "    }\n",
              "\n",
              "    .dataframe thead th {\n",
              "        text-align: right;\n",
              "    }\n",
              "</style>\n",
              "<table border=\"1\" class=\"dataframe\">\n",
              "  <thead>\n",
              "    <tr style=\"text-align: right;\">\n",
              "      <th></th>\n",
              "      <th>PGM_SYS_ID</th>\n",
              "      <th>ACTIVITY_ID</th>\n",
              "      <th>ENF_IDENTIFIER</th>\n",
              "      <th>ACTIVITY_TYPE_CODE</th>\n",
              "      <th>ACTIVITY_TYPE_DESC</th>\n",
              "      <th>STATE_EPA_FLAG</th>\n",
              "      <th>ENF_TYPE_CODE</th>\n",
              "      <th>ENF_TYPE_DESC</th>\n",
              "      <th>SETTLEMENT_ENTERED_DATE</th>\n",
              "      <th>PENALTY_AMOUNT</th>\n",
              "    </tr>\n",
              "  </thead>\n",
              "  <tbody>\n",
              "    <tr>\n",
              "      <th>0</th>\n",
              "      <td>OH0000000627010056</td>\n",
              "      <td>31941</td>\n",
              "      <td>05-1999-0644</td>\n",
              "      <td>JDC</td>\n",
              "      <td>Judicial</td>\n",
              "      <td>E</td>\n",
              "      <td>CIV</td>\n",
              "      <td>Civil Judicial Action</td>\n",
              "      <td>07/17/2019</td>\n",
              "      <td>0.0</td>\n",
              "    </tr>\n",
              "    <tr>\n",
              "      <th>1</th>\n",
              "      <td>OH0000000684000000</td>\n",
              "      <td>31941</td>\n",
              "      <td>05-1999-0644</td>\n",
              "      <td>JDC</td>\n",
              "      <td>Judicial</td>\n",
              "      <td>E</td>\n",
              "      <td>CIV</td>\n",
              "      <td>Civil Judicial Action</td>\n",
              "      <td>07/17/2019</td>\n",
              "      <td>0.0</td>\n",
              "    </tr>\n",
              "    <tr>\n",
              "      <th>2</th>\n",
              "      <td>IN0000001802900002</td>\n",
              "      <td>31941</td>\n",
              "      <td>05-1999-0644</td>\n",
              "      <td>JDC</td>\n",
              "      <td>Judicial</td>\n",
              "      <td>E</td>\n",
              "      <td>CIV</td>\n",
              "      <td>Civil Judicial Action</td>\n",
              "      <td>07/17/2019</td>\n",
              "      <td>0.0</td>\n",
              "    </tr>\n",
              "    <tr>\n",
              "      <th>3</th>\n",
              "      <td>IN0000001814700020</td>\n",
              "      <td>31941</td>\n",
              "      <td>05-1999-0644</td>\n",
              "      <td>JDC</td>\n",
              "      <td>Judicial</td>\n",
              "      <td>E</td>\n",
              "      <td>CIV</td>\n",
              "      <td>Civil Judicial Action</td>\n",
              "      <td>07/17/2019</td>\n",
              "      <td>0.0</td>\n",
              "    </tr>\n",
              "    <tr>\n",
              "      <th>4</th>\n",
              "      <td>OH0000000165000006</td>\n",
              "      <td>31941</td>\n",
              "      <td>05-1999-0644</td>\n",
              "      <td>JDC</td>\n",
              "      <td>Judicial</td>\n",
              "      <td>E</td>\n",
              "      <td>CIV</td>\n",
              "      <td>Civil Judicial Action</td>\n",
              "      <td>07/17/2019</td>\n",
              "      <td>0.0</td>\n",
              "    </tr>\n",
              "    <tr>\n",
              "      <th>...</th>\n",
              "      <td>...</td>\n",
              "      <td>...</td>\n",
              "      <td>...</td>\n",
              "      <td>...</td>\n",
              "      <td>...</td>\n",
              "      <td>...</td>\n",
              "      <td>...</td>\n",
              "      <td>...</td>\n",
              "      <td>...</td>\n",
              "      <td>...</td>\n",
              "    </tr>\n",
              "    <tr>\n",
              "      <th>2636</th>\n",
              "      <td>LA0000002202300278</td>\n",
              "      <td>3602222676</td>\n",
              "      <td>LA000A3059731</td>\n",
              "      <td>AFR</td>\n",
              "      <td>Administrative - Formal</td>\n",
              "      <td>S</td>\n",
              "      <td>SCAAAO</td>\n",
              "      <td>Administrative Order</td>\n",
              "      <td>08/13/2019</td>\n",
              "      <td>0.0</td>\n",
              "    </tr>\n",
              "    <tr>\n",
              "      <th>2637</th>\n",
              "      <td>LA0000002205700094</td>\n",
              "      <td>3602222677</td>\n",
              "      <td>LA000A3059701</td>\n",
              "      <td>AFR</td>\n",
              "      <td>Administrative - Formal</td>\n",
              "      <td>S</td>\n",
              "      <td>SCAAAO</td>\n",
              "      <td>Administrative Order</td>\n",
              "      <td>08/13/2019</td>\n",
              "      <td>0.0</td>\n",
              "    </tr>\n",
              "    <tr>\n",
              "      <th>2638</th>\n",
              "      <td>LA0000002205900097</td>\n",
              "      <td>3602232677</td>\n",
              "      <td>LA000A2863864</td>\n",
              "      <td>AFR</td>\n",
              "      <td>Administrative - Formal</td>\n",
              "      <td>S</td>\n",
              "      <td>SCAAAO</td>\n",
              "      <td>Administrative Order</td>\n",
              "      <td>11/14/2019</td>\n",
              "      <td>0.0</td>\n",
              "    </tr>\n",
              "    <tr>\n",
              "      <th>2639</th>\n",
              "      <td>HI0000001500700066</td>\n",
              "      <td>3602236126</td>\n",
              "      <td>HI000AEA93</td>\n",
              "      <td>AFR</td>\n",
              "      <td>Administrative - Formal</td>\n",
              "      <td>S</td>\n",
              "      <td>SCAAAO</td>\n",
              "      <td>Administrative Order</td>\n",
              "      <td>07/11/2019</td>\n",
              "      <td>22800.0</td>\n",
              "    </tr>\n",
              "    <tr>\n",
              "      <th>2640</th>\n",
              "      <td>MI00000000000N7688</td>\n",
              "      <td>3602237523</td>\n",
              "      <td>MI000AN7688FRV0000038302</td>\n",
              "      <td>AFR</td>\n",
              "      <td>Administrative - Formal</td>\n",
              "      <td>S</td>\n",
              "      <td>SCAAAO</td>\n",
              "      <td>Administrative Order</td>\n",
              "      <td>08/08/2019</td>\n",
              "      <td>54600.0</td>\n",
              "    </tr>\n",
              "  </tbody>\n",
              "</table>\n",
              "<p>2641 rows × 10 columns</p>\n",
              "</div>"
            ],
            "text/plain": [
              "              PGM_SYS_ID  ACTIVITY_ID  ... SETTLEMENT_ENTERED_DATE PENALTY_AMOUNT\n",
              "0     OH0000000627010056        31941  ...              07/17/2019            0.0\n",
              "1     OH0000000684000000        31941  ...              07/17/2019            0.0\n",
              "2     IN0000001802900002        31941  ...              07/17/2019            0.0\n",
              "3     IN0000001814700020        31941  ...              07/17/2019            0.0\n",
              "4     OH0000000165000006        31941  ...              07/17/2019            0.0\n",
              "...                  ...          ...  ...                     ...            ...\n",
              "2636  LA0000002202300278   3602222676  ...              08/13/2019            0.0\n",
              "2637  LA0000002205700094   3602222677  ...              08/13/2019            0.0\n",
              "2638  LA0000002205900097   3602232677  ...              11/14/2019            0.0\n",
              "2639  HI0000001500700066   3602236126  ...              07/11/2019        22800.0\n",
              "2640  MI00000000000N7688   3602237523  ...              08/08/2019        54600.0\n",
              "\n",
              "[2641 rows x 10 columns]"
            ]
          },
          "metadata": {
            "tags": []
          },
          "execution_count": 41
        }
      ]
    },
    {
      "cell_type": "code",
      "metadata": {
        "id": "3LYD5_dd6bub",
        "colab_type": "code",
        "colab": {
          "base_uri": "https://localhost:8080/",
          "height": 57
        },
        "outputId": "51fc5671-25ac-40b0-d6e2-b5ba315b82c9"
      },
      "source": [
        "# Number of formal actions in 2019 per violation\n",
        "\n",
        "air_enforcements_metric = formatter(air_enforcements.shape[0]/air_violations.shape[0]) # Formal actions divided by number of violations\n",
        "enforcements[\"CAA\"] = air_enforcements_metric\n",
        "display(HTML(\"<h3>\"+air_enforcements_metric +\" formal enforcement actions per violation</h3>\"))"
      ],
      "execution_count": null,
      "outputs": [
        {
          "output_type": "display_data",
          "data": {
            "text/html": [
              "<h3>3 formal enforcement actions per violation</h3>"
            ],
            "text/plain": [
              "<IPython.core.display.HTML object>"
            ]
          },
          "metadata": {
            "tags": []
          }
        }
      ]
    },
    {
      "cell_type": "code",
      "metadata": {
        "id": "dzdn_TgL5vNF",
        "colab_type": "code",
        "colab": {
          "base_uri": "https://localhost:8080/",
          "height": 221
        },
        "outputId": "12308876-ff91-4b82-aee5-2df35ce1b8d9"
      },
      "source": [
        "air_enforcements[\"ENF_TYPE_DESC\"].unique()"
      ],
      "execution_count": null,
      "outputs": [
        {
          "output_type": "execute_result",
          "data": {
            "text/plain": [
              "array(['Civil Judicial Action', 'Pre-Referral Negotiation',\n",
              "       'Administrative Order', 'CAA 113D1 Action For Penalty',\n",
              "       'CAA 113 Notice Of Violation',\n",
              "       'CAA 113A Admin Compliance Order (Non-Penalty)',\n",
              "       'CAA 120 AO For Noncompliance Penalty',\n",
              "       'CAA 303 AO For Imminent Hazard',\n",
              "       'CAA 112R9 AO For Imm Hazard/Accdntl Release',\n",
              "       'CAA 113D1 Action For Penalty - 112(r) Expedited Settlement Program',\n",
              "       'CAA 205 Action For Mobile/Title II Expedited Settlement Program',\n",
              "       'Access Order',\n",
              "       'CAA 205 Action For Vehicles and Engines Defeat Device/Tampering Expedited Settlement Program'],\n",
              "      dtype=object)"
            ]
          },
          "metadata": {
            "tags": []
          },
          "execution_count": 86
        }
      ]
    },
    {
      "cell_type": "code",
      "metadata": {
        "id": "Z7ykKG7V7G4b",
        "colab_type": "code",
        "colab": {
          "base_uri": "https://localhost:8080/",
          "height": 57
        },
        "outputId": "e2a393f2-f21a-4cab-8785-4ea9f0b53b28"
      },
      "source": [
        "# Penalties each year per penalized facility\n",
        "air_penalties = air_enforcements.loc[air_enforcements[\"PENALTY_AMOUNT\"]>0]\n",
        "air_penalties_metric = formatter(sum(air_penalties[\"PENALTY_AMOUNT\"]) / len(air_penalties[\"PGM_SYS_ID\"].unique())) #Divide the sum of penalties by number of penalized facilities\n",
        "penalties[\"CAA\"] = air_penalties_metric\n",
        "display(HTML(\"<h3>$\"+air_penalties_metric +\" per penalized facility</h3>\"))"
      ],
      "execution_count": null,
      "outputs": [
        {
          "output_type": "display_data",
          "data": {
            "text/html": [
              "<h3>$49279 per penalized facility</h3>"
            ],
            "text/plain": [
              "<IPython.core.display.HTML object>"
            ]
          },
          "metadata": {
            "tags": []
          }
        }
      ]
    },
    {
      "cell_type": "markdown",
      "metadata": {
        "colab_type": "text",
        "id": "bevtiFu2bt6M"
      },
      "source": [
        "---"
      ]
    },
    {
      "cell_type": "markdown",
      "metadata": {
        "id": "hOmeJnXgnzOC",
        "colab_type": "text"
      },
      "source": [
        "## Clean Water Act inspections in 2019"
      ]
    },
    {
      "cell_type": "code",
      "metadata": {
        "id": "gHXwXWcqnyNO",
        "colab_type": "code",
        "colab": {
          "base_uri": "https://localhost:8080/",
          "height": 450
        },
        "outputId": "af8481b6-9354-48b7-f4aa-e457f25b2dbf"
      },
      "source": [
        "# Find facilities with pollutant exceedences\n",
        "water_inspections = None\n",
        "try:\n",
        "    sql = 'select \"NPDES_ID\", \"REGISTRY_ID\", \"ACTUAL_END_DATE\", \"STATE_EPA_FLAG\"' + \\\n",
        "        ' from \"NPDES_INSPECTIONS\" where \"ACTUAL_END_DATE\" like \\'__/__/2019\\''\n",
        "\n",
        "    water_inspections = get_data( sql, \"NPDES_ID\" ) \n",
        "except EmptyDataError:\n",
        "    print( \"No data found\")\n",
        "water_inspections"
      ],
      "execution_count": null,
      "outputs": [
        {
          "output_type": "execute_result",
          "data": {
            "text/html": [
              "<div>\n",
              "<style scoped>\n",
              "    .dataframe tbody tr th:only-of-type {\n",
              "        vertical-align: middle;\n",
              "    }\n",
              "\n",
              "    .dataframe tbody tr th {\n",
              "        vertical-align: top;\n",
              "    }\n",
              "\n",
              "    .dataframe thead th {\n",
              "        text-align: right;\n",
              "    }\n",
              "</style>\n",
              "<table border=\"1\" class=\"dataframe\">\n",
              "  <thead>\n",
              "    <tr style=\"text-align: right;\">\n",
              "      <th></th>\n",
              "      <th>REGISTRY_ID</th>\n",
              "      <th>ACTUAL_END_DATE</th>\n",
              "      <th>STATE_EPA_FLAG</th>\n",
              "    </tr>\n",
              "    <tr>\n",
              "      <th>NPDES_ID</th>\n",
              "      <th></th>\n",
              "      <th></th>\n",
              "      <th></th>\n",
              "    </tr>\n",
              "  </thead>\n",
              "  <tbody>\n",
              "    <tr>\n",
              "      <th>AK0000507</th>\n",
              "      <td>110030488620</td>\n",
              "      <td>12/17/2019</td>\n",
              "      <td>S</td>\n",
              "    </tr>\n",
              "    <tr>\n",
              "      <th>AK0021385</th>\n",
              "      <td>110000761453</td>\n",
              "      <td>08/26/2019</td>\n",
              "      <td>E</td>\n",
              "    </tr>\n",
              "    <tr>\n",
              "      <th>AK0022497</th>\n",
              "      <td>110039730459</td>\n",
              "      <td>02/25/2019</td>\n",
              "      <td>S</td>\n",
              "    </tr>\n",
              "    <tr>\n",
              "      <th>AKG370029</th>\n",
              "      <td>110028064387</td>\n",
              "      <td>08/21/2019</td>\n",
              "      <td>S</td>\n",
              "    </tr>\n",
              "    <tr>\n",
              "      <th>AKG520042</th>\n",
              "      <td>110064604094</td>\n",
              "      <td>06/07/2019</td>\n",
              "      <td>S</td>\n",
              "    </tr>\n",
              "    <tr>\n",
              "      <th>...</th>\n",
              "      <td>...</td>\n",
              "      <td>...</td>\n",
              "      <td>...</td>\n",
              "    </tr>\n",
              "    <tr>\n",
              "      <th>WYR320686</th>\n",
              "      <td>110055196746</td>\n",
              "      <td>11/07/2019</td>\n",
              "      <td>S</td>\n",
              "    </tr>\n",
              "    <tr>\n",
              "      <th>WYR320871</th>\n",
              "      <td>110070235311</td>\n",
              "      <td>03/25/2019</td>\n",
              "      <td>S</td>\n",
              "    </tr>\n",
              "    <tr>\n",
              "      <th>WY0095885</th>\n",
              "      <td>110069994811</td>\n",
              "      <td>05/02/2019</td>\n",
              "      <td>S</td>\n",
              "    </tr>\n",
              "    <tr>\n",
              "      <th>WY0096164</th>\n",
              "      <td>110059709917</td>\n",
              "      <td>08/14/2019</td>\n",
              "      <td>S</td>\n",
              "    </tr>\n",
              "    <tr>\n",
              "      <th>WY0096202</th>\n",
              "      <td>110070251349</td>\n",
              "      <td>04/19/2019</td>\n",
              "      <td>S</td>\n",
              "    </tr>\n",
              "  </tbody>\n",
              "</table>\n",
              "<p>52001 rows × 3 columns</p>\n",
              "</div>"
            ],
            "text/plain": [
              "            REGISTRY_ID ACTUAL_END_DATE STATE_EPA_FLAG\n",
              "NPDES_ID                                              \n",
              "AK0000507  110030488620      12/17/2019              S\n",
              "AK0021385  110000761453      08/26/2019              E\n",
              "AK0022497  110039730459      02/25/2019              S\n",
              "AKG370029  110028064387      08/21/2019              S\n",
              "AKG520042  110064604094      06/07/2019              S\n",
              "...                 ...             ...            ...\n",
              "WYR320686  110055196746      11/07/2019              S\n",
              "WYR320871  110070235311      03/25/2019              S\n",
              "WY0095885  110069994811      05/02/2019              S\n",
              "WY0096164  110059709917      08/14/2019              S\n",
              "WY0096202  110070251349      04/19/2019              S\n",
              "\n",
              "[52001 rows x 3 columns]"
            ]
          },
          "metadata": {
            "tags": []
          },
          "execution_count": 50
        }
      ]
    },
    {
      "cell_type": "code",
      "metadata": {
        "id": "YoBlWh8V8BD-",
        "colab_type": "code",
        "colab": {
          "base_uri": "https://localhost:8080/",
          "height": 57
        },
        "outputId": "a946af52-6fc0-451e-a79c-fe1c22dec234"
      },
      "source": [
        "# Number of inspections in 2019 per 1000 regulated facilities\n",
        "\n",
        "water_inspections_metric = formatter((water_inspections.shape[0] / water_fac) * 1000) #Divide by regulated facilities and multiply by desired rate (per 1000)\n",
        "inspections[\"CWA\"] = water_inspections_metric\n",
        "display(HTML(\"<h3>\"+water_inspections_metric +\" inspections per 1000 facilities</h3>\"))"
      ],
      "execution_count": null,
      "outputs": [
        {
          "output_type": "display_data",
          "data": {
            "text/html": [
              "<h3>148.49 inspections per 1000 facilities</h3>"
            ],
            "text/plain": [
              "<IPython.core.display.HTML object>"
            ]
          },
          "metadata": {
            "tags": []
          }
        }
      ]
    },
    {
      "cell_type": "markdown",
      "metadata": {
        "colab_type": "text",
        "id": "C6ntT917bt6N"
      },
      "source": [
        "## Effluent violations of the Clean Water Act in 2019\n",
        "*NOTE*: Not other kind of violations (schedule, permit, single event)"
      ]
    },
    {
      "cell_type": "code",
      "metadata": {
        "colab_type": "code",
        "id": "FmsI5gJAbt6P",
        "colab": {
          "base_uri": "https://localhost:8080/",
          "height": 450
        },
        "outputId": "a03391e3-6eff-4474-b6cc-f061b5e35190"
      },
      "source": [
        "# Find facilities with pollutant exceedences\n",
        "water_violations = None\n",
        "try:\n",
        "    sql = 'select \"NPDES_ID\", \"EXCEEDENCE_PCT\", \"MONITORING_PERIOD_END_DATE\", \"VIOLATION_CODE\", \"PARAMETER_DESC\"' + \\\n",
        "        ' from \"NPDES_EFF_VIOLATIONS\" where \"VIOLATION_CODE\" like \\'E90\\' and \"MONITORING_PERIOD_END_DATE\" like \\'__/__/2019\\''\n",
        "    water_violations = get_data( sql, \"NPDES_ID\" ) \n",
        "except EmptyDataError:\n",
        "    print( \"No data found\")\n",
        "water_violations"
      ],
      "execution_count": null,
      "outputs": [
        {
          "output_type": "execute_result",
          "data": {
            "text/html": [
              "<div>\n",
              "<style scoped>\n",
              "    .dataframe tbody tr th:only-of-type {\n",
              "        vertical-align: middle;\n",
              "    }\n",
              "\n",
              "    .dataframe tbody tr th {\n",
              "        vertical-align: top;\n",
              "    }\n",
              "\n",
              "    .dataframe thead th {\n",
              "        text-align: right;\n",
              "    }\n",
              "</style>\n",
              "<table border=\"1\" class=\"dataframe\">\n",
              "  <thead>\n",
              "    <tr style=\"text-align: right;\">\n",
              "      <th></th>\n",
              "      <th>EXCEEDENCE_PCT</th>\n",
              "      <th>MONITORING_PERIOD_END_DATE</th>\n",
              "      <th>VIOLATION_CODE</th>\n",
              "      <th>PARAMETER_DESC</th>\n",
              "    </tr>\n",
              "    <tr>\n",
              "      <th>NPDES_ID</th>\n",
              "      <th></th>\n",
              "      <th></th>\n",
              "      <th></th>\n",
              "      <th></th>\n",
              "    </tr>\n",
              "  </thead>\n",
              "  <tbody>\n",
              "    <tr>\n",
              "      <th>IN0039497</th>\n",
              "      <td>173.0</td>\n",
              "      <td>08/31/2019</td>\n",
              "      <td>E90</td>\n",
              "      <td>Nitrogen, ammonia total [as N]</td>\n",
              "    </tr>\n",
              "    <tr>\n",
              "      <th>SC0031801</th>\n",
              "      <td>235.0</td>\n",
              "      <td>04/30/2019</td>\n",
              "      <td>E90</td>\n",
              "      <td>Nitrogen, ammonia total [as N]</td>\n",
              "    </tr>\n",
              "    <tr>\n",
              "      <th>NC0023884</th>\n",
              "      <td>5.0</td>\n",
              "      <td>02/28/2019</td>\n",
              "      <td>E90</td>\n",
              "      <td>Flow, in conduit or thru treatment plant</td>\n",
              "    </tr>\n",
              "    <tr>\n",
              "      <th>AR0022756</th>\n",
              "      <td>100.0</td>\n",
              "      <td>08/31/2019</td>\n",
              "      <td>E90</td>\n",
              "      <td>Whole Effluent Toxicity [WET] - D. pulex</td>\n",
              "    </tr>\n",
              "    <tr>\n",
              "      <th>OR0022721</th>\n",
              "      <td>261.0</td>\n",
              "      <td>03/31/2019</td>\n",
              "      <td>E90</td>\n",
              "      <td>Nitrogen, ammonia total [as N]</td>\n",
              "    </tr>\n",
              "    <tr>\n",
              "      <th>...</th>\n",
              "      <td>...</td>\n",
              "      <td>...</td>\n",
              "      <td>...</td>\n",
              "      <td>...</td>\n",
              "    </tr>\n",
              "    <tr>\n",
              "      <th>TX0083003</th>\n",
              "      <td>13.0</td>\n",
              "      <td>06/30/2019</td>\n",
              "      <td>E90</td>\n",
              "      <td>Solids, total suspended</td>\n",
              "    </tr>\n",
              "    <tr>\n",
              "      <th>AL0081396</th>\n",
              "      <td>119.0</td>\n",
              "      <td>03/31/2019</td>\n",
              "      <td>E90</td>\n",
              "      <td>Nitrogen, ammonia total [as N]</td>\n",
              "    </tr>\n",
              "    <tr>\n",
              "      <th>LA0126276</th>\n",
              "      <td>20.0</td>\n",
              "      <td>06/30/2019</td>\n",
              "      <td>E90</td>\n",
              "      <td>Solids, total suspended</td>\n",
              "    </tr>\n",
              "    <tr>\n",
              "      <th>AL0080047</th>\n",
              "      <td>51.0</td>\n",
              "      <td>03/31/2019</td>\n",
              "      <td>E90</td>\n",
              "      <td>Solids, total suspended</td>\n",
              "    </tr>\n",
              "    <tr>\n",
              "      <th>WVG551461</th>\n",
              "      <td>25.0</td>\n",
              "      <td>09/30/2019</td>\n",
              "      <td>E90</td>\n",
              "      <td>Coliform, fecal general</td>\n",
              "    </tr>\n",
              "  </tbody>\n",
              "</table>\n",
              "<p>144989 rows × 4 columns</p>\n",
              "</div>"
            ],
            "text/plain": [
              "           EXCEEDENCE_PCT  ...                            PARAMETER_DESC\n",
              "NPDES_ID                   ...                                          \n",
              "IN0039497           173.0  ...            Nitrogen, ammonia total [as N]\n",
              "SC0031801           235.0  ...            Nitrogen, ammonia total [as N]\n",
              "NC0023884             5.0  ...  Flow, in conduit or thru treatment plant\n",
              "AR0022756           100.0  ...  Whole Effluent Toxicity [WET] - D. pulex\n",
              "OR0022721           261.0  ...            Nitrogen, ammonia total [as N]\n",
              "...                   ...  ...                                       ...\n",
              "TX0083003            13.0  ...                   Solids, total suspended\n",
              "AL0081396           119.0  ...            Nitrogen, ammonia total [as N]\n",
              "LA0126276            20.0  ...                   Solids, total suspended\n",
              "AL0080047            51.0  ...                   Solids, total suspended\n",
              "WVG551461            25.0  ...                   Coliform, fecal general\n",
              "\n",
              "[144989 rows x 4 columns]"
            ]
          },
          "metadata": {
            "tags": []
          },
          "execution_count": 67
        }
      ]
    },
    {
      "cell_type": "code",
      "metadata": {
        "id": "EhmXcwIQ8kXA",
        "colab_type": "code",
        "colab": {
          "base_uri": "https://localhost:8080/",
          "height": 57
        },
        "outputId": "e9c6545b-33b2-4493-f59b-758e640d8b60"
      },
      "source": [
        "# Number of violations each year per 1000 regulated facilities\n",
        "\n",
        "water_violations_metric = formatter((water_violations.shape[0] / water_fac) * 1000) #Divide by regulated facilities and multiply by desired rate (per 1000)\n",
        "violations[\"CWA\"] = water_violations_metric\n",
        "display(HTML(\"<h3>\"+water_violations_metric+\" violations per 1000 facilities</h3>\"))"
      ],
      "execution_count": null,
      "outputs": [
        {
          "output_type": "display_data",
          "data": {
            "text/html": [
              "<h3>414.01 violations per 1000 facilities</h3>"
            ],
            "text/plain": [
              "<IPython.core.display.HTML object>"
            ]
          },
          "metadata": {
            "tags": []
          }
        }
      ]
    },
    {
      "cell_type": "markdown",
      "metadata": {
        "id": "8rMriPuXpkA_",
        "colab_type": "text"
      },
      "source": [
        "## Enforcement Actions and Penalties under the Clean Water Act in 2019"
      ]
    },
    {
      "cell_type": "code",
      "metadata": {
        "id": "g2fIBDtppjeI",
        "colab_type": "code",
        "colab": {
          "base_uri": "https://localhost:8080/",
          "height": 450
        },
        "outputId": "3ad1229a-319b-4a8c-a31a-a557a9d3891e"
      },
      "source": [
        "# Find facilities with pollutant exceedences\n",
        "water_enforcements = None\n",
        "try:\n",
        "    sql = 'select \"NPDES_ID\", \"AGENCY\", \"ENF_TYPE_DESC\", \"SETTLEMENT_ENTERED_DATE\", \"FED_PENALTY_ASSESSED_AMT\", \"STATE_LOCAL_PENALTY_AMT\"' + \\\n",
        "        ' from \"NPDES_FORMAL_ENFORCEMENT_ACTIONS\" where \"SETTLEMENT_ENTERED_DATE\" like \\'__/__/2019\\''\n",
        "\n",
        "    water_enforcements = get_data( sql, \"NPDES_ID\" ) \n",
        "except EmptyDataError:\n",
        "    print( \"No data found\")\n",
        "water_enforcements"
      ],
      "execution_count": null,
      "outputs": [
        {
          "output_type": "execute_result",
          "data": {
            "text/html": [
              "<div>\n",
              "<style scoped>\n",
              "    .dataframe tbody tr th:only-of-type {\n",
              "        vertical-align: middle;\n",
              "    }\n",
              "\n",
              "    .dataframe tbody tr th {\n",
              "        vertical-align: top;\n",
              "    }\n",
              "\n",
              "    .dataframe thead th {\n",
              "        text-align: right;\n",
              "    }\n",
              "</style>\n",
              "<table border=\"1\" class=\"dataframe\">\n",
              "  <thead>\n",
              "    <tr style=\"text-align: right;\">\n",
              "      <th></th>\n",
              "      <th>AGENCY</th>\n",
              "      <th>ENF_TYPE_DESC</th>\n",
              "      <th>SETTLEMENT_ENTERED_DATE</th>\n",
              "      <th>FED_PENALTY_ASSESSED_AMT</th>\n",
              "      <th>STATE_LOCAL_PENALTY_AMT</th>\n",
              "    </tr>\n",
              "    <tr>\n",
              "      <th>NPDES_ID</th>\n",
              "      <th></th>\n",
              "      <th></th>\n",
              "      <th></th>\n",
              "      <th></th>\n",
              "      <th></th>\n",
              "    </tr>\n",
              "  </thead>\n",
              "  <tbody>\n",
              "    <tr>\n",
              "      <th>AL0032310</th>\n",
              "      <td>EPA</td>\n",
              "      <td>CWA 309G2B AO For Class II Penalties</td>\n",
              "      <td>10/28/2019</td>\n",
              "      <td>50000.0</td>\n",
              "      <td>NaN</td>\n",
              "    </tr>\n",
              "    <tr>\n",
              "      <th>AR0041327</th>\n",
              "      <td>State</td>\n",
              "      <td>State Administrative Order of Consent</td>\n",
              "      <td>02/25/2019</td>\n",
              "      <td>NaN</td>\n",
              "      <td>4200.0</td>\n",
              "    </tr>\n",
              "    <tr>\n",
              "      <th>CA0037770</th>\n",
              "      <td>State</td>\n",
              "      <td>State CWA Penalty AO</td>\n",
              "      <td>05/16/2019</td>\n",
              "      <td>NaN</td>\n",
              "      <td>NaN</td>\n",
              "    </tr>\n",
              "    <tr>\n",
              "      <th>CA0048127</th>\n",
              "      <td>State</td>\n",
              "      <td>State CWA Penalty AO</td>\n",
              "      <td>05/21/2019</td>\n",
              "      <td>NaN</td>\n",
              "      <td>NaN</td>\n",
              "    </tr>\n",
              "    <tr>\n",
              "      <th>CA0059188</th>\n",
              "      <td>State</td>\n",
              "      <td>State CWA Penalty AO</td>\n",
              "      <td>03/01/2019</td>\n",
              "      <td>NaN</td>\n",
              "      <td>NaN</td>\n",
              "    </tr>\n",
              "    <tr>\n",
              "      <th>...</th>\n",
              "      <td>...</td>\n",
              "      <td>...</td>\n",
              "      <td>...</td>\n",
              "      <td>...</td>\n",
              "      <td>...</td>\n",
              "    </tr>\n",
              "    <tr>\n",
              "      <th>PAS212211</th>\n",
              "      <td>State</td>\n",
              "      <td>State CWA Non Penalty AO</td>\n",
              "      <td>01/03/2019</td>\n",
              "      <td>NaN</td>\n",
              "      <td>NaN</td>\n",
              "    </tr>\n",
              "    <tr>\n",
              "      <th>SC0040606</th>\n",
              "      <td>State</td>\n",
              "      <td>State Administrative Order of Consent</td>\n",
              "      <td>05/24/2019</td>\n",
              "      <td>NaN</td>\n",
              "      <td>90.0</td>\n",
              "    </tr>\n",
              "    <tr>\n",
              "      <th>TXR05EJ33</th>\n",
              "      <td>State</td>\n",
              "      <td>State CWA Penalty AO</td>\n",
              "      <td>09/10/2019</td>\n",
              "      <td>NaN</td>\n",
              "      <td>875.0</td>\n",
              "    </tr>\n",
              "    <tr>\n",
              "      <th>TXR15172E</th>\n",
              "      <td>State</td>\n",
              "      <td>State CWA Penalty AO</td>\n",
              "      <td>02/05/2019</td>\n",
              "      <td>NaN</td>\n",
              "      <td>1212.0</td>\n",
              "    </tr>\n",
              "    <tr>\n",
              "      <th>TXR15804V</th>\n",
              "      <td>State</td>\n",
              "      <td>State CWA Penalty AO</td>\n",
              "      <td>08/13/2019</td>\n",
              "      <td>NaN</td>\n",
              "      <td>875.0</td>\n",
              "    </tr>\n",
              "  </tbody>\n",
              "</table>\n",
              "<p>4014 rows × 5 columns</p>\n",
              "</div>"
            ],
            "text/plain": [
              "          AGENCY  ... STATE_LOCAL_PENALTY_AMT\n",
              "NPDES_ID          ...                        \n",
              "AL0032310    EPA  ...                     NaN\n",
              "AR0041327  State  ...                  4200.0\n",
              "CA0037770  State  ...                     NaN\n",
              "CA0048127  State  ...                     NaN\n",
              "CA0059188  State  ...                     NaN\n",
              "...          ...  ...                     ...\n",
              "PAS212211  State  ...                     NaN\n",
              "SC0040606  State  ...                    90.0\n",
              "TXR05EJ33  State  ...                   875.0\n",
              "TXR15172E  State  ...                  1212.0\n",
              "TXR15804V  State  ...                   875.0\n",
              "\n",
              "[4014 rows x 5 columns]"
            ]
          },
          "metadata": {
            "tags": []
          },
          "execution_count": 58
        }
      ]
    },
    {
      "cell_type": "code",
      "metadata": {
        "id": "v7OKOgCz85l2",
        "colab_type": "code",
        "colab": {
          "base_uri": "https://localhost:8080/",
          "height": 57
        },
        "outputId": "5005c65e-633c-48ee-a9c3-7018f0ee1f02"
      },
      "source": [
        "# Number of formal actions in 2019 per violation\n",
        "water_enforcements_metric = formatter(water_enforcements.shape[0]/water_violations.shape[0]) # Formal actions divided by number of violations\n",
        "enforcements[\"CWA\"] = water_enforcements_metric\n",
        "display(HTML(\"<h3>\"+water_enforcements_metric +\" formal enforcement actions per violation</h3>\"))"
      ],
      "execution_count": null,
      "outputs": [
        {
          "output_type": "display_data",
          "data": {
            "text/html": [
              "<h3>0.03 formal enforcement actions per violation</h3>"
            ],
            "text/plain": [
              "<IPython.core.display.HTML object>"
            ]
          },
          "metadata": {
            "tags": []
          }
        }
      ]
    },
    {
      "cell_type": "code",
      "metadata": {
        "id": "TUH-7_dc58pU",
        "colab_type": "code",
        "colab": {
          "base_uri": "https://localhost:8080/",
          "height": 153
        },
        "outputId": "2823e4ee-4923-424c-fc2a-0ca59b4e800b"
      },
      "source": [
        "water_enforcements[\"ENF_TYPE_DESC\"].unique()"
      ],
      "execution_count": null,
      "outputs": [
        {
          "output_type": "execute_result",
          "data": {
            "text/plain": [
              "array(['CWA 309G2B AO For Class II Penalties',\n",
              "       'State Administrative Order of Consent', 'State CWA Penalty AO',\n",
              "       'CWA 309A AO For Compliance', 'State CWA Non Penalty AO',\n",
              "       'Civil Judicial Action', 'CWA 309G2A AO For Class I Penalties',\n",
              "       'RCRA 3008A AO For Comp And/Or Penalty',\n",
              "       'CWA 309G2E AO For Class I Penalties - Storm Water Construction Expedited Settlement Program',\n",
              "       'CWA 311B6B1 AO For Class I Penalty - SPCC Expedited Settlement Program',\n",
              "       'Order of Suspension or Revocation'], dtype=object)"
            ]
          },
          "metadata": {
            "tags": []
          },
          "execution_count": 87
        }
      ]
    },
    {
      "cell_type": "code",
      "metadata": {
        "id": "DCFkWo0N9XHl",
        "colab_type": "code",
        "colab": {
          "base_uri": "https://localhost:8080/",
          "height": 57
        },
        "outputId": "98e4efc1-f4c1-4fc7-f392-e6d2848ecb98"
      },
      "source": [
        "# Penalties each year per penalized facility\n",
        "water_penalties = water_enforcements.loc[water_enforcements[\"FED_PENALTY_ASSESSED_AMT\"]>0]\n",
        "water_penalties_metric = formatter(sum(water_penalties[\"FED_PENALTY_ASSESSED_AMT\"]) / len(water_penalties.index.unique())) #Divide the sum of penalties by number of penalized facilities\n",
        "penalties[\"CWA\"] = water_penalties_metric\n",
        "display(HTML(\"<h3>$\"+water_penalties_metric +\" per penalized facility</h3>\"))"
      ],
      "execution_count": null,
      "outputs": [
        {
          "output_type": "display_data",
          "data": {
            "text/html": [
              "<h3>$58130.57 per penalized facility</h3>"
            ],
            "text/plain": [
              "<IPython.core.display.HTML object>"
            ]
          },
          "metadata": {
            "tags": []
          }
        }
      ]
    },
    {
      "cell_type": "markdown",
      "metadata": {
        "id": "kDFULgy2qPSD",
        "colab_type": "text"
      },
      "source": [
        "## RCRA inspections in 2019"
      ]
    },
    {
      "cell_type": "code",
      "metadata": {
        "id": "0Kq8C8oFqRKe",
        "colab_type": "code",
        "colab": {
          "base_uri": "https://localhost:8080/",
          "height": 450
        },
        "outputId": "9c171f0e-9579-43dd-ff4e-e79ef739798a"
      },
      "source": [
        "# Find facilities with pollutant exceedences\n",
        "waste_inspections = None\n",
        "try:\n",
        "    sql = 'select * from \"RCRA_EVALUATIONS\" where \"EVALUATION_START_DATE\" like \\'__/__/2019\\''\n",
        "\n",
        "    waste_inspections = get_data( sql, \"ID_NUMBER\" ) \n",
        "except EmptyDataError:\n",
        "    print( \"No data found\")\n",
        "waste_inspections"
      ],
      "execution_count": null,
      "outputs": [
        {
          "output_type": "execute_result",
          "data": {
            "text/html": [
              "<div>\n",
              "<style scoped>\n",
              "    .dataframe tbody tr th:only-of-type {\n",
              "        vertical-align: middle;\n",
              "    }\n",
              "\n",
              "    .dataframe tbody tr th {\n",
              "        vertical-align: top;\n",
              "    }\n",
              "\n",
              "    .dataframe thead th {\n",
              "        text-align: right;\n",
              "    }\n",
              "</style>\n",
              "<table border=\"1\" class=\"dataframe\">\n",
              "  <thead>\n",
              "    <tr style=\"text-align: right;\">\n",
              "      <th></th>\n",
              "      <th>ACTIVITY_LOCATION</th>\n",
              "      <th>EVALUATION_IDENTIFIER</th>\n",
              "      <th>EVALUATION_TYPE</th>\n",
              "      <th>EVALUATION_DESC</th>\n",
              "      <th>EVALUATION_AGENCY</th>\n",
              "      <th>EVALUATION_START_DATE</th>\n",
              "      <th>FOUND_VIOLATION</th>\n",
              "    </tr>\n",
              "    <tr>\n",
              "      <th>ID_NUMBER</th>\n",
              "      <th></th>\n",
              "      <th></th>\n",
              "      <th></th>\n",
              "      <th></th>\n",
              "      <th></th>\n",
              "      <th></th>\n",
              "      <th></th>\n",
              "    </tr>\n",
              "  </thead>\n",
              "  <tbody>\n",
              "    <tr>\n",
              "      <th>MAD982196164</th>\n",
              "      <td>MA</td>\n",
              "      <td>001</td>\n",
              "      <td>CEI</td>\n",
              "      <td>COMPLIANCE EVALUATION INSPECTION ON-SITE</td>\n",
              "      <td>S</td>\n",
              "      <td>08/07/2019</td>\n",
              "      <td>N</td>\n",
              "    </tr>\n",
              "    <tr>\n",
              "      <th>WIR000170340</th>\n",
              "      <td>WI</td>\n",
              "      <td>001</td>\n",
              "      <td>FCI</td>\n",
              "      <td>FOCUSED COMPLIANCE INSPECTION</td>\n",
              "      <td>S</td>\n",
              "      <td>07/02/2019</td>\n",
              "      <td>Y</td>\n",
              "    </tr>\n",
              "    <tr>\n",
              "      <th>WID006129225</th>\n",
              "      <td>WI</td>\n",
              "      <td>001</td>\n",
              "      <td>CEI</td>\n",
              "      <td>COMPLIANCE EVALUATION INSPECTION ON-SITE</td>\n",
              "      <td>S</td>\n",
              "      <td>10/07/2019</td>\n",
              "      <td>Y</td>\n",
              "    </tr>\n",
              "    <tr>\n",
              "      <th>KYR000056879</th>\n",
              "      <td>KY</td>\n",
              "      <td>001</td>\n",
              "      <td>NRR</td>\n",
              "      <td>NON-FINANCIAL RECORD REVIEW</td>\n",
              "      <td>S</td>\n",
              "      <td>10/11/2019</td>\n",
              "      <td>N</td>\n",
              "    </tr>\n",
              "    <tr>\n",
              "      <th>KYD006376347</th>\n",
              "      <td>KY</td>\n",
              "      <td>001</td>\n",
              "      <td>CEI</td>\n",
              "      <td>COMPLIANCE EVALUATION INSPECTION ON-SITE</td>\n",
              "      <td>S</td>\n",
              "      <td>09/25/2019</td>\n",
              "      <td>N</td>\n",
              "    </tr>\n",
              "    <tr>\n",
              "      <th>...</th>\n",
              "      <td>...</td>\n",
              "      <td>...</td>\n",
              "      <td>...</td>\n",
              "      <td>...</td>\n",
              "      <td>...</td>\n",
              "      <td>...</td>\n",
              "      <td>...</td>\n",
              "    </tr>\n",
              "    <tr>\n",
              "      <th>OHR000210906</th>\n",
              "      <td>OH</td>\n",
              "      <td>001</td>\n",
              "      <td>FCI</td>\n",
              "      <td>FOCUSED COMPLIANCE INSPECTION</td>\n",
              "      <td>S</td>\n",
              "      <td>03/18/2019</td>\n",
              "      <td>Y</td>\n",
              "    </tr>\n",
              "    <tr>\n",
              "      <th>RID987470598</th>\n",
              "      <td>RI</td>\n",
              "      <td>001</td>\n",
              "      <td>CSE</td>\n",
              "      <td>COMPLIANCE SCHEDULE EVALUATION</td>\n",
              "      <td>S</td>\n",
              "      <td>03/20/2019</td>\n",
              "      <td>N</td>\n",
              "    </tr>\n",
              "    <tr>\n",
              "      <th>KYR000049049</th>\n",
              "      <td>KY</td>\n",
              "      <td>001</td>\n",
              "      <td>CEI</td>\n",
              "      <td>COMPLIANCE EVALUATION INSPECTION ON-SITE</td>\n",
              "      <td>S</td>\n",
              "      <td>03/12/2019</td>\n",
              "      <td>N</td>\n",
              "    </tr>\n",
              "    <tr>\n",
              "      <th>NYR000124594</th>\n",
              "      <td>NY</td>\n",
              "      <td>001</td>\n",
              "      <td>CEI</td>\n",
              "      <td>COMPLIANCE EVALUATION INSPECTION ON-SITE</td>\n",
              "      <td>S</td>\n",
              "      <td>02/27/2019</td>\n",
              "      <td>N</td>\n",
              "    </tr>\n",
              "    <tr>\n",
              "      <th>MTR000209791</th>\n",
              "      <td>MT</td>\n",
              "      <td>001</td>\n",
              "      <td>NRR</td>\n",
              "      <td>NON-FINANCIAL RECORD REVIEW</td>\n",
              "      <td>S</td>\n",
              "      <td>03/21/2019</td>\n",
              "      <td>N</td>\n",
              "    </tr>\n",
              "  </tbody>\n",
              "</table>\n",
              "<p>22933 rows × 7 columns</p>\n",
              "</div>"
            ],
            "text/plain": [
              "             ACTIVITY_LOCATION  ... FOUND_VIOLATION\n",
              "ID_NUMBER                       ...                \n",
              "MAD982196164                MA  ...             N  \n",
              "WIR000170340                WI  ...             Y  \n",
              "WID006129225                WI  ...             Y  \n",
              "KYR000056879                KY  ...             N  \n",
              "KYD006376347                KY  ...             N  \n",
              "...                        ...  ...             ...\n",
              "OHR000210906                OH  ...             Y  \n",
              "RID987470598                RI  ...             N  \n",
              "KYR000049049                KY  ...             N  \n",
              "NYR000124594                NY  ...             N  \n",
              "MTR000209791                MT  ...             N  \n",
              "\n",
              "[22933 rows x 7 columns]"
            ]
          },
          "metadata": {
            "tags": []
          },
          "execution_count": 78
        }
      ]
    },
    {
      "cell_type": "code",
      "metadata": {
        "id": "HasmoprP9o0Z",
        "colab_type": "code",
        "colab": {
          "base_uri": "https://localhost:8080/",
          "height": 57
        },
        "outputId": "32fa16a8-4afe-491c-c176-ad345ed7605a"
      },
      "source": [
        "# Number of inspections in 2019 per 1000 regulated facilities\n",
        "waste_inspections_metric = formatter((waste_inspections.shape[0] / waste_fac) * 1000) #Divide by regulated facilities and multiply by desired rate (per 1000)\n",
        "inspections[\"RCRA\"] = waste_inspections_metric\n",
        "display(HTML(\"<h3>\"+waste_inspections_metric+\" inspections per 1000 facilities</h3>\"))"
      ],
      "execution_count": null,
      "outputs": [
        {
          "output_type": "display_data",
          "data": {
            "text/html": [
              "<h3>37.85 inspections per 1000 facilities</h3>"
            ],
            "text/plain": [
              "<IPython.core.display.HTML object>"
            ]
          },
          "metadata": {
            "tags": []
          }
        }
      ]
    },
    {
      "cell_type": "markdown",
      "metadata": {
        "id": "3ycMCo9WqRT_",
        "colab_type": "text"
      },
      "source": [
        "## Violations of RCRA in 2019"
      ]
    },
    {
      "cell_type": "code",
      "metadata": {
        "id": "Jj-LlSbnqS3m",
        "colab_type": "code",
        "colab": {
          "base_uri": "https://localhost:8080/",
          "height": 450
        },
        "outputId": "a5ebbc05-6b81-4437-b659-aa9b633c30bf"
      },
      "source": [
        "# Find facilities with pollutant exceedences\n",
        "waste_violations = None\n",
        "try:\n",
        "    sql = 'select * from \"RCRA_VIOLATIONS\" where \"DATE_VIOLATION_DETERMINED\" like \\'__/__/2019\\''\n",
        "\n",
        "    waste_violations = get_data( sql, \"ID_NUMBER\" ) \n",
        "except EmptyDataError:\n",
        "    print( \"No data found\")\n",
        "waste_violations"
      ],
      "execution_count": null,
      "outputs": [
        {
          "output_type": "execute_result",
          "data": {
            "text/html": [
              "<div>\n",
              "<style scoped>\n",
              "    .dataframe tbody tr th:only-of-type {\n",
              "        vertical-align: middle;\n",
              "    }\n",
              "\n",
              "    .dataframe tbody tr th {\n",
              "        vertical-align: top;\n",
              "    }\n",
              "\n",
              "    .dataframe thead th {\n",
              "        text-align: right;\n",
              "    }\n",
              "</style>\n",
              "<table border=\"1\" class=\"dataframe\">\n",
              "  <thead>\n",
              "    <tr style=\"text-align: right;\">\n",
              "      <th></th>\n",
              "      <th>ACTIVITY_LOCATION</th>\n",
              "      <th>VIOLATION_TYPE</th>\n",
              "      <th>VIOLATION_TYPE_DESC</th>\n",
              "      <th>VIOL_DETERMINED_BY_AGENCY</th>\n",
              "      <th>DATE_VIOLATION_DETERMINED</th>\n",
              "      <th>ACTUAL_RTC_DATE</th>\n",
              "      <th>SCHEDULED_COMPLIANCE_DATE</th>\n",
              "    </tr>\n",
              "    <tr>\n",
              "      <th>ID_NUMBER</th>\n",
              "      <th></th>\n",
              "      <th></th>\n",
              "      <th></th>\n",
              "      <th></th>\n",
              "      <th></th>\n",
              "      <th></th>\n",
              "      <th></th>\n",
              "    </tr>\n",
              "  </thead>\n",
              "  <tbody>\n",
              "    <tr>\n",
              "      <th>MID006020275</th>\n",
              "      <td>MI</td>\n",
              "      <td>262.D</td>\n",
              "      <td>Standards Applicable to Recordkeeping and Repo...</td>\n",
              "      <td>S</td>\n",
              "      <td>11/25/2019</td>\n",
              "      <td>NaN</td>\n",
              "      <td>NaN</td>\n",
              "    </tr>\n",
              "    <tr>\n",
              "      <th>DEN201500044</th>\n",
              "      <td>DE</td>\n",
              "      <td>261.A</td>\n",
              "      <td>ID and Listing of HW: General</td>\n",
              "      <td>S</td>\n",
              "      <td>05/22/2019</td>\n",
              "      <td>05/22/2019</td>\n",
              "      <td>NaN</td>\n",
              "    </tr>\n",
              "    <tr>\n",
              "      <th>SCD069316271</th>\n",
              "      <td>SC</td>\n",
              "      <td>273.B</td>\n",
              "      <td>Standards for Universal Waste Management: Stan...</td>\n",
              "      <td>S</td>\n",
              "      <td>12/17/2019</td>\n",
              "      <td>03/03/2020</td>\n",
              "      <td>NaN</td>\n",
              "    </tr>\n",
              "    <tr>\n",
              "      <th>MAD985294750</th>\n",
              "      <td>MA</td>\n",
              "      <td>262.A</td>\n",
              "      <td>Standards Applicable to Generators of HW: General</td>\n",
              "      <td>S</td>\n",
              "      <td>11/15/2019</td>\n",
              "      <td>01/21/2020</td>\n",
              "      <td>NaN</td>\n",
              "    </tr>\n",
              "    <tr>\n",
              "      <th>CTD983871930</th>\n",
              "      <td>CT</td>\n",
              "      <td>262.C</td>\n",
              "      <td>Standards Applicable to Generators of HW: Pre-...</td>\n",
              "      <td>S</td>\n",
              "      <td>04/25/2019</td>\n",
              "      <td>06/18/2019</td>\n",
              "      <td>NaN</td>\n",
              "    </tr>\n",
              "    <tr>\n",
              "      <th>...</th>\n",
              "      <td>...</td>\n",
              "      <td>...</td>\n",
              "      <td>...</td>\n",
              "      <td>...</td>\n",
              "      <td>...</td>\n",
              "      <td>...</td>\n",
              "      <td>...</td>\n",
              "    </tr>\n",
              "    <tr>\n",
              "      <th>TXD981612989</th>\n",
              "      <td>TX</td>\n",
              "      <td>262.D</td>\n",
              "      <td>Standards Applicable to Recordkeeping and Repo...</td>\n",
              "      <td>S</td>\n",
              "      <td>09/11/2019</td>\n",
              "      <td>12/12/2019</td>\n",
              "      <td>NaN</td>\n",
              "    </tr>\n",
              "    <tr>\n",
              "      <th>ORD131968380</th>\n",
              "      <td>OR</td>\n",
              "      <td>262.C</td>\n",
              "      <td>Standards Applicable to Generators of HW: Pre-...</td>\n",
              "      <td>S</td>\n",
              "      <td>04/09/2019</td>\n",
              "      <td>04/17/2019</td>\n",
              "      <td>NaN</td>\n",
              "    </tr>\n",
              "    <tr>\n",
              "      <th>MID980615298</th>\n",
              "      <td>MI</td>\n",
              "      <td>264.C</td>\n",
              "      <td>Standards for Owners and Operators of HW TSDs:...</td>\n",
              "      <td>S</td>\n",
              "      <td>06/26/2019</td>\n",
              "      <td>NaN</td>\n",
              "      <td>NaN</td>\n",
              "    </tr>\n",
              "    <tr>\n",
              "      <th>NCD121700777</th>\n",
              "      <td>NC</td>\n",
              "      <td>268.E</td>\n",
              "      <td>Land Disposal Restrictions: Prohibitions on St...</td>\n",
              "      <td>S</td>\n",
              "      <td>07/15/2019</td>\n",
              "      <td>07/23/2019</td>\n",
              "      <td>07/31/2019</td>\n",
              "    </tr>\n",
              "    <tr>\n",
              "      <th>FLR000222182</th>\n",
              "      <td>FL</td>\n",
              "      <td>262.A</td>\n",
              "      <td>Standards Applicable to Generators of HW: General</td>\n",
              "      <td>S</td>\n",
              "      <td>03/05/2019</td>\n",
              "      <td>05/10/2019</td>\n",
              "      <td>NaN</td>\n",
              "    </tr>\n",
              "  </tbody>\n",
              "</table>\n",
              "<p>14729 rows × 7 columns</p>\n",
              "</div>"
            ],
            "text/plain": [
              "             ACTIVITY_LOCATION  ... SCHEDULED_COMPLIANCE_DATE\n",
              "ID_NUMBER                       ...                          \n",
              "MID006020275                MI  ...                       NaN\n",
              "DEN201500044                DE  ...                       NaN\n",
              "SCD069316271                SC  ...                       NaN\n",
              "MAD985294750                MA  ...                       NaN\n",
              "CTD983871930                CT  ...                       NaN\n",
              "...                        ...  ...                       ...\n",
              "TXD981612989                TX  ...                       NaN\n",
              "ORD131968380                OR  ...                       NaN\n",
              "MID980615298                MI  ...                       NaN\n",
              "NCD121700777                NC  ...                07/31/2019\n",
              "FLR000222182                FL  ...                       NaN\n",
              "\n",
              "[14729 rows x 7 columns]"
            ]
          },
          "metadata": {
            "tags": []
          },
          "execution_count": 82
        }
      ]
    },
    {
      "cell_type": "code",
      "metadata": {
        "id": "gALP4P5y-ASz",
        "colab_type": "code",
        "colab": {
          "base_uri": "https://localhost:8080/",
          "height": 57
        },
        "outputId": "cef3fa22-e660-4887-c1ca-c8133ef0f51d"
      },
      "source": [
        "# Number of violations in 2019 per 1000 regulated facilities\n",
        "waste_violations_metric = formatter((waste_violations.shape[0] / waste_fac) * 1000) #Divide by regulated facilities and multiply by desired rate (per 1000)\n",
        "violations[\"RCRA\"] = waste_violations_metric\n",
        "display(HTML(\"<h3>\"+waste_violations_metric+\" violations per 1000 facilities</h3>\"))"
      ],
      "execution_count": null,
      "outputs": [
        {
          "output_type": "display_data",
          "data": {
            "text/html": [
              "<h3>24.31 violations per 1000 facilities</h3>"
            ],
            "text/plain": [
              "<IPython.core.display.HTML object>"
            ]
          },
          "metadata": {
            "tags": []
          }
        }
      ]
    },
    {
      "cell_type": "markdown",
      "metadata": {
        "id": "HdGcQI-gqTBi",
        "colab_type": "text"
      },
      "source": [
        "## Enforcement Actions and Penalties under RCRA in 2019"
      ]
    },
    {
      "cell_type": "code",
      "metadata": {
        "id": "M8s_Z0M0qUfT",
        "colab_type": "code",
        "colab": {
          "base_uri": "https://localhost:8080/",
          "height": 501
        },
        "outputId": "27978ab7-d52d-4a31-d544-d4b13e21d2e7"
      },
      "source": [
        "# Find facilities with enforcement actions\n",
        "waste_enforcements = None\n",
        "try:\n",
        "    sql = 'select * from \"RCRA_ENFORCEMENTS\" where \"ENFORCEMENT_ACTION_DATE\" like \\'__/__/2019\\''\n",
        "\n",
        "    waste_enforcements = get_data( sql, \"ID_NUMBER\" ) \n",
        "except EmptyDataError:\n",
        "    print( \"No data found\")\n",
        "waste_enforcements"
      ],
      "execution_count": null,
      "outputs": [
        {
          "output_type": "execute_result",
          "data": {
            "text/html": [
              "<div>\n",
              "<style scoped>\n",
              "    .dataframe tbody tr th:only-of-type {\n",
              "        vertical-align: middle;\n",
              "    }\n",
              "\n",
              "    .dataframe tbody tr th {\n",
              "        vertical-align: top;\n",
              "    }\n",
              "\n",
              "    .dataframe thead th {\n",
              "        text-align: right;\n",
              "    }\n",
              "</style>\n",
              "<table border=\"1\" class=\"dataframe\">\n",
              "  <thead>\n",
              "    <tr style=\"text-align: right;\">\n",
              "      <th></th>\n",
              "      <th>ACTIVITY_LOCATION</th>\n",
              "      <th>ENFORCEMENT_IDENTIFIER</th>\n",
              "      <th>ENFORCEMENT_TYPE</th>\n",
              "      <th>ENFORCEMENT_DESC</th>\n",
              "      <th>ENFORCEMENT_AGENCY</th>\n",
              "      <th>ENFORCEMENT_ACTION_DATE</th>\n",
              "      <th>PMP_AMOUNT</th>\n",
              "      <th>FMP_AMOUNT</th>\n",
              "      <th>FSC_AMOUNT</th>\n",
              "      <th>SCR_AMOUNT</th>\n",
              "    </tr>\n",
              "    <tr>\n",
              "      <th>ID_NUMBER</th>\n",
              "      <th></th>\n",
              "      <th></th>\n",
              "      <th></th>\n",
              "      <th></th>\n",
              "      <th></th>\n",
              "      <th></th>\n",
              "      <th></th>\n",
              "      <th></th>\n",
              "      <th></th>\n",
              "      <th></th>\n",
              "    </tr>\n",
              "  </thead>\n",
              "  <tbody>\n",
              "    <tr>\n",
              "      <th>OKD072424104</th>\n",
              "      <td>OK</td>\n",
              "      <td>001</td>\n",
              "      <td>HQ110</td>\n",
              "      <td>VERBAL INFORMAL</td>\n",
              "      <td>S</td>\n",
              "      <td>03/28/2019</td>\n",
              "      <td>NaN</td>\n",
              "      <td>NaN</td>\n",
              "      <td>NaN</td>\n",
              "      <td>NaN</td>\n",
              "    </tr>\n",
              "    <tr>\n",
              "      <th>WVD107332223</th>\n",
              "      <td>WV</td>\n",
              "      <td>001</td>\n",
              "      <td>HQ120</td>\n",
              "      <td>WRITTEN INFORMAL</td>\n",
              "      <td>S</td>\n",
              "      <td>04/04/2019</td>\n",
              "      <td>NaN</td>\n",
              "      <td>NaN</td>\n",
              "      <td>NaN</td>\n",
              "      <td>NaN</td>\n",
              "    </tr>\n",
              "    <tr>\n",
              "      <th>WAD980722821</th>\n",
              "      <td>WA</td>\n",
              "      <td>001</td>\n",
              "      <td>HQ120</td>\n",
              "      <td>WRITTEN INFORMAL</td>\n",
              "      <td>S</td>\n",
              "      <td>05/31/2019</td>\n",
              "      <td>NaN</td>\n",
              "      <td>NaN</td>\n",
              "      <td>NaN</td>\n",
              "      <td>NaN</td>\n",
              "    </tr>\n",
              "    <tr>\n",
              "      <th>HIR000000067</th>\n",
              "      <td>HI</td>\n",
              "      <td>001</td>\n",
              "      <td>HI145</td>\n",
              "      <td>INSPECTION REPORT WRITTEN</td>\n",
              "      <td>S</td>\n",
              "      <td>03/29/2019</td>\n",
              "      <td>NaN</td>\n",
              "      <td>NaN</td>\n",
              "      <td>NaN</td>\n",
              "      <td>NaN</td>\n",
              "    </tr>\n",
              "    <tr>\n",
              "      <th>AZD980818165</th>\n",
              "      <td>AZ</td>\n",
              "      <td>42</td>\n",
              "      <td>AZ115</td>\n",
              "      <td>NOC/NOTICE OF OPPORTUNITY TO CORRECT</td>\n",
              "      <td>S</td>\n",
              "      <td>05/16/2019</td>\n",
              "      <td>NaN</td>\n",
              "      <td>NaN</td>\n",
              "      <td>NaN</td>\n",
              "      <td>NaN</td>\n",
              "    </tr>\n",
              "    <tr>\n",
              "      <th>...</th>\n",
              "      <td>...</td>\n",
              "      <td>...</td>\n",
              "      <td>...</td>\n",
              "      <td>...</td>\n",
              "      <td>...</td>\n",
              "      <td>...</td>\n",
              "      <td>...</td>\n",
              "      <td>...</td>\n",
              "      <td>...</td>\n",
              "      <td>...</td>\n",
              "    </tr>\n",
              "    <tr>\n",
              "      <th>RID980914550</th>\n",
              "      <td>RI</td>\n",
              "      <td>001</td>\n",
              "      <td>HQ120</td>\n",
              "      <td>WRITTEN INFORMAL</td>\n",
              "      <td>S</td>\n",
              "      <td>12/03/2019</td>\n",
              "      <td>NaN</td>\n",
              "      <td>NaN</td>\n",
              "      <td>NaN</td>\n",
              "      <td>NaN</td>\n",
              "    </tr>\n",
              "    <tr>\n",
              "      <th>GAD075876623</th>\n",
              "      <td>GA</td>\n",
              "      <td>001</td>\n",
              "      <td>HQ310</td>\n",
              "      <td>FINAL 3008(A) COMPLIANCE ORDER</td>\n",
              "      <td>E</td>\n",
              "      <td>02/19/2019</td>\n",
              "      <td>NaN</td>\n",
              "      <td>14500.0</td>\n",
              "      <td>NaN</td>\n",
              "      <td>NaN</td>\n",
              "    </tr>\n",
              "    <tr>\n",
              "      <th>SCD982156531</th>\n",
              "      <td>SC</td>\n",
              "      <td>001</td>\n",
              "      <td>HQ120</td>\n",
              "      <td>WRITTEN INFORMAL</td>\n",
              "      <td>S</td>\n",
              "      <td>04/11/2019</td>\n",
              "      <td>NaN</td>\n",
              "      <td>NaN</td>\n",
              "      <td>NaN</td>\n",
              "      <td>NaN</td>\n",
              "    </tr>\n",
              "    <tr>\n",
              "      <th>TNR000033795</th>\n",
              "      <td>TN</td>\n",
              "      <td>001</td>\n",
              "      <td>TN125</td>\n",
              "      <td>ENF. ACTION REQUEST</td>\n",
              "      <td>S</td>\n",
              "      <td>04/04/2019</td>\n",
              "      <td>NaN</td>\n",
              "      <td>NaN</td>\n",
              "      <td>NaN</td>\n",
              "      <td>NaN</td>\n",
              "    </tr>\n",
              "    <tr>\n",
              "      <th>MND985684737</th>\n",
              "      <td>MN</td>\n",
              "      <td>001</td>\n",
              "      <td>MN213</td>\n",
              "      <td>FORGIVEABLE &amp; NON-FORGIVEABLE APO</td>\n",
              "      <td>S</td>\n",
              "      <td>04/10/2019</td>\n",
              "      <td>9290.0</td>\n",
              "      <td>4990.0</td>\n",
              "      <td>NaN</td>\n",
              "      <td>NaN</td>\n",
              "    </tr>\n",
              "  </tbody>\n",
              "</table>\n",
              "<p>7102 rows × 10 columns</p>\n",
              "</div>"
            ],
            "text/plain": [
              "             ACTIVITY_LOCATION ENFORCEMENT_IDENTIFIER  ... FSC_AMOUNT SCR_AMOUNT\n",
              "ID_NUMBER                                              ...                      \n",
              "OKD072424104                OK                    001  ...        NaN        NaN\n",
              "WVD107332223                WV                    001  ...        NaN        NaN\n",
              "WAD980722821                WA                    001  ...        NaN        NaN\n",
              "HIR000000067                HI                    001  ...        NaN        NaN\n",
              "AZD980818165                AZ                     42  ...        NaN        NaN\n",
              "...                        ...                    ...  ...        ...        ...\n",
              "RID980914550                RI                    001  ...        NaN        NaN\n",
              "GAD075876623                GA                    001  ...        NaN        NaN\n",
              "SCD982156531                SC                    001  ...        NaN        NaN\n",
              "TNR000033795                TN                    001  ...        NaN        NaN\n",
              "MND985684737                MN                    001  ...        NaN        NaN\n",
              "\n",
              "[7102 rows x 10 columns]"
            ]
          },
          "metadata": {
            "tags": []
          },
          "execution_count": 84
        }
      ]
    },
    {
      "cell_type": "code",
      "metadata": {
        "id": "Qif-FilM-bns",
        "colab_type": "code",
        "colab": {
          "base_uri": "https://localhost:8080/",
          "height": 57
        },
        "outputId": "f16ebe81-712d-47c3-c28d-4a411c0c90c0"
      },
      "source": [
        "# Number of enforcement actions each year per violation\n",
        "waste_enforcements_metric = formatter(waste_enforcements.shape[0] / waste_violations.shape[0])\n",
        "enforcements[\"RCRA\"] = waste_enforcements_metric\n",
        "display(HTML(\"<h3>\"+waste_enforcements_metric+\" enforcement actions per violation</h3>\"))"
      ],
      "execution_count": null,
      "outputs": [
        {
          "output_type": "display_data",
          "data": {
            "text/html": [
              "<h3>0.48 formal enforcement actions per violation</h3>"
            ],
            "text/plain": [
              "<IPython.core.display.HTML object>"
            ]
          },
          "metadata": {
            "tags": []
          }
        }
      ]
    },
    {
      "cell_type": "code",
      "metadata": {
        "id": "_UAMZzC06Jw5",
        "colab_type": "code",
        "colab": {
          "base_uri": "https://localhost:8080/",
          "height": 1000
        },
        "outputId": "792d61c5-a7c2-4a19-d9bc-a77750d59064"
      },
      "source": [
        "waste_enforcements[\"ENFORCEMENT_DESC\"].unique()"
      ],
      "execution_count": null,
      "outputs": [
        {
          "output_type": "execute_result",
          "data": {
            "text/plain": [
              "array(['VERBAL INFORMAL', 'WRITTEN INFORMAL', 'INSPECTION REPORT WRITTEN',\n",
              "       'NOC/NOTICE OF OPPORTUNITY TO CORRECT',\n",
              "       '30-DAY COMPLIANCE WARNING LETTER', 'RETURN TO COMPLIANCE LETTER',\n",
              "       'WARNING LETTER',\n",
              "       'FACILITY ENFORCEMENT MEETING 3008(a) (COMPLIANCE SETTLEMENT)',\n",
              "       'SUMMARY OF VIOLATIONS', 'RELEASE OF NOTICE OF VIOLATION',\n",
              "       'FINAL CIVIL JUDICIAL ACTION FOR COMPLIANCE AND/OR MONETARY PENALTY',\n",
              "       'FINAL 3008(A) COMPLIANCE ORDER',\n",
              "       'Director-Division Warning Letter', 'LETTER OF WARNING',\n",
              "       'RECEIVED FACILITY DOCUMENTATION',\n",
              "       'INITIAL CIVIL JUDICIAL ACTION FOR COMPLIANCE AND/OR MONETARY PENALTY',\n",
              "       'INITIAL PROPOSED CONSENT ORDER', 'NOTICE OF NONCOMPLIANCE LETTER',\n",
              "       'DEP MEETING', 'INFORMAL VERBAL ENFORCEMENT',\n",
              "       'INITIAL IMMINENT AND SUBSTANTIAL ENDANGERMENT ORDER',\n",
              "       'COMPLIANCE ADVISORY', 'INITIAL 3008(A) COMPLIANCE',\n",
              "       'ENFORCEMENT REFERRAL', 'SINGLE SITE CA/FO', 'Notice of Violation',\n",
              "       'LETTER OF INTENT TO INITIATE ENFORCEMENT ACTION',\n",
              "       'Bureau Director Decision Date', 'ENFORCEMENT CONFERENCE',\n",
              "       'DE NOTICE OF VIOLATION (NOV)',\n",
              "       'REFERRAL TO ESC ENFORCEMENT SCREEN COMM.',\n",
              "       'Notice of Violation (NOV)', 'NON-FORGIVEABLE APO',\n",
              "       'PRE-ENFORCEMENT NOTICE',\n",
              "       'INSPECTOR FACT FINDING LETTER - Warning letter',\n",
              "       'DOCUMENT RECEIVED', 'REVISED PROPOSED CONSENT ORDER',\n",
              "       'INSPECTION REPORT SENT NO VIOL NO RESPONSE',\n",
              "       'ENF. ACTION REQUEST', 'NOTICE TO COMPLY',\n",
              "       'NOTICE OF VIOLATION & SETTLEMENT',\n",
              "       'Termination of Enforcement Order', 'MULTI SITE CA/FO',\n",
              "       'NOTICE OF DETERMINATION', 'DEP WARNING LETTER',\n",
              "       'No Further Action', 'Letter of Warning (LOW)',\n",
              "       'EXPEDITED PENALTY', 'VIOLATION NOTICE (VN)',\n",
              "       'PROPOSED AGREED ORDER (PAO) SENT', 'DEP SHORT FORM CONSENT ORDER',\n",
              "       'REFERRED TO ENVIRONMENTAL ENFORCEMENT', 'SHOW CAUSE MEETING',\n",
              "       'CONSENT ASSESSMENT OF CIVIL PENALTY', 'NOTICE OF DEFICIENCY',\n",
              "       'Assigned to Enforcement', 'BACK IN COMPLIANCE LTR',\n",
              "       'FIELD FAST TRACK ORDER INITIATION', 'Satisfaction Letter',\n",
              "       'Expedited Citation Formal Penalty Action',\n",
              "       'STATE CONSENT/COMPLIANCE ORDER 3008(A)', 'FINAL PENALTY',\n",
              "       'FINAL 3008(A) SFO ORDER', 'SHOW CAUSE MEETING - DECLINED',\n",
              "       'SITE COMPLAINT', 'FINAL 3008(H) I.S. CA ORDER',\n",
              "       'INFORMAL WRITTEN NOTIFICATION',\n",
              "       'DECISION TO END CASE-NO FURTHER ACTION',\n",
              "       'FIELD NOTICE OF VIOLATION', 'Compliance Communication Letter',\n",
              "       'Penalty Assessment Team Meeting', 'EXPEDITED ENFORCEMENT OFFER',\n",
              "       'REFERRAL TO ENFORCEMENT', 'NOTICE OF VIOLATION LETTER',\n",
              "       'INFORMAL ACTIONS', 'SECOND LETTER OF WARNING (120)',\n",
              "       'WRITTEN COMPLAINT', 'CONSENT ORDER, NO PENALTIES',\n",
              "       'CONSENT ORDER AND AGREEMENT', 'DE LETTER OF WARNING (LOW)',\n",
              "       'NOTICE OF VIOLATION', 'NOV/RECEIVED BY FACILITY',\n",
              "       'FIELD CITATION - MD NOV',\n",
              "       'CAPSB compliance assurance action letter', 'DEP CONSENT ORDER',\n",
              "       'SHOW CAUSE CONFERENCE',\n",
              "       'Agreed order for penalty. (EEAO - Expedited Enforcement Action Offer).',\n",
              "       'INIT. 3008(H) I.S. CA ORDER', 'Immediate action letter',\n",
              "       'AGREEMENT FOR CORRECTIVE ACTION',\n",
              "       'FORGIVEABLE & NON-FORGIVEABLE APO',\n",
              "       'ADMINISTRATIVE CONFERENCE (ENFORCEMENT CONFERENCE HELD WITH FACILITY)',\n",
              "       'ADMINISTRATIVE REFERRALS TO OTHER PROGRAMS',\n",
              "       'Call-in Meeting-Settlement Meeting',\n",
              "       'INVESTIGATIVE & INSPECTION COST 3008(a) (COMPLIANCE ORDER)',\n",
              "       'DEP NON-COMPLIANCE LETTER', 'INFORMATION REQUEST LETTER(3007)',\n",
              "       'STATE TO EPA ADMINISTRATIVE REFERRAL',\n",
              "       'INITIAL MONITORING,ANALYSIS,TEST ORDER',\n",
              "       'REFERRAL TO ATTORNEY GENERAL', 'DEP REFERRAL TO OGC',\n",
              "       'FINAL IMMINENT HAZARD ORDER',\n",
              "       'FINAL NON-DEP CRIMINAL ENFORCEMENT ACTION', 'PROPOSED CAO',\n",
              "       'NOTICE OF POTENTIAL PENALTY', 'CIVIL ACTION FOR COMPLIANCE',\n",
              "       'REFERRED TO CIVIL ADMINISTRATIVE PENALTY (CAP) PROGRAM',\n",
              "       'WI STATE ADMINISTRATIVE ORDER', 'UNILATERAL ORDER, NO PENALTIES',\n",
              "       'SETTLEMENT AGREEMENT',\n",
              "       'FAILURE TO COMPLY WITH INFORMAL ENFORCEMENT ACTION',\n",
              "       'TECHNICAL ASSISTANCE LETTER SENT',\n",
              "       'CIVIL ADMINISTRATIVE PENALTY [FOLLOWING HEARING]',\n",
              "       'IPCB FINAL ADMINISTRATIVE ORDER',\n",
              "       'ADMINISTRATIVE REFERRAL TO DENR COLLECTION UNIT',\n",
              "       'VIOLATION LETTER - INTENT TO SUBMIT TO DEQ ENF',\n",
              "       'STATE LEVEL ADMINISTRATIVE ORDER', 'Single Site CAFO and DCC',\n",
              "       'NOTICE OF CIVIL ADMINISTRATIVE PENALTY', 'FIELD NOC',\n",
              "       'INITIAL CIVIL JUDICIAL ACTION FOR CORRECTIVE ACTION', 'APPEAL',\n",
              "       'Administrative Order Appeals Process', 'Schedule of Compliance',\n",
              "       'REMANDED FOR HEARING', 'DRAFT CONSENT ORDER'], dtype=object)"
            ]
          },
          "metadata": {
            "tags": []
          },
          "execution_count": 89
        }
      ]
    },
    {
      "cell_type": "code",
      "metadata": {
        "id": "MAPXMRZt-r-3",
        "colab_type": "code",
        "colab": {
          "base_uri": "https://localhost:8080/",
          "height": 57
        },
        "outputId": "80606e1c-1320-41a4-8104-cf07f8ab9640"
      },
      "source": [
        "# Penalties each year per penalized facility (per penalty?)\n",
        "waste_penalties = waste_enforcements.loc[waste_enforcements[\"FMP_AMOUNT\"]>0]\n",
        "waste_penalties_metric = formatter(sum(waste_penalties[\"FMP_AMOUNT\"]) / len(waste_penalties.index.unique())) #Divide by penalized facilities\n",
        "penalties[\"RCRA\"] = waste_penalties_metric\n",
        "display(HTML(\"<h3>$\"+waste_penalties_metric +\" per facility</h3>\"))"
      ],
      "execution_count": null,
      "outputs": [
        {
          "output_type": "display_data",
          "data": {
            "text/html": [
              "<h3>$33627.15 per facility</h3>"
            ],
            "text/plain": [
              "<IPython.core.display.HTML object>"
            ]
          },
          "metadata": {
            "tags": []
          }
        }
      ]
    },
    {
      "cell_type": "markdown",
      "metadata": {
        "id": "YQY2458NqUp9",
        "colab_type": "text"
      },
      "source": [
        "## Greenhouse Gas Emissions in 2018 (latest data available)"
      ]
    },
    {
      "cell_type": "code",
      "metadata": {
        "id": "DN8EVg29qW1k",
        "colab_type": "code",
        "colab": {
          "base_uri": "https://localhost:8080/",
          "height": 419
        },
        "outputId": "822eb9ed-aa5b-435a-b971-ff7a6d1cde8a"
      },
      "source": [
        "# Find facilities with pollutant exceedences\n",
        "ghg_emissions = None\n",
        "try:\n",
        "    sql = 'select * from \"POLL_RPT_COMBINED_EMISSIONS\" where \"REPORTING_YEAR\" = \\'2018\\' and \"PGM_SYS_ACRNM\" = \\'E-GGRT\\''\n",
        "\n",
        "    ghg_emissions = get_data( sql) \n",
        "except EmptyDataError:\n",
        "    print( \"No data found\")\n",
        "ghg_emissions"
      ],
      "execution_count": null,
      "outputs": [
        {
          "output_type": "execute_result",
          "data": {
            "text/html": [
              "<div>\n",
              "<style scoped>\n",
              "    .dataframe tbody tr th:only-of-type {\n",
              "        vertical-align: middle;\n",
              "    }\n",
              "\n",
              "    .dataframe tbody tr th {\n",
              "        vertical-align: top;\n",
              "    }\n",
              "\n",
              "    .dataframe thead th {\n",
              "        text-align: right;\n",
              "    }\n",
              "</style>\n",
              "<table border=\"1\" class=\"dataframe\">\n",
              "  <thead>\n",
              "    <tr style=\"text-align: right;\">\n",
              "      <th></th>\n",
              "      <th>REPORTING_YEAR</th>\n",
              "      <th>REGISTRY_ID</th>\n",
              "      <th>PGM_SYS_ACRNM</th>\n",
              "      <th>PGM_SYS_ID</th>\n",
              "      <th>POLLUTANT_NAME</th>\n",
              "      <th>ANNUAL_EMISSION</th>\n",
              "      <th>UNIT_OF_MEASURE</th>\n",
              "      <th>NEI_TYPE</th>\n",
              "      <th>NEI_HAP_VOC_FLAG</th>\n",
              "    </tr>\n",
              "  </thead>\n",
              "  <tbody>\n",
              "    <tr>\n",
              "      <th>0</th>\n",
              "      <td>2018</td>\n",
              "      <td>110005826927</td>\n",
              "      <td>E-GGRT</td>\n",
              "      <td>1011331</td>\n",
              "      <td>Carbon dioxide</td>\n",
              "      <td>0.800</td>\n",
              "      <td>MTCO2e</td>\n",
              "      <td>NaN</td>\n",
              "      <td>NaN</td>\n",
              "    </tr>\n",
              "    <tr>\n",
              "      <th>1</th>\n",
              "      <td>2018</td>\n",
              "      <td>110058380130</td>\n",
              "      <td>E-GGRT</td>\n",
              "      <td>1011276</td>\n",
              "      <td>Methane</td>\n",
              "      <td>12045.250</td>\n",
              "      <td>MTCO2e</td>\n",
              "      <td>NaN</td>\n",
              "      <td>NaN</td>\n",
              "    </tr>\n",
              "    <tr>\n",
              "      <th>2</th>\n",
              "      <td>2018</td>\n",
              "      <td>110058380130</td>\n",
              "      <td>E-GGRT</td>\n",
              "      <td>1011276</td>\n",
              "      <td>Nitrous oxide</td>\n",
              "      <td>7.450</td>\n",
              "      <td>MTCO2e</td>\n",
              "      <td>NaN</td>\n",
              "      <td>NaN</td>\n",
              "    </tr>\n",
              "    <tr>\n",
              "      <th>3</th>\n",
              "      <td>2018</td>\n",
              "      <td>110058380130</td>\n",
              "      <td>E-GGRT</td>\n",
              "      <td>1011276</td>\n",
              "      <td>Carbon dioxide</td>\n",
              "      <td>15200.200</td>\n",
              "      <td>MTCO2e</td>\n",
              "      <td>NaN</td>\n",
              "      <td>NaN</td>\n",
              "    </tr>\n",
              "    <tr>\n",
              "      <th>4</th>\n",
              "      <td>2018</td>\n",
              "      <td>110058380087</td>\n",
              "      <td>E-GGRT</td>\n",
              "      <td>1011274</td>\n",
              "      <td>Carbon dioxide</td>\n",
              "      <td>27267.900</td>\n",
              "      <td>MTCO2e</td>\n",
              "      <td>NaN</td>\n",
              "      <td>NaN</td>\n",
              "    </tr>\n",
              "    <tr>\n",
              "      <th>...</th>\n",
              "      <td>...</td>\n",
              "      <td>...</td>\n",
              "      <td>...</td>\n",
              "      <td>...</td>\n",
              "      <td>...</td>\n",
              "      <td>...</td>\n",
              "      <td>...</td>\n",
              "      <td>...</td>\n",
              "      <td>...</td>\n",
              "    </tr>\n",
              "    <tr>\n",
              "      <th>21680</th>\n",
              "      <td>2018</td>\n",
              "      <td>110021138348</td>\n",
              "      <td>E-GGRT</td>\n",
              "      <td>1001372</td>\n",
              "      <td>Nitrous oxide</td>\n",
              "      <td>1392.554</td>\n",
              "      <td>MTCO2e</td>\n",
              "      <td>NaN</td>\n",
              "      <td>NaN</td>\n",
              "    </tr>\n",
              "    <tr>\n",
              "      <th>21681</th>\n",
              "      <td>2018</td>\n",
              "      <td>110033177425</td>\n",
              "      <td>E-GGRT</td>\n",
              "      <td>1003450</td>\n",
              "      <td>Methane</td>\n",
              "      <td>41518.500</td>\n",
              "      <td>MTCO2e</td>\n",
              "      <td>NaN</td>\n",
              "      <td>NaN</td>\n",
              "    </tr>\n",
              "    <tr>\n",
              "      <th>21682</th>\n",
              "      <td>2018</td>\n",
              "      <td>110006134691</td>\n",
              "      <td>E-GGRT</td>\n",
              "      <td>1006543</td>\n",
              "      <td>Carbon dioxide</td>\n",
              "      <td>1609796.300</td>\n",
              "      <td>MTCO2e</td>\n",
              "      <td>NaN</td>\n",
              "      <td>NaN</td>\n",
              "    </tr>\n",
              "    <tr>\n",
              "      <th>21683</th>\n",
              "      <td>2018</td>\n",
              "      <td>110007362086</td>\n",
              "      <td>E-GGRT</td>\n",
              "      <td>1001381</td>\n",
              "      <td>Carbon dioxide</td>\n",
              "      <td>97444.500</td>\n",
              "      <td>MTCO2e</td>\n",
              "      <td>NaN</td>\n",
              "      <td>NaN</td>\n",
              "    </tr>\n",
              "    <tr>\n",
              "      <th>21684</th>\n",
              "      <td>2018</td>\n",
              "      <td>110007362086</td>\n",
              "      <td>E-GGRT</td>\n",
              "      <td>1001381</td>\n",
              "      <td>Methane</td>\n",
              "      <td>45.250</td>\n",
              "      <td>MTCO2e</td>\n",
              "      <td>NaN</td>\n",
              "      <td>NaN</td>\n",
              "    </tr>\n",
              "  </tbody>\n",
              "</table>\n",
              "<p>21685 rows × 9 columns</p>\n",
              "</div>"
            ],
            "text/plain": [
              "       REPORTING_YEAR   REGISTRY_ID  ... NEI_TYPE  NEI_HAP_VOC_FLAG\n",
              "0                2018  110005826927  ...      NaN               NaN\n",
              "1                2018  110058380130  ...      NaN               NaN\n",
              "2                2018  110058380130  ...      NaN               NaN\n",
              "3                2018  110058380130  ...      NaN               NaN\n",
              "4                2018  110058380087  ...      NaN               NaN\n",
              "...               ...           ...  ...      ...               ...\n",
              "21680            2018  110021138348  ...      NaN               NaN\n",
              "21681            2018  110033177425  ...      NaN               NaN\n",
              "21682            2018  110006134691  ...      NaN               NaN\n",
              "21683            2018  110007362086  ...      NaN               NaN\n",
              "21684            2018  110007362086  ...      NaN               NaN\n",
              "\n",
              "[21685 rows x 9 columns]"
            ]
          },
          "metadata": {
            "tags": []
          },
          "execution_count": 92
        }
      ]
    },
    {
      "cell_type": "code",
      "metadata": {
        "id": "WYm9skUM_OV7",
        "colab_type": "code",
        "colab": {
          "base_uri": "https://localhost:8080/",
          "height": 57
        },
        "outputId": "e6f1077f-0400-43ff-faac-dcda9241b1bd"
      },
      "source": [
        "# Emissions each year per facility\n",
        "ghg_emissions_metric = formatter(np.nansum(ghg_emissions[\"ANNUAL_EMISSION\"]) / len(ghg_emissions[\"REGISTRY_ID\"].unique())) #Divide by reporting facility\n",
        "emissions[\"GHG\"] = ghg_emissions_metric\n",
        "display(HTML(\"<h3>\"+ghg_emissions_metric+\" MTCO2e (metric tons of carbon dioxide equivalent) emissions per reporting facility</h3>\"))"
      ],
      "execution_count": null,
      "outputs": [
        {
          "output_type": "display_data",
          "data": {
            "text/html": [
              "<h3>421571.11 MTCO2e (metric tons of carbon dioxide equivalent) emissions per reporting facility</h3>"
            ],
            "text/plain": [
              "<IPython.core.display.HTML object>"
            ]
          },
          "metadata": {
            "tags": []
          }
        }
      ]
    },
    {
      "cell_type": "markdown",
      "metadata": {
        "id": "2ybjI0eGllRg",
        "colab_type": "text"
      },
      "source": [
        "# Data Export"
      ]
    },
    {
      "cell_type": "code",
      "metadata": {
        "id": "EGHkxhYzlrKp",
        "colab_type": "code",
        "colab": {
          "base_uri": "https://localhost:8080/",
          "height": 323
        },
        "outputId": "b44d23c9-b63c-45e7-dfa4-bf9d6d1dde0d"
      },
      "source": [
        "data = [inspections,\n",
        "violations,\n",
        "enforcements,\n",
        "penalties,\n",
        "emissions]\n",
        "\n",
        "units = [\"#inspections per 1000\",\n",
        "\"#violations per 1000\",\n",
        "\"#actions per violating facility\",\n",
        "\"$ per penalized facility\",\n",
        "\"amount of emissions (metric tons)\"]\n",
        "\n",
        "short_units = [\"inspectionsper1000\",\n",
        "\"violationsper1000\",\n",
        "\"enforcementsperviolatingfacility\",\n",
        "\"penaltiesperpenalizedfacility\",\n",
        "\"emissions2018\"]\n",
        "\n",
        "for index, program in enumerate(data):\n",
        "    # create dataframe\n",
        "    df = pd.DataFrame(program, index=[0]).T\n",
        "    df = df.rename(columns={0: units[index]})\n",
        "    filename= short_units[index]+\"_All_USA_pg4_081120.csv\" #active-facilities_All_MA-CD4_3b_080620.csv\n",
        "    df.to_csv(filename)\n",
        "    print(df)"
      ],
      "execution_count": null,
      "outputs": [
        {
          "output_type": "stream",
          "text": [
            "     #inspections per 1000\n",
            "CAA                    261\n",
            "CWA                 148.49\n",
            "RCRA                 37.85\n",
            "     #violations per 1000\n",
            "CAA                     4\n",
            "CWA                414.01\n",
            "RCRA                24.31\n",
            "     #actions per violating facility\n",
            "CAA                                3\n",
            "CWA                             0.03\n",
            "RCRA                            0.48\n",
            "     $ per penalized facility\n",
            "CAA                     49279\n",
            "CWA                  58130.57\n",
            "RCRA                 33627.15\n",
            "    amount of emissions (metric tons)\n",
            "GHG                         421571.11\n"
          ],
          "name": "stdout"
        }
      ]
    }
  ]
}