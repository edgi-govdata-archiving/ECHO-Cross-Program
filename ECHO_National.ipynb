{
  "nbformat": 4,
  "nbformat_minor": 0,
  "metadata": {
    "colab": {
      "name": "ECHO-National-090120.ipynb",
      "provenance": [],
      "collapsed_sections": [],
      "toc_visible": true
    },
    "kernelspec": {
      "display_name": "Python 3",
      "language": "python",
      "name": "python3"
    },
    "language_info": {
      "codemirror_mode": {
        "name": "ipython",
        "version": 3
      },
      "file_extension": ".py",
      "mimetype": "text/x-python",
      "name": "python",
      "nbconvert_exporter": "python",
      "pygments_lexer": "ipython3",
      "version": "3.7.2"
    }
  },
  "cells": [
    {
      "cell_type": "markdown",
      "metadata": {
        "colab_type": "text",
        "id": "Ylalhm0wbt2p"
      },
      "source": [
        "| ![EEW logo](https://github.com/edgi-govdata-archiving/EEW-Image-Assets/blob/master/Jupyter%20instructions/eew.jpg?raw=true) | ![EDGI logo](https://github.com/edgi-govdata-archiving/EEW-Image-Assets/blob/master/Jupyter%20instructions/edgi.png?raw=true) |\n",
        "|---|---|\n",
        "\n",
        "#### This notebook is licensed under GPL 3.0. Please visit our Github repo for more information: \n",
        "#### The notebook was collaboratively authored by the Environmental Data & Governance Initiative (EDGI) following our authorship protocol: https://docs.google.com/document/d/1CtDN5ZZ4Zv70fHiBTmWkDJ9mswEipX6eCYrwicP66Xw/\n",
        "#### For more information about this project, visit https://www.environmentalenforcementwatch.org/"
      ]
    },
    {
      "cell_type": "markdown",
      "metadata": {
        "colab_type": "text",
        "id": "xwpXPiNLbt2x"
      },
      "source": [
        "## How to Run this Notebook\n",
        "* If you click on a gray **code** cell, a little “play button” arrow appears on the left. If you click the play button, it will run the code in that cell (“**running** a cell”). The button will animate. When the animation stops, the cell has finished running.\n",
        "![Where to click to run the cell](https://github.com/edgi-govdata-archiving/EEW-Image-Assets/blob/master/Jupyter%20instructions/pressplay.JPG?raw=true)\n",
        "* You may get a warning that the notebook was not authored by Google. We know, we authored them! It’s okay. Click “Run Anyway” to continue. \n",
        "![Error Message](https://github.com/edgi-govdata-archiving/EEW-Image-Assets/blob/master/Jupyter%20instructions/warning-message.JPG?raw=true)\n",
        "* Run all of the cells in a Notebook to make a complete report. Please feel free to look at and **learn about each result as you create it**!\n",
        "\n",
        "---"
      ]
    },
    {
      "cell_type": "markdown",
      "metadata": {
        "colab_type": "text",
        "id": "vU4AqThS-37L"
      },
      "source": [
        "# Nationwide statistics about environmental compliance trends"
      ]
    },
    {
      "cell_type": "markdown",
      "metadata": {
        "colab_type": "text",
        "id": "czia5t5ebt20"
      },
      "source": [
        "## Setup\n",
        "Here we load some helper code to get us going."
      ]
    },
    {
      "cell_type": "code",
      "metadata": {
        "colab_type": "code",
        "id": "vF3iTaeCbt23",
        "colab": {}
      },
      "source": [
        "# Import code libraries\n",
        "!git clone https://github.com/edgi-govdata-archiving/ECHO_modules.git &>/dev/null;\n",
        "%run ECHO_modules/DataSet.py\n",
        "\n",
        "import urllib.parse\n",
        "import pandas as pd\n",
        "import numpy as np\n",
        "import matplotlib.pyplot as plt\n",
        "%matplotlib inline\n",
        "import requests\n",
        "import csv\n",
        "import datetime\n",
        "import folium\n",
        "from folium.plugins import FastMarkerCluster\n",
        "import ipywidgets as widgets\n",
        "from IPython.core.display import display, HTML\n",
        "from pandas.errors import EmptyDataError\n",
        "def formatter(value):\n",
        "  return \"{:0.2f}\".format(value)"
      ],
      "execution_count": 1,
      "outputs": []
    },
    {
      "cell_type": "markdown",
      "metadata": {
        "colab_type": "text",
        "id": "F7ZY4G6kVwLj"
      },
      "source": [
        "Here we set up some code to help us store and eventually export the metrics."
      ]
    },
    {
      "cell_type": "code",
      "metadata": {
        "colab_type": "code",
        "id": "aDnEBqa9Vvuc",
        "colab": {}
      },
      "source": [
        "inspections = dict()\n",
        "violations = dict()\n",
        "enforcements = dict()\n",
        "penalties = dict()\n",
        "emissions = dict()"
      ],
      "execution_count": 2,
      "outputs": []
    },
    {
      "cell_type": "markdown",
      "metadata": {
        "colab_type": "text",
        "id": "su7_wvKWbt3Z"
      },
      "source": [
        "## Start getting data\n",
        "First, get summary data from the ECHO_EXPORTER table."
      ]
    },
    {
      "cell_type": "code",
      "metadata": {
        "colab_type": "code",
        "id": "cBkHsLPtbt3c",
        "colab": {
          "base_uri": "https://localhost:8080/",
          "height": 711
        },
        "outputId": "6d0f7db8-c62a-4de8-ce02-10e48c07375f"
      },
      "source": [
        "# Get everything we will need from ECHO_EXPORTER in a single DB query.\n",
        "# We can then use the full dataframe to specialize views of it.\n",
        "full_echo_data = None\n",
        "column_mapping = {\n",
        "    '\"REGISTRY_ID\"': str,\n",
        "    '\"FAC_NAME\"': str,\n",
        "    '\"FAC_LAT\"': float,\n",
        "    '\"FAC_LONG\"': float,\n",
        "    '\"AIR_IDS\"': str,\n",
        "    '\"NPDES_IDS\"': str,\n",
        "    '\"RCRA_IDS\"': str,\n",
        "    '\"DFR_URL\"': str,\n",
        "    '\"AIR_FLAG\"': str,\n",
        "    '\"NPDES_FLAG\"': str,\n",
        "    '\"GHG_FLAG\"': str,\n",
        "    '\"RCRA_FLAG\"': str,\n",
        "    '\"FAC_ACTIVE_FLAG\"': str\n",
        "}\n",
        "column_names = list( column_mapping.keys() )\n",
        "columns_string = ','.join( column_names )\n",
        "sql = 'select ' + columns_string + ' from \"ECHO_EXPORTER\" where \"AIR_FLAG\" = \\'Y\\' or \"NPDES_FLAG\" = \\'Y\\' or \"GHG_FLAG\" = \\'Y\\' or \"RCRA_FLAG\" = \\'Y\\''\n",
        "try:\n",
        "    # Don't index.\n",
        "    full_echo_data = get_data( sql )\n",
        "except EmptyDataError:\n",
        "    print(\"\\nThere are no EPA facilities for this query.\\n\")\n",
        "full_echo_data"
      ],
      "execution_count": 7,
      "outputs": [
        {
          "output_type": "execute_result",
          "data": {
            "text/html": [
              "<div>\n",
              "<style scoped>\n",
              "    .dataframe tbody tr th:only-of-type {\n",
              "        vertical-align: middle;\n",
              "    }\n",
              "\n",
              "    .dataframe tbody tr th {\n",
              "        vertical-align: top;\n",
              "    }\n",
              "\n",
              "    .dataframe thead th {\n",
              "        text-align: right;\n",
              "    }\n",
              "</style>\n",
              "<table border=\"1\" class=\"dataframe\">\n",
              "  <thead>\n",
              "    <tr style=\"text-align: right;\">\n",
              "      <th></th>\n",
              "      <th>REGISTRY_ID</th>\n",
              "      <th>FAC_NAME</th>\n",
              "      <th>FAC_LAT</th>\n",
              "      <th>FAC_LONG</th>\n",
              "      <th>AIR_IDS</th>\n",
              "      <th>NPDES_IDS</th>\n",
              "      <th>RCRA_IDS</th>\n",
              "      <th>DFR_URL</th>\n",
              "      <th>AIR_FLAG</th>\n",
              "      <th>NPDES_FLAG</th>\n",
              "      <th>GHG_FLAG</th>\n",
              "      <th>RCRA_FLAG</th>\n",
              "      <th>FAC_ACTIVE_FLAG</th>\n",
              "    </tr>\n",
              "  </thead>\n",
              "  <tbody>\n",
              "    <tr>\n",
              "      <th>0</th>\n",
              "      <td>1.100137e+11</td>\n",
              "      <td>TOPPER ONE HOUR CLEANER</td>\n",
              "      <td>39.987020</td>\n",
              "      <td>-75.161830</td>\n",
              "      <td>PAPAM0004210101795</td>\n",
              "      <td>NaN</td>\n",
              "      <td>PAD982677197</td>\n",
              "      <td>http://echo.epa.gov/detailed-facility-report?f...</td>\n",
              "      <td>Y</td>\n",
              "      <td>N</td>\n",
              "      <td>N</td>\n",
              "      <td>Y</td>\n",
              "      <td>Y</td>\n",
              "    </tr>\n",
              "    <tr>\n",
              "      <th>1</th>\n",
              "      <td>1.100094e+11</td>\n",
              "      <td>PIEZAS EXTRA</td>\n",
              "      <td>18.252013</td>\n",
              "      <td>-66.036570</td>\n",
              "      <td>NaN</td>\n",
              "      <td>NaN</td>\n",
              "      <td>PRR000011601</td>\n",
              "      <td>http://echo.epa.gov/detailed-facility-report?f...</td>\n",
              "      <td>N</td>\n",
              "      <td>N</td>\n",
              "      <td>N</td>\n",
              "      <td>Y</td>\n",
              "      <td>NaN</td>\n",
              "    </tr>\n",
              "    <tr>\n",
              "      <th>2</th>\n",
              "      <td>1.100019e+11</td>\n",
              "      <td>QVC SUFFOLK INC</td>\n",
              "      <td>36.768620</td>\n",
              "      <td>-76.542970</td>\n",
              "      <td>VA0000005180000018</td>\n",
              "      <td>NaN</td>\n",
              "      <td>VAD988168910</td>\n",
              "      <td>http://echo.epa.gov/detailed-facility-report?f...</td>\n",
              "      <td>Y</td>\n",
              "      <td>N</td>\n",
              "      <td>N</td>\n",
              "      <td>Y</td>\n",
              "      <td>Y</td>\n",
              "    </tr>\n",
              "    <tr>\n",
              "      <th>3</th>\n",
              "      <td>1.100342e+11</td>\n",
              "      <td>PARIS - HENRY COUNTY LANDFILL</td>\n",
              "      <td>36.315170</td>\n",
              "      <td>-88.362142</td>\n",
              "      <td>NaN</td>\n",
              "      <td>TNR053299 TNR121673</td>\n",
              "      <td>NaN</td>\n",
              "      <td>http://echo.epa.gov/detailed-facility-report?f...</td>\n",
              "      <td>N</td>\n",
              "      <td>Y</td>\n",
              "      <td>N</td>\n",
              "      <td>N</td>\n",
              "      <td>Y</td>\n",
              "    </tr>\n",
              "    <tr>\n",
              "      <th>4</th>\n",
              "      <td>1.100384e+11</td>\n",
              "      <td>TATE METALWORKS INC</td>\n",
              "      <td>34.864320</td>\n",
              "      <td>-81.959520</td>\n",
              "      <td>SC00020600481</td>\n",
              "      <td>NaN</td>\n",
              "      <td>NaN</td>\n",
              "      <td>http://echo.epa.gov/detailed-facility-report?f...</td>\n",
              "      <td>Y</td>\n",
              "      <td>N</td>\n",
              "      <td>N</td>\n",
              "      <td>N</td>\n",
              "      <td>Y</td>\n",
              "    </tr>\n",
              "    <tr>\n",
              "      <th>...</th>\n",
              "      <td>...</td>\n",
              "      <td>...</td>\n",
              "      <td>...</td>\n",
              "      <td>...</td>\n",
              "      <td>...</td>\n",
              "      <td>...</td>\n",
              "      <td>...</td>\n",
              "      <td>...</td>\n",
              "      <td>...</td>\n",
              "      <td>...</td>\n",
              "      <td>...</td>\n",
              "      <td>...</td>\n",
              "      <td>...</td>\n",
              "    </tr>\n",
              "    <tr>\n",
              "      <th>1862113</th>\n",
              "      <td>1.100051e+11</td>\n",
              "      <td>WILSON CLEANERS AND LAUNDRY</td>\n",
              "      <td>31.963080</td>\n",
              "      <td>-95.270250</td>\n",
              "      <td>NaN</td>\n",
              "      <td>NaN</td>\n",
              "      <td>TXD988026779</td>\n",
              "      <td>http://echo.epa.gov/detailed-facility-report?f...</td>\n",
              "      <td>N</td>\n",
              "      <td>N</td>\n",
              "      <td>N</td>\n",
              "      <td>Y</td>\n",
              "      <td>NaN</td>\n",
              "    </tr>\n",
              "    <tr>\n",
              "      <th>1862114</th>\n",
              "      <td>1.100348e+11</td>\n",
              "      <td>OVILLA ROAD CLEANER</td>\n",
              "      <td>32.531760</td>\n",
              "      <td>-96.813420</td>\n",
              "      <td>06000000481396E003</td>\n",
              "      <td>NaN</td>\n",
              "      <td>NaN</td>\n",
              "      <td>http://echo.epa.gov/detailed-facility-report?f...</td>\n",
              "      <td>Y</td>\n",
              "      <td>N</td>\n",
              "      <td>N</td>\n",
              "      <td>N</td>\n",
              "      <td>Y</td>\n",
              "    </tr>\n",
              "    <tr>\n",
              "      <th>1862115</th>\n",
              "      <td>1.100252e+11</td>\n",
              "      <td>BLUFFVIEW MANOR</td>\n",
              "      <td>40.102875</td>\n",
              "      <td>-89.152611</td>\n",
              "      <td>NaN</td>\n",
              "      <td>ILR108310</td>\n",
              "      <td>NaN</td>\n",
              "      <td>http://echo.epa.gov/detailed-facility-report?f...</td>\n",
              "      <td>N</td>\n",
              "      <td>Y</td>\n",
              "      <td>N</td>\n",
              "      <td>N</td>\n",
              "      <td>Y</td>\n",
              "    </tr>\n",
              "    <tr>\n",
              "      <th>1862116</th>\n",
              "      <td>1.100704e+11</td>\n",
              "      <td>LAVON FARMS</td>\n",
              "      <td>33.019600</td>\n",
              "      <td>-96.430000</td>\n",
              "      <td>NaN</td>\n",
              "      <td>TXR10F6H1 TXR10F6HF</td>\n",
              "      <td>NaN</td>\n",
              "      <td>http://echo.epa.gov/detailed-facility-report?f...</td>\n",
              "      <td>N</td>\n",
              "      <td>Y</td>\n",
              "      <td>N</td>\n",
              "      <td>N</td>\n",
              "      <td>NaN</td>\n",
              "    </tr>\n",
              "    <tr>\n",
              "      <th>1862117</th>\n",
              "      <td>1.100051e+11</td>\n",
              "      <td>CLEMENT CLEANERS</td>\n",
              "      <td>35.551270</td>\n",
              "      <td>-100.971950</td>\n",
              "      <td>NaN</td>\n",
              "      <td>NaN</td>\n",
              "      <td>TXD981610686</td>\n",
              "      <td>http://echo.epa.gov/detailed-facility-report?f...</td>\n",
              "      <td>N</td>\n",
              "      <td>N</td>\n",
              "      <td>N</td>\n",
              "      <td>Y</td>\n",
              "      <td>NaN</td>\n",
              "    </tr>\n",
              "  </tbody>\n",
              "</table>\n",
              "<p>1862118 rows × 13 columns</p>\n",
              "</div>"
            ],
            "text/plain": [
              "          REGISTRY_ID                       FAC_NAME  ...  RCRA_FLAG  FAC_ACTIVE_FLAG\n",
              "0        1.100137e+11        TOPPER ONE HOUR CLEANER  ...          Y                Y\n",
              "1        1.100094e+11                   PIEZAS EXTRA  ...          Y              NaN\n",
              "2        1.100019e+11                QVC SUFFOLK INC  ...          Y                Y\n",
              "3        1.100342e+11  PARIS - HENRY COUNTY LANDFILL  ...          N                Y\n",
              "4        1.100384e+11            TATE METALWORKS INC  ...          N                Y\n",
              "...               ...                            ...  ...        ...              ...\n",
              "1862113  1.100051e+11    WILSON CLEANERS AND LAUNDRY  ...          Y              NaN\n",
              "1862114  1.100348e+11            OVILLA ROAD CLEANER  ...          N                Y\n",
              "1862115  1.100252e+11                BLUFFVIEW MANOR  ...          N                Y\n",
              "1862116  1.100704e+11                    LAVON FARMS  ...          N              NaN\n",
              "1862117  1.100051e+11               CLEMENT CLEANERS  ...          Y              NaN\n",
              "\n",
              "[1862118 rows x 13 columns]"
            ]
          },
          "metadata": {
            "tags": []
          },
          "execution_count": 7
        }
      ]
    },
    {
      "cell_type": "markdown",
      "metadata": {
        "colab_type": "text",
        "id": "Fnla1jRuQu75"
      },
      "source": [
        "## Number of Currently Regulated Facilities Per Program"
      ]
    },
    {
      "cell_type": "code",
      "metadata": {
        "colab_type": "code",
        "id": "mEcRLg9YRHZI",
        "colab": {
          "base_uri": "https://localhost:8080/",
          "height": 167
        },
        "outputId": "b50eec94-b75b-401c-bb54-da41b2251691"
      },
      "source": [
        "air_fac = full_echo_data.loc[(full_echo_data[\"AIR_FLAG\"]==\"Y\") & (full_echo_data[\"FAC_ACTIVE_FLAG\"]==\"Y\")].shape[0]\n",
        "water_fac = full_echo_data.loc[(full_echo_data[\"NPDES_FLAG\"]==\"Y\") & (full_echo_data[\"FAC_ACTIVE_FLAG\"]==\"Y\")].shape[0]\n",
        "waste_fac = full_echo_data.loc[(full_echo_data[\"RCRA_FLAG\"]==\"Y\") & (full_echo_data[\"FAC_ACTIVE_FLAG\"]==\"Y\")].shape[0]\n",
        "ghg_fac = full_echo_data.loc[(full_echo_data[\"GHG_FLAG\"]==\"Y\") & (full_echo_data[\"FAC_ACTIVE_FLAG\"]==\"Y\")].shape[0]\n",
        "\n",
        "display(HTML(\"<h3>There are \"+ str(air_fac) + \" facilities currently regulated under the Clean Air Act.</h3>\"))\n",
        "display(HTML(\"<h3>There are \"+ str(water_fac) + \" facilities currently regulated under the Clean Water Act.</h3>\"))\n",
        "display(HTML(\"<h3>There are \"+ str(waste_fac) + \" facilities currently regulated under RCRA (hazardous waste).</h3>\"))\n",
        "display(HTML(\"<h3>There are \"+ str(ghg_fac) + \" facilities currently reporting greenhouse gas emissions.</h3>\"))"
      ],
      "execution_count": 8,
      "outputs": [
        {
          "output_type": "display_data",
          "data": {
            "text/html": [
              "<h3>There are 187102 facilities currently regulated under the Clean Air Act.</h3>"
            ],
            "text/plain": [
              "<IPython.core.display.HTML object>"
            ]
          },
          "metadata": {
            "tags": []
          }
        },
        {
          "output_type": "display_data",
          "data": {
            "text/html": [
              "<h3>There are 351308 facilities currently regulated under the Clean Water Act.</h3>"
            ],
            "text/plain": [
              "<IPython.core.display.HTML object>"
            ]
          },
          "metadata": {
            "tags": []
          }
        },
        {
          "output_type": "display_data",
          "data": {
            "text/html": [
              "<h3>There are 605938 facilities currently regulated under RCRA (hazardous waste).</h3>"
            ],
            "text/plain": [
              "<IPython.core.display.HTML object>"
            ]
          },
          "metadata": {
            "tags": []
          }
        },
        {
          "output_type": "display_data",
          "data": {
            "text/html": [
              "<h3>There are 6127 facilities currently reporting greenhouse gas emissions.</h3>"
            ],
            "text/plain": [
              "<IPython.core.display.HTML object>"
            ]
          },
          "metadata": {
            "tags": []
          }
        }
      ]
    },
    {
      "cell_type": "markdown",
      "metadata": {
        "colab_type": "text",
        "id": "TUf6AQfPbt3z"
      },
      "source": [
        "## Clean Air Act inspections in 2019"
      ]
    },
    {
      "cell_type": "code",
      "metadata": {
        "colab_type": "code",
        "id": "rGzitWnObt33",
        "colab": {
          "base_uri": "https://localhost:8080/",
          "height": 524
        },
        "outputId": "a1c470c8-8af0-4169-a301-c40d66e6c444"
      },
      "source": [
        "# Use SQL to search for and select the data about air stack tests\n",
        "air_inspections = None\n",
        "try:\n",
        "    sql = 'select * from \\\"ICIS-AIR_FCES_PCES\\\" where \\\"ACTUAL_END_DATE\\\" like \\'__-__-2019\\''\n",
        "\n",
        "    # Download the data from that URL\n",
        "    air_inspections = get_data( sql, 'pgm_sys_id' )\n",
        "except EmptyDataError:\n",
        "    print( \"No data found\")\n",
        "\n",
        "air_inspections"
      ],
      "execution_count": 6,
      "outputs": [
        {
          "output_type": "execute_result",
          "data": {
            "text/html": [
              "<div>\n",
              "<style scoped>\n",
              "    .dataframe tbody tr th:only-of-type {\n",
              "        vertical-align: middle;\n",
              "    }\n",
              "\n",
              "    .dataframe tbody tr th {\n",
              "        vertical-align: top;\n",
              "    }\n",
              "\n",
              "    .dataframe thead th {\n",
              "        text-align: right;\n",
              "    }\n",
              "</style>\n",
              "<table border=\"1\" class=\"dataframe\">\n",
              "  <thead>\n",
              "    <tr style=\"text-align: right;\">\n",
              "      <th></th>\n",
              "      <th>PGM_SYS_ID</th>\n",
              "      <th>ACTIVITY_ID</th>\n",
              "      <th>STATE_EPA_FLAG</th>\n",
              "      <th>ACTIVITY_TYPE_CODE</th>\n",
              "      <th>ACTIVITY_TYPE_DESC</th>\n",
              "      <th>COMP_MONITOR_TYPE_CODE</th>\n",
              "      <th>COMP_MONITOR_TYPE_DESC</th>\n",
              "      <th>ACTUAL_END_DATE</th>\n",
              "      <th>PROGRAM_CODES</th>\n",
              "    </tr>\n",
              "  </thead>\n",
              "  <tbody>\n",
              "    <tr>\n",
              "      <th>0</th>\n",
              "      <td>020000003606390000</td>\n",
              "      <td>3601943049</td>\n",
              "      <td>E</td>\n",
              "      <td>INS</td>\n",
              "      <td>Inspection/Evaluation</td>\n",
              "      <td>PCE</td>\n",
              "      <td>PCE On-Site</td>\n",
              "      <td>07-23-2019</td>\n",
              "      <td>CAACFC, CAAFESOP</td>\n",
              "    </tr>\n",
              "    <tr>\n",
              "      <th>1</th>\n",
              "      <td>020000003606501000</td>\n",
              "      <td>3601851095</td>\n",
              "      <td>E</td>\n",
              "      <td>INS</td>\n",
              "      <td>Inspection/Evaluation</td>\n",
              "      <td>PFF</td>\n",
              "      <td>PCE Off-Site</td>\n",
              "      <td>05-08-2019</td>\n",
              "      <td>CAAOP</td>\n",
              "    </tr>\n",
              "    <tr>\n",
              "      <th>2</th>\n",
              "      <td>020000003606501000</td>\n",
              "      <td>3601866216</td>\n",
              "      <td>E</td>\n",
              "      <td>INS</td>\n",
              "      <td>Inspection/Evaluation</td>\n",
              "      <td>FOO</td>\n",
              "      <td>FCE On-Site</td>\n",
              "      <td>05-01-2019</td>\n",
              "      <td>CAANAM, CAAOP</td>\n",
              "    </tr>\n",
              "    <tr>\n",
              "      <th>3</th>\n",
              "      <td>020000003606501000</td>\n",
              "      <td>3601972076</td>\n",
              "      <td>E</td>\n",
              "      <td>INS</td>\n",
              "      <td>Inspection/Evaluation</td>\n",
              "      <td>PFF</td>\n",
              "      <td>PCE Off-Site</td>\n",
              "      <td>04-24-2019</td>\n",
              "      <td>CAASIP</td>\n",
              "    </tr>\n",
              "    <tr>\n",
              "      <th>4</th>\n",
              "      <td>020000003606501000</td>\n",
              "      <td>3601972077</td>\n",
              "      <td>E</td>\n",
              "      <td>INS</td>\n",
              "      <td>Inspection/Evaluation</td>\n",
              "      <td>PFF</td>\n",
              "      <td>PCE Off-Site</td>\n",
              "      <td>04-17-2019</td>\n",
              "      <td>CAASIP</td>\n",
              "    </tr>\n",
              "    <tr>\n",
              "      <th>...</th>\n",
              "      <td>...</td>\n",
              "      <td>...</td>\n",
              "      <td>...</td>\n",
              "      <td>...</td>\n",
              "      <td>...</td>\n",
              "      <td>...</td>\n",
              "      <td>...</td>\n",
              "      <td>...</td>\n",
              "      <td>...</td>\n",
              "    </tr>\n",
              "    <tr>\n",
              "      <th>48896</th>\n",
              "      <td>VA0000005117300001</td>\n",
              "      <td>3601776181</td>\n",
              "      <td>S</td>\n",
              "      <td>INS</td>\n",
              "      <td>Inspection/Evaluation</td>\n",
              "      <td>PFF</td>\n",
              "      <td>PCE Off-Site</td>\n",
              "      <td>03-07-2019</td>\n",
              "      <td>CAAMACT, CAATVP</td>\n",
              "    </tr>\n",
              "    <tr>\n",
              "      <th>48897</th>\n",
              "      <td>VA0000005117300001</td>\n",
              "      <td>3601791764</td>\n",
              "      <td>S</td>\n",
              "      <td>INS</td>\n",
              "      <td>Inspection/Evaluation</td>\n",
              "      <td>PFF</td>\n",
              "      <td>PCE Off-Site</td>\n",
              "      <td>03-27-2019</td>\n",
              "      <td>CAATVP</td>\n",
              "    </tr>\n",
              "    <tr>\n",
              "      <th>48898</th>\n",
              "      <td>VA0000005117300001</td>\n",
              "      <td>3601955560</td>\n",
              "      <td>S</td>\n",
              "      <td>INS</td>\n",
              "      <td>Inspection/Evaluation</td>\n",
              "      <td>PFF</td>\n",
              "      <td>PCE Off-Site</td>\n",
              "      <td>08-27-2019</td>\n",
              "      <td>CAATVP</td>\n",
              "    </tr>\n",
              "    <tr>\n",
              "      <th>48899</th>\n",
              "      <td>VA0000005117300001</td>\n",
              "      <td>3601955566</td>\n",
              "      <td>S</td>\n",
              "      <td>INS</td>\n",
              "      <td>Inspection/Evaluation</td>\n",
              "      <td>PFF</td>\n",
              "      <td>PCE Off-Site</td>\n",
              "      <td>08-27-2019</td>\n",
              "      <td>CAAMACT, CAATVP</td>\n",
              "    </tr>\n",
              "    <tr>\n",
              "      <th>48900</th>\n",
              "      <td>VA0000005117300001</td>\n",
              "      <td>3601955568</td>\n",
              "      <td>S</td>\n",
              "      <td>INS</td>\n",
              "      <td>Inspection/Evaluation</td>\n",
              "      <td>PFF</td>\n",
              "      <td>PCE Off-Site</td>\n",
              "      <td>08-27-2019</td>\n",
              "      <td>CAAMACT, CAATVP</td>\n",
              "    </tr>\n",
              "  </tbody>\n",
              "</table>\n",
              "<p>48901 rows × 9 columns</p>\n",
              "</div>"
            ],
            "text/plain": [
              "               PGM_SYS_ID  ACTIVITY_ID  ... ACTUAL_END_DATE     PROGRAM_CODES\n",
              "0      020000003606390000   3601943049  ...      07-23-2019  CAACFC, CAAFESOP\n",
              "1      020000003606501000   3601851095  ...      05-08-2019             CAAOP\n",
              "2      020000003606501000   3601866216  ...      05-01-2019     CAANAM, CAAOP\n",
              "3      020000003606501000   3601972076  ...      04-24-2019            CAASIP\n",
              "4      020000003606501000   3601972077  ...      04-17-2019            CAASIP\n",
              "...                   ...          ...  ...             ...               ...\n",
              "48896  VA0000005117300001   3601776181  ...      03-07-2019   CAAMACT, CAATVP\n",
              "48897  VA0000005117300001   3601791764  ...      03-27-2019            CAATVP\n",
              "48898  VA0000005117300001   3601955560  ...      08-27-2019            CAATVP\n",
              "48899  VA0000005117300001   3601955566  ...      08-27-2019   CAAMACT, CAATVP\n",
              "48900  VA0000005117300001   3601955568  ...      08-27-2019   CAAMACT, CAATVP\n",
              "\n",
              "[48901 rows x 9 columns]"
            ]
          },
          "metadata": {
            "tags": []
          },
          "execution_count": 6
        }
      ]
    },
    {
      "cell_type": "code",
      "metadata": {
        "colab_type": "code",
        "id": "lZfbWeMnK7Yk",
        "colab": {
          "base_uri": "https://localhost:8080/",
          "height": 57
        },
        "outputId": "918f811f-2c94-4513-81bc-4dfca65f823d"
      },
      "source": [
        "# Number of inspections in 2019 per 1000 regulated facilities\n",
        "air_inspections_metric = formatter((air_inspections.shape[0] / air_fac) * 1000) # Divide by regulated facilities and multiply by desired rate (per 1000)\n",
        "inspections[\"CAA\"] = air_inspections_metric\n",
        "display(HTML(\"<h3>\"+ air_inspections_metric +\" inspections per 1000 facilities</h3>\"))"
      ],
      "execution_count": 9,
      "outputs": [
        {
          "output_type": "display_data",
          "data": {
            "text/html": [
              "<h3>261.36 inspections per 1000 facilities</h3>"
            ],
            "text/plain": [
              "<IPython.core.display.HTML object>"
            ]
          },
          "metadata": {
            "tags": []
          }
        }
      ]
    },
    {
      "cell_type": "markdown",
      "metadata": {
        "colab_type": "text",
        "id": "RMjxybzbbt5X"
      },
      "source": [
        "## Violations of the Clean Air Act in 2019\n",
        "\n"
      ]
    },
    {
      "cell_type": "code",
      "metadata": {
        "colab_type": "code",
        "id": "z1N2CuKTbt5Z",
        "colab": {
          "base_uri": "https://localhost:8080/",
          "height": 762
        },
        "outputId": "b6e812fe-795a-4991-8638-5fe460341360"
      },
      "source": [
        "air_violations = None\n",
        "try:\n",
        "    sql = 'select * from \"ICIS-AIR_VIOLATION_HISTORY\" where \"EARLIEST_FRV_DETERM_DATE\" like \\'__-__-2019\\' or \"HPV_DAYZERO_DATE\" like \\'__-__-2019\\''\n",
        "\n",
        "    air_violations = get_data( sql, \"pgm_sys_id\" )\n",
        "\n",
        "    # Remove \"FACIL\" violations, which are paperwork violations according to: https://19january2017snapshot.epa.gov/sites/production/files/2013-10/documents/frvmemo.pdf\n",
        "    # air_violations = air_violations.loc[(air_violations[\"POLLUTANT_DESCS\"]!=\"FACIL\")]\n",
        "except EmptyDataError:\n",
        "    print( \"No data found\")\n",
        "air_violations"
      ],
      "execution_count": 10,
      "outputs": [
        {
          "output_type": "execute_result",
          "data": {
            "text/html": [
              "<div>\n",
              "<style scoped>\n",
              "    .dataframe tbody tr th:only-of-type {\n",
              "        vertical-align: middle;\n",
              "    }\n",
              "\n",
              "    .dataframe tbody tr th {\n",
              "        vertical-align: top;\n",
              "    }\n",
              "\n",
              "    .dataframe thead th {\n",
              "        text-align: right;\n",
              "    }\n",
              "</style>\n",
              "<table border=\"1\" class=\"dataframe\">\n",
              "  <thead>\n",
              "    <tr style=\"text-align: right;\">\n",
              "      <th></th>\n",
              "      <th>PGM_SYS_ID</th>\n",
              "      <th>ACTIVITY_ID</th>\n",
              "      <th>AGENCY_TYPE_DESC</th>\n",
              "      <th>STATE_CODE</th>\n",
              "      <th>AIR_LCON_CODE</th>\n",
              "      <th>COMP_DETERMINATION_UID</th>\n",
              "      <th>ENF_RESPONSE_POLICY_CODE</th>\n",
              "      <th>PROGRAM_CODES</th>\n",
              "      <th>PROGRAM_DESCS</th>\n",
              "      <th>POLLUTANT_CODES</th>\n",
              "      <th>POLLUTANT_DESCS</th>\n",
              "      <th>EARLIEST_FRV_DETERM_DATE</th>\n",
              "      <th>HPV_DAYZERO_DATE</th>\n",
              "      <th>HPV_RESOLVED_DATE</th>\n",
              "    </tr>\n",
              "  </thead>\n",
              "  <tbody>\n",
              "    <tr>\n",
              "      <th>0</th>\n",
              "      <td>FL0000001200500009</td>\n",
              "      <td>3601741276</td>\n",
              "      <td>State</td>\n",
              "      <td>FL</td>\n",
              "      <td>NaN</td>\n",
              "      <td>FL000A0000120050000900375</td>\n",
              "      <td>FRV</td>\n",
              "      <td>CAANSPS</td>\n",
              "      <td>New Source Performance Standards</td>\n",
              "      <td>300000329</td>\n",
              "      <td>FACIL</td>\n",
              "      <td>02-06-2019</td>\n",
              "      <td>NaN</td>\n",
              "      <td>05-13-2019</td>\n",
              "    </tr>\n",
              "    <tr>\n",
              "      <th>1</th>\n",
              "      <td>IA0000001901900052</td>\n",
              "      <td>3601913691</td>\n",
              "      <td>State</td>\n",
              "      <td>IA</td>\n",
              "      <td>NaN</td>\n",
              "      <td>IA000A77058</td>\n",
              "      <td>FRV</td>\n",
              "      <td>CAATVP</td>\n",
              "      <td>Title V Permits</td>\n",
              "      <td>NaN</td>\n",
              "      <td>NaN</td>\n",
              "      <td>07-15-2019</td>\n",
              "      <td>NaN</td>\n",
              "      <td>07-24-2019</td>\n",
              "    </tr>\n",
              "    <tr>\n",
              "      <th>2</th>\n",
              "      <td>IL000163020AAB</td>\n",
              "      <td>3601954355</td>\n",
              "      <td>State</td>\n",
              "      <td>IL</td>\n",
              "      <td>NaN</td>\n",
              "      <td>IL000AA-2019-00133</td>\n",
              "      <td>FRV</td>\n",
              "      <td>CAASIP CAATVP</td>\n",
              "      <td>State Implementation Plan for National Primary...</td>\n",
              "      <td>300000243</td>\n",
              "      <td>VOLATILE ORGANIC COMPOUNDS (VOCS)</td>\n",
              "      <td>07-25-2019</td>\n",
              "      <td>NaN</td>\n",
              "      <td>NaN</td>\n",
              "    </tr>\n",
              "    <tr>\n",
              "      <th>3</th>\n",
              "      <td>IN0000001803900097</td>\n",
              "      <td>3601869864</td>\n",
              "      <td>State</td>\n",
              "      <td>IN</td>\n",
              "      <td>NaN</td>\n",
              "      <td>IN000A76378</td>\n",
              "      <td>FRV</td>\n",
              "      <td>CAATVP</td>\n",
              "      <td>Title V Permits</td>\n",
              "      <td>300000329</td>\n",
              "      <td>FACIL</td>\n",
              "      <td>05-06-2019</td>\n",
              "      <td>NaN</td>\n",
              "      <td>NaN</td>\n",
              "    </tr>\n",
              "    <tr>\n",
              "      <th>4</th>\n",
              "      <td>IN0000001803300043</td>\n",
              "      <td>3601685463</td>\n",
              "      <td>State</td>\n",
              "      <td>IN</td>\n",
              "      <td>NaN</td>\n",
              "      <td>IN000A74118</td>\n",
              "      <td>HPV</td>\n",
              "      <td>CAANSPS</td>\n",
              "      <td>New Source Performance Standards</td>\n",
              "      <td>10373</td>\n",
              "      <td>Particulate matter - PM10</td>\n",
              "      <td>12-03-2018</td>\n",
              "      <td>01-13-2019</td>\n",
              "      <td>NaN</td>\n",
              "    </tr>\n",
              "    <tr>\n",
              "      <th>...</th>\n",
              "      <td>...</td>\n",
              "      <td>...</td>\n",
              "      <td>...</td>\n",
              "      <td>...</td>\n",
              "      <td>...</td>\n",
              "      <td>...</td>\n",
              "      <td>...</td>\n",
              "      <td>...</td>\n",
              "      <td>...</td>\n",
              "      <td>...</td>\n",
              "      <td>...</td>\n",
              "      <td>...</td>\n",
              "      <td>...</td>\n",
              "      <td>...</td>\n",
              "    </tr>\n",
              "    <tr>\n",
              "      <th>4030</th>\n",
              "      <td>CO0000000803102488</td>\n",
              "      <td>3602151392</td>\n",
              "      <td>State</td>\n",
              "      <td>CO</td>\n",
              "      <td>NaN</td>\n",
              "      <td>CO000A0000080310248800002</td>\n",
              "      <td>FRV</td>\n",
              "      <td>CAASIP</td>\n",
              "      <td>State Implementation Plan for National Primary...</td>\n",
              "      <td>300000243</td>\n",
              "      <td>VOLATILE ORGANIC COMPOUNDS (VOCS)</td>\n",
              "      <td>08-04-2019</td>\n",
              "      <td>NaN</td>\n",
              "      <td>02-12-2020</td>\n",
              "    </tr>\n",
              "    <tr>\n",
              "      <th>4031</th>\n",
              "      <td>MN0000002700100021</td>\n",
              "      <td>3602178887</td>\n",
              "      <td>State</td>\n",
              "      <td>MN</td>\n",
              "      <td>NaN</td>\n",
              "      <td>MN000A00100202PEN20191</td>\n",
              "      <td>FRV</td>\n",
              "      <td>CAATVP</td>\n",
              "      <td>Title V Permits</td>\n",
              "      <td>300000329</td>\n",
              "      <td>FACIL</td>\n",
              "      <td>04-11-2019</td>\n",
              "      <td>NaN</td>\n",
              "      <td>01-03-2020</td>\n",
              "    </tr>\n",
              "    <tr>\n",
              "      <th>4032</th>\n",
              "      <td>CABAAA0085</td>\n",
              "      <td>3602188895</td>\n",
              "      <td>Local</td>\n",
              "      <td>CA</td>\n",
              "      <td>BAA</td>\n",
              "      <td>CABAAA80845</td>\n",
              "      <td>HPV</td>\n",
              "      <td>CAATVP</td>\n",
              "      <td>Title V Permits</td>\n",
              "      <td>300000243</td>\n",
              "      <td>VOLATILE ORGANIC COMPOUNDS (VOCS)</td>\n",
              "      <td>07-23-2019</td>\n",
              "      <td>07-23-2019</td>\n",
              "      <td>06-04-2020</td>\n",
              "    </tr>\n",
              "    <tr>\n",
              "      <th>4033</th>\n",
              "      <td>PA000633228</td>\n",
              "      <td>3602223361</td>\n",
              "      <td>State</td>\n",
              "      <td>PA</td>\n",
              "      <td>NaN</td>\n",
              "      <td>PA000A0000F00000002901815</td>\n",
              "      <td>FRV</td>\n",
              "      <td>CAASIP</td>\n",
              "      <td>State Implementation Plan for National Primary...</td>\n",
              "      <td>300000329</td>\n",
              "      <td>FACIL</td>\n",
              "      <td>07-02-2019</td>\n",
              "      <td>NaN</td>\n",
              "      <td>NaN</td>\n",
              "    </tr>\n",
              "    <tr>\n",
              "      <th>4034</th>\n",
              "      <td>NY0000005415200205</td>\n",
              "      <td>3602231697</td>\n",
              "      <td>State</td>\n",
              "      <td>NY</td>\n",
              "      <td>NaN</td>\n",
              "      <td>NY000A0000541520020500304</td>\n",
              "      <td>FRV</td>\n",
              "      <td>CAASIP</td>\n",
              "      <td>State Implementation Plan for National Primary...</td>\n",
              "      <td>NaN</td>\n",
              "      <td>NaN</td>\n",
              "      <td>01-08-2019</td>\n",
              "      <td>NaN</td>\n",
              "      <td>NaN</td>\n",
              "    </tr>\n",
              "  </tbody>\n",
              "</table>\n",
              "<p>4035 rows × 14 columns</p>\n",
              "</div>"
            ],
            "text/plain": [
              "              PGM_SYS_ID  ACTIVITY_ID  ... HPV_DAYZERO_DATE HPV_RESOLVED_DATE\n",
              "0     FL0000001200500009   3601741276  ...              NaN        05-13-2019\n",
              "1     IA0000001901900052   3601913691  ...              NaN        07-24-2019\n",
              "2         IL000163020AAB   3601954355  ...              NaN               NaN\n",
              "3     IN0000001803900097   3601869864  ...              NaN               NaN\n",
              "4     IN0000001803300043   3601685463  ...       01-13-2019               NaN\n",
              "...                  ...          ...  ...              ...               ...\n",
              "4030  CO0000000803102488   3602151392  ...              NaN        02-12-2020\n",
              "4031  MN0000002700100021   3602178887  ...              NaN        01-03-2020\n",
              "4032          CABAAA0085   3602188895  ...       07-23-2019        06-04-2020\n",
              "4033         PA000633228   3602223361  ...              NaN               NaN\n",
              "4034  NY0000005415200205   3602231697  ...              NaN               NaN\n",
              "\n",
              "[4035 rows x 14 columns]"
            ]
          },
          "metadata": {
            "tags": []
          },
          "execution_count": 10
        }
      ]
    },
    {
      "cell_type": "code",
      "metadata": {
        "cellView": "both",
        "colab_type": "code",
        "id": "KUQs-_I045oc",
        "colab": {
          "base_uri": "https://localhost:8080/",
          "height": 57
        },
        "outputId": "eb31e520-f7bc-4c1a-d3ab-19799040fb72"
      },
      "source": [
        "# Number of high priority and federally reportable violations per 1000 regulated facilities\n",
        "air_violations_metric = formatter((air_violations.shape[0] / air_fac) * 1000) # Divide by regulated facilities and multiply by desired rate (per 1000)\n",
        "violations[\"CAA\"] = air_violations_metric\n",
        "display(HTML(\"<h3>\"+air_violations_metric+\" violations per 1000 facilities </h3>\"))"
      ],
      "execution_count": 12,
      "outputs": [
        {
          "output_type": "display_data",
          "data": {
            "text/html": [
              "<h3>21.57 violations per 1000 facilities </h3>"
            ],
            "text/plain": [
              "<IPython.core.display.HTML object>"
            ]
          },
          "metadata": {
            "tags": []
          }
        }
      ]
    },
    {
      "cell_type": "markdown",
      "metadata": {
        "colab_type": "text",
        "id": "DGdQDifqo3Bg"
      },
      "source": [
        "## Formal Enforcement Actions and Penalties under the Clean Air Act in 2019"
      ]
    },
    {
      "cell_type": "code",
      "metadata": {
        "colab_type": "code",
        "id": "vKHjSEl6o0tp",
        "colab": {
          "base_uri": "https://localhost:8080/",
          "height": 609
        },
        "outputId": "e4bf2cb5-6801-441a-ccd8-89e3263d6926"
      },
      "source": [
        "air_enforcements = None\n",
        "try:\n",
        "    sql = 'select * from \"ICIS-AIR_FORMAL_ACTIONS\" where \"SETTLEMENT_ENTERED_DATE\" like \\'__/__/2019\\''\n",
        "\n",
        "    air_enforcements = get_data( sql, \"pgm_sys_id\" )\n",
        "except EmptyDataError:\n",
        "    print( \"No data found\")\n",
        "air_enforcements"
      ],
      "execution_count": 13,
      "outputs": [
        {
          "output_type": "execute_result",
          "data": {
            "text/html": [
              "<div>\n",
              "<style scoped>\n",
              "    .dataframe tbody tr th:only-of-type {\n",
              "        vertical-align: middle;\n",
              "    }\n",
              "\n",
              "    .dataframe tbody tr th {\n",
              "        vertical-align: top;\n",
              "    }\n",
              "\n",
              "    .dataframe thead th {\n",
              "        text-align: right;\n",
              "    }\n",
              "</style>\n",
              "<table border=\"1\" class=\"dataframe\">\n",
              "  <thead>\n",
              "    <tr style=\"text-align: right;\">\n",
              "      <th></th>\n",
              "      <th>PGM_SYS_ID</th>\n",
              "      <th>ACTIVITY_ID</th>\n",
              "      <th>ENF_IDENTIFIER</th>\n",
              "      <th>ACTIVITY_TYPE_CODE</th>\n",
              "      <th>ACTIVITY_TYPE_DESC</th>\n",
              "      <th>STATE_EPA_FLAG</th>\n",
              "      <th>ENF_TYPE_CODE</th>\n",
              "      <th>ENF_TYPE_DESC</th>\n",
              "      <th>SETTLEMENT_ENTERED_DATE</th>\n",
              "      <th>PENALTY_AMOUNT</th>\n",
              "    </tr>\n",
              "  </thead>\n",
              "  <tbody>\n",
              "    <tr>\n",
              "      <th>0</th>\n",
              "      <td>OH0000000627010056</td>\n",
              "      <td>31941</td>\n",
              "      <td>05-1999-0644</td>\n",
              "      <td>JDC</td>\n",
              "      <td>Judicial</td>\n",
              "      <td>E</td>\n",
              "      <td>CIV</td>\n",
              "      <td>Civil Judicial Action</td>\n",
              "      <td>07/17/2019</td>\n",
              "      <td>0.0</td>\n",
              "    </tr>\n",
              "    <tr>\n",
              "      <th>1</th>\n",
              "      <td>OH0000000684000000</td>\n",
              "      <td>31941</td>\n",
              "      <td>05-1999-0644</td>\n",
              "      <td>JDC</td>\n",
              "      <td>Judicial</td>\n",
              "      <td>E</td>\n",
              "      <td>CIV</td>\n",
              "      <td>Civil Judicial Action</td>\n",
              "      <td>07/17/2019</td>\n",
              "      <td>0.0</td>\n",
              "    </tr>\n",
              "    <tr>\n",
              "      <th>2</th>\n",
              "      <td>IN0000001802900002</td>\n",
              "      <td>31941</td>\n",
              "      <td>05-1999-0644</td>\n",
              "      <td>JDC</td>\n",
              "      <td>Judicial</td>\n",
              "      <td>E</td>\n",
              "      <td>CIV</td>\n",
              "      <td>Civil Judicial Action</td>\n",
              "      <td>07/17/2019</td>\n",
              "      <td>0.0</td>\n",
              "    </tr>\n",
              "    <tr>\n",
              "      <th>3</th>\n",
              "      <td>IN0000001814700020</td>\n",
              "      <td>31941</td>\n",
              "      <td>05-1999-0644</td>\n",
              "      <td>JDC</td>\n",
              "      <td>Judicial</td>\n",
              "      <td>E</td>\n",
              "      <td>CIV</td>\n",
              "      <td>Civil Judicial Action</td>\n",
              "      <td>07/17/2019</td>\n",
              "      <td>0.0</td>\n",
              "    </tr>\n",
              "    <tr>\n",
              "      <th>4</th>\n",
              "      <td>OH0000000165000006</td>\n",
              "      <td>31941</td>\n",
              "      <td>05-1999-0644</td>\n",
              "      <td>JDC</td>\n",
              "      <td>Judicial</td>\n",
              "      <td>E</td>\n",
              "      <td>CIV</td>\n",
              "      <td>Civil Judicial Action</td>\n",
              "      <td>07/17/2019</td>\n",
              "      <td>0.0</td>\n",
              "    </tr>\n",
              "    <tr>\n",
              "      <th>...</th>\n",
              "      <td>...</td>\n",
              "      <td>...</td>\n",
              "      <td>...</td>\n",
              "      <td>...</td>\n",
              "      <td>...</td>\n",
              "      <td>...</td>\n",
              "      <td>...</td>\n",
              "      <td>...</td>\n",
              "      <td>...</td>\n",
              "      <td>...</td>\n",
              "    </tr>\n",
              "    <tr>\n",
              "      <th>2641</th>\n",
              "      <td>HI0000001500700066</td>\n",
              "      <td>3602236126</td>\n",
              "      <td>HI000AEA93</td>\n",
              "      <td>AFR</td>\n",
              "      <td>Administrative - Formal</td>\n",
              "      <td>S</td>\n",
              "      <td>SCAAAO</td>\n",
              "      <td>Administrative Order</td>\n",
              "      <td>07/11/2019</td>\n",
              "      <td>22800.0</td>\n",
              "    </tr>\n",
              "    <tr>\n",
              "      <th>2642</th>\n",
              "      <td>MI00000000000N7688</td>\n",
              "      <td>3602237523</td>\n",
              "      <td>MI000AN7688FRV0000038302</td>\n",
              "      <td>AFR</td>\n",
              "      <td>Administrative - Formal</td>\n",
              "      <td>S</td>\n",
              "      <td>SCAAAO</td>\n",
              "      <td>Administrative Order</td>\n",
              "      <td>08/08/2019</td>\n",
              "      <td>54600.0</td>\n",
              "    </tr>\n",
              "    <tr>\n",
              "      <th>2643</th>\n",
              "      <td>WASPC0005306310023</td>\n",
              "      <td>3602245188</td>\n",
              "      <td>WASPCA200188484</td>\n",
              "      <td>AFR</td>\n",
              "      <td>Administrative - Formal</td>\n",
              "      <td>L</td>\n",
              "      <td>SCAAAO</td>\n",
              "      <td>Administrative Order</td>\n",
              "      <td>12/31/2019</td>\n",
              "      <td>32000.0</td>\n",
              "    </tr>\n",
              "    <tr>\n",
              "      <th>2644</th>\n",
              "      <td>LA0000002212500007</td>\n",
              "      <td>3602258171</td>\n",
              "      <td>LA000A2573011</td>\n",
              "      <td>AFR</td>\n",
              "      <td>Administrative - Formal</td>\n",
              "      <td>S</td>\n",
              "      <td>SCAAAO</td>\n",
              "      <td>Administrative Order</td>\n",
              "      <td>01/11/2019</td>\n",
              "      <td>7597.9</td>\n",
              "    </tr>\n",
              "    <tr>\n",
              "      <th>2645</th>\n",
              "      <td>LA0000002208900167</td>\n",
              "      <td>3602258178</td>\n",
              "      <td>LA000A2388362</td>\n",
              "      <td>AFR</td>\n",
              "      <td>Administrative - Formal</td>\n",
              "      <td>S</td>\n",
              "      <td>SCAAAO</td>\n",
              "      <td>Administrative Order</td>\n",
              "      <td>03/25/2019</td>\n",
              "      <td>0.0</td>\n",
              "    </tr>\n",
              "  </tbody>\n",
              "</table>\n",
              "<p>2646 rows × 10 columns</p>\n",
              "</div>"
            ],
            "text/plain": [
              "              PGM_SYS_ID  ACTIVITY_ID  ... SETTLEMENT_ENTERED_DATE PENALTY_AMOUNT\n",
              "0     OH0000000627010056        31941  ...              07/17/2019            0.0\n",
              "1     OH0000000684000000        31941  ...              07/17/2019            0.0\n",
              "2     IN0000001802900002        31941  ...              07/17/2019            0.0\n",
              "3     IN0000001814700020        31941  ...              07/17/2019            0.0\n",
              "4     OH0000000165000006        31941  ...              07/17/2019            0.0\n",
              "...                  ...          ...  ...                     ...            ...\n",
              "2641  HI0000001500700066   3602236126  ...              07/11/2019        22800.0\n",
              "2642  MI00000000000N7688   3602237523  ...              08/08/2019        54600.0\n",
              "2643  WASPC0005306310023   3602245188  ...              12/31/2019        32000.0\n",
              "2644  LA0000002212500007   3602258171  ...              01/11/2019         7597.9\n",
              "2645  LA0000002208900167   3602258178  ...              03/25/2019            0.0\n",
              "\n",
              "[2646 rows x 10 columns]"
            ]
          },
          "metadata": {
            "tags": []
          },
          "execution_count": 13
        }
      ]
    },
    {
      "cell_type": "code",
      "metadata": {
        "colab_type": "code",
        "id": "3LYD5_dd6bub",
        "colab": {
          "base_uri": "https://localhost:8080/",
          "height": 57
        },
        "outputId": "356c4d61-707c-4d9c-9f99-fdab264c232d"
      },
      "source": [
        "# Number of formal actions in 2019 per violation\n",
        "air_enforcements_metric = formatter(air_enforcements.shape[0]/air_violations.shape[0]) # Formal actions divided by number of violations\n",
        "enforcements[\"CAA\"] = air_enforcements_metric\n",
        "display(HTML(\"<h3>\"+air_enforcements_metric +\" formal enforcement actions per violation</h3>\"))"
      ],
      "execution_count": 14,
      "outputs": [
        {
          "output_type": "display_data",
          "data": {
            "text/html": [
              "<h3>0.66 formal enforcement actions per violation</h3>"
            ],
            "text/plain": [
              "<IPython.core.display.HTML object>"
            ]
          },
          "metadata": {
            "tags": []
          }
        }
      ]
    },
    {
      "cell_type": "code",
      "metadata": {
        "colab_type": "code",
        "id": "Z7ykKG7V7G4b",
        "colab": {
          "base_uri": "https://localhost:8080/",
          "height": 130
        },
        "outputId": "da7a5160-ca4f-45e2-b6fc-03554efc18a6"
      },
      "source": [
        "# Penalties each year per violating facility\n",
        "air_penalties = air_enforcements.loc[air_enforcements[\"PENALTY_AMOUNT\"]>0]\n",
        "air_penalties_metric = formatter(sum(air_penalties[\"PENALTY_AMOUNT\"]) / len(air_violations[\"PGM_SYS_ID\"].unique())) #Divide the sum of penalties by number of violating facilities\n",
        "air_penalties_max = formatter(max(air_penalties[\"PENALTY_AMOUNT\"])) \n",
        "air_penalties_min = formatter(min(air_penalties[\"PENALTY_AMOUNT\"])) \n",
        "penalties[\"CAA\"] = air_penalties_metric\n",
        "display(HTML(\"<h3>$\"+air_penalties_metric +\" per facility in violation</h3>\"))\n",
        "display(HTML(\"<h3>Max: $\"+air_penalties_max +\"</h3>\"))\n",
        "display(HTML(\"<h3>Min: $\"+air_penalties_min +\"</h3>\"))"
      ],
      "execution_count": 15,
      "outputs": [
        {
          "output_type": "display_data",
          "data": {
            "text/html": [
              "<h3>$23062.80 per facility in violation</h3>"
            ],
            "text/plain": [
              "<IPython.core.display.HTML object>"
            ]
          },
          "metadata": {
            "tags": []
          }
        },
        {
          "output_type": "display_data",
          "data": {
            "text/html": [
              "<h3>Max: $3709513.00</h3>"
            ],
            "text/plain": [
              "<IPython.core.display.HTML object>"
            ]
          },
          "metadata": {
            "tags": []
          }
        },
        {
          "output_type": "display_data",
          "data": {
            "text/html": [
              "<h3>Min: $100.00</h3>"
            ],
            "text/plain": [
              "<IPython.core.display.HTML object>"
            ]
          },
          "metadata": {
            "tags": []
          }
        }
      ]
    },
    {
      "cell_type": "markdown",
      "metadata": {
        "colab_type": "text",
        "id": "bevtiFu2bt6M"
      },
      "source": [
        "---"
      ]
    },
    {
      "cell_type": "markdown",
      "metadata": {
        "colab_type": "text",
        "id": "hOmeJnXgnzOC"
      },
      "source": [
        "## Clean Water Act inspections in 2019"
      ]
    },
    {
      "cell_type": "code",
      "metadata": {
        "colab_type": "code",
        "id": "gHXwXWcqnyNO",
        "colab": {
          "base_uri": "https://localhost:8080/",
          "height": 450
        },
        "outputId": "672c9ad9-5a54-465a-bb87-293e5bf376e0"
      },
      "source": [
        "# Find facilities with pollutant exceedences\n",
        "water_inspections = None\n",
        "try:\n",
        "    sql = 'select \"NPDES_ID\", \"REGISTRY_ID\", \"ACTUAL_END_DATE\", \"STATE_EPA_FLAG\"' + \\\n",
        "        ' from \"NPDES_INSPECTIONS\" where \"ACTUAL_END_DATE\" like \\'__/__/2019\\''\n",
        "\n",
        "    water_inspections = get_data( sql, \"NPDES_ID\" ) \n",
        "except EmptyDataError:\n",
        "    print( \"No data found\")\n",
        "water_inspections"
      ],
      "execution_count": 16,
      "outputs": [
        {
          "output_type": "execute_result",
          "data": {
            "text/html": [
              "<div>\n",
              "<style scoped>\n",
              "    .dataframe tbody tr th:only-of-type {\n",
              "        vertical-align: middle;\n",
              "    }\n",
              "\n",
              "    .dataframe tbody tr th {\n",
              "        vertical-align: top;\n",
              "    }\n",
              "\n",
              "    .dataframe thead th {\n",
              "        text-align: right;\n",
              "    }\n",
              "</style>\n",
              "<table border=\"1\" class=\"dataframe\">\n",
              "  <thead>\n",
              "    <tr style=\"text-align: right;\">\n",
              "      <th></th>\n",
              "      <th>REGISTRY_ID</th>\n",
              "      <th>ACTUAL_END_DATE</th>\n",
              "      <th>STATE_EPA_FLAG</th>\n",
              "    </tr>\n",
              "    <tr>\n",
              "      <th>NPDES_ID</th>\n",
              "      <th></th>\n",
              "      <th></th>\n",
              "      <th></th>\n",
              "    </tr>\n",
              "  </thead>\n",
              "  <tbody>\n",
              "    <tr>\n",
              "      <th>AK0000507</th>\n",
              "      <td>110030488620</td>\n",
              "      <td>12/17/2019</td>\n",
              "      <td>S</td>\n",
              "    </tr>\n",
              "    <tr>\n",
              "      <th>AKR06AA08</th>\n",
              "      <td>110070146690</td>\n",
              "      <td>04/25/2019</td>\n",
              "      <td>S</td>\n",
              "    </tr>\n",
              "    <tr>\n",
              "      <th>AK0021385</th>\n",
              "      <td>110000761453</td>\n",
              "      <td>08/26/2019</td>\n",
              "      <td>E</td>\n",
              "    </tr>\n",
              "    <tr>\n",
              "      <th>AK0022497</th>\n",
              "      <td>110039730459</td>\n",
              "      <td>02/25/2019</td>\n",
              "      <td>S</td>\n",
              "    </tr>\n",
              "    <tr>\n",
              "      <th>AKG520160</th>\n",
              "      <td>110009691440</td>\n",
              "      <td>07/19/2019</td>\n",
              "      <td>S</td>\n",
              "    </tr>\n",
              "    <tr>\n",
              "      <th>...</th>\n",
              "      <td>...</td>\n",
              "      <td>...</td>\n",
              "      <td>...</td>\n",
              "    </tr>\n",
              "    <tr>\n",
              "      <th>WYR105839</th>\n",
              "      <td>110070517716</td>\n",
              "      <td>09/03/2019</td>\n",
              "      <td>S</td>\n",
              "    </tr>\n",
              "    <tr>\n",
              "      <th>WYR105849</th>\n",
              "      <td>110055373590</td>\n",
              "      <td>09/09/2019</td>\n",
              "      <td>S</td>\n",
              "    </tr>\n",
              "    <tr>\n",
              "      <th>WYR105859</th>\n",
              "      <td>110055182975</td>\n",
              "      <td>06/26/2019</td>\n",
              "      <td>S</td>\n",
              "    </tr>\n",
              "    <tr>\n",
              "      <th>WYR105860</th>\n",
              "      <td>110055172290</td>\n",
              "      <td>09/09/2019</td>\n",
              "      <td>S</td>\n",
              "    </tr>\n",
              "    <tr>\n",
              "      <th>WYR105909</th>\n",
              "      <td>110070553266</td>\n",
              "      <td>09/05/2019</td>\n",
              "      <td>S</td>\n",
              "    </tr>\n",
              "  </tbody>\n",
              "</table>\n",
              "<p>52050 rows × 3 columns</p>\n",
              "</div>"
            ],
            "text/plain": [
              "            REGISTRY_ID ACTUAL_END_DATE STATE_EPA_FLAG\n",
              "NPDES_ID                                              \n",
              "AK0000507  110030488620      12/17/2019              S\n",
              "AKR06AA08  110070146690      04/25/2019              S\n",
              "AK0021385  110000761453      08/26/2019              E\n",
              "AK0022497  110039730459      02/25/2019              S\n",
              "AKG520160  110009691440      07/19/2019              S\n",
              "...                 ...             ...            ...\n",
              "WYR105839  110070517716      09/03/2019              S\n",
              "WYR105849  110055373590      09/09/2019              S\n",
              "WYR105859  110055182975      06/26/2019              S\n",
              "WYR105860  110055172290      09/09/2019              S\n",
              "WYR105909  110070553266      09/05/2019              S\n",
              "\n",
              "[52050 rows x 3 columns]"
            ]
          },
          "metadata": {
            "tags": []
          },
          "execution_count": 16
        }
      ]
    },
    {
      "cell_type": "code",
      "metadata": {
        "colab_type": "code",
        "id": "YoBlWh8V8BD-",
        "colab": {
          "base_uri": "https://localhost:8080/",
          "height": 57
        },
        "outputId": "cd6a95bc-2718-47c1-ef8d-7fdcef3735bc"
      },
      "source": [
        "# Number of inspections in 2019 per 1000 regulated facilities\n",
        "water_inspections_metric = formatter((water_inspections.shape[0] / water_fac) * 1000) #Divide by regulated facilities and multiply by desired rate (per 1000)\n",
        "inspections[\"CWA\"] = water_inspections_metric\n",
        "display(HTML(\"<h3>\"+water_inspections_metric +\" inspections per 1000 facilities</h3>\"))"
      ],
      "execution_count": 17,
      "outputs": [
        {
          "output_type": "display_data",
          "data": {
            "text/html": [
              "<h3>148.16 inspections per 1000 facilities</h3>"
            ],
            "text/plain": [
              "<IPython.core.display.HTML object>"
            ]
          },
          "metadata": {
            "tags": []
          }
        }
      ]
    },
    {
      "cell_type": "markdown",
      "metadata": {
        "colab_type": "text",
        "id": "C6ntT917bt6N"
      },
      "source": [
        "## Violations of the Clean Water Act in 2019"
      ]
    },
    {
      "cell_type": "code",
      "metadata": {
        "colab_type": "code",
        "id": "FmsI5gJAbt6P",
        "colab": {
          "base_uri": "https://localhost:8080/",
          "height": 450
        },
        "outputId": "07aa3052-bebc-4600-a054-4cd57291a8d9"
      },
      "source": [
        "# Find facilities with water permit violations\n",
        "water_violations = None\n",
        "try:\n",
        "    sql = 'select * from \"NPDES_QNCR_HISTORY\" where \"YEARQTR\" = 20191 or \"YEARQTR\" = 20192 or \"YEARQTR\" = 20193 or \"YEARQTR\" = 20194'\n",
        "    water_violations = get_data( sql, \"NPDES_ID\" ) \n",
        "except EmptyDataError:\n",
        "    print( \"No data found\")\n",
        "water_violations"
      ],
      "execution_count": 37,
      "outputs": [
        {
          "output_type": "execute_result",
          "data": {
            "text/html": [
              "<div>\n",
              "<style scoped>\n",
              "    .dataframe tbody tr th:only-of-type {\n",
              "        vertical-align: middle;\n",
              "    }\n",
              "\n",
              "    .dataframe tbody tr th {\n",
              "        vertical-align: top;\n",
              "    }\n",
              "\n",
              "    .dataframe thead th {\n",
              "        text-align: right;\n",
              "    }\n",
              "</style>\n",
              "<table border=\"1\" class=\"dataframe\">\n",
              "  <thead>\n",
              "    <tr style=\"text-align: right;\">\n",
              "      <th></th>\n",
              "      <th>YEARQTR</th>\n",
              "      <th>HLRNC</th>\n",
              "      <th>NUME90Q</th>\n",
              "      <th>NUMCVDT</th>\n",
              "      <th>NUMSVCD</th>\n",
              "      <th>NUMPSCH</th>\n",
              "    </tr>\n",
              "    <tr>\n",
              "      <th>NPDES_ID</th>\n",
              "      <th></th>\n",
              "      <th></th>\n",
              "      <th></th>\n",
              "      <th></th>\n",
              "      <th></th>\n",
              "      <th></th>\n",
              "    </tr>\n",
              "  </thead>\n",
              "  <tbody>\n",
              "    <tr>\n",
              "      <th>AK0001058</th>\n",
              "      <td>20191</td>\n",
              "      <td></td>\n",
              "      <td>0</td>\n",
              "      <td>0</td>\n",
              "      <td>0</td>\n",
              "      <td>3</td>\n",
              "    </tr>\n",
              "    <tr>\n",
              "      <th>AK0001058</th>\n",
              "      <td>20192</td>\n",
              "      <td></td>\n",
              "      <td>0</td>\n",
              "      <td>0</td>\n",
              "      <td>0</td>\n",
              "      <td>3</td>\n",
              "    </tr>\n",
              "    <tr>\n",
              "      <th>AK0001058</th>\n",
              "      <td>20193</td>\n",
              "      <td></td>\n",
              "      <td>0</td>\n",
              "      <td>0</td>\n",
              "      <td>0</td>\n",
              "      <td>3</td>\n",
              "    </tr>\n",
              "    <tr>\n",
              "      <th>AK0001058</th>\n",
              "      <td>20194</td>\n",
              "      <td></td>\n",
              "      <td>0</td>\n",
              "      <td>0</td>\n",
              "      <td>0</td>\n",
              "      <td>3</td>\n",
              "    </tr>\n",
              "    <tr>\n",
              "      <th>AK0001155</th>\n",
              "      <td>20191</td>\n",
              "      <td>C</td>\n",
              "      <td>0</td>\n",
              "      <td>0</td>\n",
              "      <td>0</td>\n",
              "      <td>0</td>\n",
              "    </tr>\n",
              "    <tr>\n",
              "      <th>...</th>\n",
              "      <td>...</td>\n",
              "      <td>...</td>\n",
              "      <td>...</td>\n",
              "      <td>...</td>\n",
              "      <td>...</td>\n",
              "      <td>...</td>\n",
              "    </tr>\n",
              "    <tr>\n",
              "      <th>WYR105141</th>\n",
              "      <td>20191</td>\n",
              "      <td>C</td>\n",
              "      <td>0</td>\n",
              "      <td>0</td>\n",
              "      <td>0</td>\n",
              "      <td>0</td>\n",
              "    </tr>\n",
              "    <tr>\n",
              "      <th>WYR105141</th>\n",
              "      <td>20192</td>\n",
              "      <td>C</td>\n",
              "      <td>0</td>\n",
              "      <td>0</td>\n",
              "      <td>0</td>\n",
              "      <td>0</td>\n",
              "    </tr>\n",
              "    <tr>\n",
              "      <th>WYR105141</th>\n",
              "      <td>20193</td>\n",
              "      <td>C</td>\n",
              "      <td>0</td>\n",
              "      <td>0</td>\n",
              "      <td>0</td>\n",
              "      <td>0</td>\n",
              "    </tr>\n",
              "    <tr>\n",
              "      <th>WYR105141</th>\n",
              "      <td>20194</td>\n",
              "      <td>C</td>\n",
              "      <td>0</td>\n",
              "      <td>0</td>\n",
              "      <td>0</td>\n",
              "      <td>0</td>\n",
              "    </tr>\n",
              "    <tr>\n",
              "      <th>WI0024597</th>\n",
              "      <td>20193</td>\n",
              "      <td></td>\n",
              "      <td>0</td>\n",
              "      <td>0</td>\n",
              "      <td>1</td>\n",
              "      <td>0</td>\n",
              "    </tr>\n",
              "  </tbody>\n",
              "</table>\n",
              "<p>490935 rows × 6 columns</p>\n",
              "</div>"
            ],
            "text/plain": [
              "           YEARQTR HLRNC  NUME90Q  NUMCVDT  NUMSVCD  NUMPSCH\n",
              "NPDES_ID                                                    \n",
              "AK0001058    20191              0        0        0        3\n",
              "AK0001058    20192              0        0        0        3\n",
              "AK0001058    20193              0        0        0        3\n",
              "AK0001058    20194              0        0        0        3\n",
              "AK0001155    20191     C        0        0        0        0\n",
              "...            ...   ...      ...      ...      ...      ...\n",
              "WYR105141    20191     C        0        0        0        0\n",
              "WYR105141    20192     C        0        0        0        0\n",
              "WYR105141    20193     C        0        0        0        0\n",
              "WYR105141    20194     C        0        0        0        0\n",
              "WI0024597    20193              0        0        1        0\n",
              "\n",
              "[490935 rows x 6 columns]"
            ]
          },
          "metadata": {
            "tags": []
          },
          "execution_count": 37
        }
      ]
    },
    {
      "cell_type": "code",
      "metadata": {
        "colab_type": "code",
        "id": "EhmXcwIQ8kXA",
        "colab": {
          "base_uri": "https://localhost:8080/",
          "height": 57
        },
        "outputId": "e5febec8-5d3e-4b89-d3f5-5bb123ec8b93"
      },
      "source": [
        "# Number of violations each year per 1000 regulated facilities\n",
        "# Sum violations \n",
        "water_violations[\"Sum\"] = water_violations[\"NUME90Q\"]\t+ water_violations[\"NUMCVDT\"] + water_violations[\"NUMSVCD\"]\t+ water_violations[\"NUMPSCH\"]\n",
        "water_violations_metric = formatter((np.sum(water_violations[\"Sum\"]) / water_fac) * 1000) #Divide by regulated facilities and multiply by desired rate (per 1000)\n",
        "violations[\"CWA\"] = water_violations_metric\n",
        "display(HTML(\"<h3>\"+water_violations_metric+\" violations per 1000 facilities</h3>\"))"
      ],
      "execution_count": 53,
      "outputs": [
        {
          "output_type": "display_data",
          "data": {
            "text/html": [
              "<h3>1108.10 violations per 1000 facilities</h3>"
            ],
            "text/plain": [
              "<IPython.core.display.HTML object>"
            ]
          },
          "metadata": {
            "tags": []
          }
        }
      ]
    },
    {
      "cell_type": "code",
      "metadata": {
        "id": "blyq6Qg9H0sX",
        "colab_type": "code",
        "colab": {
          "base_uri": "https://localhost:8080/",
          "height": 34
        },
        "outputId": "73a4aec2-02f0-41aa-ab17-e7bd551c84b9"
      },
      "source": [
        "x = water_violations.loc[water_violations[\"HLRNC\"]==\"C\"]\n",
        "plus = x.loc[x[\"Sum\"]>0]\n",
        "len(plus.index.unique())"
      ],
      "execution_count": 72,
      "outputs": [
        {
          "output_type": "execute_result",
          "data": {
            "text/plain": [
              "1210"
            ]
          },
          "metadata": {
            "tags": []
          },
          "execution_count": 72
        }
      ]
    },
    {
      "cell_type": "markdown",
      "metadata": {
        "colab_type": "text",
        "id": "8rMriPuXpkA_"
      },
      "source": [
        "## Enforcement Actions and Penalties under the Clean Water Act in 2019"
      ]
    },
    {
      "cell_type": "code",
      "metadata": {
        "colab_type": "code",
        "id": "g2fIBDtppjeI",
        "colab": {
          "base_uri": "https://localhost:8080/",
          "height": 518
        },
        "outputId": "bb10b2c4-c89a-4f19-cbfa-31c5585e7cf2"
      },
      "source": [
        "# Find facilities with pollutant exceedences\n",
        "water_enforcements = None\n",
        "try:\n",
        "    sql = 'select \"NPDES_ID\", \"AGENCY\", \"ENF_TYPE_DESC\", \"SETTLEMENT_ENTERED_DATE\", \"FED_PENALTY_ASSESSED_AMT\", \"STATE_LOCAL_PENALTY_AMT\"' + \\\n",
        "        ' from \"NPDES_FORMAL_ENFORCEMENT_ACTIONS\" where \"SETTLEMENT_ENTERED_DATE\" like \\'__/__/2019\\''\n",
        "\n",
        "    water_enforcements = get_data( sql, \"NPDES_ID\" ) \n",
        "except EmptyDataError:\n",
        "    print( \"No data found\")\n",
        "water_enforcements"
      ],
      "execution_count": 54,
      "outputs": [
        {
          "output_type": "execute_result",
          "data": {
            "text/html": [
              "<div>\n",
              "<style scoped>\n",
              "    .dataframe tbody tr th:only-of-type {\n",
              "        vertical-align: middle;\n",
              "    }\n",
              "\n",
              "    .dataframe tbody tr th {\n",
              "        vertical-align: top;\n",
              "    }\n",
              "\n",
              "    .dataframe thead th {\n",
              "        text-align: right;\n",
              "    }\n",
              "</style>\n",
              "<table border=\"1\" class=\"dataframe\">\n",
              "  <thead>\n",
              "    <tr style=\"text-align: right;\">\n",
              "      <th></th>\n",
              "      <th>AGENCY</th>\n",
              "      <th>ENF_TYPE_DESC</th>\n",
              "      <th>SETTLEMENT_ENTERED_DATE</th>\n",
              "      <th>FED_PENALTY_ASSESSED_AMT</th>\n",
              "      <th>STATE_LOCAL_PENALTY_AMT</th>\n",
              "    </tr>\n",
              "    <tr>\n",
              "      <th>NPDES_ID</th>\n",
              "      <th></th>\n",
              "      <th></th>\n",
              "      <th></th>\n",
              "      <th></th>\n",
              "      <th></th>\n",
              "    </tr>\n",
              "  </thead>\n",
              "  <tbody>\n",
              "    <tr>\n",
              "      <th>AKR06AA89</th>\n",
              "      <td>EPA</td>\n",
              "      <td>CWA 309A AO For Compliance</td>\n",
              "      <td>03/18/2019</td>\n",
              "      <td>NaN</td>\n",
              "      <td>NaN</td>\n",
              "    </tr>\n",
              "    <tr>\n",
              "      <th>AL0032310</th>\n",
              "      <td>EPA</td>\n",
              "      <td>CWA 309G2B AO For Class II Penalties</td>\n",
              "      <td>10/28/2019</td>\n",
              "      <td>50000.0</td>\n",
              "      <td>NaN</td>\n",
              "    </tr>\n",
              "    <tr>\n",
              "      <th>AL0080225</th>\n",
              "      <td>State</td>\n",
              "      <td>State Administrative Order of Consent</td>\n",
              "      <td>12/19/2019</td>\n",
              "      <td>NaN</td>\n",
              "      <td>0.0</td>\n",
              "    </tr>\n",
              "    <tr>\n",
              "      <th>AR0048879</th>\n",
              "      <td>State</td>\n",
              "      <td>State Administrative Order of Consent</td>\n",
              "      <td>07/10/2019</td>\n",
              "      <td>NaN</td>\n",
              "      <td>NaN</td>\n",
              "    </tr>\n",
              "    <tr>\n",
              "      <th>ARU001243</th>\n",
              "      <td>EPA</td>\n",
              "      <td>CWA 309A AO For Compliance</td>\n",
              "      <td>07/24/2019</td>\n",
              "      <td>NaN</td>\n",
              "      <td>NaN</td>\n",
              "    </tr>\n",
              "    <tr>\n",
              "      <th>...</th>\n",
              "      <td>...</td>\n",
              "      <td>...</td>\n",
              "      <td>...</td>\n",
              "      <td>...</td>\n",
              "      <td>...</td>\n",
              "    </tr>\n",
              "    <tr>\n",
              "      <th>PA0272736</th>\n",
              "      <td>State</td>\n",
              "      <td>State CWA Penalty AO</td>\n",
              "      <td>08/08/2019</td>\n",
              "      <td>NaN</td>\n",
              "      <td>500.0</td>\n",
              "    </tr>\n",
              "    <tr>\n",
              "      <th>PAR212229</th>\n",
              "      <td>State</td>\n",
              "      <td>State CWA Non Penalty AO</td>\n",
              "      <td>08/01/2019</td>\n",
              "      <td>NaN</td>\n",
              "      <td>NaN</td>\n",
              "    </tr>\n",
              "    <tr>\n",
              "      <th>TNU058148</th>\n",
              "      <td>State</td>\n",
              "      <td>State Administrative Order of Consent</td>\n",
              "      <td>08/21/2019</td>\n",
              "      <td>NaN</td>\n",
              "      <td>2735.0</td>\n",
              "    </tr>\n",
              "    <tr>\n",
              "      <th>TXR05EJ33</th>\n",
              "      <td>State</td>\n",
              "      <td>State CWA Penalty AO</td>\n",
              "      <td>09/10/2019</td>\n",
              "      <td>NaN</td>\n",
              "      <td>875.0</td>\n",
              "    </tr>\n",
              "    <tr>\n",
              "      <th>WVU008897</th>\n",
              "      <td>State</td>\n",
              "      <td>State CWA Penalty AO</td>\n",
              "      <td>01/03/2019</td>\n",
              "      <td>NaN</td>\n",
              "      <td>11470.0</td>\n",
              "    </tr>\n",
              "  </tbody>\n",
              "</table>\n",
              "<p>4019 rows × 5 columns</p>\n",
              "</div>"
            ],
            "text/plain": [
              "          AGENCY  ... STATE_LOCAL_PENALTY_AMT\n",
              "NPDES_ID          ...                        \n",
              "AKR06AA89    EPA  ...                     NaN\n",
              "AL0032310    EPA  ...                     NaN\n",
              "AL0080225  State  ...                     0.0\n",
              "AR0048879  State  ...                     NaN\n",
              "ARU001243    EPA  ...                     NaN\n",
              "...          ...  ...                     ...\n",
              "PA0272736  State  ...                   500.0\n",
              "PAR212229  State  ...                     NaN\n",
              "TNU058148  State  ...                  2735.0\n",
              "TXR05EJ33  State  ...                   875.0\n",
              "WVU008897  State  ...                 11470.0\n",
              "\n",
              "[4019 rows x 5 columns]"
            ]
          },
          "metadata": {
            "tags": []
          },
          "execution_count": 54
        }
      ]
    },
    {
      "cell_type": "code",
      "metadata": {
        "colab_type": "code",
        "id": "v7OKOgCz85l2",
        "colab": {
          "base_uri": "https://localhost:8080/",
          "height": 57
        },
        "outputId": "f1a733c1-fa8a-4822-c414-8310a41273ac"
      },
      "source": [
        "# Number of formal actions in 2019 per violation\n",
        "water_enforcements_metric = formatter(water_enforcements.shape[0]/water_violations.shape[0]) # Formal actions divided by number of violations\n",
        "enforcements[\"CWA\"] = water_enforcements_metric\n",
        "display(HTML(\"<h3>\"+water_enforcements_metric +\" formal enforcement actions per violation</h3>\"))"
      ],
      "execution_count": 55,
      "outputs": [
        {
          "output_type": "display_data",
          "data": {
            "text/html": [
              "<h3>0.01 formal enforcement actions per violation</h3>"
            ],
            "text/plain": [
              "<IPython.core.display.HTML object>"
            ]
          },
          "metadata": {
            "tags": []
          }
        }
      ]
    },
    {
      "cell_type": "code",
      "metadata": {
        "colab_type": "code",
        "id": "DCFkWo0N9XHl",
        "colab": {
          "base_uri": "https://localhost:8080/",
          "height": 130
        },
        "outputId": "443bdd0e-59e3-4f3a-a937-65ccbc01fa22"
      },
      "source": [
        "# Penalties each year per violating facility\n",
        "# Find violating facilities (not all in NPDES QNCR are violating...)\n",
        "water_violators = water_violations.loc[water_violations[\"Sum\"]>0]\n",
        "water_violators = len(water_violators.index.unique())\n",
        "water_penalties = water_enforcements.loc[water_enforcements[\"FED_PENALTY_ASSESSED_AMT\"]>0]\n",
        "water_penalties_metric = formatter(sum(water_penalties[\"FED_PENALTY_ASSESSED_AMT\"]) / water_violators) #Divide the sum of penalties by number of penalized facilities\n",
        "water_penalties_max = formatter(max(water_penalties[\"FED_PENALTY_ASSESSED_AMT\"])) \n",
        "water_penalties_min = formatter(min(water_penalties[\"FED_PENALTY_ASSESSED_AMT\"]))\n",
        "penalties[\"CWA\"] = water_penalties_metric\n",
        "display(HTML(\"<h3>$\"+water_penalties_metric +\" per facility in violation</h3>\"))\n",
        "display(HTML(\"<h3>Max: $\"+water_penalties_max +\"</h3>\"))\n",
        "display(HTML(\"<h3>Min: $\"+water_penalties_min +\"</h3>\"))"
      ],
      "execution_count": 63,
      "outputs": [
        {
          "output_type": "display_data",
          "data": {
            "text/html": [
              "<h3>$125.04 per facility in violation</h3>"
            ],
            "text/plain": [
              "<IPython.core.display.HTML object>"
            ]
          },
          "metadata": {
            "tags": []
          }
        },
        {
          "output_type": "display_data",
          "data": {
            "text/html": [
              "<h3>Max: $976707.00</h3>"
            ],
            "text/plain": [
              "<IPython.core.display.HTML object>"
            ]
          },
          "metadata": {
            "tags": []
          }
        },
        {
          "output_type": "display_data",
          "data": {
            "text/html": [
              "<h3>Min: $600.00</h3>"
            ],
            "text/plain": [
              "<IPython.core.display.HTML object>"
            ]
          },
          "metadata": {
            "tags": []
          }
        }
      ]
    },
    {
      "cell_type": "markdown",
      "metadata": {
        "colab_type": "text",
        "id": "kDFULgy2qPSD"
      },
      "source": [
        "## RCRA inspections in 2019"
      ]
    },
    {
      "cell_type": "code",
      "metadata": {
        "colab_type": "code",
        "id": "0Kq8C8oFqRKe",
        "colab": {
          "base_uri": "https://localhost:8080/",
          "height": 844
        },
        "outputId": "be617374-c8b5-4c11-f2c1-6cf4bff58363"
      },
      "source": [
        "# Find facilities with pollutant exceedences\n",
        "waste_inspections = None\n",
        "try:\n",
        "    sql = 'select * from \"RCRA_EVALUATIONS\" where \"EVALUATION_START_DATE\" like \\'__/__/2019\\''\n",
        "\n",
        "    waste_inspections = get_data( sql, \"ID_NUMBER\" ) \n",
        "except EmptyDataError:\n",
        "    print( \"No data found\")\n",
        "waste_inspections"
      ],
      "execution_count": 27,
      "outputs": [
        {
          "output_type": "execute_result",
          "data": {
            "text/html": [
              "<div>\n",
              "<style scoped>\n",
              "    .dataframe tbody tr th:only-of-type {\n",
              "        vertical-align: middle;\n",
              "    }\n",
              "\n",
              "    .dataframe tbody tr th {\n",
              "        vertical-align: top;\n",
              "    }\n",
              "\n",
              "    .dataframe thead th {\n",
              "        text-align: right;\n",
              "    }\n",
              "</style>\n",
              "<table border=\"1\" class=\"dataframe\">\n",
              "  <thead>\n",
              "    <tr style=\"text-align: right;\">\n",
              "      <th></th>\n",
              "      <th>ACTIVITY_LOCATION</th>\n",
              "      <th>EVALUATION_IDENTIFIER</th>\n",
              "      <th>EVALUATION_TYPE</th>\n",
              "      <th>EVALUATION_DESC</th>\n",
              "      <th>EVALUATION_AGENCY</th>\n",
              "      <th>EVALUATION_START_DATE</th>\n",
              "      <th>FOUND_VIOLATION</th>\n",
              "    </tr>\n",
              "    <tr>\n",
              "      <th>ID_NUMBER</th>\n",
              "      <th></th>\n",
              "      <th></th>\n",
              "      <th></th>\n",
              "      <th></th>\n",
              "      <th></th>\n",
              "      <th></th>\n",
              "      <th></th>\n",
              "    </tr>\n",
              "  </thead>\n",
              "  <tbody>\n",
              "    <tr>\n",
              "      <th>NJD003812047</th>\n",
              "      <td>NJ</td>\n",
              "      <td>004</td>\n",
              "      <td>CAV</td>\n",
              "      <td>COMPLIANCE ASSISTANCE VISIT</td>\n",
              "      <td>S</td>\n",
              "      <td>09/24/2019</td>\n",
              "      <td>N</td>\n",
              "    </tr>\n",
              "    <tr>\n",
              "      <th>WID006129225</th>\n",
              "      <td>WI</td>\n",
              "      <td>001</td>\n",
              "      <td>CEI</td>\n",
              "      <td>COMPLIANCE EVALUATION INSPECTION ON-SITE</td>\n",
              "      <td>S</td>\n",
              "      <td>10/07/2019</td>\n",
              "      <td>Y</td>\n",
              "    </tr>\n",
              "    <tr>\n",
              "      <th>KYR000056879</th>\n",
              "      <td>KY</td>\n",
              "      <td>001</td>\n",
              "      <td>NRR</td>\n",
              "      <td>NON-FINANCIAL RECORD REVIEW</td>\n",
              "      <td>S</td>\n",
              "      <td>10/11/2019</td>\n",
              "      <td>N</td>\n",
              "    </tr>\n",
              "    <tr>\n",
              "      <th>KYD006376347</th>\n",
              "      <td>KY</td>\n",
              "      <td>001</td>\n",
              "      <td>CEI</td>\n",
              "      <td>COMPLIANCE EVALUATION INSPECTION ON-SITE</td>\n",
              "      <td>S</td>\n",
              "      <td>09/25/2019</td>\n",
              "      <td>N</td>\n",
              "    </tr>\n",
              "    <tr>\n",
              "      <th>KYD981853005</th>\n",
              "      <td>KY</td>\n",
              "      <td>001</td>\n",
              "      <td>CEI</td>\n",
              "      <td>COMPLIANCE EVALUATION INSPECTION ON-SITE</td>\n",
              "      <td>S</td>\n",
              "      <td>10/11/2019</td>\n",
              "      <td>N</td>\n",
              "    </tr>\n",
              "    <tr>\n",
              "      <th>...</th>\n",
              "      <td>...</td>\n",
              "      <td>...</td>\n",
              "      <td>...</td>\n",
              "      <td>...</td>\n",
              "      <td>...</td>\n",
              "      <td>...</td>\n",
              "      <td>...</td>\n",
              "    </tr>\n",
              "    <tr>\n",
              "      <th>FLD980847214</th>\n",
              "      <td>FL</td>\n",
              "      <td>CEI</td>\n",
              "      <td>CEI</td>\n",
              "      <td>COMPLIANCE EVALUATION INSPECTION ON-SITE</td>\n",
              "      <td>S</td>\n",
              "      <td>08/20/2019</td>\n",
              "      <td>Y</td>\n",
              "    </tr>\n",
              "    <tr>\n",
              "      <th>FLD984171306</th>\n",
              "      <td>FL</td>\n",
              "      <td>CEN</td>\n",
              "      <td>CEI</td>\n",
              "      <td>COMPLIANCE EVALUATION INSPECTION ON-SITE</td>\n",
              "      <td>S</td>\n",
              "      <td>08/22/2019</td>\n",
              "      <td>N</td>\n",
              "    </tr>\n",
              "    <tr>\n",
              "      <th>FLR000231233</th>\n",
              "      <td>FL</td>\n",
              "      <td>CEI</td>\n",
              "      <td>CEI</td>\n",
              "      <td>COMPLIANCE EVALUATION INSPECTION ON-SITE</td>\n",
              "      <td>S</td>\n",
              "      <td>11/20/2019</td>\n",
              "      <td>Y</td>\n",
              "    </tr>\n",
              "    <tr>\n",
              "      <th>MAD030812127</th>\n",
              "      <td>MA</td>\n",
              "      <td>001</td>\n",
              "      <td>SNY</td>\n",
              "      <td>SIGNIFICANT NON-COMPLIER</td>\n",
              "      <td>S</td>\n",
              "      <td>08/16/2019</td>\n",
              "      <td>N</td>\n",
              "    </tr>\n",
              "    <tr>\n",
              "      <th>VAR000535377</th>\n",
              "      <td>VA</td>\n",
              "      <td>001</td>\n",
              "      <td>FUI</td>\n",
              "      <td>FOLLOW-UP INSPECTION</td>\n",
              "      <td>S</td>\n",
              "      <td>08/22/2019</td>\n",
              "      <td>Y</td>\n",
              "    </tr>\n",
              "  </tbody>\n",
              "</table>\n",
              "<p>22602 rows × 7 columns</p>\n",
              "</div>"
            ],
            "text/plain": [
              "             ACTIVITY_LOCATION  ... FOUND_VIOLATION\n",
              "ID_NUMBER                       ...                \n",
              "NJD003812047                NJ  ...             N  \n",
              "WID006129225                WI  ...             Y  \n",
              "KYR000056879                KY  ...             N  \n",
              "KYD006376347                KY  ...             N  \n",
              "KYD981853005                KY  ...             N  \n",
              "...                        ...  ...             ...\n",
              "FLD980847214                FL  ...             Y  \n",
              "FLD984171306                FL  ...             N  \n",
              "FLR000231233                FL  ...             Y  \n",
              "MAD030812127                MA  ...             N  \n",
              "VAR000535377                VA  ...             Y  \n",
              "\n",
              "[22602 rows x 7 columns]"
            ]
          },
          "metadata": {
            "tags": []
          },
          "execution_count": 27
        }
      ]
    },
    {
      "cell_type": "code",
      "metadata": {
        "colab_type": "code",
        "id": "HasmoprP9o0Z",
        "colab": {
          "base_uri": "https://localhost:8080/",
          "height": 57
        },
        "outputId": "652ad458-f208-46c1-df37-dc1e66e36b86"
      },
      "source": [
        "# Number of inspections in 2019 per 1000 regulated facilities\n",
        "waste_inspections_metric = formatter((waste_inspections.shape[0] / waste_fac) * 1000) #Divide by regulated facilities and multiply by desired rate (per 1000)\n",
        "inspections[\"RCRA\"] = waste_inspections_metric\n",
        "display(HTML(\"<h3>\"+waste_inspections_metric+\" inspections per 1000 facilities</h3>\"))"
      ],
      "execution_count": 28,
      "outputs": [
        {
          "output_type": "display_data",
          "data": {
            "text/html": [
              "<h3>37.30 inspections per 1000 facilities</h3>"
            ],
            "text/plain": [
              "<IPython.core.display.HTML object>"
            ]
          },
          "metadata": {
            "tags": []
          }
        }
      ]
    },
    {
      "cell_type": "markdown",
      "metadata": {
        "colab_type": "text",
        "id": "3ycMCo9WqRT_"
      },
      "source": [
        "## Violations of RCRA in 2019"
      ]
    },
    {
      "cell_type": "code",
      "metadata": {
        "colab_type": "code",
        "id": "Jj-LlSbnqS3m",
        "colab": {
          "base_uri": "https://localhost:8080/",
          "height": 725
        },
        "outputId": "f411b095-e30f-446b-f3a7-464bf6d34415"
      },
      "source": [
        "# Find facilities with pollutant exceedences\n",
        "waste_violations = None\n",
        "try:\n",
        "    sql = 'select * from \"RCRA_VIOLATIONS\" where \"DATE_VIOLATION_DETERMINED\" like \\'__/__/2019\\''\n",
        "\n",
        "    waste_violations = get_data( sql, \"ID_NUMBER\" ) \n",
        "except EmptyDataError:\n",
        "    print( \"No data found\")\n",
        "waste_violations"
      ],
      "execution_count": 29,
      "outputs": [
        {
          "output_type": "execute_result",
          "data": {
            "text/html": [
              "<div>\n",
              "<style scoped>\n",
              "    .dataframe tbody tr th:only-of-type {\n",
              "        vertical-align: middle;\n",
              "    }\n",
              "\n",
              "    .dataframe tbody tr th {\n",
              "        vertical-align: top;\n",
              "    }\n",
              "\n",
              "    .dataframe thead th {\n",
              "        text-align: right;\n",
              "    }\n",
              "</style>\n",
              "<table border=\"1\" class=\"dataframe\">\n",
              "  <thead>\n",
              "    <tr style=\"text-align: right;\">\n",
              "      <th></th>\n",
              "      <th>ACTIVITY_LOCATION</th>\n",
              "      <th>VIOLATION_TYPE</th>\n",
              "      <th>VIOLATION_TYPE_DESC</th>\n",
              "      <th>VIOL_DETERMINED_BY_AGENCY</th>\n",
              "      <th>DATE_VIOLATION_DETERMINED</th>\n",
              "      <th>ACTUAL_RTC_DATE</th>\n",
              "      <th>SCHEDULED_COMPLIANCE_DATE</th>\n",
              "    </tr>\n",
              "    <tr>\n",
              "      <th>ID_NUMBER</th>\n",
              "      <th></th>\n",
              "      <th></th>\n",
              "      <th></th>\n",
              "      <th></th>\n",
              "      <th></th>\n",
              "      <th></th>\n",
              "      <th></th>\n",
              "    </tr>\n",
              "  </thead>\n",
              "  <tbody>\n",
              "    <tr>\n",
              "      <th>CAR000191650</th>\n",
              "      <td>CA</td>\n",
              "      <td>262.A</td>\n",
              "      <td>Standards Applicable to Generators of HW: General</td>\n",
              "      <td>E</td>\n",
              "      <td>10/01/2019</td>\n",
              "      <td>12/04/2019</td>\n",
              "      <td>NaN</td>\n",
              "    </tr>\n",
              "    <tr>\n",
              "      <th>DEN201500044</th>\n",
              "      <td>DE</td>\n",
              "      <td>261.A</td>\n",
              "      <td>ID and Listing of HW: General</td>\n",
              "      <td>S</td>\n",
              "      <td>05/22/2019</td>\n",
              "      <td>05/22/2019</td>\n",
              "      <td>NaN</td>\n",
              "    </tr>\n",
              "    <tr>\n",
              "      <th>SCD069316271</th>\n",
              "      <td>SC</td>\n",
              "      <td>273.B</td>\n",
              "      <td>Standards for Universal Waste Management: Stan...</td>\n",
              "      <td>S</td>\n",
              "      <td>12/17/2019</td>\n",
              "      <td>03/03/2020</td>\n",
              "      <td>NaN</td>\n",
              "    </tr>\n",
              "    <tr>\n",
              "      <th>WIR000171884</th>\n",
              "      <td>WI</td>\n",
              "      <td>279.C</td>\n",
              "      <td>Standards for Used Oil: Generators</td>\n",
              "      <td>S</td>\n",
              "      <td>06/19/2019</td>\n",
              "      <td>08/27/2019</td>\n",
              "      <td>08/21/2019</td>\n",
              "    </tr>\n",
              "    <tr>\n",
              "      <th>TNR000005439</th>\n",
              "      <td>TN</td>\n",
              "      <td>XXS</td>\n",
              "      <td>State Statutory or Regulatory requirements tha...</td>\n",
              "      <td>S</td>\n",
              "      <td>11/06/2019</td>\n",
              "      <td>11/06/2019</td>\n",
              "      <td>NaN</td>\n",
              "    </tr>\n",
              "    <tr>\n",
              "      <th>...</th>\n",
              "      <td>...</td>\n",
              "      <td>...</td>\n",
              "      <td>...</td>\n",
              "      <td>...</td>\n",
              "      <td>...</td>\n",
              "      <td>...</td>\n",
              "      <td>...</td>\n",
              "    </tr>\n",
              "    <tr>\n",
              "      <th>TXR000022327</th>\n",
              "      <td>TX</td>\n",
              "      <td>265.C</td>\n",
              "      <td>Interim Status Standards for Owners and Operat...</td>\n",
              "      <td>S</td>\n",
              "      <td>11/20/2019</td>\n",
              "      <td>01/16/2020</td>\n",
              "      <td>NaN</td>\n",
              "    </tr>\n",
              "    <tr>\n",
              "      <th>FLR000222182</th>\n",
              "      <td>FL</td>\n",
              "      <td>262.A</td>\n",
              "      <td>Standards Applicable to Generators of HW: General</td>\n",
              "      <td>S</td>\n",
              "      <td>03/05/2019</td>\n",
              "      <td>05/10/2019</td>\n",
              "      <td>NaN</td>\n",
              "    </tr>\n",
              "    <tr>\n",
              "      <th>NYD065939902</th>\n",
              "      <td>NY</td>\n",
              "      <td>261.A</td>\n",
              "      <td>ID and Listing of HW: General</td>\n",
              "      <td>S</td>\n",
              "      <td>07/09/2019</td>\n",
              "      <td>07/09/2019</td>\n",
              "      <td>NaN</td>\n",
              "    </tr>\n",
              "    <tr>\n",
              "      <th>OHR000137034</th>\n",
              "      <td>OH</td>\n",
              "      <td>279.H</td>\n",
              "      <td>Standards for Used Oil: Fuel Marketers</td>\n",
              "      <td>S</td>\n",
              "      <td>01/15/2019</td>\n",
              "      <td>03/05/2019</td>\n",
              "      <td>NaN</td>\n",
              "    </tr>\n",
              "    <tr>\n",
              "      <th>FLR000200634</th>\n",
              "      <td>FL</td>\n",
              "      <td>XXS</td>\n",
              "      <td>State Statutory or Regulatory requirements tha...</td>\n",
              "      <td>S</td>\n",
              "      <td>04/19/2019</td>\n",
              "      <td>05/29/2019</td>\n",
              "      <td>NaN</td>\n",
              "    </tr>\n",
              "  </tbody>\n",
              "</table>\n",
              "<p>14590 rows × 7 columns</p>\n",
              "</div>"
            ],
            "text/plain": [
              "             ACTIVITY_LOCATION  ... SCHEDULED_COMPLIANCE_DATE\n",
              "ID_NUMBER                       ...                          \n",
              "CAR000191650                CA  ...                       NaN\n",
              "DEN201500044                DE  ...                       NaN\n",
              "SCD069316271                SC  ...                       NaN\n",
              "WIR000171884                WI  ...                08/21/2019\n",
              "TNR000005439                TN  ...                       NaN\n",
              "...                        ...  ...                       ...\n",
              "TXR000022327                TX  ...                       NaN\n",
              "FLR000222182                FL  ...                       NaN\n",
              "NYD065939902                NY  ...                       NaN\n",
              "OHR000137034                OH  ...                       NaN\n",
              "FLR000200634                FL  ...                       NaN\n",
              "\n",
              "[14590 rows x 7 columns]"
            ]
          },
          "metadata": {
            "tags": []
          },
          "execution_count": 29
        }
      ]
    },
    {
      "cell_type": "code",
      "metadata": {
        "colab_type": "code",
        "id": "gALP4P5y-ASz",
        "colab": {
          "base_uri": "https://localhost:8080/",
          "height": 57
        },
        "outputId": "090fdd4f-effd-4390-cbf3-368923ca1b75"
      },
      "source": [
        "# Number of violations in 2019 per 1000 regulated facilities\n",
        "waste_violations_metric = formatter((waste_violations.shape[0] / waste_fac) * 1000) #Divide by regulated facilities and multiply by desired rate (per 1000)\n",
        "violations[\"RCRA\"] = waste_violations_metric\n",
        "display(HTML(\"<h3>\"+waste_violations_metric+\" violations per 1000 facilities</h3>\"))"
      ],
      "execution_count": 30,
      "outputs": [
        {
          "output_type": "display_data",
          "data": {
            "text/html": [
              "<h3>24.08 violations per 1000 facilities</h3>"
            ],
            "text/plain": [
              "<IPython.core.display.HTML object>"
            ]
          },
          "metadata": {
            "tags": []
          }
        }
      ]
    },
    {
      "cell_type": "markdown",
      "metadata": {
        "colab_type": "text",
        "id": "HdGcQI-gqTBi"
      },
      "source": [
        "## Enforcement Actions and Penalties under RCRA in 2019"
      ]
    },
    {
      "cell_type": "code",
      "metadata": {
        "colab_type": "code",
        "id": "M8s_Z0M0qUfT",
        "colab": {
          "base_uri": "https://localhost:8080/",
          "height": 725
        },
        "outputId": "d9debfdd-3485-427e-867a-f1a44e36d0fa"
      },
      "source": [
        "# Find facilities with enforcement actions\n",
        "waste_enforcements = None\n",
        "try:\n",
        "    sql = 'select * from \"RCRA_ENFORCEMENTS\" where \"ENFORCEMENT_ACTION_DATE\" like \\'__/__/2019\\''\n",
        "\n",
        "    waste_enforcements = get_data( sql, \"ID_NUMBER\" ) \n",
        "except EmptyDataError:\n",
        "    print( \"No data found\")\n",
        "waste_enforcements"
      ],
      "execution_count": 31,
      "outputs": [
        {
          "output_type": "execute_result",
          "data": {
            "text/html": [
              "<div>\n",
              "<style scoped>\n",
              "    .dataframe tbody tr th:only-of-type {\n",
              "        vertical-align: middle;\n",
              "    }\n",
              "\n",
              "    .dataframe tbody tr th {\n",
              "        vertical-align: top;\n",
              "    }\n",
              "\n",
              "    .dataframe thead th {\n",
              "        text-align: right;\n",
              "    }\n",
              "</style>\n",
              "<table border=\"1\" class=\"dataframe\">\n",
              "  <thead>\n",
              "    <tr style=\"text-align: right;\">\n",
              "      <th></th>\n",
              "      <th>ACTIVITY_LOCATION</th>\n",
              "      <th>ENFORCEMENT_IDENTIFIER</th>\n",
              "      <th>ENFORCEMENT_TYPE</th>\n",
              "      <th>ENFORCEMENT_DESC</th>\n",
              "      <th>ENFORCEMENT_AGENCY</th>\n",
              "      <th>ENFORCEMENT_ACTION_DATE</th>\n",
              "      <th>PMP_AMOUNT</th>\n",
              "      <th>FMP_AMOUNT</th>\n",
              "      <th>FSC_AMOUNT</th>\n",
              "      <th>SCR_AMOUNT</th>\n",
              "    </tr>\n",
              "    <tr>\n",
              "      <th>ID_NUMBER</th>\n",
              "      <th></th>\n",
              "      <th></th>\n",
              "      <th></th>\n",
              "      <th></th>\n",
              "      <th></th>\n",
              "      <th></th>\n",
              "      <th></th>\n",
              "      <th></th>\n",
              "      <th></th>\n",
              "      <th></th>\n",
              "    </tr>\n",
              "  </thead>\n",
              "  <tbody>\n",
              "    <tr>\n",
              "      <th>AKD991281023</th>\n",
              "      <td>AK</td>\n",
              "      <td>001</td>\n",
              "      <td>HQ120</td>\n",
              "      <td>WRITTEN INFORMAL</td>\n",
              "      <td>E</td>\n",
              "      <td>11/19/2019</td>\n",
              "      <td>NaN</td>\n",
              "      <td>NaN</td>\n",
              "      <td>NaN</td>\n",
              "      <td>NaN</td>\n",
              "    </tr>\n",
              "    <tr>\n",
              "      <th>ALD046481032</th>\n",
              "      <td>AL</td>\n",
              "      <td>001</td>\n",
              "      <td>AL115</td>\n",
              "      <td>WARNING LETTER</td>\n",
              "      <td>S</td>\n",
              "      <td>06/10/2019</td>\n",
              "      <td>NaN</td>\n",
              "      <td>NaN</td>\n",
              "      <td>NaN</td>\n",
              "      <td>NaN</td>\n",
              "    </tr>\n",
              "    <tr>\n",
              "      <th>ALD057202558</th>\n",
              "      <td>AL</td>\n",
              "      <td>001</td>\n",
              "      <td>HQ120</td>\n",
              "      <td>WRITTEN INFORMAL</td>\n",
              "      <td>S</td>\n",
              "      <td>05/30/2019</td>\n",
              "      <td>NaN</td>\n",
              "      <td>NaN</td>\n",
              "      <td>NaN</td>\n",
              "      <td>NaN</td>\n",
              "    </tr>\n",
              "    <tr>\n",
              "      <th>ALD077647691</th>\n",
              "      <td>AL</td>\n",
              "      <td>001</td>\n",
              "      <td>HQ310</td>\n",
              "      <td>FINAL 3008(A) COMPLIANCE ORDER</td>\n",
              "      <td>S</td>\n",
              "      <td>02/21/2019</td>\n",
              "      <td>NaN</td>\n",
              "      <td>NaN</td>\n",
              "      <td>NaN</td>\n",
              "      <td>NaN</td>\n",
              "    </tr>\n",
              "    <tr>\n",
              "      <th>ALD981020894</th>\n",
              "      <td>AL</td>\n",
              "      <td>001</td>\n",
              "      <td>HQ140</td>\n",
              "      <td>LETTER OF INTENT TO INITIATE ENFORCEMENT ACTION</td>\n",
              "      <td>S</td>\n",
              "      <td>03/26/2019</td>\n",
              "      <td>NaN</td>\n",
              "      <td>NaN</td>\n",
              "      <td>NaN</td>\n",
              "      <td>NaN</td>\n",
              "    </tr>\n",
              "    <tr>\n",
              "      <th>...</th>\n",
              "      <td>...</td>\n",
              "      <td>...</td>\n",
              "      <td>...</td>\n",
              "      <td>...</td>\n",
              "      <td>...</td>\n",
              "      <td>...</td>\n",
              "      <td>...</td>\n",
              "      <td>...</td>\n",
              "      <td>...</td>\n",
              "      <td>...</td>\n",
              "    </tr>\n",
              "    <tr>\n",
              "      <th>WVR000547752</th>\n",
              "      <td>WV</td>\n",
              "      <td>001</td>\n",
              "      <td>HQ120</td>\n",
              "      <td>WRITTEN INFORMAL</td>\n",
              "      <td>S</td>\n",
              "      <td>10/30/2019</td>\n",
              "      <td>NaN</td>\n",
              "      <td>NaN</td>\n",
              "      <td>NaN</td>\n",
              "      <td>NaN</td>\n",
              "    </tr>\n",
              "    <tr>\n",
              "      <th>WVR000547760</th>\n",
              "      <td>WV</td>\n",
              "      <td>001</td>\n",
              "      <td>HQ120</td>\n",
              "      <td>WRITTEN INFORMAL</td>\n",
              "      <td>S</td>\n",
              "      <td>11/21/2019</td>\n",
              "      <td>NaN</td>\n",
              "      <td>NaN</td>\n",
              "      <td>NaN</td>\n",
              "      <td>NaN</td>\n",
              "    </tr>\n",
              "    <tr>\n",
              "      <th>WIR000149724</th>\n",
              "      <td>WI</td>\n",
              "      <td>001</td>\n",
              "      <td>WI124</td>\n",
              "      <td>NOTICE OF NONCOMPLIANCE LETTER</td>\n",
              "      <td>S</td>\n",
              "      <td>02/27/2019</td>\n",
              "      <td>NaN</td>\n",
              "      <td>NaN</td>\n",
              "      <td>NaN</td>\n",
              "      <td>NaN</td>\n",
              "    </tr>\n",
              "    <tr>\n",
              "      <th>WIR000160010</th>\n",
              "      <td>WI</td>\n",
              "      <td>001</td>\n",
              "      <td>WI124</td>\n",
              "      <td>NOTICE OF NONCOMPLIANCE LETTER</td>\n",
              "      <td>S</td>\n",
              "      <td>05/01/2019</td>\n",
              "      <td>NaN</td>\n",
              "      <td>NaN</td>\n",
              "      <td>NaN</td>\n",
              "      <td>NaN</td>\n",
              "    </tr>\n",
              "    <tr>\n",
              "      <th>WIR000160150</th>\n",
              "      <td>WI</td>\n",
              "      <td>001</td>\n",
              "      <td>WI124</td>\n",
              "      <td>NOTICE OF NONCOMPLIANCE LETTER</td>\n",
              "      <td>S</td>\n",
              "      <td>02/11/2019</td>\n",
              "      <td>NaN</td>\n",
              "      <td>NaN</td>\n",
              "      <td>NaN</td>\n",
              "      <td>NaN</td>\n",
              "    </tr>\n",
              "  </tbody>\n",
              "</table>\n",
              "<p>6985 rows × 10 columns</p>\n",
              "</div>"
            ],
            "text/plain": [
              "             ACTIVITY_LOCATION ENFORCEMENT_IDENTIFIER  ... FSC_AMOUNT SCR_AMOUNT\n",
              "ID_NUMBER                                              ...                      \n",
              "AKD991281023                AK                    001  ...        NaN        NaN\n",
              "ALD046481032                AL                    001  ...        NaN        NaN\n",
              "ALD057202558                AL                    001  ...        NaN        NaN\n",
              "ALD077647691                AL                    001  ...        NaN        NaN\n",
              "ALD981020894                AL                    001  ...        NaN        NaN\n",
              "...                        ...                    ...  ...        ...        ...\n",
              "WVR000547752                WV                    001  ...        NaN        NaN\n",
              "WVR000547760                WV                    001  ...        NaN        NaN\n",
              "WIR000149724                WI                    001  ...        NaN        NaN\n",
              "WIR000160010                WI                    001  ...        NaN        NaN\n",
              "WIR000160150                WI                    001  ...        NaN        NaN\n",
              "\n",
              "[6985 rows x 10 columns]"
            ]
          },
          "metadata": {
            "tags": []
          },
          "execution_count": 31
        }
      ]
    },
    {
      "cell_type": "code",
      "metadata": {
        "colab_type": "code",
        "id": "Qif-FilM-bns",
        "colab": {
          "base_uri": "https://localhost:8080/",
          "height": 57
        },
        "outputId": "70391b92-9de9-49d2-9ebe-ccc61893bbfd"
      },
      "source": [
        "# Number of enforcement actions each year per violation\n",
        "waste_enforcements_metric = formatter(waste_enforcements.shape[0] / waste_violations.shape[0])\n",
        "enforcements[\"RCRA\"] = waste_enforcements_metric\n",
        "display(HTML(\"<h3>\"+waste_enforcements_metric+\" enforcement actions per violation</h3>\"))"
      ],
      "execution_count": 32,
      "outputs": [
        {
          "output_type": "display_data",
          "data": {
            "text/html": [
              "<h3>0.48 enforcement actions per violation</h3>"
            ],
            "text/plain": [
              "<IPython.core.display.HTML object>"
            ]
          },
          "metadata": {
            "tags": []
          }
        }
      ]
    },
    {
      "cell_type": "code",
      "metadata": {
        "colab_type": "code",
        "id": "MAPXMRZt-r-3",
        "colab": {
          "base_uri": "https://localhost:8080/",
          "height": 130
        },
        "outputId": "68b889fd-9f76-47a5-88d1-123399bf9be2"
      },
      "source": [
        "# Penalties each year per violating facility\n",
        "waste_penalties = waste_enforcements.loc[waste_enforcements[\"FMP_AMOUNT\"]>0]\n",
        "waste_penalties_metric = formatter(sum(waste_penalties[\"FMP_AMOUNT\"]) / len(waste_violations.index.unique())) #Divide by penalized facilities\n",
        "waste_penalties_max = formatter(max(waste_penalties[\"FMP_AMOUNT\"]))\n",
        "waste_penalties_min = formatter(min(waste_penalties[\"FMP_AMOUNT\"]))\n",
        "penalties[\"RCRA\"] = waste_penalties_metric\n",
        "display(HTML(\"<h3>$\"+waste_penalties_metric +\" per facility in violation</h3>\"))\n",
        "display(HTML(\"<h3>Max: $\"+waste_penalties_max +\"</h3>\"))\n",
        "display(HTML(\"<h3>Min: $\"+waste_penalties_min +\"</h3>\"))"
      ],
      "execution_count": 33,
      "outputs": [
        {
          "output_type": "display_data",
          "data": {
            "text/html": [
              "<h3>$3166.88 per facility in violation</h3>"
            ],
            "text/plain": [
              "<IPython.core.display.HTML object>"
            ]
          },
          "metadata": {
            "tags": []
          }
        },
        {
          "output_type": "display_data",
          "data": {
            "text/html": [
              "<h3>Max: $2295000.00</h3>"
            ],
            "text/plain": [
              "<IPython.core.display.HTML object>"
            ]
          },
          "metadata": {
            "tags": []
          }
        },
        {
          "output_type": "display_data",
          "data": {
            "text/html": [
              "<h3>Min: $250.00</h3>"
            ],
            "text/plain": [
              "<IPython.core.display.HTML object>"
            ]
          },
          "metadata": {
            "tags": []
          }
        }
      ]
    },
    {
      "cell_type": "markdown",
      "metadata": {
        "colab_type": "text",
        "id": "YQY2458NqUp9"
      },
      "source": [
        "## Greenhouse Gas Emissions in 2018 (latest data available)"
      ]
    },
    {
      "cell_type": "code",
      "metadata": {
        "colab_type": "code",
        "id": "DN8EVg29qW1k",
        "colab": {
          "base_uri": "https://localhost:8080/",
          "height": 439
        },
        "outputId": "392b489f-7fac-4c16-eb40-c92db6b86304"
      },
      "source": [
        "# Find GHG emissions\n",
        "ghg_emissions = None\n",
        "try:\n",
        "    sql = 'select * from \"POLL_RPT_COMBINED_EMISSIONS\" where \"REPORTING_YEAR\" = \\'2018\\' and \"PGM_SYS_ACRNM\" = \\'E-GGRT\\''\n",
        "\n",
        "    ghg_emissions = get_data( sql) \n",
        "except EmptyDataError:\n",
        "    print( \"No data found\")\n",
        "ghg_emissions"
      ],
      "execution_count": 64,
      "outputs": [
        {
          "output_type": "execute_result",
          "data": {
            "text/html": [
              "<div>\n",
              "<style scoped>\n",
              "    .dataframe tbody tr th:only-of-type {\n",
              "        vertical-align: middle;\n",
              "    }\n",
              "\n",
              "    .dataframe tbody tr th {\n",
              "        vertical-align: top;\n",
              "    }\n",
              "\n",
              "    .dataframe thead th {\n",
              "        text-align: right;\n",
              "    }\n",
              "</style>\n",
              "<table border=\"1\" class=\"dataframe\">\n",
              "  <thead>\n",
              "    <tr style=\"text-align: right;\">\n",
              "      <th></th>\n",
              "      <th>REPORTING_YEAR</th>\n",
              "      <th>REGISTRY_ID</th>\n",
              "      <th>PGM_SYS_ACRNM</th>\n",
              "      <th>PGM_SYS_ID</th>\n",
              "      <th>POLLUTANT_NAME</th>\n",
              "      <th>ANNUAL_EMISSION</th>\n",
              "      <th>UNIT_OF_MEASURE</th>\n",
              "      <th>NEI_TYPE</th>\n",
              "      <th>NEI_HAP_VOC_FLAG</th>\n",
              "    </tr>\n",
              "  </thead>\n",
              "  <tbody>\n",
              "    <tr>\n",
              "      <th>0</th>\n",
              "      <td>2018</td>\n",
              "      <td>110013317035</td>\n",
              "      <td>E-GGRT</td>\n",
              "      <td>1006363</td>\n",
              "      <td>Nitrous oxide</td>\n",
              "      <td>5.364</td>\n",
              "      <td>MTCO2e</td>\n",
              "      <td>NaN</td>\n",
              "      <td>NaN</td>\n",
              "    </tr>\n",
              "    <tr>\n",
              "      <th>1</th>\n",
              "      <td>2018</td>\n",
              "      <td>110000492020</td>\n",
              "      <td>E-GGRT</td>\n",
              "      <td>1003261</td>\n",
              "      <td>Methane</td>\n",
              "      <td>48.750</td>\n",
              "      <td>MTCO2e</td>\n",
              "      <td>NaN</td>\n",
              "      <td>NaN</td>\n",
              "    </tr>\n",
              "    <tr>\n",
              "      <th>2</th>\n",
              "      <td>2018</td>\n",
              "      <td>110000492020</td>\n",
              "      <td>E-GGRT</td>\n",
              "      <td>1003261</td>\n",
              "      <td>Carbon dioxide</td>\n",
              "      <td>101570.300</td>\n",
              "      <td>MTCO2e</td>\n",
              "      <td>NaN</td>\n",
              "      <td>NaN</td>\n",
              "    </tr>\n",
              "    <tr>\n",
              "      <th>3</th>\n",
              "      <td>2018</td>\n",
              "      <td>110000492020</td>\n",
              "      <td>E-GGRT</td>\n",
              "      <td>1003261</td>\n",
              "      <td>Nitrous oxide</td>\n",
              "      <td>60.196</td>\n",
              "      <td>MTCO2e</td>\n",
              "      <td>NaN</td>\n",
              "      <td>NaN</td>\n",
              "    </tr>\n",
              "    <tr>\n",
              "      <th>4</th>\n",
              "      <td>2018</td>\n",
              "      <td>110024586544</td>\n",
              "      <td>E-GGRT</td>\n",
              "      <td>1005340</td>\n",
              "      <td>Nitrous oxide</td>\n",
              "      <td>28.310</td>\n",
              "      <td>MTCO2e</td>\n",
              "      <td>NaN</td>\n",
              "      <td>NaN</td>\n",
              "    </tr>\n",
              "    <tr>\n",
              "      <th>...</th>\n",
              "      <td>...</td>\n",
              "      <td>...</td>\n",
              "      <td>...</td>\n",
              "      <td>...</td>\n",
              "      <td>...</td>\n",
              "      <td>...</td>\n",
              "      <td>...</td>\n",
              "      <td>...</td>\n",
              "      <td>...</td>\n",
              "    </tr>\n",
              "    <tr>\n",
              "      <th>21678</th>\n",
              "      <td>2018</td>\n",
              "      <td>110000597328</td>\n",
              "      <td>E-GGRT</td>\n",
              "      <td>1001666</td>\n",
              "      <td>Carbon dioxide</td>\n",
              "      <td>84108.700</td>\n",
              "      <td>MTCO2e</td>\n",
              "      <td>NaN</td>\n",
              "      <td>NaN</td>\n",
              "    </tr>\n",
              "    <tr>\n",
              "      <th>21679</th>\n",
              "      <td>2018</td>\n",
              "      <td>110000326530</td>\n",
              "      <td>E-GGRT</td>\n",
              "      <td>1001265</td>\n",
              "      <td>Nitrous oxide</td>\n",
              "      <td>121.286</td>\n",
              "      <td>MTCO2e</td>\n",
              "      <td>NaN</td>\n",
              "      <td>NaN</td>\n",
              "    </tr>\n",
              "    <tr>\n",
              "      <th>21680</th>\n",
              "      <td>2018</td>\n",
              "      <td>110000326530</td>\n",
              "      <td>E-GGRT</td>\n",
              "      <td>1001265</td>\n",
              "      <td>Methane</td>\n",
              "      <td>101.750</td>\n",
              "      <td>MTCO2e</td>\n",
              "      <td>NaN</td>\n",
              "      <td>NaN</td>\n",
              "    </tr>\n",
              "    <tr>\n",
              "      <th>21681</th>\n",
              "      <td>2018</td>\n",
              "      <td>110000326530</td>\n",
              "      <td>E-GGRT</td>\n",
              "      <td>1001265</td>\n",
              "      <td>Carbon dioxide</td>\n",
              "      <td>224350.300</td>\n",
              "      <td>MTCO2e</td>\n",
              "      <td>NaN</td>\n",
              "      <td>NaN</td>\n",
              "    </tr>\n",
              "    <tr>\n",
              "      <th>21682</th>\n",
              "      <td>2018</td>\n",
              "      <td>110000452705</td>\n",
              "      <td>E-GGRT</td>\n",
              "      <td>1001059</td>\n",
              "      <td>Methane</td>\n",
              "      <td>27755.750</td>\n",
              "      <td>MTCO2e</td>\n",
              "      <td>NaN</td>\n",
              "      <td>NaN</td>\n",
              "    </tr>\n",
              "  </tbody>\n",
              "</table>\n",
              "<p>21683 rows × 9 columns</p>\n",
              "</div>"
            ],
            "text/plain": [
              "       REPORTING_YEAR   REGISTRY_ID  ... NEI_TYPE  NEI_HAP_VOC_FLAG\n",
              "0                2018  110013317035  ...      NaN               NaN\n",
              "1                2018  110000492020  ...      NaN               NaN\n",
              "2                2018  110000492020  ...      NaN               NaN\n",
              "3                2018  110000492020  ...      NaN               NaN\n",
              "4                2018  110024586544  ...      NaN               NaN\n",
              "...               ...           ...  ...      ...               ...\n",
              "21678            2018  110000597328  ...      NaN               NaN\n",
              "21679            2018  110000326530  ...      NaN               NaN\n",
              "21680            2018  110000326530  ...      NaN               NaN\n",
              "21681            2018  110000326530  ...      NaN               NaN\n",
              "21682            2018  110000452705  ...      NaN               NaN\n",
              "\n",
              "[21683 rows x 9 columns]"
            ]
          },
          "metadata": {
            "tags": []
          },
          "execution_count": 64
        }
      ]
    },
    {
      "cell_type": "code",
      "metadata": {
        "colab_type": "code",
        "id": "WYm9skUM_OV7",
        "colab": {
          "base_uri": "https://localhost:8080/",
          "height": 563
        },
        "outputId": "0110d72b-9463-4d05-f136-77a45e847d3a"
      },
      "source": [
        "# Emissions in 2018 per facility\n",
        "ghg_emissions_metric = formatter(np.nansum(ghg_emissions[\"ANNUAL_EMISSION\"]) / len(ghg_emissions[\"REGISTRY_ID\"].unique())) #Divide by reporting facility\n",
        "ghg_emissions_fac = ghg_emissions.groupby(\"PGM_SYS_ID\")[[\"ANNUAL_EMISSION\"]].sum() # Group by facility\n",
        "ghg_emissions_max = formatter(np.nanmax(ghg_emissions_fac[\"ANNUAL_EMISSION\"]))\n",
        "ghg_emissions_min = formatter(np.nanmin(ghg_emissions_fac.loc[ghg_emissions_fac[\"ANNUAL_EMISSION\"]>0][\"ANNUAL_EMISSION\"]))\n",
        "emissions[\"GHG\"] = ghg_emissions_metric\n",
        "display(HTML(\"<h3>\"+ghg_emissions_metric+\" MTCO2e (metric tons of carbon dioxide equivalent) emissions per reporting facility</h3>\"))\n",
        "display(HTML(\"<h3>Max: \"+ghg_emissions_max+\" MTCO2e (metric tons of carbon dioxide equivalent) emissions</h3>\"))\n",
        "display(HTML(\"<h3>Min: \"+ghg_emissions_min+\" MTCO2e (metric tons of carbon dioxide equivalent) emissions</h3>\"))\n",
        "ghg_emissions_fac"
      ],
      "execution_count": 65,
      "outputs": [
        {
          "output_type": "display_data",
          "data": {
            "text/html": [
              "<h3>422134.34 MTCO2e (metric tons of carbon dioxide equivalent) emissions per reporting facility</h3>"
            ],
            "text/plain": [
              "<IPython.core.display.HTML object>"
            ]
          },
          "metadata": {
            "tags": []
          }
        },
        {
          "output_type": "display_data",
          "data": {
            "text/html": [
              "<h3>Max: 18429639.23 MTCO2e (metric tons of carbon dioxide equivalent) emissions</h3>"
            ],
            "text/plain": [
              "<IPython.core.display.HTML object>"
            ]
          },
          "metadata": {
            "tags": []
          }
        },
        {
          "output_type": "display_data",
          "data": {
            "text/html": [
              "<h3>Min: 0.60 MTCO2e (metric tons of carbon dioxide equivalent) emissions</h3>"
            ],
            "text/plain": [
              "<IPython.core.display.HTML object>"
            ]
          },
          "metadata": {
            "tags": []
          }
        },
        {
          "output_type": "execute_result",
          "data": {
            "text/html": [
              "<div>\n",
              "<style scoped>\n",
              "    .dataframe tbody tr th:only-of-type {\n",
              "        vertical-align: middle;\n",
              "    }\n",
              "\n",
              "    .dataframe tbody tr th {\n",
              "        vertical-align: top;\n",
              "    }\n",
              "\n",
              "    .dataframe thead th {\n",
              "        text-align: right;\n",
              "    }\n",
              "</style>\n",
              "<table border=\"1\" class=\"dataframe\">\n",
              "  <thead>\n",
              "    <tr style=\"text-align: right;\">\n",
              "      <th></th>\n",
              "      <th>ANNUAL_EMISSION</th>\n",
              "    </tr>\n",
              "    <tr>\n",
              "      <th>PGM_SYS_ID</th>\n",
              "      <th></th>\n",
              "    </tr>\n",
              "  </thead>\n",
              "  <tbody>\n",
              "    <tr>\n",
              "      <th>1000001</th>\n",
              "      <td>302529.480</td>\n",
              "    </tr>\n",
              "    <tr>\n",
              "      <th>1000002</th>\n",
              "      <td>110511.712</td>\n",
              "    </tr>\n",
              "    <tr>\n",
              "      <th>1000003</th>\n",
              "      <td>79393.210</td>\n",
              "    </tr>\n",
              "    <tr>\n",
              "      <th>1000004</th>\n",
              "      <td>55547.748</td>\n",
              "    </tr>\n",
              "    <tr>\n",
              "      <th>1000005</th>\n",
              "      <td>83863.020</td>\n",
              "    </tr>\n",
              "    <tr>\n",
              "      <th>...</th>\n",
              "      <td>...</td>\n",
              "    </tr>\n",
              "    <tr>\n",
              "      <th>1013419</th>\n",
              "      <td>28467.792</td>\n",
              "    </tr>\n",
              "    <tr>\n",
              "      <th>1013420</th>\n",
              "      <td>28356.444</td>\n",
              "    </tr>\n",
              "    <tr>\n",
              "      <th>1013481</th>\n",
              "      <td>29375.000</td>\n",
              "    </tr>\n",
              "    <tr>\n",
              "      <th>1013489</th>\n",
              "      <td>26073.752</td>\n",
              "    </tr>\n",
              "    <tr>\n",
              "      <th>1013497</th>\n",
              "      <td>53000.500</td>\n",
              "    </tr>\n",
              "  </tbody>\n",
              "</table>\n",
              "<p>7724 rows × 1 columns</p>\n",
              "</div>"
            ],
            "text/plain": [
              "            ANNUAL_EMISSION\n",
              "PGM_SYS_ID                 \n",
              "1000001          302529.480\n",
              "1000002          110511.712\n",
              "1000003           79393.210\n",
              "1000004           55547.748\n",
              "1000005           83863.020\n",
              "...                     ...\n",
              "1013419           28467.792\n",
              "1013420           28356.444\n",
              "1013481           29375.000\n",
              "1013489           26073.752\n",
              "1013497           53000.500\n",
              "\n",
              "[7724 rows x 1 columns]"
            ]
          },
          "metadata": {
            "tags": []
          },
          "execution_count": 65
        }
      ]
    },
    {
      "cell_type": "markdown",
      "metadata": {
        "colab_type": "text",
        "id": "2ybjI0eGllRg"
      },
      "source": [
        "# Data Export"
      ]
    },
    {
      "cell_type": "code",
      "metadata": {
        "colab_type": "code",
        "id": "EGHkxhYzlrKp",
        "colab": {
          "base_uri": "https://localhost:8080/",
          "height": 323
        },
        "outputId": "f37c1bbe-b9e5-4bb3-98d7-abb9e4da9137"
      },
      "source": [
        "data = [inspections,\n",
        "violations,\n",
        "enforcements,\n",
        "penalties,\n",
        "emissions]\n",
        "\n",
        "units = [\"#inspections per 1000\",\n",
        "\"#violations per 1000\",\n",
        "\"#actions per facility in violation\",\n",
        "\"$ per facility in violation\",\n",
        "\"amount of emissions (metric tons)\"]\n",
        "\n",
        "short_units = [\"inspectionsper1000\",\n",
        "\"violationsper1000\",\n",
        "\"enforcementsperviolatingfacility\",\n",
        "\"penaltiesperviolatingfacility\",\n",
        "\"emissions2018\"]\n",
        "\n",
        "for index, program in enumerate(data):\n",
        "    # create dataframe\n",
        "    df = pd.DataFrame(program, index=[0]).T\n",
        "    df = df.rename(columns={0: units[index]})\n",
        "    filename= short_units[index]+\"_All_USA_pg4_090120.csv\" #active-facilities_All_MA-CD4_3b_080620.csv\n",
        "    df.to_csv(filename)\n",
        "    print(df)"
      ],
      "execution_count": 73,
      "outputs": [
        {
          "output_type": "stream",
          "text": [
            "     #inspections per 1000\n",
            "CAA                 261.36\n",
            "CWA                 148.16\n",
            "RCRA                 37.30\n",
            "     #violations per 1000\n",
            "CAA                 21.57\n",
            "RCRA                24.08\n",
            "CWA               1108.10\n",
            "     #actions per facility in violation\n",
            "CAA                                0.66\n",
            "RCRA                               0.48\n",
            "CWA                                0.01\n",
            "     $ per facility in violation\n",
            "CAA                     23062.80\n",
            "RCRA                     3166.88\n",
            "CWA                       125.04\n",
            "    amount of emissions (metric tons)\n",
            "GHG                         422134.34\n"
          ],
          "name": "stdout"
        }
      ]
    },
    {
      "cell_type": "code",
      "metadata": {
        "colab_type": "code",
        "id": "ZPm-PEDiJyMH",
        "colab": {}
      },
      "source": [
        ""
      ],
      "execution_count": null,
      "outputs": []
    }
  ]
}