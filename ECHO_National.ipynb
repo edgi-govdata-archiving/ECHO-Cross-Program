{
  "nbformat": 4,
  "nbformat_minor": 0,
  "metadata": {
    "colab": {
      "name": "ECHO-National-0818120.ipynb",
      "provenance": [],
      "collapsed_sections": [],
      "toc_visible": true
    },
    "kernelspec": {
      "display_name": "Python 3",
      "language": "python",
      "name": "python3"
    },
    "language_info": {
      "codemirror_mode": {
        "name": "ipython",
        "version": 3
      },
      "file_extension": ".py",
      "mimetype": "text/x-python",
      "name": "python",
      "nbconvert_exporter": "python",
      "pygments_lexer": "ipython3",
      "version": "3.7.6"
    }
  },
  "cells": [
    {
      "cell_type": "markdown",
      "metadata": {
        "colab_type": "text",
        "id": "Ylalhm0wbt2p"
      },
      "source": [
        "| ![EEW logo](https://github.com/edgi-govdata-archiving/EEW-Image-Assets/blob/master/Jupyter%20instructions/eew.jpg?raw=true) | ![EDGI logo](https://github.com/edgi-govdata-archiving/EEW-Image-Assets/blob/master/Jupyter%20instructions/edgi.png?raw=true) |\n",
        "|---|---|\n",
        "\n",
        "#### This notebook is licensed under GPL 3.0. Please visit our Github repo for more information: \n",
        "#### The notebook was collaboratively authored by the Environmental Data & Governance Initiative (EDGI) following our authorship protocol: https://docs.google.com/document/d/1CtDN5ZZ4Zv70fHiBTmWkDJ9mswEipX6eCYrwicP66Xw/\n",
        "#### For more information about this project, visit https://www.environmentalenforcementwatch.org/"
      ]
    },
    {
      "cell_type": "markdown",
      "metadata": {
        "colab_type": "text",
        "id": "xwpXPiNLbt2x"
      },
      "source": [
        "## How to Run this Notebook\n",
        "* If you click on a gray **code** cell, a little “play button” arrow appears on the left. If you click the play button, it will run the code in that cell (“**running** a cell”). The button will animate. When the animation stops, the cell has finished running.\n",
        "![Where to click to run the cell](https://github.com/edgi-govdata-archiving/EEW-Image-Assets/blob/master/Jupyter%20instructions/pressplay.JPG?raw=true)\n",
        "* You may get a warning that the notebook was not authored by Google. We know, we authored them! It’s okay. Click “Run Anyway” to continue. \n",
        "![Error Message](https://github.com/edgi-govdata-archiving/EEW-Image-Assets/blob/master/Jupyter%20instructions/warning-message.JPG?raw=true)\n",
        "* Run all of the cells in a Notebook to make a complete report. Please feel free to look at and **learn about each result as you create it**!\n",
        "\n",
        "---"
      ]
    },
    {
      "cell_type": "markdown",
      "metadata": {
        "id": "vU4AqThS-37L",
        "colab_type": "text"
      },
      "source": [
        "# Nationwide statistics about environmental compliance trends"
      ]
    },
    {
      "cell_type": "markdown",
      "metadata": {
        "colab_type": "text",
        "id": "czia5t5ebt20"
      },
      "source": [
        "## Setup\n",
        "Here we load some helper code to get us going."
      ]
    },
    {
      "cell_type": "code",
      "metadata": {
        "colab_type": "code",
        "id": "vF3iTaeCbt23",
        "colab": {}
      },
      "source": [
        "# Import code libraries\n",
        "!git clone https://github.com/edgi-govdata-archiving/ECHO_modules.git &>/dev/null;\n",
        "%run ECHO_modules/DataSet.py\n",
        "\n",
        "import urllib.parse\n",
        "import pandas as pd\n",
        "import numpy as np\n",
        "import matplotlib.pyplot as plt\n",
        "%matplotlib inline\n",
        "import requests\n",
        "import csv\n",
        "import datetime\n",
        "import folium\n",
        "from folium.plugins import FastMarkerCluster\n",
        "import ipywidgets as widgets\n",
        "from IPython.core.display import display, HTML\n",
        "from pandas.errors import EmptyDataError\n",
        "def formatter(value):\n",
        "  return \"{:0.2f}\".format(value)"
      ],
      "execution_count": null,
      "outputs": []
    },
    {
      "cell_type": "markdown",
      "metadata": {
        "id": "F7ZY4G6kVwLj",
        "colab_type": "text"
      },
      "source": [
        "Here we set up some code to help us store and eventually export the metrics."
      ]
    },
    {
      "cell_type": "code",
      "metadata": {
        "id": "aDnEBqa9Vvuc",
        "colab_type": "code",
        "colab": {}
      },
      "source": [
        "inspections = dict()\n",
        "violations = dict()\n",
        "enforcements = dict()\n",
        "penalties = dict()\n",
        "emissions = dict()"
      ],
      "execution_count": null,
      "outputs": []
    },
    {
      "cell_type": "markdown",
      "metadata": {
        "colab_type": "text",
        "id": "su7_wvKWbt3Z"
      },
      "source": [
        "## Start getting data\n",
        "First, get summary data from the ECHO_EXPORTER table."
      ]
    },
    {
      "cell_type": "code",
      "metadata": {
        "colab_type": "code",
        "id": "cBkHsLPtbt3c",
        "colab": {
          "base_uri": "https://localhost:8080/",
          "height": 606
        },
        "outputId": "73a9f1d6-2c91-476b-a30e-45adc8b3bc25"
      },
      "source": [
        "# Get everything we will need from ECHO_EXPORTER in a single DB query.\n",
        "# We can then use the full dataframe to specialize views of it.\n",
        "full_echo_data = None\n",
        "column_mapping = {\n",
        "    '\"REGISTRY_ID\"': str,\n",
        "    '\"FAC_NAME\"': str,\n",
        "    '\"FAC_LAT\"': float,\n",
        "    '\"FAC_LONG\"': float,\n",
        "    '\"AIR_IDS\"': str,\n",
        "    '\"NPDES_IDS\"': str,\n",
        "    '\"RCRA_IDS\"': str,\n",
        "    '\"DFR_URL\"': str,\n",
        "    '\"AIR_FLAG\"': str,\n",
        "    '\"NPDES_FLAG\"': str,\n",
        "    '\"GHG_FLAG\"': str,\n",
        "    '\"RCRA_FLAG\"': str,\n",
        "    '\"FAC_ACTIVE_FLAG\"': str\n",
        "}\n",
        "column_names = list( column_mapping.keys() )\n",
        "columns_string = ','.join( column_names )\n",
        "sql = 'select ' + columns_string + ' from \"ECHO_EXPORTER\" where \"AIR_FLAG\" = \\'Y\\' or \"NPDES_FLAG\" = \\'Y\\' or \"GHG_FLAG\" = \\'Y\\' or \"RCRA_FLAG\" = \\'Y\\''\n",
        "try:\n",
        "    # Don't index.\n",
        "    full_echo_data = get_data( sql )\n",
        "except EmptyDataError:\n",
        "    print(\"\\nThere are no EPA facilities for this query.\\n\")\n",
        "full_echo_data"
      ],
      "execution_count": null,
      "outputs": [
        {
          "output_type": "execute_result",
          "data": {
            "text/html": [
              "<div>\n",
              "<style scoped>\n",
              "    .dataframe tbody tr th:only-of-type {\n",
              "        vertical-align: middle;\n",
              "    }\n",
              "\n",
              "    .dataframe tbody tr th {\n",
              "        vertical-align: top;\n",
              "    }\n",
              "\n",
              "    .dataframe thead th {\n",
              "        text-align: right;\n",
              "    }\n",
              "</style>\n",
              "<table border=\"1\" class=\"dataframe\">\n",
              "  <thead>\n",
              "    <tr style=\"text-align: right;\">\n",
              "      <th></th>\n",
              "      <th>REGISTRY_ID</th>\n",
              "      <th>FAC_NAME</th>\n",
              "      <th>FAC_LAT</th>\n",
              "      <th>FAC_LONG</th>\n",
              "      <th>AIR_IDS</th>\n",
              "      <th>NPDES_IDS</th>\n",
              "      <th>RCRA_IDS</th>\n",
              "      <th>DFR_URL</th>\n",
              "      <th>AIR_FLAG</th>\n",
              "      <th>NPDES_FLAG</th>\n",
              "      <th>GHG_FLAG</th>\n",
              "      <th>RCRA_FLAG</th>\n",
              "      <th>FAC_ACTIVE_FLAG</th>\n",
              "    </tr>\n",
              "  </thead>\n",
              "  <tbody>\n",
              "    <tr>\n",
              "      <th>0</th>\n",
              "      <td>1.100042e+11</td>\n",
              "      <td>INSTRUMENTAL ENGINEERING</td>\n",
              "      <td>41.023599</td>\n",
              "      <td>-74.202748</td>\n",
              "      <td>NaN</td>\n",
              "      <td>NaN</td>\n",
              "      <td>NJD089751200</td>\n",
              "      <td>http://echo.epa.gov/detailed-facility-report?f...</td>\n",
              "      <td>N</td>\n",
              "      <td>N</td>\n",
              "      <td>N</td>\n",
              "      <td>Y</td>\n",
              "      <td>NaN</td>\n",
              "    </tr>\n",
              "    <tr>\n",
              "      <th>1</th>\n",
              "      <td>1.100006e+11</td>\n",
              "      <td>GREAT WESTERN CHEMICAL COMPANY PASCO</td>\n",
              "      <td>46.283833</td>\n",
              "      <td>-119.100216</td>\n",
              "      <td>NaN</td>\n",
              "      <td>NaN</td>\n",
              "      <td>WAH000002253</td>\n",
              "      <td>http://echo.epa.gov/detailed-facility-report?f...</td>\n",
              "      <td>N</td>\n",
              "      <td>N</td>\n",
              "      <td>N</td>\n",
              "      <td>Y</td>\n",
              "      <td>NaN</td>\n",
              "    </tr>\n",
              "    <tr>\n",
              "      <th>2</th>\n",
              "      <td>1.100706e+11</td>\n",
              "      <td>PALM PLAZA</td>\n",
              "      <td>28.818830</td>\n",
              "      <td>-81.887510</td>\n",
              "      <td>NaN</td>\n",
              "      <td>FLR10SZ00</td>\n",
              "      <td>NaN</td>\n",
              "      <td>http://echo.epa.gov/detailed-facility-report?f...</td>\n",
              "      <td>N</td>\n",
              "      <td>Y</td>\n",
              "      <td>N</td>\n",
              "      <td>N</td>\n",
              "      <td>Y</td>\n",
              "    </tr>\n",
              "    <tr>\n",
              "      <th>3</th>\n",
              "      <td>1.100202e+11</td>\n",
              "      <td>WILDLIFE RECREATION POND 1</td>\n",
              "      <td>32.247591</td>\n",
              "      <td>-87.791091</td>\n",
              "      <td>NaN</td>\n",
              "      <td>ALR165713</td>\n",
              "      <td>NaN</td>\n",
              "      <td>http://echo.epa.gov/detailed-facility-report?f...</td>\n",
              "      <td>N</td>\n",
              "      <td>Y</td>\n",
              "      <td>N</td>\n",
              "      <td>N</td>\n",
              "      <td>NaN</td>\n",
              "    </tr>\n",
              "    <tr>\n",
              "      <th>4</th>\n",
              "      <td>1.100557e+11</td>\n",
              "      <td>A-1 AUTO REPAIR</td>\n",
              "      <td>37.951040</td>\n",
              "      <td>-121.999450</td>\n",
              "      <td>NaN</td>\n",
              "      <td>NaN</td>\n",
              "      <td>CAL000253375</td>\n",
              "      <td>http://echo.epa.gov/detailed-facility-report?f...</td>\n",
              "      <td>N</td>\n",
              "      <td>N</td>\n",
              "      <td>N</td>\n",
              "      <td>Y</td>\n",
              "      <td>Y</td>\n",
              "    </tr>\n",
              "    <tr>\n",
              "      <th>...</th>\n",
              "      <td>...</td>\n",
              "      <td>...</td>\n",
              "      <td>...</td>\n",
              "      <td>...</td>\n",
              "      <td>...</td>\n",
              "      <td>...</td>\n",
              "      <td>...</td>\n",
              "      <td>...</td>\n",
              "      <td>...</td>\n",
              "      <td>...</td>\n",
              "      <td>...</td>\n",
              "      <td>...</td>\n",
              "      <td>...</td>\n",
              "    </tr>\n",
              "    <tr>\n",
              "      <th>1860451</th>\n",
              "      <td>1.100707e+11</td>\n",
              "      <td>MONTAGE HEALTH</td>\n",
              "      <td>36.583162</td>\n",
              "      <td>-121.857242</td>\n",
              "      <td>NaN</td>\n",
              "      <td>NaN</td>\n",
              "      <td>CAC003029875</td>\n",
              "      <td>http://echo.epa.gov/detailed-facility-report?f...</td>\n",
              "      <td>N</td>\n",
              "      <td>N</td>\n",
              "      <td>N</td>\n",
              "      <td>Y</td>\n",
              "      <td>NaN</td>\n",
              "    </tr>\n",
              "    <tr>\n",
              "      <th>1860452</th>\n",
              "      <td>1.100700e+11</td>\n",
              "      <td>WYNN RESORT</td>\n",
              "      <td>42.395000</td>\n",
              "      <td>-71.066800</td>\n",
              "      <td>NaN</td>\n",
              "      <td>MAR053953</td>\n",
              "      <td>NaN</td>\n",
              "      <td>http://echo.epa.gov/detailed-facility-report?f...</td>\n",
              "      <td>N</td>\n",
              "      <td>Y</td>\n",
              "      <td>N</td>\n",
              "      <td>N</td>\n",
              "      <td>NaN</td>\n",
              "    </tr>\n",
              "    <tr>\n",
              "      <th>1860453</th>\n",
              "      <td>1.100073e+11</td>\n",
              "      <td>WALLER, R P OIL BP</td>\n",
              "      <td>37.836731</td>\n",
              "      <td>-76.279640</td>\n",
              "      <td>VA0000005113300013</td>\n",
              "      <td>NaN</td>\n",
              "      <td>NaN</td>\n",
              "      <td>http://echo.epa.gov/detailed-facility-report?f...</td>\n",
              "      <td>Y</td>\n",
              "      <td>N</td>\n",
              "      <td>N</td>\n",
              "      <td>N</td>\n",
              "      <td>Y</td>\n",
              "    </tr>\n",
              "    <tr>\n",
              "      <th>1860454</th>\n",
              "      <td>1.100330e+11</td>\n",
              "      <td>BATAVIA HAULING COMPANY</td>\n",
              "      <td>41.846386</td>\n",
              "      <td>-88.295523</td>\n",
              "      <td>NaN</td>\n",
              "      <td>ILR10J237</td>\n",
              "      <td>NaN</td>\n",
              "      <td>http://echo.epa.gov/detailed-facility-report?f...</td>\n",
              "      <td>N</td>\n",
              "      <td>Y</td>\n",
              "      <td>N</td>\n",
              "      <td>N</td>\n",
              "      <td>NaN</td>\n",
              "    </tr>\n",
              "    <tr>\n",
              "      <th>1860455</th>\n",
              "      <td>1.100706e+11</td>\n",
              "      <td>JS CONSTRUCTION</td>\n",
              "      <td>34.222851</td>\n",
              "      <td>-118.621322</td>\n",
              "      <td>NaN</td>\n",
              "      <td>NaN</td>\n",
              "      <td>CAC003020800</td>\n",
              "      <td>http://echo.epa.gov/detailed-facility-report?f...</td>\n",
              "      <td>N</td>\n",
              "      <td>N</td>\n",
              "      <td>N</td>\n",
              "      <td>Y</td>\n",
              "      <td>Y</td>\n",
              "    </tr>\n",
              "  </tbody>\n",
              "</table>\n",
              "<p>1860456 rows × 13 columns</p>\n",
              "</div>"
            ],
            "text/plain": [
              "          REGISTRY_ID  ... FAC_ACTIVE_FLAG\n",
              "0        1.100042e+11  ...             NaN\n",
              "1        1.100006e+11  ...             NaN\n",
              "2        1.100706e+11  ...               Y\n",
              "3        1.100202e+11  ...             NaN\n",
              "4        1.100557e+11  ...               Y\n",
              "...               ...  ...             ...\n",
              "1860451  1.100707e+11  ...             NaN\n",
              "1860452  1.100700e+11  ...             NaN\n",
              "1860453  1.100073e+11  ...               Y\n",
              "1860454  1.100330e+11  ...             NaN\n",
              "1860455  1.100706e+11  ...               Y\n",
              "\n",
              "[1860456 rows x 13 columns]"
            ]
          },
          "metadata": {
            "tags": []
          },
          "execution_count": 3
        }
      ]
    },
    {
      "cell_type": "markdown",
      "metadata": {
        "id": "Fnla1jRuQu75",
        "colab_type": "text"
      },
      "source": [
        "## Number of Currently Regulated Facilities Per Program"
      ]
    },
    {
      "cell_type": "code",
      "metadata": {
        "id": "mEcRLg9YRHZI",
        "colab_type": "code",
        "colab": {
          "base_uri": "https://localhost:8080/",
          "height": 167
        },
        "outputId": "662d951a-758e-4f2c-d4b9-f90d955df342"
      },
      "source": [
        "air_fac = full_echo_data.loc[(full_echo_data[\"AIR_FLAG\"]==\"Y\") & (full_echo_data[\"FAC_ACTIVE_FLAG\"]==\"Y\")].shape[0]\n",
        "water_fac = full_echo_data.loc[(full_echo_data[\"NPDES_FLAG\"]==\"Y\") & (full_echo_data[\"FAC_ACTIVE_FLAG\"]==\"Y\")].shape[0]\n",
        "waste_fac = full_echo_data.loc[(full_echo_data[\"RCRA_FLAG\"]==\"Y\") & (full_echo_data[\"FAC_ACTIVE_FLAG\"]==\"Y\")].shape[0]\n",
        "ghg_fac = full_echo_data.loc[(full_echo_data[\"GHG_FLAG\"]==\"Y\") & (full_echo_data[\"FAC_ACTIVE_FLAG\"]==\"Y\")].shape[0]\n",
        "\n",
        "display(HTML(\"<h3>There are \"+ str(air_fac) + \" facilities currently regulated under the Clean Air Act.</h3>\"))\n",
        "display(HTML(\"<h3>There are \"+ str(water_fac) + \" facilities currently regulated under the Clean Water Act.</h3>\"))\n",
        "display(HTML(\"<h3>There are \"+ str(waste_fac) + \" facilities currently regulated under RCRA (hazardous waste).</h3>\"))\n",
        "display(HTML(\"<h3>There are \"+ str(ghg_fac) + \" facilities currently reporting greenhouse gas emissions.</h3>\"))"
      ],
      "execution_count": null,
      "outputs": [
        {
          "output_type": "display_data",
          "data": {
            "text/html": [
              "<h3>There are 187063 facilities currently regulated under the Clean Air Act.</h3>"
            ],
            "text/plain": [
              "<IPython.core.display.HTML object>"
            ]
          },
          "metadata": {
            "tags": []
          }
        },
        {
          "output_type": "display_data",
          "data": {
            "text/html": [
              "<h3>There are 350649 facilities currently regulated under the Clean Water Act.</h3>"
            ],
            "text/plain": [
              "<IPython.core.display.HTML object>"
            ]
          },
          "metadata": {
            "tags": []
          }
        },
        {
          "output_type": "display_data",
          "data": {
            "text/html": [
              "<h3>There are 605903 facilities currently regulated under RCRA (hazardous waste).</h3>"
            ],
            "text/plain": [
              "<IPython.core.display.HTML object>"
            ]
          },
          "metadata": {
            "tags": []
          }
        },
        {
          "output_type": "display_data",
          "data": {
            "text/html": [
              "<h3>There are 6129 facilities currently reporting greenhouse gas emissions.</h3>"
            ],
            "text/plain": [
              "<IPython.core.display.HTML object>"
            ]
          },
          "metadata": {
            "tags": []
          }
        }
      ]
    },
    {
      "cell_type": "markdown",
      "metadata": {
        "colab_type": "text",
        "id": "TUf6AQfPbt3z"
      },
      "source": [
        "## Clean Air Act inspections in 2019"
      ]
    },
    {
      "cell_type": "code",
      "metadata": {
        "colab_type": "code",
        "id": "rGzitWnObt33",
        "colab": {
          "base_uri": "https://localhost:8080/",
          "height": 487
        },
        "outputId": "00371560-74c4-40d3-ee3a-d9c4880d1849"
      },
      "source": [
        "# Use SQL to search for and select the data about air stack tests\n",
        "air_inspections = None\n",
        "try:\n",
        "    sql = 'select * from \\\"ICIS-AIR_FCES_PCES\\\" where \\\"ACTUAL_END_DATE\\\" like \\'__-__-2019\\''\n",
        "\n",
        "    # Download the data from that URL\n",
        "    air_inspections = get_data( sql, 'pgm_sys_id' )\n",
        "except EmptyDataError:\n",
        "    print( \"No data found\")\n",
        "\n",
        "air_inspections"
      ],
      "execution_count": null,
      "outputs": [
        {
          "output_type": "execute_result",
          "data": {
            "text/html": [
              "<div>\n",
              "<style scoped>\n",
              "    .dataframe tbody tr th:only-of-type {\n",
              "        vertical-align: middle;\n",
              "    }\n",
              "\n",
              "    .dataframe tbody tr th {\n",
              "        vertical-align: top;\n",
              "    }\n",
              "\n",
              "    .dataframe thead th {\n",
              "        text-align: right;\n",
              "    }\n",
              "</style>\n",
              "<table border=\"1\" class=\"dataframe\">\n",
              "  <thead>\n",
              "    <tr style=\"text-align: right;\">\n",
              "      <th></th>\n",
              "      <th>PGM_SYS_ID</th>\n",
              "      <th>ACTIVITY_ID</th>\n",
              "      <th>STATE_EPA_FLAG</th>\n",
              "      <th>ACTIVITY_TYPE_CODE</th>\n",
              "      <th>ACTIVITY_TYPE_DESC</th>\n",
              "      <th>COMP_MONITOR_TYPE_CODE</th>\n",
              "      <th>COMP_MONITOR_TYPE_DESC</th>\n",
              "      <th>ACTUAL_END_DATE</th>\n",
              "      <th>PROGRAM_CODES</th>\n",
              "    </tr>\n",
              "  </thead>\n",
              "  <tbody>\n",
              "    <tr>\n",
              "      <th>0</th>\n",
              "      <td>020000003606390000</td>\n",
              "      <td>3601943049</td>\n",
              "      <td>E</td>\n",
              "      <td>INS</td>\n",
              "      <td>Inspection/Evaluation</td>\n",
              "      <td>PCE</td>\n",
              "      <td>PCE On-Site</td>\n",
              "      <td>07-23-2019</td>\n",
              "      <td>CAACFC, CAAFESOP</td>\n",
              "    </tr>\n",
              "    <tr>\n",
              "      <th>1</th>\n",
              "      <td>020000003606501000</td>\n",
              "      <td>3601851095</td>\n",
              "      <td>E</td>\n",
              "      <td>INS</td>\n",
              "      <td>Inspection/Evaluation</td>\n",
              "      <td>PFF</td>\n",
              "      <td>PCE Off-Site</td>\n",
              "      <td>05-08-2019</td>\n",
              "      <td>CAAOP</td>\n",
              "    </tr>\n",
              "    <tr>\n",
              "      <th>2</th>\n",
              "      <td>020000003606501000</td>\n",
              "      <td>3601866216</td>\n",
              "      <td>E</td>\n",
              "      <td>INS</td>\n",
              "      <td>Inspection/Evaluation</td>\n",
              "      <td>FOO</td>\n",
              "      <td>FCE On-Site</td>\n",
              "      <td>05-01-2019</td>\n",
              "      <td>CAANAM, CAAOP</td>\n",
              "    </tr>\n",
              "    <tr>\n",
              "      <th>3</th>\n",
              "      <td>020000003606501000</td>\n",
              "      <td>3601972076</td>\n",
              "      <td>E</td>\n",
              "      <td>INS</td>\n",
              "      <td>Inspection/Evaluation</td>\n",
              "      <td>PFF</td>\n",
              "      <td>PCE Off-Site</td>\n",
              "      <td>04-24-2019</td>\n",
              "      <td>CAASIP</td>\n",
              "    </tr>\n",
              "    <tr>\n",
              "      <th>4</th>\n",
              "      <td>020000003606501000</td>\n",
              "      <td>3601972077</td>\n",
              "      <td>E</td>\n",
              "      <td>INS</td>\n",
              "      <td>Inspection/Evaluation</td>\n",
              "      <td>PFF</td>\n",
              "      <td>PCE Off-Site</td>\n",
              "      <td>04-17-2019</td>\n",
              "      <td>CAASIP</td>\n",
              "    </tr>\n",
              "    <tr>\n",
              "      <th>...</th>\n",
              "      <td>...</td>\n",
              "      <td>...</td>\n",
              "      <td>...</td>\n",
              "      <td>...</td>\n",
              "      <td>...</td>\n",
              "      <td>...</td>\n",
              "      <td>...</td>\n",
              "      <td>...</td>\n",
              "      <td>...</td>\n",
              "    </tr>\n",
              "    <tr>\n",
              "      <th>48869</th>\n",
              "      <td>WAPSC0005305312230</td>\n",
              "      <td>3602049948</td>\n",
              "      <td>L</td>\n",
              "      <td>INS</td>\n",
              "      <td>Inspection/Evaluation</td>\n",
              "      <td>POR</td>\n",
              "      <td>PCE On-Site Record/Report Review</td>\n",
              "      <td>10-09-2019</td>\n",
              "      <td>CAANSPS</td>\n",
              "    </tr>\n",
              "    <tr>\n",
              "      <th>48870</th>\n",
              "      <td>WAPSC0005305315100</td>\n",
              "      <td>3601898380</td>\n",
              "      <td>L</td>\n",
              "      <td>INS</td>\n",
              "      <td>Inspection/Evaluation</td>\n",
              "      <td>POR</td>\n",
              "      <td>PCE On-Site Record/Report Review</td>\n",
              "      <td>06-04-2019</td>\n",
              "      <td>CAAMACT, CAANSPS</td>\n",
              "    </tr>\n",
              "    <tr>\n",
              "      <th>48871</th>\n",
              "      <td>WAPSC0005305316052</td>\n",
              "      <td>3601881242</td>\n",
              "      <td>L</td>\n",
              "      <td>INS</td>\n",
              "      <td>Inspection/Evaluation</td>\n",
              "      <td>FOO</td>\n",
              "      <td>FCE On-Site</td>\n",
              "      <td>05-15-2019</td>\n",
              "      <td>CAAFESOP</td>\n",
              "    </tr>\n",
              "    <tr>\n",
              "      <th>48872</th>\n",
              "      <td>WAPSC0005305316052</td>\n",
              "      <td>3601881245</td>\n",
              "      <td>L</td>\n",
              "      <td>INS</td>\n",
              "      <td>Inspection/Evaluation</td>\n",
              "      <td>POR</td>\n",
              "      <td>PCE On-Site Record/Report Review</td>\n",
              "      <td>05-15-2019</td>\n",
              "      <td>CAAFESOP</td>\n",
              "    </tr>\n",
              "    <tr>\n",
              "      <th>48873</th>\n",
              "      <td>WA0000005300500009</td>\n",
              "      <td>3601934643</td>\n",
              "      <td>S</td>\n",
              "      <td>INS</td>\n",
              "      <td>Inspection/Evaluation</td>\n",
              "      <td>PCE</td>\n",
              "      <td>PCE On-Site</td>\n",
              "      <td>08-08-2019</td>\n",
              "      <td>CAAFENF, CAANESH, CAASIP, CAATVP</td>\n",
              "    </tr>\n",
              "  </tbody>\n",
              "</table>\n",
              "<p>48874 rows × 9 columns</p>\n",
              "</div>"
            ],
            "text/plain": [
              "               PGM_SYS_ID  ...                     PROGRAM_CODES\n",
              "0      020000003606390000  ...                  CAACFC, CAAFESOP\n",
              "1      020000003606501000  ...                             CAAOP\n",
              "2      020000003606501000  ...                     CAANAM, CAAOP\n",
              "3      020000003606501000  ...                            CAASIP\n",
              "4      020000003606501000  ...                            CAASIP\n",
              "...                   ...  ...                               ...\n",
              "48869  WAPSC0005305312230  ...                           CAANSPS\n",
              "48870  WAPSC0005305315100  ...                  CAAMACT, CAANSPS\n",
              "48871  WAPSC0005305316052  ...                          CAAFESOP\n",
              "48872  WAPSC0005305316052  ...                          CAAFESOP\n",
              "48873  WA0000005300500009  ...  CAAFENF, CAANESH, CAASIP, CAATVP\n",
              "\n",
              "[48874 rows x 9 columns]"
            ]
          },
          "metadata": {
            "tags": []
          },
          "execution_count": 5
        }
      ]
    },
    {
      "cell_type": "code",
      "metadata": {
        "id": "lZfbWeMnK7Yk",
        "colab_type": "code",
        "colab": {
          "base_uri": "https://localhost:8080/",
          "height": 57
        },
        "outputId": "3a45984f-6965-479a-baa8-9dc8f2b3d326"
      },
      "source": [
        "# Number of inspections in 2019 per 1000 regulated facilities\n",
        "\n",
        "air_inspections_metric = formatter((air_inspections.shape[0] / air_fac) * 1000) # Divide by regulated facilities and multiply by desired rate (per 1000)\n",
        "inspections[\"CAA\"] = air_inspections_metric\n",
        "display(HTML(\"<h3>\"+ air_inspections_metric +\" inspections per 1000 facilities</h3>\"))"
      ],
      "execution_count": null,
      "outputs": [
        {
          "output_type": "display_data",
          "data": {
            "text/html": [
              "<h3>261.27 inspections per 1000 facilities</h3>"
            ],
            "text/plain": [
              "<IPython.core.display.HTML object>"
            ]
          },
          "metadata": {
            "tags": []
          }
        }
      ]
    },
    {
      "cell_type": "markdown",
      "metadata": {
        "colab_type": "text",
        "id": "RMjxybzbbt5X"
      },
      "source": [
        "## High priority violations of the Clean Air Act in 2019\n",
        "\n"
      ]
    },
    {
      "cell_type": "code",
      "metadata": {
        "colab_type": "code",
        "id": "z1N2CuKTbt5Z",
        "colab": {
          "base_uri": "https://localhost:8080/",
          "height": 711
        },
        "outputId": "7e17778f-1961-4f6f-e906-918c102bd718"
      },
      "source": [
        "air_violations = None\n",
        "try:\n",
        "    sql = 'select * from \"ICIS-AIR_VIOLATION_HISTORY\" where \"HPV_DAYZERO_DATE\" like \\'__-__-2019\\''\n",
        "\n",
        "    air_violations = get_data( sql, \"pgm_sys_id\" )\n",
        "\n",
        "    # Remove \"FACIL\" violations, which are paperwork violations according to: https://19january2017snapshot.epa.gov/sites/production/files/2013-10/documents/frvmemo.pdf\n",
        "    # air_violations = air_violations.loc[(air_violations[\"POLLUTANT_DESCS\"]!=\"FACIL\")]\n",
        "except EmptyDataError:\n",
        "    print( \"No data found\")\n",
        "air_violations"
      ],
      "execution_count": null,
      "outputs": [
        {
          "output_type": "execute_result",
          "data": {
            "text/html": [
              "<div>\n",
              "<style scoped>\n",
              "    .dataframe tbody tr th:only-of-type {\n",
              "        vertical-align: middle;\n",
              "    }\n",
              "\n",
              "    .dataframe tbody tr th {\n",
              "        vertical-align: top;\n",
              "    }\n",
              "\n",
              "    .dataframe thead th {\n",
              "        text-align: right;\n",
              "    }\n",
              "</style>\n",
              "<table border=\"1\" class=\"dataframe\">\n",
              "  <thead>\n",
              "    <tr style=\"text-align: right;\">\n",
              "      <th></th>\n",
              "      <th>PGM_SYS_ID</th>\n",
              "      <th>ACTIVITY_ID</th>\n",
              "      <th>AGENCY_TYPE_DESC</th>\n",
              "      <th>STATE_CODE</th>\n",
              "      <th>AIR_LCON_CODE</th>\n",
              "      <th>COMP_DETERMINATION_UID</th>\n",
              "      <th>ENF_RESPONSE_POLICY_CODE</th>\n",
              "      <th>PROGRAM_CODES</th>\n",
              "      <th>PROGRAM_DESCS</th>\n",
              "      <th>POLLUTANT_CODES</th>\n",
              "      <th>POLLUTANT_DESCS</th>\n",
              "      <th>EARLIEST_FRV_DETERM_DATE</th>\n",
              "      <th>HPV_DAYZERO_DATE</th>\n",
              "      <th>HPV_RESOLVED_DATE</th>\n",
              "    </tr>\n",
              "  </thead>\n",
              "  <tbody>\n",
              "    <tr>\n",
              "      <th>0</th>\n",
              "      <td>IN0000001803300043</td>\n",
              "      <td>3601685463</td>\n",
              "      <td>State</td>\n",
              "      <td>IN</td>\n",
              "      <td>NaN</td>\n",
              "      <td>IN000A74118</td>\n",
              "      <td>HPV</td>\n",
              "      <td>CAANSPS</td>\n",
              "      <td>New Source Performance Standards</td>\n",
              "      <td>10373</td>\n",
              "      <td>Particulate matter - PM10</td>\n",
              "      <td>12-03-2018</td>\n",
              "      <td>01-13-2019</td>\n",
              "      <td>NaN</td>\n",
              "    </tr>\n",
              "    <tr>\n",
              "      <th>1</th>\n",
              "      <td>IN0000001801900008</td>\n",
              "      <td>3601799804</td>\n",
              "      <td>State</td>\n",
              "      <td>IN</td>\n",
              "      <td>NaN</td>\n",
              "      <td>IN000A75598</td>\n",
              "      <td>HPV</td>\n",
              "      <td>CAAMACT</td>\n",
              "      <td>MACT Standards (40 CFR Part 63)</td>\n",
              "      <td>300000036</td>\n",
              "      <td>Mercury</td>\n",
              "      <td>04-05-2019</td>\n",
              "      <td>04-30-2019</td>\n",
              "      <td>05-26-2020</td>\n",
              "    </tr>\n",
              "    <tr>\n",
              "      <th>2</th>\n",
              "      <td>IN0000001801900008</td>\n",
              "      <td>3602022157</td>\n",
              "      <td>State</td>\n",
              "      <td>IN</td>\n",
              "      <td>NaN</td>\n",
              "      <td>IN000A78256</td>\n",
              "      <td>HPV</td>\n",
              "      <td>CAAMACT</td>\n",
              "      <td>MACT Standards (40 CFR Part 63)</td>\n",
              "      <td>300000036</td>\n",
              "      <td>Mercury</td>\n",
              "      <td>09-25-2019</td>\n",
              "      <td>12-24-2019</td>\n",
              "      <td>NaN</td>\n",
              "    </tr>\n",
              "    <tr>\n",
              "      <th>3</th>\n",
              "      <td>MN0000002704700055</td>\n",
              "      <td>3602241949</td>\n",
              "      <td>State</td>\n",
              "      <td>MN</td>\n",
              "      <td>NaN</td>\n",
              "      <td>MN000A00001670PEN20191</td>\n",
              "      <td>HPV</td>\n",
              "      <td>CAATVP</td>\n",
              "      <td>Title V Permits</td>\n",
              "      <td>10193</td>\n",
              "      <td>Carbon monoxide</td>\n",
              "      <td>06-06-2018</td>\n",
              "      <td>04-23-2019</td>\n",
              "      <td>06-04-2020</td>\n",
              "    </tr>\n",
              "    <tr>\n",
              "      <th>4</th>\n",
              "      <td>PA000493288</td>\n",
              "      <td>3601889184</td>\n",
              "      <td>State</td>\n",
              "      <td>PA</td>\n",
              "      <td>NaN</td>\n",
              "      <td>PA000A0000H00000000376058</td>\n",
              "      <td>HPV</td>\n",
              "      <td>CAAMACT CAANSPS CAASIP CAATVP</td>\n",
              "      <td>MACT Standards (40 CFR Part 63) New Source Per...</td>\n",
              "      <td>10358</td>\n",
              "      <td>Nitrogen oxides</td>\n",
              "      <td>06-06-2019</td>\n",
              "      <td>06-06-2019</td>\n",
              "      <td>04-23-2020</td>\n",
              "    </tr>\n",
              "    <tr>\n",
              "      <th>...</th>\n",
              "      <td>...</td>\n",
              "      <td>...</td>\n",
              "      <td>...</td>\n",
              "      <td>...</td>\n",
              "      <td>...</td>\n",
              "      <td>...</td>\n",
              "      <td>...</td>\n",
              "      <td>...</td>\n",
              "      <td>...</td>\n",
              "      <td>...</td>\n",
              "      <td>...</td>\n",
              "      <td>...</td>\n",
              "      <td>...</td>\n",
              "      <td>...</td>\n",
              "    </tr>\n",
              "    <tr>\n",
              "      <th>814</th>\n",
              "      <td>IN0000001801900155</td>\n",
              "      <td>3602134543</td>\n",
              "      <td>State</td>\n",
              "      <td>IN</td>\n",
              "      <td>NaN</td>\n",
              "      <td>IN000A80006</td>\n",
              "      <td>HPV</td>\n",
              "      <td>CAATVP</td>\n",
              "      <td>Title V Permits</td>\n",
              "      <td>300000018</td>\n",
              "      <td>Hydrochloric acid</td>\n",
              "      <td>12-16-2019</td>\n",
              "      <td>12-16-2019</td>\n",
              "      <td>NaN</td>\n",
              "    </tr>\n",
              "    <tr>\n",
              "      <th>815</th>\n",
              "      <td>WAORC005302700058</td>\n",
              "      <td>3602032106</td>\n",
              "      <td>Local</td>\n",
              "      <td>WA</td>\n",
              "      <td>ORC</td>\n",
              "      <td>WAORCA78445</td>\n",
              "      <td>HPV</td>\n",
              "      <td>CAATVP</td>\n",
              "      <td>Title V Permits</td>\n",
              "      <td>300000243</td>\n",
              "      <td>VOLATILE ORGANIC COMPOUNDS (VOCS)</td>\n",
              "      <td>10-29-2019</td>\n",
              "      <td>10-29-2019</td>\n",
              "      <td>NaN</td>\n",
              "    </tr>\n",
              "    <tr>\n",
              "      <th>816</th>\n",
              "      <td>CO0000000812309FC0</td>\n",
              "      <td>3602053305</td>\n",
              "      <td>State</td>\n",
              "      <td>CO</td>\n",
              "      <td>NaN</td>\n",
              "      <td>CO000A00000812309FC000001</td>\n",
              "      <td>HPV</td>\n",
              "      <td>CAASIP</td>\n",
              "      <td>State Implementation Plan for National Primary...</td>\n",
              "      <td>300000243</td>\n",
              "      <td>VOLATILE ORGANIC COMPOUNDS (VOCS)</td>\n",
              "      <td>06-25-2019</td>\n",
              "      <td>06-25-2019</td>\n",
              "      <td>10-03-2019</td>\n",
              "    </tr>\n",
              "    <tr>\n",
              "      <th>817</th>\n",
              "      <td>AL0000000104900048</td>\n",
              "      <td>3602051772</td>\n",
              "      <td>State</td>\n",
              "      <td>AL</td>\n",
              "      <td>NaN</td>\n",
              "      <td>AL000A78887</td>\n",
              "      <td>HPV</td>\n",
              "      <td>CAATVP</td>\n",
              "      <td>Title V Permits</td>\n",
              "      <td>300000328</td>\n",
              "      <td>ADMIN</td>\n",
              "      <td>11-05-2019</td>\n",
              "      <td>11-05-2019</td>\n",
              "      <td>NaN</td>\n",
              "    </tr>\n",
              "    <tr>\n",
              "      <th>818</th>\n",
              "      <td>CABAAA0085</td>\n",
              "      <td>3602188895</td>\n",
              "      <td>Local</td>\n",
              "      <td>CA</td>\n",
              "      <td>BAA</td>\n",
              "      <td>CABAAA80845</td>\n",
              "      <td>HPV</td>\n",
              "      <td>CAATVP</td>\n",
              "      <td>Title V Permits</td>\n",
              "      <td>300000243</td>\n",
              "      <td>VOLATILE ORGANIC COMPOUNDS (VOCS)</td>\n",
              "      <td>07-23-2019</td>\n",
              "      <td>07-23-2019</td>\n",
              "      <td>06-04-2020</td>\n",
              "    </tr>\n",
              "  </tbody>\n",
              "</table>\n",
              "<p>819 rows × 14 columns</p>\n",
              "</div>"
            ],
            "text/plain": [
              "             PGM_SYS_ID  ACTIVITY_ID  ... HPV_DAYZERO_DATE HPV_RESOLVED_DATE\n",
              "0    IN0000001803300043   3601685463  ...       01-13-2019               NaN\n",
              "1    IN0000001801900008   3601799804  ...       04-30-2019        05-26-2020\n",
              "2    IN0000001801900008   3602022157  ...       12-24-2019               NaN\n",
              "3    MN0000002704700055   3602241949  ...       04-23-2019        06-04-2020\n",
              "4           PA000493288   3601889184  ...       06-06-2019        04-23-2020\n",
              "..                  ...          ...  ...              ...               ...\n",
              "814  IN0000001801900155   3602134543  ...       12-16-2019               NaN\n",
              "815   WAORC005302700058   3602032106  ...       10-29-2019               NaN\n",
              "816  CO0000000812309FC0   3602053305  ...       06-25-2019        10-03-2019\n",
              "817  AL0000000104900048   3602051772  ...       11-05-2019               NaN\n",
              "818          CABAAA0085   3602188895  ...       07-23-2019        06-04-2020\n",
              "\n",
              "[819 rows x 14 columns]"
            ]
          },
          "metadata": {
            "tags": []
          },
          "execution_count": 7
        }
      ]
    },
    {
      "cell_type": "code",
      "metadata": {
        "id": "KUQs-_I045oc",
        "colab_type": "code",
        "cellView": "both",
        "colab": {
          "base_uri": "https://localhost:8080/",
          "height": 57
        },
        "outputId": "ecd1907b-a47c-49ea-c310-7240bd307e6e"
      },
      "source": [
        "# Number of high priority violations per 1000 regulated facilities\n",
        "\n",
        "#air_violations_fac = air_violations.shape[0] / len(air_violations[\"PGM_SYS_ID\"].unique()) # Total number of violations divided by number of facilities with violations. Will use this later in looking at enforcement actions.\n",
        "air_violations_metric = formatter((air_violations.shape[0] / air_fac) * 1000) # Divide by regulated facilities and multiply by desired rate (per 1000)\n",
        "violations[\"CAA\"] = air_violations_metric\n",
        "display(HTML(\"<h3>\"+air_violations_metric+\" high priority violations per 1000 facilities </h3>\"))"
      ],
      "execution_count": null,
      "outputs": [
        {
          "output_type": "display_data",
          "data": {
            "text/html": [
              "<h3>4.38 high priority violations per 1000 facilities </h3>"
            ],
            "text/plain": [
              "<IPython.core.display.HTML object>"
            ]
          },
          "metadata": {
            "tags": []
          }
        }
      ]
    },
    {
      "cell_type": "markdown",
      "metadata": {
        "id": "DGdQDifqo3Bg",
        "colab_type": "text"
      },
      "source": [
        "## Formal Enforcement Actions and Penalties under the Clean Air Act in 2019"
      ]
    },
    {
      "cell_type": "code",
      "metadata": {
        "id": "vKHjSEl6o0tp",
        "colab_type": "code",
        "colab": {
          "base_uri": "https://localhost:8080/",
          "height": 419
        },
        "outputId": "c1749f30-a0b0-47c4-a56d-7675ffb21c54"
      },
      "source": [
        "air_enforcements = None\n",
        "try:\n",
        "    sql = 'select * from \"ICIS-AIR_FORMAL_ACTIONS\" where \"SETTLEMENT_ENTERED_DATE\" like \\'__/__/2019\\''\n",
        "\n",
        "    air_enforcements = get_data( sql, \"pgm_sys_id\" )\n",
        "except EmptyDataError:\n",
        "    print( \"No data found\")\n",
        "air_enforcements"
      ],
      "execution_count": null,
      "outputs": [
        {
          "output_type": "execute_result",
          "data": {
            "text/html": [
              "<div>\n",
              "<style scoped>\n",
              "    .dataframe tbody tr th:only-of-type {\n",
              "        vertical-align: middle;\n",
              "    }\n",
              "\n",
              "    .dataframe tbody tr th {\n",
              "        vertical-align: top;\n",
              "    }\n",
              "\n",
              "    .dataframe thead th {\n",
              "        text-align: right;\n",
              "    }\n",
              "</style>\n",
              "<table border=\"1\" class=\"dataframe\">\n",
              "  <thead>\n",
              "    <tr style=\"text-align: right;\">\n",
              "      <th></th>\n",
              "      <th>PGM_SYS_ID</th>\n",
              "      <th>ACTIVITY_ID</th>\n",
              "      <th>ENF_IDENTIFIER</th>\n",
              "      <th>ACTIVITY_TYPE_CODE</th>\n",
              "      <th>ACTIVITY_TYPE_DESC</th>\n",
              "      <th>STATE_EPA_FLAG</th>\n",
              "      <th>ENF_TYPE_CODE</th>\n",
              "      <th>ENF_TYPE_DESC</th>\n",
              "      <th>SETTLEMENT_ENTERED_DATE</th>\n",
              "      <th>PENALTY_AMOUNT</th>\n",
              "    </tr>\n",
              "  </thead>\n",
              "  <tbody>\n",
              "    <tr>\n",
              "      <th>0</th>\n",
              "      <td>OH0000000627010056</td>\n",
              "      <td>31941</td>\n",
              "      <td>05-1999-0644</td>\n",
              "      <td>JDC</td>\n",
              "      <td>Judicial</td>\n",
              "      <td>E</td>\n",
              "      <td>CIV</td>\n",
              "      <td>Civil Judicial Action</td>\n",
              "      <td>07/17/2019</td>\n",
              "      <td>0.0</td>\n",
              "    </tr>\n",
              "    <tr>\n",
              "      <th>1</th>\n",
              "      <td>OH0000000684000000</td>\n",
              "      <td>31941</td>\n",
              "      <td>05-1999-0644</td>\n",
              "      <td>JDC</td>\n",
              "      <td>Judicial</td>\n",
              "      <td>E</td>\n",
              "      <td>CIV</td>\n",
              "      <td>Civil Judicial Action</td>\n",
              "      <td>07/17/2019</td>\n",
              "      <td>0.0</td>\n",
              "    </tr>\n",
              "    <tr>\n",
              "      <th>2</th>\n",
              "      <td>IN0000001802900002</td>\n",
              "      <td>31941</td>\n",
              "      <td>05-1999-0644</td>\n",
              "      <td>JDC</td>\n",
              "      <td>Judicial</td>\n",
              "      <td>E</td>\n",
              "      <td>CIV</td>\n",
              "      <td>Civil Judicial Action</td>\n",
              "      <td>07/17/2019</td>\n",
              "      <td>0.0</td>\n",
              "    </tr>\n",
              "    <tr>\n",
              "      <th>3</th>\n",
              "      <td>IN0000001814700020</td>\n",
              "      <td>31941</td>\n",
              "      <td>05-1999-0644</td>\n",
              "      <td>JDC</td>\n",
              "      <td>Judicial</td>\n",
              "      <td>E</td>\n",
              "      <td>CIV</td>\n",
              "      <td>Civil Judicial Action</td>\n",
              "      <td>07/17/2019</td>\n",
              "      <td>0.0</td>\n",
              "    </tr>\n",
              "    <tr>\n",
              "      <th>4</th>\n",
              "      <td>OH0000000165000006</td>\n",
              "      <td>31941</td>\n",
              "      <td>05-1999-0644</td>\n",
              "      <td>JDC</td>\n",
              "      <td>Judicial</td>\n",
              "      <td>E</td>\n",
              "      <td>CIV</td>\n",
              "      <td>Civil Judicial Action</td>\n",
              "      <td>07/17/2019</td>\n",
              "      <td>0.0</td>\n",
              "    </tr>\n",
              "    <tr>\n",
              "      <th>...</th>\n",
              "      <td>...</td>\n",
              "      <td>...</td>\n",
              "      <td>...</td>\n",
              "      <td>...</td>\n",
              "      <td>...</td>\n",
              "      <td>...</td>\n",
              "      <td>...</td>\n",
              "      <td>...</td>\n",
              "      <td>...</td>\n",
              "      <td>...</td>\n",
              "    </tr>\n",
              "    <tr>\n",
              "      <th>2643</th>\n",
              "      <td>HI0000001500700066</td>\n",
              "      <td>3602236126</td>\n",
              "      <td>HI000AEA93</td>\n",
              "      <td>AFR</td>\n",
              "      <td>Administrative - Formal</td>\n",
              "      <td>S</td>\n",
              "      <td>SCAAAO</td>\n",
              "      <td>Administrative Order</td>\n",
              "      <td>07/11/2019</td>\n",
              "      <td>22800.0</td>\n",
              "    </tr>\n",
              "    <tr>\n",
              "      <th>2644</th>\n",
              "      <td>MI00000000000N7688</td>\n",
              "      <td>3602237523</td>\n",
              "      <td>MI000AN7688FRV0000038302</td>\n",
              "      <td>AFR</td>\n",
              "      <td>Administrative - Formal</td>\n",
              "      <td>S</td>\n",
              "      <td>SCAAAO</td>\n",
              "      <td>Administrative Order</td>\n",
              "      <td>08/08/2019</td>\n",
              "      <td>54600.0</td>\n",
              "    </tr>\n",
              "    <tr>\n",
              "      <th>2645</th>\n",
              "      <td>WASPC0005306310023</td>\n",
              "      <td>3602245188</td>\n",
              "      <td>WASPCA200188484</td>\n",
              "      <td>AFR</td>\n",
              "      <td>Administrative - Formal</td>\n",
              "      <td>L</td>\n",
              "      <td>SCAAAO</td>\n",
              "      <td>Administrative Order</td>\n",
              "      <td>12/31/2019</td>\n",
              "      <td>32000.0</td>\n",
              "    </tr>\n",
              "    <tr>\n",
              "      <th>2646</th>\n",
              "      <td>LA0000002212500007</td>\n",
              "      <td>3602258171</td>\n",
              "      <td>LA000A2573011</td>\n",
              "      <td>AFR</td>\n",
              "      <td>Administrative - Formal</td>\n",
              "      <td>S</td>\n",
              "      <td>SCAAAO</td>\n",
              "      <td>Administrative Order</td>\n",
              "      <td>01/11/2019</td>\n",
              "      <td>7597.9</td>\n",
              "    </tr>\n",
              "    <tr>\n",
              "      <th>2647</th>\n",
              "      <td>LA0000002208900167</td>\n",
              "      <td>3602258178</td>\n",
              "      <td>LA000A2388362</td>\n",
              "      <td>AFR</td>\n",
              "      <td>Administrative - Formal</td>\n",
              "      <td>S</td>\n",
              "      <td>SCAAAO</td>\n",
              "      <td>Administrative Order</td>\n",
              "      <td>03/25/2019</td>\n",
              "      <td>0.0</td>\n",
              "    </tr>\n",
              "  </tbody>\n",
              "</table>\n",
              "<p>2648 rows × 10 columns</p>\n",
              "</div>"
            ],
            "text/plain": [
              "              PGM_SYS_ID  ACTIVITY_ID  ... SETTLEMENT_ENTERED_DATE PENALTY_AMOUNT\n",
              "0     OH0000000627010056        31941  ...              07/17/2019            0.0\n",
              "1     OH0000000684000000        31941  ...              07/17/2019            0.0\n",
              "2     IN0000001802900002        31941  ...              07/17/2019            0.0\n",
              "3     IN0000001814700020        31941  ...              07/17/2019            0.0\n",
              "4     OH0000000165000006        31941  ...              07/17/2019            0.0\n",
              "...                  ...          ...  ...                     ...            ...\n",
              "2643  HI0000001500700066   3602236126  ...              07/11/2019        22800.0\n",
              "2644  MI00000000000N7688   3602237523  ...              08/08/2019        54600.0\n",
              "2645  WASPC0005306310023   3602245188  ...              12/31/2019        32000.0\n",
              "2646  LA0000002212500007   3602258171  ...              01/11/2019         7597.9\n",
              "2647  LA0000002208900167   3602258178  ...              03/25/2019            0.0\n",
              "\n",
              "[2648 rows x 10 columns]"
            ]
          },
          "metadata": {
            "tags": []
          },
          "execution_count": 9
        }
      ]
    },
    {
      "cell_type": "code",
      "metadata": {
        "id": "3LYD5_dd6bub",
        "colab_type": "code",
        "colab": {
          "base_uri": "https://localhost:8080/",
          "height": 57
        },
        "outputId": "ec40a7cf-c654-40b9-842e-05d84636a1cf"
      },
      "source": [
        "# Number of formal actions in 2019 per violation\n",
        "\n",
        "air_enforcements_metric = formatter(air_enforcements.shape[0]/air_violations.shape[0]) # Formal actions divided by number of violations\n",
        "enforcements[\"CAA\"] = air_enforcements_metric\n",
        "display(HTML(\"<h3>\"+air_enforcements_metric +\" formal enforcement actions per violation</h3>\"))"
      ],
      "execution_count": null,
      "outputs": [
        {
          "output_type": "display_data",
          "data": {
            "text/html": [
              "<h3>3.23 formal enforcement actions per violation</h3>"
            ],
            "text/plain": [
              "<IPython.core.display.HTML object>"
            ]
          },
          "metadata": {
            "tags": []
          }
        }
      ]
    },
    {
      "cell_type": "code",
      "metadata": {
        "id": "Z7ykKG7V7G4b",
        "colab_type": "code",
        "colab": {
          "base_uri": "https://localhost:8080/",
          "height": 130
        },
        "outputId": "4436680a-32bf-40ec-a245-609d3d1d8b02"
      },
      "source": [
        "# Penalties each year per violating facility\n",
        "air_penalties = air_enforcements.loc[air_enforcements[\"PENALTY_AMOUNT\"]>0]\n",
        "air_penalties_metric = formatter(sum(air_penalties[\"PENALTY_AMOUNT\"]) / len(air_violations[\"PGM_SYS_ID\"].unique())) #Divide the sum of penalties by number of violating facilities\n",
        "air_penalties_max = formatter(max(air_penalties[\"PENALTY_AMOUNT\"])) \n",
        "air_penalties_min = formatter(min(air_penalties[\"PENALTY_AMOUNT\"])) \n",
        "penalties[\"CAA\"] = air_penalties_metric\n",
        "display(HTML(\"<h3>$\"+air_penalties_metric +\" per facility in violation</h3>\"))\n",
        "display(HTML(\"<h3>Max: $\"+air_penalties_max +\"</h3>\"))\n",
        "display(HTML(\"<h3>Min: $\"+air_penalties_min +\"</h3>\"))"
      ],
      "execution_count": null,
      "outputs": [
        {
          "output_type": "display_data",
          "data": {
            "text/html": [
              "<h3>$145670.14 per facility in violation</h3>"
            ],
            "text/plain": [
              "<IPython.core.display.HTML object>"
            ]
          },
          "metadata": {
            "tags": []
          }
        },
        {
          "output_type": "display_data",
          "data": {
            "text/html": [
              "<h3>Max: $3709513.00</h3>"
            ],
            "text/plain": [
              "<IPython.core.display.HTML object>"
            ]
          },
          "metadata": {
            "tags": []
          }
        },
        {
          "output_type": "display_data",
          "data": {
            "text/html": [
              "<h3>Min: $100.00</h3>"
            ],
            "text/plain": [
              "<IPython.core.display.HTML object>"
            ]
          },
          "metadata": {
            "tags": []
          }
        }
      ]
    },
    {
      "cell_type": "markdown",
      "metadata": {
        "colab_type": "text",
        "id": "bevtiFu2bt6M"
      },
      "source": [
        "---"
      ]
    },
    {
      "cell_type": "markdown",
      "metadata": {
        "id": "hOmeJnXgnzOC",
        "colab_type": "text"
      },
      "source": [
        "## Clean Water Act inspections in 2019"
      ]
    },
    {
      "cell_type": "code",
      "metadata": {
        "id": "gHXwXWcqnyNO",
        "colab_type": "code",
        "colab": {
          "base_uri": "https://localhost:8080/",
          "height": 450
        },
        "outputId": "5700b660-fdbe-43ae-c0ca-f49beee4b221"
      },
      "source": [
        "# Find facilities with pollutant exceedences\n",
        "water_inspections = None\n",
        "try:\n",
        "    sql = 'select \"NPDES_ID\", \"REGISTRY_ID\", \"ACTUAL_END_DATE\", \"STATE_EPA_FLAG\"' + \\\n",
        "        ' from \"NPDES_INSPECTIONS\" where \"ACTUAL_END_DATE\" like \\'__/__/2019\\''\n",
        "\n",
        "    water_inspections = get_data( sql, \"NPDES_ID\" ) \n",
        "except EmptyDataError:\n",
        "    print( \"No data found\")\n",
        "water_inspections"
      ],
      "execution_count": null,
      "outputs": [
        {
          "output_type": "execute_result",
          "data": {
            "text/html": [
              "<div>\n",
              "<style scoped>\n",
              "    .dataframe tbody tr th:only-of-type {\n",
              "        vertical-align: middle;\n",
              "    }\n",
              "\n",
              "    .dataframe tbody tr th {\n",
              "        vertical-align: top;\n",
              "    }\n",
              "\n",
              "    .dataframe thead th {\n",
              "        text-align: right;\n",
              "    }\n",
              "</style>\n",
              "<table border=\"1\" class=\"dataframe\">\n",
              "  <thead>\n",
              "    <tr style=\"text-align: right;\">\n",
              "      <th></th>\n",
              "      <th>REGISTRY_ID</th>\n",
              "      <th>ACTUAL_END_DATE</th>\n",
              "      <th>STATE_EPA_FLAG</th>\n",
              "    </tr>\n",
              "    <tr>\n",
              "      <th>NPDES_ID</th>\n",
              "      <th></th>\n",
              "      <th></th>\n",
              "      <th></th>\n",
              "    </tr>\n",
              "  </thead>\n",
              "  <tbody>\n",
              "    <tr>\n",
              "      <th>AK0000507</th>\n",
              "      <td>110030488620</td>\n",
              "      <td>12/17/2019</td>\n",
              "      <td>S</td>\n",
              "    </tr>\n",
              "    <tr>\n",
              "      <th>AK0021385</th>\n",
              "      <td>110000761453</td>\n",
              "      <td>08/26/2019</td>\n",
              "      <td>E</td>\n",
              "    </tr>\n",
              "    <tr>\n",
              "      <th>AK0022497</th>\n",
              "      <td>110039730459</td>\n",
              "      <td>02/25/2019</td>\n",
              "      <td>S</td>\n",
              "    </tr>\n",
              "    <tr>\n",
              "      <th>AKG370029</th>\n",
              "      <td>110028064387</td>\n",
              "      <td>08/21/2019</td>\n",
              "      <td>S</td>\n",
              "    </tr>\n",
              "    <tr>\n",
              "      <th>AKG520042</th>\n",
              "      <td>110064604094</td>\n",
              "      <td>06/07/2019</td>\n",
              "      <td>S</td>\n",
              "    </tr>\n",
              "    <tr>\n",
              "      <th>...</th>\n",
              "      <td>...</td>\n",
              "      <td>...</td>\n",
              "      <td>...</td>\n",
              "    </tr>\n",
              "    <tr>\n",
              "      <th>WYR320686</th>\n",
              "      <td>110055196746</td>\n",
              "      <td>11/07/2019</td>\n",
              "      <td>S</td>\n",
              "    </tr>\n",
              "    <tr>\n",
              "      <th>WYR320871</th>\n",
              "      <td>110070235311</td>\n",
              "      <td>03/25/2019</td>\n",
              "      <td>S</td>\n",
              "    </tr>\n",
              "    <tr>\n",
              "      <th>WV0038113</th>\n",
              "      <td>110000585894</td>\n",
              "      <td>09/17/2019</td>\n",
              "      <td>S</td>\n",
              "    </tr>\n",
              "    <tr>\n",
              "      <th>WV0038288</th>\n",
              "      <td>110070259137</td>\n",
              "      <td>08/20/2019</td>\n",
              "      <td>S</td>\n",
              "    </tr>\n",
              "    <tr>\n",
              "      <th>WV0038288</th>\n",
              "      <td>110070259137</td>\n",
              "      <td>03/07/2019</td>\n",
              "      <td>S</td>\n",
              "    </tr>\n",
              "  </tbody>\n",
              "</table>\n",
              "<p>52039 rows × 3 columns</p>\n",
              "</div>"
            ],
            "text/plain": [
              "            REGISTRY_ID ACTUAL_END_DATE STATE_EPA_FLAG\n",
              "NPDES_ID                                              \n",
              "AK0000507  110030488620      12/17/2019              S\n",
              "AK0021385  110000761453      08/26/2019              E\n",
              "AK0022497  110039730459      02/25/2019              S\n",
              "AKG370029  110028064387      08/21/2019              S\n",
              "AKG520042  110064604094      06/07/2019              S\n",
              "...                 ...             ...            ...\n",
              "WYR320686  110055196746      11/07/2019              S\n",
              "WYR320871  110070235311      03/25/2019              S\n",
              "WV0038113  110000585894      09/17/2019              S\n",
              "WV0038288  110070259137      08/20/2019              S\n",
              "WV0038288  110070259137      03/07/2019              S\n",
              "\n",
              "[52039 rows x 3 columns]"
            ]
          },
          "metadata": {
            "tags": []
          },
          "execution_count": 12
        }
      ]
    },
    {
      "cell_type": "code",
      "metadata": {
        "id": "YoBlWh8V8BD-",
        "colab_type": "code",
        "colab": {
          "base_uri": "https://localhost:8080/",
          "height": 57
        },
        "outputId": "eab5a50c-48be-4b5b-dcca-e452cafb1f4a"
      },
      "source": [
        "# Number of inspections in 2019 per 1000 regulated facilities\n",
        "\n",
        "water_inspections_metric = formatter((water_inspections.shape[0] / water_fac) * 1000) #Divide by regulated facilities and multiply by desired rate (per 1000)\n",
        "inspections[\"CWA\"] = water_inspections_metric\n",
        "display(HTML(\"<h3>\"+water_inspections_metric +\" inspections per 1000 facilities</h3>\"))"
      ],
      "execution_count": null,
      "outputs": [
        {
          "output_type": "display_data",
          "data": {
            "text/html": [
              "<h3>148.41 inspections per 1000 facilities</h3>"
            ],
            "text/plain": [
              "<IPython.core.display.HTML object>"
            ]
          },
          "metadata": {
            "tags": []
          }
        }
      ]
    },
    {
      "cell_type": "markdown",
      "metadata": {
        "colab_type": "text",
        "id": "C6ntT917bt6N"
      },
      "source": [
        "## Effluent violations of the Clean Water Act in 2019\n",
        "*NOTE*: Not other kind of violations (schedule, permit, single event)"
      ]
    },
    {
      "cell_type": "code",
      "metadata": {
        "colab_type": "code",
        "id": "FmsI5gJAbt6P",
        "colab": {
          "base_uri": "https://localhost:8080/",
          "height": 450
        },
        "outputId": "0739ead4-d748-4ea1-bb96-d3c6db5f3a89"
      },
      "source": [
        "# Find facilities with pollutant exceedences\n",
        "water_violations = None\n",
        "try:\n",
        "    sql = 'select \"NPDES_ID\", \"EXCEEDENCE_PCT\", \"MONITORING_PERIOD_END_DATE\", \"VIOLATION_CODE\", \"PARAMETER_DESC\"' + \\\n",
        "        ' from \"NPDES_EFF_VIOLATIONS\" where \"VIOLATION_CODE\" like \\'E90\\' and \"MONITORING_PERIOD_END_DATE\" like \\'__/__/2019\\''\n",
        "    water_violations = get_data( sql, \"NPDES_ID\" ) \n",
        "except EmptyDataError:\n",
        "    print( \"No data found\")\n",
        "water_violations"
      ],
      "execution_count": null,
      "outputs": [
        {
          "output_type": "execute_result",
          "data": {
            "text/html": [
              "<div>\n",
              "<style scoped>\n",
              "    .dataframe tbody tr th:only-of-type {\n",
              "        vertical-align: middle;\n",
              "    }\n",
              "\n",
              "    .dataframe tbody tr th {\n",
              "        vertical-align: top;\n",
              "    }\n",
              "\n",
              "    .dataframe thead th {\n",
              "        text-align: right;\n",
              "    }\n",
              "</style>\n",
              "<table border=\"1\" class=\"dataframe\">\n",
              "  <thead>\n",
              "    <tr style=\"text-align: right;\">\n",
              "      <th></th>\n",
              "      <th>EXCEEDENCE_PCT</th>\n",
              "      <th>MONITORING_PERIOD_END_DATE</th>\n",
              "      <th>VIOLATION_CODE</th>\n",
              "      <th>PARAMETER_DESC</th>\n",
              "    </tr>\n",
              "    <tr>\n",
              "      <th>NPDES_ID</th>\n",
              "      <th></th>\n",
              "      <th></th>\n",
              "      <th></th>\n",
              "      <th></th>\n",
              "    </tr>\n",
              "  </thead>\n",
              "  <tbody>\n",
              "    <tr>\n",
              "      <th>MA0100765</th>\n",
              "      <td>19.0</td>\n",
              "      <td>08/31/2019</td>\n",
              "      <td>E90</td>\n",
              "      <td>Enterococci</td>\n",
              "    </tr>\n",
              "    <tr>\n",
              "      <th>WVG551350</th>\n",
              "      <td>1400.0</td>\n",
              "      <td>03/31/2019</td>\n",
              "      <td>E90</td>\n",
              "      <td>Coliform, fecal general</td>\n",
              "    </tr>\n",
              "    <tr>\n",
              "      <th>KY0076635</th>\n",
              "      <td>728.0</td>\n",
              "      <td>01/31/2019</td>\n",
              "      <td>E90</td>\n",
              "      <td>E. coli</td>\n",
              "    </tr>\n",
              "    <tr>\n",
              "      <th>KY0105082</th>\n",
              "      <td>10.0</td>\n",
              "      <td>01/31/2019</td>\n",
              "      <td>E90</td>\n",
              "      <td>Solids, total suspended</td>\n",
              "    </tr>\n",
              "    <tr>\n",
              "      <th>VA0085936</th>\n",
              "      <td>8.0</td>\n",
              "      <td>07/31/2019</td>\n",
              "      <td>E90</td>\n",
              "      <td>Solids, total dissolved</td>\n",
              "    </tr>\n",
              "    <tr>\n",
              "      <th>...</th>\n",
              "      <td>...</td>\n",
              "      <td>...</td>\n",
              "      <td>...</td>\n",
              "      <td>...</td>\n",
              "    </tr>\n",
              "    <tr>\n",
              "      <th>LA0079057</th>\n",
              "      <td>80.0</td>\n",
              "      <td>11/30/2019</td>\n",
              "      <td>E90</td>\n",
              "      <td>Solids, total suspended</td>\n",
              "    </tr>\n",
              "    <tr>\n",
              "      <th>ID0020265</th>\n",
              "      <td>13.0</td>\n",
              "      <td>11/30/2019</td>\n",
              "      <td>E90</td>\n",
              "      <td>BOD, 5-day, 20 deg. C</td>\n",
              "    </tr>\n",
              "    <tr>\n",
              "      <th>LAG534438</th>\n",
              "      <td>264.0</td>\n",
              "      <td>12/31/2019</td>\n",
              "      <td>E90</td>\n",
              "      <td>Coliform, fecal general</td>\n",
              "    </tr>\n",
              "    <tr>\n",
              "      <th>ALG250007</th>\n",
              "      <td>5163.0</td>\n",
              "      <td>12/31/2019</td>\n",
              "      <td>E90</td>\n",
              "      <td>Chlorine, total residual</td>\n",
              "    </tr>\n",
              "    <tr>\n",
              "      <th>LA0055310</th>\n",
              "      <td>9.0</td>\n",
              "      <td>12/31/2019</td>\n",
              "      <td>E90</td>\n",
              "      <td>Solids, total suspended</td>\n",
              "    </tr>\n",
              "  </tbody>\n",
              "</table>\n",
              "<p>145037 rows × 4 columns</p>\n",
              "</div>"
            ],
            "text/plain": [
              "           EXCEEDENCE_PCT  ...            PARAMETER_DESC\n",
              "NPDES_ID                   ...                          \n",
              "MA0100765            19.0  ...               Enterococci\n",
              "WVG551350          1400.0  ...   Coliform, fecal general\n",
              "KY0076635           728.0  ...                   E. coli\n",
              "KY0105082            10.0  ...   Solids, total suspended\n",
              "VA0085936             8.0  ...   Solids, total dissolved\n",
              "...                   ...  ...                       ...\n",
              "LA0079057            80.0  ...   Solids, total suspended\n",
              "ID0020265            13.0  ...     BOD, 5-day, 20 deg. C\n",
              "LAG534438           264.0  ...   Coliform, fecal general\n",
              "ALG250007          5163.0  ...  Chlorine, total residual\n",
              "LA0055310             9.0  ...   Solids, total suspended\n",
              "\n",
              "[145037 rows x 4 columns]"
            ]
          },
          "metadata": {
            "tags": []
          },
          "execution_count": 14
        }
      ]
    },
    {
      "cell_type": "code",
      "metadata": {
        "id": "EhmXcwIQ8kXA",
        "colab_type": "code",
        "colab": {
          "base_uri": "https://localhost:8080/",
          "height": 57
        },
        "outputId": "0a721947-a907-489e-d6d7-873aa52f48ad"
      },
      "source": [
        "# Number of violations each year per 1000 regulated facilities\n",
        "\n",
        "water_violations_metric = formatter((water_violations.shape[0] / water_fac) * 1000) #Divide by regulated facilities and multiply by desired rate (per 1000)\n",
        "violations[\"CWA\"] = water_violations_metric\n",
        "display(HTML(\"<h3>\"+water_violations_metric+\" violations per 1000 facilities</h3>\"))"
      ],
      "execution_count": null,
      "outputs": [
        {
          "output_type": "display_data",
          "data": {
            "text/html": [
              "<h3>413.62 violations per 1000 facilities</h3>"
            ],
            "text/plain": [
              "<IPython.core.display.HTML object>"
            ]
          },
          "metadata": {
            "tags": []
          }
        }
      ]
    },
    {
      "cell_type": "markdown",
      "metadata": {
        "id": "8rMriPuXpkA_",
        "colab_type": "text"
      },
      "source": [
        "## Enforcement Actions and Penalties under the Clean Water Act in 2019"
      ]
    },
    {
      "cell_type": "code",
      "metadata": {
        "id": "g2fIBDtppjeI",
        "colab_type": "code",
        "colab": {
          "base_uri": "https://localhost:8080/",
          "height": 450
        },
        "outputId": "c3fa53df-f22e-4aa6-f2bc-2286f6876536"
      },
      "source": [
        "# Find facilities with pollutant exceedences\n",
        "water_enforcements = None\n",
        "try:\n",
        "    sql = 'select \"NPDES_ID\", \"AGENCY\", \"ENF_TYPE_DESC\", \"SETTLEMENT_ENTERED_DATE\", \"FED_PENALTY_ASSESSED_AMT\", \"STATE_LOCAL_PENALTY_AMT\"' + \\\n",
        "        ' from \"NPDES_FORMAL_ENFORCEMENT_ACTIONS\" where \"SETTLEMENT_ENTERED_DATE\" like \\'__/__/2019\\''\n",
        "\n",
        "    water_enforcements = get_data( sql, \"NPDES_ID\" ) \n",
        "except EmptyDataError:\n",
        "    print( \"No data found\")\n",
        "water_enforcements"
      ],
      "execution_count": null,
      "outputs": [
        {
          "output_type": "execute_result",
          "data": {
            "text/html": [
              "<div>\n",
              "<style scoped>\n",
              "    .dataframe tbody tr th:only-of-type {\n",
              "        vertical-align: middle;\n",
              "    }\n",
              "\n",
              "    .dataframe tbody tr th {\n",
              "        vertical-align: top;\n",
              "    }\n",
              "\n",
              "    .dataframe thead th {\n",
              "        text-align: right;\n",
              "    }\n",
              "</style>\n",
              "<table border=\"1\" class=\"dataframe\">\n",
              "  <thead>\n",
              "    <tr style=\"text-align: right;\">\n",
              "      <th></th>\n",
              "      <th>AGENCY</th>\n",
              "      <th>ENF_TYPE_DESC</th>\n",
              "      <th>SETTLEMENT_ENTERED_DATE</th>\n",
              "      <th>FED_PENALTY_ASSESSED_AMT</th>\n",
              "      <th>STATE_LOCAL_PENALTY_AMT</th>\n",
              "    </tr>\n",
              "    <tr>\n",
              "      <th>NPDES_ID</th>\n",
              "      <th></th>\n",
              "      <th></th>\n",
              "      <th></th>\n",
              "      <th></th>\n",
              "      <th></th>\n",
              "    </tr>\n",
              "  </thead>\n",
              "  <tbody>\n",
              "    <tr>\n",
              "      <th>ALP000225</th>\n",
              "      <td>State</td>\n",
              "      <td>State Administrative Order of Consent</td>\n",
              "      <td>10/17/2019</td>\n",
              "      <td>NaN</td>\n",
              "      <td>29150.0</td>\n",
              "    </tr>\n",
              "    <tr>\n",
              "      <th>ALR10BDL7</th>\n",
              "      <td>State</td>\n",
              "      <td>State Administrative Order of Consent</td>\n",
              "      <td>07/19/2019</td>\n",
              "      <td>NaN</td>\n",
              "      <td>14000.0</td>\n",
              "    </tr>\n",
              "    <tr>\n",
              "      <th>AR0035696</th>\n",
              "      <td>State</td>\n",
              "      <td>State Administrative Order of Consent</td>\n",
              "      <td>07/10/2019</td>\n",
              "      <td>NaN</td>\n",
              "      <td>600.0</td>\n",
              "    </tr>\n",
              "    <tr>\n",
              "      <th>AR0048879</th>\n",
              "      <td>State</td>\n",
              "      <td>State Administrative Order of Consent</td>\n",
              "      <td>07/10/2019</td>\n",
              "      <td>NaN</td>\n",
              "      <td>NaN</td>\n",
              "    </tr>\n",
              "    <tr>\n",
              "      <th>CA0053597</th>\n",
              "      <td>State</td>\n",
              "      <td>State CWA Penalty AO</td>\n",
              "      <td>10/23/2019</td>\n",
              "      <td>NaN</td>\n",
              "      <td>NaN</td>\n",
              "    </tr>\n",
              "    <tr>\n",
              "      <th>...</th>\n",
              "      <td>...</td>\n",
              "      <td>...</td>\n",
              "      <td>...</td>\n",
              "      <td>...</td>\n",
              "      <td>...</td>\n",
              "    </tr>\n",
              "    <tr>\n",
              "      <th>TNU101369</th>\n",
              "      <td>State</td>\n",
              "      <td>State Administrative Order of Consent</td>\n",
              "      <td>10/16/2019</td>\n",
              "      <td>NaN</td>\n",
              "      <td>3840.0</td>\n",
              "    </tr>\n",
              "    <tr>\n",
              "      <th>TXR05CA36</th>\n",
              "      <td>State</td>\n",
              "      <td>State CWA Penalty AO</td>\n",
              "      <td>02/19/2019</td>\n",
              "      <td>NaN</td>\n",
              "      <td>25000.0</td>\n",
              "    </tr>\n",
              "    <tr>\n",
              "      <th>TXR05EJ33</th>\n",
              "      <td>State</td>\n",
              "      <td>State CWA Penalty AO</td>\n",
              "      <td>09/10/2019</td>\n",
              "      <td>NaN</td>\n",
              "      <td>875.0</td>\n",
              "    </tr>\n",
              "    <tr>\n",
              "      <th>TXR15804V</th>\n",
              "      <td>State</td>\n",
              "      <td>State CWA Penalty AO</td>\n",
              "      <td>08/13/2019</td>\n",
              "      <td>NaN</td>\n",
              "      <td>875.0</td>\n",
              "    </tr>\n",
              "    <tr>\n",
              "      <th>UTR383817</th>\n",
              "      <td>State</td>\n",
              "      <td>State CWA Penalty AO</td>\n",
              "      <td>09/03/2019</td>\n",
              "      <td>NaN</td>\n",
              "      <td>6000.0</td>\n",
              "    </tr>\n",
              "  </tbody>\n",
              "</table>\n",
              "<p>4018 rows × 5 columns</p>\n",
              "</div>"
            ],
            "text/plain": [
              "          AGENCY  ... STATE_LOCAL_PENALTY_AMT\n",
              "NPDES_ID          ...                        \n",
              "ALP000225  State  ...                 29150.0\n",
              "ALR10BDL7  State  ...                 14000.0\n",
              "AR0035696  State  ...                   600.0\n",
              "AR0048879  State  ...                     NaN\n",
              "CA0053597  State  ...                     NaN\n",
              "...          ...  ...                     ...\n",
              "TNU101369  State  ...                  3840.0\n",
              "TXR05CA36  State  ...                 25000.0\n",
              "TXR05EJ33  State  ...                   875.0\n",
              "TXR15804V  State  ...                   875.0\n",
              "UTR383817  State  ...                  6000.0\n",
              "\n",
              "[4018 rows x 5 columns]"
            ]
          },
          "metadata": {
            "tags": []
          },
          "execution_count": 16
        }
      ]
    },
    {
      "cell_type": "code",
      "metadata": {
        "id": "v7OKOgCz85l2",
        "colab_type": "code",
        "colab": {
          "base_uri": "https://localhost:8080/",
          "height": 57
        },
        "outputId": "28b2b43c-51eb-4c7b-9e96-6c0ee2527e3c"
      },
      "source": [
        "# Number of formal actions in 2019 per violation\n",
        "water_enforcements_metric = formatter(water_enforcements.shape[0]/water_violations.shape[0]) # Formal actions divided by number of violations\n",
        "enforcements[\"CWA\"] = water_enforcements_metric\n",
        "display(HTML(\"<h3>\"+water_enforcements_metric +\" formal enforcement actions per violation</h3>\"))"
      ],
      "execution_count": null,
      "outputs": [
        {
          "output_type": "display_data",
          "data": {
            "text/html": [
              "<h3>0.03 formal enforcement actions per violation</h3>"
            ],
            "text/plain": [
              "<IPython.core.display.HTML object>"
            ]
          },
          "metadata": {
            "tags": []
          }
        }
      ]
    },
    {
      "cell_type": "code",
      "metadata": {
        "id": "DCFkWo0N9XHl",
        "colab_type": "code",
        "colab": {
          "base_uri": "https://localhost:8080/",
          "height": 130
        },
        "outputId": "ee15a7a0-0e95-4d62-8145-0a4aa81e4956"
      },
      "source": [
        "# Penalties each year per violating facility\n",
        "water_penalties = water_enforcements.loc[water_enforcements[\"FED_PENALTY_ASSESSED_AMT\"]>0]\n",
        "water_penalties_metric = formatter(sum(water_penalties[\"FED_PENALTY_ASSESSED_AMT\"]) / len(water_violations.index.unique())) #Divide the sum of penalties by number of penalized facilities\n",
        "water_penalties_max = formatter(max(water_penalties[\"FED_PENALTY_ASSESSED_AMT\"])) \n",
        "water_penalties_min = formatter(min(water_penalties[\"FED_PENALTY_ASSESSED_AMT\"]))\n",
        "penalties[\"CWA\"] = water_penalties_metric\n",
        "display(HTML(\"<h3>$\"+water_penalties_metric +\" per facility in violation</h3>\"))\n",
        "display(HTML(\"<h3>Max: $\"+water_penalties_max +\"</h3>\"))\n",
        "display(HTML(\"<h3>Min: $\"+water_penalties_min +\"</h3>\"))"
      ],
      "execution_count": null,
      "outputs": [
        {
          "output_type": "display_data",
          "data": {
            "text/html": [
              "<h3>$258.14 per facility in violation</h3>"
            ],
            "text/plain": [
              "<IPython.core.display.HTML object>"
            ]
          },
          "metadata": {
            "tags": []
          }
        },
        {
          "output_type": "display_data",
          "data": {
            "text/html": [
              "<h3>Max: $976707.00</h3>"
            ],
            "text/plain": [
              "<IPython.core.display.HTML object>"
            ]
          },
          "metadata": {
            "tags": []
          }
        },
        {
          "output_type": "display_data",
          "data": {
            "text/html": [
              "<h3>Min: $600.00</h3>"
            ],
            "text/plain": [
              "<IPython.core.display.HTML object>"
            ]
          },
          "metadata": {
            "tags": []
          }
        }
      ]
    },
    {
      "cell_type": "markdown",
      "metadata": {
        "id": "kDFULgy2qPSD",
        "colab_type": "text"
      },
      "source": [
        "## RCRA inspections in 2019"
      ]
    },
    {
      "cell_type": "code",
      "metadata": {
        "id": "0Kq8C8oFqRKe",
        "colab_type": "code",
        "colab": {
          "base_uri": "https://localhost:8080/",
          "height": 450
        },
        "outputId": "03cac4d3-9b3d-44e1-f4cd-d3e2e14f91f9"
      },
      "source": [
        "# Find facilities with pollutant exceedences\n",
        "waste_inspections = None\n",
        "try:\n",
        "    sql = 'select * from \"RCRA_EVALUATIONS\" where \"EVALUATION_START_DATE\" like \\'__/__/2019\\''\n",
        "\n",
        "    waste_inspections = get_data( sql, \"ID_NUMBER\" ) \n",
        "except EmptyDataError:\n",
        "    print( \"No data found\")\n",
        "waste_inspections"
      ],
      "execution_count": null,
      "outputs": [
        {
          "output_type": "execute_result",
          "data": {
            "text/html": [
              "<div>\n",
              "<style scoped>\n",
              "    .dataframe tbody tr th:only-of-type {\n",
              "        vertical-align: middle;\n",
              "    }\n",
              "\n",
              "    .dataframe tbody tr th {\n",
              "        vertical-align: top;\n",
              "    }\n",
              "\n",
              "    .dataframe thead th {\n",
              "        text-align: right;\n",
              "    }\n",
              "</style>\n",
              "<table border=\"1\" class=\"dataframe\">\n",
              "  <thead>\n",
              "    <tr style=\"text-align: right;\">\n",
              "      <th></th>\n",
              "      <th>ACTIVITY_LOCATION</th>\n",
              "      <th>EVALUATION_IDENTIFIER</th>\n",
              "      <th>EVALUATION_TYPE</th>\n",
              "      <th>EVALUATION_DESC</th>\n",
              "      <th>EVALUATION_AGENCY</th>\n",
              "      <th>EVALUATION_START_DATE</th>\n",
              "      <th>FOUND_VIOLATION</th>\n",
              "    </tr>\n",
              "    <tr>\n",
              "      <th>ID_NUMBER</th>\n",
              "      <th></th>\n",
              "      <th></th>\n",
              "      <th></th>\n",
              "      <th></th>\n",
              "      <th></th>\n",
              "      <th></th>\n",
              "      <th></th>\n",
              "    </tr>\n",
              "  </thead>\n",
              "  <tbody>\n",
              "    <tr>\n",
              "      <th>ORQ000030450</th>\n",
              "      <td>OR</td>\n",
              "      <td>004</td>\n",
              "      <td>CEI</td>\n",
              "      <td>COMPLIANCE EVALUATION INSPECTION ON-SITE</td>\n",
              "      <td>S</td>\n",
              "      <td>01/17/2019</td>\n",
              "      <td>Y</td>\n",
              "    </tr>\n",
              "    <tr>\n",
              "      <th>MAD982196164</th>\n",
              "      <td>MA</td>\n",
              "      <td>001</td>\n",
              "      <td>CEI</td>\n",
              "      <td>COMPLIANCE EVALUATION INSPECTION ON-SITE</td>\n",
              "      <td>S</td>\n",
              "      <td>08/07/2019</td>\n",
              "      <td>N</td>\n",
              "    </tr>\n",
              "    <tr>\n",
              "      <th>ARD981147283</th>\n",
              "      <td>AR</td>\n",
              "      <td>001</td>\n",
              "      <td>CEI</td>\n",
              "      <td>COMPLIANCE EVALUATION INSPECTION ON-SITE</td>\n",
              "      <td>S</td>\n",
              "      <td>11/15/2019</td>\n",
              "      <td>Y</td>\n",
              "    </tr>\n",
              "    <tr>\n",
              "      <th>KYD053348108</th>\n",
              "      <td>KY</td>\n",
              "      <td>002</td>\n",
              "      <td>FRR</td>\n",
              "      <td>FINANCIAL RECORD REVIEW</td>\n",
              "      <td>S</td>\n",
              "      <td>11/18/2019</td>\n",
              "      <td>N</td>\n",
              "    </tr>\n",
              "    <tr>\n",
              "      <th>KYD981027469</th>\n",
              "      <td>KY</td>\n",
              "      <td>001</td>\n",
              "      <td>FRR</td>\n",
              "      <td>FINANCIAL RECORD REVIEW</td>\n",
              "      <td>S</td>\n",
              "      <td>11/18/2019</td>\n",
              "      <td>N</td>\n",
              "    </tr>\n",
              "    <tr>\n",
              "      <th>...</th>\n",
              "      <td>...</td>\n",
              "      <td>...</td>\n",
              "      <td>...</td>\n",
              "      <td>...</td>\n",
              "      <td>...</td>\n",
              "      <td>...</td>\n",
              "      <td>...</td>\n",
              "    </tr>\n",
              "    <tr>\n",
              "      <th>ARD093417525</th>\n",
              "      <td>AR</td>\n",
              "      <td>001</td>\n",
              "      <td>NRR</td>\n",
              "      <td>NON-FINANCIAL RECORD REVIEW</td>\n",
              "      <td>S</td>\n",
              "      <td>08/12/2019</td>\n",
              "      <td>N</td>\n",
              "    </tr>\n",
              "    <tr>\n",
              "      <th>IDR000206581</th>\n",
              "      <td>ID</td>\n",
              "      <td>001</td>\n",
              "      <td>CEI</td>\n",
              "      <td>COMPLIANCE EVALUATION INSPECTION ON-SITE</td>\n",
              "      <td>S</td>\n",
              "      <td>09/06/2019</td>\n",
              "      <td>Y</td>\n",
              "    </tr>\n",
              "    <tr>\n",
              "      <th>IDD073114654</th>\n",
              "      <td>ID</td>\n",
              "      <td>389</td>\n",
              "      <td>FCI</td>\n",
              "      <td>FOCUSED COMPLIANCE INSPECTION</td>\n",
              "      <td>S</td>\n",
              "      <td>09/05/2019</td>\n",
              "      <td>N</td>\n",
              "    </tr>\n",
              "    <tr>\n",
              "      <th>ARD983274911</th>\n",
              "      <td>AR</td>\n",
              "      <td>001</td>\n",
              "      <td>CEI</td>\n",
              "      <td>COMPLIANCE EVALUATION INSPECTION ON-SITE</td>\n",
              "      <td>S</td>\n",
              "      <td>08/20/2019</td>\n",
              "      <td>Y</td>\n",
              "    </tr>\n",
              "    <tr>\n",
              "      <th>OHD004274031</th>\n",
              "      <td>OH</td>\n",
              "      <td>107</td>\n",
              "      <td>CEI</td>\n",
              "      <td>COMPLIANCE EVALUATION INSPECTION ON-SITE</td>\n",
              "      <td>S</td>\n",
              "      <td>09/11/2019</td>\n",
              "      <td>N</td>\n",
              "    </tr>\n",
              "  </tbody>\n",
              "</table>\n",
              "<p>22600 rows × 7 columns</p>\n",
              "</div>"
            ],
            "text/plain": [
              "             ACTIVITY_LOCATION  ... FOUND_VIOLATION\n",
              "ID_NUMBER                       ...                \n",
              "ORQ000030450                OR  ...             Y  \n",
              "MAD982196164                MA  ...             N  \n",
              "ARD981147283                AR  ...             Y  \n",
              "KYD053348108                KY  ...             N  \n",
              "KYD981027469                KY  ...             N  \n",
              "...                        ...  ...             ...\n",
              "ARD093417525                AR  ...             N  \n",
              "IDR000206581                ID  ...             Y  \n",
              "IDD073114654                ID  ...             N  \n",
              "ARD983274911                AR  ...             Y  \n",
              "OHD004274031                OH  ...             N  \n",
              "\n",
              "[22600 rows x 7 columns]"
            ]
          },
          "metadata": {
            "tags": []
          },
          "execution_count": 19
        }
      ]
    },
    {
      "cell_type": "code",
      "metadata": {
        "id": "HasmoprP9o0Z",
        "colab_type": "code",
        "colab": {
          "base_uri": "https://localhost:8080/",
          "height": 57
        },
        "outputId": "3e16bea6-bdec-4ed5-c0a7-9db9e647aca4"
      },
      "source": [
        "# Number of inspections in 2019 per 1000 regulated facilities\n",
        "waste_inspections_metric = formatter((waste_inspections.shape[0] / waste_fac) * 1000) #Divide by regulated facilities and multiply by desired rate (per 1000)\n",
        "inspections[\"RCRA\"] = waste_inspections_metric\n",
        "display(HTML(\"<h3>\"+waste_inspections_metric+\" inspections per 1000 facilities</h3>\"))"
      ],
      "execution_count": null,
      "outputs": [
        {
          "output_type": "display_data",
          "data": {
            "text/html": [
              "<h3>37.30 inspections per 1000 facilities</h3>"
            ],
            "text/plain": [
              "<IPython.core.display.HTML object>"
            ]
          },
          "metadata": {
            "tags": []
          }
        }
      ]
    },
    {
      "cell_type": "markdown",
      "metadata": {
        "id": "3ycMCo9WqRT_",
        "colab_type": "text"
      },
      "source": [
        "## Violations of RCRA in 2019"
      ]
    },
    {
      "cell_type": "code",
      "metadata": {
        "id": "Jj-LlSbnqS3m",
        "colab_type": "code",
        "colab": {
          "base_uri": "https://localhost:8080/",
          "height": 450
        },
        "outputId": "172d0f39-8241-4ab3-dd8c-3d261dda0fb2"
      },
      "source": [
        "# Find facilities with pollutant exceedences\n",
        "waste_violations = None\n",
        "try:\n",
        "    sql = 'select * from \"RCRA_VIOLATIONS\" where \"DATE_VIOLATION_DETERMINED\" like \\'__/__/2019\\''\n",
        "\n",
        "    waste_violations = get_data( sql, \"ID_NUMBER\" ) \n",
        "except EmptyDataError:\n",
        "    print( \"No data found\")\n",
        "waste_violations"
      ],
      "execution_count": null,
      "outputs": [
        {
          "output_type": "execute_result",
          "data": {
            "text/html": [
              "<div>\n",
              "<style scoped>\n",
              "    .dataframe tbody tr th:only-of-type {\n",
              "        vertical-align: middle;\n",
              "    }\n",
              "\n",
              "    .dataframe tbody tr th {\n",
              "        vertical-align: top;\n",
              "    }\n",
              "\n",
              "    .dataframe thead th {\n",
              "        text-align: right;\n",
              "    }\n",
              "</style>\n",
              "<table border=\"1\" class=\"dataframe\">\n",
              "  <thead>\n",
              "    <tr style=\"text-align: right;\">\n",
              "      <th></th>\n",
              "      <th>ACTIVITY_LOCATION</th>\n",
              "      <th>VIOLATION_TYPE</th>\n",
              "      <th>VIOLATION_TYPE_DESC</th>\n",
              "      <th>VIOL_DETERMINED_BY_AGENCY</th>\n",
              "      <th>DATE_VIOLATION_DETERMINED</th>\n",
              "      <th>ACTUAL_RTC_DATE</th>\n",
              "      <th>SCHEDULED_COMPLIANCE_DATE</th>\n",
              "    </tr>\n",
              "    <tr>\n",
              "      <th>ID_NUMBER</th>\n",
              "      <th></th>\n",
              "      <th></th>\n",
              "      <th></th>\n",
              "      <th></th>\n",
              "      <th></th>\n",
              "      <th></th>\n",
              "      <th></th>\n",
              "    </tr>\n",
              "  </thead>\n",
              "  <tbody>\n",
              "    <tr>\n",
              "      <th>MID006020275</th>\n",
              "      <td>MI</td>\n",
              "      <td>262.D</td>\n",
              "      <td>Standards Applicable to Recordkeeping and Repo...</td>\n",
              "      <td>S</td>\n",
              "      <td>11/25/2019</td>\n",
              "      <td>NaN</td>\n",
              "      <td>NaN</td>\n",
              "    </tr>\n",
              "    <tr>\n",
              "      <th>DEN201500044</th>\n",
              "      <td>DE</td>\n",
              "      <td>261.A</td>\n",
              "      <td>ID and Listing of HW: General</td>\n",
              "      <td>S</td>\n",
              "      <td>05/22/2019</td>\n",
              "      <td>05/22/2019</td>\n",
              "      <td>NaN</td>\n",
              "    </tr>\n",
              "    <tr>\n",
              "      <th>SCD069316271</th>\n",
              "      <td>SC</td>\n",
              "      <td>273.B</td>\n",
              "      <td>Standards for Universal Waste Management: Stan...</td>\n",
              "      <td>S</td>\n",
              "      <td>12/17/2019</td>\n",
              "      <td>03/03/2020</td>\n",
              "      <td>NaN</td>\n",
              "    </tr>\n",
              "    <tr>\n",
              "      <th>LAD981512460</th>\n",
              "      <td>LA</td>\n",
              "      <td>262.C</td>\n",
              "      <td>Standards Applicable to Generators of HW: Pre-...</td>\n",
              "      <td>S</td>\n",
              "      <td>06/20/2019</td>\n",
              "      <td>11/12/2019</td>\n",
              "      <td>NaN</td>\n",
              "    </tr>\n",
              "    <tr>\n",
              "      <th>CAR000191650</th>\n",
              "      <td>CA</td>\n",
              "      <td>262.A</td>\n",
              "      <td>Standards Applicable to Generators of HW: General</td>\n",
              "      <td>E</td>\n",
              "      <td>10/01/2019</td>\n",
              "      <td>12/04/2019</td>\n",
              "      <td>NaN</td>\n",
              "    </tr>\n",
              "    <tr>\n",
              "      <th>...</th>\n",
              "      <td>...</td>\n",
              "      <td>...</td>\n",
              "      <td>...</td>\n",
              "      <td>...</td>\n",
              "      <td>...</td>\n",
              "      <td>...</td>\n",
              "      <td>...</td>\n",
              "    </tr>\n",
              "    <tr>\n",
              "      <th>FLD000823393</th>\n",
              "      <td>FL</td>\n",
              "      <td>273.B</td>\n",
              "      <td>Standards for Universal Waste Management: Stan...</td>\n",
              "      <td>E</td>\n",
              "      <td>04/02/2019</td>\n",
              "      <td>08/22/2019</td>\n",
              "      <td>NaN</td>\n",
              "    </tr>\n",
              "    <tr>\n",
              "      <th>FLD000823393</th>\n",
              "      <td>FL</td>\n",
              "      <td>262.M</td>\n",
              "      <td>Standards Applicable to Generators of HW: Prep...</td>\n",
              "      <td>E</td>\n",
              "      <td>04/02/2019</td>\n",
              "      <td>08/22/2019</td>\n",
              "      <td>NaN</td>\n",
              "    </tr>\n",
              "    <tr>\n",
              "      <th>MID985609056</th>\n",
              "      <td>MI</td>\n",
              "      <td>XXS</td>\n",
              "      <td>State Statutory or Regulatory requirements tha...</td>\n",
              "      <td>S</td>\n",
              "      <td>12/16/2019</td>\n",
              "      <td>NaN</td>\n",
              "      <td>NaN</td>\n",
              "    </tr>\n",
              "    <tr>\n",
              "      <th>MIK174443509</th>\n",
              "      <td>MI</td>\n",
              "      <td>262.D</td>\n",
              "      <td>Standards Applicable to Recordkeeping and Repo...</td>\n",
              "      <td>S</td>\n",
              "      <td>10/25/2019</td>\n",
              "      <td>11/07/2019</td>\n",
              "      <td>NaN</td>\n",
              "    </tr>\n",
              "    <tr>\n",
              "      <th>MIK368843843</th>\n",
              "      <td>MI</td>\n",
              "      <td>279.C</td>\n",
              "      <td>Standards for Used Oil: Generators</td>\n",
              "      <td>S</td>\n",
              "      <td>09/16/2019</td>\n",
              "      <td>10/30/2019</td>\n",
              "      <td>NaN</td>\n",
              "    </tr>\n",
              "  </tbody>\n",
              "</table>\n",
              "<p>14573 rows × 7 columns</p>\n",
              "</div>"
            ],
            "text/plain": [
              "             ACTIVITY_LOCATION  ... SCHEDULED_COMPLIANCE_DATE\n",
              "ID_NUMBER                       ...                          \n",
              "MID006020275                MI  ...                       NaN\n",
              "DEN201500044                DE  ...                       NaN\n",
              "SCD069316271                SC  ...                       NaN\n",
              "LAD981512460                LA  ...                       NaN\n",
              "CAR000191650                CA  ...                       NaN\n",
              "...                        ...  ...                       ...\n",
              "FLD000823393                FL  ...                       NaN\n",
              "FLD000823393                FL  ...                       NaN\n",
              "MID985609056                MI  ...                       NaN\n",
              "MIK174443509                MI  ...                       NaN\n",
              "MIK368843843                MI  ...                       NaN\n",
              "\n",
              "[14573 rows x 7 columns]"
            ]
          },
          "metadata": {
            "tags": []
          },
          "execution_count": 21
        }
      ]
    },
    {
      "cell_type": "code",
      "metadata": {
        "id": "gALP4P5y-ASz",
        "colab_type": "code",
        "colab": {
          "base_uri": "https://localhost:8080/",
          "height": 57
        },
        "outputId": "6b9f0181-008d-43fc-df37-91742f058fd7"
      },
      "source": [
        "# Number of violations in 2019 per 1000 regulated facilities\n",
        "waste_violations_metric = formatter((waste_violations.shape[0] / waste_fac) * 1000) #Divide by regulated facilities and multiply by desired rate (per 1000)\n",
        "violations[\"RCRA\"] = waste_violations_metric\n",
        "display(HTML(\"<h3>\"+waste_violations_metric+\" violations per 1000 facilities</h3>\"))"
      ],
      "execution_count": null,
      "outputs": [
        {
          "output_type": "display_data",
          "data": {
            "text/html": [
              "<h3>24.05 violations per 1000 facilities</h3>"
            ],
            "text/plain": [
              "<IPython.core.display.HTML object>"
            ]
          },
          "metadata": {
            "tags": []
          }
        }
      ]
    },
    {
      "cell_type": "markdown",
      "metadata": {
        "id": "HdGcQI-gqTBi",
        "colab_type": "text"
      },
      "source": [
        "## Enforcement Actions and Penalties under RCRA in 2019"
      ]
    },
    {
      "cell_type": "code",
      "metadata": {
        "id": "M8s_Z0M0qUfT",
        "colab_type": "code",
        "colab": {
          "base_uri": "https://localhost:8080/",
          "height": 552
        },
        "outputId": "05a74d17-f1a5-4a86-903f-78b02f4d7fe3"
      },
      "source": [
        "# Find facilities with enforcement actions\n",
        "waste_enforcements = None\n",
        "try:\n",
        "    sql = 'select * from \"RCRA_ENFORCEMENTS\" where \"ENFORCEMENT_ACTION_DATE\" like \\'__/__/2019\\''\n",
        "\n",
        "    waste_enforcements = get_data( sql, \"ID_NUMBER\" ) \n",
        "except EmptyDataError:\n",
        "    print( \"No data found\")\n",
        "waste_enforcements"
      ],
      "execution_count": null,
      "outputs": [
        {
          "output_type": "execute_result",
          "data": {
            "text/html": [
              "<div>\n",
              "<style scoped>\n",
              "    .dataframe tbody tr th:only-of-type {\n",
              "        vertical-align: middle;\n",
              "    }\n",
              "\n",
              "    .dataframe tbody tr th {\n",
              "        vertical-align: top;\n",
              "    }\n",
              "\n",
              "    .dataframe thead th {\n",
              "        text-align: right;\n",
              "    }\n",
              "</style>\n",
              "<table border=\"1\" class=\"dataframe\">\n",
              "  <thead>\n",
              "    <tr style=\"text-align: right;\">\n",
              "      <th></th>\n",
              "      <th>ACTIVITY_LOCATION</th>\n",
              "      <th>ENFORCEMENT_IDENTIFIER</th>\n",
              "      <th>ENFORCEMENT_TYPE</th>\n",
              "      <th>ENFORCEMENT_DESC</th>\n",
              "      <th>ENFORCEMENT_AGENCY</th>\n",
              "      <th>ENFORCEMENT_ACTION_DATE</th>\n",
              "      <th>PMP_AMOUNT</th>\n",
              "      <th>FMP_AMOUNT</th>\n",
              "      <th>FSC_AMOUNT</th>\n",
              "      <th>SCR_AMOUNT</th>\n",
              "    </tr>\n",
              "    <tr>\n",
              "      <th>ID_NUMBER</th>\n",
              "      <th></th>\n",
              "      <th></th>\n",
              "      <th></th>\n",
              "      <th></th>\n",
              "      <th></th>\n",
              "      <th></th>\n",
              "      <th></th>\n",
              "      <th></th>\n",
              "      <th></th>\n",
              "      <th></th>\n",
              "    </tr>\n",
              "  </thead>\n",
              "  <tbody>\n",
              "    <tr>\n",
              "      <th>AKD991281023</th>\n",
              "      <td>AK</td>\n",
              "      <td>001</td>\n",
              "      <td>HQ120</td>\n",
              "      <td>WRITTEN INFORMAL</td>\n",
              "      <td>E</td>\n",
              "      <td>11/19/2019</td>\n",
              "      <td>NaN</td>\n",
              "      <td>NaN</td>\n",
              "      <td>NaN</td>\n",
              "      <td>NaN</td>\n",
              "    </tr>\n",
              "    <tr>\n",
              "      <th>ALD046481032</th>\n",
              "      <td>AL</td>\n",
              "      <td>001</td>\n",
              "      <td>AL115</td>\n",
              "      <td>WARNING LETTER</td>\n",
              "      <td>S</td>\n",
              "      <td>06/10/2019</td>\n",
              "      <td>NaN</td>\n",
              "      <td>NaN</td>\n",
              "      <td>NaN</td>\n",
              "      <td>NaN</td>\n",
              "    </tr>\n",
              "    <tr>\n",
              "      <th>ALD057202558</th>\n",
              "      <td>AL</td>\n",
              "      <td>001</td>\n",
              "      <td>HQ120</td>\n",
              "      <td>WRITTEN INFORMAL</td>\n",
              "      <td>S</td>\n",
              "      <td>05/30/2019</td>\n",
              "      <td>NaN</td>\n",
              "      <td>NaN</td>\n",
              "      <td>NaN</td>\n",
              "      <td>NaN</td>\n",
              "    </tr>\n",
              "    <tr>\n",
              "      <th>ALD077647691</th>\n",
              "      <td>AL</td>\n",
              "      <td>001</td>\n",
              "      <td>HQ310</td>\n",
              "      <td>FINAL 3008(A) COMPLIANCE ORDER</td>\n",
              "      <td>S</td>\n",
              "      <td>02/21/2019</td>\n",
              "      <td>NaN</td>\n",
              "      <td>NaN</td>\n",
              "      <td>NaN</td>\n",
              "      <td>NaN</td>\n",
              "    </tr>\n",
              "    <tr>\n",
              "      <th>ALD981020894</th>\n",
              "      <td>AL</td>\n",
              "      <td>001</td>\n",
              "      <td>HQ140</td>\n",
              "      <td>LETTER OF INTENT TO INITIATE ENFORCEMENT ACTION</td>\n",
              "      <td>S</td>\n",
              "      <td>03/26/2019</td>\n",
              "      <td>NaN</td>\n",
              "      <td>NaN</td>\n",
              "      <td>NaN</td>\n",
              "      <td>NaN</td>\n",
              "    </tr>\n",
              "    <tr>\n",
              "      <th>...</th>\n",
              "      <td>...</td>\n",
              "      <td>...</td>\n",
              "      <td>...</td>\n",
              "      <td>...</td>\n",
              "      <td>...</td>\n",
              "      <td>...</td>\n",
              "      <td>...</td>\n",
              "      <td>...</td>\n",
              "      <td>...</td>\n",
              "      <td>...</td>\n",
              "    </tr>\n",
              "    <tr>\n",
              "      <th>WVR000547760</th>\n",
              "      <td>WV</td>\n",
              "      <td>001</td>\n",
              "      <td>HQ120</td>\n",
              "      <td>WRITTEN INFORMAL</td>\n",
              "      <td>S</td>\n",
              "      <td>11/21/2019</td>\n",
              "      <td>NaN</td>\n",
              "      <td>NaN</td>\n",
              "      <td>NaN</td>\n",
              "      <td>NaN</td>\n",
              "    </tr>\n",
              "    <tr>\n",
              "      <th>WIR000160010</th>\n",
              "      <td>WI</td>\n",
              "      <td>001</td>\n",
              "      <td>WI124</td>\n",
              "      <td>NOTICE OF NONCOMPLIANCE LETTER</td>\n",
              "      <td>S</td>\n",
              "      <td>05/01/2019</td>\n",
              "      <td>NaN</td>\n",
              "      <td>NaN</td>\n",
              "      <td>NaN</td>\n",
              "      <td>NaN</td>\n",
              "    </tr>\n",
              "    <tr>\n",
              "      <th>WIR000160150</th>\n",
              "      <td>WI</td>\n",
              "      <td>001</td>\n",
              "      <td>WI124</td>\n",
              "      <td>NOTICE OF NONCOMPLIANCE LETTER</td>\n",
              "      <td>S</td>\n",
              "      <td>02/11/2019</td>\n",
              "      <td>NaN</td>\n",
              "      <td>NaN</td>\n",
              "      <td>NaN</td>\n",
              "      <td>NaN</td>\n",
              "    </tr>\n",
              "    <tr>\n",
              "      <th>WIR000166371</th>\n",
              "      <td>WI</td>\n",
              "      <td>001</td>\n",
              "      <td>WI124</td>\n",
              "      <td>NOTICE OF NONCOMPLIANCE LETTER</td>\n",
              "      <td>S</td>\n",
              "      <td>06/12/2019</td>\n",
              "      <td>NaN</td>\n",
              "      <td>NaN</td>\n",
              "      <td>NaN</td>\n",
              "      <td>NaN</td>\n",
              "    </tr>\n",
              "    <tr>\n",
              "      <th>WIR000168880</th>\n",
              "      <td>WI</td>\n",
              "      <td>001</td>\n",
              "      <td>WI124</td>\n",
              "      <td>NOTICE OF NONCOMPLIANCE LETTER</td>\n",
              "      <td>S</td>\n",
              "      <td>03/12/2019</td>\n",
              "      <td>NaN</td>\n",
              "      <td>NaN</td>\n",
              "      <td>NaN</td>\n",
              "      <td>NaN</td>\n",
              "    </tr>\n",
              "  </tbody>\n",
              "</table>\n",
              "<p>6984 rows × 10 columns</p>\n",
              "</div>"
            ],
            "text/plain": [
              "             ACTIVITY_LOCATION ENFORCEMENT_IDENTIFIER  ... FSC_AMOUNT SCR_AMOUNT\n",
              "ID_NUMBER                                              ...                      \n",
              "AKD991281023                AK                    001  ...        NaN        NaN\n",
              "ALD046481032                AL                    001  ...        NaN        NaN\n",
              "ALD057202558                AL                    001  ...        NaN        NaN\n",
              "ALD077647691                AL                    001  ...        NaN        NaN\n",
              "ALD981020894                AL                    001  ...        NaN        NaN\n",
              "...                        ...                    ...  ...        ...        ...\n",
              "WVR000547760                WV                    001  ...        NaN        NaN\n",
              "WIR000160010                WI                    001  ...        NaN        NaN\n",
              "WIR000160150                WI                    001  ...        NaN        NaN\n",
              "WIR000166371                WI                    001  ...        NaN        NaN\n",
              "WIR000168880                WI                    001  ...        NaN        NaN\n",
              "\n",
              "[6984 rows x 10 columns]"
            ]
          },
          "metadata": {
            "tags": []
          },
          "execution_count": 23
        }
      ]
    },
    {
      "cell_type": "code",
      "metadata": {
        "id": "Qif-FilM-bns",
        "colab_type": "code",
        "colab": {
          "base_uri": "https://localhost:8080/",
          "height": 57
        },
        "outputId": "1d204079-2783-480d-8d02-6dab240c51f8"
      },
      "source": [
        "# Number of enforcement actions each year per violation\n",
        "waste_enforcements_metric = formatter(waste_enforcements.shape[0] / waste_violations.shape[0])\n",
        "enforcements[\"RCRA\"] = waste_enforcements_metric\n",
        "display(HTML(\"<h3>\"+waste_enforcements_metric+\" enforcement actions per violation</h3>\"))"
      ],
      "execution_count": null,
      "outputs": [
        {
          "output_type": "display_data",
          "data": {
            "text/html": [
              "<h3>0.48 enforcement actions per violation</h3>"
            ],
            "text/plain": [
              "<IPython.core.display.HTML object>"
            ]
          },
          "metadata": {
            "tags": []
          }
        }
      ]
    },
    {
      "cell_type": "code",
      "metadata": {
        "id": "MAPXMRZt-r-3",
        "colab_type": "code",
        "colab": {
          "base_uri": "https://localhost:8080/",
          "height": 130
        },
        "outputId": "1a774909-7422-4046-ea6e-f98e82aaf279"
      },
      "source": [
        "# Penalties each year per violating facility\n",
        "waste_penalties = waste_enforcements.loc[waste_enforcements[\"FMP_AMOUNT\"]>0]\n",
        "waste_penalties_metric = formatter(sum(waste_penalties[\"FMP_AMOUNT\"]) / len(waste_violations.index.unique())) #Divide by penalized facilities\n",
        "waste_penalties_max = formatter(max(waste_penalties[\"FMP_AMOUNT\"]))\n",
        "waste_penalties_min = formatter(min(waste_penalties[\"FMP_AMOUNT\"]))\n",
        "penalties[\"RCRA\"] = waste_penalties_metric\n",
        "display(HTML(\"<h3>$\"+waste_penalties_metric +\" per facility in violation</h3>\"))\n",
        "display(HTML(\"<h3>Max: $\"+waste_penalties_max +\"</h3>\"))\n",
        "display(HTML(\"<h3>Min: $\"+waste_penalties_min +\"</h3>\"))"
      ],
      "execution_count": null,
      "outputs": [
        {
          "output_type": "display_data",
          "data": {
            "text/html": [
              "<h3>$3169.69 per facility in violation</h3>"
            ],
            "text/plain": [
              "<IPython.core.display.HTML object>"
            ]
          },
          "metadata": {
            "tags": []
          }
        },
        {
          "output_type": "display_data",
          "data": {
            "text/html": [
              "<h3>Max: $2295000.00</h3>"
            ],
            "text/plain": [
              "<IPython.core.display.HTML object>"
            ]
          },
          "metadata": {
            "tags": []
          }
        },
        {
          "output_type": "display_data",
          "data": {
            "text/html": [
              "<h3>Min: $250.00</h3>"
            ],
            "text/plain": [
              "<IPython.core.display.HTML object>"
            ]
          },
          "metadata": {
            "tags": []
          }
        }
      ]
    },
    {
      "cell_type": "markdown",
      "metadata": {
        "id": "YQY2458NqUp9",
        "colab_type": "text"
      },
      "source": [
        "## Greenhouse Gas Emissions in 2018 (latest data available)"
      ]
    },
    {
      "cell_type": "code",
      "metadata": {
        "id": "DN8EVg29qW1k",
        "colab_type": "code",
        "colab": {
          "base_uri": "https://localhost:8080/",
          "height": 419
        },
        "outputId": "d53fb998-2e51-4964-c7aa-4a2a330f501d"
      },
      "source": [
        "# Find facilities with pollutant exceedences\n",
        "ghg_emissions = None\n",
        "try:\n",
        "    sql = 'select * from \"POLL_RPT_COMBINED_EMISSIONS\" where \"REPORTING_YEAR\" = \\'2018\\' and \"PGM_SYS_ACRNM\" = \\'E-GGRT\\''\n",
        "\n",
        "    ghg_emissions = get_data( sql) \n",
        "except EmptyDataError:\n",
        "    print( \"No data found\")\n",
        "ghg_emissions"
      ],
      "execution_count": null,
      "outputs": [
        {
          "output_type": "execute_result",
          "data": {
            "text/html": [
              "<div>\n",
              "<style scoped>\n",
              "    .dataframe tbody tr th:only-of-type {\n",
              "        vertical-align: middle;\n",
              "    }\n",
              "\n",
              "    .dataframe tbody tr th {\n",
              "        vertical-align: top;\n",
              "    }\n",
              "\n",
              "    .dataframe thead th {\n",
              "        text-align: right;\n",
              "    }\n",
              "</style>\n",
              "<table border=\"1\" class=\"dataframe\">\n",
              "  <thead>\n",
              "    <tr style=\"text-align: right;\">\n",
              "      <th></th>\n",
              "      <th>REPORTING_YEAR</th>\n",
              "      <th>REGISTRY_ID</th>\n",
              "      <th>PGM_SYS_ACRNM</th>\n",
              "      <th>PGM_SYS_ID</th>\n",
              "      <th>POLLUTANT_NAME</th>\n",
              "      <th>ANNUAL_EMISSION</th>\n",
              "      <th>UNIT_OF_MEASURE</th>\n",
              "      <th>NEI_TYPE</th>\n",
              "      <th>NEI_HAP_VOC_FLAG</th>\n",
              "    </tr>\n",
              "  </thead>\n",
              "  <tbody>\n",
              "    <tr>\n",
              "      <th>0</th>\n",
              "      <td>2018</td>\n",
              "      <td>110013317035</td>\n",
              "      <td>E-GGRT</td>\n",
              "      <td>1006363</td>\n",
              "      <td>Nitrous oxide</td>\n",
              "      <td>5.364</td>\n",
              "      <td>MTCO2e</td>\n",
              "      <td>NaN</td>\n",
              "      <td>NaN</td>\n",
              "    </tr>\n",
              "    <tr>\n",
              "      <th>1</th>\n",
              "      <td>2018</td>\n",
              "      <td>110001697799</td>\n",
              "      <td>E-GGRT</td>\n",
              "      <td>1003406</td>\n",
              "      <td>Carbon dioxide</td>\n",
              "      <td>20371.500</td>\n",
              "      <td>MTCO2e</td>\n",
              "      <td>NaN</td>\n",
              "      <td>NaN</td>\n",
              "    </tr>\n",
              "    <tr>\n",
              "      <th>2</th>\n",
              "      <td>2018</td>\n",
              "      <td>110001697799</td>\n",
              "      <td>E-GGRT</td>\n",
              "      <td>1003406</td>\n",
              "      <td>Methane</td>\n",
              "      <td>101086.750</td>\n",
              "      <td>MTCO2e</td>\n",
              "      <td>NaN</td>\n",
              "      <td>NaN</td>\n",
              "    </tr>\n",
              "    <tr>\n",
              "      <th>3</th>\n",
              "      <td>2018</td>\n",
              "      <td>110001697799</td>\n",
              "      <td>E-GGRT</td>\n",
              "      <td>1003406</td>\n",
              "      <td>Nitrous oxide</td>\n",
              "      <td>73.606</td>\n",
              "      <td>MTCO2e</td>\n",
              "      <td>NaN</td>\n",
              "      <td>NaN</td>\n",
              "    </tr>\n",
              "    <tr>\n",
              "      <th>4</th>\n",
              "      <td>2018</td>\n",
              "      <td>110001697799</td>\n",
              "      <td>E-GGRT</td>\n",
              "      <td>1003406</td>\n",
              "      <td>Carbon dioxide</td>\n",
              "      <td>647.000</td>\n",
              "      <td>MTCO2e</td>\n",
              "      <td>NaN</td>\n",
              "      <td>NaN</td>\n",
              "    </tr>\n",
              "    <tr>\n",
              "      <th>...</th>\n",
              "      <td>...</td>\n",
              "      <td>...</td>\n",
              "      <td>...</td>\n",
              "      <td>...</td>\n",
              "      <td>...</td>\n",
              "      <td>...</td>\n",
              "      <td>...</td>\n",
              "      <td>...</td>\n",
              "      <td>...</td>\n",
              "    </tr>\n",
              "    <tr>\n",
              "      <th>21678</th>\n",
              "      <td>2018</td>\n",
              "      <td>110007164736</td>\n",
              "      <td>E-GGRT</td>\n",
              "      <td>1002191</td>\n",
              "      <td>Methane</td>\n",
              "      <td>12632.500</td>\n",
              "      <td>MTCO2e</td>\n",
              "      <td>NaN</td>\n",
              "      <td>NaN</td>\n",
              "    </tr>\n",
              "    <tr>\n",
              "      <th>21679</th>\n",
              "      <td>2018</td>\n",
              "      <td>110007164736</td>\n",
              "      <td>E-GGRT</td>\n",
              "      <td>1002191</td>\n",
              "      <td>Carbon dioxide</td>\n",
              "      <td>38497.200</td>\n",
              "      <td>MTCO2e</td>\n",
              "      <td>NaN</td>\n",
              "      <td>NaN</td>\n",
              "    </tr>\n",
              "    <tr>\n",
              "      <th>21680</th>\n",
              "      <td>2018</td>\n",
              "      <td>110013970621</td>\n",
              "      <td>E-GGRT</td>\n",
              "      <td>1005241</td>\n",
              "      <td>Methane</td>\n",
              "      <td>13.000</td>\n",
              "      <td>MTCO2e</td>\n",
              "      <td>NaN</td>\n",
              "      <td>NaN</td>\n",
              "    </tr>\n",
              "    <tr>\n",
              "      <th>21681</th>\n",
              "      <td>2018</td>\n",
              "      <td>110013970621</td>\n",
              "      <td>E-GGRT</td>\n",
              "      <td>1005241</td>\n",
              "      <td>Nitrous oxide</td>\n",
              "      <td>15.496</td>\n",
              "      <td>MTCO2e</td>\n",
              "      <td>NaN</td>\n",
              "      <td>NaN</td>\n",
              "    </tr>\n",
              "    <tr>\n",
              "      <th>21682</th>\n",
              "      <td>2018</td>\n",
              "      <td>110013970621</td>\n",
              "      <td>E-GGRT</td>\n",
              "      <td>1005241</td>\n",
              "      <td>Carbon dioxide</td>\n",
              "      <td>27595.900</td>\n",
              "      <td>MTCO2e</td>\n",
              "      <td>NaN</td>\n",
              "      <td>NaN</td>\n",
              "    </tr>\n",
              "  </tbody>\n",
              "</table>\n",
              "<p>21683 rows × 9 columns</p>\n",
              "</div>"
            ],
            "text/plain": [
              "       REPORTING_YEAR   REGISTRY_ID  ... NEI_TYPE  NEI_HAP_VOC_FLAG\n",
              "0                2018  110013317035  ...      NaN               NaN\n",
              "1                2018  110001697799  ...      NaN               NaN\n",
              "2                2018  110001697799  ...      NaN               NaN\n",
              "3                2018  110001697799  ...      NaN               NaN\n",
              "4                2018  110001697799  ...      NaN               NaN\n",
              "...               ...           ...  ...      ...               ...\n",
              "21678            2018  110007164736  ...      NaN               NaN\n",
              "21679            2018  110007164736  ...      NaN               NaN\n",
              "21680            2018  110013970621  ...      NaN               NaN\n",
              "21681            2018  110013970621  ...      NaN               NaN\n",
              "21682            2018  110013970621  ...      NaN               NaN\n",
              "\n",
              "[21683 rows x 9 columns]"
            ]
          },
          "metadata": {
            "tags": []
          },
          "execution_count": 26
        }
      ]
    },
    {
      "cell_type": "code",
      "metadata": {
        "id": "WYm9skUM_OV7",
        "colab_type": "code",
        "colab": {
          "base_uri": "https://localhost:8080/",
          "height": 563
        },
        "outputId": "f9805c7e-d21b-4fd9-dfd9-22477c6f9216"
      },
      "source": [
        "# Emissions in 2019 per facility\n",
        "ghg_emissions_metric = formatter(np.nansum(ghg_emissions[\"ANNUAL_EMISSION\"]) / len(ghg_emissions[\"REGISTRY_ID\"].unique())) #Divide by reporting facility\n",
        "ghg_emissions_fac = ghg_emissions.groupby(\"PGM_SYS_ID\")[[\"ANNUAL_EMISSION\"]].sum() # Group by facility\n",
        "ghg_emissions_max = formatter(np.nanmax(ghg_emissions_fac[\"ANNUAL_EMISSION\"]))\n",
        "ghg_emissions_min = formatter(np.nanmin(ghg_emissions_fac.loc[ghg_emissions_fac[\"ANNUAL_EMISSION\"]>0][\"ANNUAL_EMISSION\"]))\n",
        "emissions[\"GHG\"] = ghg_emissions_metric\n",
        "display(HTML(\"<h3>\"+ghg_emissions_metric+\" MTCO2e (metric tons of carbon dioxide equivalent) emissions per reporting facility</h3>\"))\n",
        "display(HTML(\"<h3>Max: \"+ghg_emissions_max+\" MTCO2e (metric tons of carbon dioxide equivalent) emissions</h3>\"))\n",
        "display(HTML(\"<h3>Min: \"+ghg_emissions_min+\" MTCO2e (metric tons of carbon dioxide equivalent) emissions</h3>\"))\n",
        "ghg_emissions_fac"
      ],
      "execution_count": null,
      "outputs": [
        {
          "output_type": "display_data",
          "data": {
            "text/html": [
              "<h3>422134.34 MTCO2e (metric tons of carbon dioxide equivalent) emissions per reporting facility</h3>"
            ],
            "text/plain": [
              "<IPython.core.display.HTML object>"
            ]
          },
          "metadata": {
            "tags": []
          }
        },
        {
          "output_type": "display_data",
          "data": {
            "text/html": [
              "<h3>Max: 18429639.23 MTCO2e (metric tons of carbon dioxide equivalent) emissions</h3>"
            ],
            "text/plain": [
              "<IPython.core.display.HTML object>"
            ]
          },
          "metadata": {
            "tags": []
          }
        },
        {
          "output_type": "display_data",
          "data": {
            "text/html": [
              "<h3>Min: 0.60 MTCO2e (metric tons of carbon dioxide equivalent) emissions</h3>"
            ],
            "text/plain": [
              "<IPython.core.display.HTML object>"
            ]
          },
          "metadata": {
            "tags": []
          }
        },
        {
          "output_type": "execute_result",
          "data": {
            "text/html": [
              "<div>\n",
              "<style scoped>\n",
              "    .dataframe tbody tr th:only-of-type {\n",
              "        vertical-align: middle;\n",
              "    }\n",
              "\n",
              "    .dataframe tbody tr th {\n",
              "        vertical-align: top;\n",
              "    }\n",
              "\n",
              "    .dataframe thead th {\n",
              "        text-align: right;\n",
              "    }\n",
              "</style>\n",
              "<table border=\"1\" class=\"dataframe\">\n",
              "  <thead>\n",
              "    <tr style=\"text-align: right;\">\n",
              "      <th></th>\n",
              "      <th>ANNUAL_EMISSION</th>\n",
              "    </tr>\n",
              "    <tr>\n",
              "      <th>PGM_SYS_ID</th>\n",
              "      <th></th>\n",
              "    </tr>\n",
              "  </thead>\n",
              "  <tbody>\n",
              "    <tr>\n",
              "      <th>1000001</th>\n",
              "      <td>302529.480</td>\n",
              "    </tr>\n",
              "    <tr>\n",
              "      <th>1000002</th>\n",
              "      <td>110511.712</td>\n",
              "    </tr>\n",
              "    <tr>\n",
              "      <th>1000003</th>\n",
              "      <td>79393.210</td>\n",
              "    </tr>\n",
              "    <tr>\n",
              "      <th>1000004</th>\n",
              "      <td>55547.748</td>\n",
              "    </tr>\n",
              "    <tr>\n",
              "      <th>1000005</th>\n",
              "      <td>83863.020</td>\n",
              "    </tr>\n",
              "    <tr>\n",
              "      <th>...</th>\n",
              "      <td>...</td>\n",
              "    </tr>\n",
              "    <tr>\n",
              "      <th>1013419</th>\n",
              "      <td>28467.792</td>\n",
              "    </tr>\n",
              "    <tr>\n",
              "      <th>1013420</th>\n",
              "      <td>28356.444</td>\n",
              "    </tr>\n",
              "    <tr>\n",
              "      <th>1013481</th>\n",
              "      <td>29375.000</td>\n",
              "    </tr>\n",
              "    <tr>\n",
              "      <th>1013489</th>\n",
              "      <td>26073.752</td>\n",
              "    </tr>\n",
              "    <tr>\n",
              "      <th>1013497</th>\n",
              "      <td>53000.500</td>\n",
              "    </tr>\n",
              "  </tbody>\n",
              "</table>\n",
              "<p>7724 rows × 1 columns</p>\n",
              "</div>"
            ],
            "text/plain": [
              "            ANNUAL_EMISSION\n",
              "PGM_SYS_ID                 \n",
              "1000001          302529.480\n",
              "1000002          110511.712\n",
              "1000003           79393.210\n",
              "1000004           55547.748\n",
              "1000005           83863.020\n",
              "...                     ...\n",
              "1013419           28467.792\n",
              "1013420           28356.444\n",
              "1013481           29375.000\n",
              "1013489           26073.752\n",
              "1013497           53000.500\n",
              "\n",
              "[7724 rows x 1 columns]"
            ]
          },
          "metadata": {
            "tags": []
          },
          "execution_count": 27
        }
      ]
    },
    {
      "cell_type": "markdown",
      "metadata": {
        "id": "2ybjI0eGllRg",
        "colab_type": "text"
      },
      "source": [
        "# Data Export"
      ]
    },
    {
      "cell_type": "code",
      "metadata": {
        "id": "EGHkxhYzlrKp",
        "colab_type": "code",
        "colab": {
          "base_uri": "https://localhost:8080/",
          "height": 323
        },
        "outputId": "9638587e-6e83-48d2-87dc-09a8174d67ce"
      },
      "source": [
        "data = [inspections,\n",
        "violations,\n",
        "enforcements,\n",
        "penalties,\n",
        "emissions]\n",
        "\n",
        "units = [\"#inspections per 1000\",\n",
        "\"#violations per 1000\",\n",
        "\"#actions per facility in violation\",\n",
        "\"$ per facility in violation\",\n",
        "\"amount of emissions (metric tons)\"]\n",
        "\n",
        "short_units = [\"inspectionsper1000\",\n",
        "\"violationsper1000\",\n",
        "\"enforcementsperviolatingfacility\",\n",
        "\"penaltiesperviolatingfacility\",\n",
        "\"emissions2018\"]\n",
        "\n",
        "for index, program in enumerate(data):\n",
        "    # create dataframe\n",
        "    df = pd.DataFrame(program, index=[0]).T\n",
        "    df = df.rename(columns={0: units[index]})\n",
        "    filename= short_units[index]+\"_All_USA_pg4_081120.csv\" #active-facilities_All_MA-CD4_3b_080620.csv\n",
        "    df.to_csv(filename)\n",
        "    print(df)"
      ],
      "execution_count": null,
      "outputs": [
        {
          "output_type": "stream",
          "text": [
            "     #inspections per 1000\n",
            "CAA                 261.27\n",
            "CWA                 148.41\n",
            "RCRA                 37.30\n",
            "     #violations per 1000\n",
            "CAA                  4.38\n",
            "CWA                413.62\n",
            "RCRA                24.05\n",
            "     #actions per facility in violation\n",
            "CAA                                3.23\n",
            "CWA                                0.03\n",
            "RCRA                               0.48\n",
            "     $ per facility in violation\n",
            "CAA                    145670.14\n",
            "CWA                       258.14\n",
            "RCRA                     3169.69\n",
            "    amount of emissions (metric tons)\n",
            "GHG                         422134.34\n"
          ],
          "name": "stdout"
        }
      ]
    },
    {
      "cell_type": "code",
      "metadata": {
        "id": "ZPm-PEDiJyMH",
        "colab_type": "code",
        "colab": {}
      },
      "source": [
        ""
      ],
      "execution_count": null,
      "outputs": []
    }
  ]
}