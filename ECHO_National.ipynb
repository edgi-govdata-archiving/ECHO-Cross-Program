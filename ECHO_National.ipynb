{
  "nbformat": 4,
  "nbformat_minor": 0,
  "metadata": {
    "colab": {
      "name": "ECHO-National-092420.ipynb",
      "provenance": [],
      "collapsed_sections": [],
      "toc_visible": true
    },
    "kernelspec": {
      "display_name": "Python 3",
      "language": "python",
      "name": "python3"
    },
    "language_info": {
      "codemirror_mode": {
        "name": "ipython",
        "version": 3
      },
      "file_extension": ".py",
      "mimetype": "text/x-python",
      "name": "python",
      "nbconvert_exporter": "python",
      "pygments_lexer": "ipython3",
      "version": "3.7.2"
    }
  },
  "cells": [
    {
      "cell_type": "markdown",
      "metadata": {
        "colab_type": "text",
        "id": "Ylalhm0wbt2p"
      },
      "source": [
        "| ![EEW logo](https://github.com/edgi-govdata-archiving/EEW-Image-Assets/blob/master/Jupyter%20instructions/eew.jpg?raw=true) | ![EDGI logo](https://github.com/edgi-govdata-archiving/EEW-Image-Assets/blob/master/Jupyter%20instructions/edgi.png?raw=true) |\n",
        "|---|---|\n",
        "\n",
        "#### This notebook is licensed under GPL 3.0. Please visit our Github repo for more information:  https://github.com/edgi-govdata-archiving/ECHO-Cross-Program\n",
        "#### The notebook was collaboratively authored by the Environmental Data & Governance Initiative (EDGI) following our authorship protocol: https://docs.google.com/document/d/1CtDN5ZZ4Zv70fHiBTmWkDJ9mswEipX6eCYrwicP66Xw/\n",
        "#### For more information about this project, visit https://www.environmentalenforcementwatch.org/"
      ]
    },
    {
      "cell_type": "markdown",
      "metadata": {
        "colab_type": "text",
        "id": "xwpXPiNLbt2x"
      },
      "source": [
        "## How to Run this Notebook\n",
        "* If you click on a gray **code** cell, a little “play button” arrow appears on the left. If you click the play button, it will run the code in that cell (“**running** a cell”). The button will animate. When the animation stops, the cell has finished running.\n",
        "![Where to click to run the cell](https://github.com/edgi-govdata-archiving/EEW-Image-Assets/blob/master/Jupyter%20instructions/pressplay.JPG?raw=true)\n",
        "* You may get a warning that the notebook was not authored by Google. We know, we authored them! It’s okay. Click “Run Anyway” to continue. \n",
        "![Error Message](https://github.com/edgi-govdata-archiving/EEW-Image-Assets/blob/master/Jupyter%20instructions/warning-message.JPG?raw=true)\n",
        "* Run all of the cells in a Notebook to make a complete report. Please feel free to look at and **learn about each result as you create it**!\n",
        "\n",
        "---"
      ]
    },
    {
      "cell_type": "markdown",
      "metadata": {
        "colab_type": "text",
        "id": "vU4AqThS-37L"
      },
      "source": [
        "# Nationwide statistics about environmental compliance trends"
      ]
    },
    {
      "cell_type": "markdown",
      "metadata": {
        "colab_type": "text",
        "id": "czia5t5ebt20"
      },
      "source": [
        "## Setup\n",
        "Here we load some helper code to get us going."
      ]
    },
    {
      "cell_type": "code",
      "metadata": {
        "colab_type": "code",
        "id": "vF3iTaeCbt23",
        "colab": {}
      },
      "source": [
        "# Import code libraries\n",
        "!git clone https://github.com/edgi-govdata-archiving/ECHO_modules.git &>/dev/null;\n",
        "%run ECHO_modules/DataSet.py\n",
        "\n",
        "import urllib.parse\n",
        "import pandas as pd\n",
        "import numpy as np\n",
        "import matplotlib.pyplot as plt\n",
        "%matplotlib inline\n",
        "import requests\n",
        "import csv\n",
        "import datetime\n",
        "import folium\n",
        "from folium.plugins import FastMarkerCluster\n",
        "import ipywidgets as widgets\n",
        "from IPython.core.display import display, HTML\n",
        "from pandas.errors import EmptyDataError\n",
        "def formatter(value):\n",
        "  return \"{:0.2f}\".format(value)"
      ],
      "execution_count": null,
      "outputs": []
    },
    {
      "cell_type": "markdown",
      "metadata": {
        "colab_type": "text",
        "id": "F7ZY4G6kVwLj"
      },
      "source": [
        "Here we set up some code to help us store and eventually export the metrics."
      ]
    },
    {
      "cell_type": "code",
      "metadata": {
        "colab_type": "code",
        "id": "aDnEBqa9Vvuc",
        "colab": {}
      },
      "source": [
        "inspections = dict()\n",
        "violations = dict()\n",
        "enforcements = dict()\n",
        "penalties = dict()\n",
        "emissions = dict()"
      ],
      "execution_count": null,
      "outputs": []
    },
    {
      "cell_type": "markdown",
      "metadata": {
        "colab_type": "text",
        "id": "su7_wvKWbt3Z"
      },
      "source": [
        "## Start getting data\n",
        "First, get summary data from the ECHO_EXPORTER table."
      ]
    },
    {
      "cell_type": "code",
      "metadata": {
        "colab_type": "code",
        "id": "cBkHsLPtbt3c",
        "colab": {
          "base_uri": "https://localhost:8080/",
          "height": 589
        },
        "outputId": "cf2fb694-68fc-4c47-bc58-7b56f4c3a8c3"
      },
      "source": [
        "# Get everything we will need from ECHO_EXPORTER in a single DB query.\n",
        "# We can then use the full dataframe to specialize views of it.\n",
        "full_echo_data = None\n",
        "column_mapping = {\n",
        "    '\"REGISTRY_ID\"': str,\n",
        "    '\"FAC_NAME\"': str,\n",
        "    '\"FAC_LAT\"': float,\n",
        "    '\"FAC_LONG\"': float,\n",
        "    '\"AIR_IDS\"': str,\n",
        "    '\"NPDES_IDS\"': str,\n",
        "    '\"RCRA_IDS\"': str,\n",
        "    '\"DFR_URL\"': str,\n",
        "    '\"AIR_FLAG\"': str,\n",
        "    '\"NPDES_FLAG\"': str,\n",
        "    '\"GHG_FLAG\"': str,\n",
        "    '\"RCRA_FLAG\"': str,\n",
        "    '\"FAC_ACTIVE_FLAG\"': str\n",
        "}\n",
        "column_names = list( column_mapping.keys() )\n",
        "columns_string = ','.join( column_names )\n",
        "sql = 'select ' + columns_string + ' from \"ECHO_EXPORTER\" where \"AIR_FLAG\" = \\'Y\\' or \"NPDES_FLAG\" = \\'Y\\' or \"GHG_FLAG\" = \\'Y\\' or \"RCRA_FLAG\" = \\'Y\\''\n",
        "try:\n",
        "    # Don't index.\n",
        "    full_echo_data = get_data( sql )\n",
        "except EmptyDataError:\n",
        "    print(\"\\nThere are no EPA facilities for this query.\\n\")\n",
        "full_echo_data"
      ],
      "execution_count": null,
      "outputs": []
    },
    {
      "cell_type": "markdown",
      "metadata": {
        "colab_type": "text",
        "id": "Fnla1jRuQu75"
      },
      "source": [
        "## Number of Currently Regulated Facilities Per Program"
      ]
    },
    {
      "cell_type": "code",
      "metadata": {
        "colab_type": "code",
        "id": "mEcRLg9YRHZI",
        "colab": {
          "base_uri": "https://localhost:8080/",
          "height": 167
        },
        "outputId": "abcfcae6-b1de-4637-cb53-48dc02597a93"
      },
      "source": [
        "air_fac = full_echo_data.loc[(full_echo_data[\"AIR_FLAG\"]==\"Y\") & (full_echo_data[\"FAC_ACTIVE_FLAG\"]==\"Y\")].shape[0]\n",
        "water_fac = full_echo_data.loc[(full_echo_data[\"NPDES_FLAG\"]==\"Y\") & (full_echo_data[\"FAC_ACTIVE_FLAG\"]==\"Y\")].shape[0]\n",
        "waste_fac = full_echo_data.loc[(full_echo_data[\"RCRA_FLAG\"]==\"Y\") & (full_echo_data[\"FAC_ACTIVE_FLAG\"]==\"Y\")].shape[0]\n",
        "ghg_fac = full_echo_data.loc[(full_echo_data[\"GHG_FLAG\"]==\"Y\") & (full_echo_data[\"FAC_ACTIVE_FLAG\"]==\"Y\")].shape[0]\n",
        "\n",
        "display(HTML(\"<h3>There are \"+ str(air_fac) + \" facilities currently regulated under the Clean Air Act.</h3>\"))\n",
        "display(HTML(\"<h3>There are \"+ str(water_fac) + \" facilities currently regulated under the Clean Water Act.</h3>\"))\n",
        "display(HTML(\"<h3>There are \"+ str(waste_fac) + \" facilities currently regulated under RCRA (hazardous waste).</h3>\"))\n",
        "display(HTML(\"<h3>There are \"+ str(ghg_fac) + \" facilities currently reporting greenhouse gas emissions.</h3>\"))"
      ],
      "execution_count": null,
      "outputs": []
    },
    {
      "cell_type": "markdown",
      "metadata": {
        "colab_type": "text",
        "id": "TUf6AQfPbt3z"
      },
      "source": [
        "## Clean Air Act inspections in 2019"
      ]
    },
    {
      "cell_type": "code",
      "metadata": {
        "colab_type": "code",
        "id": "rGzitWnObt33",
        "colab": {
          "base_uri": "https://localhost:8080/",
          "height": 419
        },
        "outputId": "e4599437-306e-4c1e-889a-f3ed8625efdc"
      },
      "source": [
        "# Use SQL to search for and select the data about air stack tests\n",
        "air_inspections = None\n",
        "try:\n",
        "    sql = 'select * from \\\"ICIS-AIR_FCES_PCES\\\" where \\\"ACTUAL_END_DATE\\\" like \\'__-__-2019\\''\n",
        "\n",
        "    # Download the data from that URL\n",
        "    air_inspections = get_data( sql, 'pgm_sys_id' )\n",
        "except EmptyDataError:\n",
        "    print( \"No data found\")\n",
        "\n",
        "air_inspections"
      ],
      "execution_count": null,
      "outputs": []
    },
    {
      "cell_type": "code",
      "metadata": {
        "colab_type": "code",
        "id": "lZfbWeMnK7Yk",
        "colab": {
          "base_uri": "https://localhost:8080/",
          "height": 57
        },
        "outputId": "79be95c0-4998-4c32-aee8-f028e0069f31"
      },
      "source": [
        "# Number of inspections in 2019 per 1000 regulated facilities\n",
        "air_inspections_metric = formatter((air_inspections.shape[0] / air_fac) * 1000) # Divide by regulated facilities and multiply by desired rate (per 1000)\n",
        "inspections[\"CAA\"] = air_inspections_metric\n",
        "display(HTML(\"<h3>\"+ air_inspections_metric +\" inspections per 1000 facilities</h3>\"))"
      ],
      "execution_count": null,
      "outputs": []
    },
    {
      "cell_type": "markdown",
      "metadata": {
        "colab_type": "text",
        "id": "RMjxybzbbt5X"
      },
      "source": [
        "## Violations of the Clean Air Act in 2019\n",
        "\n"
      ]
    },
    {
      "cell_type": "code",
      "metadata": {
        "colab_type": "code",
        "id": "z1N2CuKTbt5Z",
        "colab": {
          "base_uri": "https://localhost:8080/",
          "height": 762
        },
        "outputId": "9e60389a-e05a-4ecf-e201-99dd691a2265"
      },
      "source": [
        "air_violations = None\n",
        "try:\n",
        "    sql = 'select * from \"ICIS-AIR_VIOLATION_HISTORY\" where \"EARLIEST_FRV_DETERM_DATE\" like \\'__-__-2019\\' or \"HPV_DAYZERO_DATE\" like \\'__-__-2019\\''\n",
        "\n",
        "    air_violations = get_data( sql, \"pgm_sys_id\" )\n",
        "\n",
        "    # Remove \"FACIL\" violations, which are paperwork violations according to: https://19january2017snapshot.epa.gov/sites/production/files/2013-10/documents/frvmemo.pdf\n",
        "    # air_violations = air_violations.loc[(air_violations[\"POLLUTANT_DESCS\"]!=\"FACIL\")]\n",
        "except EmptyDataError:\n",
        "    print( \"No data found\")\n",
        "air_violations"
      ],
      "execution_count": null,
      "outputs": []
    },
    {
      "cell_type": "code",
      "metadata": {
        "cellView": "both",
        "colab_type": "code",
        "id": "KUQs-_I045oc",
        "colab": {
          "base_uri": "https://localhost:8080/",
          "height": 57
        },
        "outputId": "afad56e9-5ba3-48b3-d6e4-ef248ec83142"
      },
      "source": [
        "# Number of high priority and federally reportable violations per 1000 regulated facilities\n",
        "air_violations_metric = formatter((air_violations.shape[0] / air_fac) * 1000) # Divide by regulated facilities and multiply by desired rate (per 1000)\n",
        "violations[\"CAA\"] = air_violations_metric\n",
        "display(HTML(\"<h3>\"+air_violations_metric+\" violations per 1000 facilities </h3>\"))"
      ],
      "execution_count": null,
      "outputs": []
    },
    {
      "cell_type": "markdown",
      "metadata": {
        "colab_type": "text",
        "id": "DGdQDifqo3Bg"
      },
      "source": [
        "## Formal Enforcement Actions and Penalties under the Clean Air Act in 2019"
      ]
    },
    {
      "cell_type": "code",
      "metadata": {
        "colab_type": "code",
        "id": "vKHjSEl6o0tp",
        "colab": {
          "base_uri": "https://localhost:8080/",
          "height": 436
        },
        "outputId": "bd2f0637-9791-4f47-aec6-ceb3656309ff"
      },
      "source": [
        "air_enforcements = None\n",
        "try:\n",
        "    sql = 'select * from \"ICIS-AIR_FORMAL_ACTIONS\" where \"SETTLEMENT_ENTERED_DATE\" like \\'__/__/2019\\''\n",
        "\n",
        "    air_enforcements = get_data( sql, \"pgm_sys_id\" )\n",
        "except EmptyDataError:\n",
        "    print( \"No data found\")\n",
        "air_enforcements"
      ],
      "execution_count": null,
      "outputs": []
    },
    {
      "cell_type": "code",
      "metadata": {
        "colab_type": "code",
        "id": "3LYD5_dd6bub",
        "colab": {
          "base_uri": "https://localhost:8080/",
          "height": 57
        },
        "outputId": "cf51d3f6-aeea-43af-8583-3fa180aae19e"
      },
      "source": [
        "# Number of formal actions in 2019 per violation\n",
        "air_enforcements_metric = formatter(air_enforcements.shape[0]/air_violations.shape[0]) # Formal actions divided by number of violations\n",
        "enforcements[\"CAA\"] = air_enforcements_metric\n",
        "display(HTML(\"<h3>\"+air_enforcements_metric +\" formal enforcement actions per violation</h3>\"))"
      ],
      "execution_count": null,
      "outputs": []
    },
    {
      "cell_type": "code",
      "metadata": {
        "colab_type": "code",
        "id": "Z7ykKG7V7G4b",
        "colab": {
          "base_uri": "https://localhost:8080/",
          "height": 130
        },
        "outputId": "ab2d34ae-bb9b-4f9f-d5eb-0f080ca408f8"
      },
      "source": [
        "# Penalties each year per violating facility\n",
        "air_penalties = air_enforcements.loc[air_enforcements[\"PENALTY_AMOUNT\"]>0]\n",
        "air_penalties_metric = formatter(sum(air_penalties[\"PENALTY_AMOUNT\"]) / len(air_violations[\"PGM_SYS_ID\"].unique())) #Divide the sum of penalties by number of violating facilities\n",
        "air_penalties_max = formatter(max(air_penalties[\"PENALTY_AMOUNT\"])) \n",
        "air_penalties_min = formatter(min(air_penalties[\"PENALTY_AMOUNT\"])) \n",
        "penalties[\"CAA\"] = air_penalties_metric\n",
        "display(HTML(\"<h3>$\"+air_penalties_metric +\" per facility in violation</h3>\"))\n",
        "display(HTML(\"<h3>Max: $\"+air_penalties_max +\"</h3>\"))\n",
        "display(HTML(\"<h3>Min: $\"+air_penalties_min +\"</h3>\"))"
      ],
      "execution_count": null,
      "outputs": []
    },
    {
      "cell_type": "markdown",
      "metadata": {
        "colab_type": "text",
        "id": "bevtiFu2bt6M"
      },
      "source": [
        "---"
      ]
    },
    {
      "cell_type": "markdown",
      "metadata": {
        "colab_type": "text",
        "id": "hOmeJnXgnzOC"
      },
      "source": [
        "## Clean Water Act inspections in 2019"
      ]
    },
    {
      "cell_type": "code",
      "metadata": {
        "colab_type": "code",
        "id": "gHXwXWcqnyNO",
        "colab": {
          "base_uri": "https://localhost:8080/",
          "height": 450
        },
        "outputId": "03564bb7-c922-4acd-cac5-453ec2993b2c"
      },
      "source": [
        "# Find facilities with pollutant exceedences\n",
        "water_inspections = None\n",
        "try:\n",
        "    sql = 'select \"NPDES_ID\", \"REGISTRY_ID\", \"ACTUAL_END_DATE\", \"STATE_EPA_FLAG\"' + \\\n",
        "        ' from \"NPDES_INSPECTIONS\" where \"ACTUAL_END_DATE\" like \\'__/__/2019\\''\n",
        "\n",
        "    water_inspections = get_data( sql, \"NPDES_ID\" ) \n",
        "except EmptyDataError:\n",
        "    print( \"No data found\")\n",
        "water_inspections"
      ],
      "execution_count": null,
      "outputs": []
    },
    {
      "cell_type": "code",
      "metadata": {
        "colab_type": "code",
        "id": "YoBlWh8V8BD-",
        "colab": {
          "base_uri": "https://localhost:8080/",
          "height": 57
        },
        "outputId": "22511433-4954-456b-b026-708912b30f55"
      },
      "source": [
        "# Number of inspections in 2019 per 1000 regulated facilities\n",
        "water_inspections_metric = formatter((water_inspections.shape[0] / water_fac) * 1000) #Divide by regulated facilities and multiply by desired rate (per 1000)\n",
        "inspections[\"CWA\"] = water_inspections_metric\n",
        "display(HTML(\"<h3>\"+water_inspections_metric +\" inspections per 1000 facilities</h3>\"))"
      ],
      "execution_count": null,
      "outputs": []
    },
    {
      "cell_type": "markdown",
      "metadata": {
        "colab_type": "text",
        "id": "C6ntT917bt6N"
      },
      "source": [
        "## Violations of the Clean Water Act in 2019"
      ]
    },
    {
      "cell_type": "code",
      "metadata": {
        "colab_type": "code",
        "id": "FmsI5gJAbt6P",
        "colab": {
          "base_uri": "https://localhost:8080/",
          "height": 450
        },
        "outputId": "1b93bacc-9a35-42a2-d5b4-e2dfe466ec1f"
      },
      "source": [
        "# Find facilities with water permit violations\n",
        "water_violations = None\n",
        "try:\n",
        "    sql = 'select * from \"NPDES_QNCR_HISTORY\" where \"YEARQTR\" = 20191 or \"YEARQTR\" = 20192 or \"YEARQTR\" = 20193 or \"YEARQTR\" = 20194'\n",
        "    water_violations = get_data( sql, \"NPDES_ID\" ) \n",
        "except EmptyDataError:\n",
        "    print( \"No data found\")\n",
        "water_violations"
      ],
      "execution_count": null,
      "outputs": []
    },
    {
      "cell_type": "code",
      "metadata": {
        "colab_type": "code",
        "id": "EhmXcwIQ8kXA",
        "colab": {
          "base_uri": "https://localhost:8080/",
          "height": 57
        },
        "outputId": "63f027fe-9dce-47af-df91-33c968e3112b"
      },
      "source": [
        "# Number of violations each year per 1000 regulated facilities\n",
        "# Sum violations \n",
        "water_violations[\"Sum\"] = water_violations[\"NUME90Q\"]\t+ water_violations[\"NUMCVDT\"] + water_violations[\"NUMSVCD\"]\t+ water_violations[\"NUMPSCH\"]\n",
        "water_violations_metric = formatter((np.sum(water_violations[\"Sum\"]) / water_fac) * 1000) #Divide by regulated facilities and multiply by desired rate (per 1000)\n",
        "violations[\"CWA\"] = water_violations_metric\n",
        "display(HTML(\"<h3>\"+water_violations_metric+\" violations per 1000 facilities</h3>\"))"
      ],
      "execution_count": null,
      "outputs": []
    },
    {
      "cell_type": "markdown",
      "metadata": {
        "colab_type": "text",
        "id": "8rMriPuXpkA_"
      },
      "source": [
        "## Enforcement Actions and Penalties under the Clean Water Act in 2019"
      ]
    },
    {
      "cell_type": "code",
      "metadata": {
        "colab_type": "code",
        "id": "g2fIBDtppjeI",
        "colab": {
          "base_uri": "https://localhost:8080/",
          "height": 450
        },
        "outputId": "69ee9d0e-7a64-4dd6-bdde-3e3aaa591a34"
      },
      "source": [
        "# Find facilities with pollutant exceedences\n",
        "water_enforcements = None\n",
        "try:\n",
        "    sql = 'select \"NPDES_ID\", \"AGENCY\", \"ENF_TYPE_DESC\", \"SETTLEMENT_ENTERED_DATE\", \"FED_PENALTY_ASSESSED_AMT\", \"STATE_LOCAL_PENALTY_AMT\"' + \\\n",
        "        ' from \"NPDES_FORMAL_ENFORCEMENT_ACTIONS\" where \"SETTLEMENT_ENTERED_DATE\" like \\'__/__/2019\\''\n",
        "\n",
        "    water_enforcements = get_data( sql, \"NPDES_ID\" ) \n",
        "except EmptyDataError:\n",
        "    print( \"No data found\")\n",
        "water_enforcements"
      ],
      "execution_count": null,
      "outputs": []
    },
    {
      "cell_type": "code",
      "metadata": {
        "colab_type": "code",
        "id": "v7OKOgCz85l2",
        "colab": {
          "base_uri": "https://localhost:8080/",
          "height": 57
        },
        "outputId": "591db741-ab45-4be6-a956-b5ab85ea378e"
      },
      "source": [
        "# Number of formal actions in 2019 per violation\n",
        "water_enforcements_metric = formatter(water_enforcements.shape[0]/water_violations.shape[0]) # Formal actions divided by number of violations\n",
        "enforcements[\"CWA\"] = water_enforcements_metric\n",
        "display(HTML(\"<h3>\"+water_enforcements_metric +\" formal enforcement actions per violation</h3>\"))"
      ],
      "execution_count": null,
      "outputs": []
    },
    {
      "cell_type": "code",
      "metadata": {
        "colab_type": "code",
        "id": "DCFkWo0N9XHl",
        "colab": {
          "base_uri": "https://localhost:8080/",
          "height": 130
        },
        "outputId": "21c7fd43-4bb6-4b48-d719-d5aa4c6290e0"
      },
      "source": [
        "# Penalties each year per violating facility\n",
        "# Find violating facilities (not all in NPDES QNCR are violating...)\n",
        "water_violators = water_violations.loc[water_violations[\"Sum\"]>0]\n",
        "water_violators = len(water_violators.index.unique())\n",
        "water_enforcements[\"StateLocalFedFines\"] = water_enforcements[\"FED_PENALTY_ASSESSED_AMT\"].fillna(0) + water_enforcements[\"STATE_LOCAL_PENALTY_AMT\"].fillna(0)\n",
        "water_penalties = water_enforcements.loc[water_enforcements[\"StateLocalFedFines\"]>0]\n",
        "water_penalties_metric = formatter(sum(water_penalties[\"StateLocalFedFines\"]) / water_violators) #Divide the sum of penalties by number of penalized facilities\n",
        "water_penalties_max = formatter(max(water_penalties[\"StateLocalFedFines\"])) \n",
        "water_penalties_min = formatter(min(water_penalties[\"StateLocalFedFines\"]))\n",
        "penalties[\"CWA\"] = water_penalties_metric\n",
        "display(HTML(\"<h3>$\"+water_penalties_metric +\" per facility in violation</h3>\"))\n",
        "display(HTML(\"<h3>Max: $\"+water_penalties_max +\"</h3>\"))\n",
        "display(HTML(\"<h3>Min: $\"+water_penalties_min +\"</h3>\"))"
      ],
      "execution_count": null,
      "outputs": []
    },
    {
      "cell_type": "markdown",
      "metadata": {
        "colab_type": "text",
        "id": "kDFULgy2qPSD"
      },
      "source": [
        "## RCRA inspections in 2019"
      ]
    },
    {
      "cell_type": "code",
      "metadata": {
        "colab_type": "code",
        "id": "0Kq8C8oFqRKe",
        "colab": {
          "base_uri": "https://localhost:8080/",
          "height": 450
        },
        "outputId": "b9c04596-940e-4d25-ccf7-28a3275565a5"
      },
      "source": [
        "# Find facilities with pollutant exceedences\n",
        "waste_inspections = None\n",
        "try:\n",
        "    sql = 'select * from \"RCRA_EVALUATIONS\" where \"EVALUATION_START_DATE\" like \\'__/__/2019\\''\n",
        "\n",
        "    waste_inspections = get_data( sql, \"ID_NUMBER\" ) \n",
        "except EmptyDataError:\n",
        "    print( \"No data found\")\n",
        "waste_inspections"
      ],
      "execution_count": null,
      "outputs": []
    },
    {
      "cell_type": "code",
      "metadata": {
        "colab_type": "code",
        "id": "HasmoprP9o0Z",
        "colab": {
          "base_uri": "https://localhost:8080/",
          "height": 57
        },
        "outputId": "33314370-f40a-40b3-cf23-beb56e30cea0"
      },
      "source": [
        "# Number of inspections in 2019 per 1000 regulated facilities\n",
        "waste_inspections_metric = formatter((waste_inspections.shape[0] / waste_fac) * 1000) #Divide by regulated facilities and multiply by desired rate (per 1000)\n",
        "inspections[\"RCRA\"] = waste_inspections_metric\n",
        "display(HTML(\"<h3>\"+waste_inspections_metric+\" inspections per 1000 facilities</h3>\"))"
      ],
      "execution_count": null,
      "outputs": []
    },
    {
      "cell_type": "markdown",
      "metadata": {
        "colab_type": "text",
        "id": "3ycMCo9WqRT_"
      },
      "source": [
        "## Violations of RCRA in 2019"
      ]
    },
    {
      "cell_type": "code",
      "metadata": {
        "colab_type": "code",
        "id": "Jj-LlSbnqS3m",
        "colab": {
          "base_uri": "https://localhost:8080/",
          "height": 450
        },
        "outputId": "dc27dd8c-45d0-4b80-9911-8a2e87e0efb4"
      },
      "source": [
        "# Find facilities with pollutant exceedences\n",
        "waste_violations = None\n",
        "try:\n",
        "    sql = 'select * from \"RCRA_VIOLATIONS\" where \"DATE_VIOLATION_DETERMINED\" like \\'__/__/2019\\''\n",
        "\n",
        "    waste_violations = get_data( sql, \"ID_NUMBER\" ) \n",
        "except EmptyDataError:\n",
        "    print( \"No data found\")\n",
        "waste_violations"
      ],
      "execution_count": null,
      "outputs": []
    },
    {
      "cell_type": "code",
      "metadata": {
        "colab_type": "code",
        "id": "gALP4P5y-ASz",
        "colab": {
          "base_uri": "https://localhost:8080/",
          "height": 57
        },
        "outputId": "510291ce-e187-4ed8-d632-3f7d400ed462"
      },
      "source": [
        "# Number of violations in 2019 per 1000 regulated facilities\n",
        "waste_violations_metric = formatter((waste_violations.shape[0] / waste_fac) * 1000) #Divide by regulated facilities and multiply by desired rate (per 1000)\n",
        "violations[\"RCRA\"] = waste_violations_metric\n",
        "display(HTML(\"<h3>\"+waste_violations_metric+\" violations per 1000 facilities</h3>\"))"
      ],
      "execution_count": null,
      "outputs": []
    },
    {
      "cell_type": "markdown",
      "metadata": {
        "colab_type": "text",
        "id": "HdGcQI-gqTBi"
      },
      "source": [
        "## Enforcement Actions and Penalties under RCRA in 2019"
      ]
    },
    {
      "cell_type": "code",
      "metadata": {
        "colab_type": "code",
        "id": "M8s_Z0M0qUfT",
        "colab": {
          "base_uri": "https://localhost:8080/",
          "height": 501
        },
        "outputId": "4bd61e6b-517b-42bb-9a5e-54224a3ed0f4"
      },
      "source": [
        "# Find facilities with enforcement actions\n",
        "waste_enforcements = None\n",
        "try:\n",
        "    sql = 'select * from \"RCRA_ENFORCEMENTS\" where \"ENFORCEMENT_ACTION_DATE\" like \\'__/__/2019\\''\n",
        "\n",
        "    waste_enforcements = get_data( sql, \"ID_NUMBER\" ) \n",
        "except EmptyDataError:\n",
        "    print( \"No data found\")\n",
        "waste_enforcements"
      ],
      "execution_count": null,
      "outputs": []
    },
    {
      "cell_type": "code",
      "metadata": {
        "colab_type": "code",
        "id": "Qif-FilM-bns",
        "colab": {
          "base_uri": "https://localhost:8080/",
          "height": 57
        },
        "outputId": "746a189a-4096-4096-d1a6-5f4c41c87dad"
      },
      "source": [
        "# Number of enforcement actions each year per violation\n",
        "waste_enforcements_metric = formatter(waste_enforcements.shape[0] / waste_violations.shape[0])\n",
        "enforcements[\"RCRA\"] = waste_enforcements_metric\n",
        "display(HTML(\"<h3>\"+waste_enforcements_metric+\" enforcement actions per violation</h3>\"))"
      ],
      "execution_count": null,
      "outputs": []
    },
    {
      "cell_type": "code",
      "metadata": {
        "colab_type": "code",
        "id": "MAPXMRZt-r-3",
        "colab": {
          "base_uri": "https://localhost:8080/",
          "height": 130
        },
        "outputId": "65da3456-bbe7-4359-d15c-c58083f013ce"
      },
      "source": [
        "# Penalties each year per violating facility\n",
        "waste_penalties = waste_enforcements.loc[waste_enforcements[\"FMP_AMOUNT\"]>0]\n",
        "waste_penalties_metric = formatter(sum(waste_penalties[\"FMP_AMOUNT\"]) / len(waste_violations.index.unique())) #Divide by penalized facilities\n",
        "waste_penalties_max = formatter(max(waste_penalties[\"FMP_AMOUNT\"]))\n",
        "waste_penalties_min = formatter(min(waste_penalties[\"FMP_AMOUNT\"]))\n",
        "penalties[\"RCRA\"] = waste_penalties_metric\n",
        "display(HTML(\"<h3>$\"+waste_penalties_metric +\" per facility in violation</h3>\"))\n",
        "display(HTML(\"<h3>Max: $\"+waste_penalties_max +\"</h3>\"))\n",
        "display(HTML(\"<h3>Min: $\"+waste_penalties_min +\"</h3>\"))"
      ],
      "execution_count": null,
      "outputs": []
    },
    {
      "cell_type": "markdown",
      "metadata": {
        "colab_type": "text",
        "id": "YQY2458NqUp9"
      },
      "source": [
        "## Greenhouse Gas Emissions in 2018 (latest data available)"
      ]
    },
    {
      "cell_type": "code",
      "metadata": {
        "colab_type": "code",
        "id": "DN8EVg29qW1k",
        "colab": {
          "base_uri": "https://localhost:8080/",
          "height": 419
        },
        "outputId": "91e47cab-7f42-4cfc-c9da-5c38e86004b6"
      },
      "source": [
        "# Find GHG emissions\n",
        "ghg_emissions = None\n",
        "try:\n",
        "    sql = 'select * from \"POLL_RPT_COMBINED_EMISSIONS\" where \"REPORTING_YEAR\" = \\'2018\\' and \"PGM_SYS_ACRNM\" = \\'E-GGRT\\''\n",
        "\n",
        "    ghg_emissions = get_data( sql) \n",
        "except EmptyDataError:\n",
        "    print( \"No data found\")\n",
        "ghg_emissions"
      ],
      "execution_count": null,
      "outputs": []
    },
    {
      "cell_type": "code",
      "metadata": {
        "colab_type": "code",
        "id": "WYm9skUM_OV7",
        "colab": {
          "base_uri": "https://localhost:8080/",
          "height": 563
        },
        "outputId": "1902b31b-9b3e-4495-aaf3-e97911054783"
      },
      "source": [
        "# Emissions in 2018 per facility\n",
        "ghg_emissions_metric = formatter(np.nansum(ghg_emissions[\"ANNUAL_EMISSION\"]) / len(ghg_emissions[\"REGISTRY_ID\"].unique())) #Divide by reporting facility\n",
        "ghg_emissions_fac = ghg_emissions.groupby(\"PGM_SYS_ID\")[[\"ANNUAL_EMISSION\"]].sum() # Group by facility\n",
        "ghg_emissions_max = formatter(np.nanmax(ghg_emissions_fac[\"ANNUAL_EMISSION\"]))\n",
        "ghg_emissions_min = formatter(np.nanmin(ghg_emissions_fac.loc[ghg_emissions_fac[\"ANNUAL_EMISSION\"]>0][\"ANNUAL_EMISSION\"]))\n",
        "emissions[\"GHG\"] = ghg_emissions_metric\n",
        "display(HTML(\"<h3>\"+ghg_emissions_metric+\" MTCO2e (metric tons of carbon dioxide equivalent) emissions per reporting facility</h3>\"))\n",
        "display(HTML(\"<h3>Max: \"+ghg_emissions_max+\" MTCO2e (metric tons of carbon dioxide equivalent) emissions</h3>\"))\n",
        "display(HTML(\"<h3>Min: \"+ghg_emissions_min+\" MTCO2e (metric tons of carbon dioxide equivalent) emissions</h3>\"))\n",
        "ghg_emissions_fac"
      ],
      "execution_count": null,
      "outputs": []
    },
    {
      "cell_type": "markdown",
      "metadata": {
        "colab_type": "text",
        "id": "2ybjI0eGllRg"
      },
      "source": [
        "# Data Export"
      ]
    },
    {
      "cell_type": "code",
      "metadata": {
        "colab_type": "code",
        "id": "EGHkxhYzlrKp",
        "colab": {
          "base_uri": "https://localhost:8080/",
          "height": 323
        },
        "outputId": "fd52c7fe-262f-41b5-927a-ae31062f77f2"
      },
      "source": [
        "data = [inspections,\n",
        "violations,\n",
        "enforcements,\n",
        "penalties,\n",
        "emissions]\n",
        "\n",
        "units = [\"#inspections per 1000\",\n",
        "\"#violations per 1000\",\n",
        "\"#actions per facility in violation\",\n",
        "\"$ per facility in violation\",\n",
        "\"amount of emissions (metric tons)\"]\n",
        "\n",
        "short_units = [\"inspectionsper1000\",\n",
        "\"violationsper1000\",\n",
        "\"enforcementsperviolatingfacility\",\n",
        "\"penaltiesperviolatingfacility\",\n",
        "\"emissions2018\"]\n",
        "\n",
        "for index, program in enumerate(data):\n",
        "    # create dataframe\n",
        "    df = pd.DataFrame(program, index=[0]).T\n",
        "    df = df.rename(columns={0: units[index]})\n",
        "    filename= short_units[index]+\"_All_USA_pg4_090120.csv\" #active-facilities_All_MA-CD4_3b_080620.csv\n",
        "    df.to_csv(filename)\n",
        "    print(df)"
      ],
      "execution_count": null,
      "outputs": []
    },
    {
      "cell_type": "code",
      "metadata": {
        "colab_type": "code",
        "id": "ZPm-PEDiJyMH",
        "colab": {}
      },
      "source": [
        ""
      ],
      "execution_count": null,
      "outputs": []
    }
  ]
}