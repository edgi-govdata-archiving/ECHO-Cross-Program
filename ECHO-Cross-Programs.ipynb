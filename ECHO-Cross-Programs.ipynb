{
 "cells": [
  {
   "cell_type": "markdown",
   "metadata": {
    "id": "UdGOD19kaRLB"
   },
   "source": [
    "| ![EEW logo](https://github.com/edgi-govdata-archiving/EEW-Image-Assets/blob/master/Jupyter%20instructions/eew.jpg?raw=true) | ![EDGI logo](https://github.com/edgi-govdata-archiving/EEW-Image-Assets/blob/master/Jupyter%20instructions/edgi.png?raw=true) |\n",
    "|---|---|\n",
    "\n",
    "This notebook is licensed under GPL 3.0. Please visit our [Github repo](https://github.com/edgi-govdata-archiving/ECHO-Cross-Program) for more information.\n",
    "\n",
    "The notebook was collaboratively authored by EDGI following our [authorship protocol](https://docs.google.com/document/d/1CtDN5ZZ4Zv70fHiBTmWkDJ9mswEipX6eCYrwicP66Xw/).\n",
    "\n",
    "For more information about this project, visit https://www.environmentalenforcementwatch.org/"
   ]
  },
  {
   "cell_type": "markdown",
   "metadata": {
    "id": "TzKJgzg1aRLI"
   },
   "source": [
    "Note:  This notebook pulls data from a copy of EPA's ECHO database hosted by Stony Brook University. The data sets are updated on a weekly basis, meaning that some of the results from your run may not exactly match those in [EEW's Congressional Report Cards](https://www.environmentalenforcementwatch.org/reports). For instance, the Report Cards show ten facilities that have spent at least three of the past 12 quarters in non-compliance with different environmental protection laws. These results will therefore change as we enter new parts of the year. In addition, the Report Cards estimate the number of facilities that were active in 2019, since EPA does not provide such figures. Our estimate is based on the number of facilities EPA records as active at the *current* moment in time. In short, we use active right now as a proxy for active in 2019. This number informs several metrics in the Report Cards - including violations and inspections per 1000 facilities - and these will change as the number of facilities reported as active right now by the EPA changes. Please see the [CD-Report repo](https://github.com/edgi-govdata-archiving/CD-report) for facility counts and non-compliance rates as we recorded them in mid-September 2020 in order to produce the Report Cards."
   ]
  },
  {
   "cell_type": "markdown",
   "metadata": {
    "id": "zH-0GpDAaRLJ"
   },
   "source": [
    "# Examining Data from Multiple EPA Programs\n",
    "\n",
    "This notebook examines data from the EPA's Enforcement and Compliance History Online (ECHO) database (https://echo.epa.gov/). It includes information from EPA's programs covering air quality (the Clean Air Act, or CAA), water quality (the Clean Water Act, or CWA), drinking water (Safe Drinking Water Act, SDWA) and hazardous and other waste processing (the Resource Recovery and Conservation Act, or RCRA). \n",
    "\n",
    "ECHO data is available for facility violations as well as inspections and enforcement actions by EPA, state and other agencies. The data made accessible here runs from the present day (the database is refreshed weekly) back to 2001, which is when the EPA believes the data to be most reliable. It is available at the Congressional District level for a selected state, and for counties and zip codes of your choosing. \n",
    "\n",
    "The EPA program acronyms are:\n",
    "- CAA = Clean Air Act\n",
    "- CWA = Clean Water Act\n",
    "- SDWIS = Safe Drinking Water Information System\n",
    "- RCRA = Resource Conservation and Recovery Act\n",
    "- TRI = Toxics Release Inventory\n",
    "- GHG = Greenhouse Gas Reporting Program\n"
   ]
  },
  {
   "cell_type": "markdown",
   "metadata": {
    "id": "TDgxwY6aaRLK"
   },
   "source": [
    "## How to Run\n",
    "* A \"cell\" in a Jupyter notebook is a block of code performing a set of actions making available or using specific data.  The notebook works by running one cell after another, as the notebook user selects offered options.\n",
    "* If you click on a gray **code** cell, a little “play button” arrow appears on the left. If you click the play button, it will run the code in that cell (“**running** a cell”). The button will animate. When the animation stops, the cell has finished running.\n",
    "![Where to click to run the cell](https://github.com/edgi-govdata-archiving/EEW-Image-Assets/blob/master/Jupyter%20instructions/pressplay.JPG?raw=true)\n",
    "* You may get a warning that the notebook was not authored by Google. We know, we authored them! It’s okay. Click “Run Anyway” to continue. \n",
    "![Error Message](https://github.com/edgi-govdata-archiving/EEW-Image-Assets/blob/master/Jupyter%20instructions/warning-message.JPG?raw=true)\n",
    "* **It is important to run cells in order because they depend on each other.**\n",
    "* Run all of the cells in a Notebook to make a complete report. Please feel free to look at and **learn about each result as you create it**!"
   ]
  },
  {
   "cell_type": "markdown",
   "metadata": {
    "id": "Ad_p17bEaRLK"
   },
   "source": [
    "---"
   ]
  },
  {
   "cell_type": "markdown",
   "metadata": {
    "id": "5ci8OkjOaRLK"
   },
   "source": [
    "# **Let's begin!**"
   ]
  },
  {
   "cell_type": "markdown",
   "metadata": {
    "id": "Cyj_M3SXaRLL"
   },
   "source": [
    "Hover over the \"[ ]\" on the top left corner of the cell below and you should see a \"play\" button appear. Click on it to run the cell then move to the next one.\n",
    "\n",
    "These first two cells give us access to some external Python code we will need."
   ]
  },
  {
   "cell_type": "markdown",
   "metadata": {
    "id": "0x-fp6PTaRLL"
   },
   "source": [
    "### 1.  Bring in some code that is stored in a Github project, and run a few Python modules."
   ]
  },
  {
   "cell_type": "code",
   "execution_count": null,
   "metadata": {
    "id": "OZatef7xaRLL",
    "tags": []
   },
   "outputs": [],
   "source": [
    "!git clone https://github.com/edgi-govdata-archiving/ECHO_modules.git\n",
    "    # &>/dev/null;\n",
    "!pip install geopandas &>/dev/null;\n",
    "\n",
    "import warnings\n",
    "warnings.filterwarnings('ignore')\n",
    "\n",
    "print(\"Done!\")"
   ]
  },
  {
   "cell_type": "markdown",
   "metadata": {
    "id": "JLhiK5h4aRLM"
   },
   "source": [
    "### 2.  Run this next cell to select which geography you wish to view ECHO data by.\n",
    "Choose the type of region and proceed to the next cell."
   ]
  },
  {
   "cell_type": "code",
   "execution_count": 1,
   "metadata": {
    "id": "Aa7yQGVqaRLM"
   },
   "outputs": [
    {
     "data": {
      "application/vnd.jupyter.widget-view+json": {
       "model_id": "e3f32e317e2247eebc27e77b4211dbdd",
       "version_major": 2,
       "version_minor": 0
      },
      "text/plain": [
       "Dropdown(description='Region of interest:', index=2, options=('State', 'Congressional District', 'County', 'Zi…"
      ]
     },
     "metadata": {},
     "output_type": "display_data"
    }
   ],
   "source": [
    "from ECHO_modules.utilities import show_region_type_widget, \\\n",
    "    show_state_widget, show_pick_region_widget\n",
    "\n",
    "region_type_widget = show_region_type_widget()\n",
    "state_widget = None\n",
    "# display( region_type_widget )"
   ]
  },
  {
   "cell_type": "markdown",
   "metadata": {
    "id": "LwiZS8oeaRLM"
   },
   "source": [
    "### 3.  Select your state of interest.  _If you are interested in a zip code analysis, this can be skipped._"
   ]
  },
  {
   "cell_type": "code",
   "execution_count": 2,
   "metadata": {
    "id": "kQd3M7tBaRLN"
   },
   "outputs": [
    {
     "data": {
      "application/vnd.jupyter.widget-view+json": {
       "model_id": "a8cb35c9edb2434fb5d6d133b56be81c",
       "version_major": 2,
       "version_minor": 0
      },
      "text/plain": [
       "Dropdown(description='State:', options=('AL', 'AK', 'AZ', 'AR', 'CA', 'CO', 'CT', 'DC', 'DE', 'FL', 'GA', 'HI'…"
      ]
     },
     "metadata": {},
     "output_type": "display_data"
    }
   ],
   "source": [
    "state_widget = show_state_widget()"
   ]
  },
  {
   "cell_type": "markdown",
   "metadata": {
    "id": "EI858zKZaRLN"
   },
   "source": [
    "### 4.  Run this cell and choose the specific region you want to look at.\n",
    "It will ask you to specify which place you want to look at. If you want to look at an entire state, you should still run this cell, but you won't see any output.\n",
    "\n",
    "In dropdown lists, you can select multiple entries by using Ctrl+click. Currently only one zip code can be entered.\n",
    "\n",
    "For reference, here is a map of congressional districts: https://www.govtrack.us/congress/members/map"
   ]
  },
  {
   "cell_type": "code",
   "execution_count": 3,
   "metadata": {
    "id": "LH-8VrSTaRLN",
    "scrolled": true
   },
   "outputs": [
    {
     "name": "stderr",
     "output_type": "stream",
     "text": [
      "/home/karen/anaconda3/lib/python3.8/site-packages/traitlets/traitlets.py:586: FutureWarning: elementwise comparison failed; returning scalar instead, but in the future will perform elementwise comparison\n",
      "  silent = bool(old_value == new_value)\n"
     ]
    },
    {
     "data": {
      "application/vnd.jupyter.widget-view+json": {
       "model_id": "1080ab08335b4aefacb7db4b19e604e8",
       "version_major": 2,
       "version_minor": 0
      },
      "text/plain": [
       "SelectMultiple(description='County:', options=('ALASKA', 'ALEUTIAN ISLANDS', 'ALEUTIANS EAST', 'ALEUTIANS EAST…"
      ]
     },
     "metadata": {},
     "output_type": "display_data"
    }
   ],
   "source": [
    "region_widget = None\n",
    "region_type = region_type_widget.value\n",
    "if ( region_type != 'State' ):\n",
    "    region_widget = show_pick_region_widget( type=region_type,\n",
    "                                           state_widget=state_widget )"
   ]
  },
  {
   "cell_type": "markdown",
   "metadata": {
    "id": "R8TpnjrPaRLN"
   },
   "source": [
    "### 5. Chart the top violators in the region for CAA, CWA and RCRA.\n",
    "The charts show the 20 facilities with the most quarters in non-compliance with these environmental protection laws over the past 3 years."
   ]
  },
  {
   "cell_type": "code",
   "execution_count": 4,
   "metadata": {
    "id": "tGG4dLXuaRLN",
    "scrolled": false
   },
   "outputs": [
    {
     "data": {
      "text/plain": [
       "\"No CAA facilities with non-compliant quarters in AK - ('YAKUTAT',)\""
      ]
     },
     "metadata": {},
     "output_type": "display_data"
    },
    {
     "data": {
      "text/plain": [
       "\"No CWA facilities with non-compliant quarters in AK - ('YAKUTAT',)\""
      ]
     },
     "metadata": {},
     "output_type": "display_data"
    },
    {
     "data": {
      "text/plain": [
       "\"No RCRA facilities with non-compliant quarters in AK - ('YAKUTAT',)\""
      ]
     },
     "metadata": {},
     "output_type": "display_data"
    }
   ],
   "source": [
    "from ECHO_modules.utilities import get_active_facilities, \\\n",
    "        get_top_violators, chart_top_violators\n",
    "\n",
    "state = state_widget.value if state_widget is not None else None\n",
    "regions_selected = None\n",
    "if ( region_type == 'Zip Code' ):\n",
    "    regions_selected = str(region_widget.value)\n",
    "elif ( region_type != 'State' ):\n",
    "    regions_selected = region_widget.value\n",
    "df_active = get_active_facilities( state, region_type, regions_selected )\n",
    "if ( df_active is None ):\n",
    "    print( 'This region type is not yet supported')\n",
    "else:\n",
    "    df_violators = get_top_violators( df_active, 'AIR_FLAG',  \n",
    "            'CAA_3YR_COMPL_QTRS_HISTORY', 'CAA_FORMAL_ACTION_COUNT', 20 )\n",
    "    display( chart_top_violators( df_violators, state, regions_selected, 'CAA' ))\n",
    "\n",
    "    df_violators = get_top_violators( df_active, 'NPDES_FLAG',  \n",
    "            'CWA_13QTRS_COMPL_HISTORY', 'CWA_FORMAL_ACTION_COUNT', 20 )\n",
    "    display( chart_top_violators( df_violators, state, regions_selected, 'CWA' ))\n",
    "\n",
    "    df_violators = get_top_violators( df_active, 'RCRA_FLAG', \n",
    "            'RCRA_3YR_COMPL_QTRS_HISTORY', 'RCRA_FORMAL_ACTION_COUNT', 20 )\n",
    "    display( chart_top_violators( df_violators, state, regions_selected, 'RCRA' ))\n"
   ]
  },
  {
   "cell_type": "markdown",
   "metadata": {
    "id": "C-sQQbU_aRLO"
   },
   "source": [
    "## Get program-specific data for all the facilities in the region.\n",
    "### First, choose the program (Air, Water, Drinking Water, and Hazardous Waste) and type of data (Emissions, Violations, Inspections, Enforcement) you want to explore\n",
    "\n",
    "Running the code below will show you a dropdown you can use to make a selection. **Inspections** or **evaluations** are usually the first phase in the enforcement pipeline, how many (but not all) violations are discovered.  **Violations** happen when a facilty is found to be out of compliance with an environmental law, often by violating the terms of its permit issued under that law.  **Enforcement actions** happen when the regulating agency decides to initiate a \"case\" against a firm for its violation of an environmental law, either by considering some administrative penalty such as a fine or by taking the violator to court. \n",
    "\n",
    "What's available for you to look at here:\n",
    "\n",
    "**Hazardous and Other Waste**:\n",
    "- RCRA_EVALUATIONS = Inspections under RCRA\n",
    "- RCRA_VIOLATIONS = Violations of RCRA rules\n",
    "- RCRA_ENFORCEMENTS = Enforcement actions taken by state agencies and the EPA\n",
    "\n",
    "Here's where you can find definitions of terms used in the columns of RCRA data: \n",
    "https://echo.epa.gov/tools/data-downloads/rcrainfo-download-summary \n",
    "\n",
    "**Air**:\n",
    "- ICIS-AIR_VIOLATION_HISTORY = CAA violations\n",
    "- ICIS-AIR_FCES_PCES = Both state and federal CAA compliance evaluations\n",
    "- ICIS-AIR_FORMAL_ACTIONS = CAA formal enforcement actions\n",
    "\n",
    "Here's where you can find definitions of terms used in the columns of Clean Air Act data: \n",
    "https://echo.epa.gov/tools/data-downloads/icis-air-download-summary\n",
    "\n",
    "**Air Emissions** (Combined air emissions data for stationary sources from four EPA air programs: National Emissions Inventory (NEI), Greenhouse Gas Reporting Program (GHGRP), Toxic Release Inventory (TRI), and Clean Air Markets (CAMD)):\n",
    "- Greenhouse Gases via POLL_RPT_COMBINED_EMISSIONS\n",
    "- Toxic Releases via POLL_RPT_COMBINED_EMISSIONS\n",
    "\n",
    "Here's where you can find definitions of terms used in the columns of this data: https://echo.epa.gov/tools/data-downloads/air-emissions-download-summary\n",
    "\n",
    "**Water** (National Pollutant Discharge Elimination System, or NPDES):\n",
    "- NPDES_QNCR_HISTORY = CWA Quarterly Non-Compliance History\n",
    "- NPDES_INSPECTIONS = CWA Inspections\n",
    "- NPDES_FORMAL_ENFORCEMENT_ACTIONS = CWA Enforcements\n",
    "\n",
    "Here's where you can find definitions of terms used in the columns of Clean Water Act data: https://echo.epa.gov/tools/data-downloads/icis-npdes-download-summary\n",
    "\n",
    "**Drinking Water** (Safe Drinking Water Act, or SDWA):\n",
    "- SDWA_PUB_WATER_SYSTEMS = Public Water Systems under Safe Drinking Water Act\n",
    "- SDWA_SITE_VISITS = Safe Drinking Water Site Visits\n",
    "- SDWA_VIOLATIONS = Safe Drinking Water Violations\n",
    "- SDWA_SERIOUS_VIOLATORS = Safe Drinking Water Serious Violators\n",
    "- SDWA_ENFORCEMENTS = Safe Drinking Water Enforcements\n",
    "- SDWA_RETURN_TO_COMPLIANCE = Safe Drinking Water Return to Compliance\n",
    "\n",
    "Here's where you can find definitions of terms used in the columns of Clean Water Act data: https://echo.epa.gov/tools/data-downloads/sdwa-download-summary"
   ]
  },
  {
   "cell_type": "markdown",
   "metadata": {
    "id": "2-lxUZomaRLP"
   },
   "source": [
    "### 6. This cell creates data sets for facilities in the region and presents a dropdown selection."
   ]
  },
  {
   "cell_type": "code",
   "execution_count": 5,
   "metadata": {
    "id": "cJN7Q5sLaRLP"
   },
   "outputs": [
    {
     "data": {
      "application/vnd.jupyter.widget-view+json": {
       "model_id": "e7d56601ed684fadbf9ae8a3ad7ded4d",
       "version_major": 2,
       "version_minor": 0
      },
      "text/plain": [
       "Dropdown(description='Data sets:', options=('RCRA Violations', 'RCRA Inspections', 'RCRA Penalties', 'CAA Viol…"
      ]
     },
     "metadata": {},
     "output_type": "display_data"
    }
   ],
   "source": [
    "from ECHO_modules.make_data_sets import make_data_sets\n",
    "from ECHO_modules.utilities import show_data_set_widget\n",
    "\n",
    "data_sets = make_data_sets([\n",
    "    \"RCRA Violations\",\n",
    "    \"RCRA Inspections\",\n",
    "    \"RCRA Penalties\",\n",
    "    \"CAA Violations\",\n",
    "    \"CAA Penalties\",\n",
    "    \"CAA Inspections\",\n",
    "    \"Combined Air Emissions\",\n",
    "    \"Greenhouse Gas Emissions\",\n",
    "    \"Toxic Releases\",\n",
    "    \"CWA Violations\",\n",
    "    \"CWA Inspections\",\n",
    "    \"CWA Penalties\",\n",
    "    \"SDWA Site Visits\",\n",
    "    \"SDWA Enforcements\",\n",
    "    \"SDWA Public Water Systems\",\n",
    "    \"SDWA Violations\",\n",
    "    \"SDWA Serious Violators\"\n",
    "])\n",
    "\n",
    "data_set_widget = show_data_set_widget( data_sets )"
   ]
  },
  {
   "cell_type": "markdown",
   "metadata": {
    "id": "tK0E1tDKaRLP"
   },
   "source": [
    "### 7. Once you've chosen the program and data type you want to focus on...\n",
    "....run the code below, which will access our database and retrieve the information. \n",
    "#### This is the main query of the remote database.  It may take some time if there are thousands of facilities in your region that report to the selected program."
   ]
  },
  {
   "cell_type": "code",
   "execution_count": 6,
   "metadata": {
    "id": "nhNCINvYaRLP",
    "scrolled": false,
    "tags": []
   },
   "outputs": [
    {
     "name": "stdout",
     "output_type": "stream",
     "text": [
      "There were 1 program records found\n"
     ]
    },
    {
     "data": {
      "text/html": [
       "<div>\n",
       "<style scoped>\n",
       "    .dataframe tbody tr th:only-of-type {\n",
       "        vertical-align: middle;\n",
       "    }\n",
       "\n",
       "    .dataframe tbody tr th {\n",
       "        vertical-align: top;\n",
       "    }\n",
       "\n",
       "    .dataframe thead th {\n",
       "        text-align: right;\n",
       "    }\n",
       "</style>\n",
       "<table border=\"1\" class=\"dataframe\">\n",
       "  <thead>\n",
       "    <tr style=\"text-align: right;\">\n",
       "      <th></th>\n",
       "      <th>ACTIVITY_LOCATION</th>\n",
       "      <th>VIOLATION_TYPE</th>\n",
       "      <th>VIOLATION_TYPE_DESC</th>\n",
       "      <th>VIOL_DETERMINED_BY_AGENCY</th>\n",
       "      <th>DATE_VIOLATION_DETERMINED</th>\n",
       "      <th>ACTUAL_RTC_DATE</th>\n",
       "      <th>SCHEDULED_COMPLIANCE_DATE</th>\n",
       "      <th>FAC_DERIVED_HUC</th>\n",
       "      <th>REGISTRY_ID</th>\n",
       "      <th>FAC_NAME</th>\n",
       "      <th>...</th>\n",
       "      <th>FAC_ZIP</th>\n",
       "      <th>FAC_COUNTY</th>\n",
       "      <th>FAC_NAICS_CODES</th>\n",
       "      <th>FAC_EPA_REGION</th>\n",
       "      <th>FAC_LAT</th>\n",
       "      <th>FAC_LONG</th>\n",
       "      <th>FAC_DERIVED_WBD</th>\n",
       "      <th>FAC_DERIVED_CD113</th>\n",
       "      <th>FAC_PERCENT_MINORITY</th>\n",
       "      <th>FAC_POP_DEN</th>\n",
       "    </tr>\n",
       "    <tr>\n",
       "      <th>ID_NUMBER</th>\n",
       "      <th></th>\n",
       "      <th></th>\n",
       "      <th></th>\n",
       "      <th></th>\n",
       "      <th></th>\n",
       "      <th></th>\n",
       "      <th></th>\n",
       "      <th></th>\n",
       "      <th></th>\n",
       "      <th></th>\n",
       "      <th></th>\n",
       "      <th></th>\n",
       "      <th></th>\n",
       "      <th></th>\n",
       "      <th></th>\n",
       "      <th></th>\n",
       "      <th></th>\n",
       "      <th></th>\n",
       "      <th></th>\n",
       "      <th></th>\n",
       "      <th></th>\n",
       "    </tr>\n",
       "  </thead>\n",
       "  <tbody>\n",
       "    <tr>\n",
       "      <th>AKD983073859</th>\n",
       "      <td>AK</td>\n",
       "      <td>262.A</td>\n",
       "      <td>Standards Applicable to Generators of HW: General</td>\n",
       "      <td>S</td>\n",
       "      <td>12/20/1991</td>\n",
       "      <td>01/20/1992</td>\n",
       "      <td>01/20/1992</td>\n",
       "      <td>NaN</td>\n",
       "      <td>110007919798</td>\n",
       "      <td>ICY CAPE LOGGING CAMP</td>\n",
       "      <td>...</td>\n",
       "      <td>99689</td>\n",
       "      <td>YAKUTAT</td>\n",
       "      <td>NaN</td>\n",
       "      <td>10</td>\n",
       "      <td>59.550296</td>\n",
       "      <td>-139.733873</td>\n",
       "      <td>NaN</td>\n",
       "      <td>NaN</td>\n",
       "      <td>NaN</td>\n",
       "      <td>NaN</td>\n",
       "    </tr>\n",
       "  </tbody>\n",
       "</table>\n",
       "<p>1 rows × 24 columns</p>\n",
       "</div>"
      ],
      "text/plain": [
       "             ACTIVITY_LOCATION VIOLATION_TYPE  \\\n",
       "ID_NUMBER                                       \n",
       "AKD983073859                AK          262.A   \n",
       "\n",
       "                                            VIOLATION_TYPE_DESC  \\\n",
       "ID_NUMBER                                                         \n",
       "AKD983073859  Standards Applicable to Generators of HW: General   \n",
       "\n",
       "             VIOL_DETERMINED_BY_AGENCY DATE_VIOLATION_DETERMINED  \\\n",
       "ID_NUMBER                                                          \n",
       "AKD983073859                       S                  12/20/1991   \n",
       "\n",
       "             ACTUAL_RTC_DATE SCHEDULED_COMPLIANCE_DATE  FAC_DERIVED_HUC  \\\n",
       "ID_NUMBER                                                                 \n",
       "AKD983073859      01/20/1992                01/20/1992              NaN   \n",
       "\n",
       "               REGISTRY_ID               FAC_NAME  ... FAC_ZIP FAC_COUNTY  \\\n",
       "ID_NUMBER                                          ...                      \n",
       "AKD983073859  110007919798  ICY CAPE LOGGING CAMP  ...   99689    YAKUTAT   \n",
       "\n",
       "              FAC_NAICS_CODES FAC_EPA_REGION    FAC_LAT    FAC_LONG  \\\n",
       "ID_NUMBER                                                             \n",
       "AKD983073859              NaN             10  59.550296 -139.733873   \n",
       "\n",
       "              FAC_DERIVED_WBD  FAC_DERIVED_CD113  FAC_PERCENT_MINORITY  \\\n",
       "ID_NUMBER                                                                \n",
       "AKD983073859              NaN                NaN                   NaN   \n",
       "\n",
       "              FAC_POP_DEN  \n",
       "ID_NUMBER                  \n",
       "AKD983073859          NaN  \n",
       "\n",
       "[1 rows x 24 columns]"
      ]
     },
     "metadata": {},
     "output_type": "display_data"
    }
   ],
   "source": [
    "program = data_sets[ data_set_widget.value ]\n",
    "program_results = program.store_results( region_type=region_type, \n",
    "                            region_value=regions_selected, state=state )\n",
    "program_data = None\n",
    "if ( program_results is not None ):\n",
    "    program_data = program_results.dataframe.copy()\n",
    "\n",
    "    display( program_data )\n",
    "else:\n",
    "    print( \"There is no data for this data set in this region.\")"
   ]
  },
  {
   "cell_type": "markdown",
   "metadata": {
    "id": "YrQOiajFaRLQ"
   },
   "source": [
    "## Create an interactive map of all of the facilities in the area that report to EPA under the selected program\n",
    "### 8. Once you run this cell, a map should appear. Facilities will be clustered by area. You can zoom in and click on each facility to get its name and a link to a more detailed report.\n",
    "\n",
    "_Note:_ You might find that there are some facilities located outside of the region you selected. That's probably because of an issue in how EPA generates spatial information for facilities.\n",
    "\n",
    "States with a large number of facilities may not display properly."
   ]
  },
  {
   "cell_type": "code",
   "execution_count": 7,
   "metadata": {
    "id": "EHQ-mlKUaRLQ",
    "scrolled": true
   },
   "outputs": [
    {
     "data": {
      "text/html": [
       "<div style=\"width:100%;\"><div style=\"position:relative;width:100%;height:0;padding-bottom:60%;\"><span style=\"color:#565656\">Make this Notebook Trusted to load map: File -> Trust Notebook</span><iframe src=\"about:blank\" style=\"position:absolute;width:100%;height:100%;left:0;top:0;border:none !important;\" data-html=%3C%21DOCTYPE%20html%3E%0A%3Chead%3E%20%20%20%20%0A%20%20%20%20%3Cmeta%20http-equiv%3D%22content-type%22%20content%3D%22text/html%3B%20charset%3DUTF-8%22%20/%3E%0A%20%20%20%20%0A%20%20%20%20%20%20%20%20%3Cscript%3E%0A%20%20%20%20%20%20%20%20%20%20%20%20L_NO_TOUCH%20%3D%20false%3B%0A%20%20%20%20%20%20%20%20%20%20%20%20L_DISABLE_3D%20%3D%20false%3B%0A%20%20%20%20%20%20%20%20%3C/script%3E%0A%20%20%20%20%0A%20%20%20%20%3Cstyle%3Ehtml%2C%20body%20%7Bwidth%3A%20100%25%3Bheight%3A%20100%25%3Bmargin%3A%200%3Bpadding%3A%200%3B%7D%3C/style%3E%0A%20%20%20%20%3Cstyle%3E%23map%20%7Bposition%3Aabsolute%3Btop%3A0%3Bbottom%3A0%3Bright%3A0%3Bleft%3A0%3B%7D%3C/style%3E%0A%20%20%20%20%3Cscript%20src%3D%22https%3A//cdn.jsdelivr.net/npm/leaflet%401.6.0/dist/leaflet.js%22%3E%3C/script%3E%0A%20%20%20%20%3Cscript%20src%3D%22https%3A//code.jquery.com/jquery-1.12.4.min.js%22%3E%3C/script%3E%0A%20%20%20%20%3Cscript%20src%3D%22https%3A//maxcdn.bootstrapcdn.com/bootstrap/3.2.0/js/bootstrap.min.js%22%3E%3C/script%3E%0A%20%20%20%20%3Cscript%20src%3D%22https%3A//cdnjs.cloudflare.com/ajax/libs/Leaflet.awesome-markers/2.0.2/leaflet.awesome-markers.js%22%3E%3C/script%3E%0A%20%20%20%20%3Clink%20rel%3D%22stylesheet%22%20href%3D%22https%3A//cdn.jsdelivr.net/npm/leaflet%401.6.0/dist/leaflet.css%22/%3E%0A%20%20%20%20%3Clink%20rel%3D%22stylesheet%22%20href%3D%22https%3A//maxcdn.bootstrapcdn.com/bootstrap/3.2.0/css/bootstrap.min.css%22/%3E%0A%20%20%20%20%3Clink%20rel%3D%22stylesheet%22%20href%3D%22https%3A//maxcdn.bootstrapcdn.com/bootstrap/3.2.0/css/bootstrap-theme.min.css%22/%3E%0A%20%20%20%20%3Clink%20rel%3D%22stylesheet%22%20href%3D%22https%3A//maxcdn.bootstrapcdn.com/font-awesome/4.6.3/css/font-awesome.min.css%22/%3E%0A%20%20%20%20%3Clink%20rel%3D%22stylesheet%22%20href%3D%22https%3A//cdnjs.cloudflare.com/ajax/libs/Leaflet.awesome-markers/2.0.2/leaflet.awesome-markers.css%22/%3E%0A%20%20%20%20%3Clink%20rel%3D%22stylesheet%22%20href%3D%22https%3A//cdn.jsdelivr.net/gh/python-visualization/folium/folium/templates/leaflet.awesome.rotate.min.css%22/%3E%0A%20%20%20%20%0A%20%20%20%20%20%20%20%20%20%20%20%20%3Cmeta%20name%3D%22viewport%22%20content%3D%22width%3Ddevice-width%2C%0A%20%20%20%20%20%20%20%20%20%20%20%20%20%20%20%20initial-scale%3D1.0%2C%20maximum-scale%3D1.0%2C%20user-scalable%3Dno%22%20/%3E%0A%20%20%20%20%20%20%20%20%20%20%20%20%3Cstyle%3E%0A%20%20%20%20%20%20%20%20%20%20%20%20%20%20%20%20%23map_f5ed6b69a9e94002950ace560c20763b%20%7B%0A%20%20%20%20%20%20%20%20%20%20%20%20%20%20%20%20%20%20%20%20position%3A%20relative%3B%0A%20%20%20%20%20%20%20%20%20%20%20%20%20%20%20%20%20%20%20%20width%3A%20100.0%25%3B%0A%20%20%20%20%20%20%20%20%20%20%20%20%20%20%20%20%20%20%20%20height%3A%20100.0%25%3B%0A%20%20%20%20%20%20%20%20%20%20%20%20%20%20%20%20%20%20%20%20left%3A%200.0%25%3B%0A%20%20%20%20%20%20%20%20%20%20%20%20%20%20%20%20%20%20%20%20top%3A%200.0%25%3B%0A%20%20%20%20%20%20%20%20%20%20%20%20%20%20%20%20%7D%0A%20%20%20%20%20%20%20%20%20%20%20%20%3C/style%3E%0A%20%20%20%20%20%20%20%20%0A%20%20%20%20%3Cscript%20src%3D%22https%3A//cdnjs.cloudflare.com/ajax/libs/leaflet.markercluster/1.1.0/leaflet.markercluster.js%22%3E%3C/script%3E%0A%20%20%20%20%3Clink%20rel%3D%22stylesheet%22%20href%3D%22https%3A//cdnjs.cloudflare.com/ajax/libs/leaflet.markercluster/1.1.0/MarkerCluster.css%22/%3E%0A%20%20%20%20%3Clink%20rel%3D%22stylesheet%22%20href%3D%22https%3A//cdnjs.cloudflare.com/ajax/libs/leaflet.markercluster/1.1.0/MarkerCluster.Default.css%22/%3E%0A%3C/head%3E%0A%3Cbody%3E%20%20%20%20%0A%20%20%20%20%0A%20%20%20%20%20%20%20%20%20%20%20%20%3Cdiv%20class%3D%22folium-map%22%20id%3D%22map_f5ed6b69a9e94002950ace560c20763b%22%20%3E%3C/div%3E%0A%20%20%20%20%20%20%20%20%0A%3C/body%3E%0A%3Cscript%3E%20%20%20%20%0A%20%20%20%20%0A%20%20%20%20%20%20%20%20%20%20%20%20var%20map_f5ed6b69a9e94002950ace560c20763b%20%3D%20L.map%28%0A%20%20%20%20%20%20%20%20%20%20%20%20%20%20%20%20%22map_f5ed6b69a9e94002950ace560c20763b%22%2C%0A%20%20%20%20%20%20%20%20%20%20%20%20%20%20%20%20%7B%0A%20%20%20%20%20%20%20%20%20%20%20%20%20%20%20%20%20%20%20%20center%3A%20%5B59.550295999999996%2C%20-139.733873%5D%2C%0A%20%20%20%20%20%20%20%20%20%20%20%20%20%20%20%20%20%20%20%20crs%3A%20L.CRS.EPSG3857%2C%0A%20%20%20%20%20%20%20%20%20%20%20%20%20%20%20%20%20%20%20%20zoom%3A%2010%2C%0A%20%20%20%20%20%20%20%20%20%20%20%20%20%20%20%20%20%20%20%20zoomControl%3A%20true%2C%0A%20%20%20%20%20%20%20%20%20%20%20%20%20%20%20%20%20%20%20%20preferCanvas%3A%20false%2C%0A%20%20%20%20%20%20%20%20%20%20%20%20%20%20%20%20%7D%0A%20%20%20%20%20%20%20%20%20%20%20%20%29%3B%0A%0A%20%20%20%20%20%20%20%20%20%20%20%20%0A%0A%20%20%20%20%20%20%20%20%0A%20%20%20%20%0A%20%20%20%20%20%20%20%20%20%20%20%20var%20tile_layer_d526552c9af947528c591a4f38e44478%20%3D%20L.tileLayer%28%0A%20%20%20%20%20%20%20%20%20%20%20%20%20%20%20%20%22https%3A//%7Bs%7D.tile.openstreetmap.org/%7Bz%7D/%7Bx%7D/%7By%7D.png%22%2C%0A%20%20%20%20%20%20%20%20%20%20%20%20%20%20%20%20%7B%22attribution%22%3A%20%22Data%20by%20%5Cu0026copy%3B%20%5Cu003ca%20href%3D%5C%22http%3A//openstreetmap.org%5C%22%5Cu003eOpenStreetMap%5Cu003c/a%5Cu003e%2C%20under%20%5Cu003ca%20href%3D%5C%22http%3A//www.openstreetmap.org/copyright%5C%22%5Cu003eODbL%5Cu003c/a%5Cu003e.%22%2C%20%22detectRetina%22%3A%20false%2C%20%22maxNativeZoom%22%3A%2018%2C%20%22maxZoom%22%3A%2018%2C%20%22minZoom%22%3A%200%2C%20%22noWrap%22%3A%20false%2C%20%22opacity%22%3A%201%2C%20%22subdomains%22%3A%20%22abc%22%2C%20%22tms%22%3A%20false%7D%0A%20%20%20%20%20%20%20%20%20%20%20%20%29.addTo%28map_f5ed6b69a9e94002950ace560c20763b%29%3B%0A%20%20%20%20%20%20%20%20%0A%20%20%20%20%0A%20%20%20%20%20%20%20%20%20%20%20%20var%20fast_marker_cluster_1e110784425045cea4966e48bceb6822%20%3D%20%28function%28%29%7B%0A%20%20%20%20%20%20%20%20%20%20%20%20%20%20%20%20%0A%20%20%20%20%20%20%20%20%20%20%20%20%20%20%20%20var%20callback%20%3D%20function%20%28row%29%20%7B%0A%20%20%20%20%20%20%20%20%20%20%20%20%20%20%20%20%20%20%20%20var%20icon%20%3D%20L.AwesomeMarkers.icon%28%29%3B%0A%20%20%20%20%20%20%20%20%20%20%20%20%20%20%20%20%20%20%20%20var%20marker%20%3D%20L.marker%28new%20L.LatLng%28row%5B0%5D%2C%20row%5B1%5D%29%29%3B%0A%20%20%20%20%20%20%20%20%20%20%20%20%20%20%20%20%20%20%20%20marker.setIcon%28icon%29%3B%0A%20%20%20%20%20%20%20%20%20%20%20%20%20%20%20%20%20%20%20%20return%20marker%3B%0A%20%20%20%20%20%20%20%20%20%20%20%20%20%20%20%20%7D%3B%0A%0A%20%20%20%20%20%20%20%20%20%20%20%20%20%20%20%20var%20data%20%3D%20%5B%5D%3B%0A%20%20%20%20%20%20%20%20%20%20%20%20%20%20%20%20var%20cluster%20%3D%20L.markerClusterGroup%28%7B%7D%29%3B%0A%0A%20%20%20%20%20%20%20%20%20%20%20%20%20%20%20%20for%20%28var%20i%20%3D%200%3B%20i%20%3C%20data.length%3B%20i%2B%2B%29%20%7B%0A%20%20%20%20%20%20%20%20%20%20%20%20%20%20%20%20%20%20%20%20var%20row%20%3D%20data%5Bi%5D%3B%0A%20%20%20%20%20%20%20%20%20%20%20%20%20%20%20%20%20%20%20%20var%20marker%20%3D%20callback%28row%29%3B%0A%20%20%20%20%20%20%20%20%20%20%20%20%20%20%20%20%20%20%20%20marker.addTo%28cluster%29%3B%0A%20%20%20%20%20%20%20%20%20%20%20%20%20%20%20%20%7D%0A%0A%20%20%20%20%20%20%20%20%20%20%20%20%20%20%20%20cluster.addTo%28map_f5ed6b69a9e94002950ace560c20763b%29%3B%0A%20%20%20%20%20%20%20%20%20%20%20%20%20%20%20%20return%20cluster%3B%0A%20%20%20%20%20%20%20%20%20%20%20%20%7D%29%28%29%3B%0A%20%20%20%20%20%20%20%20%0A%20%20%20%20%0A%20%20%20%20%20%20%20%20%20%20%20%20var%20circle_marker_5ec12631130d40778a62478bff58a773%20%3D%20L.circleMarker%28%0A%20%20%20%20%20%20%20%20%20%20%20%20%20%20%20%20%5B59.550295999999996%2C%20-139.733873%5D%2C%0A%20%20%20%20%20%20%20%20%20%20%20%20%20%20%20%20%7B%22bubblingMouseEvents%22%3A%20true%2C%20%22color%22%3A%20%22black%22%2C%20%22dashArray%22%3A%20null%2C%20%22dashOffset%22%3A%20null%2C%20%22fill%22%3A%20true%2C%20%22fillColor%22%3A%20%22orange%22%2C%20%22fillOpacity%22%3A%200.4%2C%20%22fillRule%22%3A%20%22evenodd%22%2C%20%22lineCap%22%3A%20%22round%22%2C%20%22lineJoin%22%3A%20%22round%22%2C%20%22opacity%22%3A%201.0%2C%20%22radius%22%3A%208%2C%20%22stroke%22%3A%20true%2C%20%22weight%22%3A%201%7D%0A%20%20%20%20%20%20%20%20%20%20%20%20%29.addTo%28fast_marker_cluster_1e110784425045cea4966e48bceb6822%29%3B%0A%20%20%20%20%20%20%20%20%0A%20%20%20%20%0A%20%20%20%20%20%20%20%20var%20popup_dc04ae9f095d40faa12f988aa7f0fcdb%20%3D%20L.popup%28%7B%22maxWidth%22%3A%20%22100%25%22%7D%29%3B%0A%0A%20%20%20%20%20%20%20%20%0A%20%20%20%20%20%20%20%20%20%20%20%20var%20html_8580f825389d4a63a6f5bcec962211b8%20%3D%20%24%28%60%3Cdiv%20id%3D%22html_8580f825389d4a63a6f5bcec962211b8%22%20style%3D%22width%3A%20100.0%25%3B%20height%3A%20100.0%25%3B%22%3EICY%20CAPE%20LOGGING%20CAMP%20-%20%3C/div%3E%60%29%5B0%5D%3B%0A%20%20%20%20%20%20%20%20%20%20%20%20popup_dc04ae9f095d40faa12f988aa7f0fcdb.setContent%28html_8580f825389d4a63a6f5bcec962211b8%29%3B%0A%20%20%20%20%20%20%20%20%0A%0A%20%20%20%20%20%20%20%20circle_marker_5ec12631130d40778a62478bff58a773.bindPopup%28popup_dc04ae9f095d40faa12f988aa7f0fcdb%29%0A%20%20%20%20%20%20%20%20%3B%0A%0A%20%20%20%20%20%20%20%20%0A%20%20%20%20%0A%20%20%20%20%0A%20%20%20%20%20%20%20%20%20%20%20%20map_f5ed6b69a9e94002950ace560c20763b.fitBounds%28%0A%20%20%20%20%20%20%20%20%20%20%20%20%20%20%20%20%5B%5B59.550295999999996%2C%20-139.733873%5D%2C%20%5B59.550295999999996%2C%20-139.733873%5D%5D%2C%0A%20%20%20%20%20%20%20%20%20%20%20%20%20%20%20%20%7B%7D%0A%20%20%20%20%20%20%20%20%20%20%20%20%29%3B%0A%20%20%20%20%20%20%20%20%0A%3C/script%3E onload=\"this.contentDocument.open();this.contentDocument.write(    decodeURIComponent(this.getAttribute('data-html')));this.contentDocument.close();\" allowfullscreen webkitallowfullscreen mozallowfullscreen></iframe></div></div>"
      ],
      "text/plain": [
       "<folium.folium.Map at 0x7ff65f677ee0>"
      ]
     },
     "metadata": {},
     "output_type": "display_data"
    }
   ],
   "source": [
    "from ECHO_modules.utilities import mapper\n",
    "import geopandas as gpd\n",
    "import pandas as pd\n",
    "import folium\n",
    "\n",
    "if ( program_data is not None ):\n",
    "    df_to_map = program_data.loc[~program_data.index.duplicated(keep='first')]\n",
    "    \n",
    "    map_of_facilities = mapper(df_to_map)\n",
    "    if ( region_type == 'State' or region_type == 'Congressional District' ):\n",
    "        if ( region_type == 'Congressional District' and regions_selected is not None ):\n",
    "            map_data_list = []\n",
    "            for region in regions_selected:\n",
    "                url = \"https://raw.githubusercontent.com/unitedstates/districts/gh-pages/cds/2016/{}-{}/shape.geojson\".format( state, str(region))\n",
    "                map_data = gpd.read_file(url)\n",
    "                map_data_list.append( map_data )\n",
    "            map_data = gpd.GeoDataFrame( pd.concat( map_data_list, ignore_index=True) )\n",
    "            w = folium.GeoJson(\n",
    "                map_data,\n",
    "                name = \"EPA Regions\",\n",
    "            ).add_to(map_of_facilities) #m is the map object created to hold the facility points. we want to add this shape object to that map object\n",
    "            folium.GeoJsonTooltip(fields=[\"District\"]).add_to(w)\n",
    "        if ( region_type == 'State' ):\n",
    "            url = \"https://github.com/edgi-govdata-archiving/ECHO-Geo/raw/main/states.geojson\"\n",
    "            map_data = gpd.read_file( url )\n",
    "            state_data = map_data[ map_data['STUSPS'] == state ]\n",
    "            w = folium.GeoJson( state_data, name=\"State\" ).add_to( map_of_facilities )\n",
    "\n",
    "    display( map_of_facilities ) \n",
    "else:\n",
    "    print( \"There are no facilities in the region for this data set.\" )   \n"
   ]
  },
  {
   "cell_type": "markdown",
   "metadata": {
    "id": "ABYAP8UbaRLR"
   },
   "source": [
    "### 9. Chart this data set"
   ]
  },
  {
   "cell_type": "code",
   "execution_count": 8,
   "metadata": {
    "id": "zJMvn6uWaRLR"
   },
   "outputs": [
    {
     "name": "stdout",
     "output_type": "stream",
     "text": [
      "There is no data for this program and region after 2000.\n"
     ]
    }
   ],
   "source": [
    "program_results.show_chart()"
   ]
  },
  {
   "cell_type": "markdown",
   "metadata": {
    "id": "iW-63h5qaRLQ"
   },
   "source": [
    "### 10.  In this cell you may save the program data for your region to your computer.\n",
    "To access your files click on the 'Files' tab in the menu on the left-hand side of the notebook (it looks like a folder). You may have to hit 'Refresh' if you don't see your file. Then, you can click on the ... next to your file and choose \"Download\". The CSV spreadsheet will download to wherever your browser usually saves files (e.g. Downloads folder)"
   ]
  },
  {
   "cell_type": "code",
   "execution_count": 9,
   "metadata": {
    "id": "hI3Sp982aRLR",
    "scrolled": true,
    "tags": []
   },
   "outputs": [
    {
     "name": "stdout",
     "output_type": "stream",
     "text": [
      "Wrote CSVs%2FRCRA+Violations-AK-County-YAKUTAT.csv\n"
     ]
    }
   ],
   "source": [
    "from ECHO_modules.utilities import write_dataset\n",
    "\n",
    "if ( len( program_data ) > 0 ):\n",
    "    state_name = None\n",
    "    if ( state_widget is not None ):\n",
    "        state_name = state_widget.value\n",
    "    write_dataset( df=program_data, base=program.name, type=region_type_widget.value, \n",
    "           state=state_name, regions=regions_selected )\n",
    "else:\n",
    "    print( \"There is no data for this program and region.\" )"
   ]
  },
  {
   "cell_type": "markdown",
   "metadata": {
    "id": "_evbK8d8aRLR"
   },
   "source": [
    "#### If you'd like to look at another dimension of ECHO data for this region...\n",
    "....return to the dropdown menu in Step 6 and choose a different program/data type, run the database access code, and then map and chart it!\n",
    "\n",
    "---"
   ]
  },
  {
   "cell_type": "markdown",
   "metadata": {
    "id": "64R_JsSnaRLS"
   },
   "source": [
    "## Choose a specific facility\n",
    "### 11. In the next few blocks of code, you can focus in on just one facility in the region.\n",
    "Run the below cell, then choose a facility from the dropdown that appears.\n",
    "Multiple facilities may be selected with Ctrl+click or Shift+click."
   ]
  },
  {
   "cell_type": "code",
   "execution_count": null,
   "metadata": {
    "id": "MyUtZ_Y2aRLS"
   },
   "outputs": [],
   "source": [
    "from ECHO_modules.utilities import show_fac_widget\n",
    "\n",
    "fac_series = program_data[\"FAC_NAME\"]\n",
    "fac_widget = show_fac_widget( fac_series )"
   ]
  },
  {
   "cell_type": "markdown",
   "metadata": {
    "id": "0lvqPXxIaRLS"
   },
   "source": [
    "### 12. Let's see the data for these facilities"
   ]
  },
  {
   "cell_type": "code",
   "execution_count": null,
   "metadata": {
    "id": "zP4mKiIbaRLT",
    "scrolled": true,
    "tags": []
   },
   "outputs": [],
   "source": [
    "import pandas as pd\n",
    "from ECHO_modules.utilities import show_fac_widget\n",
    "\n",
    "fac_pgm_data = program_data[ program_data[\"FAC_NAME\"].isin( fac_widget.value )]\n",
    "\n",
    "pd.set_option('display.max_colwidth', -1)\n",
    "\n",
    "if ( fac_pgm_data is None or len( fac_pgm_data ) == 0 ):\n",
    "    print( \"There is no {} data for {} \".format( program.name, fac_widget.value ))\n",
    "else:\n",
    "    display( fac_pgm_data )"
   ]
  },
  {
   "cell_type": "markdown",
   "metadata": {
    "id": "xR7fl42CaRLT"
   },
   "source": [
    "### 13. This cell saves this facility's data for this program to your computer.\n",
    "\n",
    "To access your files click on the 'Files' tab in the menu on the left-hand side of the notebook (it looks like a folder). You may have to hit 'Refresh' if you don't see your file. Then, you can click on the ... next to your file and choose \"Download\". The CSV spreadsheet will download to wherever your browser usually saves files (e.g. Downloads folder)"
   ]
  },
  {
   "cell_type": "code",
   "execution_count": null,
   "metadata": {
    "id": "ncdrsbK1aRLT",
    "tags": []
   },
   "outputs": [],
   "source": [
    "if ( len( fac_pgm_data ) > 0 ):\n",
    "    state_name = None\n",
    "    if ( state_widget is not None ):\n",
    "        state_name = state_widget.value\n",
    "    write_dataset( df=fac_pgm_data, base=program.name+'-'+\"-\".join(fac_widget.value), \n",
    "               type=region_type_widget.value, state=state_name, regions=regions_selected )\n",
    "else:\n",
    "    print( \"There is no data for this program and region.\" )"
   ]
  },
  {
   "cell_type": "markdown",
   "metadata": {
    "id": "cCOk5AvyaRLT"
   },
   "source": [
    "#### If you'd like to look at another dimension of ECHO data for this region...\n",
    "....return to the dropdown menu in Step 6 and choose a different program/data type, run the database access code, and then map and chart it!\n",
    "\n",
    "---"
   ]
  },
  {
   "cell_type": "code",
   "execution_count": null,
   "metadata": {
    "id": "X2jjBrJuaRLT"
   },
   "outputs": [],
   "source": []
  }
 ],
 "metadata": {
  "colab": {
   "name": "ECHO-Cross-Programs.ipynb",
   "provenance": []
  },
  "kernelspec": {
   "display_name": "Python 3",
   "language": "python",
   "name": "python3"
  },
  "language_info": {
   "codemirror_mode": {
    "name": "ipython",
    "version": 3
   },
   "file_extension": ".py",
   "mimetype": "text/x-python",
   "name": "python",
   "nbconvert_exporter": "python",
   "pygments_lexer": "ipython3",
   "version": "3.8.5"
  }
 },
 "nbformat": 4,
 "nbformat_minor": 4
}
