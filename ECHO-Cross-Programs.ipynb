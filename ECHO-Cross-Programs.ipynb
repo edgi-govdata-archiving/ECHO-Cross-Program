{
 "cells": [
  {
   "cell_type": "markdown",
   "metadata": {},
   "source": [
    "| ![EEW logo](https://github.com/edgi-govdata-archiving/EEW-Image-Assets/blob/master/Jupyter%20instructions/eew.jpg?raw=true) | ![EDGI logo](https://github.com/edgi-govdata-archiving/EEW-Image-Assets/blob/master/Jupyter%20instructions/edgi.png?raw=true) |\n",
    "|---|---|\n",
    "\n",
    "#### This notebook is licensed under GPL 3.0. Please visit our Github repo for more information: https://github.com/edgi-govdata-archiving/ECHO-COVID19\n",
    "#### The notebook was collaboratively authored by EDGI following our authorship protocol: https://docs.google.com/document/d/1CtDN5ZZ4Zv70fHiBTmWkDJ9mswEipX6eCYrwicP66Xw/\n",
    "#### For more information about this project, visit https://www.environmentalenforcementwatch.org/"
   ]
  },
  {
   "cell_type": "markdown",
   "metadata": {},
   "source": [
    "# Examining Data from Multiple EPA Programs\n",
    "\n",
    "This notebook examines data from the EPA's Enforcement and Compliance History Online (ECHO) database (https://echo.epa.gov/). It includes information from EPA's programs covering air quality (the Clean Air Act, or CAA), water quality (the Clean Water Act, or CWA), drinking water (Safe Drinking Water Act, SDWA) and hazardous and other waste processing (the Resource Recovery and Conservation Act, or RCRA). \n",
    "\n",
    "ECHO data is available for facility violations as well as inspections and enforcement actions by EPA, state and other agencies. The data made accessible here runs from the present day (the database is refreshed weekly) back to 2001, which is when the EPA believes the data to be most reliable. It is available at the Congressional District level for a selected state, and for counties and zip codes of your choosing. "
   ]
  },
  {
   "cell_type": "markdown",
   "metadata": {},
   "source": [
    "## How to Run\n",
    "* A \"cell\" in a Jupyter notebook is a block of code performing a set of actions making available or using specific data.  The notebook works by running one cell after another, as the notebook user selects offered options.\n",
    "* If you click on a gray **code** cell, a little “play button” arrow appears on the left. If you click the play button, it will run the code in that cell (“**running** a cell”). The button will animate. When the animation stops, the cell has finished running.\n",
    "![Where to click to run the cell](https://github.com/edgi-govdata-archiving/EEW-Image-Assets/blob/master/Jupyter%20instructions/pressplay.JPG?raw=true)\n",
    "* You may get a warning that the notebook was not authored by Google. We know, we authored them! It’s okay. Click “Run Anyway” to continue. \n",
    "![Error Message](https://github.com/edgi-govdata-archiving/EEW-Image-Assets/blob/master/Jupyter%20instructions/warning-message.JPG?raw=true)\n",
    "* **It is important to run cells in order because they depend on each other.**\n",
    "* Run all of the cells in a Notebook to make a complete report. Please feel free to look at and **learn about each result as you create it**!"
   ]
  },
  {
   "cell_type": "markdown",
   "metadata": {},
   "source": [
    "---"
   ]
  },
  {
   "cell_type": "markdown",
   "metadata": {},
   "source": [
    "# **Let's begin!**"
   ]
  },
  {
   "cell_type": "markdown",
   "metadata": {},
   "source": [
    "Hover over the \"[ ]\" on the top left corner of the cell below and you should see a \"play\" button appear. Click on it to run the cell then move to the next one.\n",
    "\n",
    "These first two cells give us access to some external Python code we will need."
   ]
  },
  {
   "cell_type": "markdown",
   "metadata": {},
   "source": [
    "### 1.  Bring in some code that is stored in a Github project."
   ]
  },
  {
   "cell_type": "code",
   "execution_count": null,
   "metadata": {},
   "outputs": [],
   "source": [
    "!git clone https://github.com/edgi-govdata-archiving/ECHO_modules.git\n",
    "!git clone https://github.com/edgi-govdata-archiving/ECHO-Cross-Program.git\n",
    "print(\"Done!\")"
   ]
  },
  {
   "cell_type": "markdown",
   "metadata": {},
   "source": [
    "### 2.  Run a few Python modules.\n",
    "These will help us process and visualize the different program data sets later."
   ]
  },
  {
   "cell_type": "code",
   "execution_count": 14,
   "metadata": {},
   "outputs": [
    {
     "name": "stdout",
     "output_type": "stream",
     "text": [
      "Done!\n"
     ]
    }
   ],
   "source": [
    "%run ECHO_modules/DataSet.py\n",
    "%run ECHO-Cross-Program/utilities.py\n",
    "%run ECHO_modules/make_data_sets.py\n",
    "print(\"Done!\")"
   ]
  },
  {
   "cell_type": "markdown",
   "metadata": {},
   "source": [
    "### 3.  Run this next cell to create the widget to choose whether you want to view facilities by state, county, congressional district or zip code.\n",
    "Choose the type of region and proceed to the next cell."
   ]
  },
  {
   "cell_type": "code",
   "execution_count": 2,
   "metadata": {},
   "outputs": [
    {
     "data": {
      "application/vnd.jupyter.widget-view+json": {
       "model_id": "e8bd0a66627245c29022f4afca006818",
       "version_major": 2,
       "version_minor": 0
      },
      "text/plain": [
       "Dropdown(description='Region of interest:', index=2, options=('State', 'Congressional District', 'County', 'Zi…"
      ]
     },
     "metadata": {},
     "output_type": "display_data"
    }
   ],
   "source": [
    "region_type_widget = show_region_type_widget()\n",
    "state_widget = None"
   ]
  },
  {
   "cell_type": "markdown",
   "metadata": {},
   "source": [
    "### 4.  Select your state of interest.  _If you are interested in a zip code analysis, this can be skipped._"
   ]
  },
  {
   "cell_type": "code",
   "execution_count": 3,
   "metadata": {},
   "outputs": [
    {
     "data": {
      "application/vnd.jupyter.widget-view+json": {
       "model_id": "29a44c925db449f4b490c50451b8d68b",
       "version_major": 2,
       "version_minor": 0
      },
      "text/plain": [
       "Dropdown(description='State:', options=('AL', 'AK', 'AZ', 'AR', 'CA', 'CO', 'CT', 'DC', 'DE', 'FL', 'GA', 'HI'…"
      ]
     },
     "metadata": {},
     "output_type": "display_data"
    }
   ],
   "source": [
    "state_widget = show_state_widget()"
   ]
  },
  {
   "cell_type": "markdown",
   "metadata": {},
   "source": [
    "### 5.  Run this cell.\n",
    "It will ask you to specify which Congressional District, county, or zip code you want to look at. If you want to look at an entire state, you should still run this cell, but you won't see any output.\n",
    "\n",
    "For reference, here is a map of congressional districts: https://www.govtrack.us/congress/members/map"
   ]
  },
  {
   "cell_type": "code",
   "execution_count": 4,
   "metadata": {
    "scrolled": true
   },
   "outputs": [
    {
     "data": {
      "application/vnd.jupyter.widget-view+json": {
       "model_id": "59616bf6cf8e48eaa71a6b1ba93b5b58",
       "version_major": 2,
       "version_minor": 0
      },
      "text/plain": [
       "IntText(value=98225, description='Zip Code:')"
      ]
     },
     "metadata": {},
     "output_type": "display_data"
    }
   ],
   "source": [
    "region_widget = None\n",
    "if ( region_type_widget.value != 'State' ):\n",
    "    region_widget = show_pick_region_widget( type=region_type_widget.value,\n",
    "                                           state_widget=state_widget )"
   ]
  },
  {
   "cell_type": "markdown",
   "metadata": {},
   "source": [
    "### 6. This cell creates data sets for facilities in the region and presents a dropdown selection."
   ]
  },
  {
   "cell_type": "code",
   "execution_count": 5,
   "metadata": {},
   "outputs": [
    {
     "data": {
      "application/vnd.jupyter.widget-view+json": {
       "model_id": "4b8463c513084a4399323a6c830db152",
       "version_major": 2,
       "version_minor": 0
      },
      "text/plain": [
       "Dropdown(description='Data sets:', options=('RCRA Violations', 'RCRA Inspections', 'RCRA Penalties', 'CAA Insp…"
      ]
     },
     "metadata": {},
     "output_type": "display_data"
    }
   ],
   "source": [
    "data_sets = make_data_sets()\n",
    "\n",
    "data_set_widget = show_data_set_widget( data_sets )"
   ]
  },
  {
   "cell_type": "markdown",
   "metadata": {},
   "source": [
    "## Graph program-specific data for all the facilities in the region.\n",
    "### First, choose the program (Air, Water, Drinking Water, and Hazardous Waste) and type of data (Emissions, Violations, Inspections, Enforcement) you want to explore\n",
    "\n",
    "Running the code below will show you a dropdown you can use to make a selection. **Inspections** or **evaluations** are usually the first phase in the enforcement pipeline, how many (but not all) violations are discovered.  **Violations** happen when a facilty is found to be out of compliance with an environmental law, often by violating the terms of its permit issued under that law.  **Enforcement actions** happen when the regulating agency decides to initiate a \"case\" against a firm for its violation of an environmental law, either by considering some administrative penalty such as a fine or by taking the violator to court. \n",
    "\n",
    "What's available for you to look at here:\n",
    "\n",
    "**Hazardous and Other Waste**:\n",
    "- RCRA_EVALUATIONS = Inspections under RCRA\n",
    "- RCRA_VIOLATIONS = Violations of RCRA rules\n",
    "- RCRA_ENFORCEMENTS = Enforcement actions taken by state agencies and the EPA\n",
    "\n",
    "Here's where you can find definitions of terms used in the columns of RCRA data: \n",
    "https://echo.epa.gov/tools/data-downloads/rcrainfo-download-summary \n",
    "\n",
    "**Air**:\n",
    "- ICIS-AIR_VIOLATION_HISTORY = CAA violations\n",
    "- ICIS-AIR_FCES_PCES = Both state and federal CAA compliance evaluations\n",
    "- ICIS-AIR_FORMAL_ACTIONS = CAA formal enforcement actions\n",
    "\n",
    "Here's where you can find definitions of terms used in the columns of Clean Air Act data: \n",
    "https://echo.epa.gov/tools/data-downloads/icis-air-download-summary\n",
    "\n",
    "**Air Emissions** (Combined air emissions data for stationary sources from four EPA air programs: National Emissions Inventory (NEI), Greenhouse Gas Reporting Program (GHGRP), Toxic Release Inventory (TRI), and Clean Air Markets (CAMD)):\n",
    "- Greenhouse Gases via POLL_RPT_COMBINED_EMISSIONS\n",
    "- Toxic Releases via POLL_RPT_COMBINED_EMISSIONS\n",
    "\n",
    "Here's where you can find definitions of terms used in the columns of this data: https://echo.epa.gov/tools/data-downloads/air-emissions-download-summary\n",
    "\n",
    "**Water** (National Pollutant Discharge Elimination System, or NPDES):\n",
    "- NPDES_QNCR_HISTORY = CWA Quarterly Non-Compliance History\n",
    "- NPDES_INSPECTIONS = CWA Inspections\n",
    "- NPDES_FORMAL_ENFORCEMENT_ACTIONS = CWA Enforcements\n",
    "\n",
    "Here's where you can find definitions of terms used in the columns of Clean Water Act data: https://echo.epa.gov/tools/data-downloads/icis-npdes-download-summary\n",
    "\n",
    "**Drinking Water** (Safe Drinking Water Act, or SDWA):\n",
    "- SDWA_PUB_WATER_SYSTEMS = Public Water Systems under Safe Drinking Water Act\n",
    "- SDWA_SITE_VISITS = Safe Drinking Water Site Visits\n",
    "- SDWA_VIOLATIONS = Safe Drinking Water Violations\n",
    "- SDWA_SERIOUS_VIOLATORS = Safe Drinking Water Serious Violators\n",
    "- SDWA_ENFORCEMENTS = Safe Drinking Water Enforcements\n",
    "- SDWA_RETURN_TO_COMPLIANCE = Safe Drinking Water Return to Compliance\n",
    "\n",
    "Here's where you can find definitions of terms used in the columns of Clean Water Act data: https://echo.epa.gov/tools/data-downloads/sdwa-download-summary"
   ]
  },
  {
   "cell_type": "markdown",
   "metadata": {},
   "source": [
    "### 7. Once you've chosen the program and data type you want to focus on...\n",
    "....run the code below, which will access our database and retrieve the information. \n",
    "#### This is the main query of the remote database.  It may take some time if there are thousands of facilities in your region that report to the selected program."
   ]
  },
  {
   "cell_type": "code",
   "execution_count": 6,
   "metadata": {
    "scrolled": true
   },
   "outputs": [
    {
     "name": "stdout",
     "output_type": "stream",
     "text": [
      "873 program records were found\n",
      "CPU times: user 40.4 ms, sys: 8.82 ms, total: 49.3 ms\n",
      "Wall time: 1.64 s\n"
     ]
    },
    {
     "data": {
      "text/html": [
       "<div>\n",
       "<style scoped>\n",
       "    .dataframe tbody tr th:only-of-type {\n",
       "        vertical-align: middle;\n",
       "    }\n",
       "\n",
       "    .dataframe tbody tr th {\n",
       "        vertical-align: top;\n",
       "    }\n",
       "\n",
       "    .dataframe thead th {\n",
       "        text-align: right;\n",
       "    }\n",
       "</style>\n",
       "<table border=\"1\" class=\"dataframe\">\n",
       "  <thead>\n",
       "    <tr style=\"text-align: right;\">\n",
       "      <th></th>\n",
       "      <th>YEARQTR</th>\n",
       "      <th>HLRNC</th>\n",
       "      <th>NUME90Q</th>\n",
       "      <th>NUMCVDT</th>\n",
       "      <th>NUMSVCD</th>\n",
       "      <th>NUMPSCH</th>\n",
       "      <th>FAC_NAME</th>\n",
       "      <th>FAC_STREET</th>\n",
       "      <th>FAC_CITY</th>\n",
       "      <th>FAC_STATE</th>\n",
       "      <th>FAC_ZIP</th>\n",
       "      <th>FAC_COUNTY</th>\n",
       "      <th>FAC_EPA_REGION</th>\n",
       "      <th>FAC_LAT</th>\n",
       "      <th>FAC_LONG</th>\n",
       "      <th>FAC_DERIVED_WBD</th>\n",
       "      <th>FAC_DERIVED_CD113</th>\n",
       "      <th>FAC_PERCENT_MINORITY</th>\n",
       "      <th>FAC_POP_DEN</th>\n",
       "      <th>DFR_URL</th>\n",
       "    </tr>\n",
       "    <tr>\n",
       "      <th>NPDES_ID</th>\n",
       "      <th></th>\n",
       "      <th></th>\n",
       "      <th></th>\n",
       "      <th></th>\n",
       "      <th></th>\n",
       "      <th></th>\n",
       "      <th></th>\n",
       "      <th></th>\n",
       "      <th></th>\n",
       "      <th></th>\n",
       "      <th></th>\n",
       "      <th></th>\n",
       "      <th></th>\n",
       "      <th></th>\n",
       "      <th></th>\n",
       "      <th></th>\n",
       "      <th></th>\n",
       "      <th></th>\n",
       "      <th></th>\n",
       "      <th></th>\n",
       "    </tr>\n",
       "  </thead>\n",
       "  <tbody>\n",
       "    <tr>\n",
       "      <th>NY0212946</th>\n",
       "      <td>19981</td>\n",
       "      <td>N</td>\n",
       "      <td>0</td>\n",
       "      <td>0</td>\n",
       "      <td>0</td>\n",
       "      <td>0</td>\n",
       "      <td>ASHLAND DISTRIBUTION</td>\n",
       "      <td>SOUTH STREET</td>\n",
       "      <td>RENSSELAER</td>\n",
       "      <td>NY</td>\n",
       "      <td>12144</td>\n",
       "      <td>RENSSELAER</td>\n",
       "      <td>2</td>\n",
       "      <td>42.633917</td>\n",
       "      <td>-73.743306</td>\n",
       "      <td>2.020006e+10</td>\n",
       "      <td>20.0</td>\n",
       "      <td>46.298</td>\n",
       "      <td>3010.21</td>\n",
       "      <td>http://echo.epa.gov/detailed-facility-report?f...</td>\n",
       "    </tr>\n",
       "    <tr>\n",
       "      <th>NY0212946</th>\n",
       "      <td>19982</td>\n",
       "      <td>N</td>\n",
       "      <td>0</td>\n",
       "      <td>0</td>\n",
       "      <td>0</td>\n",
       "      <td>0</td>\n",
       "      <td>ASHLAND DISTRIBUTION</td>\n",
       "      <td>SOUTH STREET</td>\n",
       "      <td>RENSSELAER</td>\n",
       "      <td>NY</td>\n",
       "      <td>12144</td>\n",
       "      <td>RENSSELAER</td>\n",
       "      <td>2</td>\n",
       "      <td>42.633917</td>\n",
       "      <td>-73.743306</td>\n",
       "      <td>2.020006e+10</td>\n",
       "      <td>20.0</td>\n",
       "      <td>46.298</td>\n",
       "      <td>3010.21</td>\n",
       "      <td>http://echo.epa.gov/detailed-facility-report?f...</td>\n",
       "    </tr>\n",
       "    <tr>\n",
       "      <th>NY0212946</th>\n",
       "      <td>19983</td>\n",
       "      <td>N</td>\n",
       "      <td>4</td>\n",
       "      <td>0</td>\n",
       "      <td>0</td>\n",
       "      <td>0</td>\n",
       "      <td>ASHLAND DISTRIBUTION</td>\n",
       "      <td>SOUTH STREET</td>\n",
       "      <td>RENSSELAER</td>\n",
       "      <td>NY</td>\n",
       "      <td>12144</td>\n",
       "      <td>RENSSELAER</td>\n",
       "      <td>2</td>\n",
       "      <td>42.633917</td>\n",
       "      <td>-73.743306</td>\n",
       "      <td>2.020006e+10</td>\n",
       "      <td>20.0</td>\n",
       "      <td>46.298</td>\n",
       "      <td>3010.21</td>\n",
       "      <td>http://echo.epa.gov/detailed-facility-report?f...</td>\n",
       "    </tr>\n",
       "    <tr>\n",
       "      <th>NY0212946</th>\n",
       "      <td>19984</td>\n",
       "      <td>N</td>\n",
       "      <td>0</td>\n",
       "      <td>0</td>\n",
       "      <td>0</td>\n",
       "      <td>0</td>\n",
       "      <td>ASHLAND DISTRIBUTION</td>\n",
       "      <td>SOUTH STREET</td>\n",
       "      <td>RENSSELAER</td>\n",
       "      <td>NY</td>\n",
       "      <td>12144</td>\n",
       "      <td>RENSSELAER</td>\n",
       "      <td>2</td>\n",
       "      <td>42.633917</td>\n",
       "      <td>-73.743306</td>\n",
       "      <td>2.020006e+10</td>\n",
       "      <td>20.0</td>\n",
       "      <td>46.298</td>\n",
       "      <td>3010.21</td>\n",
       "      <td>http://echo.epa.gov/detailed-facility-report?f...</td>\n",
       "    </tr>\n",
       "    <tr>\n",
       "      <th>NY0212946</th>\n",
       "      <td>19991</td>\n",
       "      <td>N</td>\n",
       "      <td>3</td>\n",
       "      <td>0</td>\n",
       "      <td>0</td>\n",
       "      <td>0</td>\n",
       "      <td>ASHLAND DISTRIBUTION</td>\n",
       "      <td>SOUTH STREET</td>\n",
       "      <td>RENSSELAER</td>\n",
       "      <td>NY</td>\n",
       "      <td>12144</td>\n",
       "      <td>RENSSELAER</td>\n",
       "      <td>2</td>\n",
       "      <td>42.633917</td>\n",
       "      <td>-73.743306</td>\n",
       "      <td>2.020006e+10</td>\n",
       "      <td>20.0</td>\n",
       "      <td>46.298</td>\n",
       "      <td>3010.21</td>\n",
       "      <td>http://echo.epa.gov/detailed-facility-report?f...</td>\n",
       "    </tr>\n",
       "    <tr>\n",
       "      <th>...</th>\n",
       "      <td>...</td>\n",
       "      <td>...</td>\n",
       "      <td>...</td>\n",
       "      <td>...</td>\n",
       "      <td>...</td>\n",
       "      <td>...</td>\n",
       "      <td>...</td>\n",
       "      <td>...</td>\n",
       "      <td>...</td>\n",
       "      <td>...</td>\n",
       "      <td>...</td>\n",
       "      <td>...</td>\n",
       "      <td>...</td>\n",
       "      <td>...</td>\n",
       "      <td>...</td>\n",
       "      <td>...</td>\n",
       "      <td>...</td>\n",
       "      <td>...</td>\n",
       "      <td>...</td>\n",
       "      <td>...</td>\n",
       "    </tr>\n",
       "    <tr>\n",
       "      <th>NY0028444</th>\n",
       "      <td>20181</td>\n",
       "      <td>C</td>\n",
       "      <td>0</td>\n",
       "      <td>0</td>\n",
       "      <td>0</td>\n",
       "      <td>0</td>\n",
       "      <td>GETTY TERMINAL #58260</td>\n",
       "      <td>49 RIVERSIDE AVE</td>\n",
       "      <td>RENSSELAER</td>\n",
       "      <td>NY</td>\n",
       "      <td>12144</td>\n",
       "      <td>RENSSELAER</td>\n",
       "      <td>2</td>\n",
       "      <td>42.621722</td>\n",
       "      <td>-73.752250</td>\n",
       "      <td>2.020006e+10</td>\n",
       "      <td>20.0</td>\n",
       "      <td>43.061</td>\n",
       "      <td>2411.39</td>\n",
       "      <td>http://echo.epa.gov/detailed-facility-report?f...</td>\n",
       "    </tr>\n",
       "    <tr>\n",
       "      <th>NY0028444</th>\n",
       "      <td>20182</td>\n",
       "      <td>C</td>\n",
       "      <td>0</td>\n",
       "      <td>0</td>\n",
       "      <td>0</td>\n",
       "      <td>0</td>\n",
       "      <td>GETTY TERMINAL #58260</td>\n",
       "      <td>49 RIVERSIDE AVE</td>\n",
       "      <td>RENSSELAER</td>\n",
       "      <td>NY</td>\n",
       "      <td>12144</td>\n",
       "      <td>RENSSELAER</td>\n",
       "      <td>2</td>\n",
       "      <td>42.621722</td>\n",
       "      <td>-73.752250</td>\n",
       "      <td>2.020006e+10</td>\n",
       "      <td>20.0</td>\n",
       "      <td>43.061</td>\n",
       "      <td>2411.39</td>\n",
       "      <td>http://echo.epa.gov/detailed-facility-report?f...</td>\n",
       "    </tr>\n",
       "    <tr>\n",
       "      <th>NY0028444</th>\n",
       "      <td>20183</td>\n",
       "      <td>C</td>\n",
       "      <td>0</td>\n",
       "      <td>0</td>\n",
       "      <td>0</td>\n",
       "      <td>0</td>\n",
       "      <td>GETTY TERMINAL #58260</td>\n",
       "      <td>49 RIVERSIDE AVE</td>\n",
       "      <td>RENSSELAER</td>\n",
       "      <td>NY</td>\n",
       "      <td>12144</td>\n",
       "      <td>RENSSELAER</td>\n",
       "      <td>2</td>\n",
       "      <td>42.621722</td>\n",
       "      <td>-73.752250</td>\n",
       "      <td>2.020006e+10</td>\n",
       "      <td>20.0</td>\n",
       "      <td>43.061</td>\n",
       "      <td>2411.39</td>\n",
       "      <td>http://echo.epa.gov/detailed-facility-report?f...</td>\n",
       "    </tr>\n",
       "    <tr>\n",
       "      <th>NY0028444</th>\n",
       "      <td>20184</td>\n",
       "      <td>C</td>\n",
       "      <td>0</td>\n",
       "      <td>0</td>\n",
       "      <td>0</td>\n",
       "      <td>0</td>\n",
       "      <td>GETTY TERMINAL #58260</td>\n",
       "      <td>49 RIVERSIDE AVE</td>\n",
       "      <td>RENSSELAER</td>\n",
       "      <td>NY</td>\n",
       "      <td>12144</td>\n",
       "      <td>RENSSELAER</td>\n",
       "      <td>2</td>\n",
       "      <td>42.621722</td>\n",
       "      <td>-73.752250</td>\n",
       "      <td>2.020006e+10</td>\n",
       "      <td>20.0</td>\n",
       "      <td>43.061</td>\n",
       "      <td>2411.39</td>\n",
       "      <td>http://echo.epa.gov/detailed-facility-report?f...</td>\n",
       "    </tr>\n",
       "    <tr>\n",
       "      <th>NY0028444</th>\n",
       "      <td>20191</td>\n",
       "      <td>C</td>\n",
       "      <td>0</td>\n",
       "      <td>0</td>\n",
       "      <td>0</td>\n",
       "      <td>0</td>\n",
       "      <td>GETTY TERMINAL #58260</td>\n",
       "      <td>49 RIVERSIDE AVE</td>\n",
       "      <td>RENSSELAER</td>\n",
       "      <td>NY</td>\n",
       "      <td>12144</td>\n",
       "      <td>RENSSELAER</td>\n",
       "      <td>2</td>\n",
       "      <td>42.621722</td>\n",
       "      <td>-73.752250</td>\n",
       "      <td>2.020006e+10</td>\n",
       "      <td>20.0</td>\n",
       "      <td>43.061</td>\n",
       "      <td>2411.39</td>\n",
       "      <td>http://echo.epa.gov/detailed-facility-report?f...</td>\n",
       "    </tr>\n",
       "  </tbody>\n",
       "</table>\n",
       "<p>873 rows × 20 columns</p>\n",
       "</div>"
      ],
      "text/plain": [
       "           YEARQTR HLRNC  NUME90Q  NUMCVDT  NUMSVCD  NUMPSCH  \\\n",
       "NPDES_ID                                                       \n",
       "NY0212946    19981     N        0        0        0        0   \n",
       "NY0212946    19982     N        0        0        0        0   \n",
       "NY0212946    19983     N        4        0        0        0   \n",
       "NY0212946    19984     N        0        0        0        0   \n",
       "NY0212946    19991     N        3        0        0        0   \n",
       "...            ...   ...      ...      ...      ...      ...   \n",
       "NY0028444    20181     C        0        0        0        0   \n",
       "NY0028444    20182     C        0        0        0        0   \n",
       "NY0028444    20183     C        0        0        0        0   \n",
       "NY0028444    20184     C        0        0        0        0   \n",
       "NY0028444    20191     C        0        0        0        0   \n",
       "\n",
       "                        FAC_NAME        FAC_STREET    FAC_CITY FAC_STATE  \\\n",
       "NPDES_ID                                                                   \n",
       "NY0212946   ASHLAND DISTRIBUTION      SOUTH STREET  RENSSELAER        NY   \n",
       "NY0212946   ASHLAND DISTRIBUTION      SOUTH STREET  RENSSELAER        NY   \n",
       "NY0212946   ASHLAND DISTRIBUTION      SOUTH STREET  RENSSELAER        NY   \n",
       "NY0212946   ASHLAND DISTRIBUTION      SOUTH STREET  RENSSELAER        NY   \n",
       "NY0212946   ASHLAND DISTRIBUTION      SOUTH STREET  RENSSELAER        NY   \n",
       "...                          ...               ...         ...       ...   \n",
       "NY0028444  GETTY TERMINAL #58260  49 RIVERSIDE AVE  RENSSELAER        NY   \n",
       "NY0028444  GETTY TERMINAL #58260  49 RIVERSIDE AVE  RENSSELAER        NY   \n",
       "NY0028444  GETTY TERMINAL #58260  49 RIVERSIDE AVE  RENSSELAER        NY   \n",
       "NY0028444  GETTY TERMINAL #58260  49 RIVERSIDE AVE  RENSSELAER        NY   \n",
       "NY0028444  GETTY TERMINAL #58260  49 RIVERSIDE AVE  RENSSELAER        NY   \n",
       "\n",
       "           FAC_ZIP  FAC_COUNTY  FAC_EPA_REGION    FAC_LAT   FAC_LONG  \\\n",
       "NPDES_ID                                                               \n",
       "NY0212946    12144  RENSSELAER               2  42.633917 -73.743306   \n",
       "NY0212946    12144  RENSSELAER               2  42.633917 -73.743306   \n",
       "NY0212946    12144  RENSSELAER               2  42.633917 -73.743306   \n",
       "NY0212946    12144  RENSSELAER               2  42.633917 -73.743306   \n",
       "NY0212946    12144  RENSSELAER               2  42.633917 -73.743306   \n",
       "...            ...         ...             ...        ...        ...   \n",
       "NY0028444    12144  RENSSELAER               2  42.621722 -73.752250   \n",
       "NY0028444    12144  RENSSELAER               2  42.621722 -73.752250   \n",
       "NY0028444    12144  RENSSELAER               2  42.621722 -73.752250   \n",
       "NY0028444    12144  RENSSELAER               2  42.621722 -73.752250   \n",
       "NY0028444    12144  RENSSELAER               2  42.621722 -73.752250   \n",
       "\n",
       "           FAC_DERIVED_WBD  FAC_DERIVED_CD113  FAC_PERCENT_MINORITY  \\\n",
       "NPDES_ID                                                              \n",
       "NY0212946     2.020006e+10               20.0                46.298   \n",
       "NY0212946     2.020006e+10               20.0                46.298   \n",
       "NY0212946     2.020006e+10               20.0                46.298   \n",
       "NY0212946     2.020006e+10               20.0                46.298   \n",
       "NY0212946     2.020006e+10               20.0                46.298   \n",
       "...                    ...                ...                   ...   \n",
       "NY0028444     2.020006e+10               20.0                43.061   \n",
       "NY0028444     2.020006e+10               20.0                43.061   \n",
       "NY0028444     2.020006e+10               20.0                43.061   \n",
       "NY0028444     2.020006e+10               20.0                43.061   \n",
       "NY0028444     2.020006e+10               20.0                43.061   \n",
       "\n",
       "           FAC_POP_DEN                                            DFR_URL  \n",
       "NPDES_ID                                                                   \n",
       "NY0212946      3010.21  http://echo.epa.gov/detailed-facility-report?f...  \n",
       "NY0212946      3010.21  http://echo.epa.gov/detailed-facility-report?f...  \n",
       "NY0212946      3010.21  http://echo.epa.gov/detailed-facility-report?f...  \n",
       "NY0212946      3010.21  http://echo.epa.gov/detailed-facility-report?f...  \n",
       "NY0212946      3010.21  http://echo.epa.gov/detailed-facility-report?f...  \n",
       "...                ...                                                ...  \n",
       "NY0028444      2411.39  http://echo.epa.gov/detailed-facility-report?f...  \n",
       "NY0028444      2411.39  http://echo.epa.gov/detailed-facility-report?f...  \n",
       "NY0028444      2411.39  http://echo.epa.gov/detailed-facility-report?f...  \n",
       "NY0028444      2411.39  http://echo.epa.gov/detailed-facility-report?f...  \n",
       "NY0028444      2411.39  http://echo.epa.gov/detailed-facility-report?f...  \n",
       "\n",
       "[873 rows x 20 columns]"
      ]
     },
     "execution_count": 6,
     "metadata": {},
     "output_type": "execute_result"
    }
   ],
   "source": [
    "%%time\n",
    "region_selected = None\n",
    "if ( region_type_widget.value != 'State' ):\n",
    "    region_selected = region_widget.value\n",
    "program = data_sets[ data_set_widget.value ]\n",
    "program_data = program.get_data( region_type=region_type_widget.value, \n",
    "                        region_value=region_widget.value if region_widget is not None else None, \n",
    "                        state=state_widget.value if state_widget is not None else None )\n",
    "program_data"
   ]
  },
  {
   "cell_type": "markdown",
   "metadata": {},
   "source": [
    "## Create an interactive map of all of the facilities in the area that report to EPA\n",
    "### 8. Once you run this cell, a map should appear. Facilities will be clustered by area. You can zoom in and click on each facility to get its name, the EPA programs that monitor it, and a link to a more detailed report.\n",
    "\n",
    "The EPA program acronyms are:\n",
    "- CAA = Clean Air Act\n",
    "- CWA = Clean Water Act\n",
    "- SDWIS = Safe Drinking Water Information System\n",
    "- RCRA = Resource Conservation and Recovery Act\n",
    "- TRI = Toxics Release Inventory\n",
    "- GHG = Greenhouse Gas Reporting Program\n",
    "\n",
    "_Note:_ You might find that there are some facilities located outside of the region you selected. That's probably beacuse of an issue in how EPA generates spatial information for facilities."
   ]
  },
  {
   "cell_type": "code",
   "execution_count": 7,
   "metadata": {
    "scrolled": true
   },
   "outputs": [
    {
     "data": {
      "text/html": [
       "<div style=\"width:100%;\"><div style=\"position:relative;width:100%;height:0;padding-bottom:60%;\"><iframe src=\"data:text/html;charset=utf-8;base64,PCFET0NUWVBFIGh0bWw+CjxoZWFkPiAgICAKICAgIDxtZXRhIGh0dHAtZXF1aXY9ImNvbnRlbnQtdHlwZSIgY29udGVudD0idGV4dC9odG1sOyBjaGFyc2V0PVVURi04IiAvPgogICAgCiAgICAgICAgPHNjcmlwdD4KICAgICAgICAgICAgTF9OT19UT1VDSCA9IGZhbHNlOwogICAgICAgICAgICBMX0RJU0FCTEVfM0QgPSBmYWxzZTsKICAgICAgICA8L3NjcmlwdD4KICAgIAogICAgPHNjcmlwdCBzcmM9Imh0dHBzOi8vY2RuLmpzZGVsaXZyLm5ldC9ucG0vbGVhZmxldEAxLjUuMS9kaXN0L2xlYWZsZXQuanMiPjwvc2NyaXB0PgogICAgPHNjcmlwdCBzcmM9Imh0dHBzOi8vY29kZS5qcXVlcnkuY29tL2pxdWVyeS0xLjEyLjQubWluLmpzIj48L3NjcmlwdD4KICAgIDxzY3JpcHQgc3JjPSJodHRwczovL21heGNkbi5ib290c3RyYXBjZG4uY29tL2Jvb3RzdHJhcC8zLjIuMC9qcy9ib290c3RyYXAubWluLmpzIj48L3NjcmlwdD4KICAgIDxzY3JpcHQgc3JjPSJodHRwczovL2NkbmpzLmNsb3VkZmxhcmUuY29tL2FqYXgvbGlicy9MZWFmbGV0LmF3ZXNvbWUtbWFya2Vycy8yLjAuMi9sZWFmbGV0LmF3ZXNvbWUtbWFya2Vycy5qcyI+PC9zY3JpcHQ+CiAgICA8bGluayByZWw9InN0eWxlc2hlZXQiIGhyZWY9Imh0dHBzOi8vY2RuLmpzZGVsaXZyLm5ldC9ucG0vbGVhZmxldEAxLjUuMS9kaXN0L2xlYWZsZXQuY3NzIi8+CiAgICA8bGluayByZWw9InN0eWxlc2hlZXQiIGhyZWY9Imh0dHBzOi8vbWF4Y2RuLmJvb3RzdHJhcGNkbi5jb20vYm9vdHN0cmFwLzMuMi4wL2Nzcy9ib290c3RyYXAubWluLmNzcyIvPgogICAgPGxpbmsgcmVsPSJzdHlsZXNoZWV0IiBocmVmPSJodHRwczovL21heGNkbi5ib290c3RyYXBjZG4uY29tL2Jvb3RzdHJhcC8zLjIuMC9jc3MvYm9vdHN0cmFwLXRoZW1lLm1pbi5jc3MiLz4KICAgIDxsaW5rIHJlbD0ic3R5bGVzaGVldCIgaHJlZj0iaHR0cHM6Ly9tYXhjZG4uYm9vdHN0cmFwY2RuLmNvbS9mb250LWF3ZXNvbWUvNC42LjMvY3NzL2ZvbnQtYXdlc29tZS5taW4uY3NzIi8+CiAgICA8bGluayByZWw9InN0eWxlc2hlZXQiIGhyZWY9Imh0dHBzOi8vY2RuanMuY2xvdWRmbGFyZS5jb20vYWpheC9saWJzL0xlYWZsZXQuYXdlc29tZS1tYXJrZXJzLzIuMC4yL2xlYWZsZXQuYXdlc29tZS1tYXJrZXJzLmNzcyIvPgogICAgPGxpbmsgcmVsPSJzdHlsZXNoZWV0IiBocmVmPSJodHRwczovL3Jhd2Nkbi5naXRoYWNrLmNvbS9weXRob24tdmlzdWFsaXphdGlvbi9mb2xpdW0vbWFzdGVyL2ZvbGl1bS90ZW1wbGF0ZXMvbGVhZmxldC5hd2Vzb21lLnJvdGF0ZS5jc3MiLz4KICAgIDxzdHlsZT5odG1sLCBib2R5IHt3aWR0aDogMTAwJTtoZWlnaHQ6IDEwMCU7bWFyZ2luOiAwO3BhZGRpbmc6IDA7fTwvc3R5bGU+CiAgICA8c3R5bGU+I21hcCB7cG9zaXRpb246YWJzb2x1dGU7dG9wOjA7Ym90dG9tOjA7cmlnaHQ6MDtsZWZ0OjA7fTwvc3R5bGU+CiAgICAKICAgICAgICAgICAgPG1ldGEgbmFtZT0idmlld3BvcnQiIGNvbnRlbnQ9IndpZHRoPWRldmljZS13aWR0aCwKICAgICAgICAgICAgICAgIGluaXRpYWwtc2NhbGU9MS4wLCBtYXhpbXVtLXNjYWxlPTEuMCwgdXNlci1zY2FsYWJsZT1ubyIgLz4KICAgICAgICAgICAgPHN0eWxlPgogICAgICAgICAgICAgICAgI21hcF82ZjcyN2E1YTY0MzI0MjczYTdkODY0OTk3ZmJjZDA1NiB7CiAgICAgICAgICAgICAgICAgICAgcG9zaXRpb246IHJlbGF0aXZlOwogICAgICAgICAgICAgICAgICAgIHdpZHRoOiAxMDAuMCU7CiAgICAgICAgICAgICAgICAgICAgaGVpZ2h0OiAxMDAuMCU7CiAgICAgICAgICAgICAgICAgICAgbGVmdDogMC4wJTsKICAgICAgICAgICAgICAgICAgICB0b3A6IDAuMCU7CiAgICAgICAgICAgICAgICB9CiAgICAgICAgICAgIDwvc3R5bGU+CiAgICAgICAgCiAgICA8c2NyaXB0IHNyYz0iaHR0cHM6Ly9jZG5qcy5jbG91ZGZsYXJlLmNvbS9hamF4L2xpYnMvbGVhZmxldC5tYXJrZXJjbHVzdGVyLzEuMS4wL2xlYWZsZXQubWFya2VyY2x1c3Rlci5qcyI+PC9zY3JpcHQ+CiAgICA8bGluayByZWw9InN0eWxlc2hlZXQiIGhyZWY9Imh0dHBzOi8vY2RuanMuY2xvdWRmbGFyZS5jb20vYWpheC9saWJzL2xlYWZsZXQubWFya2VyY2x1c3Rlci8xLjEuMC9NYXJrZXJDbHVzdGVyLmNzcyIvPgogICAgPGxpbmsgcmVsPSJzdHlsZXNoZWV0IiBocmVmPSJodHRwczovL2NkbmpzLmNsb3VkZmxhcmUuY29tL2FqYXgvbGlicy9sZWFmbGV0Lm1hcmtlcmNsdXN0ZXIvMS4xLjAvTWFya2VyQ2x1c3Rlci5EZWZhdWx0LmNzcyIvPgo8L2hlYWQ+Cjxib2R5PiAgICAKICAgIAogICAgICAgICAgICA8ZGl2IGNsYXNzPSJmb2xpdW0tbWFwIiBpZD0ibWFwXzZmNzI3YTVhNjQzMjQyNzNhN2Q4NjQ5OTdmYmNkMDU2IiA+PC9kaXY+CiAgICAgICAgCjwvYm9keT4KPHNjcmlwdD4gICAgCiAgICAKICAgICAgICAgICAgdmFyIG1hcF82ZjcyN2E1YTY0MzI0MjczYTdkODY0OTk3ZmJjZDA1NiA9IEwubWFwKAogICAgICAgICAgICAgICAgIm1hcF82ZjcyN2E1YTY0MzI0MjczYTdkODY0OTk3ZmJjZDA1NiIsCiAgICAgICAgICAgICAgICB7CiAgICAgICAgICAgICAgICAgICAgY2VudGVyOiBbNDIuNjI5NDgwMTg1MTg1MTksIC03My43NDQzNzE5NjI5NjI5Nl0sCiAgICAgICAgICAgICAgICAgICAgY3JzOiBMLkNSUy5FUFNHMzg1NywKICAgICAgICAgICAgICAgICAgICB6b29tOiAxMCwKICAgICAgICAgICAgICAgICAgICB6b29tQ29udHJvbDogdHJ1ZSwKICAgICAgICAgICAgICAgICAgICBwcmVmZXJDYW52YXM6IGZhbHNlLAogICAgICAgICAgICAgICAgfQogICAgICAgICAgICApOwoKICAgICAgICAgICAgCgogICAgICAgIAogICAgCiAgICAgICAgICAgIHZhciB0aWxlX2xheWVyXzdlNmUwOTU5NTkyZDRhY2U4ZTY3ZTViZTg1ZDdlNTc5ID0gTC50aWxlTGF5ZXIoCiAgICAgICAgICAgICAgICAiaHR0cHM6Ly97c30udGlsZS5vcGVuc3RyZWV0bWFwLm9yZy97en0ve3h9L3t5fS5wbmciLAogICAgICAgICAgICAgICAgeyJhdHRyaWJ1dGlvbiI6ICJEYXRhIGJ5IFx1MDAyNmNvcHk7IFx1MDAzY2EgaHJlZj1cImh0dHA6Ly9vcGVuc3RyZWV0bWFwLm9yZ1wiXHUwMDNlT3BlblN0cmVldE1hcFx1MDAzYy9hXHUwMDNlLCB1bmRlciBcdTAwM2NhIGhyZWY9XCJodHRwOi8vd3d3Lm9wZW5zdHJlZXRtYXAub3JnL2NvcHlyaWdodFwiXHUwMDNlT0RiTFx1MDAzYy9hXHUwMDNlLiIsICJkZXRlY3RSZXRpbmEiOiBmYWxzZSwgIm1heE5hdGl2ZVpvb20iOiAxOCwgIm1heFpvb20iOiAxOCwgIm1pblpvb20iOiAwLCAibm9XcmFwIjogZmFsc2UsICJvcGFjaXR5IjogMSwgInN1YmRvbWFpbnMiOiAiYWJjIiwgInRtcyI6IGZhbHNlfQogICAgICAgICAgICApLmFkZFRvKG1hcF82ZjcyN2E1YTY0MzI0MjczYTdkODY0OTk3ZmJjZDA1Nik7CiAgICAgICAgCiAgICAKICAgICAgICAgICAgdmFyIGZhc3RfbWFya2VyX2NsdXN0ZXJfZDg1NDU3YmU5YWZjNGY3NTg2YWU2NThhY2JkMTRiZDMgPSAoZnVuY3Rpb24oKXsKICAgICAgICAgICAgICAgIAogICAgICAgICAgICAgICAgdmFyIGNhbGxiYWNrID0gZnVuY3Rpb24gKHJvdykgewogICAgICAgICAgICAgICAgICAgIHZhciBpY29uID0gTC5Bd2Vzb21lTWFya2Vycy5pY29uKCk7CiAgICAgICAgICAgICAgICAgICAgdmFyIG1hcmtlciA9IEwubWFya2VyKG5ldyBMLkxhdExuZyhyb3dbMF0sIHJvd1sxXSkpOwogICAgICAgICAgICAgICAgICAgIG1hcmtlci5zZXRJY29uKGljb24pOwogICAgICAgICAgICAgICAgICAgIHJldHVybiBtYXJrZXI7CiAgICAgICAgICAgICAgICB9OwoKICAgICAgICAgICAgICAgIHZhciBkYXRhID0gW107CiAgICAgICAgICAgICAgICB2YXIgY2x1c3RlciA9IEwubWFya2VyQ2x1c3Rlckdyb3VwKHt9KTsKCiAgICAgICAgICAgICAgICBmb3IgKHZhciBpID0gMDsgaSA8IGRhdGEubGVuZ3RoOyBpKyspIHsKICAgICAgICAgICAgICAgICAgICB2YXIgcm93ID0gZGF0YVtpXTsKICAgICAgICAgICAgICAgICAgICB2YXIgbWFya2VyID0gY2FsbGJhY2socm93KTsKICAgICAgICAgICAgICAgICAgICBtYXJrZXIuYWRkVG8oY2x1c3Rlcik7CiAgICAgICAgICAgICAgICB9CgogICAgICAgICAgICAgICAgY2x1c3Rlci5hZGRUbyhtYXBfNmY3MjdhNWE2NDMyNDI3M2E3ZDg2NDk5N2ZiY2QwNTYpOwogICAgICAgICAgICAgICAgcmV0dXJuIGNsdXN0ZXI7CiAgICAgICAgICAgIH0pKCk7CiAgICAgICAgCiAgICAKICAgICAgICAgICAgdmFyIGNpcmNsZV9tYXJrZXJfZmQ5ZTAyYmNmMDEwNGJjODk4MGU3ZGRlNzJkNGM1NGUgPSBMLmNpcmNsZU1hcmtlcigKICAgICAgICAgICAgICAgIFs0Mi42MzM5MTcsIC03My43NDMzMDZdLAogICAgICAgICAgICAgICAgeyJidWJibGluZ01vdXNlRXZlbnRzIjogdHJ1ZSwgImNvbG9yIjogImJsYWNrIiwgImRhc2hBcnJheSI6IG51bGwsICJkYXNoT2Zmc2V0IjogbnVsbCwgImZpbGwiOiB0cnVlLCAiZmlsbENvbG9yIjogIm9yYW5nZSIsICJmaWxsT3BhY2l0eSI6IDAuNCwgImZpbGxSdWxlIjogImV2ZW5vZGQiLCAibGluZUNhcCI6ICJyb3VuZCIsICJsaW5lSm9pbiI6ICJyb3VuZCIsICJvcGFjaXR5IjogMS4wLCAicmFkaXVzIjogOCwgInN0cm9rZSI6IHRydWUsICJ3ZWlnaHQiOiAxfQogICAgICAgICAgICApLmFkZFRvKGZhc3RfbWFya2VyX2NsdXN0ZXJfZDg1NDU3YmU5YWZjNGY3NTg2YWU2NThhY2JkMTRiZDMpOwogICAgICAgIAogICAgCiAgICAgICAgdmFyIHBvcHVwX2QzMmQzNzFkZDY4OTQ4ODg5NWUzMzRhNmI5NmM3OGI1ID0gTC5wb3B1cCh7Im1heFdpZHRoIjogIjEwMCUifSk7CgogICAgICAgIAogICAgICAgICAgICB2YXIgaHRtbF8yODVmOTZmNjk3NDA0YWFiODUzYTg2Mzk5NjEyNjBjMSA9ICQoYDxkaXYgaWQ9Imh0bWxfMjg1Zjk2ZjY5NzQwNGFhYjg1M2E4NjM5OTYxMjYwYzEiIHN0eWxlPSJ3aWR0aDogMTAwLjAlOyBoZWlnaHQ6IDEwMC4wJTsiPkFTSExBTkQgRElTVFJJQlVUSU9OIC0gIC0gPHA+PGEgaHJlZj0naHR0cDovL2VjaG8uZXBhLmdvdi9kZXRhaWxlZC1mYWNpbGl0eS1yZXBvcnQ/ZmlkPTExMDAwMDU4MjUwMicgdGFyZ2V0PSdfYmxhbmsnPkxpbmsgdG8gRUNITyBkZXRhaWxlZCByZXBvcnQ8L2E+PC9wPjwvZGl2PmApWzBdOwogICAgICAgICAgICBwb3B1cF9kMzJkMzcxZGQ2ODk0ODg4OTVlMzM0YTZiOTZjNzhiNS5zZXRDb250ZW50KGh0bWxfMjg1Zjk2ZjY5NzQwNGFhYjg1M2E4NjM5OTYxMjYwYzEpOwogICAgICAgIAoKICAgICAgICBjaXJjbGVfbWFya2VyX2ZkOWUwMmJjZjAxMDRiYzg5ODBlN2RkZTcyZDRjNTRlLmJpbmRQb3B1cChwb3B1cF9kMzJkMzcxZGQ2ODk0ODg4OTVlMzM0YTZiOTZjNzhiNSkKICAgICAgICA7CgogICAgICAgIAogICAgCiAgICAKICAgICAgICAgICAgdmFyIGNpcmNsZV9tYXJrZXJfYmZiOWI1YmEyZjM1NDlhZmEwZTdhOWQ4MDA5MmY1OTQgPSBMLmNpcmNsZU1hcmtlcigKICAgICAgICAgICAgICAgIFs0Mi42Mjk2MSwgLTczLjc0OTAzXSwKICAgICAgICAgICAgICAgIHsiYnViYmxpbmdNb3VzZUV2ZW50cyI6IHRydWUsICJjb2xvciI6ICJibGFjayIsICJkYXNoQXJyYXkiOiBudWxsLCAiZGFzaE9mZnNldCI6IG51bGwsICJmaWxsIjogdHJ1ZSwgImZpbGxDb2xvciI6ICJvcmFuZ2UiLCAiZmlsbE9wYWNpdHkiOiAwLjQsICJmaWxsUnVsZSI6ICJldmVub2RkIiwgImxpbmVDYXAiOiAicm91bmQiLCAibGluZUpvaW4iOiAicm91bmQiLCAib3BhY2l0eSI6IDEuMCwgInJhZGl1cyI6IDgsICJzdHJva2UiOiB0cnVlLCAid2VpZ2h0IjogMX0KICAgICAgICAgICAgKS5hZGRUbyhmYXN0X21hcmtlcl9jbHVzdGVyX2Q4NTQ1N2JlOWFmYzRmNzU4NmFlNjU4YWNiZDE0YmQzKTsKICAgICAgICAKICAgIAogICAgICAgIHZhciBwb3B1cF84OTUwY2JiZDg4Mjc0MjhjYWE3ZmI3NjExZmU4OTVlOSA9IEwucG9wdXAoeyJtYXhXaWR0aCI6ICIxMDAlIn0pOwoKICAgICAgICAKICAgICAgICAgICAgdmFyIGh0bWxfY2JmNWFhZTk2OTA1NDA0Zjg3MzE5MDYwMzlkYmUyOWQgPSAkKGA8ZGl2IGlkPSJodG1sX2NiZjVhYWU5NjkwNTQwNGY4NzMxOTA2MDM5ZGJlMjlkIiBzdHlsZT0id2lkdGg6IDEwMC4wJTsgaGVpZ2h0OiAxMDAuMCU7Ij5FTVBJUkUgR0VORVJBVElORyBDTywgTExDLiAtICAtIDxwPjxhIGhyZWY9J2h0dHA6Ly9lY2hvLmVwYS5nb3YvZGV0YWlsZWQtZmFjaWxpdHktcmVwb3J0P2ZpZD0xMTAwMjA5OTYwODMnIHRhcmdldD0nX2JsYW5rJz5MaW5rIHRvIEVDSE8gZGV0YWlsZWQgcmVwb3J0PC9hPjwvcD48L2Rpdj5gKVswXTsKICAgICAgICAgICAgcG9wdXBfODk1MGNiYmQ4ODI3NDI4Y2FhN2ZiNzYxMWZlODk1ZTkuc2V0Q29udGVudChodG1sX2NiZjVhYWU5NjkwNTQwNGY4NzMxOTA2MDM5ZGJlMjlkKTsKICAgICAgICAKCiAgICAgICAgY2lyY2xlX21hcmtlcl9iZmI5YjViYTJmMzU0OWFmYTBlN2E5ZDgwMDkyZjU5NC5iaW5kUG9wdXAocG9wdXBfODk1MGNiYmQ4ODI3NDI4Y2FhN2ZiNzYxMWZlODk1ZTkpCiAgICAgICAgOwoKICAgICAgICAKICAgIAogICAgCiAgICAgICAgICAgIHZhciBjaXJjbGVfbWFya2VyXzM5ZWE4OWVmYzc5MTQ1NTY4OTViZjQzMmY5MWU5MzExID0gTC5jaXJjbGVNYXJrZXIoCiAgICAgICAgICAgICAgICBbNDIuNjQyODUsIC03My43NDMwNjk5OTk5OTk5OV0sCiAgICAgICAgICAgICAgICB7ImJ1YmJsaW5nTW91c2VFdmVudHMiOiB0cnVlLCAiY29sb3IiOiAiYmxhY2siLCAiZGFzaEFycmF5IjogbnVsbCwgImRhc2hPZmZzZXQiOiBudWxsLCAiZmlsbCI6IHRydWUsICJmaWxsQ29sb3IiOiAib3JhbmdlIiwgImZpbGxPcGFjaXR5IjogMC40LCAiZmlsbFJ1bGUiOiAiZXZlbm9kZCIsICJsaW5lQ2FwIjogInJvdW5kIiwgImxpbmVKb2luIjogInJvdW5kIiwgIm9wYWNpdHkiOiAxLjAsICJyYWRpdXMiOiA4LCAic3Ryb2tlIjogdHJ1ZSwgIndlaWdodCI6IDF9CiAgICAgICAgICAgICkuYWRkVG8oZmFzdF9tYXJrZXJfY2x1c3Rlcl9kODU0NTdiZTlhZmM0Zjc1ODZhZTY1OGFjYmQxNGJkMyk7CiAgICAgICAgCiAgICAKICAgICAgICB2YXIgcG9wdXBfODNjMzQ2ZmM5MzFhNGM2YWI0NDViOTBkYzA5ZmQyZWUgPSBMLnBvcHVwKHsibWF4V2lkdGgiOiAiMTAwJSJ9KTsKCiAgICAgICAgCiAgICAgICAgICAgIHZhciBodG1sXzcyYzcyMjliYjdiODRjMGM5Nzk4YjE0NjRhMzY4MGY1ID0gJChgPGRpdiBpZD0iaHRtbF83MmM3MjI5YmI3Yjg0YzBjOTc5OGIxNDY0YTM2ODBmNSIgc3R5bGU9IndpZHRoOiAxMDAuMCU7IGhlaWdodDogMTAwLjAlOyI+UkVOU1NFTEFFUiBDSVRZIFBXUyAtICAtIDxwPjxhIGhyZWY9J2h0dHA6Ly9lY2hvLmVwYS5nb3YvZGV0YWlsZWQtZmFjaWxpdHktcmVwb3J0P2ZpZD0xMTAwMTA3NjM4MTUnIHRhcmdldD0nX2JsYW5rJz5MaW5rIHRvIEVDSE8gZGV0YWlsZWQgcmVwb3J0PC9hPjwvcD48L2Rpdj5gKVswXTsKICAgICAgICAgICAgcG9wdXBfODNjMzQ2ZmM5MzFhNGM2YWI0NDViOTBkYzA5ZmQyZWUuc2V0Q29udGVudChodG1sXzcyYzcyMjliYjdiODRjMGM5Nzk4YjE0NjRhMzY4MGY1KTsKICAgICAgICAKCiAgICAgICAgY2lyY2xlX21hcmtlcl8zOWVhODllZmM3OTE0NTU2ODk1YmY0MzJmOTFlOTMxMS5iaW5kUG9wdXAocG9wdXBfODNjMzQ2ZmM5MzFhNGM2YWI0NDViOTBkYzA5ZmQyZWUpCiAgICAgICAgOwoKICAgICAgICAKICAgIAogICAgCiAgICAgICAgICAgIHZhciBjaXJjbGVfbWFya2VyXzcyM2NlZTYzODJlNzQyYmViMjJhYjQ1ODhmMzkzNGQ4ID0gTC5jaXJjbGVNYXJrZXIoCiAgICAgICAgICAgICAgICBbNDIuNjEzNzc4LCAtNzMuNzUxODYxXSwKICAgICAgICAgICAgICAgIHsiYnViYmxpbmdNb3VzZUV2ZW50cyI6IHRydWUsICJjb2xvciI6ICJibGFjayIsICJkYXNoQXJyYXkiOiBudWxsLCAiZGFzaE9mZnNldCI6IG51bGwsICJmaWxsIjogdHJ1ZSwgImZpbGxDb2xvciI6ICJvcmFuZ2UiLCAiZmlsbE9wYWNpdHkiOiAwLjQsICJmaWxsUnVsZSI6ICJldmVub2RkIiwgImxpbmVDYXAiOiAicm91bmQiLCAibGluZUpvaW4iOiAicm91bmQiLCAib3BhY2l0eSI6IDEuMCwgInJhZGl1cyI6IDgsICJzdHJva2UiOiB0cnVlLCAid2VpZ2h0IjogMX0KICAgICAgICAgICAgKS5hZGRUbyhmYXN0X21hcmtlcl9jbHVzdGVyX2Q4NTQ1N2JlOWFmYzRmNzU4NmFlNjU4YWNiZDE0YmQzKTsKICAgICAgICAKICAgIAogICAgICAgIHZhciBwb3B1cF8zYTQwMDlmZTQwNTc0ZjRjYWZlY2FjNGI1ZTFkZjBiNiA9IEwucG9wdXAoeyJtYXhXaWR0aCI6ICIxMDAlIn0pOwoKICAgICAgICAKICAgICAgICAgICAgdmFyIGh0bWxfMjU4ZjdhMDZhZDU2NDRiODk1OGE3ZmM0NDdmYzk5MTUgPSAkKGA8ZGl2IGlkPSJodG1sXzI1OGY3YTA2YWQ1NjQ0Yjg5NThhN2ZjNDQ3ZmM5OTE1IiBzdHlsZT0id2lkdGg6IDEwMC4wJTsgaGVpZ2h0OiAxMDAuMCU7Ij5TUFJBR1VFIFJFTlNTRUxBRVIgVEVSTUlOQUwgLSAgLSA8cD48YSBocmVmPSdodHRwOi8vZWNoby5lcGEuZ292L2RldGFpbGVkLWZhY2lsaXR5LXJlcG9ydD9maWQ9MTEwMDA3MTUwODIxJyB0YXJnZXQ9J19ibGFuayc+TGluayB0byBFQ0hPIGRldGFpbGVkIHJlcG9ydDwvYT48L3A+PC9kaXY+YClbMF07CiAgICAgICAgICAgIHBvcHVwXzNhNDAwOWZlNDA1NzRmNGNhZmVjYWM0YjVlMWRmMGI2LnNldENvbnRlbnQoaHRtbF8yNThmN2EwNmFkNTY0NGI4OTU4YTdmYzQ0N2ZjOTkxNSk7CiAgICAgICAgCgogICAgICAgIGNpcmNsZV9tYXJrZXJfNzIzY2VlNjM4MmU3NDJiZWIyMmFiNDU4OGYzOTM0ZDguYmluZFBvcHVwKHBvcHVwXzNhNDAwOWZlNDA1NzRmNGNhZmVjYWM0YjVlMWRmMGI2KQogICAgICAgIDsKCiAgICAgICAgCiAgICAKICAgIAogICAgICAgICAgICB2YXIgY2lyY2xlX21hcmtlcl8yZjA0MGU3NGVkMjQ0YWJmODZhYmEzOWFmNjBhZjk3ZiA9IEwuY2lyY2xlTWFya2VyKAogICAgICAgICAgICAgICAgWzQyLjYxODA4MywgLTczLjc1NjA4Mjk5OTk5OTk5XSwKICAgICAgICAgICAgICAgIHsiYnViYmxpbmdNb3VzZUV2ZW50cyI6IHRydWUsICJjb2xvciI6ICJibGFjayIsICJkYXNoQXJyYXkiOiBudWxsLCAiZGFzaE9mZnNldCI6IG51bGwsICJmaWxsIjogdHJ1ZSwgImZpbGxDb2xvciI6ICJvcmFuZ2UiLCAiZmlsbE9wYWNpdHkiOiAwLjQsICJmaWxsUnVsZSI6ICJldmVub2RkIiwgImxpbmVDYXAiOiAicm91bmQiLCAibGluZUpvaW4iOiAicm91bmQiLCAib3BhY2l0eSI6IDEuMCwgInJhZGl1cyI6IDgsICJzdHJva2UiOiB0cnVlLCAid2VpZ2h0IjogMX0KICAgICAgICAgICAgKS5hZGRUbyhmYXN0X21hcmtlcl9jbHVzdGVyX2Q4NTQ1N2JlOWFmYzRmNzU4NmFlNjU4YWNiZDE0YmQzKTsKICAgICAgICAKICAgIAogICAgICAgIHZhciBwb3B1cF9lZGI3ZjJhOGZlMjU0OGZhYTU1YWFkMjVhMDYzNjcyMyA9IEwucG9wdXAoeyJtYXhXaWR0aCI6ICIxMDAlIn0pOwoKICAgICAgICAKICAgICAgICAgICAgdmFyIGh0bWxfZDVkMTU4MmFhOGFhNGUzNDllMWFlOTUzZjg5OTcwOWIgPSAkKGA8ZGl2IGlkPSJodG1sX2Q1ZDE1ODJhYThhYTRlMzQ5ZTFhZTk1M2Y4OTk3MDliIiBzdHlsZT0id2lkdGg6IDEwMC4wJTsgaGVpZ2h0OiAxMDAuMCU7Ij5DRU5FWCBSRU5TU0VMQUVSIFRFUk1JTkFMIC0gIC0gPHA+PGEgaHJlZj0naHR0cDovL2VjaG8uZXBhLmdvdi9kZXRhaWxlZC1mYWNpbGl0eS1yZXBvcnQ/ZmlkPTExMDAwMTU4MzYwNycgdGFyZ2V0PSdfYmxhbmsnPkxpbmsgdG8gRUNITyBkZXRhaWxlZCByZXBvcnQ8L2E+PC9wPjwvZGl2PmApWzBdOwogICAgICAgICAgICBwb3B1cF9lZGI3ZjJhOGZlMjU0OGZhYTU1YWFkMjVhMDYzNjcyMy5zZXRDb250ZW50KGh0bWxfZDVkMTU4MmFhOGFhNGUzNDllMWFlOTUzZjg5OTcwOWIpOwogICAgICAgIAoKICAgICAgICBjaXJjbGVfbWFya2VyXzJmMDQwZTc0ZWQyNDRhYmY4NmFiYTM5YWY2MGFmOTdmLmJpbmRQb3B1cChwb3B1cF9lZGI3ZjJhOGZlMjU0OGZhYTU1YWFkMjVhMDYzNjcyMykKICAgICAgICA7CgogICAgICAgIAogICAgCiAgICAKICAgICAgICAgICAgdmFyIGNpcmNsZV9tYXJrZXJfYzVlZTZhMTY5NmRiNDFiZjllODk2NzM0ZTI0MDNkMzcgPSBMLmNpcmNsZU1hcmtlcigKICAgICAgICAgICAgICAgIFs0Mi42MzAzMjAwMDAwMDAwMDUsIC03My43NTAwOTldLAogICAgICAgICAgICAgICAgeyJidWJibGluZ01vdXNlRXZlbnRzIjogdHJ1ZSwgImNvbG9yIjogImJsYWNrIiwgImRhc2hBcnJheSI6IG51bGwsICJkYXNoT2Zmc2V0IjogbnVsbCwgImZpbGwiOiB0cnVlLCAiZmlsbENvbG9yIjogIm9yYW5nZSIsICJmaWxsT3BhY2l0eSI6IDAuNCwgImZpbGxSdWxlIjogImV2ZW5vZGQiLCAibGluZUNhcCI6ICJyb3VuZCIsICJsaW5lSm9pbiI6ICJyb3VuZCIsICJvcGFjaXR5IjogMS4wLCAicmFkaXVzIjogOCwgInN0cm9rZSI6IHRydWUsICJ3ZWlnaHQiOiAxfQogICAgICAgICAgICApLmFkZFRvKGZhc3RfbWFya2VyX2NsdXN0ZXJfZDg1NDU3YmU5YWZjNGY3NTg2YWU2NThhY2JkMTRiZDMpOwogICAgICAgIAogICAgCiAgICAgICAgdmFyIHBvcHVwXzZmMjFiNmMzNGQzNTQ4YTQ5ZWMyODgwNzdlOTk3ZTZiID0gTC5wb3B1cCh7Im1heFdpZHRoIjogIjEwMCUifSk7CgogICAgICAgIAogICAgICAgICAgICB2YXIgaHRtbF9hZTcxYzY5ZGI2MGY0MGZhOGM5MWZhODA5NDcwOTc1NyA9ICQoYDxkaXYgaWQ9Imh0bWxfYWU3MWM2OWRiNjBmNDBmYThjOTFmYTgwOTQ3MDk3NTciIHN0eWxlPSJ3aWR0aDogMTAwLjAlOyBoZWlnaHQ6IDEwMC4wJTsiPlJFTlNTRUxBRVIgSVJPTiAmIFNURUVMIElOQyAtICAtIDxwPjxhIGhyZWY9J2h0dHA6Ly9lY2hvLmVwYS5nb3YvZGV0YWlsZWQtZmFjaWxpdHktcmVwb3J0P2ZpZD0xMTAwMTU3MTMwMjEnIHRhcmdldD0nX2JsYW5rJz5MaW5rIHRvIEVDSE8gZGV0YWlsZWQgcmVwb3J0PC9hPjwvcD48L2Rpdj5gKVswXTsKICAgICAgICAgICAgcG9wdXBfNmYyMWI2YzM0ZDM1NDhhNDllYzI4ODA3N2U5OTdlNmIuc2V0Q29udGVudChodG1sX2FlNzFjNjlkYjYwZjQwZmE4YzkxZmE4MDk0NzA5NzU3KTsKICAgICAgICAKCiAgICAgICAgY2lyY2xlX21hcmtlcl9jNWVlNmExNjk2ZGI0MWJmOWU4OTY3MzRlMjQwM2QzNy5iaW5kUG9wdXAocG9wdXBfNmYyMWI2YzM0ZDM1NDhhNDllYzI4ODA3N2U5OTdlNmIpCiAgICAgICAgOwoKICAgICAgICAKICAgIAogICAgCiAgICAgICAgICAgIHZhciBjaXJjbGVfbWFya2VyX2FhOThkZWM2N2I2NDRjMGNhNTk3ZTgwNmU0ZmY3MTU4ID0gTC5jaXJjbGVNYXJrZXIoCiAgICAgICAgICAgICAgICBbNDIuNjI2MzUsIC03My43NDEyMl0sCiAgICAgICAgICAgICAgICB7ImJ1YmJsaW5nTW91c2VFdmVudHMiOiB0cnVlLCAiY29sb3IiOiAiYmxhY2siLCAiZGFzaEFycmF5IjogbnVsbCwgImRhc2hPZmZzZXQiOiBudWxsLCAiZmlsbCI6IHRydWUsICJmaWxsQ29sb3IiOiAib3JhbmdlIiwgImZpbGxPcGFjaXR5IjogMC40LCAiZmlsbFJ1bGUiOiAiZXZlbm9kZCIsICJsaW5lQ2FwIjogInJvdW5kIiwgImxpbmVKb2luIjogInJvdW5kIiwgIm9wYWNpdHkiOiAxLjAsICJyYWRpdXMiOiA4LCAic3Ryb2tlIjogdHJ1ZSwgIndlaWdodCI6IDF9CiAgICAgICAgICAgICkuYWRkVG8oZmFzdF9tYXJrZXJfY2x1c3Rlcl9kODU0NTdiZTlhZmM0Zjc1ODZhZTY1OGFjYmQxNGJkMyk7CiAgICAgICAgCiAgICAKICAgICAgICB2YXIgcG9wdXBfZmI2ZmIzOWZhYTNhNDgyZWFhOTlkNGY1NDFkMGZlZDIgPSBMLnBvcHVwKHsibWF4V2lkdGgiOiAiMTAwJSJ9KTsKCiAgICAgICAgCiAgICAgICAgICAgIHZhciBodG1sX2U2OGI0YmRiYTRjYjQwOGE4OTc2YTRkZjE2MTYxZjc4ID0gJChgPGRpdiBpZD0iaHRtbF9lNjhiNGJkYmE0Y2I0MDhhODk3NmE0ZGYxNjE2MWY3OCIgc3R5bGU9IndpZHRoOiAxMDAuMCU7IGhlaWdodDogMTAwLjAlOyI+UkVHRU5FUk9OIFBIQVJNQUNVRVRJQ0FMUyAtICAtIDxwPjxhIGhyZWY9J2h0dHA6Ly9lY2hvLmVwYS5nb3YvZGV0YWlsZWQtZmFjaWxpdHktcmVwb3J0P2ZpZD0xMTAwMTk1ODQxNDUnIHRhcmdldD0nX2JsYW5rJz5MaW5rIHRvIEVDSE8gZGV0YWlsZWQgcmVwb3J0PC9hPjwvcD48L2Rpdj5gKVswXTsKICAgICAgICAgICAgcG9wdXBfZmI2ZmIzOWZhYTNhNDgyZWFhOTlkNGY1NDFkMGZlZDIuc2V0Q29udGVudChodG1sX2U2OGI0YmRiYTRjYjQwOGE4OTc2YTRkZjE2MTYxZjc4KTsKICAgICAgICAKCiAgICAgICAgY2lyY2xlX21hcmtlcl9hYTk4ZGVjNjdiNjQ0YzBjYTU5N2U4MDZlNGZmNzE1OC5iaW5kUG9wdXAocG9wdXBfZmI2ZmIzOWZhYTNhNDgyZWFhOTlkNGY1NDFkMGZlZDIpCiAgICAgICAgOwoKICAgICAgICAKICAgIAogICAgCiAgICAgICAgICAgIHZhciBjaXJjbGVfbWFya2VyX2NmNzVhNDkwOGE2NjQ4YWU5NjMyMzMwMTNlNGJiNzJlID0gTC5jaXJjbGVNYXJrZXIoCiAgICAgICAgICAgICAgICBbNDIuNjEzNzc4LCAtNzMuNzUxODYxXSwKICAgICAgICAgICAgICAgIHsiYnViYmxpbmdNb3VzZUV2ZW50cyI6IHRydWUsICJjb2xvciI6ICJibGFjayIsICJkYXNoQXJyYXkiOiBudWxsLCAiZGFzaE9mZnNldCI6IG51bGwsICJmaWxsIjogdHJ1ZSwgImZpbGxDb2xvciI6ICJvcmFuZ2UiLCAiZmlsbE9wYWNpdHkiOiAwLjQsICJmaWxsUnVsZSI6ICJldmVub2RkIiwgImxpbmVDYXAiOiAicm91bmQiLCAibGluZUpvaW4iOiAicm91bmQiLCAib3BhY2l0eSI6IDEuMCwgInJhZGl1cyI6IDgsICJzdHJva2UiOiB0cnVlLCAid2VpZ2h0IjogMX0KICAgICAgICAgICAgKS5hZGRUbyhmYXN0X21hcmtlcl9jbHVzdGVyX2Q4NTQ1N2JlOWFmYzRmNzU4NmFlNjU4YWNiZDE0YmQzKTsKICAgICAgICAKICAgIAogICAgICAgIHZhciBwb3B1cF84N2Q3Yjc5MjA5YzY0MTFhYWEzMzQ0Y2VhYzNkYWEzNCA9IEwucG9wdXAoeyJtYXhXaWR0aCI6ICIxMDAlIn0pOwoKICAgICAgICAKICAgICAgICAgICAgdmFyIGh0bWxfNjE0NjkxMWM3ZDQwNDg3MzhkMjVlMTcwYjc5MTgzMzUgPSAkKGA8ZGl2IGlkPSJodG1sXzYxNDY5MTFjN2Q0MDQ4NzM4ZDI1ZTE3MGI3OTE4MzM1IiBzdHlsZT0id2lkdGg6IDEwMC4wJTsgaGVpZ2h0OiAxMDAuMCU7Ij5TUFJBR1VFIFJFTlNTRUxBRVIgVEVSTUlOQUwgLSAgLSA8cD48YSBocmVmPSdodHRwOi8vZWNoby5lcGEuZ292L2RldGFpbGVkLWZhY2lsaXR5LXJlcG9ydD9maWQ9MTEwMDA3MTUwODIxJyB0YXJnZXQ9J19ibGFuayc+TGluayB0byBFQ0hPIGRldGFpbGVkIHJlcG9ydDwvYT48L3A+PC9kaXY+YClbMF07CiAgICAgICAgICAgIHBvcHVwXzg3ZDdiNzkyMDljNjQxMWFhYTMzNDRjZWFjM2RhYTM0LnNldENvbnRlbnQoaHRtbF82MTQ2OTExYzdkNDA0ODczOGQyNWUxNzBiNzkxODMzNSk7CiAgICAgICAgCgogICAgICAgIGNpcmNsZV9tYXJrZXJfY2Y3NWE0OTA4YTY2NDhhZTk2MzIzMzAxM2U0YmI3MmUuYmluZFBvcHVwKHBvcHVwXzg3ZDdiNzkyMDljNjQxMWFhYTMzNDRjZWFjM2RhYTM0KQogICAgICAgIDsKCiAgICAgICAgCiAgICAKICAgIAogICAgICAgICAgICB2YXIgY2lyY2xlX21hcmtlcl9lMGQzNDg0OWUzMWY0YWU4OWIxMzY2MzU3YThlNzg0ZSA9IEwuY2lyY2xlTWFya2VyKAogICAgICAgICAgICAgICAgWzQyLjYyNjgwNiwgLTczLjc1MzEzOV0sCiAgICAgICAgICAgICAgICB7ImJ1YmJsaW5nTW91c2VFdmVudHMiOiB0cnVlLCAiY29sb3IiOiAiYmxhY2siLCAiZGFzaEFycmF5IjogbnVsbCwgImRhc2hPZmZzZXQiOiBudWxsLCAiZmlsbCI6IHRydWUsICJmaWxsQ29sb3IiOiAib3JhbmdlIiwgImZpbGxPcGFjaXR5IjogMC40LCAiZmlsbFJ1bGUiOiAiZXZlbm9kZCIsICJsaW5lQ2FwIjogInJvdW5kIiwgImxpbmVKb2luIjogInJvdW5kIiwgIm9wYWNpdHkiOiAxLjAsICJyYWRpdXMiOiA4LCAic3Ryb2tlIjogdHJ1ZSwgIndlaWdodCI6IDF9CiAgICAgICAgICAgICkuYWRkVG8oZmFzdF9tYXJrZXJfY2x1c3Rlcl9kODU0NTdiZTlhZmM0Zjc1ODZhZTY1OGFjYmQxNGJkMyk7CiAgICAgICAgCiAgICAKICAgICAgICB2YXIgcG9wdXBfYTEyNjI1NmRiZDljNDBjOGIwY2NhMmMwYjI1ZjljNTMgPSBMLnBvcHVwKHsibWF4V2lkdGgiOiAiMTAwJSJ9KTsKCiAgICAgICAgCiAgICAgICAgICAgIHZhciBodG1sXzI2ZGFjM2VkZWQ1NTQyZWViYmU5OGU1YWVjZDEwMjRmID0gJChgPGRpdiBpZD0iaHRtbF8yNmRhYzNlZGVkNTU0MmVlYmJlOThlNWFlY2QxMDI0ZiIgc3R5bGU9IndpZHRoOiAxMDAuMCU7IGhlaWdodDogMTAwLjAlOyI+RUFTVCBHUkVFTkJVU0ggKFQpIFdXVFAgLSAgLSA8cD48YSBocmVmPSdodHRwOi8vZWNoby5lcGEuZ292L2RldGFpbGVkLWZhY2lsaXR5LXJlcG9ydD9maWQ9MTEwMDAwNzYyMzcyJyB0YXJnZXQ9J19ibGFuayc+TGluayB0byBFQ0hPIGRldGFpbGVkIHJlcG9ydDwvYT48L3A+PC9kaXY+YClbMF07CiAgICAgICAgICAgIHBvcHVwX2ExMjYyNTZkYmQ5YzQwYzhiMGNjYTJjMGIyNWY5YzUzLnNldENvbnRlbnQoaHRtbF8yNmRhYzNlZGVkNTU0MmVlYmJlOThlNWFlY2QxMDI0Zik7CiAgICAgICAgCgogICAgICAgIGNpcmNsZV9tYXJrZXJfZTBkMzQ4NDllMzFmNGFlODliMTM2NjM1N2E4ZTc4NGUuYmluZFBvcHVwKHBvcHVwX2ExMjYyNTZkYmQ5YzQwYzhiMGNjYTJjMGIyNWY5YzUzKQogICAgICAgIDsKCiAgICAgICAgCiAgICAKICAgIAogICAgICAgICAgICB2YXIgY2lyY2xlX21hcmtlcl9jNzI3OWVmYzQyYTQ0ODAyYmM5ZmUzZGQzNmIwNTRhMCA9IEwuY2lyY2xlTWFya2VyKAogICAgICAgICAgICAgICAgWzQyLjY0ODk5OTk5OTk5OTk5NCwgLTczLjc0XSwKICAgICAgICAgICAgICAgIHsiYnViYmxpbmdNb3VzZUV2ZW50cyI6IHRydWUsICJjb2xvciI6ICJibGFjayIsICJkYXNoQXJyYXkiOiBudWxsLCAiZGFzaE9mZnNldCI6IG51bGwsICJmaWxsIjogdHJ1ZSwgImZpbGxDb2xvciI6ICJvcmFuZ2UiLCAiZmlsbE9wYWNpdHkiOiAwLjQsICJmaWxsUnVsZSI6ICJldmVub2RkIiwgImxpbmVDYXAiOiAicm91bmQiLCAibGluZUpvaW4iOiAicm91bmQiLCAib3BhY2l0eSI6IDEuMCwgInJhZGl1cyI6IDgsICJzdHJva2UiOiB0cnVlLCAid2VpZ2h0IjogMX0KICAgICAgICAgICAgKS5hZGRUbyhmYXN0X21hcmtlcl9jbHVzdGVyX2Q4NTQ1N2JlOWFmYzRmNzU4NmFlNjU4YWNiZDE0YmQzKTsKICAgICAgICAKICAgIAogICAgICAgIHZhciBwb3B1cF8wODY3ODExNmM3Yzg0OWNlYTY2MWQ2MDIwNTcwYjBhOCA9IEwucG9wdXAoeyJtYXhXaWR0aCI6ICIxMDAlIn0pOwoKICAgICAgICAKICAgICAgICAgICAgdmFyIGh0bWxfOWVkYjJiZDBjODZiNDIzMDhhNGMzOWY1MmQwNDhiNTUgPSAkKGA8ZGl2IGlkPSJodG1sXzllZGIyYmQwYzg2YjQyMzA4YTRjMzlmNTJkMDQ4YjU1IiBzdHlsZT0id2lkdGg6IDEwMC4wJTsgaGVpZ2h0OiAxMDAuMCU7Ij5BTVRSQUsgUkVOU1NFTEFFUiBNQUlOVEVOQU5DRSBGQUNJTElUWSAtICAtIDxwPjxhIGhyZWY9J2h0dHA6Ly9lY2hvLmVwYS5nb3YvZGV0YWlsZWQtZmFjaWxpdHktcmVwb3J0P2ZpZD0xMTAwMjIzMTIzOTknIHRhcmdldD0nX2JsYW5rJz5MaW5rIHRvIEVDSE8gZGV0YWlsZWQgcmVwb3J0PC9hPjwvcD48L2Rpdj5gKVswXTsKICAgICAgICAgICAgcG9wdXBfMDg2NzgxMTZjN2M4NDljZWE2NjFkNjAyMDU3MGIwYTguc2V0Q29udGVudChodG1sXzllZGIyYmQwYzg2YjQyMzA4YTRjMzlmNTJkMDQ4YjU1KTsKICAgICAgICAKCiAgICAgICAgY2lyY2xlX21hcmtlcl9jNzI3OWVmYzQyYTQ0ODAyYmM5ZmUzZGQzNmIwNTRhMC5iaW5kUG9wdXAocG9wdXBfMDg2NzgxMTZjN2M4NDljZWE2NjFkNjAyMDU3MGIwYTgpCiAgICAgICAgOwoKICAgICAgICAKICAgIAogICAgCiAgICAgICAgICAgIHZhciBjaXJjbGVfbWFya2VyX2Y0ZTk3NDUwYjVmNzQ3MjdiZjAzZjc1ZWRiMjg2MjI4ID0gTC5jaXJjbGVNYXJrZXIoCiAgICAgICAgICAgICAgICBbNDIuNjQyNDU3LCAtNzMuNzQwOTQwMDAwMDAwMDFdLAogICAgICAgICAgICAgICAgeyJidWJibGluZ01vdXNlRXZlbnRzIjogdHJ1ZSwgImNvbG9yIjogImJsYWNrIiwgImRhc2hBcnJheSI6IG51bGwsICJkYXNoT2Zmc2V0IjogbnVsbCwgImZpbGwiOiB0cnVlLCAiZmlsbENvbG9yIjogIm9yYW5nZSIsICJmaWxsT3BhY2l0eSI6IDAuNCwgImZpbGxSdWxlIjogImV2ZW5vZGQiLCAibGluZUNhcCI6ICJyb3VuZCIsICJsaW5lSm9pbiI6ICJyb3VuZCIsICJvcGFjaXR5IjogMS4wLCAicmFkaXVzIjogOCwgInN0cm9rZSI6IHRydWUsICJ3ZWlnaHQiOiAxfQogICAgICAgICAgICApLmFkZFRvKGZhc3RfbWFya2VyX2NsdXN0ZXJfZDg1NDU3YmU5YWZjNGY3NTg2YWU2NThhY2JkMTRiZDMpOwogICAgICAgIAogICAgCiAgICAgICAgdmFyIHBvcHVwXzVmNWU3MmQwMDQyYTRhYjFhM2FkMTc2YjUyYTNkYjQ2ID0gTC5wb3B1cCh7Im1heFdpZHRoIjogIjEwMCUifSk7CgogICAgICAgIAogICAgICAgICAgICB2YXIgaHRtbF9iOTQ3YzllZmU3YWI0ODcyOWQxM2Q5MTRkNDNlNWFhYiA9ICQoYDxkaXYgaWQ9Imh0bWxfYjk0N2M5ZWZlN2FiNDg3MjlkMTNkOTE0ZDQzZTVhYWIiIHN0eWxlPSJ3aWR0aDogMTAwLjAlOyBoZWlnaHQ6IDEwMC4wJTsiPlJFTlNTRUxBRVIgTVM0IFNUT1JNIFNFV0VSUyAtICAtIDxwPjxhIGhyZWY9J2h0dHA6Ly9lY2hvLmVwYS5nb3YvZGV0YWlsZWQtZmFjaWxpdHktcmVwb3J0P2ZpZD0xMTAwMTk1Nzg3MjInIHRhcmdldD0nX2JsYW5rJz5MaW5rIHRvIEVDSE8gZGV0YWlsZWQgcmVwb3J0PC9hPjwvcD48L2Rpdj5gKVswXTsKICAgICAgICAgICAgcG9wdXBfNWY1ZTcyZDAwNDJhNGFiMWEzYWQxNzZiNTJhM2RiNDYuc2V0Q29udGVudChodG1sX2I5NDdjOWVmZTdhYjQ4NzI5ZDEzZDkxNGQ0M2U1YWFiKTsKICAgICAgICAKCiAgICAgICAgY2lyY2xlX21hcmtlcl9mNGU5NzQ1MGI1Zjc0NzI3YmYwM2Y3NWVkYjI4NjIyOC5iaW5kUG9wdXAocG9wdXBfNWY1ZTcyZDAwNDJhNGFiMWEzYWQxNzZiNTJhM2RiNDYpCiAgICAgICAgOwoKICAgICAgICAKICAgIAogICAgCiAgICAgICAgICAgIHZhciBjaXJjbGVfbWFya2VyX2NhMjRkZWEzNGRiZjQ4N2Y4ZmI1YjUxMmZmMGM2YWY2ID0gTC5jaXJjbGVNYXJrZXIoCiAgICAgICAgICAgICAgICBbNDIuNjMxNTI4LCAtNzMuNzQ5Nzc4XSwKICAgICAgICAgICAgICAgIHsiYnViYmxpbmdNb3VzZUV2ZW50cyI6IHRydWUsICJjb2xvciI6ICJibGFjayIsICJkYXNoQXJyYXkiOiBudWxsLCAiZGFzaE9mZnNldCI6IG51bGwsICJmaWxsIjogdHJ1ZSwgImZpbGxDb2xvciI6ICJvcmFuZ2UiLCAiZmlsbE9wYWNpdHkiOiAwLjQsICJmaWxsUnVsZSI6ICJldmVub2RkIiwgImxpbmVDYXAiOiAicm91bmQiLCAibGluZUpvaW4iOiAicm91bmQiLCAib3BhY2l0eSI6IDEuMCwgInJhZGl1cyI6IDgsICJzdHJva2UiOiB0cnVlLCAid2VpZ2h0IjogMX0KICAgICAgICAgICAgKS5hZGRUbyhmYXN0X21hcmtlcl9jbHVzdGVyX2Q4NTQ1N2JlOWFmYzRmNzU4NmFlNjU4YWNiZDE0YmQzKTsKICAgICAgICAKICAgIAogICAgICAgIHZhciBwb3B1cF85YWQ4YTBhMDBiYzM0ODIwYjFhZWE1YzcxY2QzMWRiMCA9IEwucG9wdXAoeyJtYXhXaWR0aCI6ICIxMDAlIn0pOwoKICAgICAgICAKICAgICAgICAgICAgdmFyIGh0bWxfZjY3YTI0NTBkODhkNGJkM2E4MGNlZDEyMWZiZmQ2YTggPSAkKGA8ZGl2IGlkPSJodG1sX2Y2N2EyNDUwZDg4ZDRiZDNhODBjZWQxMjFmYmZkNmE4IiBzdHlsZT0id2lkdGg6IDEwMC4wJTsgaGVpZ2h0OiAxMDAuMCU7Ij5BTVJJIFJFTlNTRUxBRVIgLSAgLSA8cD48YSBocmVmPSdodHRwOi8vZWNoby5lcGEuZ292L2RldGFpbGVkLWZhY2lsaXR5LXJlcG9ydD9maWQ9MTEwMDAwMzI0MzczJyB0YXJnZXQ9J19ibGFuayc+TGluayB0byBFQ0hPIGRldGFpbGVkIHJlcG9ydDwvYT48L3A+PC9kaXY+YClbMF07CiAgICAgICAgICAgIHBvcHVwXzlhZDhhMGEwMGJjMzQ4MjBiMWFlYTVjNzFjZDMxZGIwLnNldENvbnRlbnQoaHRtbF9mNjdhMjQ1MGQ4OGQ0YmQzYTgwY2VkMTIxZmJmZDZhOCk7CiAgICAgICAgCgogICAgICAgIGNpcmNsZV9tYXJrZXJfY2EyNGRlYTM0ZGJmNDg3ZjhmYjViNTEyZmYwYzZhZjYuYmluZFBvcHVwKHBvcHVwXzlhZDhhMGEwMGJjMzQ4MjBiMWFlYTVjNzFjZDMxZGIwKQogICAgICAgIDsKCiAgICAgICAgCiAgICAKICAgIAogICAgICAgICAgICB2YXIgY2lyY2xlX21hcmtlcl80NzcwZjk3OWFjYTk0ZmU1YmRmMjIzMjJiZmU3YjYwZSA9IEwuY2lyY2xlTWFya2VyKAogICAgICAgICAgICAgICAgWzQyLjYyNzQ3MiwgLTczLjc0ODM4OV0sCiAgICAgICAgICAgICAgICB7ImJ1YmJsaW5nTW91c2VFdmVudHMiOiB0cnVlLCAiY29sb3IiOiAiYmxhY2siLCAiZGFzaEFycmF5IjogbnVsbCwgImRhc2hPZmZzZXQiOiBudWxsLCAiZmlsbCI6IHRydWUsICJmaWxsQ29sb3IiOiAib3JhbmdlIiwgImZpbGxPcGFjaXR5IjogMC40LCAiZmlsbFJ1bGUiOiAiZXZlbm9kZCIsICJsaW5lQ2FwIjogInJvdW5kIiwgImxpbmVKb2luIjogInJvdW5kIiwgIm9wYWNpdHkiOiAxLjAsICJyYWRpdXMiOiA4LCAic3Ryb2tlIjogdHJ1ZSwgIndlaWdodCI6IDF9CiAgICAgICAgICAgICkuYWRkVG8oZmFzdF9tYXJrZXJfY2x1c3Rlcl9kODU0NTdiZTlhZmM0Zjc1ODZhZTY1OGFjYmQxNGJkMyk7CiAgICAgICAgCiAgICAKICAgICAgICB2YXIgcG9wdXBfNzAzOTk1ZDdiMzFhNGEzY2JmYTg3ODU4YjI1ZjNjZTYgPSBMLnBvcHVwKHsibWF4V2lkdGgiOiAiMTAwJSJ9KTsKCiAgICAgICAgCiAgICAgICAgICAgIHZhciBodG1sX2JhYWMwMjgyN2VhYzQyZGFiOWMwZDQ2YjliNTQyZTc0ID0gJChgPGRpdiBpZD0iaHRtbF9iYWFjMDI4MjdlYWM0MmRhYjljMGQ0NmI5YjU0MmU3NCIgc3R5bGU9IndpZHRoOiAxMDAuMCU7IGhlaWdodDogMTAwLjAlOyI+QkFTRiBDT1JQIENPQVRJTkdTICYgQ09MT1JBTlRTIERJVi4gLSAgLSA8cD48YSBocmVmPSdodHRwOi8vZWNoby5lcGEuZ292L2RldGFpbGVkLWZhY2lsaXR5LXJlcG9ydD9maWQ9MTEwMDAwMzI0MzM3JyB0YXJnZXQ9J19ibGFuayc+TGluayB0byBFQ0hPIGRldGFpbGVkIHJlcG9ydDwvYT48L3A+PC9kaXY+YClbMF07CiAgICAgICAgICAgIHBvcHVwXzcwMzk5NWQ3YjMxYTRhM2NiZmE4Nzg1OGIyNWYzY2U2LnNldENvbnRlbnQoaHRtbF9iYWFjMDI4MjdlYWM0MmRhYjljMGQ0NmI5YjU0MmU3NCk7CiAgICAgICAgCgogICAgICAgIGNpcmNsZV9tYXJrZXJfNDc3MGY5NzlhY2E5NGZlNWJkZjIyMzIyYmZlN2I2MGUuYmluZFBvcHVwKHBvcHVwXzcwMzk5NWQ3YjMxYTRhM2NiZmE4Nzg1OGIyNWYzY2U2KQogICAgICAgIDsKCiAgICAgICAgCiAgICAKICAgIAogICAgICAgICAgICB2YXIgY2lyY2xlX21hcmtlcl9jMjQ1M2Y1NGQyZmM0ZjcwOTJiYmI1ZmU0NWE1YmUwMSA9IEwuY2lyY2xlTWFya2VyKAogICAgICAgICAgICAgICAgWzQyLjYyNjgwNiwgLTczLjc1MzEzOV0sCiAgICAgICAgICAgICAgICB7ImJ1YmJsaW5nTW91c2VFdmVudHMiOiB0cnVlLCAiY29sb3IiOiAiYmxhY2siLCAiZGFzaEFycmF5IjogbnVsbCwgImRhc2hPZmZzZXQiOiBudWxsLCAiZmlsbCI6IHRydWUsICJmaWxsQ29sb3IiOiAib3JhbmdlIiwgImZpbGxPcGFjaXR5IjogMC40LCAiZmlsbFJ1bGUiOiAiZXZlbm9kZCIsICJsaW5lQ2FwIjogInJvdW5kIiwgImxpbmVKb2luIjogInJvdW5kIiwgIm9wYWNpdHkiOiAxLjAsICJyYWRpdXMiOiA4LCAic3Ryb2tlIjogdHJ1ZSwgIndlaWdodCI6IDF9CiAgICAgICAgICAgICkuYWRkVG8oZmFzdF9tYXJrZXJfY2x1c3Rlcl9kODU0NTdiZTlhZmM0Zjc1ODZhZTY1OGFjYmQxNGJkMyk7CiAgICAgICAgCiAgICAKICAgICAgICB2YXIgcG9wdXBfZGRiNDRmMmQxNDljNDQ3N2EzOTM2MGQ5ZmU4OGY1MDggPSBMLnBvcHVwKHsibWF4V2lkdGgiOiAiMTAwJSJ9KTsKCiAgICAgICAgCiAgICAgICAgICAgIHZhciBodG1sX2U3YjIwYzA5M2QwMTRmZDY4NzlhYTUzMjZkY2NmZmM5ID0gJChgPGRpdiBpZD0iaHRtbF9lN2IyMGMwOTNkMDE0ZmQ2ODc5YWE1MzI2ZGNjZmZjOSIgc3R5bGU9IndpZHRoOiAxMDAuMCU7IGhlaWdodDogMTAwLjAlOyI+RUFTVCBHUkVFTkJVU0ggKFQpIFdXVFAgLSAgLSA8cD48YSBocmVmPSdodHRwOi8vZWNoby5lcGEuZ292L2RldGFpbGVkLWZhY2lsaXR5LXJlcG9ydD9maWQ9MTEwMDAwNzYyMzcyJyB0YXJnZXQ9J19ibGFuayc+TGluayB0byBFQ0hPIGRldGFpbGVkIHJlcG9ydDwvYT48L3A+PC9kaXY+YClbMF07CiAgICAgICAgICAgIHBvcHVwX2RkYjQ0ZjJkMTQ5YzQ0NzdhMzkzNjBkOWZlODhmNTA4LnNldENvbnRlbnQoaHRtbF9lN2IyMGMwOTNkMDE0ZmQ2ODc5YWE1MzI2ZGNjZmZjOSk7CiAgICAgICAgCgogICAgICAgIGNpcmNsZV9tYXJrZXJfYzI0NTNmNTRkMmZjNGY3MDkyYmJiNWZlNDVhNWJlMDEuYmluZFBvcHVwKHBvcHVwX2RkYjQ0ZjJkMTQ5YzQ0NzdhMzkzNjBkOWZlODhmNTA4KQogICAgICAgIDsKCiAgICAgICAgCiAgICAKICAgIAogICAgICAgICAgICB2YXIgY2lyY2xlX21hcmtlcl80MmMwNDNmMjk4NTI0NWE5YmIzZWY3MWIyYWY1ZjcwYSA9IEwuY2lyY2xlTWFya2VyKAogICAgICAgICAgICAgICAgWzQyLjY0MTk2NiwgLTczLjczOTgzNV0sCiAgICAgICAgICAgICAgICB7ImJ1YmJsaW5nTW91c2VFdmVudHMiOiB0cnVlLCAiY29sb3IiOiAiYmxhY2siLCAiZGFzaEFycmF5IjogbnVsbCwgImRhc2hPZmZzZXQiOiBudWxsLCAiZmlsbCI6IHRydWUsICJmaWxsQ29sb3IiOiAib3JhbmdlIiwgImZpbGxPcGFjaXR5IjogMC40LCAiZmlsbFJ1bGUiOiAiZXZlbm9kZCIsICJsaW5lQ2FwIjogInJvdW5kIiwgImxpbmVKb2luIjogInJvdW5kIiwgIm9wYWNpdHkiOiAxLjAsICJyYWRpdXMiOiA4LCAic3Ryb2tlIjogdHJ1ZSwgIndlaWdodCI6IDF9CiAgICAgICAgICAgICkuYWRkVG8oZmFzdF9tYXJrZXJfY2x1c3Rlcl9kODU0NTdiZTlhZmM0Zjc1ODZhZTY1OGFjYmQxNGJkMyk7CiAgICAgICAgCiAgICAKICAgICAgICB2YXIgcG9wdXBfODg3Y2UzZWNlYWJhNGJjYTllMDk4MjI1YjgyYzQ4OTggPSBMLnBvcHVwKHsibWF4V2lkdGgiOiAiMTAwJSJ9KTsKCiAgICAgICAgCiAgICAgICAgICAgIHZhciBodG1sXzE0MmI1NmNkN2VlMzQ1MjM4NGE5MjVlYmM1MWVmZmEyID0gJChgPGRpdiBpZD0iaHRtbF8xNDJiNTZjZDdlZTM0NTIzODRhOTI1ZWJjNTFlZmZhMiIgc3R5bGU9IndpZHRoOiAxMDAuMCU7IGhlaWdodDogMTAwLjAlOyI+UkVOU1NFTEFFUiBQQVNTRU5HRVIgU1RBVElPTiAtICAtIDxwPjxhIGhyZWY9J2h0dHA6Ly9lY2hvLmVwYS5nb3YvZGV0YWlsZWQtZmFjaWxpdHktcmVwb3J0P2ZpZD0xMTAwMzA5MjYwNTAnIHRhcmdldD0nX2JsYW5rJz5MaW5rIHRvIEVDSE8gZGV0YWlsZWQgcmVwb3J0PC9hPjwvcD48L2Rpdj5gKVswXTsKICAgICAgICAgICAgcG9wdXBfODg3Y2UzZWNlYWJhNGJjYTllMDk4MjI1YjgyYzQ4OTguc2V0Q29udGVudChodG1sXzE0MmI1NmNkN2VlMzQ1MjM4NGE5MjVlYmM1MWVmZmEyKTsKICAgICAgICAKCiAgICAgICAgY2lyY2xlX21hcmtlcl80MmMwNDNmMjk4NTI0NWE5YmIzZWY3MWIyYWY1ZjcwYS5iaW5kUG9wdXAocG9wdXBfODg3Y2UzZWNlYWJhNGJjYTllMDk4MjI1YjgyYzQ4OTgpCiAgICAgICAgOwoKICAgICAgICAKICAgIAogICAgCiAgICAgICAgICAgIHZhciBjaXJjbGVfbWFya2VyX2ZkYTRiY2JhZTU3ODQ2OTBiNGUzMDQyZTJmYzU5YTdlID0gTC5jaXJjbGVNYXJrZXIoCiAgICAgICAgICAgICAgICBbNDIuNjQyNDU3LCAtNzMuNzQwOTQwMDAwMDAwMDFdLAogICAgICAgICAgICAgICAgeyJidWJibGluZ01vdXNlRXZlbnRzIjogdHJ1ZSwgImNvbG9yIjogImJsYWNrIiwgImRhc2hBcnJheSI6IG51bGwsICJkYXNoT2Zmc2V0IjogbnVsbCwgImZpbGwiOiB0cnVlLCAiZmlsbENvbG9yIjogIm9yYW5nZSIsICJmaWxsT3BhY2l0eSI6IDAuNCwgImZpbGxSdWxlIjogImV2ZW5vZGQiLCAibGluZUNhcCI6ICJyb3VuZCIsICJsaW5lSm9pbiI6ICJyb3VuZCIsICJvcGFjaXR5IjogMS4wLCAicmFkaXVzIjogOCwgInN0cm9rZSI6IHRydWUsICJ3ZWlnaHQiOiAxfQogICAgICAgICAgICApLmFkZFRvKGZhc3RfbWFya2VyX2NsdXN0ZXJfZDg1NDU3YmU5YWZjNGY3NTg2YWU2NThhY2JkMTRiZDMpOwogICAgICAgIAogICAgCiAgICAgICAgdmFyIHBvcHVwX2FjZTcxZWQ4MWQzNDQyOTk5OWUyZGQ5ZTIyYjI2NGRkID0gTC5wb3B1cCh7Im1heFdpZHRoIjogIjEwMCUifSk7CgogICAgICAgIAogICAgICAgICAgICB2YXIgaHRtbF8wMTYxZDcxZDI1MWY0ZTA1YjQ4OWUwMGZjMmM1Mjg5MSA9ICQoYDxkaXYgaWQ9Imh0bWxfMDE2MWQ3MWQyNTFmNGUwNWI0ODllMDBmYzJjNTI4OTEiIHN0eWxlPSJ3aWR0aDogMTAwLjAlOyBoZWlnaHQ6IDEwMC4wJTsiPlJFTlNTRUxBRVIgTVM0IFNUT1JNIFNFV0VSUyAtICAtIDxwPjxhIGhyZWY9J2h0dHA6Ly9lY2hvLmVwYS5nb3YvZGV0YWlsZWQtZmFjaWxpdHktcmVwb3J0P2ZpZD0xMTAwMTk1Nzg3MjInIHRhcmdldD0nX2JsYW5rJz5MaW5rIHRvIEVDSE8gZGV0YWlsZWQgcmVwb3J0PC9hPjwvcD48L2Rpdj5gKVswXTsKICAgICAgICAgICAgcG9wdXBfYWNlNzFlZDgxZDM0NDI5OTk5ZTJkZDllMjJiMjY0ZGQuc2V0Q29udGVudChodG1sXzAxNjFkNzFkMjUxZjRlMDViNDg5ZTAwZmMyYzUyODkxKTsKICAgICAgICAKCiAgICAgICAgY2lyY2xlX21hcmtlcl9mZGE0YmNiYWU1Nzg0NjkwYjRlMzA0MmUyZmM1OWE3ZS5iaW5kUG9wdXAocG9wdXBfYWNlNzFlZDgxZDM0NDI5OTk5ZTJkZDllMjJiMjY0ZGQpCiAgICAgICAgOwoKICAgICAgICAKICAgIAogICAgCiAgICAgICAgICAgIHZhciBjaXJjbGVfbWFya2VyXzBkNmFiMDYzMjk4ZDRjMWJiOTI1ZGE4ZjI4OGY0ZjUwID0gTC5jaXJjbGVNYXJrZXIoCiAgICAgICAgICAgICAgICBbNDIuNjQ0NTEsIC03My43MzMyMTk5OTk5OTk5OV0sCiAgICAgICAgICAgICAgICB7ImJ1YmJsaW5nTW91c2VFdmVudHMiOiB0cnVlLCAiY29sb3IiOiAiYmxhY2siLCAiZGFzaEFycmF5IjogbnVsbCwgImRhc2hPZmZzZXQiOiBudWxsLCAiZmlsbCI6IHRydWUsICJmaWxsQ29sb3IiOiAib3JhbmdlIiwgImZpbGxPcGFjaXR5IjogMC40LCAiZmlsbFJ1bGUiOiAiZXZlbm9kZCIsICJsaW5lQ2FwIjogInJvdW5kIiwgImxpbmVKb2luIjogInJvdW5kIiwgIm9wYWNpdHkiOiAxLjAsICJyYWRpdXMiOiA4LCAic3Ryb2tlIjogdHJ1ZSwgIndlaWdodCI6IDF9CiAgICAgICAgICAgICkuYWRkVG8oZmFzdF9tYXJrZXJfY2x1c3Rlcl9kODU0NTdiZTlhZmM0Zjc1ODZhZTY1OGFjYmQxNGJkMyk7CiAgICAgICAgCiAgICAKICAgICAgICB2YXIgcG9wdXBfM2JiZWZhZTM4YmQ3NDg1MDk1ZmRkNzM0ODIxYjA0MGQgPSBMLnBvcHVwKHsibWF4V2lkdGgiOiAiMTAwJSJ9KTsKCiAgICAgICAgCiAgICAgICAgICAgIHZhciBodG1sX2RmNDg5OTMzNGFhNzQ1ZWU5YjkyOTM5MGMxZDM2NWYzID0gJChgPGRpdiBpZD0iaHRtbF9kZjQ4OTkzMzRhYTc0NWVlOWI5MjkzOTBjMWQzNjVmMyIgc3R5bGU9IndpZHRoOiAxMDAuMCU7IGhlaWdodDogMTAwLjAlOyI+RFVOTiBNSU5FIEFORCBDJkQgRkFDSUxJVFkgLSAgLSA8cD48YSBocmVmPSdodHRwOi8vZWNoby5lcGEuZ292L2RldGFpbGVkLWZhY2lsaXR5LXJlcG9ydD9maWQ9MTEwMDU5ODA3MTMzJyB0YXJnZXQ9J19ibGFuayc+TGluayB0byBFQ0hPIGRldGFpbGVkIHJlcG9ydDwvYT48L3A+PC9kaXY+YClbMF07CiAgICAgICAgICAgIHBvcHVwXzNiYmVmYWUzOGJkNzQ4NTA5NWZkZDczNDgyMWIwNDBkLnNldENvbnRlbnQoaHRtbF9kZjQ4OTkzMzRhYTc0NWVlOWI5MjkzOTBjMWQzNjVmMyk7CiAgICAgICAgCgogICAgICAgIGNpcmNsZV9tYXJrZXJfMGQ2YWIwNjMyOThkNGMxYmI5MjVkYThmMjg4ZjRmNTAuYmluZFBvcHVwKHBvcHVwXzNiYmVmYWUzOGJkNzQ4NTA5NWZkZDczNDgyMWIwNDBkKQogICAgICAgIDsKCiAgICAgICAgCiAgICAKICAgIAogICAgICAgICAgICB2YXIgY2lyY2xlX21hcmtlcl82M2VkYjBiYjJmNDU0MDlmYWY3MDBhZjBhMTcxZDljOCA9IEwuY2lyY2xlTWFya2VyKAogICAgICAgICAgICAgICAgWzQyLjY0NDE3LCAtNzMuNzA5MzMwMDAwMDAwMDFdLAogICAgICAgICAgICAgICAgeyJidWJibGluZ01vdXNlRXZlbnRzIjogdHJ1ZSwgImNvbG9yIjogImJsYWNrIiwgImRhc2hBcnJheSI6IG51bGwsICJkYXNoT2Zmc2V0IjogbnVsbCwgImZpbGwiOiB0cnVlLCAiZmlsbENvbG9yIjogIm9yYW5nZSIsICJmaWxsT3BhY2l0eSI6IDAuNCwgImZpbGxSdWxlIjogImV2ZW5vZGQiLCAibGluZUNhcCI6ICJyb3VuZCIsICJsaW5lSm9pbiI6ICJyb3VuZCIsICJvcGFjaXR5IjogMS4wLCAicmFkaXVzIjogOCwgInN0cm9rZSI6IHRydWUsICJ3ZWlnaHQiOiAxfQogICAgICAgICAgICApLmFkZFRvKGZhc3RfbWFya2VyX2NsdXN0ZXJfZDg1NDU3YmU5YWZjNGY3NTg2YWU2NThhY2JkMTRiZDMpOwogICAgICAgIAogICAgCiAgICAgICAgdmFyIHBvcHVwX2FkMWY5NzRjN2UwMjRkZDA4OTU0Y2UyMjRlNDhhNGFiID0gTC5wb3B1cCh7Im1heFdpZHRoIjogIjEwMCUifSk7CgogICAgICAgIAogICAgICAgICAgICB2YXIgaHRtbF9mM2NmMTg3Y2FiZWQ0NDhiOGFjZmY3MDRjNWRhYjg5OCA9ICQoYDxkaXYgaWQ9Imh0bWxfZjNjZjE4N2NhYmVkNDQ4YjhhY2ZmNzA0YzVkYWI4OTgiIHN0eWxlPSJ3aWR0aDogMTAwLjAlOyBoZWlnaHQ6IDEwMC4wJTsiPkdBUkVMSUNLIEZBUk1TIE9GIE5ZIC0gIC0gPHA+PGEgaHJlZj0naHR0cDovL2VjaG8uZXBhLmdvdi9kZXRhaWxlZC1mYWNpbGl0eS1yZXBvcnQ/ZmlkPTExMDAxNTY4MTQyMScgdGFyZ2V0PSdfYmxhbmsnPkxpbmsgdG8gRUNITyBkZXRhaWxlZCByZXBvcnQ8L2E+PC9wPjwvZGl2PmApWzBdOwogICAgICAgICAgICBwb3B1cF9hZDFmOTc0YzdlMDI0ZGQwODk1NGNlMjI0ZTQ4YTRhYi5zZXRDb250ZW50KGh0bWxfZjNjZjE4N2NhYmVkNDQ4YjhhY2ZmNzA0YzVkYWI4OTgpOwogICAgICAgIAoKICAgICAgICBjaXJjbGVfbWFya2VyXzYzZWRiMGJiMmY0NTQwOWZhZjcwMGFmMGExNzFkOWM4LmJpbmRQb3B1cChwb3B1cF9hZDFmOTc0YzdlMDI0ZGQwODk1NGNlMjI0ZTQ4YTRhYikKICAgICAgICA7CgogICAgICAgIAogICAgCiAgICAKICAgICAgICAgICAgdmFyIGNpcmNsZV9tYXJrZXJfM2MzNDY1YTI2MmQxNGZmOTk0MzIwZmQ2Y2QzODBiZjQgPSBMLmNpcmNsZU1hcmtlcigKICAgICAgICAgICAgICAgIFs0Mi42MTUyMjE5OTk5OTk5OTYsIC03My43NTA1MjhdLAogICAgICAgICAgICAgICAgeyJidWJibGluZ01vdXNlRXZlbnRzIjogdHJ1ZSwgImNvbG9yIjogImJsYWNrIiwgImRhc2hBcnJheSI6IG51bGwsICJkYXNoT2Zmc2V0IjogbnVsbCwgImZpbGwiOiB0cnVlLCAiZmlsbENvbG9yIjogIm9yYW5nZSIsICJmaWxsT3BhY2l0eSI6IDAuNCwgImZpbGxSdWxlIjogImV2ZW5vZGQiLCAibGluZUNhcCI6ICJyb3VuZCIsICJsaW5lSm9pbiI6ICJyb3VuZCIsICJvcGFjaXR5IjogMS4wLCAicmFkaXVzIjogOCwgInN0cm9rZSI6IHRydWUsICJ3ZWlnaHQiOiAxfQogICAgICAgICAgICApLmFkZFRvKGZhc3RfbWFya2VyX2NsdXN0ZXJfZDg1NDU3YmU5YWZjNGY3NTg2YWU2NThhY2JkMTRiZDMpOwogICAgICAgIAogICAgCiAgICAgICAgdmFyIHBvcHVwXzQ3ZDEyYTcyNTFkMTRmZmVhZmNhNzVjMmQ3ZjI0YzJiID0gTC5wb3B1cCh7Im1heFdpZHRoIjogIjEwMCUifSk7CgogICAgICAgIAogICAgICAgICAgICB2YXIgaHRtbF9mY2E3NWExYWQ1NzY0MDdhYTc4MzM4NjQ5OGQxZWUzZiA9ICQoYDxkaXYgaWQ9Imh0bWxfZmNhNzVhMWFkNTc2NDA3YWE3ODMzODY0OThkMWVlM2YiIHN0eWxlPSJ3aWR0aDogMTAwLjAlOyBoZWlnaHQ6IDEwMC4wJTsiPlNQUkFHVUUgT1BFUkFUSU5HIFJFU09VUkNFUyBMTEMgLSAgLSA8cD48YSBocmVmPSdodHRwOi8vZWNoby5lcGEuZ292L2RldGFpbGVkLWZhY2lsaXR5LXJlcG9ydD9maWQ9MTEwMDAxNTgzNTgxJyB0YXJnZXQ9J19ibGFuayc+TGluayB0byBFQ0hPIGRldGFpbGVkIHJlcG9ydDwvYT48L3A+PC9kaXY+YClbMF07CiAgICAgICAgICAgIHBvcHVwXzQ3ZDEyYTcyNTFkMTRmZmVhZmNhNzVjMmQ3ZjI0YzJiLnNldENvbnRlbnQoaHRtbF9mY2E3NWExYWQ1NzY0MDdhYTc4MzM4NjQ5OGQxZWUzZik7CiAgICAgICAgCgogICAgICAgIGNpcmNsZV9tYXJrZXJfM2MzNDY1YTI2MmQxNGZmOTk0MzIwZmQ2Y2QzODBiZjQuYmluZFBvcHVwKHBvcHVwXzQ3ZDEyYTcyNTFkMTRmZmVhZmNhNzVjMmQ3ZjI0YzJiKQogICAgICAgIDsKCiAgICAgICAgCiAgICAKICAgIAogICAgICAgICAgICB2YXIgY2lyY2xlX21hcmtlcl83YjQxOWFiNmQ2NTA0OWE4OTAwMTgxZjI4ZGM3NmUzYyA9IEwuY2lyY2xlTWFya2VyKAogICAgICAgICAgICAgICAgWzQyLjYyMSwgLTczLjc1Ml0sCiAgICAgICAgICAgICAgICB7ImJ1YmJsaW5nTW91c2VFdmVudHMiOiB0cnVlLCAiY29sb3IiOiAiYmxhY2siLCAiZGFzaEFycmF5IjogbnVsbCwgImRhc2hPZmZzZXQiOiBudWxsLCAiZmlsbCI6IHRydWUsICJmaWxsQ29sb3IiOiAib3JhbmdlIiwgImZpbGxPcGFjaXR5IjogMC40LCAiZmlsbFJ1bGUiOiAiZXZlbm9kZCIsICJsaW5lQ2FwIjogInJvdW5kIiwgImxpbmVKb2luIjogInJvdW5kIiwgIm9wYWNpdHkiOiAxLjAsICJyYWRpdXMiOiA4LCAic3Ryb2tlIjogdHJ1ZSwgIndlaWdodCI6IDF9CiAgICAgICAgICAgICkuYWRkVG8oZmFzdF9tYXJrZXJfY2x1c3Rlcl9kODU0NTdiZTlhZmM0Zjc1ODZhZTY1OGFjYmQxNGJkMyk7CiAgICAgICAgCiAgICAKICAgICAgICB2YXIgcG9wdXBfYzhlY2FlY2QyODNlNDliYmFkMzZkMzBjOWI2OGM4MWMgPSBMLnBvcHVwKHsibWF4V2lkdGgiOiAiMTAwJSJ9KTsKCiAgICAgICAgCiAgICAgICAgICAgIHZhciBodG1sXzljOTBjNmQ0MDY2NjRlNmU4Y2ExMDVlYzU1NWJhMDc1ID0gJChgPGRpdiBpZD0iaHRtbF85YzkwYzZkNDA2NjY0ZTZlOGNhMTA1ZWM1NTViYTA3NSIgc3R5bGU9IndpZHRoOiAxMDAuMCU7IGhlaWdodDogMTAwLjAlOyI+TkVXIENBU1RMRSBBU1BIQUxUIExMQyAtICAtIDxwPjxhIGhyZWY9J2h0dHA6Ly9lY2hvLmVwYS5nb3YvZGV0YWlsZWQtZmFjaWxpdHktcmVwb3J0P2ZpZD0xMTAwNTUwMTAyODcnIHRhcmdldD0nX2JsYW5rJz5MaW5rIHRvIEVDSE8gZGV0YWlsZWQgcmVwb3J0PC9hPjwvcD48L2Rpdj5gKVswXTsKICAgICAgICAgICAgcG9wdXBfYzhlY2FlY2QyODNlNDliYmFkMzZkMzBjOWI2OGM4MWMuc2V0Q29udGVudChodG1sXzljOTBjNmQ0MDY2NjRlNmU4Y2ExMDVlYzU1NWJhMDc1KTsKICAgICAgICAKCiAgICAgICAgY2lyY2xlX21hcmtlcl83YjQxOWFiNmQ2NTA0OWE4OTAwMTgxZjI4ZGM3NmUzYy5iaW5kUG9wdXAocG9wdXBfYzhlY2FlY2QyODNlNDliYmFkMzZkMzBjOWI2OGM4MWMpCiAgICAgICAgOwoKICAgICAgICAKICAgIAogICAgCiAgICAgICAgICAgIHZhciBjaXJjbGVfbWFya2VyX2VjZDg2NWQyNzZmYTQwMTk4YzcxMWY3NTUwZmMyODMzID0gTC5jaXJjbGVNYXJrZXIoCiAgICAgICAgICAgICAgICBbNDIuNjExMDU2LCAtNzMuNzU2ODMzXSwKICAgICAgICAgICAgICAgIHsiYnViYmxpbmdNb3VzZUV2ZW50cyI6IHRydWUsICJjb2xvciI6ICJibGFjayIsICJkYXNoQXJyYXkiOiBudWxsLCAiZGFzaE9mZnNldCI6IG51bGwsICJmaWxsIjogdHJ1ZSwgImZpbGxDb2xvciI6ICJvcmFuZ2UiLCAiZmlsbE9wYWNpdHkiOiAwLjQsICJmaWxsUnVsZSI6ICJldmVub2RkIiwgImxpbmVDYXAiOiAicm91bmQiLCAibGluZUpvaW4iOiAicm91bmQiLCAib3BhY2l0eSI6IDEuMCwgInJhZGl1cyI6IDgsICJzdHJva2UiOiB0cnVlLCAid2VpZ2h0IjogMX0KICAgICAgICAgICAgKS5hZGRUbyhmYXN0X21hcmtlcl9jbHVzdGVyX2Q4NTQ1N2JlOWFmYzRmNzU4NmFlNjU4YWNiZDE0YmQzKTsKICAgICAgICAKICAgIAogICAgICAgIHZhciBwb3B1cF8wMjJiNjAyN2YyNDg0MTM3YWU5YWRhZDJkZmUwMDAxNyA9IEwucG9wdXAoeyJtYXhXaWR0aCI6ICIxMDAlIn0pOwoKICAgICAgICAKICAgICAgICAgICAgdmFyIGh0bWxfNjQ5M2RmZjY4OWM5NDMzNGJlM2RhYzQwMWM4YzQ0ZjkgPSAkKGA8ZGl2IGlkPSJodG1sXzY0OTNkZmY2ODljOTQzMzRiZTNkYWM0MDFjOGM0NGY5IiBzdHlsZT0id2lkdGg6IDEwMC4wJTsgaGVpZ2h0OiAxMDAuMCU7Ij5IRVNTIENPUlAgUkVOU1NFTEFFUiBURVJNSU5BTCAtICAtIDxwPjxhIGhyZWY9J2h0dHA6Ly9lY2hvLmVwYS5nb3YvZGV0YWlsZWQtZmFjaWxpdHktcmVwb3J0P2ZpZD0xMTAwMDAzMjQzNTUnIHRhcmdldD0nX2JsYW5rJz5MaW5rIHRvIEVDSE8gZGV0YWlsZWQgcmVwb3J0PC9hPjwvcD48L2Rpdj5gKVswXTsKICAgICAgICAgICAgcG9wdXBfMDIyYjYwMjdmMjQ4NDEzN2FlOWFkYWQyZGZlMDAwMTcuc2V0Q29udGVudChodG1sXzY0OTNkZmY2ODljOTQzMzRiZTNkYWM0MDFjOGM0NGY5KTsKICAgICAgICAKCiAgICAgICAgY2lyY2xlX21hcmtlcl9lY2Q4NjVkMjc2ZmE0MDE5OGM3MTFmNzU1MGZjMjgzMy5iaW5kUG9wdXAocG9wdXBfMDIyYjYwMjdmMjQ4NDEzN2FlOWFkYWQyZGZlMDAwMTcpCiAgICAgICAgOwoKICAgICAgICAKICAgIAogICAgCiAgICAgICAgICAgIHZhciBjaXJjbGVfbWFya2VyXzJhMWJkY2YxNTk1MDRkMTk4NjZhYmMxYjM4YWQ1NmMyID0gTC5jaXJjbGVNYXJrZXIoCiAgICAgICAgICAgICAgICBbNDIuNjI4MzMzMDAwMDAwMDA1LCAtNzMuNzUxODMyOTk5OTk5OTldLAogICAgICAgICAgICAgICAgeyJidWJibGluZ01vdXNlRXZlbnRzIjogdHJ1ZSwgImNvbG9yIjogImJsYWNrIiwgImRhc2hBcnJheSI6IG51bGwsICJkYXNoT2Zmc2V0IjogbnVsbCwgImZpbGwiOiB0cnVlLCAiZmlsbENvbG9yIjogIm9yYW5nZSIsICJmaWxsT3BhY2l0eSI6IDAuNCwgImZpbGxSdWxlIjogImV2ZW5vZGQiLCAibGluZUNhcCI6ICJyb3VuZCIsICJsaW5lSm9pbiI6ICJyb3VuZCIsICJvcGFjaXR5IjogMS4wLCAicmFkaXVzIjogOCwgInN0cm9rZSI6IHRydWUsICJ3ZWlnaHQiOiAxfQogICAgICAgICAgICApLmFkZFRvKGZhc3RfbWFya2VyX2NsdXN0ZXJfZDg1NDU3YmU5YWZjNGY3NTg2YWU2NThhY2JkMTRiZDMpOwogICAgICAgIAogICAgCiAgICAgICAgdmFyIHBvcHVwXzRhOTVlYzE3ZTNiODQ0MzU5MmY0ZmJlZWJhMTcwMWMzID0gTC5wb3B1cCh7Im1heFdpZHRoIjogIjEwMCUifSk7CgogICAgICAgIAogICAgICAgICAgICB2YXIgaHRtbF9lMzgyMmZhMTM5Zjk0YjJmYTZhYjM4OTJkYmVjYjgxMSA9ICQoYDxkaXYgaWQ9Imh0bWxfZTM4MjJmYTEzOWY5NGIyZmE2YWIzODkyZGJlY2I4MTEiIHN0eWxlPSJ3aWR0aDogMTAwLjAlOyBoZWlnaHQ6IDEwMC4wJTsiPlJFTlNTRUxBRVIgQ09HRU4gRkFDSUxJVFkgLSAgLSA8cD48YSBocmVmPSdodHRwOi8vZWNoby5lcGEuZ292L2RldGFpbGVkLWZhY2lsaXR5LXJlcG9ydD9maWQ9MTEwMDAwMzI0MzY0JyB0YXJnZXQ9J19ibGFuayc+TGluayB0byBFQ0hPIGRldGFpbGVkIHJlcG9ydDwvYT48L3A+PC9kaXY+YClbMF07CiAgICAgICAgICAgIHBvcHVwXzRhOTVlYzE3ZTNiODQ0MzU5MmY0ZmJlZWJhMTcwMWMzLnNldENvbnRlbnQoaHRtbF9lMzgyMmZhMTM5Zjk0YjJmYTZhYjM4OTJkYmVjYjgxMSk7CiAgICAgICAgCgogICAgICAgIGNpcmNsZV9tYXJrZXJfMmExYmRjZjE1OTUwNGQxOTg2NmFiYzFiMzhhZDU2YzIuYmluZFBvcHVwKHBvcHVwXzRhOTVlYzE3ZTNiODQ0MzU5MmY0ZmJlZWJhMTcwMWMzKQogICAgICAgIDsKCiAgICAgICAgCiAgICAKICAgIAogICAgICAgICAgICB2YXIgY2lyY2xlX21hcmtlcl9iZmEzNWVmYmNmYmQ0ZDQwYWYzMWE4ZGNkNjlkNjU2OCA9IEwuY2lyY2xlTWFya2VyKAogICAgICAgICAgICAgICAgWzQyLjY0MzA4LCAtNzMuNzM3NjldLAogICAgICAgICAgICAgICAgeyJidWJibGluZ01vdXNlRXZlbnRzIjogdHJ1ZSwgImNvbG9yIjogImJsYWNrIiwgImRhc2hBcnJheSI6IG51bGwsICJkYXNoT2Zmc2V0IjogbnVsbCwgImZpbGwiOiB0cnVlLCAiZmlsbENvbG9yIjogIm9yYW5nZSIsICJmaWxsT3BhY2l0eSI6IDAuNCwgImZpbGxSdWxlIjogImV2ZW5vZGQiLCAibGluZUNhcCI6ICJyb3VuZCIsICJsaW5lSm9pbiI6ICJyb3VuZCIsICJvcGFjaXR5IjogMS4wLCAicmFkaXVzIjogOCwgInN0cm9rZSI6IHRydWUsICJ3ZWlnaHQiOiAxfQogICAgICAgICAgICApLmFkZFRvKGZhc3RfbWFya2VyX2NsdXN0ZXJfZDg1NDU3YmU5YWZjNGY3NTg2YWU2NThhY2JkMTRiZDMpOwogICAgICAgIAogICAgCiAgICAgICAgdmFyIHBvcHVwXzYzYWNiNWM1ZTI3YzRhYjFiOWFlNDM1ODMyMWY2ZTMzID0gTC5wb3B1cCh7Im1heFdpZHRoIjogIjEwMCUifSk7CgogICAgICAgIAogICAgICAgICAgICB2YXIgaHRtbF84YmM4YThlNGFmMTE0ODJkYmU0YTRhN2JjODE5NTk0MyA9ICQoYDxkaXYgaWQ9Imh0bWxfOGJjOGE4ZTRhZjExNDgyZGJlNGE0YTdiYzgxOTU5NDMiIHN0eWxlPSJ3aWR0aDogMTAwLjAlOyBoZWlnaHQ6IDEwMC4wJTsiPkNPVU5UUlkgQUNSRVMgTU9CSUxFIEhPTUUgUEFSSyAtICAtIDxwPjxhIGhyZWY9J2h0dHA6Ly9lY2hvLmVwYS5nb3YvZGV0YWlsZWQtZmFjaWxpdHktcmVwb3J0P2ZpZD0xMTAwMTA3ODc5MjQnIHRhcmdldD0nX2JsYW5rJz5MaW5rIHRvIEVDSE8gZGV0YWlsZWQgcmVwb3J0PC9hPjwvcD48L2Rpdj5gKVswXTsKICAgICAgICAgICAgcG9wdXBfNjNhY2I1YzVlMjdjNGFiMWI5YWU0MzU4MzIxZjZlMzMuc2V0Q29udGVudChodG1sXzhiYzhhOGU0YWYxMTQ4MmRiZTRhNGE3YmM4MTk1OTQzKTsKICAgICAgICAKCiAgICAgICAgY2lyY2xlX21hcmtlcl9iZmEzNWVmYmNmYmQ0ZDQwYWYzMWE4ZGNkNjlkNjU2OC5iaW5kUG9wdXAocG9wdXBfNjNhY2I1YzVlMjdjNGFiMWI5YWU0MzU4MzIxZjZlMzMpCiAgICAgICAgOwoKICAgICAgICAKICAgIAogICAgCiAgICAgICAgICAgIHZhciBjaXJjbGVfbWFya2VyXzQ1NzZiMGE2ZjFmNDRiNmNiYTEwYWI0ODIwYmE0MjBlID0gTC5jaXJjbGVNYXJrZXIoCiAgICAgICAgICAgICAgICBbNDIuNjE3Mjc4MDAwMDAwMDA2LCAtNzMuNzUyODYxXSwKICAgICAgICAgICAgICAgIHsiYnViYmxpbmdNb3VzZUV2ZW50cyI6IHRydWUsICJjb2xvciI6ICJibGFjayIsICJkYXNoQXJyYXkiOiBudWxsLCAiZGFzaE9mZnNldCI6IG51bGwsICJmaWxsIjogdHJ1ZSwgImZpbGxDb2xvciI6ICJvcmFuZ2UiLCAiZmlsbE9wYWNpdHkiOiAwLjQsICJmaWxsUnVsZSI6ICJldmVub2RkIiwgImxpbmVDYXAiOiAicm91bmQiLCAibGluZUpvaW4iOiAicm91bmQiLCAib3BhY2l0eSI6IDEuMCwgInJhZGl1cyI6IDgsICJzdHJva2UiOiB0cnVlLCAid2VpZ2h0IjogMX0KICAgICAgICAgICAgKS5hZGRUbyhmYXN0X21hcmtlcl9jbHVzdGVyX2Q4NTQ1N2JlOWFmYzRmNzU4NmFlNjU4YWNiZDE0YmQzKTsKICAgICAgICAKICAgIAogICAgICAgIHZhciBwb3B1cF8xYTY1MzU5MzliNTc0Zjg2ODA3Yjg3NWVkZTUzOGNiYyA9IEwucG9wdXAoeyJtYXhXaWR0aCI6ICIxMDAlIn0pOwoKICAgICAgICAKICAgICAgICAgICAgdmFyIGh0bWxfYTJlYzc0MTAyZGNkNDBlNDlkYWMwYzhlZTBlOGQ0MjQgPSAkKGA8ZGl2IGlkPSJodG1sX2EyZWM3NDEwMmRjZDQwZTQ5ZGFjMGM4ZWUwZThkNDI0IiBzdHlsZT0id2lkdGg6IDEwMC4wJTsgaGVpZ2h0OiAxMDAuMCU7Ij5HVUxGIE9JTC9SRU5TU0VMQUVSIFRFUk1JTkFMIC0gIC0gPHA+PGEgaHJlZj0naHR0cDovL2VjaG8uZXBhLmdvdi9kZXRhaWxlZC1mYWNpbGl0eS1yZXBvcnQ/ZmlkPTExMDAwMTYwMjM5MicgdGFyZ2V0PSdfYmxhbmsnPkxpbmsgdG8gRUNITyBkZXRhaWxlZCByZXBvcnQ8L2E+PC9wPjwvZGl2PmApWzBdOwogICAgICAgICAgICBwb3B1cF8xYTY1MzU5MzliNTc0Zjg2ODA3Yjg3NWVkZTUzOGNiYy5zZXRDb250ZW50KGh0bWxfYTJlYzc0MTAyZGNkNDBlNDlkYWMwYzhlZTBlOGQ0MjQpOwogICAgICAgIAoKICAgICAgICBjaXJjbGVfbWFya2VyXzQ1NzZiMGE2ZjFmNDRiNmNiYTEwYWI0ODIwYmE0MjBlLmJpbmRQb3B1cChwb3B1cF8xYTY1MzU5MzliNTc0Zjg2ODA3Yjg3NWVkZTUzOGNiYykKICAgICAgICA7CgogICAgICAgIAogICAgCiAgICAKICAgICAgICAgICAgdmFyIGNpcmNsZV9tYXJrZXJfZWY2ZGIzNTRmZTQ2NDUwNzhkN2UzZTlkZTZlMjZiNjggPSBMLmNpcmNsZU1hcmtlcigKICAgICAgICAgICAgICAgIFs0Mi42MjYyMDgsIC03My43MjQ0MDRdLAogICAgICAgICAgICAgICAgeyJidWJibGluZ01vdXNlRXZlbnRzIjogdHJ1ZSwgImNvbG9yIjogImJsYWNrIiwgImRhc2hBcnJheSI6IG51bGwsICJkYXNoT2Zmc2V0IjogbnVsbCwgImZpbGwiOiB0cnVlLCAiZmlsbENvbG9yIjogIm9yYW5nZSIsICJmaWxsT3BhY2l0eSI6IDAuNCwgImZpbGxSdWxlIjogImV2ZW5vZGQiLCAibGluZUNhcCI6ICJyb3VuZCIsICJsaW5lSm9pbiI6ICJyb3VuZCIsICJvcGFjaXR5IjogMS4wLCAicmFkaXVzIjogOCwgInN0cm9rZSI6IHRydWUsICJ3ZWlnaHQiOiAxfQogICAgICAgICAgICApLmFkZFRvKGZhc3RfbWFya2VyX2NsdXN0ZXJfZDg1NDU3YmU5YWZjNGY3NTg2YWU2NThhY2JkMTRiZDMpOwogICAgICAgIAogICAgCiAgICAgICAgdmFyIHBvcHVwXzY5ZmVjMTcyYTAzNzRkYWJiZjI0Y2Y0NTFiN2IyNDRhID0gTC5wb3B1cCh7Im1heFdpZHRoIjogIjEwMCUifSk7CgogICAgICAgIAogICAgICAgICAgICB2YXIgaHRtbF9mYTMwM2IwMDgyZDI0YjMzOTk3OThiOTY1MzBhYWQwMyA9ICQoYDxkaXYgaWQ9Imh0bWxfZmEzMDNiMDA4MmQyNGIzMzk5Nzk4Yjk2NTMwYWFkMDMiIHN0eWxlPSJ3aWR0aDogMTAwLjAlOyBoZWlnaHQ6IDEwMC4wJTsiPlBBUksgUklER0UgU1VCRElWSVNPTiAtICAtIDxwPjxhIGhyZWY9J2h0dHA6Ly9lY2hvLmVwYS5nb3YvZGV0YWlsZWQtZmFjaWxpdHktcmVwb3J0P2ZpZD0xMTAwMjA1NzA2MDInIHRhcmdldD0nX2JsYW5rJz5MaW5rIHRvIEVDSE8gZGV0YWlsZWQgcmVwb3J0PC9hPjwvcD48L2Rpdj5gKVswXTsKICAgICAgICAgICAgcG9wdXBfNjlmZWMxNzJhMDM3NGRhYmJmMjRjZjQ1MWI3YjI0NGEuc2V0Q29udGVudChodG1sX2ZhMzAzYjAwODJkMjRiMzM5OTc5OGI5NjUzMGFhZDAzKTsKICAgICAgICAKCiAgICAgICAgY2lyY2xlX21hcmtlcl9lZjZkYjM1NGZlNDY0NTA3OGQ3ZTNlOWRlNmUyNmI2OC5iaW5kUG9wdXAocG9wdXBfNjlmZWMxNzJhMDM3NGRhYmJmMjRjZjQ1MWI3YjI0NGEpCiAgICAgICAgOwoKICAgICAgICAKICAgIAogICAgCiAgICAgICAgICAgIHZhciBjaXJjbGVfbWFya2VyXzRlMTAyODcyYzlhMDRiNjZiZGI1OGY1NDNlYmNkYjY5ID0gTC5jaXJjbGVNYXJrZXIoCiAgICAgICAgICAgICAgICBbNDIuNjI2MjA4LCAtNzMuNzI0NDA0XSwKICAgICAgICAgICAgICAgIHsiYnViYmxpbmdNb3VzZUV2ZW50cyI6IHRydWUsICJjb2xvciI6ICJibGFjayIsICJkYXNoQXJyYXkiOiBudWxsLCAiZGFzaE9mZnNldCI6IG51bGwsICJmaWxsIjogdHJ1ZSwgImZpbGxDb2xvciI6ICJvcmFuZ2UiLCAiZmlsbE9wYWNpdHkiOiAwLjQsICJmaWxsUnVsZSI6ICJldmVub2RkIiwgImxpbmVDYXAiOiAicm91bmQiLCAibGluZUpvaW4iOiAicm91bmQiLCAib3BhY2l0eSI6IDEuMCwgInJhZGl1cyI6IDgsICJzdHJva2UiOiB0cnVlLCAid2VpZ2h0IjogMX0KICAgICAgICAgICAgKS5hZGRUbyhmYXN0X21hcmtlcl9jbHVzdGVyX2Q4NTQ1N2JlOWFmYzRmNzU4NmFlNjU4YWNiZDE0YmQzKTsKICAgICAgICAKICAgIAogICAgICAgIHZhciBwb3B1cF83NDRmN2QyMWI5Njg0NzM0ODQxOTRiOTY5MzNmYWY1MyA9IEwucG9wdXAoeyJtYXhXaWR0aCI6ICIxMDAlIn0pOwoKICAgICAgICAKICAgICAgICAgICAgdmFyIGh0bWxfYjVjYjZlZDUzZWMyNDZmMWE5NjJhOGRiMzc2ZDI4MjkgPSAkKGA8ZGl2IGlkPSJodG1sX2I1Y2I2ZWQ1M2VjMjQ2ZjFhOTYyYThkYjM3NmQyODI5IiBzdHlsZT0id2lkdGg6IDEwMC4wJTsgaGVpZ2h0OiAxMDAuMCU7Ij5EVU5OIEZJRUxEIEdSQURJTkcgUFJPSkVDVCAtICAtIDxwPjxhIGhyZWY9J2h0dHA6Ly9lY2hvLmVwYS5nb3YvZGV0YWlsZWQtZmFjaWxpdHktcmVwb3J0P2ZpZD0xMTAwNzA1NTE4MTEnIHRhcmdldD0nX2JsYW5rJz5MaW5rIHRvIEVDSE8gZGV0YWlsZWQgcmVwb3J0PC9hPjwvcD48L2Rpdj5gKVswXTsKICAgICAgICAgICAgcG9wdXBfNzQ0ZjdkMjFiOTY4NDczNDg0MTk0Yjk2OTMzZmFmNTMuc2V0Q29udGVudChodG1sX2I1Y2I2ZWQ1M2VjMjQ2ZjFhOTYyYThkYjM3NmQyODI5KTsKICAgICAgICAKCiAgICAgICAgY2lyY2xlX21hcmtlcl80ZTEwMjg3MmM5YTA0YjY2YmRiNThmNTQzZWJjZGI2OS5iaW5kUG9wdXAocG9wdXBfNzQ0ZjdkMjFiOTY4NDczNDg0MTk0Yjk2OTMzZmFmNTMpCiAgICAgICAgOwoKICAgICAgICAKICAgIAogICAgCiAgICAgICAgICAgIHZhciBjaXJjbGVfbWFya2VyXzQ2MGY3Zjk3YzMxYjQ1Yzg5ZTE0MTM1NmY0NjlkYWNlID0gTC5jaXJjbGVNYXJrZXIoCiAgICAgICAgICAgICAgICBbNDIuNjIxNzIyLCAtNzMuNzUyMjVdLAogICAgICAgICAgICAgICAgeyJidWJibGluZ01vdXNlRXZlbnRzIjogdHJ1ZSwgImNvbG9yIjogImJsYWNrIiwgImRhc2hBcnJheSI6IG51bGwsICJkYXNoT2Zmc2V0IjogbnVsbCwgImZpbGwiOiB0cnVlLCAiZmlsbENvbG9yIjogIm9yYW5nZSIsICJmaWxsT3BhY2l0eSI6IDAuNCwgImZpbGxSdWxlIjogImV2ZW5vZGQiLCAibGluZUNhcCI6ICJyb3VuZCIsICJsaW5lSm9pbiI6ICJyb3VuZCIsICJvcGFjaXR5IjogMS4wLCAicmFkaXVzIjogOCwgInN0cm9rZSI6IHRydWUsICJ3ZWlnaHQiOiAxfQogICAgICAgICAgICApLmFkZFRvKGZhc3RfbWFya2VyX2NsdXN0ZXJfZDg1NDU3YmU5YWZjNGY3NTg2YWU2NThhY2JkMTRiZDMpOwogICAgICAgIAogICAgCiAgICAgICAgdmFyIHBvcHVwX2VlZGExMDkxM2I0NDRkNWU5ZWFkM2MyMzY3NGFlN2ZhID0gTC5wb3B1cCh7Im1heFdpZHRoIjogIjEwMCUifSk7CgogICAgICAgIAogICAgICAgICAgICB2YXIgaHRtbF81OGM3NDgyOWQ3OTQ0YWVmYWU2YTIxMjM1NTU5Nzk2YSA9ICQoYDxkaXYgaWQ9Imh0bWxfNThjNzQ4MjlkNzk0NGFlZmFlNmEyMTIzNTU1OTc5NmEiIHN0eWxlPSJ3aWR0aDogMTAwLjAlOyBoZWlnaHQ6IDEwMC4wJTsiPkdFVFRZIFRFUk1JTkFMICM1ODI2MCAtICAtIDxwPjxhIGhyZWY9J2h0dHA6Ly9lY2hvLmVwYS5nb3YvZGV0YWlsZWQtZmFjaWxpdHktcmVwb3J0P2ZpZD0xMTAwMDAzMjQzNDYnIHRhcmdldD0nX2JsYW5rJz5MaW5rIHRvIEVDSE8gZGV0YWlsZWQgcmVwb3J0PC9hPjwvcD48L2Rpdj5gKVswXTsKICAgICAgICAgICAgcG9wdXBfZWVkYTEwOTEzYjQ0NGQ1ZTllYWQzYzIzNjc0YWU3ZmEuc2V0Q29udGVudChodG1sXzU4Yzc0ODI5ZDc5NDRhZWZhZTZhMjEyMzU1NTk3OTZhKTsKICAgICAgICAKCiAgICAgICAgY2lyY2xlX21hcmtlcl80NjBmN2Y5N2MzMWI0NWM4OWUxNDEzNTZmNDY5ZGFjZS5iaW5kUG9wdXAocG9wdXBfZWVkYTEwOTEzYjQ0NGQ1ZTllYWQzYzIzNjc0YWU3ZmEpCiAgICAgICAgOwoKICAgICAgICAKICAgIAogICAgCiAgICAgICAgICAgIG1hcF82ZjcyN2E1YTY0MzI0MjczYTdkODY0OTk3ZmJjZDA1Ni5maXRCb3VuZHMoCiAgICAgICAgICAgICAgICBbWzQyLjYxMTA1NiwgLTczLjc1NjgzM10sIFs0Mi42NDg5OTk5OTk5OTk5OTQsIC03My43MDkzMzAwMDAwMDAwMV1dLAogICAgICAgICAgICAgICAge30KICAgICAgICAgICAgKTsKICAgICAgICAKPC9zY3JpcHQ+\" style=\"position:absolute;width:100%;height:100%;left:0;top:0;border:none !important;\" allowfullscreen webkitallowfullscreen mozallowfullscreen></iframe></div></div>"
      ],
      "text/plain": [
       "<folium.folium.Map at 0x7f9cae8e0990>"
      ]
     },
     "execution_count": 7,
     "metadata": {},
     "output_type": "execute_result"
    }
   ],
   "source": [
    "df_to_map = program_data.loc[~program_data.index.duplicated(keep='first')]\n",
    "    \n",
    "map_of_facilities = mapper(df_to_map)\n",
    "map_of_facilities"
   ]
  },
  {
   "cell_type": "markdown",
   "metadata": {},
   "source": [
    "## In this section you may save the data to your computer.\n",
    "### 9.  In this cell you may save the program data for your region to your computer.\n",
    "This next cell allows you to save the data from the particular program for your chosen region to your computer.\n",
    "\n",
    "#### Accessing your files\n",
    "Click on the 'Files' tab in the menu on the left-hand side of the notebook (it looks like a folder). You may have to hit 'Refresh' if you don't see your file. Then, you can click on the ... next to your file and choose \"Download\". The CSV spreadsheet will download to wherever your browser usually saves files (e.g. Downloads folder)"
   ]
  },
  {
   "cell_type": "code",
   "execution_count": 8,
   "metadata": {
    "scrolled": false
   },
   "outputs": [
    {
     "name": "stdout",
     "output_type": "stream",
     "text": [
      "Wrote CWA Violations-Zip Code-12144.csv\n"
     ]
    }
   ],
   "source": [
    "if ( len( program_data ) > 0 ):\n",
    "    state_name = None\n",
    "    if ( state_widget is not None ):\n",
    "        state_name = state_widget.value\n",
    "    write_dataset( df=program_data, base=program.name, type=region_type_widget.value, \n",
    "           state=state_name, region=region_selected )\n",
    "else:\n",
    "    print( \"There is no data for this program and region.\" )"
   ]
  },
  {
   "cell_type": "markdown",
   "metadata": {},
   "source": [
    "### 10. Let's make a chart out of this!"
   ]
  },
  {
   "cell_type": "code",
   "execution_count": 15,
   "metadata": {},
   "outputs": [
    {
     "data": {
      "image/png": "[encoded data removed]",
      "text/plain": [
       "<Figure size 1440x720 with 1 Axes>"
      ]
     },
     "metadata": {
      "needs_background": "dark"
     },
     "output_type": "display_data"
    }
   ],
   "source": [
    "state = None\n",
    "if ( state_widget ):\n",
    "    state = state_widget.value\n",
    "    \n",
    "show_chart( program=program, region=region_selected, data=program_data, state=state )"
   ]
  },
  {
   "cell_type": "markdown",
   "metadata": {},
   "source": [
    "#### If you'd like to look at another dimension of ECHO data for this region...\n",
    "....return to the dropdown menu above and choose a different program/data type, run the database access code, and then chart and map it!\n",
    "\n",
    "---"
   ]
  },
  {
   "cell_type": "markdown",
   "metadata": {},
   "source": [
    "## Choose a specific facility\n",
    "### 11. In the next few blocks of code, you can focus in on just one facility in the region.\n",
    "Run the below cell, then choose a facility from the dropdown that appears."
   ]
  },
  {
   "cell_type": "code",
   "execution_count": null,
   "metadata": {},
   "outputs": [],
   "source": [
    "fac_series = program_data[\"FAC_NAME\"]\n",
    "fac_widget = show_fac_widget( fac_series )"
   ]
  },
  {
   "cell_type": "markdown",
   "metadata": {},
   "source": [
    "### 12. Let's see the data for this facility"
   ]
  },
  {
   "cell_type": "code",
   "execution_count": null,
   "metadata": {
    "scrolled": true
   },
   "outputs": [],
   "source": [
    "fac_pgm_data = program_data[ program_data[\"FAC_NAME\"] == fac_widget.value ]\n",
    "\n",
    "if ( fac_pgm_data is None or len( fac_pgm_data ) == 0 ):\n",
    "    print( \"There is no {} data for {} \".format( fac_pgm_widget.value, fac_widget.value ))\n",
    "else:\n",
    "    print( fac_pgm_data )"
   ]
  },
  {
   "cell_type": "markdown",
   "metadata": {},
   "source": [
    "### 13. This cell saves this facility's data for this program to your computer.\n",
    "The next cell exports this data to your computer.  You can return to the dropdown to export additional data files.\n",
    "\n",
    "#### Accessing your files\n",
    "Click on the 'Files' tab in the menu on the left-hand side of the notebook (it looks like a folder). You may have to hit 'Refresh' if you don't see your file. Then, you can click on the ... next to your file and choose \"Download\". The CSV spreadsheet will download to wherever your browser usually saves files (e.g. Downloads folder)"
   ]
  },
  {
   "cell_type": "code",
   "execution_count": null,
   "metadata": {},
   "outputs": [],
   "source": [
    "# fac_pgm_data = add_fac_to_pgm_data( fac_pgm_data, fac_data )\n",
    "if ( len( fac_pgm_data ) > 0 ):\n",
    "    state_name = None\n",
    "    if ( state_widget is not None ):\n",
    "        state_name = state_widget.value\n",
    "    write_file( df=fac_pgm_data, base=program.name+'-'+fac_widget.value, \n",
    "               type=region_type_widget.value, state=state_name, region=region_selected )\n",
    "else:\n",
    "    print( \"There is no data for this program and region.\" )"
   ]
  },
  {
   "cell_type": "markdown",
   "metadata": {},
   "source": [
    "### If you'd like to look at another dimension of ECHO data for this facility...\n",
    "....return to the dropdown menu above and choose a different program/data type, then chart it!"
   ]
  },
  {
   "cell_type": "code",
   "execution_count": null,
   "metadata": {},
   "outputs": [],
   "source": []
  }
 ],
 "metadata": {
  "kernelspec": {
   "display_name": "Python 3",
   "language": "python",
   "name": "python3"
  },
  "language_info": {
   "codemirror_mode": {
    "name": "ipython",
    "version": 3
   },
   "file_extension": ".py",
   "mimetype": "text/x-python",
   "name": "python",
   "nbconvert_exporter": "python",
   "pygments_lexer": "ipython3",
   "version": "3.7.6"
  }
 },
 "nbformat": 4,
 "nbformat_minor": 4
}
