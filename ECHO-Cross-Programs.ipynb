{
 "cells": [
  {
   "cell_type": "markdown",
   "metadata": {
    "id": "UdGOD19kaRLB"
   },
   "source": [
    "| ![EEW logo](https://github.com/edgi-govdata-archiving/EEW-Image-Assets/blob/master/Jupyter%20instructions/eew.jpg?raw=true) | ![EDGI logo](https://github.com/edgi-govdata-archiving/EEW-Image-Assets/blob/master/Jupyter%20instructions/edgi.png?raw=true) |\n",
    "|---|---|\n",
    "\n",
    "This notebook is licensed under GPL 3.0. Please visit our [Github repo](https://github.com/edgi-govdata-archiving/ECHO-Cross-Program) for more information.\n",
    "\n",
    "The notebook was collaboratively authored by EDGI following our [authorship protocol](https://docs.google.com/document/d/1CtDN5ZZ4Zv70fHiBTmWkDJ9mswEipX6eCYrwicP66Xw/).\n",
    "\n",
    "For more information about this project, visit https://www.environmentalenforcementwatch.org/"
   ]
  },
  {
   "cell_type": "markdown",
   "metadata": {
    "id": "TzKJgzg1aRLI"
   },
   "source": [
    "Note:  This notebook pulls data from a copy of EPA's ECHO database hosted by Stony Brook University. The data sets are updated on a weekly basis, meaning that some of the results from your run may not exactly match those in [EEW's Congressional Report Cards](https://www.environmentalenforcementwatch.org/reports). For instance, the Report Cards show ten facilities that have spent at least three of the past 12 quarters in non-compliance with different environmental protection laws. These results will therefore change as we enter new parts of the year. In addition, the Report Cards estimate the number of facilities that were active in 2019, since EPA does not provide such figures. Our estimate is based on the number of facilities EPA records as active at the *current* moment in time. In short, we use active right now as a proxy for active in 2019. This number informs several metrics in the Report Cards - including violations and inspections per 1000 facilities - and these will change as the number of facilities reported as active right now by the EPA changes. Please see the [CD-Report repo](https://github.com/edgi-govdata-archiving/CD-report) for facility counts and non-compliance rates as we recorded them in mid-September 2020 in order to produce the Report Cards."
   ]
  },
  {
   "cell_type": "markdown",
   "metadata": {
    "id": "zH-0GpDAaRLJ"
   },
   "source": [
    "# Examining Data from Multiple EPA Programs\n",
    "\n",
    "This notebook examines data from the EPA's Enforcement and Compliance History Online (ECHO) database (https://echo.epa.gov/). It includes information from EPA's programs covering air quality (the Clean Air Act, or CAA), water quality (the Clean Water Act, or CWA), drinking water (Safe Drinking Water Act, SDWA) and hazardous and other waste processing (the Resource Recovery and Conservation Act, or RCRA). \n",
    "\n",
    "ECHO data is available for facility violations as well as inspections and enforcement actions by EPA, state and other agencies. The data made accessible here runs from the present day (the database is refreshed weekly) back to 2001, which is when the EPA believes the data to be most reliable. It is available at the Congressional District level for a selected state, and for counties and zip codes of your choosing. \n",
    "\n",
    "The EPA program acronyms are:\n",
    "- CAA = Clean Air Act\n",
    "- CWA = Clean Water Act\n",
    "- SDWIS = Safe Drinking Water Information System\n",
    "- RCRA = Resource Conservation and Recovery Act\n",
    "- TRI = Toxics Release Inventory\n",
    "- GHG = Greenhouse Gas Reporting Program\n"
   ]
  },
  {
   "cell_type": "markdown",
   "metadata": {
    "id": "TDgxwY6aaRLK"
   },
   "source": [
    "## How to Run\n",
    "* A \"cell\" in a Jupyter notebook is a block of code performing a set of actions making available or using specific data.  The notebook works by running one cell after another, as the notebook user selects offered options.\n",
    "* If you click on a gray **code** cell, a little “play button” arrow appears on the left. If you click the play button, it will run the code in that cell (“**running** a cell”). The button will animate. When the animation stops, the cell has finished running.\n",
    "![Where to click to run the cell](https://github.com/edgi-govdata-archiving/EEW-Image-Assets/blob/master/Jupyter%20instructions/pressplay.JPG?raw=true)\n",
    "* You may get a warning that the notebook was not authored by Google. We know, we authored them! It’s okay. Click “Run Anyway” to continue. \n",
    "![Error Message](https://github.com/edgi-govdata-archiving/EEW-Image-Assets/blob/master/Jupyter%20instructions/warning-message.JPG?raw=true)\n",
    "* **It is important to run cells in order because they depend on each other.**\n",
    "* Run all of the cells in a Notebook to make a complete report. Please feel free to look at and **learn about each result as you create it**!"
   ]
  },
  {
   "cell_type": "markdown",
   "metadata": {
    "id": "Ad_p17bEaRLK"
   },
   "source": [
    "---"
   ]
  },
  {
   "cell_type": "markdown",
   "metadata": {
    "id": "5ci8OkjOaRLK"
   },
   "source": [
    "# **Let's begin!**"
   ]
  },
  {
   "cell_type": "markdown",
   "metadata": {
    "id": "Cyj_M3SXaRLL"
   },
   "source": [
    "Hover over the \"[ ]\" on the top left corner of the cell below and you should see a \"play\" button appear. Click on it to run the cell then move to the next one.\n",
    "\n",
    "These first two cells give us access to some external Python code we will need."
   ]
  },
  {
   "cell_type": "markdown",
   "metadata": {
    "id": "0x-fp6PTaRLL"
   },
   "source": [
    "### 1.  Bring in some code that is stored in a Github project, and run a few Python modules."
   ]
  },
  {
   "cell_type": "code",
   "execution_count": 1,
   "metadata": {
    "id": "OZatef7xaRLL",
    "tags": []
   },
   "outputs": [
    {
     "name": "stdout",
     "output_type": "stream",
     "text": [
      "Done!\n"
     ]
    }
   ],
   "source": [
    "!git clone https://github.com/edgi-govdata-archiving/ECHO_modules.git &>/dev/null;\n",
    "!pip install geopandas &>/dev/null;\n",
    "\n",
    "%run ECHO_modules/DataSet.py\n",
    "%run ECHO_modules/utilities.py\n",
    "%run ECHO_modules/make_data_sets.py\n",
    "\n",
    "import warnings\n",
    "warnings.filterwarnings('ignore')\n",
    "\n",
    "print(\"Done!\")"
   ]
  },
  {
   "cell_type": "markdown",
   "metadata": {
    "id": "JLhiK5h4aRLM"
   },
   "source": [
    "### 2.  Run this next cell to select which geography you wish to view ECHO data by.\n",
    "Choose the type of region and proceed to the next cell."
   ]
  },
  {
   "cell_type": "code",
   "execution_count": 2,
   "metadata": {
    "id": "Aa7yQGVqaRLM"
   },
   "outputs": [
    {
     "data": {
      "application/vnd.jupyter.widget-view+json": {
       "model_id": "3e7cdebd53a645438f3383c67b4a1acd",
       "version_major": 2,
       "version_minor": 0
      },
      "text/plain": [
       "Dropdown(description='Region of interest:', index=2, options=('State', 'Congressional District', 'County', 'Zi…"
      ]
     },
     "metadata": {},
     "output_type": "display_data"
    }
   ],
   "source": [
    "region_type_widget = show_region_type_widget()\n",
    "state_widget = None"
   ]
  },
  {
   "cell_type": "markdown",
   "metadata": {
    "id": "LwiZS8oeaRLM"
   },
   "source": [
    "### 3.  Select your state of interest.  _If you are interested in a zip code analysis, this can be skipped._"
   ]
  },
  {
   "cell_type": "code",
   "execution_count": 3,
   "metadata": {
    "id": "kQd3M7tBaRLN"
   },
   "outputs": [
    {
     "data": {
      "application/vnd.jupyter.widget-view+json": {
       "model_id": "3cb4a0c8ee9942b9a8fae328709564e3",
       "version_major": 2,
       "version_minor": 0
      },
      "text/plain": [
       "Dropdown(description='State:', options=('AL', 'AK', 'AZ', 'AR', 'CA', 'CO', 'CT', 'DC', 'DE', 'FL', 'GA', 'HI'…"
      ]
     },
     "metadata": {},
     "output_type": "display_data"
    }
   ],
   "source": [
    "state_widget = show_state_widget()"
   ]
  },
  {
   "cell_type": "markdown",
   "metadata": {
    "id": "EI858zKZaRLN"
   },
   "source": [
    "### 4.  Run this cell and choose the specific region you want to look at.\n",
    "It will ask you to specify which place you want to look at. If you want to look at an entire state, you should still run this cell, but you won't see any output.\n",
    "\n",
    "For reference, here is a map of congressional districts: https://www.govtrack.us/congress/members/map"
   ]
  },
  {
   "cell_type": "code",
   "execution_count": 4,
   "metadata": {
    "id": "LH-8VrSTaRLN",
    "scrolled": true
   },
   "outputs": [
    {
     "data": {
      "application/vnd.jupyter.widget-view+json": {
       "model_id": "62834cc86a814b9ba24d03ddc52108b6",
       "version_major": 2,
       "version_minor": 0
      },
      "text/plain": [
       "Dropdown(description='County:', options=('AUTAUGA', 'BALDWIN', 'BARBOUR', 'BIBB', 'BLOUNT', 'BULLOCK', 'BUTLER…"
      ]
     },
     "metadata": {},
     "output_type": "display_data"
    }
   ],
   "source": [
    "region_widget = None\n",
    "region_type = region_type_widget.value\n",
    "if ( region_type != 'State' ):\n",
    "    region_widget = show_pick_region_widget( type=region_type,\n",
    "                                           state_widget=state_widget )"
   ]
  },
  {
   "cell_type": "markdown",
   "metadata": {
    "id": "R8TpnjrPaRLN"
   },
   "source": [
    "### 5. Chart the top violators in the region for CAA, CWA and RCRA.\n",
    "The charts show the 20 facilities with the most quarters in non-compliance with these environmental protection laws over the past 3 years."
   ]
  },
  {
   "cell_type": "code",
   "execution_count": null,
   "metadata": {},
   "outputs": [],
   "source": [
    "%run ECHO_modules/utilities.py"
   ]
  },
  {
   "cell_type": "code",
   "execution_count": 5,
   "metadata": {
    "id": "tGG4dLXuaRLN",
    "scrolled": true
   },
   "outputs": [
    {
     "name": "stdout",
     "output_type": "stream",
     "text": [
      "select * from \"ECHO_EXPORTER\" where \"FAC_STATE\" = 'AL' and \"FAC_COUNTY\" = 'AUTAUGA' and \"FAC_ACTIVE_FLAG\" = 'Y'\n",
      "http://portal.gss.stonybrook.edu/echoepa/?query=select+%2A+from+%22ECHO_EXPORTER%22+where+%22FAC_STATE%22+%3D+%27AL%27+and+%22FAC_COUNTY%22+%3D+%27AUTAUGA%27+and+%22FAC_ACTIVE_FLAG%22+%3D+%27Y%27&pg\n"
     ]
    },
    {
     "data": {
      "text/plain": [
       "'No CAA facilities with non-compliant quarters in AL - AUTAUGA'"
      ]
     },
     "metadata": {},
     "output_type": "display_data"
    },
    {
     "data": {
      "text/plain": [
       "<AxesSubplot:title={'center':'CWA facilities with the most non-compliant quarters in AL - AUTAUGA'}, xlabel='Non-compliant quarters', ylabel='Facility'>"
      ]
     },
     "metadata": {},
     "output_type": "display_data"
    },
    {
     "data": {
      "text/plain": [
       "'No RCRA facilities with non-compliant quarters in AL - AUTAUGA'"
      ]
     },
     "metadata": {},
     "output_type": "display_data"
    },
    {
     "data": {
      "image/png": "[encoded data removed]",
      "text/plain": [
       "<Figure size 720x720 with 1 Axes>"
      ]
     },
     "metadata": {},
     "output_type": "display_data"
    }
   ],
   "source": [
    "state = state_widget.value if state_widget is not None else None\n",
    "region_selected = None\n",
    "if ( region_type != 'State' ):\n",
    "    region_selected = region_widget.value\n",
    "df_active = get_active_facilities( state, region_type, region_selected )\n",
    "\n",
    "df_violators = get_top_violators( df_active, 'AIR_FLAG', state, region_selected, \n",
    "        'CAA_3YR_COMPL_QTRS_HISTORY', 'CAA_FORMAL_ACTION_COUNT', 20 )\n",
    "display( chart_top_violators( df_violators, state, region_selected, 'CAA' ))\n",
    "\n",
    "df_violators = get_top_violators( df_active, 'NPDES_FLAG', state, region_selected, \n",
    "        'CWA_13QTRS_COMPL_HISTORY', 'CWA_FORMAL_ACTION_COUNT', 20 )\n",
    "display( chart_top_violators( df_violators, state, region_selected, 'CWA' ))\n",
    "\n",
    "df_violators = get_top_violators( df_active, 'RCRA_FLAG', state, region_selected, \n",
    "        'RCRA_3YR_COMPL_QTRS_HISTORY', 'RCRA_FORMAL_ACTION_COUNT', 20 )\n",
    "display( chart_top_violators( df_violators, state, region_selected, 'RCRA' ))\n"
   ]
  },
  {
   "cell_type": "markdown",
   "metadata": {
    "id": "C-sQQbU_aRLO"
   },
   "source": [
    "## Get program-specific data for all the facilities in the region.\n",
    "### First, choose the program (Air, Water, Drinking Water, and Hazardous Waste) and type of data (Emissions, Violations, Inspections, Enforcement) you want to explore\n",
    "\n",
    "Running the code below will show you a dropdown you can use to make a selection. **Inspections** or **evaluations** are usually the first phase in the enforcement pipeline, how many (but not all) violations are discovered.  **Violations** happen when a facilty is found to be out of compliance with an environmental law, often by violating the terms of its permit issued under that law.  **Enforcement actions** happen when the regulating agency decides to initiate a \"case\" against a firm for its violation of an environmental law, either by considering some administrative penalty such as a fine or by taking the violator to court. \n",
    "\n",
    "What's available for you to look at here:\n",
    "\n",
    "**Hazardous and Other Waste**:\n",
    "- RCRA_EVALUATIONS = Inspections under RCRA\n",
    "- RCRA_VIOLATIONS = Violations of RCRA rules\n",
    "- RCRA_ENFORCEMENTS = Enforcement actions taken by state agencies and the EPA\n",
    "\n",
    "Here's where you can find definitions of terms used in the columns of RCRA data: \n",
    "https://echo.epa.gov/tools/data-downloads/rcrainfo-download-summary \n",
    "\n",
    "**Air**:\n",
    "- ICIS-AIR_VIOLATION_HISTORY = CAA violations\n",
    "- ICIS-AIR_FCES_PCES = Both state and federal CAA compliance evaluations\n",
    "- ICIS-AIR_FORMAL_ACTIONS = CAA formal enforcement actions\n",
    "\n",
    "Here's where you can find definitions of terms used in the columns of Clean Air Act data: \n",
    "https://echo.epa.gov/tools/data-downloads/icis-air-download-summary\n",
    "\n",
    "**Air Emissions** (Combined air emissions data for stationary sources from four EPA air programs: National Emissions Inventory (NEI), Greenhouse Gas Reporting Program (GHGRP), Toxic Release Inventory (TRI), and Clean Air Markets (CAMD)):\n",
    "- Greenhouse Gases via POLL_RPT_COMBINED_EMISSIONS\n",
    "- Toxic Releases via POLL_RPT_COMBINED_EMISSIONS\n",
    "\n",
    "Here's where you can find definitions of terms used in the columns of this data: https://echo.epa.gov/tools/data-downloads/air-emissions-download-summary\n",
    "\n",
    "**Water** (National Pollutant Discharge Elimination System, or NPDES):\n",
    "- NPDES_QNCR_HISTORY = CWA Quarterly Non-Compliance History\n",
    "- NPDES_INSPECTIONS = CWA Inspections\n",
    "- NPDES_FORMAL_ENFORCEMENT_ACTIONS = CWA Enforcements\n",
    "\n",
    "Here's where you can find definitions of terms used in the columns of Clean Water Act data: https://echo.epa.gov/tools/data-downloads/icis-npdes-download-summary\n",
    "\n",
    "**Drinking Water** (Safe Drinking Water Act, or SDWA):\n",
    "- SDWA_PUB_WATER_SYSTEMS = Public Water Systems under Safe Drinking Water Act\n",
    "- SDWA_SITE_VISITS = Safe Drinking Water Site Visits\n",
    "- SDWA_VIOLATIONS = Safe Drinking Water Violations\n",
    "- SDWA_SERIOUS_VIOLATORS = Safe Drinking Water Serious Violators\n",
    "- SDWA_ENFORCEMENTS = Safe Drinking Water Enforcements\n",
    "- SDWA_RETURN_TO_COMPLIANCE = Safe Drinking Water Return to Compliance\n",
    "\n",
    "Here's where you can find definitions of terms used in the columns of Clean Water Act data: https://echo.epa.gov/tools/data-downloads/sdwa-download-summary"
   ]
  },
  {
   "cell_type": "markdown",
   "metadata": {
    "id": "2-lxUZomaRLP"
   },
   "source": [
    "### 6. This cell creates data sets for facilities in the region and presents a dropdown selection."
   ]
  },
  {
   "cell_type": "code",
   "execution_count": null,
   "metadata": {
    "id": "cJN7Q5sLaRLP"
   },
   "outputs": [],
   "source": [
    "data_sets = make_data_sets()\n",
    "\n",
    "data_set_widget = show_data_set_widget( data_sets )"
   ]
  },
  {
   "cell_type": "markdown",
   "metadata": {
    "id": "tK0E1tDKaRLP"
   },
   "source": [
    "### 7. Once you've chosen the program and data type you want to focus on...\n",
    "....run the code below, which will access our database and retrieve the information. \n",
    "#### This is the main query of the remote database.  It may take some time if there are thousands of facilities in your region that report to the selected program."
   ]
  },
  {
   "cell_type": "code",
   "execution_count": null,
   "metadata": {
    "id": "nhNCINvYaRLP",
    "scrolled": true,
    "tags": []
   },
   "outputs": [],
   "source": [
    "program = data_sets[ data_set_widget.value ]\n",
    "program_results = program.store_results( region_type=region_type, \n",
    "                            region_value=region_selected, state=state )\n",
    "program_data = None\n",
    "if ( program_results is not None ):\n",
    "    program_data = program_results.dataframe.copy()\n",
    "\n",
    "    display( program_data )\n",
    "else:\n",
    "    print( \"There is no data for this data set in this region.\")"
   ]
  },
  {
   "cell_type": "markdown",
   "metadata": {
    "id": "YrQOiajFaRLQ"
   },
   "source": [
    "## Create an interactive map of all of the facilities in the area that report to EPA under the selected program\n",
    "### 8. Once you run this cell, a map should appear. Facilities will be clustered by area. You can zoom in and click on each facility to get its name and a link to a more detailed report.\n",
    "\n",
    "_Note:_ You might find that there are some facilities located outside of the region you selected. That's probably because of an issue in how EPA generates spatial information for facilities.\n",
    "\n",
    "States with a large number of facilities may not display properly."
   ]
  },
  {
   "cell_type": "code",
   "execution_count": null,
   "metadata": {
    "id": "EHQ-mlKUaRLQ",
    "scrolled": true
   },
   "outputs": [],
   "source": [
    "import geopandas\n",
    "\n",
    "if ( program_data is not None ):\n",
    "    df_to_map = program_data.loc[~program_data.index.duplicated(keep='first')]\n",
    "    \n",
    "    map_of_facilities = mapper(df_to_map)\n",
    "    if ( region_type == 'State' or region_type == 'Congressional District' ):\n",
    "        if ( region_type == 'Congressional District' and region_selected is not None ):\n",
    "            url = \"https://raw.githubusercontent.com/unitedstates/districts/gh-pages/cds/2016/{}-{}/shape.geojson\".format( state, str(region_selected))\n",
    "            map_data = geopandas.read_file(url)\n",
    "            w = folium.GeoJson(\n",
    "                map_data,\n",
    "                name = \"EPA Regions\",\n",
    "            ).add_to(map_of_facilities) #m is the map object created to hold the facility points. we want to add this shape object to that map object\n",
    "            folium.GeoJsonTooltip(fields=[\"District\"]).add_to(w)\n",
    "        if ( region_type == 'State' ):\n",
    "            url = \"https://github.com/edgi-govdata-archiving/ECHO-Geo/raw/main/states.geojson\"\n",
    "            map_data = geopandas.read_file( url )\n",
    "            state_data = map_data[ map_data['STUSPS'] == state ]\n",
    "            w = folium.GeoJson( state_data, name=\"State\" ).add_to( map_of_facilities )\n",
    "\n",
    "    display( map_of_facilities ) \n",
    "else:\n",
    "    print( \"There are no facilities in the region for this data set.\" )   \n"
   ]
  },
  {
   "cell_type": "code",
   "execution_count": null,
   "metadata": {},
   "outputs": [],
   "source": [
    "%run ECHO_modules/utilities.py"
   ]
  },
  {
   "cell_type": "markdown",
   "metadata": {
    "id": "ABYAP8UbaRLR"
   },
   "source": [
    "### 9. Chart this data set"
   ]
  },
  {
   "cell_type": "code",
   "execution_count": null,
   "metadata": {
    "id": "zJMvn6uWaRLR"
   },
   "outputs": [],
   "source": [
    "program_results.show_chart()"
   ]
  },
  {
   "cell_type": "markdown",
   "metadata": {
    "id": "iW-63h5qaRLQ"
   },
   "source": [
    "### 10.  In this cell you may save the program data for your region to your computer.\n",
    "To access your files click on the 'Files' tab in the menu on the left-hand side of the notebook (it looks like a folder). You may have to hit 'Refresh' if you don't see your file. Then, you can click on the ... next to your file and choose \"Download\". The CSV spreadsheet will download to wherever your browser usually saves files (e.g. Downloads folder)"
   ]
  },
  {
   "cell_type": "code",
   "execution_count": null,
   "metadata": {
    "id": "hI3Sp982aRLR",
    "scrolled": false,
    "tags": []
   },
   "outputs": [],
   "source": [
    "if ( len( program_data ) > 0 ):\n",
    "    state_name = None\n",
    "    if ( state_widget is not None ):\n",
    "        state_name = state_widget.value\n",
    "    write_dataset( df=program_data, base=program.name, type=region_type_widget.value, \n",
    "           state=state_name, region=region_selected )\n",
    "else:\n",
    "    print( \"There is no data for this program and region.\" )"
   ]
  },
  {
   "cell_type": "markdown",
   "metadata": {
    "id": "_evbK8d8aRLR"
   },
   "source": [
    "#### If you'd like to look at another dimension of ECHO data for this region...\n",
    "....return to the dropdown menu in Step 6 and choose a different program/data type, run the database access code, and then map and chart it!\n",
    "\n",
    "---"
   ]
  },
  {
   "cell_type": "markdown",
   "metadata": {
    "id": "64R_JsSnaRLS"
   },
   "source": [
    "## Choose a specific facility\n",
    "### 11. In the next few blocks of code, you can focus in on just one facility in the region.\n",
    "Run the below cell, then choose a facility from the dropdown that appears."
   ]
  },
  {
   "cell_type": "code",
   "execution_count": null,
   "metadata": {
    "id": "MyUtZ_Y2aRLS"
   },
   "outputs": [],
   "source": [
    "fac_series = program_data[\"FAC_NAME\"]\n",
    "fac_widget = show_fac_widget( fac_series )"
   ]
  },
  {
   "cell_type": "markdown",
   "metadata": {
    "id": "0lvqPXxIaRLS"
   },
   "source": [
    "### 12. Let's see the data for this facility"
   ]
  },
  {
   "cell_type": "code",
   "execution_count": null,
   "metadata": {
    "id": "zP4mKiIbaRLT",
    "scrolled": true,
    "tags": []
   },
   "outputs": [],
   "source": [
    "fac_pgm_data = program_data[ program_data[\"FAC_NAME\"] == fac_widget.value ]\n",
    "\n",
    "pd.set_option('display.max_colwidth', -1)\n",
    "\n",
    "if ( fac_pgm_data is None or len( fac_pgm_data ) == 0 ):\n",
    "    print( \"There is no {} data for {} \".format( fac_pgm_widget.value, fac_widget.value ))\n",
    "else:\n",
    "    display( fac_pgm_data )"
   ]
  },
  {
   "cell_type": "markdown",
   "metadata": {
    "id": "xR7fl42CaRLT"
   },
   "source": [
    "### 13. This cell saves this facility's data for this program to your computer.\n",
    "\n",
    "To access your files click on the 'Files' tab in the menu on the left-hand side of the notebook (it looks like a folder). You may have to hit 'Refresh' if you don't see your file. Then, you can click on the ... next to your file and choose \"Download\". The CSV spreadsheet will download to wherever your browser usually saves files (e.g. Downloads folder)"
   ]
  },
  {
   "cell_type": "code",
   "execution_count": null,
   "metadata": {
    "id": "ncdrsbK1aRLT",
    "tags": []
   },
   "outputs": [],
   "source": [
    "# fac_pgm_data = add_fac_to_pgm_data( fac_pgm_data, fac_data )\n",
    "if ( len( fac_pgm_data ) > 0 ):\n",
    "    state_name = None\n",
    "    if ( state_widget is not None ):\n",
    "        state_name = state_widget.value\n",
    "    write_dataset( df=fac_pgm_data, base=program.name+'-'+fac_widget.value, \n",
    "               type=region_type_widget.value, state=state_name, region=region_selected )\n",
    "else:\n",
    "    print( \"There is no data for this program and region.\" )"
   ]
  },
  {
   "cell_type": "markdown",
   "metadata": {
    "id": "cCOk5AvyaRLT"
   },
   "source": [
    "#### If you'd like to look at another dimension of ECHO data for this region...\n",
    "....return to the dropdown menu in Step 6 and choose a different program/data type, run the database access code, and then map and chart it!\n",
    "\n",
    "---"
   ]
  },
  {
   "cell_type": "code",
   "execution_count": null,
   "metadata": {
    "id": "X2jjBrJuaRLT"
   },
   "outputs": [],
   "source": []
  }
 ],
 "metadata": {
  "colab": {
   "name": "ECHO-Cross-Programs.ipynb",
   "provenance": []
  },
  "kernelspec": {
   "display_name": "Python 3",
   "language": "python",
   "name": "python3"
  },
  "language_info": {
   "codemirror_mode": {
    "name": "ipython",
    "version": 3
   },
   "file_extension": ".py",
   "mimetype": "text/x-python",
   "name": "python",
   "nbconvert_exporter": "python",
   "pygments_lexer": "ipython3",
   "version": "3.8.5"
  }
 },
 "nbformat": 4,
 "nbformat_minor": 1
}
