{
 "cells": [
  {
   "cell_type": "markdown",
   "metadata": {
    "id": "UdGOD19kaRLB"
   },
   "source": [
    "| ![EEW logo](https://github.com/edgi-govdata-archiving/EEW-Image-Assets/blob/master/Jupyter%20instructions/eew.jpg?raw=true) | ![EDGI logo](https://github.com/edgi-govdata-archiving/EEW-Image-Assets/blob/master/Jupyter%20instructions/edgi.png?raw=true) |\n",
    "|---|---|\n",
    "\n",
    "This notebook is licensed under GPL 3.0. Please visit our [Github repo](https://github.com/edgi-govdata-archiving/ECHO-Cross-Program) for more information.\n",
    "\n",
    "The notebook was collaboratively authored by EDGI following our [authorship protocol](https://docs.google.com/document/d/1CtDN5ZZ4Zv70fHiBTmWkDJ9mswEipX6eCYrwicP66Xw/).\n",
    "\n",
    "For more information about this project, visit https://www.environmentalenforcementwatch.org/"
   ]
  },
  {
   "cell_type": "markdown",
   "metadata": {
    "id": "TzKJgzg1aRLI"
   },
   "source": [
    "Note:  This notebook pulls data from a copy of EPA's ECHO database hosted by Stony Brook University. The data sets are updated on a weekly basis, meaning that some of the results from your run may not exactly match those in [EEW's Congressional Report Cards](https://www.environmentalenforcementwatch.org/reports). For instance, the Report Cards show ten facilities that have spent at least three of the past 12 quarters in non-compliance with different environmental protection laws. These results will therefore change as we enter new parts of the year. In addition, the Report Cards estimate the number of facilities that were active in 2019, since EPA does not provide such figures. Our estimate is based on the number of facilities EPA records as active at the *current* moment in time. In short, we use active right now as a proxy for active in 2019. This number informs several metrics in the Report Cards - including violations and inspections per 1000 facilities - and these will change as the number of facilities reported as active right now by the EPA changes. Please see the [CD-Report repo](https://github.com/edgi-govdata-archiving/CD-report) for facility counts and non-compliance rates as we recorded them in mid-September 2020 in order to produce the Report Cards."
   ]
  },
  {
   "cell_type": "markdown",
   "metadata": {
    "id": "zH-0GpDAaRLJ"
   },
   "source": [
    "# Examining Data from Multiple EPA Programs\n",
    "\n",
    "This notebook examines data from the EPA's Enforcement and Compliance History Online (ECHO) database (https://echo.epa.gov/). It includes information from EPA's programs covering air quality (the Clean Air Act, or CAA), water quality (the Clean Water Act, or CWA), drinking water (Safe Drinking Water Act, SDWA) and hazardous and other waste processing (the Resource Recovery and Conservation Act, or RCRA).\n",
    "\n",
    "ECHO data is available for facility violations as well as inspections and enforcement actions by EPA, state and other agencies. The data made accessible here runs from the present day (the database is refreshed weekly) back to 2001, which is when the EPA believes the data to be most reliable. It is available at the Congressional District level for a selected state, and for counties and zip codes of your choosing.\n",
    "\n",
    "The EPA program acronyms are:\n",
    "- CAA = Clean Air Act\n",
    "- CWA = Clean Water Act\n",
    "- SDWIS = Safe Drinking Water Information System\n",
    "- RCRA = Resource Conservation and Recovery Act\n",
    "- TRI = Toxics Release Inventory\n",
    "- GHG = Greenhouse Gas Reporting Program\n"
   ]
  },
  {
   "cell_type": "markdown",
   "metadata": {
    "id": "TDgxwY6aaRLK"
   },
   "source": [
    "## How to Run\n",
    "* A \"cell\" in a Jupyter notebook is a block of code performing a set of actions making available or using specific data.  The notebook works by running one cell after another, as the notebook user selects offered options.\n",
    "* If you click on a gray **code** cell, a little “play button” arrow appears on the left. If you click the play button, it will run the code in that cell (“**running** a cell”). The button will animate. When the animation stops, the cell has finished running.\n",
    "![Where to click to run the cell](https://github.com/edgi-govdata-archiving/EEW-Image-Assets/blob/master/Jupyter%20instructions/pressplay.JPG?raw=true)\n",
    "* You may get a warning that the notebook was not authored by Google. We know, we authored them! It’s okay. Click “Run Anyway” to continue.\n",
    "![Error Message](https://github.com/edgi-govdata-archiving/EEW-Image-Assets/blob/master/Jupyter%20instructions/warning-message.JPG?raw=true)\n",
    "* **It is important to run cells in order because they depend on each other.**\n",
    "* Run all of the cells in a Notebook to make a complete report. Please feel free to look at and **learn about each result as you create it**!"
   ]
  },
  {
   "cell_type": "markdown",
   "metadata": {
    "id": "Ad_p17bEaRLK"
   },
   "source": [
    "---"
   ]
  },
  {
   "cell_type": "markdown",
   "metadata": {
    "id": "5ci8OkjOaRLK"
   },
   "source": [
    "# **Let's begin!**"
   ]
  },
  {
   "cell_type": "markdown",
   "metadata": {
    "id": "Cyj_M3SXaRLL"
   },
   "source": [
    "Hover over the \"[ ]\" on the top left corner of the cell below and you should see a \"play\" button appear. Click on it to run the cell then move to the next one.\n",
    "\n",
    "These first two cells give us access to some external Python code we will need."
   ]
  },
  {
   "cell_type": "markdown",
   "metadata": {
    "id": "0x-fp6PTaRLL"
   },
   "source": [
    "### 1.  Bring in some code that is stored in a Github project, and run a few Python modules."
   ]
  },
  {
   "cell_type": "code",
   "execution_count": null,
   "metadata": {
    "colab": {
     "base_uri": "https://localhost:8080/",
     "height": 1000
    },
    "executionInfo": {
     "elapsed": 24006,
     "status": "ok",
     "timestamp": 1712621292342,
     "user": {
      "displayName": "Steve Hansen",
      "userId": "12565972394538636210"
     },
     "user_tz": 420
    },
    "id": "OZatef7xaRLL",
    "outputId": "5ceff1ad-12cb-4344-9c71-9c36fbbe96ab",
    "tags": []
   },
   "outputs": [],
   "source": [
    "!pip install ECHO_modules &>/dev/null;\n",
    "!pip install geopandas &>/dev/null;\n",
    "\n",
    "import warnings\n",
    "warnings.filterwarnings('ignore')\n",
    "\n",
    "print(\"Done!\")"
   ]
  },
  {
   "cell_type": "markdown",
   "metadata": {
    "id": "JLhiK5h4aRLM"
   },
   "source": [
    "### 2.  Run this next cell to select which geography you wish to view ECHO data by.\n",
    "Choose the type of region and proceed to the next cell."
   ]
  },
  {
   "cell_type": "code",
   "execution_count": null,
   "metadata": {
    "colab": {
     "base_uri": "https://localhost:8080/",
     "height": 49,
     "referenced_widgets": [
      "d8dd678de3164cd482488280cb4a51dd",
      "de9abbb0a6144b4db3ad2c8f10ef1cd4",
      "4fb7fb05ace54b47992f6f88573e014c"
     ]
    },
    "executionInfo": {
     "elapsed": 2738,
     "status": "ok",
     "timestamp": 1712621311668,
     "user": {
      "displayName": "Steve Hansen",
      "userId": "12565972394538636210"
     },
     "user_tz": 420
    },
    "id": "Aa7yQGVqaRLM",
    "outputId": "90e50607-3d86-4cc9-b41a-721607e1939b"
   },
   "outputs": [],
   "source": [
    "from ECHO_modules.utilities import show_region_type_widget, \\\n",
    "    show_state_widget, show_pick_region_widget, show_year_range_widget\n",
    "\n",
    "region_type_widget = show_region_type_widget()\n",
    "state_widget = None\n",
    "# display( region_type_widget )"
   ]
  },
  {
   "cell_type": "markdown",
   "metadata": {
    "id": "LwiZS8oeaRLM"
   },
   "source": [
    "### 3.  Select your state of interest.  _If you are interested in a zip code or \"neighborhood\", this can be skipped._"
   ]
  },
  {
   "cell_type": "code",
   "execution_count": null,
   "metadata": {
    "colab": {
     "base_uri": "https://localhost:8080/",
     "height": 49,
     "referenced_widgets": [
      "de4b03e629d248fda86ede393f3aa5d1",
      "cc9a50e41788470d92f88aee381ff479",
      "b3e6188fad3a4d3c9636495b23f661e3"
     ]
    },
    "executionInfo": {
     "elapsed": 174,
     "status": "ok",
     "timestamp": 1712621317256,
     "user": {
      "displayName": "Steve Hansen",
      "userId": "12565972394538636210"
     },
     "user_tz": 420
    },
    "id": "kQd3M7tBaRLN",
    "outputId": "76b2fbc5-9182-444b-8e5a-a4382b58c622"
   },
   "outputs": [],
   "source": [
    "state_widget = show_state_widget()"
   ]
  },
  {
   "cell_type": "markdown",
   "metadata": {
    "id": "EI858zKZaRLN"
   },
   "source": [
    "### 4.  Run this cell and choose the specific region you want to look at.\n",
    "It will ask you to specify which place you want to look at. If you want to look at an entire state, you should still run this cell, but you won't see any output.\n",
    "\n",
    "In dropdown lists, you can select multiple entries by using Ctrl+click. Currently only one zip code can be entered.\n",
    "\n",
    "For reference, here is a map of congressional districts: https://www.govtrack.us/congress/members/map"
   ]
  },
  {
   "cell_type": "code",
   "execution_count": null,
   "metadata": {
    "colab": {
     "base_uri": "https://localhost:8080/",
     "height": 129,
     "referenced_widgets": [
      "c4914da108a44213824811653c5f0077",
      "f06e8e2f2f0f4fefbdc97a8bbb303cd0",
      "f84502e5a2844aa98cb61c4300ff6d05"
     ]
    },
    "executionInfo": {
     "elapsed": 395,
     "status": "ok",
     "timestamp": 1712621324713,
     "user": {
      "displayName": "Steve Hansen",
      "userId": "12565972394538636210"
     },
     "user_tz": 420
    },
    "id": "LH-8VrSTaRLN",
    "outputId": "e8615bdd-7798-47df-96ba-a1f3ee51718b",
    "scrolled": true
   },
   "outputs": [],
   "source": [
    "from ECHO_modules.utilities import polygon_map\n",
    "\n",
    "region_widget = None\n",
    "region_type = region_type_widget.value\n",
    "if ( region_type == 'Neighborhood' ):\n",
    "    shapes = polygon_map()\n",
    "elif ( region_type != 'State' ):\n",
    "    region_widget = show_pick_region_widget( type=region_type,\n",
    "                                           state_widget=state_widget )"
   ]
  },
  {
   "cell_type": "markdown",
   "metadata": {
    "id": "R8TpnjrPaRLN"
   },
   "source": [
    "### 5. Chart the top violators/emitters in the region for CAA, CWA and RCRA.\n",
    "The charts show the 20 facilities with the most quarters in non-compliance with these environmental protection laws over the past 3 years. For the Toxic Release Inventory (TRI) and Greenhouse Gases (GHG) programs, it is the top emitters of toxic substances or greenhouse gases."
   ]
  },
  {
   "cell_type": "code",
   "execution_count": null,
   "metadata": {
    "colab": {
     "base_uri": "https://localhost:8080/",
     "height": 1000
    },
    "executionInfo": {
     "elapsed": 8618,
     "status": "ok",
     "timestamp": 1712621341240,
     "user": {
      "displayName": "Steve Hansen",
      "userId": "12565972394538636210"
     },
     "user_tz": 420
    },
    "id": "tGG4dLXuaRLN",
    "outputId": "b2d875cf-b4c1-4cc7-ae31-aba699e83c21",
    "scrolled": true
   },
   "outputs": [],
   "source": [
    "from ECHO_modules.utilities import get_active_facilities, \\\n",
    "        get_top_violators, chart_top_violators, get_tri_ghg_violators, chart_tri_ghg_violators\n",
    "\n",
    "df_violators = {}\n",
    "state = state_widget.value if state_widget is not None else None\n",
    "regions_selected = None\n",
    "if ( region_type == 'Zip Code' ):\n",
    "    regions_selected = str(region_widget.value)\n",
    "elif ( region_type == 'Neighborhood' ):\n",
    "    regions_selected = shapes.pop()\n",
    "elif ( region_type != 'State' ):\n",
    "    regions_selected = region_widget.value\n",
    "df_active = get_active_facilities( state, region_type, regions_selected )\n",
    "if ( df_active is None ):\n",
    "    print( 'This region type is not yet supported')\n",
    "else:\n",
    "    df_violators['AIR'] = get_top_violators( df_active, 'AIR_FLAG',\n",
    "            'CAA_3YR_COMPL_QTRS_HISTORY', 'CAA_FORMAL_ACTION_COUNT', 20 )\n",
    "    display( chart_top_violators( df_violators['AIR'], state, regions_selected, 'CAA' ))\n",
    "\n",
    "    df_violators['NPDES'] = get_top_violators( df_active, 'NPDES_FLAG',\n",
    "            'CWA_13QTRS_COMPL_HISTORY', 'CWA_FORMAL_ACTION_COUNT', 20 )\n",
    "    display( chart_top_violators( df_violators['NPDES'], state, regions_selected, 'CWA' ))\n",
    "\n",
    "    df_violators['RCRA'] = get_top_violators( df_active, 'RCRA_FLAG',\n",
    "            'RCRA_3YR_COMPL_QTRS_HISTORY', 'RCRA_FORMAL_ACTION_COUNT', 20 )\n",
    "    display( chart_top_violators( df_violators['RCRA'], state, regions_selected, 'RCRA' ))\n",
    "\n",
    "    df_violators['GHG'] = get_tri_ghg_violators(df_active, 'GHG_CO2_RELEASES',  20)\n",
    "    display(chart_tri_ghg_violators(df_violators['GHG'], field='GHG_CO2_RELEASES',\n",
    "            title='Greenhouse Gas Emissions in Metric Tons (most recent year)',\n",
    "            xlabel='Emissions in Metric Tons'))\n",
    "\n",
    "    df_violators['TRI'] = get_tri_ghg_violators(df_active, 'TRI_RELEASES_TRANSFERS', 20)\n",
    "    display(chart_tri_ghg_violators(df_violators['TRI'], field='TRI_RELEASES_TRANSFERS',\n",
    "            title='Total pounds per year released for Air Emissions, Surface Water Discharges, Underground Injections, Releases to Land and Off-Site Transfers',\n",
    "            xlabel='Total pounds per year'))"
   ]
  },
  {
   "cell_type": "markdown",
   "metadata": {
    "id": "C-sQQbU_aRLO"
   },
   "source": [
    "## Get program-specific data for all the facilities in the region.\n",
    "### First, choose the program (Air, Water, Drinking Water, and Hazardous Waste) and type of data (Emissions, Violations, Inspections, Enforcement) you want to explore\n",
    "\n",
    "Running the code below will show you a dropdown you can use to make a selection. **Inspections** or **evaluations** are usually the first phase in the enforcement pipeline, how many (but not all) violations are discovered.  **Violations** happen when a facilty is found to be out of compliance with an environmental law, often by violating the terms of its permit issued under that law.  **Enforcement actions** happen when the regulating agency decides to initiate a \"case\" against a firm for its violation of an environmental law, either by considering some administrative penalty such as a fine or by taking the violator to court.\n",
    "\n",
    "What's available for you to look at here:\n",
    "\n",
    "**Hazardous and Other Waste**:\n",
    "- RCRA_EVALUATIONS = Inspections under RCRA\n",
    "- RCRA_VIOLATIONS = Violations of RCRA rules\n",
    "- RCRA_ENFORCEMENTS = Enforcement actions taken by state agencies and the EPA\n",
    "\n",
    "Here's where you can find definitions of terms used in the columns of RCRA data:\n",
    "https://echo.epa.gov/tools/data-downloads/rcrainfo-download-summary\n",
    "\n",
    "**Air**:\n",
    "- ICIS-AIR_VIOLATION_HISTORY = CAA violations\n",
    "- ICIS-AIR_FCES_PCES = Both state and federal CAA compliance evaluations\n",
    "- ICIS-AIR_FORMAL_ACTIONS = CAA formal enforcement actions\n",
    "\n",
    "Here's where you can find definitions of terms used in the columns of Clean Air Act data:\n",
    "https://echo.epa.gov/tools/data-downloads/icis-air-download-summary\n",
    "\n",
    "**Air Emissions** (Combined air emissions data for stationary sources from four EPA air programs: National Emissions Inventory (NEI), Greenhouse Gas Reporting Program (GHGRP), Toxic Release Inventory (TRI), and Clean Air Markets (CAMD)):\n",
    "- Greenhouse Gases via POLL_RPT_COMBINED_EMISSIONS\n",
    "- Toxic Releases via POLL_RPT_COMBINED_EMISSIONS\n",
    "\n",
    "Here's where you can find definitions of terms used in the columns of this data: https://echo.epa.gov/tools/data-downloads/air-emissions-download-summary\n",
    "\n",
    "**Water** (National Pollutant Discharge Elimination System, or NPDES):\n",
    "- NPDES_QNCR_HISTORY = CWA Quarterly Non-Compliance History\n",
    "- NPDES_INSPECTIONS = CWA Inspections\n",
    "- NPDES_FORMAL_ENFORCEMENT_ACTIONS = CWA Enforcements\n",
    "\n",
    "Here's where you can find definitions of terms used in the columns of Clean Water Act data: https://echo.epa.gov/tools/data-downloads/icis-npdes-download-summary\n",
    "\n",
    "**Drinking Water** (Safe Drinking Water Act, or SDWA):\n",
    "- SDWA_PUB_WATER_SYSTEMS = Public Water Systems under Safe Drinking Water Act\n",
    "- SDWA_SITE_VISITS = Safe Drinking Water Site Visits\n",
    "- SDWA_VIOLATIONS = Safe Drinking Water Violations\n",
    "- SDWA_SERIOUS_VIOLATORS = Safe Drinking Water Serious Violators\n",
    "- SDWA_ENFORCEMENTS = Safe Drinking Water Enforcements\n",
    "- SDWA_RETURN_TO_COMPLIANCE = Safe Drinking Water Return to Compliance\n",
    "\n",
    "Here's where you can find definitions of terms used in the columns of Clean Water Act data: https://echo.epa.gov/tools/data-downloads/sdwa-download-summary"
   ]
  },
  {
   "cell_type": "markdown",
   "metadata": {
    "id": "2-lxUZomaRLP"
   },
   "source": [
    "### 6. This cell creates data sets for facilities in the region and presents a dropdown selection."
   ]
  },
  {
   "cell_type": "code",
   "execution_count": null,
   "metadata": {
    "colab": {
     "base_uri": "https://localhost:8080/",
     "height": 49,
     "referenced_widgets": [
      "b6f06e75e91f405ab3228d416bd0b392",
      "5cb54a0ead1d40298188264f6394d60f",
      "bec5f9559db64c219f5e9b08eab791fe"
     ]
    },
    "executionInfo": {
     "elapsed": 194,
     "status": "ok",
     "timestamp": 1712622444887,
     "user": {
      "displayName": "Steve Hansen",
      "userId": "12565972394538636210"
     },
     "user_tz": 420
    },
    "id": "cJN7Q5sLaRLP",
    "outputId": "da995751-0bf2-48bc-fc84-b66562f93bf1"
   },
   "outputs": [],
   "source": [
    "from ECHO_modules.make_data_sets import make_data_sets\n",
    "from ECHO_modules.utilities import show_data_set_widget\n",
    "\n",
    "data_sets = make_data_sets([\n",
    "    \"RCRA Violations\",\n",
    "    \"RCRA Inspections\",\n",
    "    \"RCRA Penalties\",\n",
    "    \"CAA Violations\",\n",
    "    \"CAA Penalties\",\n",
    "    \"CAA Inspections\",\n",
    "    \"Combined Air Emissions\",\n",
    "    \"Greenhouse Gas Emissions\",\n",
    "    \"Toxic Releases\",\n",
    "    \"CWA Violations\",\n",
    "    \"CWA Inspections\",\n",
    "    \"CWA Penalties\",\n",
    "    \"SDWA Site Visits\",\n",
    "    \"SDWA Enforcements\",\n",
    "    \"SDWA Public Water Systems\",\n",
    "    \"SDWA Violations\",\n",
    "    \"SDWA Serious Violators\"\n",
    "])\n",
    "\n",
    "data_set_widget = show_data_set_widget( data_sets )"
   ]
  },
  {
   "cell_type": "markdown",
   "metadata": {
    "id": "tK0E1tDKaRLP"
   },
   "source": [
    "### 7. Once you've chosen the program and data type you want to focus on...\n",
    "....run the code below, which will access our database and retrieve the information.\n",
    "#### This is the main query of the remote database.  It may take some time if there are thousands of facilities in your region that report to the selected program."
   ]
  },
  {
   "cell_type": "code",
   "execution_count": null,
   "metadata": {},
   "outputs": [],
   "source": [
    "year_range = show_year_range_widget()"
   ]
  },
  {
   "cell_type": "code",
   "execution_count": null,
   "metadata": {
    "colab": {
     "base_uri": "https://localhost:8080/",
     "height": 1000
    },
    "executionInfo": {
     "elapsed": 1854,
     "status": "ok",
     "timestamp": 1712622475545,
     "user": {
      "displayName": "Steve Hansen",
      "userId": "12565972394538636210"
     },
     "user_tz": 420
    },
    "id": "nhNCINvYaRLP",
    "outputId": "eb02d55a-8d86-4de3-9f55-a2333c91df00",
    "tags": []
   },
   "outputs": [],
   "source": [
    "program = data_sets[ data_set_widget.value ]\n",
    "program_results = program.store_results( region_type=region_type,\n",
    "                            region_value=regions_selected, state=state, \n",
    "                            years=year_range.value)\n",
    "program_data = None\n",
    "if ( program_results is not None ):\n",
    "    program_data = program_results.dataframe.copy()\n",
    "\n",
    "    display( program_data )\n",
    "else:\n",
    "    print( \"There is no data for this data set in this region.\")"
   ]
  },
  {
   "cell_type": "markdown",
   "metadata": {
    "id": "YrQOiajFaRLQ"
   },
   "source": [
    "## Create an interactive map of all of the facilities in the area that report to EPA under the selected program\n",
    "### 8. When you run this cell, a map should appear. Facilities will be clustered by area. You can zoom in and click on each facility to get its name and a link to a more detailed report.\n",
    "\n",
    "_Note:_ You might find that there are some facilities located outside of the region you selected. That's probably because of an issue in how EPA generates spatial information for facilities.\n",
    "\n",
    "States with a large number of facilities may not display properly."
   ]
  },
  {
   "cell_type": "code",
   "execution_count": null,
   "metadata": {
    "colab": {
     "base_uri": "https://localhost:8080/",
     "height": 611
    },
    "executionInfo": {
     "elapsed": 187,
     "status": "ok",
     "timestamp": 1712622512905,
     "user": {
      "displayName": "Steve Hansen",
      "userId": "12565972394538636210"
     },
     "user_tz": 420
    },
    "id": "EHQ-mlKUaRLQ",
    "outputId": "4227994b-7cb5-40ca-a3f3-8e2a422db471",
    "scrolled": true
   },
   "outputs": [],
   "source": [
    "from ECHO_modules.utilities import mapper\n",
    "import geopandas as gpd\n",
    "import pandas as pd\n",
    "import folium\n",
    "\n",
    "if ( program_data is not None ):\n",
    "    df_to_map = program_data.loc[~program_data.index.duplicated(keep='first')]\n",
    "\n",
    "    map_of_facilities = mapper(df_to_map)\n",
    "    if ( region_type == 'State' or region_type == 'Congressional District' ):\n",
    "        if ( region_type == 'Congressional District' and regions_selected is not None ):\n",
    "            map_data_list = []\n",
    "            for region in regions_selected:\n",
    "                url = \"https://raw.githubusercontent.com/unitedstates/districts/gh-pages/cds/2016/{}-{}/shape.geojson\".format( state, str(region))\n",
    "                map_data = gpd.read_file(url)\n",
    "                map_data_list.append( map_data )\n",
    "            map_data = gpd.GeoDataFrame( pd.concat( map_data_list, ignore_index=True) )\n",
    "            w = folium.GeoJson(\n",
    "                map_data,\n",
    "                name = \"EPA Regions\",\n",
    "            ).add_to(map_of_facilities) #m is the map object created to hold the facility points. we want to add this shape object to that map object\n",
    "            folium.GeoJsonTooltip(fields=[\"District\"]).add_to(w)\n",
    "        if ( region_type == 'State' ):\n",
    "            url = \"https://github.com/edgi-govdata-archiving/ECHO-Geo/raw/main/states.geojson\"\n",
    "            map_data = gpd.read_file( url )\n",
    "            state_data = map_data[ map_data['STUSPS'] == state ]\n",
    "            w = folium.GeoJson( state_data, name=\"State\" ).add_to( map_of_facilities )\n",
    "\n",
    "    display( map_of_facilities ) \n",
    "else:\n",
    "    print( \"There are no facilities in the region for this data set.\" )\n"
   ]
  },
  {
   "cell_type": "markdown",
   "metadata": {},
   "source": [
    "### 8a. The previous map showed all facilities in the selected regions that are monitored under the selected program. Many of those may not have had any violations or emissions.\n",
    "This map shows only the facilities identified earlier as having the most violations under the selected EPA program, or the largest amount of emissions for Toxic Release and Greenhouse Gas programs."
   ]
  },
  {
   "cell_type": "code",
   "execution_count": null,
   "metadata": {
    "scrolled": true
   },
   "outputs": [],
   "source": [
    "if type(program.echo_type) == list or program.echo_type == 'SDWA':\n",
    "    print(\"The SDWA and Combined Air Emissions are not currently supported for this map.\")\n",
    "elif df_violators[program.echo_type] is not None:\n",
    "    top_violators = df_violators[program.echo_type]\n",
    "    df_to_map = top_violators.loc[~top_violators.index.duplicated(keep='first')]\n",
    "\n",
    "    map_of_facilities = mapper(df_to_map)\n",
    "    if ( region_type == 'State' or region_type == 'Congressional District' ):\n",
    "        if ( region_type == 'Congressional District' and regions_selected is not None ):\n",
    "            map_data_list = []\n",
    "            for region in regions_selected:\n",
    "                url = \"https://raw.githubusercontent.com/unitedstates/districts/gh-pages/cds/2016/{}-{}/shape.geojson\".format( state, str(region))\n",
    "                map_data = gpd.read_file(url)\n",
    "                map_data_list.append( map_data )\n",
    "            map_data = gpd.GeoDataFrame( pd.concat( map_data_list, ignore_index=True) )\n",
    "            w = folium.GeoJson(\n",
    "                map_data,\n",
    "                name = \"EPA Regions\",\n",
    "            ).add_to(map_of_facilities) #m is the map object created to hold the facility points. we want to add this shape object to that map object\n",
    "            folium.GeoJsonTooltip(fields=[\"District\"]).add_to(w)\n",
    "        if ( region_type == 'State' ):\n",
    "            url = \"https://github.com/edgi-govdata-archiving/ECHO-Geo/raw/main/states.geojson\"\n",
    "            map_data = gpd.read_file( url )\n",
    "            state_data = map_data[ map_data['STUSPS'] == state ]\n",
    "            w = folium.GeoJson( state_data, name=\"State\" ).add_to( map_of_facilities )\n",
    "\n",
    "    display( map_of_facilities ) \n",
    "else:\n",
    "    print( \"There are no facilities in the region for this data set.\" )\n"
   ]
  },
  {
   "cell_type": "markdown",
   "metadata": {
    "id": "ABYAP8UbaRLR"
   },
   "source": [
    "### 9. Chart this data set"
   ]
  },
  {
   "cell_type": "code",
   "execution_count": null,
   "metadata": {
    "colab": {
     "base_uri": "https://localhost:8080/",
     "height": 570
    },
    "executionInfo": {
     "elapsed": 742,
     "status": "ok",
     "timestamp": 1712622543490,
     "user": {
      "displayName": "Steve Hansen",
      "userId": "12565972394538636210"
     },
     "user_tz": 420
    },
    "id": "zJMvn6uWaRLR",
    "outputId": "5f84aafe-0c0d-4b54-eb51-ad2da8b3d9eb",
    "scrolled": true
   },
   "outputs": [],
   "source": [
    "program_results.show_chart()"
   ]
  },
  {
   "cell_type": "markdown",
   "metadata": {
    "id": "iW-63h5qaRLQ"
   },
   "source": [
    "### 10.  In this cell you may save the program data for your region to your computer.\n",
    "To access your files click on the 'Files' tab in the menu on the left-hand side of the notebook (it looks like a folder). You may have to hit 'Refresh' if you don't see your file. Then, you can click on the ... next to your file and choose \"Download\". The CSV spreadsheet will download to wherever your browser usually saves files (e.g. Downloads folder)"
   ]
  },
  {
   "cell_type": "code",
   "execution_count": null,
   "metadata": {},
   "outputs": [],
   "source": [
    "## You may enter a name to use for the file, or use the one provided.\n",
    "from ECHO_modules.utilities import dataset_filename\n",
    "\n",
    "state_name = None\n",
    "if ( len( program_data ) > 0 ):\n",
    "    region_type = region_type_widget.value\n",
    "    if ( state_widget is not None ):\n",
    "        state_name = state_widget.value\n",
    "filename_widget = dataset_filename(base=program.name, type=region_type,\n",
    "           state=state_name, regions=regions_selected)"
   ]
  },
  {
   "cell_type": "code",
   "execution_count": null,
   "metadata": {
    "colab": {
     "base_uri": "https://localhost:8080/"
    },
    "executionInfo": {
     "elapsed": 202,
     "status": "ok",
     "timestamp": 1712353561985,
     "user": {
      "displayName": "Steve Hansen",
      "userId": "12565972394538636210"
     },
     "user_tz": 420
    },
    "id": "hI3Sp982aRLR",
    "outputId": "edca32bf-dccc-4f93-fc8a-30f942f0acd8",
    "scrolled": true,
    "tags": []
   },
   "outputs": [],
   "source": [
    "from ECHO_modules.utilities import write_dataset\n",
    "\n",
    "if ( len( program_data ) > 0 ):\n",
    "    region_type = region_type_widget.value\n",
    "    if ( state_widget is not None ):\n",
    "        state_name = state_widget.value\n",
    "    write_dataset( df=program_data, filename=filename_widget.value )\n",
    "else:\n",
    "    print( \"There is no data for this program and region.\" )"
   ]
  },
  {
   "cell_type": "markdown",
   "metadata": {
    "id": "_evbK8d8aRLR"
   },
   "source": [
    "#### If you'd like to look at another dimension of ECHO data for this region...\n",
    "....return to the dropdown menu in Step 6 and choose a different program/data type, run the database access code, and then map and chart it!\n",
    "\n",
    "---"
   ]
  },
  {
   "cell_type": "markdown",
   "metadata": {
    "id": "64R_JsSnaRLS"
   },
   "source": [
    "## Choose specific facilities\n",
    "### 11. In the next few blocks of code, you can focus in on one or more facilities in the region.\n",
    "Run the below cell, then choose a facility from the dropdown that appears.\n",
    "Multiple facilities may be selected with Ctrl+click or Shift+click.\n",
    "\n",
    "Facilities identified earlier as top violators in the region will be pre-selected. You can add to the selections by Ctrl+click or Shift+click. Remove an individual pre-selected facility by Ctrl+click, or all of the pre-selected facilities by clicking on any unselected facility."
   ]
  },
  {
   "cell_type": "code",
   "execution_count": null,
   "metadata": {
    "colab": {
     "base_uri": "https://localhost:8080/",
     "height": 129,
     "referenced_widgets": [
      "fefa7f654a3c487fb76935aa8a9ef4a5",
      "c9d8638422724ad3a8512da02fb69fe7",
      "b4f024f1ff444be893d330caf8aea3dc"
     ]
    },
    "executionInfo": {
     "elapsed": 207,
     "status": "ok",
     "timestamp": 1712622604312,
     "user": {
      "displayName": "Steve Hansen",
      "userId": "12565972394538636210"
     },
     "user_tz": 420
    },
    "id": "MyUtZ_Y2aRLS",
    "outputId": "2ce3e647-f9fa-4d21-8cec-01945228c6e4"
   },
   "outputs": [],
   "source": [
    "from ECHO_modules.utilities import show_fac_widget\n",
    "\n",
    "fac_series = program_data[\"FAC_NAME\"]\n",
    "if type(program.echo_type) == list or program.echo_type == 'SDWA':\n",
    "    fac_widget = show_fac_widget( fac_series, pd.Series() )\n",
    "else:\n",
    "    top_violators = df_violators[program.echo_type]\n",
    "    fac_widget = show_fac_widget( fac_series, top_violators['FAC_NAME'] )"
   ]
  },
  {
   "cell_type": "markdown",
   "metadata": {
    "id": "0lvqPXxIaRLS"
   },
   "source": [
    "### 12. Let's see the data for these facilities"
   ]
  },
  {
   "cell_type": "code",
   "execution_count": null,
   "metadata": {
    "colab": {
     "base_uri": "https://localhost:8080/",
     "height": 359
    },
    "executionInfo": {
     "elapsed": 0,
     "status": "error",
     "timestamp": 1712682357785,
     "user": {
      "displayName": "Steve Hansen",
      "userId": "12565972394538636210"
     },
     "user_tz": 420
    },
    "id": "zP4mKiIbaRLT",
    "outputId": "fe1ba34b-d16f-43a1-d2f8-459eadde5922",
    "scrolled": true,
    "tags": []
   },
   "outputs": [],
   "source": [
    "import pandas as pd\n",
    "from ECHO_modules.utilities import show_fac_widget\n",
    "\n",
    "fac_pgm_data = program_data[ program_data[\"FAC_NAME\"].isin( fac_widget.value )]\n",
    "\n",
    "pd.set_option('display.max_colwidth', None)\n",
    "\n",
    "if ( fac_pgm_data is None or len( fac_pgm_data ) == 0 ):\n",
    "    print( \"There is no {} data for {} \".format( program.name, fac_widget.value ))\n",
    "else:\n",
    "    display( fac_pgm_data )"
   ]
  },
  {
   "cell_type": "markdown",
   "metadata": {
    "id": "xR7fl42CaRLT"
   },
   "source": [
    "### 13. This cell saves these facilities' data for this program to your computer.\n",
    "\n",
    "To access your files click on the 'Files' tab in the menu on the left-hand side of the notebook (it looks like a folder). You may have to hit 'Refresh' if you don't see your file. Then, you can click on the ... next to your file and choose \"Download\". The CSV spreadsheet will download to wherever your browser usually saves files (e.g. Downloads folder)"
   ]
  },
  {
   "cell_type": "code",
   "execution_count": null,
   "metadata": {},
   "outputs": [],
   "source": [
    "## You may enter a name to use for the file, or use the one provided.\n",
    "filename_widget = dataset_filename(base=program.name+'-'+\"-\".join(fac_widget.value),\n",
    "               type=region_type_widget.value, state=state_name, regions=regions_selected)"
   ]
  },
  {
   "cell_type": "code",
   "execution_count": null,
   "metadata": {
    "id": "ncdrsbK1aRLT",
    "tags": []
   },
   "outputs": [],
   "source": [
    "if ( len( fac_pgm_data ) > 0 ):\n",
    "    state_name = None\n",
    "    if ( state_widget is not None ):\n",
    "        state_name = state_widget.value\n",
    "    write_dataset( df=fac_pgm_data, filename=filename_widget.value )\n",
    "else:\n",
    "    print( \"There is no data for this program and region.\" )"
   ]
  },
  {
   "cell_type": "markdown",
   "metadata": {
    "id": "cCOk5AvyaRLT"
   },
   "source": [
    "#### If you'd like to look at another dimension of ECHO data for this region...\n",
    "....return to the dropdown menu in Step 6 and choose a different program/data type, run the database access code, and then map and chart it!\n",
    "\n",
    "---"
   ]
  },
  {
   "cell_type": "code",
   "execution_count": null,
   "metadata": {
    "id": "X2jjBrJuaRLT"
   },
   "outputs": [],
   "source": []
  }
 ],
 "metadata": {
  "colab": {
   "provenance": [
    {
     "file_id": "1li1oQWF23aOKA-BYkRwW_t6GcpDkX7rB",
     "timestamp": 1712692186826
    },
    {
     "file_id": "https://github.com/shansen5/ECHO-Cross-Program/blob/main/ECHO-Cross-Programs.ipynb",
     "timestamp": 1712279386994
    }
   ]
  },
  "kernelspec": {
   "display_name": "Python 3 (ipykernel)",
   "language": "python",
   "name": "python3"
  },
  "language_info": {
   "codemirror_mode": {
    "name": "ipython",
    "version": 3
   },
   "file_extension": ".py",
   "mimetype": "text/x-python",
   "name": "python",
   "nbconvert_exporter": "python",
   "pygments_lexer": "ipython3",
   "version": "3.12.7"
  },
  "widgets": {
   "application/vnd.jupyter.widget-state+json": {
    "state": {},
    "version_major": 2,
    "version_minor": 0
   }
  }
 },
 "nbformat": 4,
 "nbformat_minor": 4
}
