{
 "cells": [
  {
   "cell_type": "code",
   "execution_count": null,
   "metadata": {},
   "outputs": [],
   "source": []
  },
  {
   "cell_type": "markdown",
   "metadata": {},
   "source": [
    "# Facility Data Deep Dive\n",
    "\n",
    "## Violations, Inspections and Enforcements for Resource Conservation and Recovery Act (RCRA), Clean Water Act (CWA), Clean Air Act (CAA)\n",
    "\n",
    "This notebook examines ECHO data on inspections, violations and enforcements by EPA, state and other agencies.  It uses the following data sets from the ECHO downloadable files:\n",
    "<ul>\n",
    "    <li>ECHO_EXPORTER - Facility information, especially derived FAC_DERIVED_CD113 for congressional districts.</li>\n",
    "    <li>RCRA_EVALUATIONS</li>\n",
    "</ul>\n",
    "\n",
    "\n",
    "\n",
    "A zip code must be chosen using the input\n",
    "widget that is provided."
   ]
  },
  {
   "cell_type": "markdown",
   "metadata": {},
   "source": [
    "## How to Run\n",
    "* If you click on a gray **code** cell, a little “play button” arrow appears on the left. If you click the play button, it will run the code in that cell (“**running** a cell”). The button will animate. When the animation stops, the cell has finished running.\n",
    "![Where to click to run the cell](https://github.com/edgi-govdata-archiving/EEW-Image-Assets/blob/master/Jupyter%20instructions/pressplay.JPG?raw=true)\n",
    "* You may get a warning that the notebook was not authored by Google. We know, we authored them! It’s okay. Click “Run Anyway” to continue. \n",
    "![Error Message](https://github.com/edgi-govdata-archiving/EEW-Image-Assets/blob/master/Jupyter%20instructions/warning-message.JPG?raw=true)\n",
    "* **It is important to run cells in order because they depend on each other.**\n",
    "* Run all of the cells in a Notebook to make a complete report. Please feel free to look at and **learn about each result as you create it**!"
   ]
  },
  {
   "cell_type": "markdown",
   "metadata": {},
   "source": [
    "---\n",
    "---"
   ]
  },
  {
   "cell_type": "markdown",
   "metadata": {},
   "source": [
    "# **Let's begin!**"
   ]
  },
  {
   "cell_type": "markdown",
   "metadata": {},
   "source": [
    "### Hover over the \"[ ]\" on the top left corner of the cell below and you should see a \"play\" button appear. Click on it to run the cell then move to the next one."
   ]
  },
  {
   "cell_type": "markdown",
   "metadata": {},
   "source": [
    "### Run this next cell to create the widget for inputting your zip code. It will create an input field at the bottom. Enter your zip code and then move on to the next cell."
   ]
  },
  {
   "cell_type": "code",
   "execution_count": null,
   "metadata": {},
   "outputs": [],
   "source": [
    "# Import libraries\n",
    "import urllib.parse\n",
    "import pandas as pd\n",
    "import numpy as np\n",
    "import matplotlib.pyplot as plt\n",
    "%matplotlib inline\n",
    "import folium\n",
    "\n",
    "from ipywidgets import interact, interactive, fixed, interact_manual\n",
    "import ipywidgets as widgets\n",
    "\n",
    "from IPython.display import display\n",
    "\n",
    "zip_widget = widgets.IntText(\n",
    "    value=1,\n",
    "    description='Zip Code:',\n",
    "    disabled=False\n",
    ")\n",
    "display( zip_widget )"
   ]
  },
  {
   "cell_type": "markdown",
   "metadata": {},
   "source": [
    "### Run this cell after choosing a zip code. It will pull facility information from the data  in the  ECHO_EXPORTER table."
   ]
  },
  {
   "cell_type": "code",
   "execution_count": null,
   "metadata": {},
   "outputs": [],
   "source": [
    "my_zip = zip_widget.value\n",
    "\n",
    "sql = \"select REGISTRY_ID, FAC_NAME, FAC_LAT, FAC_LONG, RCRA_IDS, AIR_IDS, NPDES_IDS,\" + \\\n",
    "    \"RCRA_PERMIT_TYPES, CWA_PERMIT_TYPES, CAA_PERMIT_TYPES, FAC_DERIVED_ZIP, \" + \\\n",
    "    \"AIR_FLAG, NPDES_FLAG, SDWIS_FLAG, RCRA_FLAG, TRI_FLAG, GHG_FLAG \" + \\\n",
    "    \"from ECHO_EXPORTER where FAC_DERIVED_ZIP = \" + str( my_zip )\n",
    "\n",
    "url='http://apps.tlt.stonybrook.edu/echoepa/?query='\n",
    "data_location=url+urllib.parse.quote(sql)\n",
    "print(sql)\n",
    "# print(data_location)\n",
    "\n",
    "echo_data = pd.read_csv(data_location,encoding='iso-8859-1')\n",
    "echo_data.set_index( 'REGISTRY_ID', inplace=True )\n",
    "num_facilities = echo_data.shape[0]\n",
    "\n",
    "print(\"\\nThere are %s EPA facilities in Zip code %s tracked in the ECHO database.\" \\\n",
    "      %(num_facilities, my_zip))\n"
   ]
  },
  {
   "cell_type": "markdown",
   "metadata": {},
   "source": [
    "## Create an interactive map of all of the facilities in the area that report to EPA\n",
    "### Once you run this cell, a map should appear. You can zoom in and out, or click on facilities to get their names and the EPA programs that monitor them.\n",
    "\n",
    "The EPA program acronyms are:\n",
    "<ul>\n",
    "    <li>CAA = Clean Air Act</li>\n",
    "    <li>CWA = Clean Water Act</li>\n",
    "    <li>SDWIS = Safe Drinking Water Information System</li>\n",
    "    <li>RCRA = Resource Conservation and Recovery Act</li>\n",
    "    <li>TRI = Toxics Release Inventory</li>\n",
    "    <li>GHG = Greenhouse Gas</li>\n",
    "</ul>\n",
    "The map won't display if there are too many markers, so only the first 200 are shown."
   ]
  },
  {
   "cell_type": "code",
   "execution_count": null,
   "metadata": {},
   "outputs": [],
   "source": [
    "# [To do:  Use some ECHO_EXPORTER data to pick the top 200 facilities (by some measure) \n",
    "# to map.]\n",
    "\n",
    "# Let's show a quick map of your area and the facilities in it\n",
    "# To-do:  Add some more ECHO_EXPORTER information in the markers.\n",
    "\n",
    "# Put some information with the marker to show the programs that track the facility.\n",
    "def marker_text( row ):\n",
    "    text = row[\"FAC_NAME\"] + ' - '\n",
    "    if ( row['AIR_FLAG'] == 'Y' ):\n",
    "        text += 'CAA, ' \n",
    "    if ( row['NPDES_FLAG'] == 'Y' ):\n",
    "        text += 'CWA, ' \n",
    "    if ( row['SDWIS_FLAG'] == 'Y' ):\n",
    "        text += 'SDWIS, ' \n",
    "    if ( row['RCRA_FLAG'] == 'Y' ):\n",
    "        text += 'RCRA, ' \n",
    "    if ( row['TRI_FLAG'] == 'Y' ):\n",
    "        text += 'TRI, ' \n",
    "    if ( row['GHG_FLAG'] == 'Y' ):\n",
    "        text += 'GHG, ' \n",
    "    return text\n",
    "    \n",
    "def mapper(df):\n",
    "    # Initialize the map\n",
    "    center = [df.mean()[\"FAC_LAT\"], df.mean()[\"FAC_LONG\"]]\n",
    "    m = folium.Map(\n",
    "        location = center,\n",
    "        zoom_start = 11\n",
    "    )\n",
    "    print( center )\n",
    "    print( len( df ))\n",
    "\n",
    "    # Add a clickable marker for each facility\n",
    "    i = 0\n",
    "    for index, row in df.iterrows():\n",
    "        # Make sure the FAC_NAME is not NaN, which is interpreted as a number.\n",
    "        if ( type( row['FAC_NAME'] == str )) :\n",
    "            folium.Marker(\n",
    "                location = [row[\"FAC_LAT\"], row[\"FAC_LONG\"]],\n",
    "                popup = marker_text( row )).add_to(m)\n",
    "            i += 1\n",
    "        if ( i > 200 ):    # The map won't display with too many markers.\n",
    "            break\n",
    "\n",
    "    # Show the map\n",
    "    return m\n",
    "\n",
    "map_of_facilities_in_cd = mapper(echo_data)\n",
    "map_of_facilities_in_cd"
   ]
  },
  {
   "cell_type": "markdown",
   "metadata": {},
   "source": [
    "## Choose a facility\n",
    "### Run the below cell, then choose a facility from the dropdown that appears to delve deeper into data on inspections, violations and enforcements at that facility."
   ]
  },
  {
   "cell_type": "code",
   "execution_count": null,
   "metadata": {},
   "outputs": [],
   "source": [
    "cd_array = echo_data[\"FAC_NAME\"].dropna().unique()\n",
    "cd_array.sort()\n",
    "\n",
    "fac_widget=widgets.Dropdown(\n",
    "    options=cd_array,\n",
    "    description='Facility Name:',\n",
    "    disabled=False,\n",
    ")\n",
    "display(fac_widget)"
   ]
  },
  {
   "cell_type": "markdown",
   "metadata": {},
   "source": [
    "### The next cells filter the program-specific IDs to get just records for the selected facility.\n",
    "Resulting dataframes are:\n",
    "<ul>\n",
    "    <li>rcra_insp_data - RCRA Inspections</li>\n",
    "    <li>rcra_viol_data - RCRA Violations</li>\n",
    "    <li>rcra_enf_data - RCRA Enforcements</li>\n",
    "    <li>air_insp_data - CAA Inspections</li>\n",
    "    <li>air_viol_data - CAA Violations</li>\n",
    "    <li>air_enf_data - CAA Enforcements</li>\n",
    "    <li>air_formal_data - CAA Formal Enforcements</li>\n",
    "    <li>air_comp_data - CAA Full Partial Compliance</li>\n",
    "    <li>water_history_data - CWA QNCR History</li>\n",
    "    <li>water_insp_data - CWA Inspections</li>\n",
    "    <li>water_enf_data - CWA Enforcements</li>\n",
    "</ul>"
   ]
  },
  {
   "cell_type": "code",
   "execution_count": null,
   "metadata": {
    "scrolled": true
   },
   "outputs": [],
   "source": [
    "# Keep track of which data sets are retrieved.\n",
    "have_rcra_insp = False\n",
    "have_rcra_viol = False\n",
    "have_rcra_enf = False\n",
    "have_air_insp = False\n",
    "have_air_viol = False\n",
    "have_air_enf = False\n",
    "have_air_formal = False\n",
    "have_air_comp = False\n",
    "have_water_history = False\n",
    "have_water_insp = False\n",
    "have_water_enf = False\n",
    "\n",
    "\n",
    "my_fac = echo_data[echo_data[\"FAC_NAME\"] == fac_widget.value]\n",
    "if ( my_fac['RCRA_FLAG'].iloc[0] == 'Y' ):\n",
    "    rcra_id_string = my_fac['RCRA_IDS'].tolist()\n",
    "    \n",
    "    try:\n",
    "        sql = \"select * from `RCRA_EVALUATIONS` where ID_NUMBER in ( '\" + \\\n",
    "            \"', '\".join( rcra_id_string[0].split() ) + \"')\"\n",
    "        url='http://apps.tlt.stonybrook.edu/echoepa/?query='\n",
    "        data_location=url+urllib.parse.quote(sql)\n",
    "        rcra_insp_data = pd.read_csv(data_location,encoding='iso-8859-1')\n",
    "        rcra_insp_data.set_index( \"ID_NUMBER\", inplace=True)\n",
    "        print( \"Data from RCRA_EVALUATIONS stored in rcra_insp_data.\")\n",
    "        # print( rcra_insp_data )\n",
    "        have_rcra_insp = True\n",
    "    except pd.errors.EmptyDataError:\n",
    "        print( \"No data for this facility in RCRA_EVALUATIONS.\")\n",
    "    \n",
    "    try:\n",
    "        sql = \"select * from `RCRA_VIOLATIONS` where ID_NUMBER in ( '\" + \\\n",
    "            \"', '\".join( rcra_id_string[0].split() ) + \"')\"\n",
    "        url='http://apps.tlt.stonybrook.edu/echoepa/?query='\n",
    "        data_location=url+urllib.parse.quote(sql)\n",
    "        rcra_viol_data = pd.read_csv(data_location,encoding='iso-8859-1')\n",
    "        rcra_viol_data.set_index( \"ID_NUMBER\", inplace=True)\n",
    "        print( \"Data from RCRA_VIOLATIONS stored in rcra_viol_data.\")\n",
    "        have_rcra_viol = True\n",
    "        # print( rcra_viol_data )\n",
    "    except pd.errors.EmptyDataError:\n",
    "        print( \"No data for this facility in RCRA_VIOLATIONS.\")\n",
    "    \n",
    "        sql = \"select * from `RCRA_ENFORCEMENTS` where ID_NUMBER in ( '\" + \\\n",
    "            \"', '\".join( rcra_id_string[0].split() ) + \"')\"\n",
    "        url='http://apps.tlt.stonybrook.edu/echoepa/?query='\n",
    "        data_location=url+urllib.parse.quote(sql)\n",
    "        rcra_enf_data = pd.read_csv(data_location,encoding='iso-8859-1')\n",
    "        rcra_enf_data.set_index( \"ID_NUMBER\", inplace=True)\n",
    "        print( \"Data from RCRA_ENFORCEMENTS stored in rcra_enf_data.\")\n",
    "        have_rcra_enf = True\n",
    "        # print( rcra_enf_data )\n",
    "    except pd.errors.EmptyDataError:\n",
    "        print( \"No data for this facility in RCRA_ENFORCEMENTS.\")\n",
    "    "
   ]
  },
  {
   "cell_type": "code",
   "execution_count": null,
   "metadata": {
    "scrolled": false
   },
   "outputs": [],
   "source": [
    "if ( my_fac['AIR_FLAG'].iloc[0] == 'Y' ):\n",
    "    air_id_string = my_fac['AIR_IDS'].tolist()\n",
    "    \n",
    "    try:\n",
    "        sql = \"select * from `ICIS_FEC_EPA_INSPECTIONS` where REGISTRY_ID = '\" + \\\n",
    "            str(int( my_fac.index[0] )) + \"'\"\n",
    "        url='http://apps.tlt.stonybrook.edu/echoepa/?query='\n",
    "        data_location=url+urllib.parse.quote(sql)\n",
    "        air_insp_data = pd.read_csv(data_location,encoding='iso-8859-1')\n",
    "        air_insp_data.set_index( \"ID_NUMBER\", inplace=True)\n",
    "        print( \"Data from ICIS_FEC_EPA_INSPECTIONS stored in air_insp_data.\")\n",
    "        have_air_insp = True\n",
    "        # print( air_insp_data )\n",
    "    except pd.errors.EmptyDataError:\n",
    "        print( \"No data for this facility in ICIS_FEC_EPA_INSPECTIONS.\")\n",
    "    \n",
    "    try:\n",
    "        sql = \"select * from `ICIS-AIR_VIOLATION_HISTORY` where PGM_SYS_ID in ( '\" + \\\n",
    "            \"', '\".join( air_id_string[0].split() ) + \"')\"\n",
    "        url='http://apps.tlt.stonybrook.edu/echoepa/?query='\n",
    "        data_location=url+urllib.parse.quote(sql)\n",
    "        air_viol_data = pd.read_csv(data_location,encoding='iso-8859-1')\n",
    "        air_viol_data.set_index( \"pgm_sys_id\", inplace=True)\n",
    "        print( \"Data from ICIS-AIR_VIOLATION_HISTORY stored in air_viol_data.\")\n",
    "        have_air_viol = True\n",
    "        # print( air_viol_data )\n",
    "    except pd.errors.EmptyDataError:\n",
    "        print( \"No data for this facility in ICIS-AIR_VIOLATION_HISTORY.\")\n",
    "    \n",
    "    try:\n",
    "        sql = \"select * from `CASE_FACILITIES` CF, `CASE_ENFORCEMENTS` CE \" + \\\n",
    "            \" where CE.HQ_DIVISION = 'AIR' and CE.CASE_NUMBER = CF.CASE_NUMBER and \" + \\\n",
    "            \" CF.REGISTRY_ID = '\" + str(int( my_fac.index[0] )) + \"'\"\n",
    "        url='http://apps.tlt.stonybrook.edu/echoepa/?query='\n",
    "        data_location=url+urllib.parse.quote(sql)\n",
    "        air_enf_data = pd.read_csv(data_location,encoding='iso-8859-1')\n",
    "        air_enf_data.set_index( \"pgm_sys_id\", inplace=True)\n",
    "        print( \"Data from CASE_ENFORCEMENTS stored in air_enf_data.\")\n",
    "        have_air_enf = True\n",
    "        # print( air_enf_data )\n",
    "    except pd.errors.EmptyDataError:\n",
    "        print( \"No data for this facility in CASE_ENFORCEMENTS.\")    \n",
    "\n",
    "    try:\n",
    "        sql = \"select * from `ICIS-AIR_FORMAL_ACTIONS` where PGM_SYS_ID in ( '\" + \\\n",
    "            \"', '\".join( air_id_string[0].split() ) + \"')\"\n",
    "        url='http://apps.tlt.stonybrook.edu/echoepa/?query='\n",
    "        data_location=url+urllib.parse.quote(sql)\n",
    "        air_formal_data = pd.read_csv(data_location,encoding='iso-8859-1')\n",
    "        air_formal_data.set_index( \"pgm_sys_id\", inplace=True)\n",
    "        print( \"Data from ICIS-AIR_FORMAL_ACTIONS stored in air_formal_data.\")\n",
    "        have_air_formal = True\n",
    "        # print( air_formal_data )\n",
    "    except pd.errors.EmptyDataError:\n",
    "        print( \"No data for this facility in ICIS-AIR_FORMAL_ACTIONS.\")\n",
    "    \n",
    "    try:\n",
    "        sql = \"select * from `ICIS-AIR_FCES_PCES` where PGM_SYS_ID in ( '\" + \\\n",
    "            \"', '\".join( air_id_string[0].split() ) + \"')\"\n",
    "        url='http://apps.tlt.stonybrook.edu/echoepa/?query='\n",
    "        data_location=url+urllib.parse.quote(sql)\n",
    "        air_comp_data = pd.read_csv(data_location,encoding='iso-8859-1')\n",
    "        air_comp_data.set_index( \"pgm_sys_id\", inplace=True)\n",
    "        print( \"Data from ICIS-AIR_FCES_PCES stored in air_comp_data.\")\n",
    "        have_air_comp = True\n",
    "        # print( air_comp_data )\n",
    "    except pd.errors.EmptyDataError:\n",
    "        print( \"No data for this facility in ICIS-AIR_FCES_PCES.\")\n",
    "    \n"
   ]
  },
  {
   "cell_type": "code",
   "execution_count": null,
   "metadata": {},
   "outputs": [],
   "source": [
    "if ( my_fac['NPDES_FLAG'].iloc[0] == 'Y' ):\n",
    "    water_id_string = my_fac['NPDES_IDS'].tolist()\n",
    "    \n",
    "    try:\n",
    "        sql = \"select * from `NPDES_QNCR_HISTORY` where NPDES_ID in ( '\" + \\\n",
    "            \"', '\".join( water_id_string[0].split() ) + \"')\"\n",
    "        url='http://apps.tlt.stonybrook.edu/echoepa/?query='\n",
    "        data_location=url+urllib.parse.quote(sql)\n",
    "        water_history_data = pd.read_csv(data_location,encoding='iso-8859-1')\n",
    "        water_history_data.set_index( \"NPDES_ID\", inplace=True)\n",
    "        print( \"Data from NPDES_QNCR_HISTORY stored in water_history_data.\")\n",
    "        have_water_history = True\n",
    "        # print( water_insp_data )\n",
    "    except pd.errors.EmptyDataError:\n",
    "        print( \"No data for this facility in NPDES_QNCR_HISTORY.\")\n",
    "    \n",
    "    try:\n",
    "        sql = \"select * from `NPDES_INSPECTIONS` where NPDES_ID in ( '\" + \\\n",
    "            \"', '\".join( water_id_string[0].split() ) + \"')\"\n",
    "        url='http://apps.tlt.stonybrook.edu/echoepa/?query='\n",
    "        data_location=url+urllib.parse.quote(sql)\n",
    "        water_insp_data = pd.read_csv(data_location,encoding='iso-8859-1')\n",
    "        water_insp_data.set_index( \"NPDES_ID\", inplace=True)\n",
    "        print( \"Data from NPDES_INSPECTIONS stored in water_insp_data.\")\n",
    "        have_water_insp = True\n",
    "        # print( water_insp_data )\n",
    "    except pd.errors.EmptyDataError:\n",
    "        print( \"No data for this facility in NPDES_INSPECTIONS.\")\n",
    "\n",
    "    try:\n",
    "        sql = \"select * from `NPDES_FORMAL_ENFORCEMENT_ACTIONS` where NPDES_ID in ( '\" + \\\n",
    "            \"', '\".join( water_id_string[0].split() ) + \"')\"\n",
    "        url='http://apps.tlt.stonybrook.edu/echoepa/?query='\n",
    "        data_location=url+urllib.parse.quote(sql)\n",
    "        water_enf_data = pd.read_csv(data_location,encoding='iso-8859-1')\n",
    "        water_enf_data.set_index( \"NPDES_ID\", inplace=True)\n",
    "        print( \"Data from NPDES_FORMAL_ENFORCEMENT_ACTIONS stored in water_enf_data.\")\n",
    "        have_water_enf = True\n",
    "        # print( water_enf_data )\n",
    "    except pd.errors.EmptyDataError:\n",
    "        print( \"No data for this facility in NPDES_FORMAL_ENFORCEMENT_ACTIONS.\")\n"
   ]
  },
  {
   "cell_type": "markdown",
   "metadata": {},
   "source": [
    "## Optionally show the data in one of the data sets.\n",
    "Select a data set from the dropdown list and run the next cell to view it.\n",
    "To see additional data, return to the dropdown to choose a new value and run\n",
    "the cell below this one again."
   ]
  },
  {
   "cell_type": "code",
   "execution_count": null,
   "metadata": {},
   "outputs": [],
   "source": [
    "\n",
    "data_set_dict = {}\n",
    "if ( have_rcra_insp ):\n",
    "    data_set_dict[\"RCRA Inspections\"] = rcra_insp_data\n",
    "if ( have_rcra_viol ):\n",
    "    data_set_dict[\"RCRA Violations\"] = rcra_viol_data\n",
    "if ( have_rcra_enf ):\n",
    "    data_set_dict[\"RCRA Enforcements\"] = rcra_enf_data\n",
    "if ( have_air_insp ):\n",
    "    data_set_dict[\"Air Inspections\"] = air_insp_data\n",
    "if ( have_air_viol ):\n",
    "    data_set_dict[\"Air Violations\"] = air_viol_data\n",
    "if ( have_air_enf ):\n",
    "    data_set_dict[\"Air Enforcements\"] = air_enf_data\n",
    "if ( have_air_formal ):\n",
    "    data_set_dict[\"Air Formal Actions\"] = air_formal_data\n",
    "if ( have_air_comp ):\n",
    "    data_set_dict[\"Air Compliance\"] = air_comp_data\n",
    "if ( have_water_history ):\n",
    "    data_set_dict[\"Water QNCR History\"] = water_history_data\n",
    "if ( have_water_insp ):\n",
    "    data_set_dict[\"Water Inspections\"] = water_insp_data\n",
    "if ( have_water_enf ):\n",
    "    data_set_dict[\"Water Enforcements\"] = water_enf_data\n",
    "\n",
    "data_set_widget=widgets.Dropdown(\n",
    "    options=list(data_set_dict.keys()),\n",
    "    description='Data Sets:',\n",
    "    disabled=False,\n",
    ")\n",
    "display(data_set_widget)"
   ]
  },
  {
   "cell_type": "code",
   "execution_count": null,
   "metadata": {},
   "outputs": [],
   "source": [
    "print( \"Showing %s data for the chosen facility\" %( data_set_widget.value ))\n",
    "data_set_dict[data_set_widget.value] "
   ]
  },
  {
   "cell_type": "markdown",
   "metadata": {},
   "source": [
    "## This section optionally saves some of this data to a CSV file in your Google Drive.\n",
    "The first of the next two cells will open your Google Drive to allow the file to be written there.  Then you must select one of the data sets to write from the dropdown list.  The next cell writes the data to your drive.  You can return to the dropdown to write additional data files.\n"
   ]
  },
  {
   "cell_type": "code",
   "execution_count": null,
   "metadata": {},
   "outputs": [],
   "source": [
    "from google.colab import drive\n",
    "drive.mount('/content/drive')"
   ]
  },
  {
   "cell_type": "markdown",
   "metadata": {},
   "source": [
    "Write the state or congressional district data to CSV file."
   ]
  },
  {
   "cell_type": "code",
   "execution_count": null,
   "metadata": {},
   "outputs": [],
   "source": [
    "data_set_widget2=widgets.Dropdown(\n",
    "    options=list(data_set_dict.keys()),\n",
    "    description='Data Sets:',\n",
    "    disabled=False,\n",
    ")\n",
    "display(data_set_widget2)"
   ]
  },
  {
   "cell_type": "markdown",
   "metadata": {},
   "source": [
    "Choose a data set and run the next cell to download it."
   ]
  },
  {
   "cell_type": "code",
   "execution_count": null,
   "metadata": {},
   "outputs": [],
   "source": [
    "filename = data_set_widget2.value\n",
    "fullpath = '/content/drive/My Drive/' + filename\n",
    "fullpath += '.csv'\n",
    "data_set_dict[data_set_widget2.value].to_csv( fullpath ) \n",
    "print( \"Writing this data to %s\" %(fullpath))"
   ]
  }
 ],
 "metadata": {
  "kernelspec": {
   "display_name": "Python 3.7.5 64-bit ('base': conda)",
   "language": "python",
   "name": "python37564bitbaseconda7071e98414dd4b3880bf69a85f4101b4"
  },
  "language_info": {
   "codemirror_mode": {
    "name": "ipython",
    "version": 3
   },
   "file_extension": ".py",
   "mimetype": "text/x-python",
   "name": "python",
   "nbconvert_exporter": "python",
   "pygments_lexer": "ipython3",
   "version": "3.7.6"
  }
 },
 "nbformat": 4,
 "nbformat_minor": 4
}
