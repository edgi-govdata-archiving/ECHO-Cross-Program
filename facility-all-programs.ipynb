{
 "cells": [
  {
   "cell_type": "markdown",
   "metadata": {},
   "source": [
    "# Facility Data Deep Dive\n",
    "\n",
    "## Violations, Inspections and Enforcements for the Resource Conservation and Recovery Act (RCRA), Clean Water Act (CWA), Clean Air Act (CAA)\n",
    "\n",
    "This notebook examines data from the EPA's Enforcement and Compliance History Online (ECHO) database (https://echo.epa.gov/). It includes information from EPA's programs covering air (the Clean Air Act, or CAA), water (the Clean Water Act, or CWA) and hazardous and other waste handling (the Resource Recovery and Conservation Act, or RCRA). ECHO data is available here on inspections, violations and enforcements by EPA, state and other agencies. Information made accessible here runs from the present day (the database is refreshed weekly) back to whenever ECHO data begins on a particular program (varying from the 1970s to the 2000s). It uses the following data sets from the ECHO downloadable files:\n",
    "\n",
    "Hazardous and Other Wastes:\n",
    "- RCRA_EVALUATIONS = Inspections under RCRA\n",
    "- RCRA_VIOLATIONS = Violations of RCRA rules\n",
    "- RCRA_ENFORCEMENTS = Enforcement actions takenby state agencies and the EPA\n",
    "\n",
    "Cross-Program Compilations:\n",
    "- ICIS_FEC_EPA_INSPECTIONS = Cross-program, federally-led inspections \n",
    "- CASE_FACILITIES = Cross-program enforcements\n",
    "- ECHO_EXPORTER = A cross-program compilation of all information that is now available on the EPA's public interface for ECHO; mostly limited to the last 3-5 years of data\n",
    "\n",
    "Air:\n",
    "- ICIS-AIR_VIOLATION_HISTORY = CAA violations\n",
    "- ICIS-AIR_FCES_PCES = Both state and federal CAA compliance evaluations\n",
    "- ICIS-AIR_FORMAL_ACTIONS = CAA formal enforcement actions\n",
    "\n",
    "Water:\n",
    "- NPDES_QNCR_HISTORY = CWA Quarterly Non-Compliance History\n",
    "- NPDES_INSPECTIONS = CWA Inspections\n",
    "- NPDES_FORMAL_ENFORCEMENT_ACTIONS = CWA Enforcements\n",
    "\n",
    "Drinking Water:\n",
    "- SDWA_PUB_WATER_SYSTEMS = Public Water Systems under Safe Drinking Water Act\n",
    "- SDWA_SITE_VISITS = Safe Drinking Water Site Visits\n",
    "- SDWA_VIOLATIONS = Safe Drinking Water Violations\n",
    "- SDWA_SERIOUS_VIOLATORS = Safe Drinking Water Serious Violators\n",
    "- SDWA_ENFORCEMENTS = Safe Drinking Water Enforcements\n",
    "- SDWA_RETURN_TO_COMPLIANCE = Safe Drinking Water Return to Compliance\n",
    "\n",
    "\n",
    "#### For starters, please have available the zip code or of the facility or area in which you area interested.  A zip code must be typed or pasted into  the input widget that is provided after you run the first \"cell.\"\n",
    "\n",
    "A \"cell\" in a Jupyter notebook is a block of code performing a set of actions making available or using specific data.  The notebook works by running one cell after another, as the notebook user selects offered options."
   ]
  },
  {
   "cell_type": "markdown",
   "metadata": {},
   "source": [
    "## How to Run\n",
    "* If you click on a gray **code** cell, a little “play button” arrow appears on the left. If you click the play button, it will run the code in that cell (“**running** a cell”). The button will animate. When the animation stops, the cell has finished running.\n",
    "![Where to click to run the cell](https://github.com/edgi-govdata-archiving/EEW-Image-Assets/blob/master/Jupyter%20instructions/pressplay.JPG?raw=true)\n",
    "* You may get a warning that the notebook was not authored by Google. We know, we authored them! It’s okay. Click “Run Anyway” to continue. \n",
    "![Error Message](https://github.com/edgi-govdata-archiving/EEW-Image-Assets/blob/master/Jupyter%20instructions/warning-message.JPG?raw=true)\n",
    "* **It is important to run cells in order because they depend on each other.**\n",
    "* Run all of the cells in a Notebook to make a complete report. Please feel free to look at and **learn about each result as you create it**!"
   ]
  },
  {
   "cell_type": "markdown",
   "metadata": {},
   "source": [
    "---\n",
    "---"
   ]
  },
  {
   "cell_type": "markdown",
   "metadata": {},
   "source": [
    "# **Let's begin!**"
   ]
  },
  {
   "cell_type": "markdown",
   "metadata": {},
   "source": [
    "### Hover over the \"[ ]\" on the top left corner of the cell below and you should see a \"play\" button appear. Click on it to run the cell then move to the next one."
   ]
  },
  {
   "cell_type": "markdown",
   "metadata": {},
   "source": [
    "### Run this next cell to create the widget to choose whether you want to view facilities by state, county, congressional district or zip code.  Choose the type of region and proceed to the next cell."
   ]
  },
  {
   "cell_type": "code",
   "execution_count": null,
   "metadata": {},
   "outputs": [],
   "source": [
    "!git clone https://github.com/edgi-govdata-archiving/ECHO-modules.git"
   ]
  },
  {
   "cell_type": "code",
   "execution_count": null,
   "metadata": {},
   "outputs": [],
   "source": [
    "# Import libraries\n",
    "import urllib.parse\n",
    "import pandas as pd\n",
    "import numpy as np\n",
    "import matplotlib.pyplot as plt\n",
    "%matplotlib inline\n",
    "import folium\n",
    "from ipywidgets import interact, interactive, fixed, interact_manual\n",
    "import ipywidgets as widgets\n",
    "\n",
    "from IPython.display import display\n",
    "\n",
    "# This is the global function that can run an SQL query against\n",
    "# the database and return the resulting Pandas DataFrame.\n",
    "def get_data( sql, index_field=None ):\n",
    "    url='http://apps.tlt.stonybrook.edu/echoepa/?query='\n",
    "    data_location=url+urllib.parse.quote(sql)\n",
    "    # print( data_location )\n",
    "    ds = pd.read_csv(data_location,encoding='iso-8859-1')\n",
    "    if ( index_field is not None ):\n",
    "        ds.set_index( index_field, inplace=True)\n",
    "    return ds\n",
    " \n",
    "# ECHO_EXPORTER has counties listed both as ALAMEDA and ALAMEDA COUNTY, seemingly\n",
    "# for every county.  We drop the 'COUNTY' so they only get listed once.\n",
    "def fix_county_names( in_counties ):\n",
    "    counties = []\n",
    "    for county in regions['FAC_COUNTY']:\n",
    "        if (county.endswith( ' COUNTY' )):\n",
    "            county = county[:-7]\n",
    "        counties.append( county.strip() )\n",
    "    counties = np.unique( counties )\n",
    "    return counties\n",
    "\n",
    "region_field = { \n",
    "    'County': { \"field\": 'FAC_COUNTY' },\n",
    "    'State': { \"field\": 'FAC_STATE' },\n",
    "    'Congressional District': { \"field\": 'FAC_DERIVED_CD113' },\n",
    "    'Zip Code': { \"field\": 'FAC_DERIVED_ZIP' }\n",
    "}\n",
    "\n",
    "select_region_widget = widgets.Dropdown(\n",
    "    options=region_field.keys(),\n",
    "    value='County',\n",
    "    description='Region of interest:',\n",
    "    disabled=False\n",
    ")\n",
    "display( select_region_widget )"
   ]
  },
  {
   "cell_type": "code",
   "execution_count": null,
   "metadata": {},
   "outputs": [],
   "source": [
    "%load DataSet.py"
   ]
  },
  {
   "cell_type": "markdown",
   "metadata": {},
   "source": [
    "### Select the state of interest.  If you are interested in a Zip code analysis, this can be skipped."
   ]
  },
  {
   "cell_type": "code",
   "execution_count": null,
   "metadata": {},
   "outputs": [],
   "source": [
    "states = [\"AL\", \"AK\", \"AZ\", \"AR\", \"CA\", \"CO\", \"CT\", \"DC\", \"DE\", \"FL\", \"GA\", \n",
    "          \"HI\", \"ID\", \"IL\", \"IN\", \"IA\", \"KS\", \"KY\", \"LA\", \"ME\", \"MD\", \n",
    "          \"MA\", \"MI\", \"MN\", \"MS\", \"MO\", \"MT\", \"NE\", \"NV\", \"NH\", \"NJ\", \n",
    "          \"NM\", \"NY\", \"NC\", \"ND\", \"OH\", \"OK\", \"OR\", \"PA\", \"RI\", \"SC\", \n",
    "          \"SD\", \"TN\", \"TX\", \"UT\", \"VT\", \"VA\", \"WA\", \"WV\", \"WI\", \"WY\"]\n",
    "dropdown_state=widgets.Dropdown(\n",
    "    options=states,\n",
    "    value='NY',\n",
    "    description='State:',\n",
    "    disabled=False,\n",
    ")\n",
    "output_state = widgets.Output()\n",
    "my_state = \"\"\n",
    "\n",
    "def dropdown_state_eventhandler( change ):\n",
    "    output_state.clear_output()\n",
    "    value = change.new\n",
    "    with output_state:\n",
    "        display( change.new )\n",
    "            \n",
    "dropdown_state.observe( dropdown_state_eventhandler, names='value')\n",
    "display( dropdown_state )"
   ]
  },
  {
   "cell_type": "markdown",
   "metadata": {},
   "source": [
    "### If you are looking at a county or congressional district, after selecting a state from the dropdown above, run this cell to pick your region.  \n",
    "### Run this cell for county, congressional district or zip code regions.  \n",
    "#### Here is a map of congressional districts: https://www.govtrack.us/congress/members/map"
   ]
  },
  {
   "cell_type": "markdown",
   "metadata": {},
   "source": [
    "If you are interested in an analysis by state, it is already selected so skip this cell."
   ]
  },
  {
   "cell_type": "code",
   "execution_count": null,
   "metadata": {},
   "outputs": [],
   "source": [
    "selected_region_type = select_region_widget.value\n",
    "selected_region_field = region_field[ selected_region_type ]\n",
    "\n",
    "if ( selected_region_type != 'Zip Code' ):\n",
    "    my_state = dropdown_state.value\n",
    "    region_sql = \"select distinct(\"\n",
    "    region_sql += selected_region_field[ 'field' ] + \")\"\n",
    "    region_sql += \" from ECHO_EXPORTER \"\n",
    "    region_sql += \" where FAC_STATE = \\'\" + my_state + \"\\'\"\n",
    "    try:\n",
    "        regions = get_data( region_sql )\n",
    "    except pd.errors.EmptyDataError:\n",
    "        print(\"\\nThere are no regions of that type in this state.\\n\")\n",
    "\n",
    "if ( selected_region_type == 'Zip Code' ):\n",
    "    region_widget = widgets.IntText(\n",
    "        value=98225,\n",
    "        description='Zip Code:',\n",
    "        disabled=False\n",
    "    )\n",
    "elif ( selected_region_type == 'County' ):\n",
    "    region_widget=widgets.Dropdown(\n",
    "        options=fix_county_names( regions['FAC_COUNTY'] ),\n",
    "        description='County:',\n",
    "        disabled=False\n",
    "    )\n",
    "elif ( selected_region_type == 'Congressional District' ):\n",
    "    region_widget=widgets.Dropdown(\n",
    "        options=regions['FAC_DERIVED_CD113'].sort_values(),\n",
    "        description='District:',\n",
    "        disabled=False\n",
    "    )\n",
    "   \n",
    "if ( selected_region_type != 'State' ):\n",
    "    display( region_widget )"
   ]
  },
  {
   "cell_type": "markdown",
   "metadata": {},
   "source": [
    "### Run this cell. It will pull facility information from the data  in the  ECHO_EXPORTER table."
   ]
  },
  {
   "cell_type": "code",
   "execution_count": null,
   "metadata": {},
   "outputs": [],
   "source": [
    "region_selected = region_widget.value\n",
    "\n",
    "if ( selected_region_type == 'State' ):\n",
    "    region_selected = my_state\n",
    "echo_data_sql = \"select * from ECHO_EXPORTER where \" + region_field[selected_region_type]['field']\n",
    "echo_data_sql += \" like \\'\" + str( region_selected) + \"%\\'\"\n",
    "if ( selected_region_type != 'Zip Code' ):\n",
    "    echo_data_sql += \" and FAC_STATE = \\'\" + my_state + \"\\'\"\n",
    "try:\n",
    "    echo_data = get_data( echo_data_sql, 'REGISTRY_ID' )\n",
    "    num_facilities = echo_data.shape[0]\n",
    "    print(\"\\nThere are %s EPA facilities in region %s tracked in the ECHO database.\" \\\n",
    "          %(num_facilities, str( region_selected )))\n",
    "except pd.errors.EmptyDataError:\n",
    "    print(\"\\nThere are no EPA facilities in this region.\\n\")"
   ]
  },
  {
   "cell_type": "markdown",
   "metadata": {},
   "source": [
    "## Create an interactive map of all of the facilities in the area that report to EPA\n",
    "### Once you run this cell, a map should appear. You can zoom in and out, or click on facilities to get their names and the EPA programs that monitor them.\n",
    "\n",
    "The EPA program acronyms are:\n",
    "- CAA = Clean Air Act\n",
    "- CWA = Clean Water Act\n",
    "- SDWIS = Safe Drinking Water Information System\n",
    "- RCRA = Resource Conservation and Recovery Act\n",
    "- TRI = Toxics Release Inventory\n",
    "- GHG = Greenhouse Gas\n",
    "\n",
    "The map won't display if there are too many markers, so only the first 400 are shown. \n",
    "The facilities shown are selected in order of the ECHO_EXPORTER table's FAC_QTRS_WITH_NC field, which is defined as a \"Count of the number of quarters, out of the last twelve quarters, in which the permit or site is considered either in Noncompliance (NC), Significant Noncompliance (SNC) or High Priority violation (HPV) status.\""
   ]
  },
  {
   "cell_type": "code",
   "execution_count": null,
   "metadata": {
    "scrolled": true
   },
   "outputs": [],
   "source": [
    "\n",
    "# Let's show a quick map of your area and the facilities in it\n",
    "# To-do:  Add some more ECHO_EXPORTER information in the markers.\n",
    "\n",
    "# Put some information with the marker to show the programs that track the facility.\n",
    "def marker_text( row ):\n",
    "    text = \"\"\n",
    "    if ( type( row['FAC_NAME'] == str )) :\n",
    "        try:\n",
    "            text = row[\"FAC_NAME\"] + ' - '\n",
    "        except TypeError:\n",
    "            print( \"A facility was found without name. \")\n",
    "        if ( row['AIR_FLAG'] == 'Y' ):\n",
    "            text += 'CAA, ' \n",
    "        if ( row['NPDES_FLAG'] == 'Y' ):\n",
    "            text += 'CWA, ' \n",
    "        if ( row['SDWIS_FLAG'] == 'Y' ):\n",
    "            text += 'SDWIS, ' \n",
    "        if ( row['RCRA_FLAG'] == 'Y' ):\n",
    "            text += 'RCRA, ' \n",
    "        if ( row['TRI_FLAG'] == 'Y' ):\n",
    "            text += 'TRI, ' \n",
    "        if ( row['GHG_FLAG'] == 'Y' ):\n",
    "            text += 'GHG, ' \n",
    "    return text\n",
    "    \n",
    "def mapper(df):\n",
    "    # Initialize the map\n",
    "    center = [df.mean()[\"FAC_LAT\"], df.mean()[\"FAC_LONG\"]]\n",
    "    m = folium.Map(\n",
    "        location = center,\n",
    "    )\n",
    "\n",
    "    # Add a clickable marker for each facility\n",
    "    i = 0\n",
    "    for index, row in df.iterrows():\n",
    "        # Make sure the FAC_NAME is not NaN, which is interpreted as a number.\n",
    "        if ( type( row['FAC_NAME'] == str )) :\n",
    "            folium.Marker(\n",
    "                location = [row[\"FAC_LAT\"], row[\"FAC_LONG\"]],\n",
    "                popup = marker_text( row )).add_to(m)\n",
    "            i += 1\n",
    "        if ( i > 400 ):    # The map won't display with too many markers.\n",
    "            break\n",
    "            \n",
    "    bounds = m.get_bounds()\n",
    "    m.fit_bounds(bounds)\n",
    "    \n",
    "    # Show the map\n",
    "    return m\n",
    "\n",
    "df_to_map = echo_data\n",
    "if ( len(df_to_map) > 400 ):\n",
    "    df_to_map = echo_data[echo_data[\"FAC_QTRS_WITH_NC\"] > 0].sort_values(by=\"FAC_QTRS_WITH_NC\", ascending=False)\n",
    "    \n",
    "map_of_facilities = mapper(df_to_map)\n",
    "map_of_facilities"
   ]
  },
  {
   "cell_type": "markdown",
   "metadata": {},
   "source": [
    "## In this section you may save the region's data to your computer.\n",
    "This next cell allows you to save the data from ECHO_EXPORTER for your chosen region to your computer.\n",
    "\n",
    "_Note: When you click on [] in the cell, it may continue to show \\*. That's to be expected! Check your Downloads folder and confirm that the spreadsheet was succesfully exported. Hit the square button (Interrupt Kernel) at the top of the page. You can now choose to export other data sets from the dropdown..._"
   ]
  },
  {
   "cell_type": "markdown",
   "metadata": {},
   "source": [
    "We need to set up some data structures in this next cell that will be used in the remainder of the report."
   ]
  },
  {
   "cell_type": "markdown",
   "metadata": {},
   "source": [
    "## Graph program-specific data for all the facilities in the region.\n",
    "### First, choose the program (Air, Water, or RCRA) and type of data (Violations, Inspections, Enforcement) you want to explore\n",
    "\n",
    "Running the code below will show you a dropdown you can use to make a selection. **Inspections** or **evaluations** are usually the first phase in the enforcement pipeline, how many (but not all) violations are discovered.  **Violations** happen when a facilty is found to be out of compliance with an environmental law, often by violating the terms of its permit issued under that law.  **Enforcement actions** happen when the regulating agency decides to initiate a \"case\" against a firm for its violation of an environmental law, either by considering some administrative penalty such as a fine or by taking the violator to court. \n",
    "\n",
    "What's available for you to look at here:\n",
    "\n",
    "Hazardous and Other Waste:\n",
    "- RCRA_EVALUATIONS = Inspections under RCRA\n",
    "- RCRA_VIOLATIONS = Violations of RCRA rules\n",
    "- RCRA_ENFORCEMENTS = Enforcement actions taken by state agencies and the EPA\n",
    "\n",
    "Here's where you can find definitions of terms used in the columns of RCRA data: \n",
    "https://echo.epa.gov/tools/data-downloads/rcrainfo-download-summary \n",
    "- ~~ICIS_FEC_EPA_INSPECTIONS = Cross-program, federally-led inspections~~ (TBD)  \n",
    "- ~~CASE_FACILITIES = Cross-program enforcements~~ (TBD)\n",
    "\n",
    "Air:\n",
    "- ICIS-AIR_VIOLATION_HISTORY = CAA violations\n",
    "- ICIS-AIR_FCES_PCES = Both state and federal CAA compliance evaluations\n",
    "- ICIS-AIR_FORMAL_ACTIONS = CAA formal enforcement actions\n",
    "\n",
    "Here's where you can find definitions of terms used in the columns of Clean Air Act data: \n",
    "https://echo.epa.gov/tools/data-downloads/icis-air-download-summary\n",
    "\n",
    "Water (National Pollutant Discharge Elimination System, or NPDES):\n",
    "- NPDES_QNCR_HISTORY = CWA Quarterly Non-Compliance History\n",
    "- NPDES_INSPECTIONS = CWA Inspections\n",
    "- NPDES_FORMAL_ENFORCEMENT_ACTIONS = CWA Enforcements\n",
    "\n",
    "Here's where you can find definitions of terms used in the columns of Clean Water Act data: https://echo.epa.gov/tools/data-downloads/icis-npdes-download-summary\n",
    "\n",
    "\n",
    "Drinking Water (Safe Drinking Water Act, or SDWA):\n",
    "- SDWA_PUB_WATER_SYSTEMS = Public Water Systems under Safe Drinking Water Act\n",
    "- SDWA_SITE_VISITS = Safe Drinking Water Site Visits\n",
    "- SDWA_VIOLATIONS = Safe Drinking Water Violations\n",
    "- SDWA_SERIOUS_VIOLATORS = Safe Drinking Water Serious Violators\n",
    "- SDWA_ENFORCEMENTS = Safe Drinking Water Enforcements\n",
    "- SDWA_RETURN_TO_COMPLIANCE = Safe Drinking Water Return to Compliance\n",
    "\n",
    "Here's where you can find definitions of terms used in the columns of Clean Water Act data: https://echo.epa.gov/tools/data-downloads/sdwa-download-summary\n",
    "\n"
   ]
  },
  {
   "cell_type": "code",
   "execution_count": null,
   "metadata": {
    "scrolled": false
   },
   "outputs": [],
   "source": [
    "# Create a DataSet object for each of the programs we track.  \n",
    "# Initialize each one with the information it needs to do its query\n",
    "# of the database.\n",
    "# Store the DataSet objects in a dictionary with keys being the\n",
    "# friendly names of the program, which will be used in selection\n",
    "# widgets.\n",
    "\n",
    "data_sets = {}\n",
    "ds = DataSet( name='RCRA Violations', idx_field='ID_NUMBER', \n",
    "                table_name='RCRA_VIOLATIONS', echo_type=\"RCRA\",\n",
    "                date_field='DATE_VIOLATION_DETERMINED', date_format='%m/%d/%Y')\n",
    "data_sets[ ds.name ] = ds\n",
    "ds = DataSet( name='RCRA Inspections', idx_field='ID_NUMBER', \n",
    "                table_name='RCRA_EVALUATIONS', echo_type=\"RCRA\",\n",
    "                date_field='EVALUATION_START_DATE', date_format='%m/%d/%Y')\n",
    "data_sets[ ds.name ] = ds\n",
    "ds = DataSet( name='RCRA Enforcements',  echo_type=\"RCRA\",\n",
    "                table_name='RCRA_ENFORCEMENTS', idx_field='ID_NUMBER', \n",
    "                date_field='EVALUATION_START_DATE', date_format='%m/%d/%Y' )\n",
    "data_sets[ ds.name ] = ds\n",
    "# Special sql queries needed for Air Inspections and Air Enforcements\n",
    "my_sql = \"select * from `ICIS_FEC_EPA_INSPECTIONS` where REGISTRY_ID in \"\n",
    "ds = DataSet( name='Air Inspections', echo_type=\"AIR\",\n",
    "                table_name='ICIS_FEC_EPA_INSPECTIONS', idx_field='REGISTRY_ID', \n",
    "                date_field='ACTUAL_END_DATE', date_format='%m/%d/%Y', sql=my_sql )\n",
    "data_sets[ ds.name ] = ds\n",
    "my_sql = \"select * from `CASE_FACILITIES` CF, `CASE_ENFORCEMENTS` CE \" + \\\n",
    "            \" where CE.HQ_DIVISION = 'AIR' and CE.CASE_NUMBER = CF.CASE_NUMBER and \" + \\\n",
    "            \" CF.REGISTRY_ID in \"\n",
    "ds = DataSet( name='Air Enforcements',  echo_type=\"AIR\",\n",
    "                table_name='CASE_ENFORCEMENTS', idx_field='REGISTRY_ID',\n",
    "                date_field='FISCAL_YEAR', date_format='%Y', sql=my_sql )\n",
    "data_sets[ ds.name ] = ds\n",
    "ds = DataSet( name='Air Violations',  echo_type=\"AIR\",\n",
    "                table_name='ICIS-AIR_VIOLATION_HISTORY', idx_field='PGM_SYS_ID', \n",
    "                date_field='HPV_DAYZERO_DATE', date_format='%m-%d-%Y' )\n",
    "data_sets[ ds.name ] = ds\n",
    "ds = DataSet( name='Air Formal Actions', echo_type=\"AIR\",\n",
    "                table_name='ICIS-AIR_FORMAL_ACTIONS', idx_field='PGM_SYS_ID',\n",
    "                date_field='SETTLEMENT_ENTERED_DATE', date_format='%m/%d/%Y' )\n",
    "data_sets[ ds.name ] = ds\n",
    "ds = DataSet( name='Air Compliance', echo_type=\"AIR\",\n",
    "                table_name='ICIS-AIR_FCES_PCES', idx_field='PGM_SYS_ID',\n",
    "                date_field='ACTUAL_END_DATE', date_format='%m-%d-%Y' )\n",
    "data_sets[ ds.name ] = ds\n",
    "ds = DataSet( name='Water Quarterly Violations', echo_type=\"NPDES\",\n",
    "                table_name='NPDES_QNCR_HISTORY', idx_field='NPDES_ID',\n",
    "                date_field='YEARQTR', date_format='%Y' )\n",
    "data_sets[ ds.name ] = ds\n",
    "ds = DataSet( name='Clean Water Inspections', echo_type=\"NPDES\",\n",
    "                table_name='NPDES_INSPECTIONS', idx_field='NPDES_ID',\n",
    "                date_field='ACTUAL_END_DATE', date_format='%m/%d/%Y' )\n",
    "data_sets[ ds.name ] = ds\n",
    "ds = DataSet( name='Clean Water Enforcements', echo_type=\"NPDES\",\n",
    "                table_name='NPDES_FORMAL_ENFORCEMENT_ACTIONS', idx_field='NPDES_ID',\n",
    "                date_field='SETTLEMENT_ENTERED_DATE', date_format='%m/%d/%Y' )\n",
    "data_sets[ ds.name ] = ds\n",
    "ds = DataSet( name='SDWA Site Visits', echo_type=\"SDWA\",\n",
    "                table_name='SDWA_SITE_VISITS', idx_field='PWSID',\n",
    "                date_field='SITE_VISIT_DATE', date_format='%m/%d/%Y' )\n",
    "data_sets[ ds.name ] = ds\n",
    "ds = DataSet( name='SDWA Enforcements', echo_type=\"SDWA\",\n",
    "                table_name='SDWA_ENFORCEMENTS', idx_field='PWSID',\n",
    "                date_field='ENFORCEMENT_DATE', date_format='%m/%d/%Y' )\n",
    "data_sets[ ds.name ] = ds\n",
    "ds = DataSet( name='SDWA Public Water Systems', echo_type=\"SDWA\",\n",
    "                table_name='SDWA_PUB_WATER_SYSTEMS', idx_field='PWSID',\n",
    "                date_field='FISCAL_YEAR', date_format='%Y' )\n",
    "data_sets[ ds.name ] = ds\n",
    "ds = DataSet( name='SDWA Violations', echo_type=\"SDWA\",\n",
    "                table_name='SDWA_VIOLATIONS', idx_field='PWSID',\n",
    "                date_field='FISCAL_YEAR', date_format='%Y' )\n",
    "data_sets[ ds.name ] = ds\n",
    "ds = DataSet( name='SDWA Serious Violators', echo_type=\"SDWA\",\n",
    "                table_name='SDWA_SERIOUS_VIOLATORS', idx_field='PWSID',\n",
    "                date_field='FISCAL_YEAR', date_format='%Y' )\n",
    "data_sets[ ds.name ] = ds\n",
    "ds = DataSet( name='SDWA Return to Compliance', echo_type=\"SDWA\",\n",
    "                table_name='SDWA_RETURN_TO_COMPLIANCE', idx_field='PWSID',\n",
    "                date_field='FISCAL_YEAR', date_format='%Y' )\n",
    "\n",
    "# Only list the data set if it has the correct flag set.\n",
    "data_set_choices = []\n",
    "for k, v in data_sets.items():\n",
    "    if ( v.has_echo_flag( echo_data ) ):\n",
    "        data_set_choices.append( k )\n",
    "\n",
    "# data_set_choices = list( data_sets.keys() )\n",
    "\n",
    "data_set_widget=widgets.Dropdown(\n",
    "    options=list(data_set_choices),\n",
    "    description='Data sets:',\n",
    "    disabled=False,\n",
    ") \n",
    "display(data_set_widget)"
   ]
  },
  {
   "cell_type": "markdown",
   "metadata": {},
   "source": [
    "### Once you've chosen the program and data type you want to focus on...\n",
    "....run the code below, which will access our database and retrieve the information"
   ]
  },
  {
   "cell_type": "code",
   "execution_count": null,
   "metadata": {},
   "outputs": [],
   "source": [
    "program = data_sets[ data_set_widget.value ]\n",
    "ids_string = program.echo_type + '_IDS'\n",
    "ids = list()\n",
    "for index, value in echo_data[ ids_string ].items():\n",
    "    try:\n",
    "        for npdes_id in value.split():\n",
    "            ids.append( npdes_id )\n",
    "    except ( KeyError, AttributeError ) as e:\n",
    "        pass\n",
    "ids"
   ]
  },
  {
   "cell_type": "code",
   "execution_count": null,
   "metadata": {},
   "outputs": [],
   "source": [
    "'LAG670191' in ids\n"
   ]
  },
  {
   "cell_type": "code",
   "execution_count": null,
   "metadata": {
    "scrolled": true
   },
   "outputs": [],
   "source": [
    "program = data_sets[ data_set_widget.value ]\n",
    "\n",
    "ids_string = program.echo_type + '_IDS'\n",
    "ids = list()\n",
    "for index, value in echo_data[ ids_string ].items():\n",
    "    try:\n",
    "        for npdes_id in value.split():\n",
    "            ids.append( npdes_id )\n",
    "    except ( KeyError, AttributeError ) as e:\n",
    "        pass\n",
    "\n",
    "program_data = None\n",
    "# We need to provide a custom sql query and argument for these programs.\n",
    "if ( program.name == \"Air Inspections\" or program.name == \"Air Enforcements\" ):\n",
    "    # The REGISTRY_ID field is the index of the echo_data\n",
    "    # Build a string\n",
    "    registry_ids = echo_data[echo_data['AIR_FLAG'] == 'Y'].index.to_list()\n",
    "    program_data = program.get_data( ee_ids=registry_ids )\n",
    "else:\n",
    "    program_data = program.get_data( ee_ids=ids )\n",
    "\n",
    "program_data"
   ]
  },
  {
   "cell_type": "markdown",
   "metadata": {},
   "source": [
    "## In this section you may save the program data for your region to your computer.\n",
    "This next cell allows you to save the data from the particular program for your chosen region to your computer.\n",
    "\n",
    "_Note: When you click on [] in the cell, it may continue to show \\*. That's to be expected! Check your Downloads folder and confirm that the spreadsheet was succesfully exported. Hit the square button (Interrupt Kernel) at the top of the page. You can now choose to export other data sets from the dropdown..._"
   ]
  },
  {
   "cell_type": "code",
   "execution_count": null,
   "metadata": {},
   "outputs": [],
   "source": [
    "filename = program.name + '-' + str( region_selected )\n",
    "fullpath = filename+'.csv'\n",
    "program_data.to_csv( fullpath ) \n",
    "\n",
    "print( \"Wrote \"+filename+\" to the Google Colab 'Files' menu as %s\" %(fullpath))"
   ]
  },
  {
   "cell_type": "markdown",
   "metadata": {},
   "source": [
    "### Let's make a chart out of this!"
   ]
  },
  {
   "cell_type": "code",
   "execution_count": null,
   "metadata": {},
   "outputs": [],
   "source": [
    "chart_title = program.name + ' - ' + str( region_selected )\n",
    "\n",
    "# Handle NPDES_QNCR_HISTORY because there are multiple counts we need to sum\n",
    "if (program.name == \"Water Quarterly Violations\"): \n",
    "    year = program_data[\"YEARQTR\"].astype(\"str\").str[0:4:1]\n",
    "    program_data[\"YEARQTR\"] = year\n",
    "    d = program_data.groupby(pd.to_datetime(program_data['YEARQTR'], format=\"%Y\").dt.to_period(\"Y\")).sum()\n",
    "    d.index = d.index.strftime('%Y')\n",
    "    d = d[ d.index > '2000' ]\n",
    "    \n",
    "    ax = d.plot(kind='bar', title = chart_title, figsize=(20, 10), fontsize=16)\n",
    "    ax\n",
    "# These data sets use a FISCAL_YEAR field\n",
    "elif (program.name == \"SDWA Public Water Systems\" or program.name == \"SDWA Violations\" or\n",
    "     program.name == \"SDWA Serious Violators\" or program.name == \"SDWA Return to Compliance\"):\n",
    "    year = program_data[\"FISCAL_YEAR\"].astype(\"str\")\n",
    "    program_data[\"FISCAL_YEAR\"] = year\n",
    "    d = program_data.groupby(pd.to_datetime(program_data['FISCAL_YEAR'], format=\"%Y\").dt.to_period(\"Y\"))[['PWS_NAME']].count()\n",
    "    d.index = d.index.strftime('%Y')\n",
    "    d = d[ d.index > '2000' ]\n",
    "    \n",
    "    ax = d.plot(kind='bar', title = chart_title, figsize=(20, 10), fontsize=16)\n",
    "    ax        \n",
    "# All other columns\n",
    "else:\n",
    "    try:\n",
    "        d = program_data.groupby(pd.to_datetime(program_data[program.date_field], format=program.date_format))[[program.date_field]].count()\n",
    "        d = d.resample(\"Y\").count()\n",
    "        d.index = d.index.strftime('%Y')\n",
    "        d = d[ d.index > '2000' ]\n",
    "        \n",
    "        ax = d.plot(kind='bar', title = chart_title, figsize=(20, 10), legend=False, fontsize=16)\n",
    "        ax\n",
    "        \n",
    "    except AttributeError:\n",
    "        print(\"There's no data to chart for \" + program.name + \" !\")"
   ]
  },
  {
   "cell_type": "markdown",
   "metadata": {},
   "source": [
    "### Let's map just the facilities in this selected region monitored under this program."
   ]
  },
  {
   "cell_type": "code",
   "execution_count": null,
   "metadata": {},
   "outputs": [],
   "source": [
    "if ( program.echo_type == 'SDWA' ):\n",
    "    flag = 'SDWIS_FLAG'\n",
    "else:\n",
    "    flag = program.echo_type + '_FLAG'\n",
    "df_to_map = echo_data[ echo_data[ flag ] == 'Y' ]\n",
    "map_of_facilities = mapper(df_to_map)\n",
    "map_of_facilities"
   ]
  },
  {
   "cell_type": "markdown",
   "metadata": {},
   "source": [
    "### If you'd like to look at another dimension of ECHO data for this region...\n",
    "....return to the dropdown menu above and choose a different program/data type, run the database access code, and then chart and map it!\n",
    "\n",
    "---"
   ]
  },
  {
   "cell_type": "markdown",
   "metadata": {},
   "source": [
    "## Choose a specific facility\n",
    "### In the next few blocks of code, you can focus in on just one of these facilities in the region.\n",
    "Run the below cell, then choose a facility from the dropdown that appears."
   ]
  },
  {
   "cell_type": "code",
   "execution_count": null,
   "metadata": {},
   "outputs": [],
   "source": [
    "cd_array = echo_data[\"FAC_NAME\"].dropna().unique()\n",
    "cd_array.sort()\n",
    "\n",
    "fac_widget=widgets.Dropdown(\n",
    "    options=cd_array,\n",
    "    description='Facility Name:',\n",
    "    disabled=False,\n",
    ")\n",
    "display(fac_widget)"
   ]
  },
  {
   "cell_type": "markdown",
   "metadata": {},
   "source": [
    "### The next cell filters the program-specific IDs to get just records for the selected facility."
   ]
  },
  {
   "cell_type": "markdown",
   "metadata": {},
   "source": [
    "### Show the information from one of the data sets for this facility\n",
    "Running this cell will create a dropdown list of the program data sets available specifically for this faciliity. Pick one and then run the second cell to view its contents."
   ]
  },
  {
   "cell_type": "code",
   "execution_count": null,
   "metadata": {},
   "outputs": [],
   "source": [
    "my_fac_name"
   ]
  },
  {
   "cell_type": "code",
   "execution_count": null,
   "metadata": {},
   "outputs": [],
   "source": [
    "my_fac_name = fac_widget.value\n",
    "my_fac = echo_data[echo_data[\"FAC_NAME\"] == my_fac_name]\n",
    "\n",
    "data_set_choices = []\n",
    "for k, v in data_sets.items():\n",
    "    if ( v.has_echo_flag( my_fac ) ):\n",
    "        data_set_choices.append( k )\n",
    "\n",
    "data_set_widget2=widgets.Dropdown(\n",
    "    options=data_set_choices,\n",
    "    description='Data sets:',\n",
    "    disabled=False,\n",
    ")\n",
    "display(data_set_widget2)\n"
   ]
  },
  {
   "cell_type": "markdown",
   "metadata": {},
   "source": [
    "### Let's chart it!"
   ]
  },
  {
   "cell_type": "code",
   "execution_count": null,
   "metadata": {
    "scrolled": true
   },
   "outputs": [],
   "source": [
    "fac_program = data_sets[ data_set_widget2.value ]\n",
    "\n",
    "ids_string = fac_program.echo_type + '_IDS'\n",
    "ids = my_fac.loc[my_fac[ids_string].str.len() >0]    # just give all _IDs and let sql deal with it?\n",
    "ids = ids.loc[:,ids_string].unique()\n",
    "\n",
    "# We need to provide a custom sql query and argument for these programs.\n",
    "if ( fac_program.name == \"Air Inspections\" or program.name == \"Air Enforcements\" ):\n",
    "    # The REGISTRY_ID field is the index of the echo_data\n",
    "    # Build a string\n",
    "    registry_ids = my_fac[my_fac['AIR_FLAG'] == 'Y'].index.to_list()\n",
    "    # breakpoint()\n",
    "    this_data = fac_program.get_data( ee_ids=registry_ids )\n",
    "else:\n",
    "    this_data = fac_program.get_data( ee_ids=ids )\n",
    "if ( this_data is None ):\n",
    "    print( \"There is no {} data for {} \".format( fac_program.name, my_fac_name ))\n",
    "else:\n",
    "    print( this_data )"
   ]
  },
  {
   "cell_type": "code",
   "execution_count": null,
   "metadata": {},
   "outputs": [],
   "source": [
    "# Handle NPDES_QNCR_HISTORY because there are multiple counts we need to sum\n",
    "fac_program_data = this_data\n",
    "chart_title = fac_program.name + ' - ' + my_fac_name\n",
    "\n",
    "if (fac_program.name == \"Water Quarterly Violations\"): \n",
    "    year=fac_program_data[\"YEARQTR\"].astype(\"str\").str[0:4:1]\n",
    "    fac_program_data[\"YEARQTR\"]=year\n",
    "    fac_program_data = fac_program_data.groupby(pd.to_datetime(this_data['YEARQTR'], format=\"%Y\").dt.to_period(\"Y\")).sum()\n",
    "    fac_program_data.index = fac_program_data.index.strftime('%Y')\n",
    "    fac_program_data = fac_program_data[ fac_program_data.index > '2000' ]\n",
    "    \n",
    "    ax = fac_program_data.plot(kind='bar', title = chart_title, figsize=(20, 10), fontsize=16)\n",
    "    ax\n",
    "    \n",
    "# These data sets use a FISCAL_YEAR field\n",
    "elif (fac_program.name==\"SDWA Water Systems\" or fac_program.name==\"SDWA Violations\" or\n",
    "     fac_program.name==\"SDWA Serious Violators\" or fac_program.name==\"SDWA Return to Compliance\"):\n",
    "    year = fac_program_data[\"FISCAL_YEAR\"].astype(\"str\")\n",
    "    fac_program_data[\"FISCAL_YEAR\"] = year\n",
    "    fac_program_data = fac_program_data.groupby(pd.to_datetime(fac_program_data['FISCAL_YEAR'], \n",
    "                                                       format=\"%Y\").dt.to_period(\"Y\"))[['PWS_NAME']].count()\n",
    "    fac_program_data.index = fac_program_data.index.strftime('%Y')\n",
    "    fac_program_data = fac_program_data[ fac_program_data.index > '2000' ]\n",
    "    \n",
    "    ax = fac_program_data.plot(kind='bar', title = chart_title, figsize=(20, 10), fontsize=16)\n",
    "    ax        \n",
    "\n",
    "# All other data sets\n",
    "else: \n",
    "    try:\n",
    "        fac_program_data = fac_program_data.groupby(pd.to_datetime(fac_program_data[fac_program.date_field], \n",
    "                                                           format=fac_program.date_format))[[fac_program.date_field]].count()\n",
    "        fac_program_data = fac_program_data.resample(\"Y\").count()\n",
    "        fac_program_data.index = fac_program_data.index.strftime('%Y')\n",
    "        fac_program_data = fac_program_data[ fac_program_data.index > '2000' ]\n",
    "        \n",
    "        ax = fac_program_data.plot(kind='bar', title = chart_title, \n",
    "                               figsize=(20, 10), legend=False, fontsize=16)\n",
    "        ax\n",
    "        \n",
    "    except AttributeError:\n",
    "        print(\"There's no {} data to chart for {}!\".format( fac_program.name, my_fac_name ))"
   ]
  },
  {
   "cell_type": "markdown",
   "metadata": {},
   "source": [
    "## This section saves this facility's data for this program to your computer.\n",
    "The next cell exports this data to your computer.  You can return to the dropdown to export additional data files.\n",
    "\n",
    "_Note: When you click on [] in the cell, it may continue to show \\*. That's to be expected! Check your Downloads folder and confirm that the spreadsheet was succesfully exported. Hit the square button (Interrupt Kernel) at the top of the page. You can now choose to export other data sets from the dropdown..._"
   ]
  },
  {
   "cell_type": "code",
   "execution_count": null,
   "metadata": {},
   "outputs": [],
   "source": [
    "filename = fac_program.name + '-' + my_fac_name\n",
    "fullpath = filename+'.csv'\n",
    "this_data.to_csv( fullpath ) \n",
    "\n",
    "print( \"Wrote \"+filename+\" to the Google Colab 'Files' menu as %s\" %(fullpath))"
   ]
  },
  {
   "cell_type": "markdown",
   "metadata": {},
   "source": [
    "### Accessing your files\n",
    "Click on the 'Files' tab in the menu on the left-hand side of the notebook (it looks like a folder). You may have to hit 'Refresh' if you don't see your file. Then, you can click on the ... next to your file and choose \"Download\". The CSV spreadsheet will download to wherever your browser usually saves files (e.g. Downloads folder)"
   ]
  },
  {
   "cell_type": "markdown",
   "metadata": {},
   "source": [
    "### If you'd like to look at another dimension of ECHO data for this facility...\n",
    "....return to the dropdown menu above and choose a different program/data type, then chart it!"
   ]
  },
  {
   "cell_type": "code",
   "execution_count": null,
   "metadata": {},
   "outputs": [],
   "source": []
  }
 ],
 "metadata": {
  "kernelspec": {
   "display_name": "Python 3",
   "language": "python",
   "name": "python3"
  },
  "language_info": {
   "codemirror_mode": {
    "name": "ipython",
    "version": 3
   },
   "file_extension": ".py",
   "mimetype": "text/x-python",
   "name": "python",
   "nbconvert_exporter": "python",
   "pygments_lexer": "ipython3",
   "version": "3.7.6"
  }
 },
 "nbformat": 4,
 "nbformat_minor": 4
}
