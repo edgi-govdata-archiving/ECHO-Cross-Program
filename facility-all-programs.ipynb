{
 "cells": [
  {
   "cell_type": "markdown",
   "metadata": {},
   "source": [
    "# Facility Data Deep Dive\n",
    "\n",
    "## Violations, Inspections and Enforcements for the Resource Conservation and Recovery Act (RCRA), Clean Water Act (CWA), Clean Air Act (CAA)\n",
    "\n",
    "This notebook examines ECHO data on inspections, violations and enforcements by EPA, state and other agencies. It uses the following data sets from the ECHO downloadable files:\n",
    "\n",
    "- RCRA_EVALUATIONS = Inspections under RCRA\n",
    "- RCRA_VIOLATIONS = Violations of RCRA rules\n",
    "- RCRA_ENFORCEMENTS = Enforcement actions takenby state agencies and the EPA\n",
    "- ICIS_FEC_EPA_INSPECTIONS = Cross-program, federally-led inspections \n",
    "- CASE_FACILITIES = Cross-program enforcements\n",
    "- ICIS-AIR_VIOLATION_HISTORY = CAA violations\n",
    "- ICIS-AIR_FCES_PCES = Both state and federal CAA compliance evaluations\n",
    "- ICIS-AIR_FORMAL_ACTIONS = CAA formal enforcement actions\n",
    "- NPDES_QNCR_HISTORY = CWA Quarterly Non-Compliance History\n",
    "- NPDES_INSPECTIONS = CWA Inspections\n",
    "- NPDES_FORMAL_ENFORCEMENT_ACTIONS = CWA Enforcements\n",
    "\n",
    "\n",
    "#### A zip code must be chosen using the input widget that is provided."
   ]
  },
  {
   "cell_type": "markdown",
   "metadata": {},
   "source": [
    "## How to Run\n",
    "* If you click on a gray **code** cell, a little “play button” arrow appears on the left. If you click the play button, it will run the code in that cell (“**running** a cell”). The button will animate. When the animation stops, the cell has finished running.\n",
    "![Where to click to run the cell](https://github.com/edgi-govdata-archiving/EEW-Image-Assets/blob/master/Jupyter%20instructions/pressplay.JPG?raw=true)\n",
    "* You may get a warning that the notebook was not authored by Google. We know, we authored them! It’s okay. Click “Run Anyway” to continue. \n",
    "![Error Message](https://github.com/edgi-govdata-archiving/EEW-Image-Assets/blob/master/Jupyter%20instructions/warning-message.JPG?raw=true)\n",
    "* **It is important to run cells in order because they depend on each other.**\n",
    "* Run all of the cells in a Notebook to make a complete report. Please feel free to look at and **learn about each result as you create it**!"
   ]
  },
  {
   "cell_type": "markdown",
   "metadata": {},
   "source": [
    "---\n",
    "---"
   ]
  },
  {
   "cell_type": "markdown",
   "metadata": {},
   "source": [
    "# **Let's begin!**"
   ]
  },
  {
   "cell_type": "markdown",
   "metadata": {},
   "source": [
    "### Hover over the \"[ ]\" on the top left corner of the cell below and you should see a \"play\" button appear. Click on it to run the cell then move to the next one."
   ]
  },
  {
   "cell_type": "markdown",
   "metadata": {},
   "source": [
    "### Run this next cell to create the widget for inputting your zip code. It will create an input field at the bottom. Enter your zip code and then move on to the next cell."
   ]
  },
  {
   "cell_type": "code",
   "execution_count": null,
   "metadata": {},
   "outputs": [],
   "source": [
    "# Import libraries\n",
    "import urllib.parse\n",
    "import pandas as pd\n",
    "import numpy as np\n",
    "import matplotlib.pyplot as plt\n",
    "%matplotlib inline\n",
    "import folium\n",
    "\n",
    "def get_data( sql, index_field ):\n",
    "    url='http://apps.tlt.stonybrook.edu/echoepa/?query='\n",
    "    data_location=url+urllib.parse.quote(sql)\n",
    "    ds = pd.read_csv(data_location,encoding='iso-8859-1')\n",
    "    ds.set_index( index_field, inplace=True)\n",
    "    return ds\n",
    " \n",
    "from ipywidgets import interact, interactive, fixed, interact_manual\n",
    "import ipywidgets as widgets\n",
    "\n",
    "from IPython.display import display\n",
    "\n",
    "zip_widget = widgets.IntText(\n",
    "    value=1,\n",
    "    description='Zip Code:',\n",
    "    disabled=False\n",
    ")\n",
    "display( zip_widget )"
   ]
  },
  {
   "cell_type": "markdown",
   "metadata": {},
   "source": [
    "### Run this cell after choosing a zip code. It will pull facility information from the data  in the  ECHO_EXPORTER table."
   ]
  },
  {
   "cell_type": "code",
   "execution_count": null,
   "metadata": {},
   "outputs": [],
   "source": [
    "my_zip = zip_widget.value\n",
    "\n",
    "sql = \"select * from ECHO_EXPORTER where FAC_DERIVED_ZIP = \" + str( my_zip ) #FAC_ZIP?\n",
    "\n",
    "try:\n",
    "    echo_data = get_data( sql, 'REGISTRY_ID' )\n",
    "    num_facilities = echo_data.shape[0]\n",
    "    print(\"\\nThere are %s EPA facilities in Zip code %s tracked in the ECHO database.\" \\\n",
    "          %(num_facilities, my_zip))\n",
    "except pd.errors.EmptyDataError:\n",
    "    print(\"\\nThere are no EPA facilities in this zip code.\\n\")"
   ]
  },
  {
   "cell_type": "markdown",
   "metadata": {},
   "source": [
    "## Create an interactive map of all of the facilities in the area that report to EPA\n",
    "### Once you run this cell, a map should appear. You can zoom in and out, or click on facilities to get their names and the EPA programs that monitor them.\n",
    "\n",
    "The EPA program acronyms are:\n",
    "- CAA = Clean Air Act\n",
    "- CWA = Clean Water Act\n",
    "- SDWIS = Safe Drinking Water Information System\n",
    "- RCRA = Resource Conservation and Recovery Act\n",
    "- TRI = Toxics Release Inventory\n",
    "- GHG = Greenhouse Gas\n",
    "The map won't display if there are too many markers, so only the first 200 are shown."
   ]
  },
  {
   "cell_type": "code",
   "execution_count": null,
   "metadata": {},
   "outputs": [],
   "source": [
    "# [To do:  Use some ECHO_EXPORTER data to pick the top 200 facilities (by some measure) \n",
    "# to map.]\n",
    "\n",
    "# Let's show a quick map of your area and the facilities in it\n",
    "# To-do:  Add some more ECHO_EXPORTER information in the markers.\n",
    "\n",
    "# Put some information with the marker to show the programs that track the facility.\n",
    "def marker_text( row ):\n",
    "    text = \"\"\n",
    "    if ( type( row['FAC_NAME'] == str )) :\n",
    "        try:\n",
    "            text = row[\"FAC_NAME\"] + ' - '\n",
    "        except TypeError:\n",
    "            print( \"A facility was found without name. \")\n",
    "        if ( row['AIR_FLAG'] == 'Y' ):\n",
    "            text += 'CAA, ' \n",
    "        if ( row['NPDES_FLAG'] == 'Y' ):\n",
    "            text += 'CWA, ' \n",
    "        if ( row['SDWIS_FLAG'] == 'Y' ):\n",
    "            text += 'SDWIS, ' \n",
    "        if ( row['RCRA_FLAG'] == 'Y' ):\n",
    "            text += 'RCRA, ' \n",
    "        if ( row['TRI_FLAG'] == 'Y' ):\n",
    "            text += 'TRI, ' \n",
    "        if ( row['GHG_FLAG'] == 'Y' ):\n",
    "            text += 'GHG, ' \n",
    "    return text\n",
    "    \n",
    "def mapper(df):\n",
    "    # Initialize the map\n",
    "    center = [df.mean()[\"FAC_LAT\"], df.mean()[\"FAC_LONG\"]]\n",
    "    m = folium.Map(\n",
    "        location = center,\n",
    "    )\n",
    "\n",
    "    # Add a clickable marker for each facility\n",
    "    i = 0\n",
    "    for index, row in df.iterrows():\n",
    "        # Make sure the FAC_NAME is not NaN, which is interpreted as a number.\n",
    "        if ( type( row['FAC_NAME'] == str )) :\n",
    "            folium.Marker(\n",
    "                location = [row[\"FAC_LAT\"], row[\"FAC_LONG\"]],\n",
    "                popup = marker_text( row )).add_to(m)\n",
    "            i += 1\n",
    "        if ( i > 200 ):    # The map won't display with too many markers.\n",
    "            break\n",
    "            \n",
    "    bounds = m.get_bounds()\n",
    "    m.fit_bounds(bounds)\n",
    "    \n",
    "    # Show the map\n",
    "    return m\n",
    "\n",
    "map_of_facilities_in_zip = mapper(echo_data)\n",
    "map_of_facilities_in_zip"
   ]
  },
  {
   "cell_type": "markdown",
   "metadata": {},
   "source": [
    "## Graph program-specific data for all the facilities in the zip code.\n",
    "### First, choose the program (Air, Water, or RCRA) and type of data (Violations, Inspections, Enforcement) you want to explore\n",
    "\n",
    "Running the code below will show you a dropdown you can use to make a selection. What's available for you to look at here:\n",
    "\n",
    "- RCRA_EVALUATIONS = Inspections under RCRA\n",
    "- RCRA_VIOLATIONS = Violations of RCRA rules\n",
    "- RCRA_ENFORCEMENTS = Enforcement actions takenby state agencies and the EPA\n",
    "- ~~ICIS_FEC_EPA_INSPECTIONS = Cross-program, federally-led inspections~~ (TBD)  \n",
    "- ~~CASE_FACILITIES = Cross-program enforcements~~ (TBD) \n",
    "- ICIS-AIR_VIOLATION_HISTORY = CAA violations\n",
    "- ICIS-AIR_FCES_PCES = Both state and federal CAA compliance evaluations\n",
    "- ICIS-AIR_FORMAL_ACTIONS = CAA formal enforcement actions\n",
    "- NPDES_QNCR_HISTORY = CWA Quarterly Non-Compliance History\n",
    "- NPDES_INSPECTIONS = CWA Inspections\n",
    "- NPDES_FORMAL_ENFORCEMENT_ACTIONS = CWA Enforcements\n"
   ]
  },
  {
   "cell_type": "code",
   "execution_count": null,
   "metadata": {
    "scrolled": false
   },
   "outputs": [],
   "source": [
    "zip_data_set_widget=widgets.Dropdown(\n",
    "    options=['RCRA_EVALUATIONS','RCRA_VIOLATIONS', \n",
    "             'RCRA_ENFORCEMENTS', \n",
    "            'ICIS-AIR_VIOLATION_HISTORY', 'ICIS-AIR_FORMAL_ACTIONS',\n",
    "            'ICIS-AIR_FCES_PCES','NPDES_QNCR_HISTORY',\n",
    "            'NPDES_INSPECTIONS','NPDES_FORMAL_ENFORCEMENT_ACTIONS'\n",
    "            ], # TO DO: Add in Case Facilities, 'ICIS_FEC_EPA_INSPECTIONS'. Create a lookup to make the dropdown options more user-friendly, with the actual spreadsheet names on the backend.\n",
    "    description='Data sets:',\n",
    "    disabled=False,\n",
    ") \n",
    "display(zip_data_set_widget)"
   ]
  },
  {
   "cell_type": "markdown",
   "metadata": {},
   "source": [
    "### Once you've chosen the program and data type you want to focus on...\n",
    "....run the code below, which will access our database and retrieve the information"
   ]
  },
  {
   "cell_type": "code",
   "execution_count": null,
   "metadata": {},
   "outputs": [],
   "source": [
    "program = zip_data_set_widget.value\n",
    "\n",
    "# Get id tags from ECHO_EXPORTER for the relevant program\n",
    "code = {\"ICIS\": \"AIR_IDS\", \"NPDES\": \"NPDES_IDS\", \"RCRA\": \"RCRA_IDS\"} # Todo: figure out case enforcements...\n",
    "echo_code = [v for k,v in code.items() if k in zip_data_set_widget.value][0]\n",
    "\n",
    "\n",
    "ids = echo_data.loc[echo_data[echo_code].str.len() >0]    # just give all RCRA_IDs and let sql deal with it?\n",
    "ids = ids.loc[:,echo_code]\n",
    "\n",
    "id_string = \"\"\n",
    "for pos,row in enumerate(ids):\n",
    "    id_string = id_string + \"'\"+row+\"',\"\n",
    "id_string=id_string[:-1] # removes trailing comma\n",
    "#print(id_string)\n",
    "\n",
    "# Translate those id tags into what the specific spreadsheet wants\n",
    "id_tags = {\n",
    "    \"ICIS-AIR_VIOLATION_HISTORY\": \"pgm_sys_id\", \"ICIS-AIR_FCES_PCES\": \"PGM_SYS_ID\", \"ICIS-AIR_FORMAL_ACTIONS\":\"pgm_sys_id\",\n",
    "    \"NPDES_INSPECTIONS\": \"NPDES_ID\", \"NPDES_QNCR_HISTORY\":\"NPDES_ID\",\"NPDES_FORMAL_ENFORCEMENT_ACTIONS\": \"NPDES_ID\",\n",
    "    \"RCRA_EVALUATIONS\": \"ID_NUMBER\",\"RCRA_VIOLATIONS\":\"ID_NUMBER\",\"RCRA_ENFORCEMENTS\":\"ID_NUMBER\"\n",
    "          }\n",
    "index_field=id_tags[program]\n",
    "\n",
    "sql = \"select * from `\"+program+\"` where \"+index_field+\" in (\" + \\\n",
    "            id_string + \")\"\n",
    "\n",
    "data = None\n",
    "\n",
    "try:\n",
    "    data = get_data( sql, index_field )\n",
    "    print( \"Data from \" + program + \" loaded for this zip code!\")    \n",
    "    \n",
    "except pd.errors.EmptyDataError:\n",
    "    print(\"There's no data on \"+program+\" available for this zip code\")\n",
    "    \n",
    "data"
   ]
  },
  {
   "cell_type": "markdown",
   "metadata": {},
   "source": [
    "### Let's make a chart out of this!"
   ]
  },
  {
   "cell_type": "code",
   "execution_count": null,
   "metadata": {},
   "outputs": [],
   "source": [
    "columns = {\n",
    "    \"RCRA_VIOLATIONS\": {\"c\": \"VIOL_DETERMINED_BY_AGENCY\", \"d\": \"DATE_VIOLATION_DETERMINED\", \"f\": \"%m/%d/%Y\"},\n",
    "    \"RCRA_EVALUATIONS\": {\"c\":\"EVALUATION_AGENCY\", \"d\":\"EVALUATION_START_DATE\", \"f\": \"%m/%d/%Y\"},\n",
    "    \"RCRA_ENFORCEMENTS\": {\"c\":\"ENFORCEMENT_TYPE\", \"d\":\"ENFORCEMENT_ACTION_DATE\", \"f\": \"%m/%d/%Y\"},\n",
    "    \"ICIS-AIR_VIOLATION_HISTORY\": {\"c\":\"AGENCY_TYPE_DESC\", \"d\":\"HPV_DAYZERO_DATE\", \"f\": \"%m-%d-%Y\"},\n",
    "    \"ICIS-AIR_FCES_PCES\": {\"c\": \"STATE_EPA_FLAG\", \"d\":\"ACTUAL_END_DATE\", \"f\": \"%m-%d-%Y\"},\n",
    "    \"ICIS-AIR_FORMAL_ACTIONS\":{\"c\": \"STATE_EPA_FLAG\", \"d\":\"SETTLEMENT_ENTERED_DATE\", \"f\": \"%m/%d/%Y\"},\n",
    "    \"NPDES_INSPECTIONS\":{\"c\": \"STATE_EPA_FLAG\", \"d\":\"ACTUAL_END_DATE\", \"f\": \"%m/%d/%Y\"},\n",
    "    \"NPDES_FORMAL_ENFORCEMENT_ACTIONS\":{\"c\": \"AGENCY\", \"d\":\"SETTLEMENT_ENTERED_DATE\", \"f\": \"%m/%d/%Y\"}\n",
    "}\n",
    "\n",
    "# Handle NPDES_QNCR_HISTORY because there are multiple counts we need to sum\n",
    "if (program==\"NPDES_QNCR_HISTORY\"): \n",
    "    year=data[\"YEARQTR\"].astype(\"str\").str[0:4:1]\n",
    "    data[\"YEARQTR\"]=year\n",
    "    d = data.groupby(pd.to_datetime(data['YEARQTR'], format=\"%Y\").dt.to_period(\"Y\")).sum()\n",
    "    d.index = d.index.strftime('%Y')\n",
    "    \n",
    "    ax = d.plot(kind='bar', title = program, figsize=(20, 10), fontsize=16)\n",
    "    ax\n",
    "\n",
    "# All other columns\n",
    "else: \n",
    "    this_columns = columns[program][\"c\"]\n",
    "    this_columns_date = columns[program][\"d\"]\n",
    "    this_columns_date_format = columns[program][\"f\"]\n",
    "    \n",
    "    try:\n",
    "        d = data.groupby(pd.to_datetime(data[this_columns_date], format=this_columns_date_format))[[this_columns]].count()\n",
    "        d = d.resample(\"Y\").count()\n",
    "        d.index = d.index.strftime('%Y')\n",
    "        \n",
    "        ax = d.plot(kind='bar', title = program, figsize=(20, 10), legend=False, fontsize=16)\n",
    "        ax\n",
    "        \n",
    "    except AttributeError:\n",
    "        print(\"There's no data to chart for \"+program+\" !\")"
   ]
  },
  {
   "cell_type": "markdown",
   "metadata": {},
   "source": [
    "### If you'd like to look at another dimension of ECHO data for this zip code...\n",
    "....return to the dropdown menu above and choose a different program/data type, run the database access code, and then chart it!\n",
    "\n",
    "---"
   ]
  },
  {
   "cell_type": "markdown",
   "metadata": {},
   "source": [
    "## Choose a specific facility\n",
    "### In the next few blocks of code, you can focus in on just one of these facilities in the zip code.\n",
    "Run the below cell, then choose a facility from the dropdown that appears."
   ]
  },
  {
   "cell_type": "code",
   "execution_count": null,
   "metadata": {},
   "outputs": [],
   "source": [
    "cd_array = echo_data[\"FAC_NAME\"].dropna().unique()\n",
    "cd_array.sort()\n",
    "\n",
    "fac_widget=widgets.Dropdown(\n",
    "    options=cd_array,\n",
    "    description='Facility Name:',\n",
    "    disabled=False,\n",
    ")\n",
    "display(fac_widget)"
   ]
  },
  {
   "cell_type": "markdown",
   "metadata": {},
   "source": [
    "### The next cell filters the program-specific IDs to get just records for the selected facility."
   ]
  },
  {
   "cell_type": "code",
   "execution_count": null,
   "metadata": {
    "scrolled": true
   },
   "outputs": [],
   "source": [
    "# Keep track of which data sets are retrieved.\n",
    "have_rcra_insp = False\n",
    "have_rcra_viol = False\n",
    "have_rcra_enf = False\n",
    "have_air_insp = False\n",
    "have_air_viol = False\n",
    "have_air_enf = False\n",
    "have_air_formal = False\n",
    "have_air_comp = False\n",
    "have_water_history = False\n",
    "have_water_insp = False\n",
    "have_water_enf = False\n",
    "    \n",
    "my_fac = echo_data[echo_data[\"FAC_NAME\"] == fac_widget.value]\n",
    "if ( my_fac['RCRA_FLAG'].iloc[0] == 'Y' ):\n",
    "    rcra_id_string = my_fac['RCRA_IDS'].tolist()\n",
    "    \n",
    "    try:\n",
    "        sql = \"select * from `RCRA_EVALUATIONS` where ID_NUMBER in ( '\" + \\\n",
    "            \"', '\".join( rcra_id_string[0].split() ) + \"')\"\n",
    "        rcra_insp_data = get_data( sql, \"ID_NUMBER\" )\n",
    "        print( \"Data from RCRA_EVALUATIONS stored in rcra_insp_data.\")\n",
    "        have_rcra_insp = True\n",
    "    except pd.errors.EmptyDataError:\n",
    "        print( \"This is a RCRA-regulated facility, but there's no data for it in the RCRA_EVALUATIONS table.\")\n",
    "    \n",
    "    try:\n",
    "        sql = \"select * from `RCRA_VIOLATIONS` where ID_NUMBER in ( '\" + \\\n",
    "            \"', '\".join( rcra_id_string[0].split() ) + \"')\"\n",
    "        rcra_viol_data = get_data( sql, \"ID_NUMBER\" )\n",
    "        print( \"Data from RCRA_VIOLATIONS stored in rcra_viol_data.\")\n",
    "        have_rcra_viol = True\n",
    "    except pd.errors.EmptyDataError:\n",
    "        print( \"This is a RCRA-regulated facility, but there's no data for it in the RCRA_VIOLATIONS table.\")\n",
    "    \n",
    "    try:\n",
    "        sql = \"select * from `RCRA_ENFORCEMENTS` where ID_NUMBER in ( '\" + \\\n",
    "            \"', '\".join( rcra_id_string[0].split() ) + \"')\"\n",
    "        rcra_enf_data = get_data( sql, \"ID_NUMBER\" )\n",
    "        print( \"Data from RCRA_ENFORCEMENTS stored in rcra_enf_data.\")\n",
    "        have_rcra_enf = True\n",
    "        # print( rcra_enf_data )\n",
    "    except pd.errors.EmptyDataError:\n",
    "        print( \"This is a RCRA-regulated facility, but there's no data for it in the RCRA_ENFORCEMENTS table.\")\n",
    "else:\n",
    "    print (\"This facility does not appear to be regulated under RCRA!\")\n",
    "    \n",
    "if ( my_fac['AIR_FLAG'].iloc[0] == 'Y' ):\n",
    "    air_id_string = my_fac['AIR_IDS'].tolist()\n",
    "    \n",
    "    try:\n",
    "        sql = \"select * from `ICIS_FEC_EPA_INSPECTIONS` where REGISTRY_ID = '\" + \\\n",
    "            str(int( my_fac.index[0] )) + \"'\"\n",
    "        air_insp_data = get_data( sql, \"ID_NUMBER\" )\n",
    "        print( \"Data from ICIS_FEC_EPA_INSPECTIONS stored in air_insp_data.\")\n",
    "        have_air_insp = True\n",
    "        # print( air_insp_data )\n",
    "    except pd.errors.EmptyDataError:\n",
    "        print( \"This is a CAA-regulated facility, but there's no data for it in the ICIS_FEC_EPA_INSPECTIONS table.\")\n",
    "   \n",
    "    try:\n",
    "        sql = \"select * from `ICIS-AIR_VIOLATION_HISTORY` where PGM_SYS_ID in ( '\" + \\\n",
    "            \"', '\".join( air_id_string[0].split() ) + \"')\"\n",
    "        air_viol_data = get_data( sql, \"pgm_sys_id\" )\n",
    "        print( \"Data from ICIS-AIR_VIOLATION_HISTORY stored in air_viol_data.\")\n",
    "        have_air_viol = True\n",
    "        # print( air_viol_data )\n",
    "    except pd.errors.EmptyDataError:\n",
    "        print( \"This is a CAA-regulated facility, but there's no data for it in the ICIS-AIR_VIOLATION_HISTORY table.\")\n",
    "    \n",
    "    try:\n",
    "        sql = \"select * from `CASE_FACILITIES` CF, `CASE_ENFORCEMENTS` CE \" + \\\n",
    "            \" where CE.HQ_DIVISION = 'AIR' and CE.CASE_NUMBER = CF.CASE_NUMBER and \" + \\\n",
    "            \" CF.REGISTRY_ID = '\" + str(int( my_fac.index[0] )) + \"'\"\n",
    "        air_enf_data = get_data( sql, \"REGISTRY_ID\" )\n",
    "        print( \"Data from CASE_ENFORCEMENTS stored in air_enf_data.\")\n",
    "        have_air_enf = True\n",
    "        # print( air_enf_data )\n",
    "    except pd.errors.EmptyDataError:\n",
    "        print( \"This is a CAA-regulated facility, but there's no data for it in the CASE_ENFORCEMENTS table.\")    \n",
    "\n",
    "    try:\n",
    "        sql = \"select * from `ICIS-AIR_FORMAL_ACTIONS` where PGM_SYS_ID in ( '\" + \\\n",
    "            \"', '\".join( air_id_string[0].split() ) + \"')\"\n",
    "        air_formal_data = get_data( sql, \"pgm_sys_id\" )\n",
    "        print( \"Data from ICIS-AIR_FORMAL_ACTIONS stored in air_formal_data.\")\n",
    "        have_air_formal = True\n",
    "        # print( air_formal_data )\n",
    "    except pd.errors.EmptyDataError:\n",
    "        print( \"This is a CAA-regulated facility, but there's no data for it in the ICIS-AIR_FORMAL_ACTIONS table.\")\n",
    "    \n",
    "    try:\n",
    "        sql = \"select * from `ICIS-AIR_FCES_PCES` where PGM_SYS_ID in ( '\" + \\\n",
    "            \"', '\".join( air_id_string[0].split() ) + \"')\"\n",
    "        air_comp_data = get_data( sql, \"PGM_SYS_ID\" )\n",
    "        print( \"Data from ICIS-AIR_FCES_PCES stored in air_comp_data.\")\n",
    "        have_air_comp = True\n",
    "        # print( air_comp_data )\n",
    "    except pd.errors.EmptyDataError:\n",
    "        print( \"This is a CAA-regulated facility, but there's no data for it in the ICIS-AIR_FCES_PCES table.\")\n",
    "else:\n",
    "    print (\"This facility does not appear to be regulated under the CAA!\")\n",
    "    \n",
    "if ( my_fac['NPDES_FLAG'].iloc[0] == 'Y' ):\n",
    "    water_id_string = my_fac['NPDES_IDS'].tolist()\n",
    "    \n",
    "    try:\n",
    "        sql = \"select * from `NPDES_QNCR_HISTORY` where NPDES_ID in ( '\" + \\\n",
    "            \"', '\".join( water_id_string[0].split() ) + \"')\"\n",
    "        water_history_data = get_data( sql, \"NPDES_ID\" )\n",
    "        print( \"Data from NPDES_QNCR_HISTORY stored in water_history_data.\")\n",
    "        have_water_history = True\n",
    "        # print( water_insp_data )\n",
    "    except pd.errors.EmptyDataError:\n",
    "        print( \"This is a CWA-regulated facility, but there's no data for it in the NPDES_QNCR_HISTORY table.\")\n",
    "    \n",
    "    try:\n",
    "        sql = \"select * from `NPDES_INSPECTIONS` where NPDES_ID in ( '\" + \\\n",
    "            \"', '\".join( water_id_string[0].split() ) + \"')\"\n",
    "        water_insp_data = get_data( sql, \"NPDES_ID\" )\n",
    "        print( \"Data from NPDES_INSPECTIONS stored in water_insp_data.\")\n",
    "        have_water_insp = True\n",
    "        # print( water_insp_data )\n",
    "    except pd.errors.EmptyDataError:\n",
    "        print( \"This is a CWA-regulated facility, but there's no data for it in the NPDES_INSPECTIONS table.\")\n",
    "\n",
    "    try:\n",
    "        sql = \"select * from `NPDES_FORMAL_ENFORCEMENT_ACTIONS` where NPDES_ID in ( '\" + \\\n",
    "            \"', '\".join( water_id_string[0].split() ) + \"')\"\n",
    "        water_enf_data = get_data( sql, \"NPDES_ID\" )\n",
    "        print( \"Data from NPDES_FORMAL_ENFORCEMENT_ACTIONS stored in water_enf_data.\")\n",
    "        have_water_enf = True\n",
    "        # print( water_enf_data )\n",
    "    except pd.errors.EmptyDataError:\n",
    "        print( \"This is a CWA-regulated facility, but there's no data for it in the NPDES_FORMAL_ENFORCEMENT_ACTIONS table.\")\n",
    "else:\n",
    "    print (\"This facility does not appear to be regulated under the CWA!\")\n",
    "        "
   ]
  },
  {
   "cell_type": "markdown",
   "metadata": {},
   "source": [
    "### Show the information from one of the data sets for this facility\n",
    "Running this cell will create a dropdown list of the program data sets available specifically for this faciliity. Pick one and then run the second cell to view its contents."
   ]
  },
  {
   "cell_type": "code",
   "execution_count": null,
   "metadata": {},
   "outputs": [],
   "source": [
    "data_set_dict = { \"ECHO_EXPORTER\" : my_fac }\n",
    "if ( have_rcra_insp ):\n",
    "    data_set_dict[\"RCRA Inspections\"] = rcra_insp_data\n",
    "if ( have_rcra_viol ):\n",
    "    data_set_dict[\"RCRA Violations\"] = rcra_viol_data\n",
    "if ( have_rcra_enf ):\n",
    "    data_set_dict[\"RCRA Enforcements\"] = rcra_enf_data\n",
    "if ( have_air_insp ):\n",
    "    data_set_dict[\"Air Inspections\"] = air_insp_data\n",
    "if ( have_air_viol ):\n",
    "    data_set_dict[\"Air Violations\"] = air_viol_data\n",
    "if ( have_air_enf ):\n",
    "    data_set_dict[\"Air Enforcements\"] = air_enf_data\n",
    "if ( have_air_formal ):\n",
    "    data_set_dict[\"Air Formal Actions\"] = air_formal_data\n",
    "if ( have_air_comp ):\n",
    "    data_set_dict[\"Air Compliance\"] = air_comp_data\n",
    "if ( have_water_history ):\n",
    "    data_set_dict[\"Water QNCR History\"] = water_history_data\n",
    "if ( have_water_insp ):\n",
    "    data_set_dict[\"Water Inspections\"] = water_insp_data\n",
    "if ( have_water_enf ):\n",
    "    data_set_dict[\"Water Enforcements\"] = water_enf_data\n",
    "\n",
    "data_set_widget=widgets.Dropdown(\n",
    "    options=list(data_set_dict.keys()),\n",
    "    description='Data sets:',\n",
    "    disabled=False,\n",
    ")\n",
    "display(data_set_widget)"
   ]
  },
  {
   "cell_type": "code",
   "execution_count": null,
   "metadata": {
    "scrolled": true
   },
   "outputs": [],
   "source": [
    "print( \"Showing %s data for the chosen facility\" %( data_set_widget.value ))\n",
    "data_set_dict[data_set_widget.value]"
   ]
  },
  {
   "cell_type": "markdown",
   "metadata": {},
   "source": [
    "### Let's chart it!"
   ]
  },
  {
   "cell_type": "code",
   "execution_count": null,
   "metadata": {},
   "outputs": [],
   "source": [
    "program = data_set_widget.value\n",
    "this_data = data_set_dict[program]\n",
    "\n",
    "columns = {\n",
    "    \"ECHO_EXPORTER\": {\"c\": \"FAC_INSPECTION_COUNT\", \"d\": \"FAC_DATE_LAST_INSPECTION\", \"f\":\"%m/%d/%Y\"},\n",
    "    \"RCRA Violations\": {\"c\": \"VIOL_DETERMINED_BY_AGENCY\", \"d\": \"DATE_VIOLATION_DETERMINED\", \"f\": \"%m/%d/%Y\"},\n",
    "    \"RCRA Inspections\": {\"c\":\"EVALUATION_AGENCY\", \"d\":\"EVALUATION_START_DATE\", \"f\": \"%m/%d/%Y\"},\n",
    "    \"RCRA Enforcements\": {\"c\":\"ENFORCEMENT_TYPE\", \"d\":\"ENFORCEMENT_ACTION_DATE\", \"f\": \"%m/%d/%Y\"},\n",
    "    \"Air Inspections\": {\"c\":\"AGENCY\", \"d\":\"ACTUAL_END_DATE\", \"f\": \"%m-%d-%Y\"},\n",
    "    \"Air Violations\": {\"c\":\"AGENCY_TYPE_DESC\", \"d\":\"HPV_DAYZERO_DATE\", \"f\": \"%m-%d-%Y\"},\n",
    "    \"Air Enforcements\": {\"c\":\"LEAD\", \"d\":\"FISCAL_YEAR\", \"f\": \"%Y\"},\n",
    "    \"Air Compliance\": {\"c\": \"STATE_EPA_FLAG\", \"d\":\"ACTUAL_END_DATE\", \"f\": \"%m-%d-%Y\"},\n",
    "    \"Air Formal Actions\":{\"c\": \"STATE_EPA_FLAG\", \"d\":\"SETTLEMENT_ENTERED_DATE\", \"f\": \"%m/%d/%Y\"},\n",
    "    \"Water Inspections\":{\"c\": \"STATE_EPA_FLAG\", \"d\":\"ACTUAL_END_DATE\", \"f\": \"%m/%d/%Y\"},\n",
    "    \"Water Enforcements\":{\"c\": \"AGENCY\", \"d\":\"SETTLEMENT_ENTERED_DATE\", \"f\": \"%m/%d/%Y\"}\n",
    "}\n",
    "\n",
    "# Handle NPDES_QNCR_HISTORY because there are multiple counts we need to sum\n",
    "if (program==\"Water QNCR History\"): \n",
    "    year=this_data[\"YEARQTR\"].astype(\"str\").str[0:4:1]\n",
    "    this_data[\"YEARQTR\"]=year\n",
    "    this_data = this_data.groupby(pd.to_datetime(this_data['YEARQTR'], format=\"%Y\").dt.to_period(\"Y\")).sum()\n",
    "    this_data.index = this_data.index.strftime('%Y')\n",
    "    \n",
    "    ax = this_data.plot(kind='bar', title = program, figsize=(20, 10), fontsize=16)\n",
    "    ax\n",
    "\n",
    "# All other columns\n",
    "else: \n",
    "    this_columns = columns[program][\"c\"]\n",
    "    this_columns_date = columns[program][\"d\"]\n",
    "    this_columns_date_format = columns[program][\"f\"]\n",
    "    \n",
    "    try:\n",
    "        this_data = this_data.groupby(pd.to_datetime(this_data[this_columns_date], format=this_columns_date_format))[[this_columns]].count()\n",
    "        this_data = this_data.resample(\"Y\").count()\n",
    "        this_data.index = this_data.index.strftime('%Y')\n",
    "        \n",
    "        ax = this_data.plot(kind='bar', title = program, figsize=(20, 10), legend=False, fontsize=16)\n",
    "        ax\n",
    "        \n",
    "    except AttributeError:\n",
    "        print(\"There's no data to chart for \"+program+\" !\")"
   ]
  },
  {
   "cell_type": "markdown",
   "metadata": {},
   "source": [
    "### If you'd like to look at another dimension of ECHO data for this facility...\n",
    "....return to the dropdown menu above and choose a different program/data type, then chart it!"
   ]
  },
  {
   "cell_type": "markdown",
   "metadata": {},
   "source": [
    "## This section saves the facility data to your computer.\n",
    "The first of the next two cells ask you to select one of the data sets to export from the dropdown list.  The next cell actually exports that data to your computer.  You can return to the dropdown to export additional data files.\n",
    "\n",
    "_Note: When you click on [] in the second cell, it may continue to show \\*. That's to be expected! Check your Downloads folder and confirm that the spreadsheet was succesfully exported. Hit the square button (Interrupt Kernel) at the top of the page. You can now choose to export other data sets from the dropdown..._"
   ]
  },
  {
   "cell_type": "code",
   "execution_count": null,
   "metadata": {
    "scrolled": false
   },
   "outputs": [],
   "source": [
    "data_download_widget=widgets.Dropdown(\n",
    "    options=list(data_set_dict.keys()),\n",
    "    description='Data Sets:',\n",
    "    disabled=False,\n",
    ")\n",
    "display(data_download_widget)"
   ]
  },
  {
   "cell_type": "code",
   "execution_count": null,
   "metadata": {},
   "outputs": [],
   "source": [
    "filename = data_download_widget.value\n",
    "fullpath = filename+'.csv'\n",
    "data_set_dict[data_download_widget.value].to_csv( fullpath ) \n",
    "\n",
    "print( \"Wrote \"+filename+\" to the Google Colab 'Files' menu as %s\" %(fullpath))"
   ]
  },
  {
   "cell_type": "markdown",
   "metadata": {},
   "source": [
    "### Accessing your files\n",
    "Click on the 'Files' tab in the menu on the left-hand side of the notebook (it looks like a folder). You may have to hit 'Refresh' if you don't see your file. Then, you can click on the ... next to your file and choose \"Download\". The CSV spreadsheet will download to wherever your browser usually saves files (e.g. Downloads folder)"
   ]
  },
  {
   "cell_type": "code",
   "execution_count": null,
   "metadata": {},
   "outputs": [],
   "source": []
  }
 ],
 "metadata": {
  "kernelspec": {
   "display_name": "Python 3",
   "language": "python",
   "name": "python3"
  },
  "language_info": {
   "codemirror_mode": {
    "name": "ipython",
    "version": 3
   },
   "file_extension": ".py",
   "mimetype": "text/x-python",
   "name": "python",
   "nbconvert_exporter": "python",
   "pygments_lexer": "ipython3",
   "version": "3.7.7"
  }
 },
 "nbformat": 4,
 "nbformat_minor": 4
}
